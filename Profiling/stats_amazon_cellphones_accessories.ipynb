{
 "cells": [
  {
   "cell_type": "code",
   "execution_count": 1,
   "metadata": {
    "collapsed": true
   },
   "outputs": [],
   "source": [
    "import os, json, gzip, pandas as pd, numpy as np\n",
    "import matplotlib.pyplot as plt"
   ]
  },
  {
   "cell_type": "code",
   "execution_count": 2,
   "outputs": [
    {
     "name": "stdout",
     "output_type": "stream",
     "text": [
      "Amount of reviews:  194439\n",
      "reviewText    They look good and stick good! I just don't li...\n",
      "overall                                                       4\n",
      "Name: 0, dtype: object\n"
     ]
    }
   ],
   "source": [
    "###################################### LOAD DATA #############################################################\n",
    "# !wget http://deepyeti.ucsd.edu/jianmo/amazon/categoryFilesSmall/Cell_Phones_and_Accessories_5.json.gz\n",
    "# l.strip() to prevent the load of empty line\n",
    "# get into pandas dataframe for better data handling\n",
    "input_file = '../Data/reviews_Cell_Phones_and_Accessories_5.json.gz'\n",
    "data = []\n",
    "with gzip.open(input_file) as f:\n",
    "    for l in f:\n",
    "        data.append(json.loads(l.strip()))\n",
    "\n",
    "df = pd.DataFrame.from_dict(data)\n",
    "df = df[['reviewText', 'overall']]\n",
    "\n",
    "print(\"Amount of reviews: \", len(data))\n",
    "\n",
    "print(df.loc[0])"
   ],
   "metadata": {
    "collapsed": false,
    "pycharm": {
     "name": "#%%\n"
    }
   }
  },
  {
   "cell_type": "code",
   "execution_count": 3,
   "outputs": [
    {
     "name": "stdout",
     "output_type": "stream",
     "text": [
      "Before deleting duplicate entries:  194439\n",
      "After deleting duplicate entries:  194226\n",
      "After deleting duplicate review texts:  194186\n"
     ]
    }
   ],
   "source": [
    "############################# DUPLICATE DETECTION & DELETION ##################################################\n",
    "print('Before deleting duplicate entries: ', len(df))\n",
    "df = df.drop_duplicates()\n",
    "print('After deleting duplicate entries: ', len(df))\n",
    "dup = df[df['reviewText'].isin(df['reviewText'][df['reviewText'].duplicated()])]\n",
    "# print(len(dup))\n",
    "# print(dup[5:50])\n",
    "df = df.drop_duplicates(subset=['reviewText'])\n",
    "print('After deleting duplicate review texts: ', len(df))\n",
    "\n",
    "# Sample survey\n",
    "# dup[(dup['reviewText'].str.contains(\"love\") | dup['reviewText'].str.contains(\"Love\") | dup['reviewText'].str.contains(\"LOVE\"))]\n",
    "# dup[(dup['reviewText'].str.contains(\"good\") | dup['reviewText'].str.contains(\"Good\"))]\n",
    "# dup[(dup['reviewText'].str.contains(\"great\") | dup['reviewText'].str.contains(\"Great\"))]\n",
    "# dup[(dup['reviewText'].str.contains(\"ok\") | dup['reviewText'].str.contains(\"OK\"))]\n",
    "# dup[(dup['reviewText'].str.contains(\"nice\") | dup['reviewText'].str.contains(\"Nice\"))]\n",
    "# dup[(dup['reviewText'].str.contains(\"perfect\") | dup['reviewText'].str.contains(\"Perfect\"))]"
   ],
   "metadata": {
    "collapsed": false,
    "pycharm": {
     "name": "#%%\n"
    }
   }
  },
  {
   "cell_type": "code",
   "execution_count": 4,
   "outputs": [
    {
     "name": "stdout",
     "output_type": "stream",
     "text": [
      "Before deleting empty review texts:  194186\n",
      "After deleting empty review texts:  194185\n"
     ]
    }
   ],
   "source": [
    "################################## EMPTY REVIEWS DELETION ######################################################\n",
    "print('Before deleting empty review texts: ', len(df))\n",
    "df = df[df['reviewText'] != '']\n",
    "print('After deleting empty review texts: ', len(df))\n",
    "# df[df['reviewText'].str.contains(\"null\")]"
   ],
   "metadata": {
    "collapsed": false,
    "pycharm": {
     "name": "#%%\n"
    }
   }
  },
  {
   "cell_type": "code",
   "execution_count": 5,
   "outputs": [
    {
     "name": "stdout",
     "output_type": "stream",
     "text": [
      "The longest review text in our sample has 5424 words.\n",
      "Longest review text:\n",
      "\n",
      "91829    This phone seemed nothing short of a dream com...\n",
      "Name: reviewText, dtype: object\n",
      "The shortest review text in our sample has 1 words.\n",
      "Review text with the shortest length of 1 word appearing 74 times.\n"
     ]
    },
    {
     "data": {
      "text/plain": "count    194185.000000\nmean         93.106373\nstd         136.911652\nmin           1.000000\n25%          28.000000\n50%          48.000000\n75%         102.000000\nmax        5424.000000\nName: word_count, dtype: float64"
     },
     "execution_count": 5,
     "metadata": {},
     "output_type": "execute_result"
    },
    {
     "data": {
      "text/plain": "<Figure size 432x288 with 1 Axes>",
      "image/png": "[encoded data removed]"
     },
     "metadata": {},
     "output_type": "display_data"
    }
   ],
   "source": [
    "#################################### WORD COUNT ################################################################\n",
    "df['word_count'] = df['reviewText'].apply(lambda x: len(str(x).split(\" \")))\n",
    "\n",
    "longest_t = df[df['word_count'] == max(df['word_count'])]\n",
    "print('The longest review text in our sample has {} words.'.format(max(df['word_count'])))\n",
    "print('Longest review text:' + '\\n')\n",
    "print(longest_t.reviewText)\n",
    "\n",
    "shortest_t = df[df['word_count'] == min(df['word_count'])]\n",
    "print('The shortest review text in our sample has {} words.'.format(min(df['word_count'])))\n",
    "print('Review text with the shortest length of {} word appearing {} times.'.format(min(df['word_count']), len(shortest_t)))\n",
    "\n",
    "plt.rcParams['figure.facecolor'] = 'white'\n",
    "plt.hist(df['word_count'].value_counts().sort_index(), range=(0,7000), bins=100, log=True)\n",
    "plt.xlabel('Text length')\n",
    "plt.ylabel('Distribution')\n",
    "plt.title('Text lengths in words (Amazon Movie&TV)')\n",
    "\n",
    "df['word_count'].describe()"
   ],
   "metadata": {
    "collapsed": false,
    "pycharm": {
     "name": "#%%\n"
    }
   }
  },
  {
   "cell_type": "code",
   "execution_count": 6,
   "outputs": [
    {
     "name": "stdout",
     "output_type": "stream",
     "text": [
      "5.0    108480\n",
      "4.0     39950\n",
      "3.0     21429\n",
      "1.0     13267\n",
      "2.0     11059\n",
      "Name: overall, dtype: int64\n"
     ]
    },
    {
     "data": {
      "text/plain": "(array([ 13267.,  11059.,  21429.,  39950., 108480.]),\n array([0.5, 1.5, 2.5, 3.5, 4.5, 5.5]),\n <BarContainer object of 5 artists>)"
     },
     "execution_count": 6,
     "metadata": {},
     "output_type": "execute_result"
    },
    {
     "data": {
      "text/plain": "<Figure size 432x288 with 1 Axes>",
      "image/png": "[encoded data removed]"
     },
     "metadata": {},
     "output_type": "display_data"
    }
   ],
   "source": [
    "################################## RATING DISTRIBUTION ###########################################\n",
    "\n",
    "print(df['overall'].value_counts())\n",
    "plt.rcParams['figure.facecolor'] = 'white'\n",
    "plt.xlabel('Class')\n",
    "plt.ylabel('Amount')\n",
    "plt.hist(df['overall'], bins=np.arange(0.5, 6), rwidth=0.5)\n",
    "\n"
   ],
   "metadata": {
    "collapsed": false,
    "pycharm": {
     "name": "#%%\n"
    }
   }
  }
 ],
 "metadata": {
  "kernelspec": {
   "display_name": "Python 3",
   "language": "python",
   "name": "python3"
  },
  "language_info": {
   "codemirror_mode": {
    "name": "ipython",
    "version": 2
   },
   "file_extension": ".py",
   "mimetype": "text/x-python",
   "name": "python",
   "nbconvert_exporter": "python",
   "pygments_lexer": "ipython2",
   "version": "2.7.6"
  }
 },
 "nbformat": 4,
 "nbformat_minor": 0
}