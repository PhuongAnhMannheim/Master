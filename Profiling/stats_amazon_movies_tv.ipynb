{
 "cells": [
  {
   "cell_type": "code",
   "execution_count": 2,
   "outputs": [
    {
     "name": "stdout",
     "output_type": "stream",
     "text": [
      "Data loaded\n",
      "######## Tail: \n",
      "                                                      text  label\n",
      "1697528  wow $269.99 for the entire series on Blu Ray??...    1.0\n",
      "1697529  Finally, the holy grail of tv-on-dvd boxsets i...    5.0\n",
      "1697530  Could this be a true or I'm i dreaming batman ...    5.0\n",
      "1697531  I've been a fan of the series since I was a yo...    5.0\n",
      "1697532  People seriously need to wake up and realize t...    5.0\n",
      "######## GENERAL INFORMATION\n",
      "######## Total: \n",
      "Amount of reviews:  1693051\n",
      "######## DESCRIPTION\n",
      "                                                     text         label\n",
      "count                                             1693051  1.693051e+06\n",
      "unique                                            1693051           NaN\n",
      "top     Carandiru was a true depcition of prison life ...           NaN\n",
      "freq                                                    1           NaN\n",
      "mean                                                  NaN  4.109987e+00\n",
      "std                                                   NaN  1.197786e+00\n",
      "min                                                   NaN  1.000000e+00\n",
      "25%                                                   NaN  4.000000e+00\n",
      "50%                                                   NaN  5.000000e+00\n",
      "75%                                                   NaN  5.000000e+00\n",
      "max                                                   NaN  5.000000e+00\n",
      "######## COMPLETION CHECK\n",
      "Missing Text\n",
      "Missing/Empty review text: 0\n",
      "Missing review text as percentage: 0.00% \n",
      "Missing Label\n",
      "Missing rating information 0\n",
      "Missing rating information as percentage: 0.00%\n",
      "Before deleting empty review texts:  1693051\n",
      "After deleting empty review texts:  1693051\n",
      "######## DUPLICATION CHECK\n",
      "Before deleting duplicate entries:  1693051\n",
      "After deleting duplicate entries:  1693051\n",
      "Before deleting duplicate review texts:  1693051\n",
      "After deleting duplicate review texts:  1693051\n",
      "######## WORD COUNT\n",
      "The shortest review text in our sample has 1 words.\n",
      "Review text with the shortest length of 1 word appearing 80 times.\n",
      "4508             Great111\n",
      "21005             Cool!!!\n",
      "31549      Interesting!!!\n",
      "101312            Awsome!\n",
      "103292           Enjoyed!\n",
      "                ...      \n",
      "1689017             Great\n",
      "1691989            Great!\n",
      "1692685       Hilarious!!\n",
      "1694527            boring\n",
      "1695637     Interesting!!\n",
      "Name: text, Length: 80, dtype: object 4508       5.0\n",
      "21005      5.0\n",
      "31549      4.0\n",
      "101312     5.0\n",
      "103292     5.0\n",
      "          ... \n",
      "1689017    5.0\n",
      "1691989    5.0\n",
      "1692685    5.0\n",
      "1694527    2.0\n",
      "1695637    4.0\n",
      "Name: label, Length: 80, dtype: float64\n",
      "The longest review text in our sample has 6105 words.\n",
      "Longest review text:\n",
      "\n",
      "331753    Well, here comes another one of my long review...\n",
      "Name: text, dtype: object 331753    5.0\n",
      "Name: label, dtype: float64\n",
      "# Less than 10 words: \n",
      "5.0    3709\n",
      "4.0     816\n",
      "3.0     380\n",
      "1.0     218\n",
      "2.0     194\n",
      "Name: label, dtype: int64\n",
      "More than 1000 words: \n",
      "5.0    6443\n",
      "4.0    4210\n",
      "3.0    2125\n",
      "2.0     994\n",
      "1.0     649\n",
      "Name: label, dtype: int64\n",
      "Description of word length:\n",
      "count    1.693051e+06\n",
      "mean     1.646171e+02\n",
      "std      2.084897e+02\n",
      "min      1.000000e+00\n",
      "25%      3.700000e+01\n",
      "50%      8.800000e+01\n",
      "75%      2.110000e+02\n",
      "max      6.105000e+03\n",
      "Name: word_count, dtype: float64\n",
      "######## RATING DISTRIBUTION\n",
      "######### Ratings\n",
      "Description of Ratings:\n",
      "5.0    903621\n",
      "4.0    382258\n",
      "3.0    200930\n",
      "1.0    103993\n",
      "2.0    102249\n",
      "Name: label, dtype: int64\n",
      "5.0    0.533723\n",
      "4.0    0.225781\n",
      "3.0    0.118679\n",
      "1.0    0.061423\n",
      "2.0    0.060393\n",
      "Name: label, dtype: float64\n",
      "Text lowercased\n",
      "Removed everything except alphanumericals\n",
      "######## Numerics:\n",
      "The number of numerics in development sample: 2766595\n",
      "Numerics as percentage of all words in the corpus: 0.99% \n",
      "######## Stop words:\n",
      "The number of stop words in development sample: 134058103\n",
      "Stop words as percentage of all words in the corpus: 48.10% \n"
     ]
    },
    {
     "data": {
      "text/plain": "<Figure size 432x288 with 1 Axes>",
      "image/png": "[encoded data removed]"
     },
     "metadata": {},
     "output_type": "display_data"
    },
    {
     "data": {
      "text/plain": "<Figure size 432x288 with 1 Axes>",
      "image/png": "[encoded data removed]"
     },
     "metadata": {},
     "output_type": "display_data"
    },
    {
     "ename": "TypeError",
     "evalue": "string indices must be integers",
     "output_type": "error",
     "traceback": [
      "\u001B[1;31m---------------------------------------------------------------------------\u001B[0m",
      "\u001B[1;31mTypeError\u001B[0m                                 Traceback (most recent call last)",
      "\u001B[1;32m<ipython-input-2-eaa42d31be8a>\u001B[0m in \u001B[0;36m<module>\u001B[1;34m\u001B[0m\n\u001B[0;32m     56\u001B[0m \u001B[1;31m# STOPWORDS\u001B[0m\u001B[1;33m\u001B[0m\u001B[1;33m\u001B[0m\u001B[1;33m\u001B[0m\u001B[0m\n\u001B[0;32m     57\u001B[0m \u001B[0mpf\u001B[0m\u001B[1;33m.\u001B[0m\u001B[0mget_stop_perc\u001B[0m\u001B[1;33m(\u001B[0m\u001B[0mdf\u001B[0m\u001B[1;33m)\u001B[0m\u001B[1;33m\u001B[0m\u001B[1;33m\u001B[0m\u001B[0m\n\u001B[1;32m---> 58\u001B[1;33m \u001B[0mdf\u001B[0m\u001B[1;33m.\u001B[0m\u001B[0mtext\u001B[0m \u001B[1;33m=\u001B[0m \u001B[1;33m[\u001B[0m\u001B[0mprep\u001B[0m\u001B[1;33m.\u001B[0m\u001B[0mremove_stopwords\u001B[0m\u001B[1;33m(\u001B[0m\u001B[0mline\u001B[0m\u001B[1;33m)\u001B[0m \u001B[1;32mfor\u001B[0m \u001B[0mline\u001B[0m \u001B[1;32min\u001B[0m \u001B[0mdf\u001B[0m\u001B[1;33m.\u001B[0m\u001B[0mtext\u001B[0m\u001B[1;33m]\u001B[0m\u001B[1;33m\u001B[0m\u001B[1;33m\u001B[0m\u001B[0m\n\u001B[0m\u001B[0;32m     59\u001B[0m \u001B[1;33m\u001B[0m\u001B[0m\n\u001B[0;32m     60\u001B[0m \u001B[1;31m# MOST FREQUENT WORDS\u001B[0m\u001B[1;33m\u001B[0m\u001B[1;33m\u001B[0m\u001B[1;33m\u001B[0m\u001B[0m\n",
      "\u001B[1;32m<ipython-input-2-eaa42d31be8a>\u001B[0m in \u001B[0;36m<listcomp>\u001B[1;34m(.0)\u001B[0m\n\u001B[0;32m     56\u001B[0m \u001B[1;31m# STOPWORDS\u001B[0m\u001B[1;33m\u001B[0m\u001B[1;33m\u001B[0m\u001B[1;33m\u001B[0m\u001B[0m\n\u001B[0;32m     57\u001B[0m \u001B[0mpf\u001B[0m\u001B[1;33m.\u001B[0m\u001B[0mget_stop_perc\u001B[0m\u001B[1;33m(\u001B[0m\u001B[0mdf\u001B[0m\u001B[1;33m)\u001B[0m\u001B[1;33m\u001B[0m\u001B[1;33m\u001B[0m\u001B[0m\n\u001B[1;32m---> 58\u001B[1;33m \u001B[0mdf\u001B[0m\u001B[1;33m.\u001B[0m\u001B[0mtext\u001B[0m \u001B[1;33m=\u001B[0m \u001B[1;33m[\u001B[0m\u001B[0mprep\u001B[0m\u001B[1;33m.\u001B[0m\u001B[0mremove_stopwords\u001B[0m\u001B[1;33m(\u001B[0m\u001B[0mline\u001B[0m\u001B[1;33m)\u001B[0m \u001B[1;32mfor\u001B[0m \u001B[0mline\u001B[0m \u001B[1;32min\u001B[0m \u001B[0mdf\u001B[0m\u001B[1;33m.\u001B[0m\u001B[0mtext\u001B[0m\u001B[1;33m]\u001B[0m\u001B[1;33m\u001B[0m\u001B[1;33m\u001B[0m\u001B[0m\n\u001B[0m\u001B[0;32m     59\u001B[0m \u001B[1;33m\u001B[0m\u001B[0m\n\u001B[0;32m     60\u001B[0m \u001B[1;31m# MOST FREQUENT WORDS\u001B[0m\u001B[1;33m\u001B[0m\u001B[1;33m\u001B[0m\u001B[1;33m\u001B[0m\u001B[0m\n",
      "\u001B[1;32m~\\PycharmProjects\\Master\\Scripts\\preprocessing.py\u001B[0m in \u001B[0;36mremove_stopwords\u001B[1;34m(df)\u001B[0m\n\u001B[0;32m    202\u001B[0m \u001B[1;33m\u001B[0m\u001B[0m\n\u001B[0;32m    203\u001B[0m \u001B[1;32mdef\u001B[0m \u001B[0mremove_stopwords\u001B[0m\u001B[1;33m(\u001B[0m\u001B[0mdf\u001B[0m\u001B[1;33m)\u001B[0m\u001B[1;33m:\u001B[0m\u001B[1;33m\u001B[0m\u001B[1;33m\u001B[0m\u001B[0m\n\u001B[1;32m--> 204\u001B[1;33m     \u001B[0mdf\u001B[0m\u001B[1;33m[\u001B[0m\u001B[1;34m'text_prep'\u001B[0m\u001B[1;33m]\u001B[0m \u001B[1;33m=\u001B[0m \u001B[0mdf\u001B[0m\u001B[1;33m[\u001B[0m\u001B[1;34m'text_prep'\u001B[0m\u001B[1;33m]\u001B[0m\u001B[1;33m.\u001B[0m\u001B[0mapply\u001B[0m\u001B[1;33m(\u001B[0m\u001B[1;32mlambda\u001B[0m \u001B[0mx\u001B[0m\u001B[1;33m:\u001B[0m \u001B[1;33m[\u001B[0m\u001B[0mword\u001B[0m \u001B[1;32mfor\u001B[0m \u001B[0mword\u001B[0m \u001B[1;32min\u001B[0m \u001B[0mx\u001B[0m \u001B[1;32mif\u001B[0m \u001B[0mword\u001B[0m \u001B[1;32mnot\u001B[0m \u001B[1;32min\u001B[0m \u001B[0mstops\u001B[0m\u001B[1;33m]\u001B[0m\u001B[1;33m)\u001B[0m\u001B[1;33m\u001B[0m\u001B[1;33m\u001B[0m\u001B[0m\n\u001B[0m\u001B[0;32m    205\u001B[0m     \u001B[0mdf\u001B[0m\u001B[1;33m[\u001B[0m\u001B[1;34m'stopwords'\u001B[0m\u001B[1;33m]\u001B[0m \u001B[1;33m=\u001B[0m \u001B[0mdf\u001B[0m\u001B[1;33m[\u001B[0m\u001B[1;34m'text'\u001B[0m\u001B[1;33m]\u001B[0m\u001B[1;33m.\u001B[0m\u001B[0mapply\u001B[0m\u001B[1;33m(\u001B[0m\u001B[1;32mlambda\u001B[0m \u001B[0mx\u001B[0m\u001B[1;33m:\u001B[0m \u001B[0mlen\u001B[0m\u001B[1;33m(\u001B[0m\u001B[1;33m[\u001B[0m\u001B[0mx\u001B[0m \u001B[1;32mfor\u001B[0m \u001B[0mx\u001B[0m \u001B[1;32min\u001B[0m \u001B[0mnltk\u001B[0m\u001B[1;33m.\u001B[0m\u001B[0mword_tokenize\u001B[0m\u001B[1;33m(\u001B[0m\u001B[0mx\u001B[0m\u001B[1;33m)\u001B[0m \u001B[1;32mif\u001B[0m \u001B[0mx\u001B[0m \u001B[1;32min\u001B[0m \u001B[0mstops\u001B[0m\u001B[1;33m]\u001B[0m\u001B[1;33m)\u001B[0m\u001B[1;33m)\u001B[0m\u001B[1;33m\u001B[0m\u001B[1;33m\u001B[0m\u001B[0m\n\u001B[0;32m    206\u001B[0m     \u001B[0mprint\u001B[0m\u001B[1;33m(\u001B[0m\u001B[1;34m'stopword removal done'\u001B[0m\u001B[1;33m)\u001B[0m\u001B[1;33m\u001B[0m\u001B[1;33m\u001B[0m\u001B[0m\n",
      "\u001B[1;31mTypeError\u001B[0m: string indices must be integers"
     ]
    }
   ],
   "source": [
    "import pandas as pd\n",
    "from Scripts import profiling as pf, cleaning as cl\n",
    "from Scripts import preprocessing as prep\n",
    "\n",
    "df = pd.read_pickle('../Data/amazon_movie.pkl')\n",
    "print('Data loaded')\n",
    "print('######## Tail: ')\n",
    "print(df.tail())\n",
    "\n",
    "print('######## GENERAL INFORMATION')\n",
    "pf.get_review_count(df)\n",
    "pf.get_descr(df)\n",
    "\n",
    "\n",
    "print('######## COMPLETION CHECK')\n",
    "print('Missing Text')\n",
    "pf.get_missing_text(df)\n",
    "print('Missing Label')\n",
    "pf.get_missing_label(df)\n",
    "print('Before deleting empty review texts: ', len(df))\n",
    "df = df[df['text'] != '']\n",
    "print('After deleting empty review texts: ', len(df))\n",
    "\n",
    "\n",
    "print('######## DUPLICATION CHECK')\n",
    "df = cl.remove_duplicates(df)\n",
    "df = cl.remove_dup_text(df)\n",
    "\n",
    "\n",
    "print('######## WORD COUNT')\n",
    "pf.create_word_count(df)\n",
    "pf.get_shortest_review(df)\n",
    "pf.get_longest_review(df)\n",
    "\n",
    "print('# Less than 10 words: ')\n",
    "print(df[df.word_count<10]['label'].value_counts())\n",
    "print('More than 1000 words: ')\n",
    "print(df[df.word_count>1000]['label'].value_counts())\n",
    "\n",
    "pf.show_word_length_dist(df, 'amazon_movie_pkl_textlength_raw_logarithmic', 'Amazon Movies and TV', True)\n",
    "\n",
    "\n",
    "print('######## RATING DISTRIBUTION')\n",
    "pf.show_rating_dist(df, 'amazon_movie_pkl_rating_dist', 'Amazon Movies and TV')\n",
    "\n",
    "# OTHER WORD PROFILINGS\n",
    "df['text'] = [prep.to_lowercase(line) for line in df['text']]\n",
    "print('Text lowercased')\n",
    "df['text'] = df['text'].str.replace('[^a-zA-Z0-9]',' ')\n",
    "print('Removed everything except alphanumericals')\n",
    "df['text'][100]\n",
    "\n",
    "# NUMERICS\n",
    "pf.get_num_perc(df)\n",
    "\n",
    "# STOPWORDS\n",
    "pf.get_stop_perc(df)\n",
    "df.text = [prep.remove_stopwords(line) for line in df.text]\n",
    "\n",
    "# MOST FREQUENT WORDS\n",
    "pf.get_unique_wordstem_count(df)\n",
    "mostcommon = pf.get_mostcommon(df)\n",
    "\n",
    "from collections import Counter\n",
    "corpus = pd.Series(' '.join(df['text']).split())\n",
    "corpus_counts = Counter(corpus)\n",
    "mostcommon = pd.DataFrame(corpus_counts.most_common(100), columns=['Word', 'Frequency'])\n",
    "print(mostcommon[0:50])"
   ],
   "metadata": {
    "collapsed": false,
    "pycharm": {
     "name": "#%%\n"
    }
   }
  },
  {
   "cell_type": "code",
   "execution_count": null,
   "outputs": [],
   "source": [
    "\n",
    "pf.show_word_length_per_label(df)\n"
   ],
   "metadata": {
    "collapsed": false,
    "pycharm": {
     "name": "#%%\n"
    }
   }
  },
  {
   "cell_type": "code",
   "execution_count": 2,
   "outputs": [
    {
     "data": {
      "text/plain": "                                                text  label  word_count  \\\n0  charm version classic dicken tale henri winkle...    4.0          57   \n1  good but not emot move christma carol dicken l...    3.0          24   \n2  get wrong winkler wonder charact actor would r...    3.0          49   \n3  henri winkler good twist classic stori not con...    5.0          30   \n4  one best scroog movi henri winkler outdo cast ...    4.0          28   \n\n   numerics_mix  stopwords  \n0             0         28  \n1             0         10  \n2             3         25  \n3             0         13  \n4             0         12  ",
      "text/html": "<div>\n<style scoped>\n    .dataframe tbody tr th:only-of-type {\n        vertical-align: middle;\n    }\n\n    .dataframe tbody tr th {\n        vertical-align: top;\n    }\n\n    .dataframe thead th {\n        text-align: right;\n    }\n</style>\n<table border=\"1\" class=\"dataframe\">\n  <thead>\n    <tr style=\"text-align: right;\">\n      <th></th>\n      <th>text</th>\n      <th>label</th>\n      <th>word_count</th>\n      <th>numerics_mix</th>\n      <th>stopwords</th>\n    </tr>\n  </thead>\n  <tbody>\n    <tr>\n      <th>0</th>\n      <td>charm version classic dicken tale henri winkle...</td>\n      <td>4.0</td>\n      <td>57</td>\n      <td>0</td>\n      <td>28</td>\n    </tr>\n    <tr>\n      <th>1</th>\n      <td>good but not emot move christma carol dicken l...</td>\n      <td>3.0</td>\n      <td>24</td>\n      <td>0</td>\n      <td>10</td>\n    </tr>\n    <tr>\n      <th>2</th>\n      <td>get wrong winkler wonder charact actor would r...</td>\n      <td>3.0</td>\n      <td>49</td>\n      <td>3</td>\n      <td>25</td>\n    </tr>\n    <tr>\n      <th>3</th>\n      <td>henri winkler good twist classic stori not con...</td>\n      <td>5.0</td>\n      <td>30</td>\n      <td>0</td>\n      <td>13</td>\n    </tr>\n    <tr>\n      <th>4</th>\n      <td>one best scroog movi henri winkler outdo cast ...</td>\n      <td>4.0</td>\n      <td>28</td>\n      <td>0</td>\n      <td>12</td>\n    </tr>\n  </tbody>\n</table>\n</div>"
     },
     "execution_count": 2,
     "metadata": {},
     "output_type": "execute_result"
    }
   ],
   "source": [],
   "metadata": {
    "collapsed": false,
    "pycharm": {
     "name": "#%%\n"
    }
   }
  }
 ],
 "metadata": {
  "kernelspec": {
   "display_name": "Python 3",
   "language": "python",
   "name": "python3"
  },
  "language_info": {
   "codemirror_mode": {
    "name": "ipython",
    "version": 3
   },
   "file_extension": ".py",
   "mimetype": "text/x-python",
   "name": "python",
   "nbconvert_exporter": "python",
   "pygments_lexer": "ipython3",
   "version": "3.6.9"
  },
  "toc": {
   "base_numbering": 1,
   "nav_menu": {},
   "number_sections": true,
   "sideBar": true,
   "skip_h1_title": false,
   "title_cell": "Table of Contents",
   "title_sidebar": "Contents",
   "toc_cell": false,
   "toc_position": {},
   "toc_section_display": true,
   "toc_window_display": false
  },
  "varInspector": {
   "cols": {
    "lenName": 16,
    "lenType": 16,
    "lenVar": 40
   },
   "kernels_config": {
    "python": {
     "delete_cmd_postfix": "",
     "delete_cmd_prefix": "del ",
     "library": "var_list.py",
     "varRefreshCmd": "print(var_dic_list())"
    },
    "r": {
     "delete_cmd_postfix": ") ",
     "delete_cmd_prefix": "rm(",
     "library": "var_list.r",
     "varRefreshCmd": "cat(var_dic_list()) "
    }
   },
   "types_to_exclude": [
    "module",
    "function",
    "builtin_function_or_method",
    "instance",
    "_Feature"
   ],
   "window_display": false
  }
 },
 "nbformat": 4,
 "nbformat_minor": 2
}