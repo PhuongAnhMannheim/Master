{
 "cells": [
  {
   "cell_type": "code",
   "execution_count": 1,
   "outputs": [],
   "source": [
    "import os, json, gzip, pandas as pd, numpy as np\n",
    "import matplotlib.pyplot as plt"
   ],
   "metadata": {
    "collapsed": false,
    "pycharm": {
     "name": "#%%\n"
    }
   }
  },
  {
   "cell_type": "code",
   "execution_count": 2,
   "outputs": [],
   "source": [
    "###################################### LOAD DATA #############################################################\n",
    "# !wget http://deepyeti.ucsd.edu/jianmo/amazon/categoryFilesSmall/Cell_Phones_and_Accessories_5.json.gz\n",
    "# l.strip() to prevent the load of empty line\n",
    "# get into pandas dataframe for better data handling\n",
    "input_file = '../Data/reviews_Movies_and_TV_5.json.gz'\n",
    "data = []\n",
    "with gzip.open(input_file) as f:\n",
    "    for l in f:\n",
    "        data.append(json.loads(l.strip()))\n",
    "\n",
    "df = pd.DataFrame.from_dict(data)\n",
    "df = df[['reviewText', 'overall']]"
   ],
   "metadata": {
    "collapsed": false,
    "pycharm": {
     "name": "#%%\n"
    }
   }
  },
  {
   "cell_type": "code",
   "execution_count": 3,
   "outputs": [
    {
     "name": "stdout",
     "output_type": "stream",
     "text": [
      "Amount of reviews:  1697533\n"
     ]
    }
   ],
   "source": [
    "# total length of dataframe, this number equals total number of review\n",
    "print(\"Amount of reviews: \", len(data))"
   ],
   "metadata": {
    "collapsed": false,
    "pycharm": {
     "name": "#%%\n"
    }
   }
  },
  {
   "cell_type": "code",
   "execution_count": 4,
   "outputs": [
    {
     "name": "stdout",
     "output_type": "stream",
     "text": [
      "reviewText    This is a charming version of the classic Dick...\n",
      "overall                                                       4\n",
      "Name: 0, dtype: object\n"
     ]
    }
   ],
   "source": [
    "# first row of the dataframe\n",
    "print(df.loc[0])"
   ],
   "metadata": {
    "collapsed": false,
    "pycharm": {
     "name": "#%%\n"
    }
   }
  },
  {
   "cell_type": "code",
   "execution_count": 5,
   "outputs": [
    {
     "name": "stdout",
     "output_type": "stream",
     "text": [
      "Before deleting duplicate entries:  1697533\n",
      "After deleting duplicate entries:  1696503\n",
      "Before deleting duplicate review texts:  1696503\n",
      "After deleting duplicate review texts:  1696352\n"
     ]
    }
   ],
   "source": [
    "############################# DUPLICATE DETECTION & DELETION ##################################################\n",
    "print('Before deleting duplicate entries: ', len(df))\n",
    "df = df.drop_duplicates()\n",
    "print('After deleting duplicate entries: ', len(df))\n",
    "dup = df[df['reviewText'].isin(df['reviewText'][df['reviewText'].duplicated()])]\n",
    "# print(len(dup))\n",
    "# print(dup[5:50])\n",
    "print('Before deleting duplicate review texts: ', len(df))\n",
    "df = df.drop_duplicates(subset=['reviewText'])\n",
    "print('After deleting duplicate review texts: ', len(df))\n",
    "\n",
    "# Sample survey\n",
    "# dup[(dup['reviewText'].str.contains(\"love\") | dup['reviewText'].str.contains(\"Love\") | dup['reviewText'].str.contains(\"LOVE\"))]\n",
    "# dup[(dup['reviewText'].str.contains(\"good\") | dup['reviewText'].str.contains(\"Good\"))]\n",
    "# dup[(dup['reviewText'].str.contains(\"great\") | dup['reviewText'].str.contains(\"Great\"))]\n",
    "# dup[(dup['reviewText'].str.contains(\"ok\") | dup['reviewText'].str.contains(\"OK\"))]\n",
    "# dup[(dup['reviewText'].str.contains(\"nice\") | dup['reviewText'].str.contains(\"Nice\"))]\n",
    "# dup[(dup['reviewText'].str.contains(\"perfect\") | dup['reviewText'].str.contains(\"Perfect\"))]"
   ],
   "metadata": {
    "collapsed": false,
    "pycharm": {
     "name": "#%%\n"
    }
   }
  },
  {
   "cell_type": "code",
   "execution_count": 6,
   "outputs": [
    {
     "name": "stdout",
     "output_type": "stream",
     "text": [
      "Before deleting empty review texts:  1696352\n",
      "After deleting empty review texts:  1696351\n"
     ]
    }
   ],
   "source": [
    "################################## EMPTY REVIEWS DELETION ######################################################\n",
    "print('Before deleting empty review texts: ', len(df))\n",
    "df = df[df['reviewText'] != '']\n",
    "print('After deleting empty review texts: ', len(df))\n",
    "# df[df['reviewText'].str.contains(\"null\")]"
   ],
   "metadata": {
    "collapsed": false,
    "pycharm": {
     "name": "#%%\n"
    }
   }
  },
  {
   "cell_type": "code",
   "execution_count": 7,
   "outputs": [],
   "source": [
    "#################################### WORD COUNT ################################################################\n",
    "df['word_count'] = df['reviewText'].apply(lambda x: len(str(x).split(\" \")))"
   ],
   "metadata": {
    "collapsed": false,
    "pycharm": {
     "name": "#%%\n"
    }
   }
  },
  {
   "cell_type": "code",
   "execution_count": 24,
   "outputs": [
    {
     "name": "stdout",
     "output_type": "stream",
     "text": [
      "The longest review text in our sample has 6105 words.\n",
      "Longest review text:\n",
      "\n",
      "331753    Well, here comes another one of my long review...\n",
      "Name: reviewText, dtype: object\n"
     ]
    }
   ],
   "source": [
    "longest_t = df[df['word_count'] == max(df['word_count'])]\n",
    "print('The longest review text in our sample has {} words.'.format(max(df['word_count'])))\n",
    "print('Longest review text:' + '\\n')\n",
    "print(longest_t.reviewText)"
   ],
   "metadata": {
    "collapsed": false,
    "pycharm": {
     "name": "#%%\n"
    }
   }
  },
  {
   "cell_type": "code",
   "execution_count": 23,
   "outputs": [
    {
     "name": "stdout",
     "output_type": "stream",
     "text": [
      "The shortest review text in our sample has 1 words.\n",
      "Review text with the shortest length of 1 word appearing 333 times.\n"
     ]
    }
   ],
   "source": [
    "shortest_t = df[df['word_count'] == min(df['word_count'])]\n",
    "print('The shortest review text in our sample has {} words.'.format(min(df['word_count'])))\n",
    "print('Review text with the shortest length of {} word appearing {} times.'.format(min(df['word_count']), len(shortest_t)))"
   ],
   "metadata": {
    "collapsed": false,
    "pycharm": {
     "name": "#%%\n"
    }
   }
  },
  {
   "cell_type": "code",
   "execution_count": 25,
   "outputs": [
    {
     "data": {
      "text/plain": "1       333\n2       790\n3       863\n4       827\n5       795\n       ... \n5868      1\n5921      1\n5925      2\n5950      1\n6105      1\nName: word_count, Length: 2765, dtype: int64"
     },
     "execution_count": 25,
     "metadata": {},
     "output_type": "execute_result"
    }
   ],
   "source": [
    "df['word_count'].value_counts().sort_index()"
   ],
   "metadata": {
    "collapsed": false,
    "pycharm": {
     "name": "#%%\n"
    }
   }
  },
  {
   "cell_type": "code",
   "execution_count": 28,
   "outputs": [
    {
     "data": {
      "text/plain": "Text(0.5, 1.0, 'Text lengths in words (Amazon Movie&TV)')"
     },
     "execution_count": 28,
     "metadata": {},
     "output_type": "execute_result"
    },
    {
     "data": {
      "text/plain": "<Figure size 432x288 with 1 Axes>",
      "image/png": "[encoded data removed]"
     },
     "metadata": {},
     "output_type": "display_data"
    }
   ],
   "source": [
    "# (df['word_count'].value_counts().sort_index())    #Pandas Series\n",
    "plt.rcParams['figure.facecolor'] = 'white'\n",
    "plt.hist(df['word_count'].value_counts().sort_index(), range=(0,7000), bins=100, log=True)\n",
    "plt.xlabel('Text length')\n",
    "plt.ylabel('Distribution')\n",
    "plt.title('Text lengths in words (Amazon Movie&TV)')"
   ],
   "metadata": {
    "collapsed": false,
    "pycharm": {
     "name": "#%%\n"
    }
   }
  },
  {
   "cell_type": "code",
   "execution_count": 16,
   "outputs": [
    {
     "data": {
      "text/plain": "count    1.696351e+06\nmean     1.643882e+02\nstd      2.084139e+02\nmin      1.000000e+00\n25%      3.600000e+01\n50%      8.800000e+01\n75%      2.110000e+02\nmax      6.105000e+03\nName: word_count, dtype: float64"
     },
     "execution_count": 16,
     "metadata": {},
     "output_type": "execute_result"
    }
   ],
   "source": [
    "df['word_count'].describe()"
   ],
   "metadata": {
    "collapsed": false,
    "pycharm": {
     "name": "#%%\n"
    }
   }
  },
  {
   "cell_type": "code",
   "execution_count": null,
   "outputs": [],
   "source": [
    "################################## RATING DISTRIBUTION ###########################################\n",
    "\n",
    "from matplotlib import pyplot as py\n",
    "print(df['overall'].value_counts())\n",
    "# xticks =[1.0, 2.0, 3.0, 4.0, 5.0, 6.0]\n",
    "# # plt.xticks(np.arange(0.0,6.0,1.0))\n",
    "# plt.xticks(xticks)\n",
    "# plt.hist(df['overall'], xticks, align='left', )\n",
    "plt.rcParams['figure.facecolor'] = 'white'\n",
    "plt.xlabel('Class')\n",
    "plt.ylabel('Amount')\n",
    "plt.hist(df['overall'], bins=np.arange(0.5, 6), rwidth=0.5)"
   ],
   "metadata": {
    "collapsed": false,
    "pycharm": {
     "name": "#%%\n"
    }
   }
  },
  {
   "cell_type": "code",
   "execution_count": null,
   "outputs": [],
   "source": [
    "data = df['overall'].value_counts()\n",
    "fig, ax = plt.subplots()\n",
    "ax.bar(data.index, data.values)"
   ],
   "metadata": {
    "collapsed": false,
    "pycharm": {
     "name": "#%%\n"
    }
   }
  },
  {
   "cell_type": "code",
   "execution_count": null,
   "outputs": [],
   "source": [
    "amounts = data.values\n",
    "print(amounts)\n"
   ],
   "metadata": {
    "collapsed": false,
    "pycharm": {
     "name": "#%%\n"
    }
   }
  },
  {
   "cell_type": "code",
   "execution_count": null,
   "outputs": [],
   "source": [
    "df['unixReviewTime'].count()"
   ],
   "metadata": {
    "collapsed": false,
    "pycharm": {
     "name": "#%%\n"
    }
   }
  },
  {
   "cell_type": "code",
   "execution_count": null,
   "outputs": [],
   "source": [
    "from sklearn.feature_extraction.text import CountVectorizer\n",
    "text = [\"They look good and stick good! I just don't like the rounded shape because I was always bumping it and Siri kept popping up and it was irritating. I just won't buy a product like this again\"]\n",
    "# create the transform\n",
    "vectorizer = CountVectorizer()\n",
    "# tokenize and build vocab\n",
    "vectorizer.fit(text)\n",
    "# summarize\n",
    "vocab = vectorizer.vocabulary_\n",
    "print(len(vocab))"
   ],
   "metadata": {
    "collapsed": false,
    "pycharm": {
     "name": "#%%\n"
    }
   }
  },
  {
   "cell_type": "code",
   "execution_count": null,
   "outputs": [],
   "source": [
    "df['char_count'] = df['reviewText'].apply(lambda review: len(review))"
   ],
   "metadata": {
    "collapsed": false,
    "pycharm": {
     "name": "#%%\n"
    }
   }
  },
  {
   "cell_type": "code",
   "execution_count": null,
   "outputs": [],
   "source": [
    "print(df['word'].value_counts())\n",
    "\n",
    "import matplotlib.pyplot as plt\n",
    "plt.rcParams['figure.facecolor'] = 'white'\n",
    "plt.hist(df['char_count'], bins=100, weights= np.ones(len(df))/len(df))\n",
    "plt.xlabel('Text length')\n",
    "plt.ylabel('Distribution')\n",
    "plt.title('Text lengths  in char')"
   ],
   "metadata": {
    "collapsed": false,
    "pycharm": {
     "name": "#%%\n"
    }
   }
  },
  {
   "cell_type": "code",
   "execution_count": null,
   "outputs": [],
   "source": [
    "special = df[(df['char_count']==4)]\n",
    "# df = df[~(df['reviewText']=='')]\n",
    "print(special)"
   ],
   "metadata": {
    "collapsed": false,
    "pycharm": {
     "name": "#%%\n"
    }
   }
  },
  {
   "cell_type": "code",
   "execution_count": null,
   "outputs": [],
   "source": [
    "print(\"Shape: \", df.shape)"
   ],
   "metadata": {
    "collapsed": false,
    "pycharm": {
     "name": "#%%\n"
    }
   }
  },
  {
   "cell_type": "code",
   "execution_count": null,
   "outputs": [],
   "source": [
    "print(df.info())"
   ],
   "metadata": {
    "collapsed": false,
    "pycharm": {
     "name": "#%%\n"
    }
   }
  },
  {
   "cell_type": "code",
   "execution_count": null,
   "outputs": [],
   "source": [
    "df.describe(include='all')"
   ],
   "metadata": {
    "collapsed": false,
    "pycharm": {
     "name": "#%%\n"
    }
   }
  },
  {
   "cell_type": "code",
   "execution_count": null,
   "outputs": [],
   "source": [
    "print(df['overall'].dtype)"
   ],
   "metadata": {
    "collapsed": false,
    "pycharm": {
     "name": "#%%\n"
    }
   }
  },
  {
   "cell_type": "code",
   "execution_count": null,
   "outputs": [],
   "source": [],
   "metadata": {
    "collapsed": false,
    "pycharm": {
     "name": "#%%\n"
    }
   }
  },
  {
   "cell_type": "code",
   "execution_count": null,
   "outputs": [],
   "source": [
    "print(df[df['char_count']]==0)"
   ],
   "metadata": {
    "collapsed": false,
    "pycharm": {
     "name": "#%%\n"
    }
   }
  },
  {
   "cell_type": "code",
   "execution_count": null,
   "outputs": [],
   "source": [
    "data = []\n",
    "with gzip.open('../Data/reviews_Movies_and_TV_5.json.gz') as f:\n",
    "    for l in f:\n",
    "        data.append(json.loads(l.strip()))\n",
    "\n",
    "# total length of list, this number equals total number of products\n",
    "print(len(data))\n",
    "\n",
    "# first row of the list\n",
    "print(data[0])"
   ],
   "metadata": {
    "collapsed": false,
    "pycharm": {
     "name": "#%%\n"
    }
   }
  },
  {
   "cell_type": "code",
   "execution_count": null,
   "outputs": [],
   "source": [
    "# convert list into pandas dataframe\n",
    "df = pd.DataFrame.from_dict(data)\n",
    "\n",
    "print(len(df))"
   ],
   "metadata": {
    "collapsed": false,
    "pycharm": {
     "name": "#%%\n"
    }
   }
  },
  {
   "cell_type": "code",
   "execution_count": null,
   "outputs": [],
   "source": [
    "df.head()"
   ],
   "metadata": {
    "collapsed": false,
    "pycharm": {
     "name": "#%%\n"
    }
   }
  },
  {
   "cell_type": "code",
   "execution_count": null,
   "outputs": [],
   "source": [
    "print(df.shape)"
   ],
   "metadata": {
    "collapsed": false,
    "pycharm": {
     "name": "#%%\n"
    }
   }
  },
  {
   "cell_type": "code",
   "execution_count": null,
   "outputs": [],
   "source": [
    "print(df.info())"
   ],
   "metadata": {
    "collapsed": false,
    "pycharm": {
     "name": "#%%\n"
    }
   }
  },
  {
   "cell_type": "code",
   "execution_count": null,
   "outputs": [],
   "source": [
    "df.describe(include='all')"
   ],
   "metadata": {
    "collapsed": false,
    "pycharm": {
     "name": "#%%\n"
    }
   }
  },
  {
   "cell_type": "code",
   "execution_count": null,
   "outputs": [],
   "source": [
    "df['overall'].value_counts()"
   ],
   "metadata": {
    "collapsed": false,
    "pycharm": {
     "name": "#%%\n"
    }
   }
  },
  {
   "cell_type": "code",
   "execution_count": null,
   "outputs": [],
   "source": [
    "df['unixReviewTime'].count()"
   ],
   "metadata": {
    "collapsed": false,
    "pycharm": {
     "name": "#%%\n"
    }
   }
  }
 ],
 "metadata": {
  "kernelspec": {
   "display_name": "Python 3",
   "language": "python",
   "name": "python3"
  },
  "language_info": {
   "codemirror_mode": {
    "name": "ipython",
    "version": 3
   },
   "file_extension": ".py",
   "mimetype": "text/x-python",
   "name": "python",
   "nbconvert_exporter": "python",
   "pygments_lexer": "ipython3",
   "version": "3.6.9"
  },
  "toc": {
   "base_numbering": 1,
   "nav_menu": {},
   "number_sections": true,
   "sideBar": true,
   "skip_h1_title": false,
   "title_cell": "Table of Contents",
   "title_sidebar": "Contents",
   "toc_cell": false,
   "toc_position": {},
   "toc_section_display": true,
   "toc_window_display": false
  },
  "varInspector": {
   "cols": {
    "lenName": 16,
    "lenType": 16,
    "lenVar": 40
   },
   "kernels_config": {
    "python": {
     "delete_cmd_postfix": "",
     "delete_cmd_prefix": "del ",
     "library": "var_list.py",
     "varRefreshCmd": "print(var_dic_list())"
    },
    "r": {
     "delete_cmd_postfix": ") ",
     "delete_cmd_prefix": "rm(",
     "library": "var_list.r",
     "varRefreshCmd": "cat(var_dic_list()) "
    }
   },
   "types_to_exclude": [
    "module",
    "function",
    "builtin_function_or_method",
    "instance",
    "_Feature"
   ],
   "window_display": false
  }
 },
 "nbformat": 4,
 "nbformat_minor": 2
}