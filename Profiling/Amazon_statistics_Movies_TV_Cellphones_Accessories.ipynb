{
 "cells": [
  {
   "cell_type": "code",
   "execution_count": 1,
   "metadata": {
    "ExecuteTime": {
     "end_time": "2020-09-06T21:06:03.637078Z",
     "start_time": "2020-09-06T21:06:03.347899Z"
    }
   },
   "outputs": [],
   "source": [
    "import os\n",
    "import json\n",
    "import gzip\n",
    "import pandas as pd\n",
    "from urllib.request import urlopen"
   ]
  },
  {
   "cell_type": "code",
   "execution_count": null,
   "metadata": {},
   "outputs": [],
   "source": [
    "#  get small subset for experimenting\n",
    "# !wget http://deepyeti.ucsd.edu/jianmo/amazon/categoryFilesSmall/Cell_Phones_and_Accessories_5.json.gz"
   ]
  },
  {
   "cell_type": "code",
   "execution_count": 2,
   "metadata": {
    "ExecuteTime": {
     "end_time": "2020-09-06T21:06:12.624016Z",
     "start_time": "2020-09-06T21:06:06.755374Z"
    }
   },
   "outputs": [
    {
     "name": "stdout",
     "output_type": "stream",
     "text": [
      "194439\n",
      "{'reviewerID': 'A30TL5EWN6DFXT', 'asin': '120401325X', 'reviewerName': 'christina', 'helpful': [0, 0], 'reviewText': \"They look good and stick good! I just don't like the rounded shape because I was always bumping it and Siri kept popping up and it was irritating. I just won't buy a product like this again\", 'overall': 4.0, 'summary': 'Looks Good', 'unixReviewTime': 1400630400, 'reviewTime': '05 21, 2014'}\n"
     ]
    }
   ],
   "source": [
    "input = '../Data/reviews_Cell_Phones_and_Accessories_5.json.gz'\n",
    "data = []\n",
    "with gzip.open(input) as f:\n",
    "    for l in f:\n",
    "        data.append(json.loads(l.strip()))\n",
    "    \n",
    "# total length of list, this number equals total number of products\n",
    "print(len(data))\n",
    "\n",
    "# first row of the list\n",
    "print(data[0])"
   ]
  },
  {
   "cell_type": "code",
   "execution_count": 17,
   "metadata": {
    "ExecuteTime": {
     "end_time": "2020-09-06T21:22:36.468687Z",
     "start_time": "2020-09-06T21:22:26.777538Z"
    },
    "scrolled": true
   },
   "outputs": [
    {
     "name": "stdout",
     "output_type": "stream",
     "text": [
      "1697533\n"
     ]
    }
   ],
   "source": [
    "# getting a histogram: how many negative, neutral and positive\n",
    "\n",
    "# convert list into pandas dataframe\n",
    "df = pd.DataFrame.from_dict(data)\n",
    "\n",
    "print(len(df))"
   ]
  },
  {
   "cell_type": "code",
   "execution_count": 18,
   "metadata": {
    "ExecuteTime": {
     "end_time": "2020-09-06T21:23:28.117290Z",
     "start_time": "2020-09-06T21:23:26.530180Z"
    }
   },
   "outputs": [
    {
     "data": {
      "text/html": [
       "<div>\n",
       "<style scoped>\n",
       "    .dataframe tbody tr th:only-of-type {\n",
       "        vertical-align: middle;\n",
       "    }\n",
       "\n",
       "    .dataframe tbody tr th {\n",
       "        vertical-align: top;\n",
       "    }\n",
       "\n",
       "    .dataframe thead th {\n",
       "        text-align: right;\n",
       "    }\n",
       "</style>\n",
       "<table border=\"1\" class=\"dataframe\">\n",
       "  <thead>\n",
       "    <tr style=\"text-align: right;\">\n",
       "      <th></th>\n",
       "      <th>reviewerID</th>\n",
       "      <th>asin</th>\n",
       "      <th>reviewerName</th>\n",
       "      <th>helpful</th>\n",
       "      <th>reviewText</th>\n",
       "      <th>overall</th>\n",
       "      <th>summary</th>\n",
       "      <th>unixReviewTime</th>\n",
       "      <th>reviewTime</th>\n",
       "      <th>text_length</th>\n",
       "    </tr>\n",
       "  </thead>\n",
       "  <tbody>\n",
       "    <tr>\n",
       "      <td>0</td>\n",
       "      <td>ADZPIG9QOCDG5</td>\n",
       "      <td>0005019281</td>\n",
       "      <td>Alice L. Larson \"alice-loves-books\"</td>\n",
       "      <td>[0, 0]</td>\n",
       "      <td>This is a charming version of the classic Dick...</td>\n",
       "      <td>4.0</td>\n",
       "      <td>good version of a classic</td>\n",
       "      <td>1203984000</td>\n",
       "      <td>02 26, 2008</td>\n",
       "      <td>299</td>\n",
       "    </tr>\n",
       "    <tr>\n",
       "      <td>1</td>\n",
       "      <td>A35947ZP82G7JH</td>\n",
       "      <td>0005019281</td>\n",
       "      <td>Amarah Strack</td>\n",
       "      <td>[0, 0]</td>\n",
       "      <td>It was good but not as emotionally moving as t...</td>\n",
       "      <td>3.0</td>\n",
       "      <td>Good but not as moving</td>\n",
       "      <td>1388361600</td>\n",
       "      <td>12 30, 2013</td>\n",
       "      <td>122</td>\n",
       "    </tr>\n",
       "    <tr>\n",
       "      <td>2</td>\n",
       "      <td>A3UORV8A9D5L2E</td>\n",
       "      <td>0005019281</td>\n",
       "      <td>Amazon Customer</td>\n",
       "      <td>[0, 0]</td>\n",
       "      <td>Don't get me wrong, Winkler is a wonderful cha...</td>\n",
       "      <td>3.0</td>\n",
       "      <td>Winkler's Performance was ok at best!</td>\n",
       "      <td>1388361600</td>\n",
       "      <td>12 30, 2013</td>\n",
       "      <td>251</td>\n",
       "    </tr>\n",
       "    <tr>\n",
       "      <td>3</td>\n",
       "      <td>A1VKW06X1O2X7V</td>\n",
       "      <td>0005019281</td>\n",
       "      <td>Amazon Customer \"Softmill\"</td>\n",
       "      <td>[0, 0]</td>\n",
       "      <td>Henry Winkler is very good in this twist on th...</td>\n",
       "      <td>5.0</td>\n",
       "      <td>It's an enjoyable twist on the classic story</td>\n",
       "      <td>1202860800</td>\n",
       "      <td>02 13, 2008</td>\n",
       "      <td>153</td>\n",
       "    </tr>\n",
       "    <tr>\n",
       "      <td>4</td>\n",
       "      <td>A3R27T4HADWFFJ</td>\n",
       "      <td>0005019281</td>\n",
       "      <td>BABE</td>\n",
       "      <td>[0, 0]</td>\n",
       "      <td>This is one of the best Scrooge movies out.  H...</td>\n",
       "      <td>4.0</td>\n",
       "      <td>Best Scrooge yet</td>\n",
       "      <td>1387670400</td>\n",
       "      <td>12 22, 2013</td>\n",
       "      <td>148</td>\n",
       "    </tr>\n",
       "  </tbody>\n",
       "</table>\n",
       "</div>"
      ],
      "text/plain": [
       "       reviewerID        asin                         reviewerName helpful  \\\n",
       "0   ADZPIG9QOCDG5  0005019281  Alice L. Larson \"alice-loves-books\"  [0, 0]   \n",
       "1  A35947ZP82G7JH  0005019281                        Amarah Strack  [0, 0]   \n",
       "2  A3UORV8A9D5L2E  0005019281                      Amazon Customer  [0, 0]   \n",
       "3  A1VKW06X1O2X7V  0005019281           Amazon Customer \"Softmill\"  [0, 0]   \n",
       "4  A3R27T4HADWFFJ  0005019281                                 BABE  [0, 0]   \n",
       "\n",
       "                                          reviewText  overall  \\\n",
       "0  This is a charming version of the classic Dick...      4.0   \n",
       "1  It was good but not as emotionally moving as t...      3.0   \n",
       "2  Don't get me wrong, Winkler is a wonderful cha...      3.0   \n",
       "3  Henry Winkler is very good in this twist on th...      5.0   \n",
       "4  This is one of the best Scrooge movies out.  H...      4.0   \n",
       "\n",
       "                                        summary  unixReviewTime   reviewTime  \\\n",
       "0                     good version of a classic      1203984000  02 26, 2008   \n",
       "1                        Good but not as moving      1388361600  12 30, 2013   \n",
       "2         Winkler's Performance was ok at best!      1388361600  12 30, 2013   \n",
       "3  It's an enjoyable twist on the classic story      1202860800  02 13, 2008   \n",
       "4                              Best Scrooge yet      1387670400  12 22, 2013   \n",
       "\n",
       "   text_length  \n",
       "0          299  \n",
       "1          122  \n",
       "2          251  \n",
       "3          153  \n",
       "4          148  "
      ]
     },
     "execution_count": 18,
     "metadata": {},
     "output_type": "execute_result"
    }
   ],
   "source": [
    "df['text_length'] = df['reviewText'].apply(lambda review: len(review))\n",
    "df.head()"
   ]
  },
  {
   "cell_type": "code",
   "execution_count": 23,
   "metadata": {
    "ExecuteTime": {
     "end_time": "2020-09-06T21:37:21.182322Z",
     "start_time": "2020-09-06T21:37:20.763505Z"
    }
   },
   "outputs": [
    {
     "data": {
      "text/plain": [
       "(-32.766999999999996, 327.66]    673330\n",
       "(327.66, 655.32]                 324405\n",
       "(655.32, 982.98]                 191748\n",
       "(982.98, 1310.64]                130852\n",
       "(1310.64, 1638.3]                 91865\n",
       "                                  ...  \n",
       "(29489.4, 29817.06]                   1\n",
       "(29817.06, 30144.72]                  1\n",
       "(25229.82, 25557.48]                  1\n",
       "(26212.8, 26540.46]                   1\n",
       "(27851.1, 28178.76]                   0\n",
       "Name: text_length, Length: 100, dtype: int64"
      ]
     },
     "execution_count": 23,
     "metadata": {},
     "output_type": "execute_result"
    }
   ],
   "source": [
    "df['text_length'].value_counts(bins = 100)"
   ]
  },
  {
   "cell_type": "code",
   "execution_count": 22,
   "metadata": {
    "ExecuteTime": {
     "end_time": "2020-09-06T21:35:30.170401Z",
     "start_time": "2020-09-06T21:35:29.356114Z"
    }
   },
   "outputs": [
    {
     "data": {
      "text/plain": [
       "Text(0.5, 1.0, 'Text lengths')"
      ]
     },
     "execution_count": 22,
     "metadata": {},
     "output_type": "execute_result"
    },
    {
     "data": {
      "image/png": "[encoded data removed]",
      "text/plain": [
       "<Figure size 432x288 with 1 Axes>"
      ]
     },
     "metadata": {
      "needs_background": "light"
     },
     "output_type": "display_data"
    }
   ],
   "source": [
    "import matplotlib.pyplot as plt\n",
    "plt.hist(df['text_length'], bins=10, weights=np.ones(len(df))/len(df))\n",
    "plt.xlabel('Text length')\n",
    "plt.ylabel('Distribution')\n",
    "plt.title('Text lengths')"
   ]
  },
  {
   "cell_type": "code",
   "execution_count": 4,
   "metadata": {},
   "outputs": [
    {
     "data": {
      "text/html": [
       "<div>\n",
       "<style scoped>\n",
       "    .dataframe tbody tr th:only-of-type {\n",
       "        vertical-align: middle;\n",
       "    }\n",
       "\n",
       "    .dataframe tbody tr th {\n",
       "        vertical-align: top;\n",
       "    }\n",
       "\n",
       "    .dataframe thead th {\n",
       "        text-align: right;\n",
       "    }\n",
       "</style>\n",
       "<table border=\"1\" class=\"dataframe\">\n",
       "  <thead>\n",
       "    <tr style=\"text-align: right;\">\n",
       "      <th></th>\n",
       "      <th>asin</th>\n",
       "      <th>image</th>\n",
       "      <th>overall</th>\n",
       "      <th>reviewText</th>\n",
       "      <th>reviewTime</th>\n",
       "      <th>reviewerID</th>\n",
       "      <th>reviewerName</th>\n",
       "      <th>style</th>\n",
       "      <th>summary</th>\n",
       "      <th>unixReviewTime</th>\n",
       "      <th>verified</th>\n",
       "      <th>vote</th>\n",
       "    </tr>\n",
       "  </thead>\n",
       "  <tbody>\n",
       "    <tr>\n",
       "      <th>0</th>\n",
       "      <td>7508492919</td>\n",
       "      <td>NaN</td>\n",
       "      <td>5.0</td>\n",
       "      <td>Looks even better in person. Be careful to not...</td>\n",
       "      <td>08 4, 2014</td>\n",
       "      <td>A24E3SXTC62LJI</td>\n",
       "      <td>Claudia Valdivia</td>\n",
       "      <td>{'Color:': ' Bling'}</td>\n",
       "      <td>Can't stop won't stop looking at it</td>\n",
       "      <td>1407110400</td>\n",
       "      <td>True</td>\n",
       "      <td>NaN</td>\n",
       "    </tr>\n",
       "    <tr>\n",
       "      <th>1</th>\n",
       "      <td>7508492919</td>\n",
       "      <td>NaN</td>\n",
       "      <td>5.0</td>\n",
       "      <td>When you don't want to spend a whole lot of ca...</td>\n",
       "      <td>02 12, 2014</td>\n",
       "      <td>A269FLZCB4GIPV</td>\n",
       "      <td>sarah ponce</td>\n",
       "      <td>NaN</td>\n",
       "      <td>1</td>\n",
       "      <td>1392163200</td>\n",
       "      <td>True</td>\n",
       "      <td>NaN</td>\n",
       "    </tr>\n",
       "    <tr>\n",
       "      <th>2</th>\n",
       "      <td>7508492919</td>\n",
       "      <td>NaN</td>\n",
       "      <td>3.0</td>\n",
       "      <td>so the case came on time, i love the design. I...</td>\n",
       "      <td>02 8, 2014</td>\n",
       "      <td>AB6CHQWHZW4TV</td>\n",
       "      <td>Kai</td>\n",
       "      <td>NaN</td>\n",
       "      <td>Its okay</td>\n",
       "      <td>1391817600</td>\n",
       "      <td>True</td>\n",
       "      <td>NaN</td>\n",
       "    </tr>\n",
       "    <tr>\n",
       "      <th>3</th>\n",
       "      <td>7508492919</td>\n",
       "      <td>NaN</td>\n",
       "      <td>2.0</td>\n",
       "      <td>DON'T CARE FOR IT.  GAVE IT AS A GIFT AND THEY...</td>\n",
       "      <td>02 4, 2014</td>\n",
       "      <td>A1M117A53LEI8</td>\n",
       "      <td>Sharon Williams</td>\n",
       "      <td>NaN</td>\n",
       "      <td>CASE</td>\n",
       "      <td>1391472000</td>\n",
       "      <td>True</td>\n",
       "      <td>NaN</td>\n",
       "    </tr>\n",
       "    <tr>\n",
       "      <th>4</th>\n",
       "      <td>7508492919</td>\n",
       "      <td>NaN</td>\n",
       "      <td>4.0</td>\n",
       "      <td>I liked it because it was cute, but the studs ...</td>\n",
       "      <td>02 3, 2014</td>\n",
       "      <td>A272DUT8M88ZS8</td>\n",
       "      <td>Bella Rodriguez</td>\n",
       "      <td>NaN</td>\n",
       "      <td>Cute!</td>\n",
       "      <td>1391385600</td>\n",
       "      <td>True</td>\n",
       "      <td>NaN</td>\n",
       "    </tr>\n",
       "  </tbody>\n",
       "</table>\n",
       "</div>"
      ],
      "text/plain": [
       "         asin image  overall  \\\n",
       "0  7508492919   NaN      5.0   \n",
       "1  7508492919   NaN      5.0   \n",
       "2  7508492919   NaN      3.0   \n",
       "3  7508492919   NaN      2.0   \n",
       "4  7508492919   NaN      4.0   \n",
       "\n",
       "                                          reviewText   reviewTime  \\\n",
       "0  Looks even better in person. Be careful to not...   08 4, 2014   \n",
       "1  When you don't want to spend a whole lot of ca...  02 12, 2014   \n",
       "2  so the case came on time, i love the design. I...   02 8, 2014   \n",
       "3  DON'T CARE FOR IT.  GAVE IT AS A GIFT AND THEY...   02 4, 2014   \n",
       "4  I liked it because it was cute, but the studs ...   02 3, 2014   \n",
       "\n",
       "       reviewerID      reviewerName                 style  \\\n",
       "0  A24E3SXTC62LJI  Claudia Valdivia  {'Color:': ' Bling'}   \n",
       "1  A269FLZCB4GIPV       sarah ponce                   NaN   \n",
       "2   AB6CHQWHZW4TV               Kai                   NaN   \n",
       "3   A1M117A53LEI8   Sharon Williams                   NaN   \n",
       "4  A272DUT8M88ZS8   Bella Rodriguez                   NaN   \n",
       "\n",
       "                               summary  unixReviewTime  verified vote  \n",
       "0  Can't stop won't stop looking at it      1407110400      True  NaN  \n",
       "1                                    1      1392163200      True  NaN  \n",
       "2                             Its okay      1391817600      True  NaN  \n",
       "3                                 CASE      1391472000      True  NaN  \n",
       "4                                Cute!      1391385600      True  NaN  "
      ]
     },
     "execution_count": 4,
     "metadata": {},
     "output_type": "execute_result"
    }
   ],
   "source": [
    "df.head()"
   ]
  },
  {
   "cell_type": "code",
   "execution_count": 33,
   "metadata": {},
   "outputs": [
    {
     "name": "stdout",
     "output_type": "stream",
     "text": [
      "(1697533, 9)\n"
     ]
    }
   ],
   "source": [
    "print(df.shape)"
   ]
  },
  {
   "cell_type": "code",
   "execution_count": 35,
   "metadata": {},
   "outputs": [
    {
     "name": "stdout",
     "output_type": "stream",
     "text": [
      "<class 'pandas.core.frame.DataFrame'>\n",
      "RangeIndex: 1697533 entries, 0 to 1697532\n",
      "Data columns (total 9 columns):\n",
      "asin              object\n",
      "helpful           object\n",
      "overall           float64\n",
      "reviewText        object\n",
      "reviewTime        object\n",
      "reviewerID        object\n",
      "reviewerName      object\n",
      "summary           object\n",
      "unixReviewTime    int64\n",
      "dtypes: float64(1), int64(1), object(7)\n",
      "memory usage: 116.6+ MB\n",
      "None\n"
     ]
    }
   ],
   "source": [
    "print(df.info())"
   ]
  },
  {
   "cell_type": "code",
   "execution_count": 12,
   "metadata": {},
   "outputs": [
    {
     "data": {
      "text/html": [
       "<div>\n",
       "<style scoped>\n",
       "    .dataframe tbody tr th:only-of-type {\n",
       "        vertical-align: middle;\n",
       "    }\n",
       "\n",
       "    .dataframe tbody tr th {\n",
       "        vertical-align: top;\n",
       "    }\n",
       "\n",
       "    .dataframe thead th {\n",
       "        text-align: right;\n",
       "    }\n",
       "</style>\n",
       "<table border=\"1\" class=\"dataframe\">\n",
       "  <thead>\n",
       "    <tr style=\"text-align: right;\">\n",
       "      <th></th>\n",
       "      <th>asin</th>\n",
       "      <th>image</th>\n",
       "      <th>overall</th>\n",
       "      <th>reviewText</th>\n",
       "      <th>reviewTime</th>\n",
       "      <th>reviewerID</th>\n",
       "      <th>reviewerName</th>\n",
       "      <th>style</th>\n",
       "      <th>summary</th>\n",
       "      <th>unixReviewTime</th>\n",
       "      <th>verified</th>\n",
       "      <th>vote</th>\n",
       "    </tr>\n",
       "  </thead>\n",
       "  <tbody>\n",
       "    <tr>\n",
       "      <th>count</th>\n",
       "      <td>1128437</td>\n",
       "      <td>27107</td>\n",
       "      <td>1.128437e+06</td>\n",
       "      <td>1127672</td>\n",
       "      <td>1128437</td>\n",
       "      <td>1128437</td>\n",
       "      <td>1128302</td>\n",
       "      <td>605241</td>\n",
       "      <td>1127920</td>\n",
       "      <td>1.128437e+06</td>\n",
       "      <td>1128437</td>\n",
       "      <td>92034</td>\n",
       "    </tr>\n",
       "    <tr>\n",
       "      <th>unique</th>\n",
       "      <td>48186</td>\n",
       "      <td>26559</td>\n",
       "      <td>NaN</td>\n",
       "      <td>931224</td>\n",
       "      <td>4536</td>\n",
       "      <td>157212</td>\n",
       "      <td>122115</td>\n",
       "      <td>30106</td>\n",
       "      <td>527654</td>\n",
       "      <td>NaN</td>\n",
       "      <td>2</td>\n",
       "      <td>440</td>\n",
       "    </tr>\n",
       "    <tr>\n",
       "      <th>top</th>\n",
       "      <td>B00VH88CJ0</td>\n",
       "      <td>[https://images-na.ssl-images-amazon.com/image...</td>\n",
       "      <td>NaN</td>\n",
       "      <td>good</td>\n",
       "      <td>02 18, 2015</td>\n",
       "      <td>A3HFQE02MDPC6I</td>\n",
       "      <td>Amazon Customer</td>\n",
       "      <td>{'Color:': ' Black'}</td>\n",
       "      <td>Five Stars</td>\n",
       "      <td>NaN</td>\n",
       "      <td>True</td>\n",
       "      <td>2</td>\n",
       "    </tr>\n",
       "    <tr>\n",
       "      <th>freq</th>\n",
       "      <td>1684</td>\n",
       "      <td>7</td>\n",
       "      <td>NaN</td>\n",
       "      <td>6566</td>\n",
       "      <td>1399</td>\n",
       "      <td>331</td>\n",
       "      <td>38014</td>\n",
       "      <td>80252</td>\n",
       "      <td>228940</td>\n",
       "      <td>NaN</td>\n",
       "      <td>987324</td>\n",
       "      <td>33213</td>\n",
       "    </tr>\n",
       "    <tr>\n",
       "      <th>mean</th>\n",
       "      <td>NaN</td>\n",
       "      <td>NaN</td>\n",
       "      <td>4.221383e+00</td>\n",
       "      <td>NaN</td>\n",
       "      <td>NaN</td>\n",
       "      <td>NaN</td>\n",
       "      <td>NaN</td>\n",
       "      <td>NaN</td>\n",
       "      <td>NaN</td>\n",
       "      <td>1.440400e+09</td>\n",
       "      <td>NaN</td>\n",
       "      <td>NaN</td>\n",
       "    </tr>\n",
       "    <tr>\n",
       "      <th>std</th>\n",
       "      <td>NaN</td>\n",
       "      <td>NaN</td>\n",
       "      <td>1.231917e+00</td>\n",
       "      <td>NaN</td>\n",
       "      <td>NaN</td>\n",
       "      <td>NaN</td>\n",
       "      <td>NaN</td>\n",
       "      <td>NaN</td>\n",
       "      <td>NaN</td>\n",
       "      <td>4.569215e+07</td>\n",
       "      <td>NaN</td>\n",
       "      <td>NaN</td>\n",
       "    </tr>\n",
       "    <tr>\n",
       "      <th>min</th>\n",
       "      <td>NaN</td>\n",
       "      <td>NaN</td>\n",
       "      <td>1.000000e+00</td>\n",
       "      <td>NaN</td>\n",
       "      <td>NaN</td>\n",
       "      <td>NaN</td>\n",
       "      <td>NaN</td>\n",
       "      <td>NaN</td>\n",
       "      <td>NaN</td>\n",
       "      <td>1.035331e+09</td>\n",
       "      <td>NaN</td>\n",
       "      <td>NaN</td>\n",
       "    </tr>\n",
       "    <tr>\n",
       "      <th>25%</th>\n",
       "      <td>NaN</td>\n",
       "      <td>NaN</td>\n",
       "      <td>4.000000e+00</td>\n",
       "      <td>NaN</td>\n",
       "      <td>NaN</td>\n",
       "      <td>NaN</td>\n",
       "      <td>NaN</td>\n",
       "      <td>NaN</td>\n",
       "      <td>NaN</td>\n",
       "      <td>1.416355e+09</td>\n",
       "      <td>NaN</td>\n",
       "      <td>NaN</td>\n",
       "    </tr>\n",
       "    <tr>\n",
       "      <th>50%</th>\n",
       "      <td>NaN</td>\n",
       "      <td>NaN</td>\n",
       "      <td>5.000000e+00</td>\n",
       "      <td>NaN</td>\n",
       "      <td>NaN</td>\n",
       "      <td>NaN</td>\n",
       "      <td>NaN</td>\n",
       "      <td>NaN</td>\n",
       "      <td>NaN</td>\n",
       "      <td>1.444349e+09</td>\n",
       "      <td>NaN</td>\n",
       "      <td>NaN</td>\n",
       "    </tr>\n",
       "    <tr>\n",
       "      <th>75%</th>\n",
       "      <td>NaN</td>\n",
       "      <td>NaN</td>\n",
       "      <td>5.000000e+00</td>\n",
       "      <td>NaN</td>\n",
       "      <td>NaN</td>\n",
       "      <td>NaN</td>\n",
       "      <td>NaN</td>\n",
       "      <td>NaN</td>\n",
       "      <td>NaN</td>\n",
       "      <td>1.470442e+09</td>\n",
       "      <td>NaN</td>\n",
       "      <td>NaN</td>\n",
       "    </tr>\n",
       "    <tr>\n",
       "      <th>max</th>\n",
       "      <td>NaN</td>\n",
       "      <td>NaN</td>\n",
       "      <td>5.000000e+00</td>\n",
       "      <td>NaN</td>\n",
       "      <td>NaN</td>\n",
       "      <td>NaN</td>\n",
       "      <td>NaN</td>\n",
       "      <td>NaN</td>\n",
       "      <td>NaN</td>\n",
       "      <td>1.538438e+09</td>\n",
       "      <td>NaN</td>\n",
       "      <td>NaN</td>\n",
       "    </tr>\n",
       "  </tbody>\n",
       "</table>\n",
       "</div>"
      ],
      "text/plain": [
       "              asin                                              image  \\\n",
       "count      1128437                                              27107   \n",
       "unique       48186                                              26559   \n",
       "top     B00VH88CJ0  [https://images-na.ssl-images-amazon.com/image...   \n",
       "freq          1684                                                  7   \n",
       "mean           NaN                                                NaN   \n",
       "std            NaN                                                NaN   \n",
       "min            NaN                                                NaN   \n",
       "25%            NaN                                                NaN   \n",
       "50%            NaN                                                NaN   \n",
       "75%            NaN                                                NaN   \n",
       "max            NaN                                                NaN   \n",
       "\n",
       "             overall reviewText   reviewTime      reviewerID     reviewerName  \\\n",
       "count   1.128437e+06    1127672      1128437         1128437          1128302   \n",
       "unique           NaN     931224         4536          157212           122115   \n",
       "top              NaN       good  02 18, 2015  A3HFQE02MDPC6I  Amazon Customer   \n",
       "freq             NaN       6566         1399             331            38014   \n",
       "mean    4.221383e+00        NaN          NaN             NaN              NaN   \n",
       "std     1.231917e+00        NaN          NaN             NaN              NaN   \n",
       "min     1.000000e+00        NaN          NaN             NaN              NaN   \n",
       "25%     4.000000e+00        NaN          NaN             NaN              NaN   \n",
       "50%     5.000000e+00        NaN          NaN             NaN              NaN   \n",
       "75%     5.000000e+00        NaN          NaN             NaN              NaN   \n",
       "max     5.000000e+00        NaN          NaN             NaN              NaN   \n",
       "\n",
       "                       style     summary  unixReviewTime verified   vote  \n",
       "count                 605241     1127920    1.128437e+06  1128437  92034  \n",
       "unique                 30106      527654             NaN        2    440  \n",
       "top     {'Color:': ' Black'}  Five Stars             NaN     True      2  \n",
       "freq                   80252      228940             NaN   987324  33213  \n",
       "mean                     NaN         NaN    1.440400e+09      NaN    NaN  \n",
       "std                      NaN         NaN    4.569215e+07      NaN    NaN  \n",
       "min                      NaN         NaN    1.035331e+09      NaN    NaN  \n",
       "25%                      NaN         NaN    1.416355e+09      NaN    NaN  \n",
       "50%                      NaN         NaN    1.444349e+09      NaN    NaN  \n",
       "75%                      NaN         NaN    1.470442e+09      NaN    NaN  \n",
       "max                      NaN         NaN    1.538438e+09      NaN    NaN  "
      ]
     },
     "execution_count": 12,
     "metadata": {},
     "output_type": "execute_result"
    }
   ],
   "source": [
    "df.describe(include='all')"
   ]
  },
  {
   "cell_type": "code",
   "execution_count": 13,
   "metadata": {},
   "outputs": [
    {
     "name": "stdout",
     "output_type": "stream",
     "text": [
      "float64\n"
     ]
    }
   ],
   "source": [
    "print(df['overall'].dtype)"
   ]
  },
  {
   "cell_type": "code",
   "execution_count": 16,
   "metadata": {},
   "outputs": [
    {
     "data": {
      "text/plain": [
       "5.0    707038\n",
       "4.0    184431\n",
       "3.0     98254\n",
       "1.0     81539\n",
       "2.0     57175\n",
       "Name: overall, dtype: int64"
      ]
     },
     "execution_count": 16,
     "metadata": {},
     "output_type": "execute_result"
    }
   ],
   "source": [
    "df['overall'].value_counts()"
   ]
  },
  {
   "cell_type": "code",
   "execution_count": 8,
   "metadata": {},
   "outputs": [
    {
     "name": "stdout",
     "output_type": "stream",
     "text": [
      "4803\n",
      "1123634\n"
     ]
    }
   ],
   "source": [
    "### remove rows with unformatted title (i.e. some 'title' may still contain html style content)\n",
    "\n",
    "df3 = df.fillna('')\n",
    "df4 = df3[df3.reviewText.str.contains('http')] # unformatted rows\n",
    "df5 = df3[~df3.reviewText.str.contains('http')] # filter those unformatted rows\n",
    "print(len(df4))\n",
    "print(len(df5))"
   ]
  },
  {
   "cell_type": "code",
   "execution_count": 9,
   "metadata": {},
   "outputs": [
    {
     "data": {
      "text/plain": [
       "asin                                                     9707716371\n",
       "image                                                              \n",
       "overall                                                           5\n",
       "reviewText        This is a review of a few items I just bought....\n",
       "reviewTime                                              05 31, 2016\n",
       "reviewerID                                            AVOOU49YPVHGN\n",
       "reviewerName                                              VVBulldog\n",
       "style                                                              \n",
       "summary                                      Great set of products.\n",
       "unixReviewTime                                           1464652800\n",
       "verified                                                       True\n",
       "vote                                                             12\n",
       "Name: 362, dtype: object"
      ]
     },
     "execution_count": 9,
     "metadata": {},
     "output_type": "execute_result"
    }
   ],
   "source": [
    "df4.iloc[0]"
   ]
  },
  {
   "cell_type": "code",
   "execution_count": 16,
   "metadata": {
    "ExecuteTime": {
     "end_time": "2020-09-06T21:21:36.247682Z",
     "start_time": "2020-09-06T21:20:30.465314Z"
    }
   },
   "outputs": [
    {
     "name": "stdout",
     "output_type": "stream",
     "text": [
      "1697533\n",
      "{'reviewerID': 'ADZPIG9QOCDG5', 'asin': '0005019281', 'reviewerName': 'Alice L. Larson \"alice-loves-books\"', 'helpful': [0, 0], 'reviewText': 'This is a charming version of the classic Dicken\\'s tale.  Henry Winkler makes a good showing as the \"Scrooge\" character.  Even though you know what will happen this version has enough of a change to make it better that average.  If you love A Christmas Carol in any version, then you will love this.', 'overall': 4.0, 'summary': 'good version of a classic', 'unixReviewTime': 1203984000, 'reviewTime': '02 26, 2008'}\n"
     ]
    }
   ],
   "source": [
    "data = []\n",
    "with gzip.open('../Data/reviews_Movies_and_TV_5.json.gz') as f:\n",
    "    for l in f:\n",
    "        data.append(json.loads(l.strip()))\n",
    "    \n",
    "# total length of list, this number equals total number of products\n",
    "print(len(data))\n",
    "\n",
    "# first row of the list\n",
    "print(data[0])"
   ]
  },
  {
   "cell_type": "code",
   "execution_count": 3,
   "metadata": {},
   "outputs": [
    {
     "name": "stdout",
     "output_type": "stream",
     "text": [
      "1697533\n"
     ]
    }
   ],
   "source": [
    "# getting a histogram: how many negative, neutral and positive\n",
    "\n",
    "# convert list into pandas dataframe\n",
    "df = pd.DataFrame.from_dict(data)\n",
    "\n",
    "print(len(df))"
   ]
  },
  {
   "cell_type": "code",
   "execution_count": 4,
   "metadata": {},
   "outputs": [
    {
     "data": {
      "text/html": [
       "<div>\n",
       "<style scoped>\n",
       "    .dataframe tbody tr th:only-of-type {\n",
       "        vertical-align: middle;\n",
       "    }\n",
       "\n",
       "    .dataframe tbody tr th {\n",
       "        vertical-align: top;\n",
       "    }\n",
       "\n",
       "    .dataframe thead th {\n",
       "        text-align: right;\n",
       "    }\n",
       "</style>\n",
       "<table border=\"1\" class=\"dataframe\">\n",
       "  <thead>\n",
       "    <tr style=\"text-align: right;\">\n",
       "      <th></th>\n",
       "      <th>asin</th>\n",
       "      <th>helpful</th>\n",
       "      <th>overall</th>\n",
       "      <th>reviewText</th>\n",
       "      <th>reviewTime</th>\n",
       "      <th>reviewerID</th>\n",
       "      <th>reviewerName</th>\n",
       "      <th>summary</th>\n",
       "      <th>unixReviewTime</th>\n",
       "    </tr>\n",
       "  </thead>\n",
       "  <tbody>\n",
       "    <tr>\n",
       "      <th>0</th>\n",
       "      <td>0005019281</td>\n",
       "      <td>[0, 0]</td>\n",
       "      <td>4.0</td>\n",
       "      <td>This is a charming version of the classic Dick...</td>\n",
       "      <td>02 26, 2008</td>\n",
       "      <td>ADZPIG9QOCDG5</td>\n",
       "      <td>Alice L. Larson \"alice-loves-books\"</td>\n",
       "      <td>good version of a classic</td>\n",
       "      <td>1203984000</td>\n",
       "    </tr>\n",
       "    <tr>\n",
       "      <th>1</th>\n",
       "      <td>0005019281</td>\n",
       "      <td>[0, 0]</td>\n",
       "      <td>3.0</td>\n",
       "      <td>It was good but not as emotionally moving as t...</td>\n",
       "      <td>12 30, 2013</td>\n",
       "      <td>A35947ZP82G7JH</td>\n",
       "      <td>Amarah Strack</td>\n",
       "      <td>Good but not as moving</td>\n",
       "      <td>1388361600</td>\n",
       "    </tr>\n",
       "    <tr>\n",
       "      <th>2</th>\n",
       "      <td>0005019281</td>\n",
       "      <td>[0, 0]</td>\n",
       "      <td>3.0</td>\n",
       "      <td>Don't get me wrong, Winkler is a wonderful cha...</td>\n",
       "      <td>12 30, 2013</td>\n",
       "      <td>A3UORV8A9D5L2E</td>\n",
       "      <td>Amazon Customer</td>\n",
       "      <td>Winkler's Performance was ok at best!</td>\n",
       "      <td>1388361600</td>\n",
       "    </tr>\n",
       "    <tr>\n",
       "      <th>3</th>\n",
       "      <td>0005019281</td>\n",
       "      <td>[0, 0]</td>\n",
       "      <td>5.0</td>\n",
       "      <td>Henry Winkler is very good in this twist on th...</td>\n",
       "      <td>02 13, 2008</td>\n",
       "      <td>A1VKW06X1O2X7V</td>\n",
       "      <td>Amazon Customer \"Softmill\"</td>\n",
       "      <td>It's an enjoyable twist on the classic story</td>\n",
       "      <td>1202860800</td>\n",
       "    </tr>\n",
       "    <tr>\n",
       "      <th>4</th>\n",
       "      <td>0005019281</td>\n",
       "      <td>[0, 0]</td>\n",
       "      <td>4.0</td>\n",
       "      <td>This is one of the best Scrooge movies out.  H...</td>\n",
       "      <td>12 22, 2013</td>\n",
       "      <td>A3R27T4HADWFFJ</td>\n",
       "      <td>BABE</td>\n",
       "      <td>Best Scrooge yet</td>\n",
       "      <td>1387670400</td>\n",
       "    </tr>\n",
       "  </tbody>\n",
       "</table>\n",
       "</div>"
      ],
      "text/plain": [
       "         asin helpful  overall  \\\n",
       "0  0005019281  [0, 0]      4.0   \n",
       "1  0005019281  [0, 0]      3.0   \n",
       "2  0005019281  [0, 0]      3.0   \n",
       "3  0005019281  [0, 0]      5.0   \n",
       "4  0005019281  [0, 0]      4.0   \n",
       "\n",
       "                                          reviewText   reviewTime  \\\n",
       "0  This is a charming version of the classic Dick...  02 26, 2008   \n",
       "1  It was good but not as emotionally moving as t...  12 30, 2013   \n",
       "2  Don't get me wrong, Winkler is a wonderful cha...  12 30, 2013   \n",
       "3  Henry Winkler is very good in this twist on th...  02 13, 2008   \n",
       "4  This is one of the best Scrooge movies out.  H...  12 22, 2013   \n",
       "\n",
       "       reviewerID                         reviewerName  \\\n",
       "0   ADZPIG9QOCDG5  Alice L. Larson \"alice-loves-books\"   \n",
       "1  A35947ZP82G7JH                        Amarah Strack   \n",
       "2  A3UORV8A9D5L2E                      Amazon Customer   \n",
       "3  A1VKW06X1O2X7V           Amazon Customer \"Softmill\"   \n",
       "4  A3R27T4HADWFFJ                                 BABE   \n",
       "\n",
       "                                        summary  unixReviewTime  \n",
       "0                     good version of a classic      1203984000  \n",
       "1                        Good but not as moving      1388361600  \n",
       "2         Winkler's Performance was ok at best!      1388361600  \n",
       "3  It's an enjoyable twist on the classic story      1202860800  \n",
       "4                              Best Scrooge yet      1387670400  "
      ]
     },
     "execution_count": 4,
     "metadata": {},
     "output_type": "execute_result"
    }
   ],
   "source": [
    "df.head()"
   ]
  },
  {
   "cell_type": "code",
   "execution_count": 5,
   "metadata": {},
   "outputs": [
    {
     "name": "stdout",
     "output_type": "stream",
     "text": [
      "(1697533, 9)\n"
     ]
    }
   ],
   "source": [
    "print(df.shape)"
   ]
  },
  {
   "cell_type": "code",
   "execution_count": 12,
   "metadata": {},
   "outputs": [
    {
     "name": "stdout",
     "output_type": "stream",
     "text": [
      "<class 'pandas.core.frame.DataFrame'>\n",
      "RangeIndex: 1697533 entries, 0 to 1697532\n",
      "Data columns (total 9 columns):\n",
      "asin              object\n",
      "helpful           object\n",
      "overall           float64\n",
      "reviewText        object\n",
      "reviewTime        object\n",
      "reviewerID        object\n",
      "reviewerName      object\n",
      "summary           object\n",
      "unixReviewTime    int64\n",
      "dtypes: float64(1), int64(1), object(7)\n",
      "memory usage: 116.6+ MB\n",
      "None\n"
     ]
    }
   ],
   "source": [
    "print(df.info())"
   ]
  },
  {
   "cell_type": "code",
   "execution_count": 7,
   "metadata": {},
   "outputs": [
    {
     "data": {
      "text/html": [
       "<div>\n",
       "<style scoped>\n",
       "    .dataframe tbody tr th:only-of-type {\n",
       "        vertical-align: middle;\n",
       "    }\n",
       "\n",
       "    .dataframe tbody tr th {\n",
       "        vertical-align: top;\n",
       "    }\n",
       "\n",
       "    .dataframe thead th {\n",
       "        text-align: right;\n",
       "    }\n",
       "</style>\n",
       "<table border=\"1\" class=\"dataframe\">\n",
       "  <thead>\n",
       "    <tr style=\"text-align: right;\">\n",
       "      <th></th>\n",
       "      <th>asin</th>\n",
       "      <th>helpful</th>\n",
       "      <th>overall</th>\n",
       "      <th>reviewText</th>\n",
       "      <th>reviewTime</th>\n",
       "      <th>reviewerID</th>\n",
       "      <th>reviewerName</th>\n",
       "      <th>summary</th>\n",
       "      <th>unixReviewTime</th>\n",
       "    </tr>\n",
       "  </thead>\n",
       "  <tbody>\n",
       "    <tr>\n",
       "      <th>count</th>\n",
       "      <td>1697533</td>\n",
       "      <td>1697533</td>\n",
       "      <td>1.697533e+06</td>\n",
       "      <td>1697533</td>\n",
       "      <td>1697533</td>\n",
       "      <td>1697533</td>\n",
       "      <td>1691457</td>\n",
       "      <td>1697533</td>\n",
       "      <td>1.697533e+06</td>\n",
       "    </tr>\n",
       "    <tr>\n",
       "      <th>unique</th>\n",
       "      <td>50052</td>\n",
       "      <td>9013</td>\n",
       "      <td>NaN</td>\n",
       "      <td>1696352</td>\n",
       "      <td>5799</td>\n",
       "      <td>123960</td>\n",
       "      <td>112400</td>\n",
       "      <td>1296940</td>\n",
       "      <td>NaN</td>\n",
       "    </tr>\n",
       "    <tr>\n",
       "      <th>top</th>\n",
       "      <td>B003EYVXV4</td>\n",
       "      <td>[0, 0]</td>\n",
       "      <td>NaN</td>\n",
       "      <td></td>\n",
       "      <td>01 28, 2014</td>\n",
       "      <td>A3LZGLA88K0LA0</td>\n",
       "      <td>Amazon Customer</td>\n",
       "      <td>Great Movie</td>\n",
       "      <td>NaN</td>\n",
       "    </tr>\n",
       "    <tr>\n",
       "      <th>freq</th>\n",
       "      <td>2213</td>\n",
       "      <td>608781</td>\n",
       "      <td>NaN</td>\n",
       "      <td>62</td>\n",
       "      <td>2322</td>\n",
       "      <td>2368</td>\n",
       "      <td>11777</td>\n",
       "      <td>4640</td>\n",
       "      <td>NaN</td>\n",
       "    </tr>\n",
       "    <tr>\n",
       "      <th>mean</th>\n",
       "      <td>NaN</td>\n",
       "      <td>NaN</td>\n",
       "      <td>4.110648e+00</td>\n",
       "      <td>NaN</td>\n",
       "      <td>NaN</td>\n",
       "      <td>NaN</td>\n",
       "      <td>NaN</td>\n",
       "      <td>NaN</td>\n",
       "      <td>1.262422e+09</td>\n",
       "    </tr>\n",
       "    <tr>\n",
       "      <th>std</th>\n",
       "      <td>NaN</td>\n",
       "      <td>NaN</td>\n",
       "      <td>1.197615e+00</td>\n",
       "      <td>NaN</td>\n",
       "      <td>NaN</td>\n",
       "      <td>NaN</td>\n",
       "      <td>NaN</td>\n",
       "      <td>NaN</td>\n",
       "      <td>1.289277e+08</td>\n",
       "    </tr>\n",
       "    <tr>\n",
       "      <th>min</th>\n",
       "      <td>NaN</td>\n",
       "      <td>NaN</td>\n",
       "      <td>1.000000e+00</td>\n",
       "      <td>NaN</td>\n",
       "      <td>NaN</td>\n",
       "      <td>NaN</td>\n",
       "      <td>NaN</td>\n",
       "      <td>NaN</td>\n",
       "      <td>8.793792e+08</td>\n",
       "    </tr>\n",
       "    <tr>\n",
       "      <th>25%</th>\n",
       "      <td>NaN</td>\n",
       "      <td>NaN</td>\n",
       "      <td>4.000000e+00</td>\n",
       "      <td>NaN</td>\n",
       "      <td>NaN</td>\n",
       "      <td>NaN</td>\n",
       "      <td>NaN</td>\n",
       "      <td>NaN</td>\n",
       "      <td>1.164413e+09</td>\n",
       "    </tr>\n",
       "    <tr>\n",
       "      <th>50%</th>\n",
       "      <td>NaN</td>\n",
       "      <td>NaN</td>\n",
       "      <td>5.000000e+00</td>\n",
       "      <td>NaN</td>\n",
       "      <td>NaN</td>\n",
       "      <td>NaN</td>\n",
       "      <td>NaN</td>\n",
       "      <td>NaN</td>\n",
       "      <td>1.307491e+09</td>\n",
       "    </tr>\n",
       "    <tr>\n",
       "      <th>75%</th>\n",
       "      <td>NaN</td>\n",
       "      <td>NaN</td>\n",
       "      <td>5.000000e+00</td>\n",
       "      <td>NaN</td>\n",
       "      <td>NaN</td>\n",
       "      <td>NaN</td>\n",
       "      <td>NaN</td>\n",
       "      <td>NaN</td>\n",
       "      <td>1.373242e+09</td>\n",
       "    </tr>\n",
       "    <tr>\n",
       "      <th>max</th>\n",
       "      <td>NaN</td>\n",
       "      <td>NaN</td>\n",
       "      <td>5.000000e+00</td>\n",
       "      <td>NaN</td>\n",
       "      <td>NaN</td>\n",
       "      <td>NaN</td>\n",
       "      <td>NaN</td>\n",
       "      <td>NaN</td>\n",
       "      <td>1.406074e+09</td>\n",
       "    </tr>\n",
       "  </tbody>\n",
       "</table>\n",
       "</div>"
      ],
      "text/plain": [
       "              asin  helpful       overall reviewText   reviewTime  \\\n",
       "count      1697533  1697533  1.697533e+06    1697533      1697533   \n",
       "unique       50052     9013           NaN    1696352         5799   \n",
       "top     B003EYVXV4   [0, 0]           NaN             01 28, 2014   \n",
       "freq          2213   608781           NaN         62         2322   \n",
       "mean           NaN      NaN  4.110648e+00        NaN          NaN   \n",
       "std            NaN      NaN  1.197615e+00        NaN          NaN   \n",
       "min            NaN      NaN  1.000000e+00        NaN          NaN   \n",
       "25%            NaN      NaN  4.000000e+00        NaN          NaN   \n",
       "50%            NaN      NaN  5.000000e+00        NaN          NaN   \n",
       "75%            NaN      NaN  5.000000e+00        NaN          NaN   \n",
       "max            NaN      NaN  5.000000e+00        NaN          NaN   \n",
       "\n",
       "            reviewerID     reviewerName      summary  unixReviewTime  \n",
       "count          1697533          1691457      1697533    1.697533e+06  \n",
       "unique          123960           112400      1296940             NaN  \n",
       "top     A3LZGLA88K0LA0  Amazon Customer  Great Movie             NaN  \n",
       "freq              2368            11777         4640             NaN  \n",
       "mean               NaN              NaN          NaN    1.262422e+09  \n",
       "std                NaN              NaN          NaN    1.289277e+08  \n",
       "min                NaN              NaN          NaN    8.793792e+08  \n",
       "25%                NaN              NaN          NaN    1.164413e+09  \n",
       "50%                NaN              NaN          NaN    1.307491e+09  \n",
       "75%                NaN              NaN          NaN    1.373242e+09  \n",
       "max                NaN              NaN          NaN    1.406074e+09  "
      ]
     },
     "execution_count": 7,
     "metadata": {},
     "output_type": "execute_result"
    }
   ],
   "source": [
    "df.describe(include='all')"
   ]
  },
  {
   "cell_type": "code",
   "execution_count": 9,
   "metadata": {},
   "outputs": [
    {
     "data": {
      "text/plain": [
       "5.0    906608\n",
       "4.0    382994\n",
       "3.0    201302\n",
       "1.0    104219\n",
       "2.0    102410\n",
       "Name: overall, dtype: int64"
      ]
     },
     "execution_count": 9,
     "metadata": {},
     "output_type": "execute_result"
    }
   ],
   "source": [
    "df['overall'].value_counts()"
   ]
  },
  {
   "cell_type": "code",
   "execution_count": 15,
   "metadata": {},
   "outputs": [
    {
     "data": {
      "text/plain": [
       "1697533"
      ]
     },
     "execution_count": 15,
     "metadata": {},
     "output_type": "execute_result"
    }
   ],
   "source": [
    "df['unixReviewTime'].count()"
   ]
  }
 ],
 "metadata": {
  "kernelspec": {
   "display_name": "Python 3",
   "language": "python",
   "name": "python3"
  },
  "language_info": {
   "codemirror_mode": {
    "name": "ipython",
    "version": 3
   },
   "file_extension": ".py",
   "mimetype": "text/x-python",
   "name": "python",
   "nbconvert_exporter": "python",
   "pygments_lexer": "ipython3",
   "version": "3.6.9"
  },
  "toc": {
   "base_numbering": 1,
   "nav_menu": {},
   "number_sections": true,
   "sideBar": true,
   "skip_h1_title": false,
   "title_cell": "Table of Contents",
   "title_sidebar": "Contents",
   "toc_cell": false,
   "toc_position": {},
   "toc_section_display": true,
   "toc_window_display": false
  },
  "varInspector": {
   "cols": {
    "lenName": 16,
    "lenType": 16,
    "lenVar": 40
   },
   "kernels_config": {
    "python": {
     "delete_cmd_postfix": "",
     "delete_cmd_prefix": "del ",
     "library": "var_list.py",
     "varRefreshCmd": "print(var_dic_list())"
    },
    "r": {
     "delete_cmd_postfix": ") ",
     "delete_cmd_prefix": "rm(",
     "library": "var_list.r",
     "varRefreshCmd": "cat(var_dic_list()) "
    }
   },
   "types_to_exclude": [
    "module",
    "function",
    "builtin_function_or_method",
    "instance",
    "_Feature"
   ],
   "window_display": false
  }
 },
 "nbformat": 4,
 "nbformat_minor": 2
}
