{
 "cells": [
  {
   "cell_type": "markdown",
   "source": [
    "# Extraction\n",
    "\n",
    "First, we will extract the review Ratings and review Body into a relational data base. "
   ],
   "metadata": {
    "collapsed": false,
    "pycharm": {
     "name": "#%% md\n"
    }
   }
  },
  {
   "cell_type": "code",
   "execution_count": 11,
   "metadata": {
    "pycharm": {
     "is_executing": false
    }
   },
   "outputs": [],
   "source": [
    "import gzip\n",
    "import re\n",
    "import shutil\n",
    "import sqlite3\n",
    "from datetime import datetime as dt"
   ]
  },
  {
   "cell_type": "code",
   "execution_count": 12,
   "metadata": {
    "pycharm": {
     "is_executing": false
    }
   },
   "outputs": [],
   "source": [
    "conn = sqlite3.connect(\"reviews.db\")\n",
    "with conn: \n",
    "    conn.execute(\"\"\"\n",
    "        CREATE TABLE IF NOT EXISTS\n",
    "            taxonomies(\n",
    "                NODE TEXT,\n",
    "                URL TEXT,\n",
    "                REVIEWBODY TEXT,\n",
    "                REVIEWRATING TEXT,\n",
    "                ITEMREVIEWED TEXT,\n",
    "                REVIEWASPECT TEXT,\n",
    "                PRIMARY KEY (NODE, URL))\n",
    "    \"\"\")\n",
    "       \n",
    "    conn.execute(\"\"\"\n",
    "        CREATE TABLE IF NOT EXISTS\n",
    "            reviews(NODE TEXT,\n",
    "                URL TEXT,\n",
    "                PRIMARY KEY (NODE, URL)\n",
    "                )\n",
    "    \"\"\")"
   ]
  },
  {
   "cell_type": "code",
   "execution_count": null,
   "outputs": [
    {
     "name": "stdout",
     "text": [
      "2019-10-01 11:41:06.469915: processed 0.0/6321 million lines so far\n",
      "2019-10-01 12:47:24.480658: processed 5.0/6321 million lines so far\n",
      "2019-10-01 13:56:54.397777: processed 10.0/6321 million lines so far\n"
     ],
     "output_type": "stream"
    }
   ],
   "source": [
    "taxo_pattern = re.compile(\"<http://schema.org/Review/reviewBody>|<http://schema.org/Review/ratingValue>|<http://schema.org/Review/itemReviewed>|<http://schema.org/Review/reviewAspect>\", re.IGNORECASE)\n",
    "split_pattern = re.compile(\"^(_:.*)\\s(<http:\\/\\/schema\\.org\\/Review\\/reviewBody>|<http:\\/\\/schema\\.org\\/Review\\/ratingValue>|http:\\/\\/schema\\.org\\/Review\\/itemReviewed>|http:\\/\\/schema\\.org\\/Review\\/reviewAspect>)\\s(.*)\\s<(.*)>\\s\\.$\", re.IGNORECASE)\n",
    "\n",
    "with gzip.open(\"../Data/schema_Review.gz\", \"rt\") as f:\n",
    "    i = 0\n",
    "    skipped_lines = 0\n",
    "    inserted = 0\n",
    "    for line in iter(f.readline, \"\"):\n",
    "        if i % 5000000 == 0:\n",
    "            print(str(dt.now()) + \": processed \" + str(i / 1000000) + \"/6321 million lines so far\")\n",
    "        i += 1\n",
    "        if not taxo_pattern.search(line):\n",
    "            continue\n",
    "        match = split_pattern.match(line)\n",
    "        if match is None:\n",
    "            skipped_lines += 1\n",
    "            continue\n",
    "        props = match.groups()\n",
    "        with conn:\n",
    "            if len(props) != 4:\n",
    "                print(\"properties have weird length: \" + str(props))\n",
    "                continue\n",
    "            subject = props[0]\n",
    "            predicate = props[1]\n",
    "            obj = props[2]\n",
    "            source = props[3]\n",
    "            conn.execute(\"INSERT OR IGNORE INTO taxonomies (NODE, URL) VALUES (?, ?)\", (subject, source))\n",
    "            update_query = \"UPDATE taxonomies SET \"\n",
    "            params = [obj, subject, source]\n",
    "            if predicate.lower() == \"<http://schema.org/Review/reviewBody>\".lower():\n",
    "                update_query += \"REVIEWBODY = ?\"\n",
    "            if predicate.lower() == \"<http://schema.org/Review/ratingValue>\".lower():\n",
    "                update_query += \"REVIEWRATING = ?\"\n",
    "            if predicate.lower() == \"<http://schema.org/Review/itemReviewed>\".lower():\n",
    "                update_query += \"ITEMREVIEWED = ?\"\n",
    "            if predicate.lower() == \"<http://schema.org/Review/reviewAspect>\".lower():\n",
    "                update_query += \"REVIEWASPECT = ?\"\n",
    "            update_query += \" WHERE NODE = ? AND URL = ?;\"\n",
    "            try:\n",
    "                conn.execute(update_query, params)\n",
    "                inserted += 1\n",
    "            except:\n",
    "                print(\"failed to execute for params \" + str(props))\n",
    "\n",
    "    print(\"inserted \" + str(inserted) + \" lines and skipped \" + str(skipped_lines) + \" lines\")\n",
    "    print(\"Done processing the review file\")\n"
   ],
   "metadata": {
    "collapsed": false,
    "pycharm": {
     "name": "#%%\n",
     "is_executing": true
    }
   }
  }
 ],
 "metadata": {
  "kernelspec": {
   "name": "python3",
   "language": "python",
   "display_name": "Python 3"
  },
  "language_info": {
   "codemirror_mode": {
    "name": "ipython",
    "version": 2
   },
   "file_extension": ".py",
   "mimetype": "text/x-python",
   "name": "python",
   "nbconvert_exporter": "python",
   "pygments_lexer": "ipython2",
   "version": "2.7.6"
  },
  "pycharm": {
   "stem_cell": {
    "cell_type": "raw",
    "source": [],
    "metadata": {
     "collapsed": false
    }
   }
  }
 },
 "nbformat": 4,
 "nbformat_minor": 0
}