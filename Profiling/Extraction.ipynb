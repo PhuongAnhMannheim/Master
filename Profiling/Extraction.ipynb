{
 "cells": [
  {
   "cell_type": "markdown",
   "source": [
    "# Extraction\n",
    "\n",
    "First, we will extract the review Ratings and review Body into a relational data base. "
   ],
   "metadata": {
    "collapsed": false,
    "pycharm": {
     "name": "#%% md\n"
    }
   }
  },
  {
   "cell_type": "code",
   "execution_count": null,
   "metadata": {},
   "outputs": [],
   "source": [
    "import gzip\n",
    "import shutil\n",
    "import sqlite3\n"
   ]
  },
  {
   "cell_type": "code",
   "execution_count": null,
   "metadata": {},
   "outputs": [],
   "source": [
    "conn = sqlite3.connect(\"reviews.db\")\n",
    "with conn: \n",
    "    \n",
    "    conn.execute(\"\"\"\n",
    "            CREATE TABLE IF NOT EXISTS\n",
    "                taxonomies(NODE TEXT PRIMARY KEY,\n",
    "                        URL TEXT,\n",
    "                        BODY TEXT,\n",
    "                        RATINGVALUE TEXT, \n",
    "                        WORSTRATING TEXT,\n",
    "                        BESTRATING TEXT,\n",
    "                        RATINGCOUNT TEXT,\n",
    "                        )\n",
    "        \"\"\")\n",
    "       \n",
    "    conn.execute(\"\"\"\n",
    "        CREATE TABLE IF NOT EXISTS\n",
    "            reviews(NODE TEXT,\n",
    "                    URL TEXT,\n",
    "                    PRIMARY KEY (NODE, URL)\n",
    "                    )\n",
    "    \"\"\")"
   ]
  }
 ],
 "metadata": {
  "kernelspec": {
   "display_name": "Python 2",
   "language": "python",
   "name": "python2"
  },
  "language_info": {
   "codemirror_mode": {
    "name": "ipython",
    "version": 2
   },
   "file_extension": ".py",
   "mimetype": "text/x-python",
   "name": "python",
   "nbconvert_exporter": "python",
   "pygments_lexer": "ipython2",
   "version": "2.7.6"
  },
  "pycharm": {
   "stem_cell": {
    "cell_type": "raw",
    "source": [],
    "metadata": {
     "collapsed": false
    }
   }
  }
 },
 "nbformat": 4,
 "nbformat_minor": 0
}