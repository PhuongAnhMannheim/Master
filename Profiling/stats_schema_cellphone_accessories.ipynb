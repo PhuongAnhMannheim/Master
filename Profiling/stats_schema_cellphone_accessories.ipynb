{
 "cells": [
  {
   "cell_type": "code",
   "execution_count": 29,
   "metadata": {
    "collapsed": true
   },
   "outputs": [],
   "source": [
    "from Scripts import profiling as pf, preprocessing as prep\n",
    "#\n",
    "# import matplotlib.pyplot as plt"
   ]
  },
  {
   "cell_type": "code",
   "execution_count": 39,
   "outputs": [],
   "source": [
    "schema_input = '../Data/phone_reviews.csv'"
   ],
   "metadata": {
    "collapsed": false,
    "pycharm": {
     "name": "#%%\n"
    }
   }
  },
  {
   "cell_type": "code",
   "execution_count": 40,
   "outputs": [],
   "source": [
    "schema_df = df[['REVIEWBODY', 'REVIEWRATING_adj']]"
   ],
   "metadata": {
    "collapsed": false,
    "pycharm": {
     "name": "#%%\n"
    }
   }
  },
  {
   "cell_type": "code",
   "execution_count": 5,
   "outputs": [
    {
     "name": "stdout",
     "output_type": "stream",
     "text": [
      "Amount of reviews:  22566\n"
     ]
    }
   ],
   "source": [
    "pf.get_review_count(df)\n"
   ],
   "metadata": {
    "collapsed": false,
    "pycharm": {
     "name": "#%%\n"
    }
   }
  },
  {
   "cell_type": "code",
   "execution_count": 26,
   "outputs": [],
   "source": [
    "df.REVIEWBODY = prep.preprocess_reviews(df.REVIEWBODY)"
   ],
   "metadata": {
    "collapsed": false,
    "pycharm": {
     "name": "#%%\n"
    }
   }
  },
  {
   "cell_type": "code",
   "execution_count": 27,
   "outputs": [],
   "source": [
    "df['word_count'] = df['REVIEWBODY'].apply(lambda x: len(str(x).split(\" \")))"
   ],
   "metadata": {
    "collapsed": false,
    "pycharm": {
     "name": "#%%\n"
    }
   }
  },
  {
   "cell_type": "code",
   "execution_count": 28,
   "outputs": [
    {
     "name": "stdout",
     "output_type": "stream",
     "text": [
      "The longest review text in our sample has 3762 words.\n",
      "Longest review text:\n",
      "\n",
      "1808     welcom io eview would like know ersion io read...\n",
      "10038    iphon plu biggest iphon ever sharpest screen i...\n",
      "Name: REVIEWBODY, dtype: object\n",
      "The shortest review text in our sample has 1 words.\n",
      "Review text with the shortest length of 1 word appearing 150 times.\n",
      "287          null\n",
      "546       perfect\n",
      "778          game\n",
      "779      timepass\n",
      "807        uglish\n",
      "           ...   \n",
      "20735         job\n",
      "20778      expect\n",
      "20781        best\n",
      "20910        want\n",
      "20955         job\n",
      "Name: REVIEWBODY, Length: 150, dtype: object\n"
     ]
    }
   ],
   "source": [
    "longest_t = df[df['word_count'] == max(df['word_count'])]\n",
    "print('The longest review text in our sample has {} words.'.format(max(df['word_count'])))\n",
    "print('Longest review text:' + '\\n')\n",
    "print(longest_t.REVIEWBODY)\n",
    "\n",
    "shortest_t = df[df['word_count'] == min(df['word_count'])]\n",
    "print('The shortest review text in our sample has {} words.'.format(min(df['word_count'])))\n",
    "print('Review text with the shortest length of {} word appearing {} times.'.format(min(df['word_count']), len(shortest_t)))\n",
    "print(shortest_t.REVIEWBODY)"
   ],
   "metadata": {
    "collapsed": false,
    "pycharm": {
     "name": "#%%\n"
    }
   }
  },
  {
   "cell_type": "code",
   "execution_count": null,
   "outputs": [],
   "source": [
    "plt.rcParams['figure.facecolor'] = 'white'\n",
    "plt.hist(df['word_count'].value_counts().sort_index(), range=(0,6000), bins=100, log=True)\n",
    "plt.xlabel('Text length')\n",
    "plt.ylabel('Distribution')\n",
    "plt.title('Text lengths in words (Amazon Movie&TV)')\n",
    "plt.savefig('../Figures/amazon_cell_textlength_raw_logarithmic.png')\n",
    "df['word_count'].describe()\n",
    "\n"
   ],
   "metadata": {
    "collapsed": false,
    "pycharm": {
     "name": "#%%\n"
    }
   }
  },
  {
   "cell_type": "code",
   "execution_count": 44,
   "outputs": [
    {
     "name": "stdout",
     "output_type": "stream",
     "text": [
      "                                 REVIEWBODY  REVIEWRATING_adj  word_count\n",
      "287                                    null               4.0           1\n",
      "17347  thisgameisverysuperandverybutifullya               5.0           1\n"
     ]
    }
   ],
   "source": [
    "clean out\n",
    "print(shortest_t[shortest_t.REVIEWBODY.str.contains('ull')])"
   ],
   "metadata": {
    "collapsed": false,
    "pycharm": {
     "name": "#%%\n"
    }
   }
  },
  {
   "cell_type": "code",
   "execution_count": 49,
   "outputs": [
    {
     "data": {
      "text/plain": "5.0    16982\n4.0     4146\n3.0      953\n1.0      243\n2.0      242\nName: REVIEWRATING_adj, dtype: int64"
     },
     "execution_count": 49,
     "metadata": {},
     "output_type": "execute_result"
    }
   ],
   "source": [
    "df.REVIEWRATING_adj.value_counts()\n",
    "\n"
   ],
   "metadata": {
    "collapsed": false,
    "pycharm": {
     "name": "#%%\n"
    }
   }
  }
 ],
 "metadata": {
  "kernelspec": {
   "display_name": "Python 3",
   "language": "python",
   "name": "python3"
  },
  "language_info": {
   "codemirror_mode": {
    "name": "ipython",
    "version": 2
   },
   "file_extension": ".py",
   "mimetype": "text/x-python",
   "name": "python",
   "nbconvert_exporter": "python",
   "pygments_lexer": "ipython2",
   "version": "2.7.6"
  }
 },
 "nbformat": 4,
 "nbformat_minor": 0
}