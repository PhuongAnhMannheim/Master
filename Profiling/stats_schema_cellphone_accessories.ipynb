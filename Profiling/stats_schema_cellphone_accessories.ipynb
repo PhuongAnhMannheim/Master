{
 "cells": [
  {
   "cell_type": "code",
   "execution_count": 52,
   "metadata": {
    "collapsed": true
   },
   "outputs": [],
   "source": [
    "from Scripts import profiling as pf, preprocessing as prep, loading as dl\n",
    "import pandas as pd"
   ]
  },
  {
   "cell_type": "code",
   "execution_count": 53,
   "outputs": [],
   "source": [
    "schema_input = '../Data/schema_phone.pkl'\n",
    "df = pd.read_pickle(schema_input)"
   ],
   "metadata": {
    "collapsed": false,
    "pycharm": {
     "name": "#%%\n"
    }
   }
  },
  {
   "cell_type": "code",
   "execution_count": 56,
   "outputs": [
    {
     "data": {
      "text/plain": "                                                  text  label\n56   \"Got this for my girl friend as she always use...    5.0\n184  \"Huawei Nova 3i in the price range comes with ...    4.0\n468  \"A larger version of the company's flagship Mi...    5.0\n509  \"As expected, HTC is back with some new smartp...    4.0\n588  \"Samsung has updated it\\u2019s A series phones...    4.0",
      "text/html": "<div>\n<style scoped>\n    .dataframe tbody tr th:only-of-type {\n        vertical-align: middle;\n    }\n\n    .dataframe tbody tr th {\n        vertical-align: top;\n    }\n\n    .dataframe thead th {\n        text-align: right;\n    }\n</style>\n<table border=\"1\" class=\"dataframe\">\n  <thead>\n    <tr style=\"text-align: right;\">\n      <th></th>\n      <th>text</th>\n      <th>label</th>\n    </tr>\n  </thead>\n  <tbody>\n    <tr>\n      <th>56</th>\n      <td>\"Got this for my girl friend as she always use...</td>\n      <td>5.0</td>\n    </tr>\n    <tr>\n      <th>184</th>\n      <td>\"Huawei Nova 3i in the price range comes with ...</td>\n      <td>4.0</td>\n    </tr>\n    <tr>\n      <th>468</th>\n      <td>\"A larger version of the company's flagship Mi...</td>\n      <td>5.0</td>\n    </tr>\n    <tr>\n      <th>509</th>\n      <td>\"As expected, HTC is back with some new smartp...</td>\n      <td>4.0</td>\n    </tr>\n    <tr>\n      <th>588</th>\n      <td>\"Samsung has updated it\\u2019s A series phones...</td>\n      <td>4.0</td>\n    </tr>\n  </tbody>\n</table>\n</div>"
     },
     "execution_count": 56,
     "metadata": {},
     "output_type": "execute_result"
    }
   ],
   "source": [
    "df = df[['REVIEWBODY','REVIEWRATING_adj']]\n",
    "df.columns=['text', 'label']\n",
    "df.head()"
   ],
   "metadata": {
    "collapsed": false,
    "pycharm": {
     "name": "#%%\n"
    }
   }
  },
  {
   "cell_type": "code",
   "execution_count": 57,
   "outputs": [
    {
     "name": "stdout",
     "output_type": "stream",
     "text": [
      "Amount of reviews:  22566\n"
     ]
    }
   ],
   "source": [
    "pf.get_review_count(df)\n"
   ],
   "metadata": {
    "collapsed": false,
    "pycharm": {
     "name": "#%%\n"
    }
   }
  },
  {
   "cell_type": "code",
   "execution_count": 26,
   "outputs": [],
   "source": [
    "df.REVIEWBODY = prep.preprocess_reviews(df.REVIEWBODY)"
   ],
   "metadata": {
    "collapsed": false,
    "pycharm": {
     "name": "#%%\n"
    }
   }
  },
  {
   "cell_type": "code",
   "execution_count": 58,
   "outputs": [
    {
     "name": "stderr",
     "output_type": "stream",
     "text": [
      "C:\\Users\\D064966\\PycharmProjects\\Master\\Scripts\\profiling.py:7: SettingWithCopyWarning: \n",
      "A value is trying to be set on a copy of a slice from a DataFrame.\n",
      "Try using .loc[row_indexer,col_indexer] = value instead\n",
      "\n",
      "See the caveats in the documentation: https://pandas.pydata.org/pandas-docs/stable/user_guide/indexing.html#returning-a-view-versus-a-copy\n",
      "  df['word_count'] = df.text.apply(lambda x: len(str(x).split(\" \")))\n"
     ]
    },
    {
     "data": {
      "text/plain": "                                                     text  label  word_count\n56      \"Got this for my girl friend as she always use...    5.0          67\n184     \"Huawei Nova 3i in the price range comes with ...    4.0          32\n468     \"A larger version of the company's flagship Mi...    5.0        1273\n509     \"As expected, HTC is back with some new smartp...    4.0        1594\n588     \"Samsung has updated it\\u2019s A series phones...    4.0        1374\n...                                                   ...    ...         ...\n809932  The Good: The iPhone 7 still has the biggest k...    4.0        2364\n809933  The Good: Dual rear cameras delivers true 2x o...    4.0        1115\n809934  The Good: Improved speed, better cameras, alwa...    4.0        1001\n809935  The Good: A small, hand-friendly design. Solid...    4.0         504\n809936  The Good: Improved speed and a sturdier build ...    4.0        2154\n\n[22566 rows x 3 columns]",
      "text/html": "<div>\n<style scoped>\n    .dataframe tbody tr th:only-of-type {\n        vertical-align: middle;\n    }\n\n    .dataframe tbody tr th {\n        vertical-align: top;\n    }\n\n    .dataframe thead th {\n        text-align: right;\n    }\n</style>\n<table border=\"1\" class=\"dataframe\">\n  <thead>\n    <tr style=\"text-align: right;\">\n      <th></th>\n      <th>text</th>\n      <th>label</th>\n      <th>word_count</th>\n    </tr>\n  </thead>\n  <tbody>\n    <tr>\n      <th>56</th>\n      <td>\"Got this for my girl friend as she always use...</td>\n      <td>5.0</td>\n      <td>67</td>\n    </tr>\n    <tr>\n      <th>184</th>\n      <td>\"Huawei Nova 3i in the price range comes with ...</td>\n      <td>4.0</td>\n      <td>32</td>\n    </tr>\n    <tr>\n      <th>468</th>\n      <td>\"A larger version of the company's flagship Mi...</td>\n      <td>5.0</td>\n      <td>1273</td>\n    </tr>\n    <tr>\n      <th>509</th>\n      <td>\"As expected, HTC is back with some new smartp...</td>\n      <td>4.0</td>\n      <td>1594</td>\n    </tr>\n    <tr>\n      <th>588</th>\n      <td>\"Samsung has updated it\\u2019s A series phones...</td>\n      <td>4.0</td>\n      <td>1374</td>\n    </tr>\n    <tr>\n      <th>...</th>\n      <td>...</td>\n      <td>...</td>\n      <td>...</td>\n    </tr>\n    <tr>\n      <th>809932</th>\n      <td>The Good: The iPhone 7 still has the biggest k...</td>\n      <td>4.0</td>\n      <td>2364</td>\n    </tr>\n    <tr>\n      <th>809933</th>\n      <td>The Good: Dual rear cameras delivers true 2x o...</td>\n      <td>4.0</td>\n      <td>1115</td>\n    </tr>\n    <tr>\n      <th>809934</th>\n      <td>The Good: Improved speed, better cameras, alwa...</td>\n      <td>4.0</td>\n      <td>1001</td>\n    </tr>\n    <tr>\n      <th>809935</th>\n      <td>The Good: A small, hand-friendly design. Solid...</td>\n      <td>4.0</td>\n      <td>504</td>\n    </tr>\n    <tr>\n      <th>809936</th>\n      <td>The Good: Improved speed and a sturdier build ...</td>\n      <td>4.0</td>\n      <td>2154</td>\n    </tr>\n  </tbody>\n</table>\n<p>22566 rows × 3 columns</p>\n</div>"
     },
     "execution_count": 58,
     "metadata": {},
     "output_type": "execute_result"
    }
   ],
   "source": [
    "pf.create_word_count(df)"
   ],
   "metadata": {
    "collapsed": false,
    "pycharm": {
     "name": "#%%\n"
    }
   }
  },
  {
   "cell_type": "code",
   "execution_count": 61,
   "outputs": [
    {
     "name": "stdout",
     "output_type": "stream",
     "text": [
      "The longest review text in our sample has 16108 words.\n",
      "Longest review text:\n",
      "\n",
      "96957    \"\\n             \\n\\n\\n{\\n    \\\"@context\\\":\\\"ht...\n",
      "Name: text, dtype: object 96957    4.0\n",
      "Name: label, dtype: float64\n"
     ]
    }
   ],
   "source": [
    "pf.get_longest_review(df)"
   ],
   "metadata": {
    "collapsed": false,
    "pycharm": {
     "name": "#%%\n"
    }
   }
  },
  {
   "cell_type": "code",
   "execution_count": 62,
   "outputs": [
    {
     "name": "stdout",
     "output_type": "stream",
     "text": [
      "The shortest review text in our sample has 1 words.\n",
      "Review text with the shortest length of 1 word appearing 34 times.\n",
      "115486                                        \"aryanprince\"\n",
      "115494                                    \"Hilarious.lol.!\"\n",
      "197219                    \"scriptwindow.alert(test)/script\"\n",
      "240411                                   \"I,LOVE.YES.JESUS\"\n",
      "268728                                         \"Blackberry\"\n",
      "308163                                                 \"OK\"\n",
      "339106                                         \"Exercising\"\n",
      "344655                                           \"Conforme\"\n",
      "376518                                \"very.nice.song..\"@vi\n",
      "382245    \"phoneky.com/mp3-ringtones/?pview-item&amp;idm...\n",
      "384778                                  \"very.beautiful\"@vi\n",
      "408873                                         \"Actiongame\"\n",
      "433414    \"phoneky.com/mp3-ringtones/?pview-item&amp;idm...\n",
      "445075                                        \"Perfect!\"@nl\n",
      "450000                                              \"ty\"@es\n",
      "457696                                         \"Ringhtones\"\n",
      "460696                                          \"Great!\"@en\n",
      "488381                                             \"Thank2\"\n",
      "509748                                             \"Great!\"\n",
      "520847                                   \"i+love+this+tone\"\n",
      "520849                                   \"she+is+best+tnne\"\n",
      "592445                                     \"very.beautiful\"\n",
      "658294                                     \"Java.Whats.app\"\n",
      "664317                                  \"operaminidownload\"\n",
      "681820              \"Thisgameisverysuperandverybutifullyae\"\n",
      "690981                       \"Http://jobandcash.com/?share\"\n",
      "717721                                            \"CRICKAT\"\n",
      "720726                                       \"Downloading.\"\n",
      "723875                             \"thisisformyallfriendes\"\n",
      "736962                                        \"perfecto\"@it\n",
      "750566                            \"UMAKANT.RANA.JAMUTBAHAL\"\n",
      "760057                             \"Cat.ninjg.fly.game.Com\"\n",
      "761362                                         \"Null\"@it-IT\n",
      "801743                                   \"very.nice.song..\"\n",
      "Name: text, dtype: object 115486    5.0\n",
      "115494    5.0\n",
      "197219    5.0\n",
      "240411    3.0\n",
      "268728    5.0\n",
      "308163    5.0\n",
      "339106    2.0\n",
      "344655    5.0\n",
      "376518    5.0\n",
      "382245    5.0\n",
      "384778    5.0\n",
      "408873    5.0\n",
      "433414    5.0\n",
      "445075    5.0\n",
      "450000    5.0\n",
      "457696    3.0\n",
      "460696    5.0\n",
      "488381    3.0\n",
      "509748    5.0\n",
      "520847    5.0\n",
      "520849    5.0\n",
      "592445    5.0\n",
      "658294    5.0\n",
      "664317    5.0\n",
      "681820    5.0\n",
      "690981    5.0\n",
      "717721    5.0\n",
      "720726    5.0\n",
      "723875    5.0\n",
      "736962    5.0\n",
      "750566    5.0\n",
      "760057    5.0\n",
      "761362    5.0\n",
      "801743    5.0\n",
      "Name: label, dtype: float64\n"
     ]
    }
   ],
   "source": [
    "pf.get_shortest_review(df)"
   ],
   "metadata": {
    "collapsed": false,
    "pycharm": {
     "name": "#%%\n"
    }
   }
  },
  {
   "cell_type": "code",
   "execution_count": 74,
   "outputs": [
    {
     "data": {
      "text/plain": "5.0    1647\n4.0     157\n2.0      75\n3.0      50\n1.0      13\nName: label, dtype: int64"
     },
     "execution_count": 74,
     "metadata": {},
     "output_type": "execute_result"
    }
   ],
   "source": [
    "df[df.word_count<10]['label'].value_counts() # for later trimming, reviews have to be long enough"
   ],
   "metadata": {
    "collapsed": false,
    "pycharm": {
     "name": "#%%\n"
    }
   }
  },
  {
   "cell_type": "code",
   "execution_count": 81,
   "outputs": [
    {
     "data": {
      "text/plain": "                          text  label  word_count\n1373    \"Poor instructions\"@en    3.0           2\n12691             \"Prima ware\"    5.0           2\n17039   \"Un ref\\u00E9rence\"@fr    4.0           2\n39377               \"Perfect \"    4.0           2\n44507    \"Universally useful.\"    5.0           2\n...                        ...    ...         ...\n801062          \"Good morning\"    5.0           2\n801463       \"hellow everyone\"    5.0           2\n802569         \"Super browser\"    5.0           2\n803241            \"world no.1\"    5.0           2\n803431         \"Osowm Rington\"    5.0           2\n\n[153 rows x 3 columns]",
      "text/html": "<div>\n<style scoped>\n    .dataframe tbody tr th:only-of-type {\n        vertical-align: middle;\n    }\n\n    .dataframe tbody tr th {\n        vertical-align: top;\n    }\n\n    .dataframe thead th {\n        text-align: right;\n    }\n</style>\n<table border=\"1\" class=\"dataframe\">\n  <thead>\n    <tr style=\"text-align: right;\">\n      <th></th>\n      <th>text</th>\n      <th>label</th>\n      <th>word_count</th>\n    </tr>\n  </thead>\n  <tbody>\n    <tr>\n      <th>1373</th>\n      <td>\"Poor instructions\"@en</td>\n      <td>3.0</td>\n      <td>2</td>\n    </tr>\n    <tr>\n      <th>12691</th>\n      <td>\"Prima ware\"</td>\n      <td>5.0</td>\n      <td>2</td>\n    </tr>\n    <tr>\n      <th>17039</th>\n      <td>\"Un ref\\u00E9rence\"@fr</td>\n      <td>4.0</td>\n      <td>2</td>\n    </tr>\n    <tr>\n      <th>39377</th>\n      <td>\"Perfect \"</td>\n      <td>4.0</td>\n      <td>2</td>\n    </tr>\n    <tr>\n      <th>44507</th>\n      <td>\"Universally useful.\"</td>\n      <td>5.0</td>\n      <td>2</td>\n    </tr>\n    <tr>\n      <th>...</th>\n      <td>...</td>\n      <td>...</td>\n      <td>...</td>\n    </tr>\n    <tr>\n      <th>801062</th>\n      <td>\"Good morning\"</td>\n      <td>5.0</td>\n      <td>2</td>\n    </tr>\n    <tr>\n      <th>801463</th>\n      <td>\"hellow everyone\"</td>\n      <td>5.0</td>\n      <td>2</td>\n    </tr>\n    <tr>\n      <th>802569</th>\n      <td>\"Super browser\"</td>\n      <td>5.0</td>\n      <td>2</td>\n    </tr>\n    <tr>\n      <th>803241</th>\n      <td>\"world no.1\"</td>\n      <td>5.0</td>\n      <td>2</td>\n    </tr>\n    <tr>\n      <th>803431</th>\n      <td>\"Osowm Rington\"</td>\n      <td>5.0</td>\n      <td>2</td>\n    </tr>\n  </tbody>\n</table>\n<p>153 rows × 3 columns</p>\n</div>"
     },
     "execution_count": 81,
     "metadata": {},
     "output_type": "execute_result"
    }
   ],
   "source": [
    "df[df.word_count==2]"
   ],
   "metadata": {
    "collapsed": false,
    "pycharm": {
     "name": "#%%\n"
    }
   }
  },
  {
   "cell_type": "code",
   "execution_count": null,
   "outputs": [],
   "source": [
    "df[df.word_count>1000]['label'].value_counts() # for later trimming, reviews have to be long enough"
   ],
   "metadata": {
    "collapsed": false,
    "pycharm": {
     "name": "#%%\n"
    }
   }
  },
  {
   "cell_type": "code",
   "execution_count": 78,
   "outputs": [
    {
     "data": {
      "text/plain": "Text(0.5, 1.0, 'Text lengths in words (Schema_CellPhone)')"
     },
     "execution_count": 78,
     "metadata": {},
     "output_type": "execute_result"
    },
    {
     "data": {
      "text/plain": "<Figure size 432x288 with 1 Axes>",
      "image/png": "[encoded data removed]"
     },
     "metadata": {},
     "output_type": "display_data"
    }
   ],
   "source": [
    "import matplotlib.pyplot as plt\n",
    "plt.rcParams['figure.facecolor'] = 'white'\n",
    "plt.hist(df['word_count'].value_counts().sort_index(), range=(0, 6000), bins=100, log=True)\n",
    "plt.xlabel('Text length')\n",
    "plt.ylabel('Distribution')\n",
    "plt.title(f'Text lengths in words (Schema_CellPhone)')"
   ],
   "metadata": {
    "collapsed": false,
    "pycharm": {
     "name": "#%%\n"
    }
   }
  },
  {
   "cell_type": "code",
   "execution_count": 80,
   "outputs": [
    {
     "data": {
      "text/plain": "count    22566.000000\nmean       176.114110\nstd        366.080395\nmin          1.000000\n25%         32.000000\n50%         55.000000\n75%        139.000000\nmax      16108.000000\nName: word_count, dtype: float64"
     },
     "execution_count": 80,
     "metadata": {},
     "output_type": "execute_result"
    }
   ],
   "source": [
    "df.word_count.value_counts()\n",
    "df.word_count.describe()"
   ],
   "metadata": {
    "collapsed": false,
    "pycharm": {
     "name": "#%%\n"
    }
   }
  },
  {
   "cell_type": "code",
   "execution_count": 49,
   "outputs": [
    {
     "data": {
      "text/plain": "5.0    16982\n4.0     4146\n3.0      953\n1.0      243\n2.0      242\nName: REVIEWRATING_adj, dtype: int64"
     },
     "execution_count": 49,
     "metadata": {},
     "output_type": "execute_result"
    }
   ],
   "source": [
    "df.REVIEWRATING_adj.value_counts()\n",
    "\n"
   ],
   "metadata": {
    "collapsed": false,
    "pycharm": {
     "name": "#%%\n"
    }
   }
  }
 ],
 "metadata": {
  "kernelspec": {
   "display_name": "Python 3",
   "language": "python",
   "name": "python3"
  },
  "language_info": {
   "codemirror_mode": {
    "name": "ipython",
    "version": 2
   },
   "file_extension": ".py",
   "mimetype": "text/x-python",
   "name": "python",
   "nbconvert_exporter": "python",
   "pygments_lexer": "ipython2",
   "version": "2.7.6"
  }
 },
 "nbformat": 4,
 "nbformat_minor": 0
}