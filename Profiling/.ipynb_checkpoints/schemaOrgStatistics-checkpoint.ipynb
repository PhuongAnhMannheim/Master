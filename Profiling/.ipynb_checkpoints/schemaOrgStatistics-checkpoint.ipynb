{
 "cells": [
  {
   "cell_type": "code",
   "execution_count": 1,
   "metadata": {
    "ExecuteTime": {
     "end_time": "2020-03-17T23:18:45.314291Z",
     "start_time": "2020-03-17T23:18:45.060768Z"
    }
   },
   "outputs": [],
   "source": [
    "# dependencies\n",
    "\n",
    "import sqlite3\n",
    "import pandas as pd\n",
    "from langdetect import DetectorFactory\n",
    "from langdetect import detect\n",
    "from zipfile import ZipFile\n",
    "from collections import Counter"
   ]
  },
  {
   "cell_type": "code",
   "execution_count": null,
   "metadata": {
    "ExecuteTime": {
     "end_time": "2020-03-16T09:55:55.303779Z",
     "start_time": "2020-03-16T09:55:55.300997Z"
    }
   },
   "outputs": [],
   "source": [
    "#loading and extracting schema.org reviews db\n",
    "#with ZipFile('schema_org_reviews.zip', 'r') as zipObj:\n",
    "   # Extract all the contents of zip file in current directory\n",
    "#   zipObj.extractall()"
   ]
  },
  {
   "cell_type": "code",
   "execution_count": 2,
   "metadata": {
    "ExecuteTime": {
     "end_time": "2020-03-17T23:18:47.486481Z",
     "start_time": "2020-03-17T23:18:47.482258Z"
    }
   },
   "outputs": [],
   "source": [
    "# connect to reviews database\n",
    "\n",
    "conn = sqlite3.connect(\"schema_org_reviews.db\")\n",
    "cursor = conn.cursor()"
   ]
  },
  {
   "cell_type": "code",
   "execution_count": 3,
   "metadata": {
    "ExecuteTime": {
     "end_time": "2020-03-17T23:18:52.560099Z",
     "start_time": "2020-03-17T23:18:49.689209Z"
    }
   },
   "outputs": [
    {
     "data": {
      "text/plain": [
       "17486857"
      ]
     },
     "execution_count": 3,
     "metadata": {},
     "output_type": "execute_result"
    }
   ],
   "source": [
    "# total amount of review entries\n",
    "\n",
    "def total_rows(cursor, table_name, print_out=False):\n",
    "    \"\"\" Returns the total number of rows in the database \"\"\"\n",
    "    cursor.execute('SELECT COUNT(*) FROM {}'.format(table_name))\n",
    "    count = cursor.fetchall()\n",
    "    if print_out:\n",
    "        print('\\nTotal rows: {}'.format(count[0][0]))\n",
    "    return count[0][0]\n",
    "\n",
    "total_rows(cursor, \"reviews\")"
   ]
  },
  {
   "cell_type": "code",
   "execution_count": 4,
   "metadata": {
    "ExecuteTime": {
     "end_time": "2020-03-17T23:20:50.028610Z",
     "start_time": "2020-03-17T23:18:54.678441Z"
    }
   },
   "outputs": [
    {
     "data": {
      "text/html": [
       "<div>\n",
       "<style scoped>\n",
       "    .dataframe tbody tr th:only-of-type {\n",
       "        vertical-align: middle;\n",
       "    }\n",
       "\n",
       "    .dataframe tbody tr th {\n",
       "        vertical-align: top;\n",
       "    }\n",
       "\n",
       "    .dataframe thead th {\n",
       "        text-align: right;\n",
       "    }\n",
       "</style>\n",
       "<table border=\"1\" class=\"dataframe\">\n",
       "  <thead>\n",
       "    <tr style=\"text-align: right;\">\n",
       "      <th></th>\n",
       "      <th>NODE</th>\n",
       "      <th>URL</th>\n",
       "      <th>REVIEWBODY</th>\n",
       "      <th>REVIEWRATING</th>\n",
       "      <th>ITEMREVIEWED</th>\n",
       "      <th>REVIEWASPECT</th>\n",
       "      <th>REVIEWAUTHOR</th>\n",
       "      <th>REVIEWDESCR</th>\n",
       "    </tr>\n",
       "  </thead>\n",
       "  <tbody>\n",
       "    <tr>\n",
       "      <td>0</td>\n",
       "      <td>_:node2c2e3ffd705962c891db9ab89a44cacc</td>\n",
       "      <td>http://20te20.ir/527007-%D8%AA%D9%86%D9%88%D8%...</td>\n",
       "      <td>None</td>\n",
       "      <td>&lt;http://20te20.ir/527007-%D8%AA%D9%86%D9%88%D8...</td>\n",
       "      <td>None</td>\n",
       "      <td>None</td>\n",
       "      <td>None</td>\n",
       "      <td>None</td>\n",
       "    </tr>\n",
       "    <tr>\n",
       "      <td>1</td>\n",
       "      <td>_:node1f865f4bfa138ac184ddbbd383299621</td>\n",
       "      <td>http://67kmm.com/~hello-neighbor/android</td>\n",
       "      <td>\"Hello Neighbor est un jeu d'horreur \\u00C3\\u0...</td>\n",
       "      <td>None</td>\n",
       "      <td>None</td>\n",
       "      <td>None</td>\n",
       "      <td>None</td>\n",
       "      <td>None</td>\n",
       "    </tr>\n",
       "    <tr>\n",
       "      <td>2</td>\n",
       "      <td>_:node7d8efbe93e9573eb609b41cfa3be84</td>\n",
       "      <td>http://67kmm.com/~snapchat/android</td>\n",
       "      <td>\"Bon7Snapchat est une application de partage i...</td>\n",
       "      <td>None</td>\n",
       "      <td>None</td>\n",
       "      <td>None</td>\n",
       "      <td>None</td>\n",
       "      <td>None</td>\n",
       "    </tr>\n",
       "    <tr>\n",
       "      <td>3</td>\n",
       "      <td>_:node98788ddf61c5e4913d4ee048868b02</td>\n",
       "      <td>http://20te20.ir/517230-%D8%A7%D8%AA%D9%88-%D8...</td>\n",
       "      <td>None</td>\n",
       "      <td>&lt;http://20te20.ir/517230-%D8%A7%D8%AA%D9%88-%D...</td>\n",
       "      <td>None</td>\n",
       "      <td>None</td>\n",
       "      <td>None</td>\n",
       "      <td>None</td>\n",
       "    </tr>\n",
       "    <tr>\n",
       "      <td>4</td>\n",
       "      <td>_:nodebb685880f9d030fca1b194c14548d8b5</td>\n",
       "      <td>http://67kmm.com/~grand-theft-auto-san-andreas...</td>\n",
       "      <td>\"Par Matt Mullarkey-TonerExcellent9Du haut de ...</td>\n",
       "      <td>None</td>\n",
       "      <td>None</td>\n",
       "      <td>None</td>\n",
       "      <td>_:node55c1dea05a3a6929edebabe6265ba3b</td>\n",
       "      <td>None</td>\n",
       "    </tr>\n",
       "  </tbody>\n",
       "</table>\n",
       "</div>"
      ],
      "text/plain": [
       "                                     NODE  \\\n",
       "0  _:node2c2e3ffd705962c891db9ab89a44cacc   \n",
       "1  _:node1f865f4bfa138ac184ddbbd383299621   \n",
       "2    _:node7d8efbe93e9573eb609b41cfa3be84   \n",
       "3    _:node98788ddf61c5e4913d4ee048868b02   \n",
       "4  _:nodebb685880f9d030fca1b194c14548d8b5   \n",
       "\n",
       "                                                 URL  \\\n",
       "0  http://20te20.ir/527007-%D8%AA%D9%86%D9%88%D8%...   \n",
       "1           http://67kmm.com/~hello-neighbor/android   \n",
       "2                 http://67kmm.com/~snapchat/android   \n",
       "3  http://20te20.ir/517230-%D8%A7%D8%AA%D9%88-%D8...   \n",
       "4  http://67kmm.com/~grand-theft-auto-san-andreas...   \n",
       "\n",
       "                                          REVIEWBODY  \\\n",
       "0                                               None   \n",
       "1  \"Hello Neighbor est un jeu d'horreur \\u00C3\\u0...   \n",
       "2  \"Bon7Snapchat est une application de partage i...   \n",
       "3                                               None   \n",
       "4  \"Par Matt Mullarkey-TonerExcellent9Du haut de ...   \n",
       "\n",
       "                                        REVIEWRATING ITEMREVIEWED  \\\n",
       "0  <http://20te20.ir/527007-%D8%AA%D9%86%D9%88%D8...         None   \n",
       "1                                               None         None   \n",
       "2                                               None         None   \n",
       "3  <http://20te20.ir/517230-%D8%A7%D8%AA%D9%88-%D...         None   \n",
       "4                                               None         None   \n",
       "\n",
       "  REVIEWASPECT                           REVIEWAUTHOR REVIEWDESCR  \n",
       "0         None                                   None        None  \n",
       "1         None                                   None        None  \n",
       "2         None                                   None        None  \n",
       "3         None                                   None        None  \n",
       "4         None  _:node55c1dea05a3a6929edebabe6265ba3b        None  "
      ]
     },
     "execution_count": 4,
     "metadata": {},
     "output_type": "execute_result"
    }
   ],
   "source": [
    "# transfer review database to pandas \n",
    "\n",
    "df = pd.read_sql_query(\"SELECT * from reviews\", conn)\n",
    "df.head()"
   ]
  },
  {
   "cell_type": "code",
   "execution_count": 6,
   "metadata": {
    "ExecuteTime": {
     "end_time": "2020-03-17T23:22:12.827020Z",
     "start_time": "2020-03-17T23:22:12.817766Z"
    }
   },
   "outputs": [
    {
     "name": "stdout",
     "output_type": "stream",
     "text": [
      "Shape\n",
      "(17486857, 8)\n",
      "Columns\n",
      "Index(['NODE', 'URL', 'REVIEWBODY', 'REVIEWRATING', 'ITEMREVIEWED',\n",
      "       'REVIEWASPECT', 'REVIEWAUTHOR', 'REVIEWDESCR'],\n",
      "      dtype='object')\n",
      "Info\n",
      "<class 'pandas.core.frame.DataFrame'>\n",
      "RangeIndex: 17486857 entries, 0 to 17486856\n",
      "Data columns (total 8 columns):\n",
      "NODE            object\n",
      "URL             object\n",
      "REVIEWBODY      object\n",
      "REVIEWRATING    object\n",
      "ITEMREVIEWED    object\n",
      "REVIEWASPECT    object\n",
      "REVIEWAUTHOR    object\n",
      "REVIEWDESCR     object\n",
      "dtypes: object(8)\n",
      "memory usage: 1.0+ GB\n",
      "None\n"
     ]
    }
   ],
   "source": [
    "# general information\n",
    "### del df['bTEXT']\n",
    "\n",
    "print(\"Shape\")\n",
    "print(df.shape)\n",
    "print(\"Columns\")\n",
    "print(df.columns)\n",
    "print(\"Info\")\n",
    "print(df.info())"
   ]
  },
  {
   "cell_type": "code",
   "execution_count": 8,
   "metadata": {
    "ExecuteTime": {
     "end_time": "2020-03-17T23:26:41.757225Z",
     "start_time": "2020-03-17T23:22:47.139494Z"
    }
   },
   "outputs": [
    {
     "data": {
      "text/html": [
       "<div>\n",
       "<style scoped>\n",
       "    .dataframe tbody tr th:only-of-type {\n",
       "        vertical-align: middle;\n",
       "    }\n",
       "\n",
       "    .dataframe tbody tr th {\n",
       "        vertical-align: top;\n",
       "    }\n",
       "\n",
       "    .dataframe thead th {\n",
       "        text-align: right;\n",
       "    }\n",
       "</style>\n",
       "<table border=\"1\" class=\"dataframe\">\n",
       "  <thead>\n",
       "    <tr style=\"text-align: right;\">\n",
       "      <th></th>\n",
       "      <th>NODE</th>\n",
       "      <th>URL</th>\n",
       "      <th>REVIEWBODY</th>\n",
       "      <th>REVIEWRATING</th>\n",
       "      <th>ITEMREVIEWED</th>\n",
       "      <th>REVIEWASPECT</th>\n",
       "      <th>REVIEWAUTHOR</th>\n",
       "      <th>REVIEWDESCR</th>\n",
       "    </tr>\n",
       "  </thead>\n",
       "  <tbody>\n",
       "    <tr>\n",
       "      <td>count</td>\n",
       "      <td>17486857</td>\n",
       "      <td>17486857</td>\n",
       "      <td>17211204</td>\n",
       "      <td>549565</td>\n",
       "      <td>6924</td>\n",
       "      <td>0</td>\n",
       "      <td>2731</td>\n",
       "      <td>798</td>\n",
       "    </tr>\n",
       "    <tr>\n",
       "      <td>unique</td>\n",
       "      <td>17451213</td>\n",
       "      <td>3747953</td>\n",
       "      <td>8618274</td>\n",
       "      <td>4104</td>\n",
       "      <td>3658</td>\n",
       "      <td>0</td>\n",
       "      <td>2348</td>\n",
       "      <td>674</td>\n",
       "    </tr>\n",
       "    <tr>\n",
       "      <td>top</td>\n",
       "      <td>_:nodee56c2b7959d78eeec53ebb20dc937039</td>\n",
       "      <td>https://my-phone-finder.com/find-imei</td>\n",
       "      <td>\"Null\"@en</td>\n",
       "      <td>\"Null\"@en</td>\n",
       "      <td>\"BARFOOT\"@en-US</td>\n",
       "      <td>NaN</td>\n",
       "      <td>\"Null\"@ru-RU</td>\n",
       "      <td>\"\\u043F\\u0457\\u0405\\u043F\\u0457\\u0405\\u043F\\u0...</td>\n",
       "    </tr>\n",
       "    <tr>\n",
       "      <td>freq</td>\n",
       "      <td>3</td>\n",
       "      <td>3590</td>\n",
       "      <td>107477</td>\n",
       "      <td>106822</td>\n",
       "      <td>1118</td>\n",
       "      <td>NaN</td>\n",
       "      <td>31</td>\n",
       "      <td>20</td>\n",
       "    </tr>\n",
       "  </tbody>\n",
       "</table>\n",
       "</div>"
      ],
      "text/plain": [
       "                                          NODE  \\\n",
       "count                                 17486857   \n",
       "unique                                17451213   \n",
       "top     _:nodee56c2b7959d78eeec53ebb20dc937039   \n",
       "freq                                         3   \n",
       "\n",
       "                                          URL REVIEWBODY REVIEWRATING  \\\n",
       "count                                17486857   17211204       549565   \n",
       "unique                                3747953    8618274         4104   \n",
       "top     https://my-phone-finder.com/find-imei  \"Null\"@en    \"Null\"@en   \n",
       "freq                                     3590     107477       106822   \n",
       "\n",
       "           ITEMREVIEWED REVIEWASPECT  REVIEWAUTHOR  \\\n",
       "count              6924            0          2731   \n",
       "unique             3658            0          2348   \n",
       "top     \"BARFOOT\"@en-US          NaN  \"Null\"@ru-RU   \n",
       "freq               1118          NaN            31   \n",
       "\n",
       "                                              REVIEWDESCR  \n",
       "count                                                 798  \n",
       "unique                                                674  \n",
       "top     \"\\u043F\\u0457\\u0405\\u043F\\u0457\\u0405\\u043F\\u0...  \n",
       "freq                                                   20  "
      ]
     },
     "execution_count": 8,
     "metadata": {},
     "output_type": "execute_result"
    }
   ],
   "source": [
    "df.describe(include='all')"
   ]
  },
  {
   "cell_type": "code",
   "execution_count": 9,
   "metadata": {
    "ExecuteTime": {
     "end_time": "2020-03-17T23:30:54.274156Z",
     "start_time": "2020-03-17T23:30:43.122078Z"
    }
   },
   "outputs": [
    {
     "data": {
      "text/html": [
       "<div>\n",
       "<style scoped>\n",
       "    .dataframe tbody tr th:only-of-type {\n",
       "        vertical-align: middle;\n",
       "    }\n",
       "\n",
       "    .dataframe tbody tr th {\n",
       "        vertical-align: top;\n",
       "    }\n",
       "\n",
       "    .dataframe thead th {\n",
       "        text-align: right;\n",
       "    }\n",
       "</style>\n",
       "<table border=\"1\" class=\"dataframe\">\n",
       "  <thead>\n",
       "    <tr style=\"text-align: right;\">\n",
       "      <th></th>\n",
       "      <th>NODE</th>\n",
       "      <th>URL</th>\n",
       "      <th>REVIEWBODY</th>\n",
       "      <th>REVIEWRATING</th>\n",
       "      <th>ITEMREVIEWED</th>\n",
       "      <th>REVIEWASPECT</th>\n",
       "      <th>REVIEWAUTHOR</th>\n",
       "      <th>REVIEWDESCR</th>\n",
       "    </tr>\n",
       "  </thead>\n",
       "  <tbody>\n",
       "    <tr>\n",
       "      <td>0</td>\n",
       "      <td>_:node2c2e3ffd705962c891db9ab89a44cacc</td>\n",
       "      <td>http://20te20.ir/527007-%D8%AA%D9%86%D9%88%D8%...</td>\n",
       "      <td>None</td>\n",
       "      <td>&lt;http://20te20.ir/527007-%D8%AA%D9%86%D9%88%D8...</td>\n",
       "      <td>None</td>\n",
       "      <td>None</td>\n",
       "      <td>None</td>\n",
       "      <td>None</td>\n",
       "    </tr>\n",
       "    <tr>\n",
       "      <td>1</td>\n",
       "      <td>_:node1f865f4bfa138ac184ddbbd383299621</td>\n",
       "      <td>http://67kmm.com/~hello-neighbor/android</td>\n",
       "      <td>\"Hello Neighbor est un jeu d'horreur \\u00C3\\u0...</td>\n",
       "      <td>None</td>\n",
       "      <td>None</td>\n",
       "      <td>None</td>\n",
       "      <td>None</td>\n",
       "      <td>None</td>\n",
       "    </tr>\n",
       "    <tr>\n",
       "      <td>2</td>\n",
       "      <td>_:node7d8efbe93e9573eb609b41cfa3be84</td>\n",
       "      <td>http://67kmm.com/~snapchat/android</td>\n",
       "      <td>\"Bon7Snapchat est une application de partage i...</td>\n",
       "      <td>None</td>\n",
       "      <td>None</td>\n",
       "      <td>None</td>\n",
       "      <td>None</td>\n",
       "      <td>None</td>\n",
       "    </tr>\n",
       "    <tr>\n",
       "      <td>3</td>\n",
       "      <td>_:node98788ddf61c5e4913d4ee048868b02</td>\n",
       "      <td>http://20te20.ir/517230-%D8%A7%D8%AA%D9%88-%D8...</td>\n",
       "      <td>None</td>\n",
       "      <td>&lt;http://20te20.ir/517230-%D8%A7%D8%AA%D9%88-%D...</td>\n",
       "      <td>None</td>\n",
       "      <td>None</td>\n",
       "      <td>None</td>\n",
       "      <td>None</td>\n",
       "    </tr>\n",
       "    <tr>\n",
       "      <td>4</td>\n",
       "      <td>_:nodebb685880f9d030fca1b194c14548d8b5</td>\n",
       "      <td>http://67kmm.com/~grand-theft-auto-san-andreas...</td>\n",
       "      <td>\"Par Matt Mullarkey-TonerExcellent9Du haut de ...</td>\n",
       "      <td>None</td>\n",
       "      <td>None</td>\n",
       "      <td>None</td>\n",
       "      <td>_:node55c1dea05a3a6929edebabe6265ba3b</td>\n",
       "      <td>None</td>\n",
       "    </tr>\n",
       "  </tbody>\n",
       "</table>\n",
       "</div>"
      ],
      "text/plain": [
       "                                     NODE  \\\n",
       "0  _:node2c2e3ffd705962c891db9ab89a44cacc   \n",
       "1  _:node1f865f4bfa138ac184ddbbd383299621   \n",
       "2    _:node7d8efbe93e9573eb609b41cfa3be84   \n",
       "3    _:node98788ddf61c5e4913d4ee048868b02   \n",
       "4  _:nodebb685880f9d030fca1b194c14548d8b5   \n",
       "\n",
       "                                                 URL  \\\n",
       "0  http://20te20.ir/527007-%D8%AA%D9%86%D9%88%D8%...   \n",
       "1           http://67kmm.com/~hello-neighbor/android   \n",
       "2                 http://67kmm.com/~snapchat/android   \n",
       "3  http://20te20.ir/517230-%D8%A7%D8%AA%D9%88-%D8...   \n",
       "4  http://67kmm.com/~grand-theft-auto-san-andreas...   \n",
       "\n",
       "                                          REVIEWBODY  \\\n",
       "0                                               None   \n",
       "1  \"Hello Neighbor est un jeu d'horreur \\u00C3\\u0...   \n",
       "2  \"Bon7Snapchat est une application de partage i...   \n",
       "3                                               None   \n",
       "4  \"Par Matt Mullarkey-TonerExcellent9Du haut de ...   \n",
       "\n",
       "                                        REVIEWRATING ITEMREVIEWED  \\\n",
       "0  <http://20te20.ir/527007-%D8%AA%D9%86%D9%88%D8...         None   \n",
       "1                                               None         None   \n",
       "2                                               None         None   \n",
       "3  <http://20te20.ir/517230-%D8%A7%D8%AA%D9%88-%D...         None   \n",
       "4                                               None         None   \n",
       "\n",
       "  REVIEWASPECT                           REVIEWAUTHOR REVIEWDESCR  \n",
       "0         None                                   None        None  \n",
       "1         None                                   None        None  \n",
       "2         None                                   None        None  \n",
       "3         None                                   None        None  \n",
       "4         None  _:node55c1dea05a3a6929edebabe6265ba3b        None  "
      ]
     },
     "execution_count": 9,
     "metadata": {},
     "output_type": "execute_result"
    }
   ],
   "source": [
    "# filter out all entries with missing value \n",
    "\n",
    "df.dropna()\n",
    "df.head()"
   ]
  },
  {
   "cell_type": "code",
   "execution_count": 10,
   "metadata": {
    "ExecuteTime": {
     "end_time": "2020-03-17T23:31:02.827615Z",
     "start_time": "2020-03-17T23:30:54.334836Z"
    }
   },
   "outputs": [
    {
     "name": "stdout",
     "output_type": "stream",
     "text": [
      "(17211204, 8)\n"
     ]
    }
   ],
   "source": [
    "# without reviewbody\n",
    "\n",
    "print(df[df.REVIEWBODY.notnull()].shape)"
   ]
  },
  {
   "cell_type": "code",
   "execution_count": 11,
   "metadata": {
    "ExecuteTime": {
     "end_time": "2020-03-17T23:31:06.978383Z",
     "start_time": "2020-03-17T23:31:02.892568Z"
    }
   },
   "outputs": [
    {
     "name": "stdout",
     "output_type": "stream",
     "text": [
      "(318849, 8)\n"
     ]
    }
   ],
   "source": [
    "# without reviewbody and rating\n",
    "\n",
    "df1 = df[df.REVIEWBODY.notnull()&df.REVIEWRATING.notnull()]\n",
    "print(df1.shape)"
   ]
  },
  {
   "cell_type": "code",
   "execution_count": 12,
   "metadata": {
    "ExecuteTime": {
     "end_time": "2020-03-17T23:31:07.755761Z",
     "start_time": "2020-03-17T23:31:07.077953Z"
    }
   },
   "outputs": [
    {
     "data": {
      "text/plain": [
       "'en'"
      ]
     },
     "execution_count": 12,
     "metadata": {},
     "output_type": "execute_result"
    }
   ],
   "source": [
    "# test\n",
    "\n",
    "detect(df1.at[835, 'REVIEWBODY'])"
   ]
  },
  {
   "cell_type": "code",
   "execution_count": 13,
   "metadata": {
    "ExecuteTime": {
     "end_time": "2020-03-18T00:34:44.081484Z",
     "start_time": "2020-03-17T23:31:07.862452Z"
    }
   },
   "outputs": [
    {
     "name": "stdout",
     "output_type": "stream",
     "text": [
      "exception: \".......................................\"\n",
      "exception: \".\"\n",
      "exception: \".\"\n",
      "exception: \"https://www.ortovox.com/us/services/emergency-equipment/avalanche-transceivers/recall-s1/recall-s1/\"\n",
      "exception: \". \"\n",
      "exception: \"..\"\n",
      "exception: \".\"\n",
      "exception: \"http://www.gear.com/yakima-evenkeel-kayak-rack-gear-review/\"\n",
      "exception: \"5/5\"\n",
      "exception: \"http://www.pinkbike.com/news/airshot-review.html\"\n",
      "exception: \".\"\n",
      "exception: \".\"\n",
      "exception: \"https://www.youtube.com/watch?v=TWVSyoTqPWY\"\n",
      "exception: \"-\"\n",
      "exception: \"https://www.ortovox.com/us/services/emergency-equipment/avalanche-transceivers/recall-s1/recall-s1/\"\n",
      "exception: \"5*\"\n",
      "exception: \"..............................\"\n",
      "exception: \"https://www.youtube.com/watch?v=TWVSyoTqPWY\"\n",
      "exception: \"http://www.outdoorgearlab.com/Sleeping-Bag-Womens-Reviews\"\n",
      "exception: \"..............\"\n",
      "exception: \".\"\n",
      "exception: \"5\"\n",
      "exception: \"https://shop.surfindustries.com/us/surf/shortboards/modern-highline-pu-shortboard/\"\n",
      "exception: \"https://www.youtube.com/watch?v=TWVSyoTqPWY\"\n",
      "exception: \"https://www.youtube.com/watch?v=TWVSyoTqPWY\"\n",
      "exception: \"-\"\n",
      "exception: \"..\"\n",
      "exception: \"....\"\n",
      "exception: \"https://sierradesigns.com/flex-capacitor/?gclid=EAIaIQobChMIxNLL1rOX2wIVkNlkCh2c0Q5dEAAYASAAEgJ7A_D_BwE\"\n",
      "exception: \"https://www.youtube.com/watch?v=TWVSyoTqPWY\"\n",
      "exception: \"^^^^^\"\n"
     ]
    },
    {
     "name": "stderr",
     "output_type": "stream",
     "text": [
      "/opt/conda/lib/python3.6/site-packages/ipykernel_launcher.py:11: SettingWithCopyWarning: \n",
      "A value is trying to be set on a copy of a slice from a DataFrame.\n",
      "Try using .loc[row_indexer,col_indexer] = value instead\n",
      "\n",
      "See the caveats in the documentation: http://pandas.pydata.org/pandas-docs/stable/user_guide/indexing.html#returning-a-view-versus-a-copy\n",
      "  # This is added back by InteractiveShellApp.init_path()\n"
     ]
    }
   ],
   "source": [
    "# detect language\n",
    "\n",
    "def detectLang(row):\n",
    "    try:\n",
    "        return detect(row['REVIEWBODY'])\n",
    "    except:\n",
    "        print(\"exception:\", row['REVIEWBODY'])\n",
    "    else: \n",
    "        print(\"sad:\", row['REVIEWBODY'])\n",
    "\n",
    "df1['LANGUAGE'] = df1.apply(detectLang, axis=1)"
   ]
  },
  {
   "cell_type": "code",
   "execution_count": 14,
   "metadata": {
    "ExecuteTime": {
     "end_time": "2020-03-18T00:34:44.218745Z",
     "start_time": "2020-03-18T00:34:44.198907Z"
    }
   },
   "outputs": [
    {
     "data": {
      "text/html": [
       "<div>\n",
       "<style scoped>\n",
       "    .dataframe tbody tr th:only-of-type {\n",
       "        vertical-align: middle;\n",
       "    }\n",
       "\n",
       "    .dataframe tbody tr th {\n",
       "        vertical-align: top;\n",
       "    }\n",
       "\n",
       "    .dataframe thead th {\n",
       "        text-align: right;\n",
       "    }\n",
       "</style>\n",
       "<table border=\"1\" class=\"dataframe\">\n",
       "  <thead>\n",
       "    <tr style=\"text-align: right;\">\n",
       "      <th></th>\n",
       "      <th>NODE</th>\n",
       "      <th>URL</th>\n",
       "      <th>REVIEWBODY</th>\n",
       "      <th>REVIEWRATING</th>\n",
       "      <th>ITEMREVIEWED</th>\n",
       "      <th>REVIEWASPECT</th>\n",
       "      <th>REVIEWAUTHOR</th>\n",
       "      <th>REVIEWDESCR</th>\n",
       "      <th>LANGUAGE</th>\n",
       "    </tr>\n",
       "  </thead>\n",
       "  <tbody>\n",
       "    <tr>\n",
       "      <td>17441407</td>\n",
       "      <td>_:nodeb269e26506a342b916677bebdd7232</td>\n",
       "      <td>https://www.holsterwelt.com/Lederholster-mit-v...</td>\n",
       "      <td>\"Dieses Holster ist f\\uFFFDr normale Laufl\\uFF...</td>\n",
       "      <td>\"5\"</td>\n",
       "      <td>None</td>\n",
       "      <td>None</td>\n",
       "      <td>None</td>\n",
       "      <td>None</td>\n",
       "      <td>de</td>\n",
       "    </tr>\n",
       "    <tr>\n",
       "      <td>17441525</td>\n",
       "      <td>_:nodeef67b7321cd6d08bc0e3763f3234806d</td>\n",
       "      <td>https://www.sigridsfabric.com/listing/63025669...</td>\n",
       "      <td>\"C'est parfait merci colis envoy\\u00E9 rapide ...</td>\n",
       "      <td>\"Null\"@en</td>\n",
       "      <td>None</td>\n",
       "      <td>None</td>\n",
       "      <td>None</td>\n",
       "      <td>None</td>\n",
       "      <td>fr</td>\n",
       "    </tr>\n",
       "    <tr>\n",
       "      <td>17441594</td>\n",
       "      <td>_:node119d1630fe6b4c594a4697e285a869a</td>\n",
       "      <td>http://www.kucoba.com/2013/05/hasil-quick-coun...</td>\n",
       "      <td>\"Null\"@ID-US</td>\n",
       "      <td>\"5\"@ID-US</td>\n",
       "      <td>None</td>\n",
       "      <td>None</td>\n",
       "      <td>None</td>\n",
       "      <td>None</td>\n",
       "      <td>it</td>\n",
       "    </tr>\n",
       "    <tr>\n",
       "      <td>17441854</td>\n",
       "      <td>_:node489b93848c27a5b458ede189bff0ddfe</td>\n",
       "      <td>https://www.koeltaskopen.nl/grote-navy-koeltas...</td>\n",
       "      <td>\"Ik heb grote navy koeltas met 8x koelelemente...</td>\n",
       "      <td>\"10.0\"@nl</td>\n",
       "      <td>None</td>\n",
       "      <td>None</td>\n",
       "      <td>None</td>\n",
       "      <td>None</td>\n",
       "      <td>nl</td>\n",
       "    </tr>\n",
       "    <tr>\n",
       "      <td>17441910</td>\n",
       "      <td>_:nodefa4242979f1a6551f342299e3ab0d2</td>\n",
       "      <td>https://www.plastic-tafelkleed.nl/plastic-wit-...</td>\n",
       "      <td>\"Online afgelopen week wit halloween spinnenwe...</td>\n",
       "      <td>\"10.0\"@nl</td>\n",
       "      <td>None</td>\n",
       "      <td>None</td>\n",
       "      <td>None</td>\n",
       "      <td>None</td>\n",
       "      <td>nl</td>\n",
       "    </tr>\n",
       "  </tbody>\n",
       "</table>\n",
       "</div>"
      ],
      "text/plain": [
       "                                            NODE  \\\n",
       "17441407    _:nodeb269e26506a342b916677bebdd7232   \n",
       "17441525  _:nodeef67b7321cd6d08bc0e3763f3234806d   \n",
       "17441594   _:node119d1630fe6b4c594a4697e285a869a   \n",
       "17441854  _:node489b93848c27a5b458ede189bff0ddfe   \n",
       "17441910    _:nodefa4242979f1a6551f342299e3ab0d2   \n",
       "\n",
       "                                                        URL  \\\n",
       "17441407  https://www.holsterwelt.com/Lederholster-mit-v...   \n",
       "17441525  https://www.sigridsfabric.com/listing/63025669...   \n",
       "17441594  http://www.kucoba.com/2013/05/hasil-quick-coun...   \n",
       "17441854  https://www.koeltaskopen.nl/grote-navy-koeltas...   \n",
       "17441910  https://www.plastic-tafelkleed.nl/plastic-wit-...   \n",
       "\n",
       "                                                 REVIEWBODY REVIEWRATING  \\\n",
       "17441407  \"Dieses Holster ist f\\uFFFDr normale Laufl\\uFF...          \"5\"   \n",
       "17441525  \"C'est parfait merci colis envoy\\u00E9 rapide ...    \"Null\"@en   \n",
       "17441594                                       \"Null\"@ID-US    \"5\"@ID-US   \n",
       "17441854  \"Ik heb grote navy koeltas met 8x koelelemente...    \"10.0\"@nl   \n",
       "17441910  \"Online afgelopen week wit halloween spinnenwe...    \"10.0\"@nl   \n",
       "\n",
       "         ITEMREVIEWED REVIEWASPECT REVIEWAUTHOR REVIEWDESCR LANGUAGE  \n",
       "17441407         None         None         None        None       de  \n",
       "17441525         None         None         None        None       fr  \n",
       "17441594         None         None         None        None       it  \n",
       "17441854         None         None         None        None       nl  \n",
       "17441910         None         None         None        None       nl  "
      ]
     },
     "execution_count": 14,
     "metadata": {},
     "output_type": "execute_result"
    }
   ],
   "source": [
    "df1.tail()"
   ]
  },
  {
   "cell_type": "code",
   "execution_count": 15,
   "metadata": {
    "ExecuteTime": {
     "end_time": "2020-03-18T00:34:45.206370Z",
     "start_time": "2020-03-18T00:34:44.320533Z"
    }
   },
   "outputs": [
    {
     "name": "stdout",
     "output_type": "stream",
     "text": [
      "(318818, 9)\n"
     ]
    },
    {
     "data": {
      "text/plain": [
       "en    205063\n",
       "no     31200\n",
       "nl     24043\n",
       "hr     16886\n",
       "fi      9740\n",
       "de      6534\n",
       "es      6296\n",
       "it      3702\n",
       "fr      3376\n",
       "pl      2803\n",
       "af      2252\n",
       "pt      2033\n",
       "da      1028\n",
       "ca      1024\n",
       "ro       793\n",
       "so       441\n",
       "id       290\n",
       "sv       229\n",
       "cy       200\n",
       "et       179\n",
       "sq       129\n",
       "tr       113\n",
       "sl        95\n",
       "sk        70\n",
       "lv        63\n",
       "cs        62\n",
       "hu        55\n",
       "tl        42\n",
       "lt        34\n",
       "sw        22\n",
       "vi        21\n",
       "Name: LANGUAGE, dtype: int64"
      ]
     },
     "execution_count": 15,
     "metadata": {},
     "output_type": "execute_result"
    }
   ],
   "source": [
    "print(df1[df1.LANGUAGE.notnull()].shape)\n",
    "\n",
    "# quantitative representation of languages besides 31 none\n",
    "\n",
    "df1['LANGUAGE'].value_counts()"
   ]
  },
  {
   "cell_type": "code",
   "execution_count": 16,
   "metadata": {
    "ExecuteTime": {
     "end_time": "2020-03-18T00:34:45.419857Z",
     "start_time": "2020-03-18T00:34:45.308574Z"
    }
   },
   "outputs": [],
   "source": [
    "df_en = df1.loc[df1['LANGUAGE'] == \"en\"]"
   ]
  },
  {
   "cell_type": "code",
   "execution_count": 17,
   "metadata": {
    "ExecuteTime": {
     "end_time": "2020-03-18T00:34:45.716453Z",
     "start_time": "2020-03-18T00:34:45.543850Z"
    }
   },
   "outputs": [
    {
     "data": {
      "text/plain": [
       "count        205063\n",
       "unique          369\n",
       "top       \"Null\"@en\n",
       "freq          65120\n",
       "Name: REVIEWRATING, dtype: object"
      ]
     },
     "execution_count": 17,
     "metadata": {},
     "output_type": "execute_result"
    }
   ],
   "source": [
    "df_en['REVIEWRATING'].value_counts()\n",
    "df_en['REVIEWRATING'].describe(include='all')"
   ]
  }
 ],
 "metadata": {
  "kernelspec": {
   "display_name": "Python 3",
   "language": "python",
   "name": "python3"
  },
  "language_info": {
   "codemirror_mode": {
    "name": "ipython",
    "version": 3
   },
   "file_extension": ".py",
   "mimetype": "text/x-python",
   "name": "python",
   "nbconvert_exporter": "python",
   "pygments_lexer": "ipython3",
   "version": "3.6.9"
  },
  "toc": {
   "base_numbering": 1,
   "nav_menu": {},
   "number_sections": true,
   "sideBar": true,
   "skip_h1_title": false,
   "title_cell": "Table of Contents",
   "title_sidebar": "Contents",
   "toc_cell": false,
   "toc_position": {},
   "toc_section_display": true,
   "toc_window_display": false
  },
  "varInspector": {
   "cols": {
    "lenName": 16,
    "lenType": 16,
    "lenVar": 40
   },
   "kernels_config": {
    "python": {
     "delete_cmd_postfix": "",
     "delete_cmd_prefix": "del ",
     "library": "var_list.py",
     "varRefreshCmd": "print(var_dic_list())"
    },
    "r": {
     "delete_cmd_postfix": ") ",
     "delete_cmd_prefix": "rm(",
     "library": "var_list.r",
     "varRefreshCmd": "cat(var_dic_list()) "
    }
   },
   "types_to_exclude": [
    "module",
    "function",
    "builtin_function_or_method",
    "instance",
    "_Feature"
   ],
   "window_display": false
  }
 },
 "nbformat": 4,
 "nbformat_minor": 2
}
