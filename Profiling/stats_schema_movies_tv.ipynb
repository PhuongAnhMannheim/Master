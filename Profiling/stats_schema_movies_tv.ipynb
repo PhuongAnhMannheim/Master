{
 "cells": [
  {
   "cell_type": "code",
   "execution_count": 1,
   "metadata": {
    "collapsed": true
   },
   "outputs": [
    {
     "name": "stdout",
     "output_type": "stream",
     "text": [
      "showing info https://raw.githubusercontent.com/nltk/nltk_data/gh-pages/index.xml\n",
      "######## DATA LOAD\n",
      "Data loaded\n",
      "######## GENERAL INFORMATION\n",
      "######## Total: \n",
      "Amount of reviews:  72424\n",
      "######## DESCRIPTION\n",
      "                                          NODE  \\\n",
      "count                                    72424   \n",
      "unique                                   72424   \n",
      "top     _:znodeFX8vyOGlSZjLw8UCCNgyR2HoU8hmbjD   \n",
      "freq                                         1   \n",
      "mean                                       NaN   \n",
      "std                                        NaN   \n",
      "min                                        NaN   \n",
      "25%                                        NaN   \n",
      "50%                                        NaN   \n",
      "75%                                        NaN   \n",
      "max                                        NaN   \n",
      "\n",
      "                                                      URL  \\\n",
      "count                                               72424   \n",
      "unique                                              25049   \n",
      "top     https://www.imdb.com/search/title/?title_type=...   \n",
      "freq                                                  953   \n",
      "mean                                                  NaN   \n",
      "std                                                   NaN   \n",
      "min                                                   NaN   \n",
      "25%                                                   NaN   \n",
      "50%                                                   NaN   \n",
      "75%                                                   NaN   \n",
      "max                                                   NaN   \n",
      "\n",
      "                                                     text         label  \\\n",
      "count                                               72424  72424.000000   \n",
      "unique                                              72424           NaN   \n",
      "top     Julia Stiles character was too cold, mean, and...           NaN   \n",
      "freq                                                    1           NaN   \n",
      "mean                                                  NaN      3.153361   \n",
      "std                                                   NaN      1.276391   \n",
      "min                                                   NaN      1.000000   \n",
      "25%                                                   NaN      2.000000   \n",
      "50%                                                   NaN      3.000000   \n",
      "75%                                                   NaN      4.000000   \n",
      "max                                                   NaN      5.000000   \n",
      "\n",
      "                                 text_prep   token_count  upper  \\\n",
      "count                                72424  72424.000000  72424   \n",
      "unique                               72424           NaN  16077   \n",
      "top     scari hybrid tribut capit run amok           NaN     []   \n",
      "freq                                     1           NaN  41027   \n",
      "mean                                   NaN    139.699630    NaN   \n",
      "std                                    NaN    236.224933    NaN   \n",
      "min                                    NaN      1.000000    NaN   \n",
      "25%                                    NaN     14.000000    NaN   \n",
      "50%                                    NaN     33.000000    NaN   \n",
      "75%                                    NaN    140.000000    NaN   \n",
      "max                                    NaN   4979.000000    NaN   \n",
      "\n",
      "                                                      pos  \n",
      "count                                               72424  \n",
      "unique                                              72424  \n",
      "top     [(girl, NN), (moves, NNS), (starts, VBZ), (wre...  \n",
      "freq                                                    1  \n",
      "mean                                                  NaN  \n",
      "std                                                   NaN  \n",
      "min                                                   NaN  \n",
      "25%                                                   NaN  \n",
      "50%                                                   NaN  \n",
      "75%                                                   NaN  \n",
      "max                                                   NaN  \n",
      "######## COMPLETION CHECK\n",
      "Missing Text\n",
      "Missing/Empty review text: 0\n",
      "Missing review text as percentage: 0.00% \n",
      "Missing Label\n",
      "Missing rating information 0\n",
      "Missing rating information as percentage: 0.00%\n",
      "Before deleting empty review texts:  72424\n",
      "After deleting empty review texts:  72424\n",
      "######## DUPLICATION CHECK\n",
      "Before deleting duplicate entries:  72424\n"
     ]
    },
    {
     "ename": "TypeError",
     "evalue": "unhashable type: 'list'",
     "output_type": "error",
     "traceback": [
      "\u001B[1;31m---------------------------------------------------------------------------\u001B[0m",
      "\u001B[1;31mTypeError\u001B[0m                                 Traceback (most recent call last)",
      "\u001B[1;32m<ipython-input-1-48e2465e50c0>\u001B[0m in \u001B[0;36m<module>\u001B[1;34m\u001B[0m\n\u001B[0;32m     22\u001B[0m \u001B[1;33m\u001B[0m\u001B[0m\n\u001B[0;32m     23\u001B[0m \u001B[0mprint\u001B[0m\u001B[1;33m(\u001B[0m\u001B[1;34m'######## DUPLICATION CHECK'\u001B[0m\u001B[1;33m)\u001B[0m\u001B[1;33m\u001B[0m\u001B[1;33m\u001B[0m\u001B[0m\n\u001B[1;32m---> 24\u001B[1;33m \u001B[0mdf\u001B[0m \u001B[1;33m=\u001B[0m \u001B[0mcl\u001B[0m\u001B[1;33m.\u001B[0m\u001B[0mremove_duplicates\u001B[0m\u001B[1;33m(\u001B[0m\u001B[0mdf\u001B[0m\u001B[1;33m)\u001B[0m\u001B[1;33m\u001B[0m\u001B[1;33m\u001B[0m\u001B[0m\n\u001B[0m\u001B[0;32m     25\u001B[0m \u001B[0mdf\u001B[0m \u001B[1;33m=\u001B[0m \u001B[0mcl\u001B[0m\u001B[1;33m.\u001B[0m\u001B[0mremove_dup_text\u001B[0m\u001B[1;33m(\u001B[0m\u001B[0mdf\u001B[0m\u001B[1;33m)\u001B[0m\u001B[1;33m\u001B[0m\u001B[1;33m\u001B[0m\u001B[0m\n\u001B[0;32m     26\u001B[0m \u001B[1;33m\u001B[0m\u001B[0m\n",
      "\u001B[1;32m~\\PycharmProjects\\Master\\Scripts\\cleaning.py\u001B[0m in \u001B[0;36mremove_duplicates\u001B[1;34m(df)\u001B[0m\n\u001B[0;32m     37\u001B[0m \u001B[1;32mdef\u001B[0m \u001B[0mremove_duplicates\u001B[0m\u001B[1;33m(\u001B[0m\u001B[0mdf\u001B[0m\u001B[1;33m)\u001B[0m\u001B[1;33m:\u001B[0m\u001B[1;33m\u001B[0m\u001B[1;33m\u001B[0m\u001B[0m\n\u001B[0;32m     38\u001B[0m     \u001B[0mprint\u001B[0m\u001B[1;33m(\u001B[0m\u001B[1;34m'Before deleting duplicate entries: '\u001B[0m\u001B[1;33m,\u001B[0m \u001B[0mlen\u001B[0m\u001B[1;33m(\u001B[0m\u001B[0mdf\u001B[0m\u001B[1;33m)\u001B[0m\u001B[1;33m)\u001B[0m\u001B[1;33m\u001B[0m\u001B[1;33m\u001B[0m\u001B[0m\n\u001B[1;32m---> 39\u001B[1;33m     \u001B[0mdf\u001B[0m\u001B[1;33m.\u001B[0m\u001B[0mdrop_duplicates\u001B[0m\u001B[1;33m(\u001B[0m\u001B[0minplace\u001B[0m\u001B[1;33m=\u001B[0m\u001B[1;32mFalse\u001B[0m\u001B[1;33m)\u001B[0m\u001B[1;33m\u001B[0m\u001B[1;33m\u001B[0m\u001B[0m\n\u001B[0m\u001B[0;32m     40\u001B[0m     \u001B[0mprint\u001B[0m\u001B[1;33m(\u001B[0m\u001B[1;34m'After deleting duplicate entries: '\u001B[0m\u001B[1;33m,\u001B[0m \u001B[0mlen\u001B[0m\u001B[1;33m(\u001B[0m\u001B[0mdf\u001B[0m\u001B[1;33m)\u001B[0m\u001B[1;33m)\u001B[0m\u001B[1;33m\u001B[0m\u001B[1;33m\u001B[0m\u001B[0m\n\u001B[0;32m     41\u001B[0m     \u001B[1;32mreturn\u001B[0m \u001B[0mdf\u001B[0m\u001B[1;33m\u001B[0m\u001B[1;33m\u001B[0m\u001B[0m\n",
      "\u001B[1;32mc:\\users\\d064966\\appdata\\local\\continuum\\anaconda3\\envs\\masterthesis\\lib\\site-packages\\pandas\\core\\frame.py\u001B[0m in \u001B[0;36mdrop_duplicates\u001B[1;34m(self, subset, keep, inplace, ignore_index)\u001B[0m\n\u001B[0;32m   5103\u001B[0m \u001B[1;33m\u001B[0m\u001B[0m\n\u001B[0;32m   5104\u001B[0m         \u001B[0minplace\u001B[0m \u001B[1;33m=\u001B[0m \u001B[0mvalidate_bool_kwarg\u001B[0m\u001B[1;33m(\u001B[0m\u001B[0minplace\u001B[0m\u001B[1;33m,\u001B[0m \u001B[1;34m\"inplace\"\u001B[0m\u001B[1;33m)\u001B[0m\u001B[1;33m\u001B[0m\u001B[1;33m\u001B[0m\u001B[0m\n\u001B[1;32m-> 5105\u001B[1;33m         \u001B[0mduplicated\u001B[0m \u001B[1;33m=\u001B[0m \u001B[0mself\u001B[0m\u001B[1;33m.\u001B[0m\u001B[0mduplicated\u001B[0m\u001B[1;33m(\u001B[0m\u001B[0msubset\u001B[0m\u001B[1;33m,\u001B[0m \u001B[0mkeep\u001B[0m\u001B[1;33m=\u001B[0m\u001B[0mkeep\u001B[0m\u001B[1;33m)\u001B[0m\u001B[1;33m\u001B[0m\u001B[1;33m\u001B[0m\u001B[0m\n\u001B[0m\u001B[0;32m   5106\u001B[0m \u001B[1;33m\u001B[0m\u001B[0m\n\u001B[0;32m   5107\u001B[0m         \u001B[0mresult\u001B[0m \u001B[1;33m=\u001B[0m \u001B[0mself\u001B[0m\u001B[1;33m[\u001B[0m\u001B[1;33m-\u001B[0m\u001B[0mduplicated\u001B[0m\u001B[1;33m]\u001B[0m\u001B[1;33m\u001B[0m\u001B[1;33m\u001B[0m\u001B[0m\n",
      "\u001B[1;32mc:\\users\\d064966\\appdata\\local\\continuum\\anaconda3\\envs\\masterthesis\\lib\\site-packages\\pandas\\core\\frame.py\u001B[0m in \u001B[0;36mduplicated\u001B[1;34m(self, subset, keep)\u001B[0m\n\u001B[0;32m   5242\u001B[0m \u001B[1;33m\u001B[0m\u001B[0m\n\u001B[0;32m   5243\u001B[0m         \u001B[0mvals\u001B[0m \u001B[1;33m=\u001B[0m \u001B[1;33m(\u001B[0m\u001B[0mcol\u001B[0m\u001B[1;33m.\u001B[0m\u001B[0mvalues\u001B[0m \u001B[1;32mfor\u001B[0m \u001B[0mname\u001B[0m\u001B[1;33m,\u001B[0m \u001B[0mcol\u001B[0m \u001B[1;32min\u001B[0m \u001B[0mself\u001B[0m\u001B[1;33m.\u001B[0m\u001B[0mitems\u001B[0m\u001B[1;33m(\u001B[0m\u001B[1;33m)\u001B[0m \u001B[1;32mif\u001B[0m \u001B[0mname\u001B[0m \u001B[1;32min\u001B[0m \u001B[0msubset\u001B[0m\u001B[1;33m)\u001B[0m\u001B[1;33m\u001B[0m\u001B[1;33m\u001B[0m\u001B[0m\n\u001B[1;32m-> 5244\u001B[1;33m         \u001B[0mlabels\u001B[0m\u001B[1;33m,\u001B[0m \u001B[0mshape\u001B[0m \u001B[1;33m=\u001B[0m \u001B[0mmap\u001B[0m\u001B[1;33m(\u001B[0m\u001B[0mlist\u001B[0m\u001B[1;33m,\u001B[0m \u001B[0mzip\u001B[0m\u001B[1;33m(\u001B[0m\u001B[1;33m*\u001B[0m\u001B[0mmap\u001B[0m\u001B[1;33m(\u001B[0m\u001B[0mf\u001B[0m\u001B[1;33m,\u001B[0m \u001B[0mvals\u001B[0m\u001B[1;33m)\u001B[0m\u001B[1;33m)\u001B[0m\u001B[1;33m)\u001B[0m\u001B[1;33m\u001B[0m\u001B[1;33m\u001B[0m\u001B[0m\n\u001B[0m\u001B[0;32m   5245\u001B[0m \u001B[1;33m\u001B[0m\u001B[0m\n\u001B[0;32m   5246\u001B[0m         \u001B[0mids\u001B[0m \u001B[1;33m=\u001B[0m \u001B[0mget_group_index\u001B[0m\u001B[1;33m(\u001B[0m\u001B[0mlabels\u001B[0m\u001B[1;33m,\u001B[0m \u001B[0mshape\u001B[0m\u001B[1;33m,\u001B[0m \u001B[0msort\u001B[0m\u001B[1;33m=\u001B[0m\u001B[1;32mFalse\u001B[0m\u001B[1;33m,\u001B[0m \u001B[0mxnull\u001B[0m\u001B[1;33m=\u001B[0m\u001B[1;32mFalse\u001B[0m\u001B[1;33m)\u001B[0m\u001B[1;33m\u001B[0m\u001B[1;33m\u001B[0m\u001B[0m\n",
      "\u001B[1;32mc:\\users\\d064966\\appdata\\local\\continuum\\anaconda3\\envs\\masterthesis\\lib\\site-packages\\pandas\\core\\frame.py\u001B[0m in \u001B[0;36mf\u001B[1;34m(vals)\u001B[0m\n\u001B[0;32m   5217\u001B[0m         \u001B[1;32mdef\u001B[0m \u001B[0mf\u001B[0m\u001B[1;33m(\u001B[0m\u001B[0mvals\u001B[0m\u001B[1;33m)\u001B[0m\u001B[1;33m:\u001B[0m\u001B[1;33m\u001B[0m\u001B[1;33m\u001B[0m\u001B[0m\n\u001B[0;32m   5218\u001B[0m             labels, shape = algorithms.factorize(\n\u001B[1;32m-> 5219\u001B[1;33m                 \u001B[0mvals\u001B[0m\u001B[1;33m,\u001B[0m \u001B[0msize_hint\u001B[0m\u001B[1;33m=\u001B[0m\u001B[0mmin\u001B[0m\u001B[1;33m(\u001B[0m\u001B[0mlen\u001B[0m\u001B[1;33m(\u001B[0m\u001B[0mself\u001B[0m\u001B[1;33m)\u001B[0m\u001B[1;33m,\u001B[0m \u001B[0m_SIZE_HINT_LIMIT\u001B[0m\u001B[1;33m)\u001B[0m\u001B[1;33m\u001B[0m\u001B[1;33m\u001B[0m\u001B[0m\n\u001B[0m\u001B[0;32m   5220\u001B[0m             )\n\u001B[0;32m   5221\u001B[0m             \u001B[1;32mreturn\u001B[0m \u001B[0mlabels\u001B[0m\u001B[1;33m.\u001B[0m\u001B[0mastype\u001B[0m\u001B[1;33m(\u001B[0m\u001B[1;34m\"i8\"\u001B[0m\u001B[1;33m,\u001B[0m \u001B[0mcopy\u001B[0m\u001B[1;33m=\u001B[0m\u001B[1;32mFalse\u001B[0m\u001B[1;33m)\u001B[0m\u001B[1;33m,\u001B[0m \u001B[0mlen\u001B[0m\u001B[1;33m(\u001B[0m\u001B[0mshape\u001B[0m\u001B[1;33m)\u001B[0m\u001B[1;33m\u001B[0m\u001B[1;33m\u001B[0m\u001B[0m\n",
      "\u001B[1;32mc:\\users\\d064966\\appdata\\local\\continuum\\anaconda3\\envs\\masterthesis\\lib\\site-packages\\pandas\\core\\algorithms.py\u001B[0m in \u001B[0;36mfactorize\u001B[1;34m(values, sort, na_sentinel, size_hint, dropna)\u001B[0m\n\u001B[0;32m    646\u001B[0m \u001B[1;33m\u001B[0m\u001B[0m\n\u001B[0;32m    647\u001B[0m         codes, uniques = _factorize_array(\n\u001B[1;32m--> 648\u001B[1;33m             \u001B[0mvalues\u001B[0m\u001B[1;33m,\u001B[0m \u001B[0mna_sentinel\u001B[0m\u001B[1;33m=\u001B[0m\u001B[0mna_sentinel\u001B[0m\u001B[1;33m,\u001B[0m \u001B[0msize_hint\u001B[0m\u001B[1;33m=\u001B[0m\u001B[0msize_hint\u001B[0m\u001B[1;33m,\u001B[0m \u001B[0mna_value\u001B[0m\u001B[1;33m=\u001B[0m\u001B[0mna_value\u001B[0m\u001B[1;33m\u001B[0m\u001B[1;33m\u001B[0m\u001B[0m\n\u001B[0m\u001B[0;32m    649\u001B[0m         )\n\u001B[0;32m    650\u001B[0m \u001B[1;33m\u001B[0m\u001B[0m\n",
      "\u001B[1;32mc:\\users\\d064966\\appdata\\local\\continuum\\anaconda3\\envs\\masterthesis\\lib\\site-packages\\pandas\\core\\algorithms.py\u001B[0m in \u001B[0;36m_factorize_array\u001B[1;34m(values, na_sentinel, size_hint, na_value, mask)\u001B[0m\n\u001B[0;32m    494\u001B[0m     \u001B[0mtable\u001B[0m \u001B[1;33m=\u001B[0m \u001B[0mhash_klass\u001B[0m\u001B[1;33m(\u001B[0m\u001B[0msize_hint\u001B[0m \u001B[1;32mor\u001B[0m \u001B[0mlen\u001B[0m\u001B[1;33m(\u001B[0m\u001B[0mvalues\u001B[0m\u001B[1;33m)\u001B[0m\u001B[1;33m)\u001B[0m\u001B[1;33m\u001B[0m\u001B[1;33m\u001B[0m\u001B[0m\n\u001B[0;32m    495\u001B[0m     uniques, codes = table.factorize(\n\u001B[1;32m--> 496\u001B[1;33m         \u001B[0mvalues\u001B[0m\u001B[1;33m,\u001B[0m \u001B[0mna_sentinel\u001B[0m\u001B[1;33m=\u001B[0m\u001B[0mna_sentinel\u001B[0m\u001B[1;33m,\u001B[0m \u001B[0mna_value\u001B[0m\u001B[1;33m=\u001B[0m\u001B[0mna_value\u001B[0m\u001B[1;33m,\u001B[0m \u001B[0mmask\u001B[0m\u001B[1;33m=\u001B[0m\u001B[0mmask\u001B[0m\u001B[1;33m\u001B[0m\u001B[1;33m\u001B[0m\u001B[0m\n\u001B[0m\u001B[0;32m    497\u001B[0m     )\n\u001B[0;32m    498\u001B[0m \u001B[1;33m\u001B[0m\u001B[0m\n",
      "\u001B[1;32mpandas\\_libs\\hashtable_class_helper.pxi\u001B[0m in \u001B[0;36mpandas._libs.hashtable.PyObjectHashTable.factorize\u001B[1;34m()\u001B[0m\n",
      "\u001B[1;32mpandas\\_libs\\hashtable_class_helper.pxi\u001B[0m in \u001B[0;36mpandas._libs.hashtable.PyObjectHashTable._unique\u001B[1;34m()\u001B[0m\n",
      "\u001B[1;31mTypeError\u001B[0m: unhashable type: 'list'"
     ]
    }
   ],
   "source": [
    "from Scripts import profiling as pf, preprocessing as prep, cleaning as cl\n",
    "import pandas as pd\n",
    "\n",
    "print('######## DATA LOAD')\n",
    "schema_link = '../Data/schema_movie.pkl'\n",
    "df = pd.read_pickle(schema_link)\n",
    "print('Data loaded')\n",
    "\n",
    "print('######## GENERAL INFORMATION')\n",
    "pf.get_review_count(df)\n",
    "pf.get_descr(df)\n",
    "\n",
    "print('######## COMPLETION CHECK')\n",
    "print('Missing Text')\n",
    "pf.get_missing_text(df)\n",
    "print('Missing Label')\n",
    "pf.get_missing_label(df)\n",
    "print('Before deleting empty review texts: ', len(df))\n",
    "df = df[df['text'] != '']\n",
    "print('After deleting empty review texts: ', len(df))\n",
    "\n",
    "\n",
    "print('######## DUPLICATION CHECK')\n",
    "df = cl.remove_duplicates(df)\n",
    "df = cl.remove_dup_text(df)\n",
    "\n",
    "\n",
    "print('######## WORD COUNT')\n",
    "df = pf.create_word_count(df)\n",
    "pf.get_longest_review(df)\n",
    "pf.get_shortest_review(df)\n",
    "\n",
    "print('# Less than 10 words: ')\n",
    "print(df[df.word_count<10]['label'].value_counts())\n",
    "print('More than 1000 words: ')\n",
    "print(df[df.word_count>1000]['label'].value_counts())\n",
    "\n",
    "pf.show_word_length_dist(df, 'schema_movie_textlength_raw_logarithmic', 'Schema Movies & TV', True)\n",
    "pf.show_word_length_dist(df, 'schema_movie_textlength_raw', 'Schema Movies & TV', False)\n",
    "\n",
    "\n",
    "print('######## RATING DISTRIBUTION')\n",
    "pf.show_rating_dist(df, 'schema_movie_class_dist_raw', 'Rating Distribution (Schema Movies & TV)')\n",
    "\n",
    "\n",
    "print('######## DATA SOURCES')\n",
    "df = pf.get_source_info(df)\n",
    "print('#### All sources across ratings')\n",
    "print('#### rating class 1.0')\n",
    "print(df[df.label==1.0]['netloc'].value_counts())\n",
    "print('#### rating class 2.0')\n",
    "print(df[df.label==2.0]['netloc'].value_counts())\n",
    "print('#### rating class 3.0')\n",
    "print(df[df.label==3.0]['netloc'].value_counts())\n",
    "print('#### rating class 4.0')\n",
    "print(df[df.label==4.0]['netloc'].value_counts())\n",
    "print('#### rating class 5.0')\n",
    "print(df[df.label==5.0]['netloc'].value_counts())"
   ]
  },
  {
   "cell_type": "code",
   "execution_count": 2,
   "outputs": [
    {
     "data": {
      "text/plain": "                                          NODE  \\\n106197   _:node7788d74dd3601fb097d98e3c7d47d5a   \n106199   _:node4d3b78dd51f3c8821591f0407881d6e   \n106201     _:nodea5179c3516155f22dfbd0e71a4691   \n106203  _:node7e1a7e8c2a31d8e71bf6e3fe579d1778   \n106205   _:node49f7761f3f49cfd93937456697796a0   \n\n                                                URL  \\\n106197  https://thereviewmonk.com/movie/chittagong/   \n106199  https://thereviewmonk.com/movie/chittagong/   \n106201  https://thereviewmonk.com/movie/chittagong/   \n106203  https://thereviewmonk.com/movie/chittagong/   \n106205  https://thereviewmonk.com/movie/chittagong/   \n\n                                                     text  label  word_count  \\\n106197  \" Shot ever so beautifully, Chittagong is a te...    3.0          57   \n106199  \" This is a film that needs watching, because ...    4.0          21   \n106201  \" And while Chittagong falls well short of bei...    3.0          26   \n106203                  \" An absolute must watch. \"@en-US    4.0           6   \n106205  \" What makes Chittagong particularly special i...    4.0          46   \n\n                   netloc  \n106197  thereviewmonk.com  \n106199  thereviewmonk.com  \n106201  thereviewmonk.com  \n106203  thereviewmonk.com  \n106205  thereviewmonk.com  ",
      "text/html": "<div>\n<style scoped>\n    .dataframe tbody tr th:only-of-type {\n        vertical-align: middle;\n    }\n\n    .dataframe tbody tr th {\n        vertical-align: top;\n    }\n\n    .dataframe thead th {\n        text-align: right;\n    }\n</style>\n<table border=\"1\" class=\"dataframe\">\n  <thead>\n    <tr style=\"text-align: right;\">\n      <th></th>\n      <th>NODE</th>\n      <th>URL</th>\n      <th>text</th>\n      <th>label</th>\n      <th>word_count</th>\n      <th>netloc</th>\n    </tr>\n  </thead>\n  <tbody>\n    <tr>\n      <th>106197</th>\n      <td>_:node7788d74dd3601fb097d98e3c7d47d5a</td>\n      <td>https://thereviewmonk.com/movie/chittagong/</td>\n      <td>\" Shot ever so beautifully, Chittagong is a te...</td>\n      <td>3.0</td>\n      <td>57</td>\n      <td>thereviewmonk.com</td>\n    </tr>\n    <tr>\n      <th>106199</th>\n      <td>_:node4d3b78dd51f3c8821591f0407881d6e</td>\n      <td>https://thereviewmonk.com/movie/chittagong/</td>\n      <td>\" This is a film that needs watching, because ...</td>\n      <td>4.0</td>\n      <td>21</td>\n      <td>thereviewmonk.com</td>\n    </tr>\n    <tr>\n      <th>106201</th>\n      <td>_:nodea5179c3516155f22dfbd0e71a4691</td>\n      <td>https://thereviewmonk.com/movie/chittagong/</td>\n      <td>\" And while Chittagong falls well short of bei...</td>\n      <td>3.0</td>\n      <td>26</td>\n      <td>thereviewmonk.com</td>\n    </tr>\n    <tr>\n      <th>106203</th>\n      <td>_:node7e1a7e8c2a31d8e71bf6e3fe579d1778</td>\n      <td>https://thereviewmonk.com/movie/chittagong/</td>\n      <td>\" An absolute must watch. \"@en-US</td>\n      <td>4.0</td>\n      <td>6</td>\n      <td>thereviewmonk.com</td>\n    </tr>\n    <tr>\n      <th>106205</th>\n      <td>_:node49f7761f3f49cfd93937456697796a0</td>\n      <td>https://thereviewmonk.com/movie/chittagong/</td>\n      <td>\" What makes Chittagong particularly special i...</td>\n      <td>4.0</td>\n      <td>46</td>\n      <td>thereviewmonk.com</td>\n    </tr>\n  </tbody>\n</table>\n</div>"
     },
     "execution_count": 2,
     "metadata": {},
     "output_type": "execute_result"
    }
   ],
   "source": [
    "df.head()"
   ],
   "metadata": {
    "collapsed": false,
    "pycharm": {
     "name": "#%%\n"
    }
   }
  },
  {
   "cell_type": "code",
   "execution_count": null,
   "outputs": [],
   "source": [
    "# After preprocessing\n",
    "schema_df.text = prep.preprocess_reviews(schema_df.text)"
   ],
   "metadata": {
    "collapsed": false,
    "pycharm": {
     "name": "#%%\n"
    }
   }
  },
  {
   "cell_type": "code",
   "execution_count": 10,
   "outputs": [
    {
     "data": {
      "text/plain": "                                                text  label  word_count\n0  shot ever beauti chittagong textur film but ma...    3.0          57\n1          film need watch forget would tragic en us    4.0          21\n2  chittagong fall well short great film not help...    3.0          26\n3                           absolut must watch en us    4.0           6\n4  make chittagong particularli special way depic...    4.0          46",
      "text/html": "<div>\n<style scoped>\n    .dataframe tbody tr th:only-of-type {\n        vertical-align: middle;\n    }\n\n    .dataframe tbody tr th {\n        vertical-align: top;\n    }\n\n    .dataframe thead th {\n        text-align: right;\n    }\n</style>\n<table border=\"1\" class=\"dataframe\">\n  <thead>\n    <tr style=\"text-align: right;\">\n      <th></th>\n      <th>text</th>\n      <th>label</th>\n      <th>word_count</th>\n    </tr>\n  </thead>\n  <tbody>\n    <tr>\n      <th>0</th>\n      <td>shot ever beauti chittagong textur film but ma...</td>\n      <td>3.0</td>\n      <td>57</td>\n    </tr>\n    <tr>\n      <th>1</th>\n      <td>film need watch forget would tragic en us</td>\n      <td>4.0</td>\n      <td>21</td>\n    </tr>\n    <tr>\n      <th>2</th>\n      <td>chittagong fall well short great film not help...</td>\n      <td>3.0</td>\n      <td>26</td>\n    </tr>\n    <tr>\n      <th>3</th>\n      <td>absolut must watch en us</td>\n      <td>4.0</td>\n      <td>6</td>\n    </tr>\n    <tr>\n      <th>4</th>\n      <td>make chittagong particularli special way depic...</td>\n      <td>4.0</td>\n      <td>46</td>\n    </tr>\n  </tbody>\n</table>\n</div>"
     },
     "execution_count": 10,
     "metadata": {},
     "output_type": "execute_result"
    }
   ],
   "source": [
    "schema_df.head()"
   ],
   "metadata": {
    "collapsed": false,
    "pycharm": {
     "name": "#%%\n"
    }
   }
  },
  {
   "cell_type": "code",
   "execution_count": 13,
   "outputs": [
    {
     "data": {
      "text/plain": "                                                    text  label  word_count\n2      chittagong fall well short great film not help...    3.0          26\n6                                well craft compel en us    3.0           5\n48     nawazuddin siddiqui capabl carri film shoulder...    2.0          22\n49     film like sixer golf field irrelev unnecessari...    2.0          23\n50     despit clich melodrama found freaki ali worth ...    3.0          34\n...                                                  ...    ...         ...\n75527  wish film braver intent creat realli crack rom...    2.0          26\n75567  come away mix feel even though realli love ide...    2.0          22\n75603        hormon crazi romant comedi let tepid direct    2.0          12\n75654  review current post patreon support deep focu ...    2.0          67\n75993  review current post patreon support deep focu ...    3.0          67\n\n[515 rows x 3 columns]",
      "text/html": "<div>\n<style scoped>\n    .dataframe tbody tr th:only-of-type {\n        vertical-align: middle;\n    }\n\n    .dataframe tbody tr th {\n        vertical-align: top;\n    }\n\n    .dataframe thead th {\n        text-align: right;\n    }\n</style>\n<table border=\"1\" class=\"dataframe\">\n  <thead>\n    <tr style=\"text-align: right;\">\n      <th></th>\n      <th>text</th>\n      <th>label</th>\n      <th>word_count</th>\n    </tr>\n  </thead>\n  <tbody>\n    <tr>\n      <th>2</th>\n      <td>chittagong fall well short great film not help...</td>\n      <td>3.0</td>\n      <td>26</td>\n    </tr>\n    <tr>\n      <th>6</th>\n      <td>well craft compel en us</td>\n      <td>3.0</td>\n      <td>5</td>\n    </tr>\n    <tr>\n      <th>48</th>\n      <td>nawazuddin siddiqui capabl carri film shoulder...</td>\n      <td>2.0</td>\n      <td>22</td>\n    </tr>\n    <tr>\n      <th>49</th>\n      <td>film like sixer golf field irrelev unnecessari...</td>\n      <td>2.0</td>\n      <td>23</td>\n    </tr>\n    <tr>\n      <th>50</th>\n      <td>despit clich melodrama found freaki ali worth ...</td>\n      <td>3.0</td>\n      <td>34</td>\n    </tr>\n    <tr>\n      <th>...</th>\n      <td>...</td>\n      <td>...</td>\n      <td>...</td>\n    </tr>\n    <tr>\n      <th>75527</th>\n      <td>wish film braver intent creat realli crack rom...</td>\n      <td>2.0</td>\n      <td>26</td>\n    </tr>\n    <tr>\n      <th>75567</th>\n      <td>come away mix feel even though realli love ide...</td>\n      <td>2.0</td>\n      <td>22</td>\n    </tr>\n    <tr>\n      <th>75603</th>\n      <td>hormon crazi romant comedi let tepid direct</td>\n      <td>2.0</td>\n      <td>12</td>\n    </tr>\n    <tr>\n      <th>75654</th>\n      <td>review current post patreon support deep focu ...</td>\n      <td>2.0</td>\n      <td>67</td>\n    </tr>\n    <tr>\n      <th>75993</th>\n      <td>review current post patreon support deep focu ...</td>\n      <td>3.0</td>\n      <td>67</td>\n    </tr>\n  </tbody>\n</table>\n<p>515 rows × 3 columns</p>\n</div>"
     },
     "execution_count": 13,
     "metadata": {},
     "output_type": "execute_result"
    }
   ],
   "source": [
    "schema_df[schema_df['text'].isin(schema_df['text'][schema_df['text'].duplicated()])]"
   ],
   "metadata": {
    "collapsed": false,
    "pycharm": {
     "name": "#%%\n"
    }
   }
  },
  {
   "cell_type": "code",
   "source": [],
   "metadata": {
    "collapsed": false,
    "pycharm": {
     "name": "#%%\n"
    }
   },
   "execution_count": null,
   "outputs": []
  },
  {
   "cell_type": "code",
   "execution_count": null,
   "outputs": [],
   "source": [
    "# WORD COUNT DISTRIBUTION THROUGHOUT RATINGS\n",
    "pf.show_word_length_per_label(df)\n",
    "\n",
    "\n"
   ],
   "metadata": {
    "collapsed": false,
    "pycharm": {
     "name": "#%%\n"
    }
   }
  },
  {
   "cell_type": "code",
   "execution_count": null,
   "outputs": [],
   "source": [],
   "metadata": {
    "collapsed": false,
    "pycharm": {
     "name": "#%%\n"
    }
   }
  }
 ],
 "metadata": {
  "kernelspec": {
   "display_name": "Python 3",
   "language": "python",
   "name": "python3"
  },
  "language_info": {
   "codemirror_mode": {
    "name": "ipython",
    "version": 2
   },
   "file_extension": ".py",
   "mimetype": "text/x-python",
   "name": "python",
   "nbconvert_exporter": "python",
   "pygments_lexer": "ipython2",
   "version": "2.7.6"
  }
 },
 "nbformat": 4,
 "nbformat_minor": 0
}