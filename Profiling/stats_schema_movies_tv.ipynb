{
 "cells": [
  {
   "cell_type": "code",
   "execution_count": 1,
   "metadata": {
    "collapsed": true
   },
   "outputs": [],
   "source": [
    "from Scripts import profiling as pf, preprocessing as prep, loading as dl\n",
    "from Scripts import cleaning as cl"
   ]
  },
  {
   "cell_type": "code",
   "execution_count": 2,
   "outputs": [
    {
     "name": "stderr",
     "output_type": "stream",
     "text": [
      "c:\\users\\d064966\\appdata\\local\\continuum\\anaconda3\\envs\\masterthesis\\lib\\site-packages\\IPython\\core\\interactiveshell.py:3254: DtypeWarning: Columns (5,6,7) have mixed types.Specify dtype option on import or set low_memory=False.\n",
      "  if (await self.run_code(code, result,  async_=asy)):\n"
     ]
    }
   ],
   "source": [
    "# Loading data\n",
    "schema_link = '../Data/movie_reviews.csv'\n",
    "schema_df = dl.load_schema_full(schema_link)"
   ],
   "metadata": {
    "collapsed": false,
    "pycharm": {
     "name": "#%%\n"
    }
   }
  },
  {
   "cell_type": "code",
   "execution_count": 3,
   "outputs": [
    {
     "name": "stdout",
     "output_type": "stream",
     "text": [
      "Amount of reviews:  76958\n",
      "                                                     text         label\n",
      "count                                               76958  74309.000000\n",
      "unique                                              76958           NaN\n",
      "top     A little predictable in places, but explores f...           NaN\n",
      "freq                                                    1           NaN\n",
      "mean                                                  NaN      3.113512\n",
      "std                                                   NaN      1.356837\n",
      "min                                                   NaN      1.000000\n",
      "25%                                                   NaN      2.000000\n",
      "50%                                                   NaN      3.000000\n",
      "75%                                                   NaN      4.000000\n",
      "max                                                   NaN      5.000000\n"
     ]
    }
   ],
   "source": [
    "# Display general information\n",
    "pf.get_review_count(schema_df)\n",
    "pf.get_descr(schema_df)"
   ],
   "metadata": {
    "collapsed": false,
    "pycharm": {
     "name": "#%%\n"
    }
   }
  },
  {
   "cell_type": "code",
   "execution_count": 4,
   "outputs": [
    {
     "name": "stdout",
     "output_type": "stream",
     "text": [
      "Before deleting duplicate entries:  76958\n",
      "After deleting duplicate entries:  76958\n",
      "Before deleting duplicate review texts:  76958\n",
      "After deleting duplicate review texts:  76958\n"
     ]
    }
   ],
   "source": [
    "# Further cleaning\n",
    "schema_df = cl.remove_duplicates(schema_df)\n",
    "schema_df = cl.remove_dup_text(schema_df)"
   ],
   "metadata": {
    "collapsed": false,
    "pycharm": {
     "name": "#%%\n"
    }
   }
  },
  {
   "cell_type": "code",
   "execution_count": 5,
   "outputs": [
    {
     "name": "stdout",
     "output_type": "stream",
     "text": [
      "The longest review text in our sample has 7744 words.\n",
      "Longest review text:\n",
      "\n",
      "75625    For The Adventures of Robin Hood, Warner Bros....\n",
      "Name: text, dtype: object\n",
      "The shortest review text in our sample has 1 words.\n",
      "Review text with the shortest length of 1 word appearing 8 times.\n",
      "3914               \"Scary\"@en\n",
      "35832                \\nUgh.\\n\n",
      "37495         \\nHowlarious.\\n\n",
      "39364    \\n...trainwreck...\\n\n",
      "42601      \\n...amateurish.\\n\n",
      "45622     \\n...train-wreck.\\n\n",
      "57553                   Nope.\n",
      "57847                 Risible\n",
      "Name: text, dtype: object\n"
     ]
    },
    {
     "data": {
      "text/plain": "<Figure size 432x288 with 1 Axes>",
      "image/png": "[encoded data removed]"
     },
     "metadata": {},
     "output_type": "display_data"
    }
   ],
   "source": [
    "# Word counting\n",
    "schema_df = pf.create_word_count(schema_df)\n",
    "pf.get_longest_review(schema_df)\n",
    "pf.get_shortest_review(schema_df)\n",
    "pf.show_word_length_dist(schema_df, 'schema_movie_textlength_raw_logarithmic', 'Schema Movies & TV', True)"
   ],
   "metadata": {
    "collapsed": false,
    "pycharm": {
     "name": "#%%\n"
    }
   }
  },
  {
   "cell_type": "code",
   "execution_count": 6,
   "outputs": [
    {
     "data": {
      "text/plain": "<Figure size 432x288 with 1 Axes>",
      "image/png": "[encoded data removed]"
     },
     "metadata": {},
     "output_type": "display_data"
    }
   ],
   "source": [
    "pf.show_word_length_dist(schema_df, 'schema_movie_textlength_raw', 'Schema Movies & TV', False)"
   ],
   "metadata": {
    "collapsed": false,
    "pycharm": {
     "name": "#%%\n"
    }
   }
  },
  {
   "cell_type": "code",
   "execution_count": null,
   "outputs": [],
   "source": [
    "# Rating distribution\n",
    "pf.show_rating_dist(schema_df, 'schema_movie_class_dist_raw')"
   ],
   "metadata": {
    "collapsed": false,
    "pycharm": {
     "name": "#%%\n"
    }
   }
  },
  {
   "cell_type": "code",
   "execution_count": null,
   "outputs": [],
   "source": [
    "pf.show_word_length_per_label(schema_df) #interactive plot"
   ],
   "metadata": {
    "collapsed": false,
    "pycharm": {
     "name": "#%%\n"
    }
   }
  },
  {
   "cell_type": "code",
   "execution_count": null,
   "outputs": [],
   "source": [
    "# After preprocessing\n",
    "schema_df.text = prep.preprocess_reviews(schema_df.text)"
   ],
   "metadata": {
    "collapsed": false,
    "pycharm": {
     "name": "#%%\n"
    }
   }
  },
  {
   "cell_type": "code",
   "execution_count": 10,
   "outputs": [
    {
     "data": {
      "text/plain": "                                                text  label  word_count\n0  shot ever beauti chittagong textur film but ma...    3.0          57\n1          film need watch forget would tragic en us    4.0          21\n2  chittagong fall well short great film not help...    3.0          26\n3                           absolut must watch en us    4.0           6\n4  make chittagong particularli special way depic...    4.0          46",
      "text/html": "<div>\n<style scoped>\n    .dataframe tbody tr th:only-of-type {\n        vertical-align: middle;\n    }\n\n    .dataframe tbody tr th {\n        vertical-align: top;\n    }\n\n    .dataframe thead th {\n        text-align: right;\n    }\n</style>\n<table border=\"1\" class=\"dataframe\">\n  <thead>\n    <tr style=\"text-align: right;\">\n      <th></th>\n      <th>text</th>\n      <th>label</th>\n      <th>word_count</th>\n    </tr>\n  </thead>\n  <tbody>\n    <tr>\n      <th>0</th>\n      <td>shot ever beauti chittagong textur film but ma...</td>\n      <td>3.0</td>\n      <td>57</td>\n    </tr>\n    <tr>\n      <th>1</th>\n      <td>film need watch forget would tragic en us</td>\n      <td>4.0</td>\n      <td>21</td>\n    </tr>\n    <tr>\n      <th>2</th>\n      <td>chittagong fall well short great film not help...</td>\n      <td>3.0</td>\n      <td>26</td>\n    </tr>\n    <tr>\n      <th>3</th>\n      <td>absolut must watch en us</td>\n      <td>4.0</td>\n      <td>6</td>\n    </tr>\n    <tr>\n      <th>4</th>\n      <td>make chittagong particularli special way depic...</td>\n      <td>4.0</td>\n      <td>46</td>\n    </tr>\n  </tbody>\n</table>\n</div>"
     },
     "execution_count": 10,
     "metadata": {},
     "output_type": "execute_result"
    }
   ],
   "source": [
    "schema_df.head()"
   ],
   "metadata": {
    "collapsed": false,
    "pycharm": {
     "name": "#%%\n"
    }
   }
  },
  {
   "cell_type": "code",
   "execution_count": 13,
   "outputs": [
    {
     "data": {
      "text/plain": "                                                    text  label  word_count\n2      chittagong fall well short great film not help...    3.0          26\n6                                well craft compel en us    3.0           5\n48     nawazuddin siddiqui capabl carri film shoulder...    2.0          22\n49     film like sixer golf field irrelev unnecessari...    2.0          23\n50     despit clich melodrama found freaki ali worth ...    3.0          34\n...                                                  ...    ...         ...\n75527  wish film braver intent creat realli crack rom...    2.0          26\n75567  come away mix feel even though realli love ide...    2.0          22\n75603        hormon crazi romant comedi let tepid direct    2.0          12\n75654  review current post patreon support deep focu ...    2.0          67\n75993  review current post patreon support deep focu ...    3.0          67\n\n[515 rows x 3 columns]",
      "text/html": "<div>\n<style scoped>\n    .dataframe tbody tr th:only-of-type {\n        vertical-align: middle;\n    }\n\n    .dataframe tbody tr th {\n        vertical-align: top;\n    }\n\n    .dataframe thead th {\n        text-align: right;\n    }\n</style>\n<table border=\"1\" class=\"dataframe\">\n  <thead>\n    <tr style=\"text-align: right;\">\n      <th></th>\n      <th>text</th>\n      <th>label</th>\n      <th>word_count</th>\n    </tr>\n  </thead>\n  <tbody>\n    <tr>\n      <th>2</th>\n      <td>chittagong fall well short great film not help...</td>\n      <td>3.0</td>\n      <td>26</td>\n    </tr>\n    <tr>\n      <th>6</th>\n      <td>well craft compel en us</td>\n      <td>3.0</td>\n      <td>5</td>\n    </tr>\n    <tr>\n      <th>48</th>\n      <td>nawazuddin siddiqui capabl carri film shoulder...</td>\n      <td>2.0</td>\n      <td>22</td>\n    </tr>\n    <tr>\n      <th>49</th>\n      <td>film like sixer golf field irrelev unnecessari...</td>\n      <td>2.0</td>\n      <td>23</td>\n    </tr>\n    <tr>\n      <th>50</th>\n      <td>despit clich melodrama found freaki ali worth ...</td>\n      <td>3.0</td>\n      <td>34</td>\n    </tr>\n    <tr>\n      <th>...</th>\n      <td>...</td>\n      <td>...</td>\n      <td>...</td>\n    </tr>\n    <tr>\n      <th>75527</th>\n      <td>wish film braver intent creat realli crack rom...</td>\n      <td>2.0</td>\n      <td>26</td>\n    </tr>\n    <tr>\n      <th>75567</th>\n      <td>come away mix feel even though realli love ide...</td>\n      <td>2.0</td>\n      <td>22</td>\n    </tr>\n    <tr>\n      <th>75603</th>\n      <td>hormon crazi romant comedi let tepid direct</td>\n      <td>2.0</td>\n      <td>12</td>\n    </tr>\n    <tr>\n      <th>75654</th>\n      <td>review current post patreon support deep focu ...</td>\n      <td>2.0</td>\n      <td>67</td>\n    </tr>\n    <tr>\n      <th>75993</th>\n      <td>review current post patreon support deep focu ...</td>\n      <td>3.0</td>\n      <td>67</td>\n    </tr>\n  </tbody>\n</table>\n<p>515 rows × 3 columns</p>\n</div>"
     },
     "execution_count": 13,
     "metadata": {},
     "output_type": "execute_result"
    }
   ],
   "source": [
    "schema_df[schema_df['text'].isin(schema_df['text'][schema_df['text'].duplicated()])]"
   ],
   "metadata": {
    "collapsed": false,
    "pycharm": {
     "name": "#%%\n"
    }
   }
  },
  {
   "cell_type": "code",
   "source": [
    "\n"
   ],
   "metadata": {
    "collapsed": false,
    "pycharm": {
     "name": "#%%\n"
    }
   },
   "execution_count": null,
   "outputs": []
  }
 ],
 "metadata": {
  "kernelspec": {
   "display_name": "Python 3",
   "language": "python",
   "name": "python3"
  },
  "language_info": {
   "codemirror_mode": {
    "name": "ipython",
    "version": 2
   },
   "file_extension": ".py",
   "mimetype": "text/x-python",
   "name": "python",
   "nbconvert_exporter": "python",
   "pygments_lexer": "ipython2",
   "version": "2.7.6"
  }
 },
 "nbformat": 4,
 "nbformat_minor": 0
}