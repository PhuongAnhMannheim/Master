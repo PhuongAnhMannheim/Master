{
 "cells": [
  {
   "cell_type": "code",
   "execution_count": 1,
   "metadata": {
    "collapsed": true
   },
   "outputs": [
    {
     "name": "stdout",
     "output_type": "stream",
     "text": [
      "######## DATA LOAD\n",
      "Data loaded\n",
      "######## GENERAL INFORMATION\n",
      "######## Total: \n",
      "Amount of reviews:  76406\n",
      "                                          NODE  \\\n",
      "count                                    76406   \n",
      "unique                                   76406   \n",
      "top     _:znode0OgQltAL294ALf2YtXz61V1tz2OhhfX   \n",
      "freq                                         1   \n",
      "mean                                       NaN   \n",
      "std                                        NaN   \n",
      "min                                        NaN   \n",
      "25%                                        NaN   \n",
      "50%                                        NaN   \n",
      "75%                                        NaN   \n",
      "max                                        NaN   \n",
      "\n",
      "                                                      URL  \\\n",
      "count                                               76406   \n",
      "unique                                              26070   \n",
      "top     https://www.imdb.com/search/title/?title_type=...   \n",
      "freq                                                  953   \n",
      "mean                                                  NaN   \n",
      "std                                                   NaN   \n",
      "min                                                   NaN   \n",
      "25%                                                   NaN   \n",
      "50%                                                   NaN   \n",
      "75%                                                   NaN   \n",
      "max                                                   NaN   \n",
      "\n",
      "                                                     text         label  \n",
      "count                                               76406  76406.000000  \n",
      "unique                                              76406           NaN  \n",
      "top     \\nDespite it's minor flaws Traffic is a film t...           NaN  \n",
      "freq                                                    1           NaN  \n",
      "mean                                                  NaN      3.241526  \n",
      "std                                                   NaN      1.169195  \n",
      "min                                                   NaN      1.000000  \n",
      "25%                                                   NaN      3.000000  \n",
      "50%                                                   NaN      3.000000  \n",
      "75%                                                   NaN      4.000000  \n",
      "max                                                   NaN      5.000000  \n",
      "######## COMPLETION CHECK\n",
      "Missing Text\n",
      "Empty DataFrame\n",
      "Columns: [NODE, URL, text, label]\n",
      "Index: []\n",
      "Missing Label\n",
      "Empty DataFrame\n",
      "Columns: [NODE, URL, text, label]\n",
      "Index: []\n",
      "Before deleting empty review texts:  76406\n",
      "After deleting empty review texts:  76406\n",
      "######## DUPLICATION CHECK\n",
      "Before deleting duplicate entries:  76406\n",
      "After deleting duplicate entries:  76406\n",
      "Before deleting duplicate review texts:  76406\n",
      "After deleting duplicate review texts:  76406\n",
      "######## WORD COUNT\n",
      "The longest review text in our sample has 7744 words.\n",
      "Longest review text:\n",
      "\n",
      "264667    For The Adventures of Robin Hood, Warner Bros....\n",
      "Name: text, dtype: object 264667    5.0\n",
      "Name: label, dtype: float64\n",
      "The shortest review text in our sample has 1 words.\n",
      "Review text with the shortest length of 1 word appearing 7 times.\n",
      "117009              \"Scary\"@en\n",
      "219792                \\nUgh.\\n\n",
      "221495         \\nHowlarious.\\n\n",
      "223404    \\n...trainwreck...\\n\n",
      "226701      \\n...amateurish.\\n\n",
      "229785     \\n...train-wreck.\\n\n",
      "244610                 Risible\n",
      "Name: text, dtype: object 117009    5.0\n",
      "219792    2.0\n",
      "221495    1.0\n",
      "223404    1.0\n",
      "226701    2.0\n",
      "229785    2.0\n",
      "244610    1.0\n",
      "Name: label, dtype: float64\n",
      "# Less than 10 words: \n",
      "3.0    1217\n",
      "2.0     777\n",
      "4.0     655\n",
      "1.0     234\n",
      "5.0     155\n",
      "Name: label, dtype: int64\n",
      "More than 1000 words: \n",
      "5.0    2034\n",
      "3.0     917\n",
      "4.0     818\n",
      "2.0     102\n",
      "1.0      49\n",
      "Name: label, dtype: int64\n",
      "Description of word length:\n",
      "count    76406.000000\n",
      "mean       239.523166\n",
      "std        398.921531\n",
      "min          1.000000\n",
      "25%         23.000000\n",
      "50%         53.000000\n",
      "75%        235.000000\n",
      "max       7744.000000\n",
      "Name: word_count, dtype: float64\n",
      "Description of word length:\n",
      "count    76406.000000\n",
      "mean       239.523166\n",
      "std        398.921531\n",
      "min          1.000000\n",
      "25%         23.000000\n",
      "50%         53.000000\n",
      "75%        235.000000\n",
      "max       7744.000000\n",
      "Name: word_count, dtype: float64\n",
      "######## RATING DISTRIBUTION\n",
      "######### Ratings\n",
      "Description of Ratings:\n",
      "3.0    26530\n",
      "4.0    18465\n",
      "5.0    12769\n",
      "2.0    11735\n",
      "1.0     6907\n",
      "Name: label, dtype: int64\n",
      "3.0    0.347224\n",
      "4.0    0.241670\n",
      "5.0    0.167120\n",
      "2.0    0.153587\n",
      "1.0    0.090399\n",
      "Name: label, dtype: float64\n",
      "######## DATA SOURCES\n",
      "Total netloc distribution\n",
      "www.imdb.com               27158\n",
      "reviewschview.com          16434\n",
      "www.rogerebert.com          9717\n",
      "www.empireonline.com        8453\n",
      "thereviewmonk.com           8258\n",
      "www.telegraph.co.uk         2157\n",
      "deepfocusreview.com         2092\n",
      "www.rollingstone.com         956\n",
      "www.flickfilosopher.com      951\n",
      "www.noopler.com              206\n",
      "nationalpost.com              24\n",
      "Name: netloc, dtype: int64\n",
      "extracted netloc distribution\n",
      "www.rogerebert.com         9717\n",
      "thereviewmonk.com          4128\n",
      "reviewschview.com          3305\n",
      "www.telegraph.co.uk        1163\n",
      "deepfocusreview.com        1133\n",
      "www.flickfilosopher.com     766\n",
      "www.noopler.com             206\n",
      "nationalpost.com             24\n",
      "Name: netloc, dtype: int64\n",
      "scraped netloc distribution\n",
      "www.imdb.com               27158\n",
      "reviewschview.com          13129\n",
      "www.empireonline.com        8453\n",
      "thereviewmonk.com           4130\n",
      "www.telegraph.co.uk          994\n",
      "deepfocusreview.com          959\n",
      "www.rollingstone.com         956\n",
      "www.flickfilosopher.com      185\n",
      "Name: netloc, dtype: int64\n"
     ]
    },
    {
     "data": {
      "text/plain": "<Figure size 432x288 with 1 Axes>",
      "image/png": "[encoded data removed]"
     },
     "metadata": {},
     "output_type": "display_data"
    },
    {
     "data": {
      "text/plain": "<Figure size 432x288 with 1 Axes>",
      "image/png": "[encoded data removed]"
     },
     "metadata": {},
     "output_type": "display_data"
    },
    {
     "data": {
      "text/plain": "<Figure size 432x288 with 1 Axes>",
      "image/png": "[encoded data removed]"
     },
     "metadata": {},
     "output_type": "display_data"
    }
   ],
   "source": [
    "from Scripts import profiling as pf, preprocessing as prep, cleaning as cl\n",
    "import pandas as pd\n",
    "\n",
    "print('######## DATA LOAD')\n",
    "schema_link = '../Data/schema_movie.pkl'\n",
    "df = pd.read_pickle(schema_link)\n",
    "print('Data loaded')\n",
    "\n",
    "print('######## GENERAL INFORMATION')\n",
    "pf.get_review_count(df)\n",
    "pf.get_descr(df)\n",
    "\n",
    "print('######## COMPLETION CHECK')\n",
    "print('Missing Text')\n",
    "pf.get_missing_text(df)\n",
    "print('Missing Label')\n",
    "pf.get_missing_label(df)\n",
    "print('Before deleting empty review texts: ', len(df))\n",
    "df = df[df['text'] != '']\n",
    "print('After deleting empty review texts: ', len(df))\n",
    "\n",
    "\n",
    "print('######## DUPLICATION CHECK')\n",
    "df = cl.remove_duplicates(df)\n",
    "df = cl.remove_dup_text(df)\n",
    "\n",
    "\n",
    "print('######## WORD COUNT')\n",
    "df = pf.create_word_count(df)\n",
    "pf.get_longest_review(df)\n",
    "pf.get_shortest_review(df)\n",
    "\n",
    "print('# Less than 10 words: ')\n",
    "print(df[df.word_count<10]['label'].value_counts())\n",
    "print('More than 1000 words: ')\n",
    "print(df[df.word_count>1000]['label'].value_counts())\n",
    "\n",
    "pf.show_word_length_dist(df, 'schema_movie_textlength_raw_logarithmic', 'Schema Movies & TV', True)\n",
    "pf.show_word_length_dist(df, 'schema_movie_textlength_raw', 'Schema Movies & TV', False)\n",
    "\n",
    "\n",
    "print('######## RATING DISTRIBUTION')\n",
    "pf.show_rating_dist(df, 'schema_movie_class_dist_raw', 'Rating Distribution (Schema Movies & TV)')\n",
    "\n",
    "\n",
    "print('######## DATA SOURCES')\n",
    "df = pf.get_source_info(df)\n",
    "print('#### All sources across ratings')\n",
    "print('#### rating class 1.0')\n",
    "print(df[df.label==1.0]['netloc'].value_counts())\n",
    "print('#### rating class 2.0')\n",
    "print(df[df.label==2.0]['netloc'].value_counts())\n",
    "print('#### rating class 3.0')\n",
    "print(df[df.label==3.0]['netloc'].value_counts())\n",
    "print('#### rating class 4.0')\n",
    "print(df[df.label==4.0]['netloc'].value_counts())\n",
    "print('#### rating class 5.0')\n",
    "print(df[df.label==5.0]['netloc'].value_counts())"
   ]
  },
  {
   "cell_type": "code",
   "execution_count": 2,
   "outputs": [
    {
     "data": {
      "text/plain": "                                          NODE  \\\n106197   _:node7788d74dd3601fb097d98e3c7d47d5a   \n106199   _:node4d3b78dd51f3c8821591f0407881d6e   \n106201     _:nodea5179c3516155f22dfbd0e71a4691   \n106203  _:node7e1a7e8c2a31d8e71bf6e3fe579d1778   \n106205   _:node49f7761f3f49cfd93937456697796a0   \n\n                                                URL  \\\n106197  https://thereviewmonk.com/movie/chittagong/   \n106199  https://thereviewmonk.com/movie/chittagong/   \n106201  https://thereviewmonk.com/movie/chittagong/   \n106203  https://thereviewmonk.com/movie/chittagong/   \n106205  https://thereviewmonk.com/movie/chittagong/   \n\n                                                     text  label  word_count  \\\n106197  \" Shot ever so beautifully, Chittagong is a te...    3.0          57   \n106199  \" This is a film that needs watching, because ...    4.0          21   \n106201  \" And while Chittagong falls well short of bei...    3.0          26   \n106203                  \" An absolute must watch. \"@en-US    4.0           6   \n106205  \" What makes Chittagong particularly special i...    4.0          46   \n\n                   netloc  \n106197  thereviewmonk.com  \n106199  thereviewmonk.com  \n106201  thereviewmonk.com  \n106203  thereviewmonk.com  \n106205  thereviewmonk.com  ",
      "text/html": "<div>\n<style scoped>\n    .dataframe tbody tr th:only-of-type {\n        vertical-align: middle;\n    }\n\n    .dataframe tbody tr th {\n        vertical-align: top;\n    }\n\n    .dataframe thead th {\n        text-align: right;\n    }\n</style>\n<table border=\"1\" class=\"dataframe\">\n  <thead>\n    <tr style=\"text-align: right;\">\n      <th></th>\n      <th>NODE</th>\n      <th>URL</th>\n      <th>text</th>\n      <th>label</th>\n      <th>word_count</th>\n      <th>netloc</th>\n    </tr>\n  </thead>\n  <tbody>\n    <tr>\n      <th>106197</th>\n      <td>_:node7788d74dd3601fb097d98e3c7d47d5a</td>\n      <td>https://thereviewmonk.com/movie/chittagong/</td>\n      <td>\" Shot ever so beautifully, Chittagong is a te...</td>\n      <td>3.0</td>\n      <td>57</td>\n      <td>thereviewmonk.com</td>\n    </tr>\n    <tr>\n      <th>106199</th>\n      <td>_:node4d3b78dd51f3c8821591f0407881d6e</td>\n      <td>https://thereviewmonk.com/movie/chittagong/</td>\n      <td>\" This is a film that needs watching, because ...</td>\n      <td>4.0</td>\n      <td>21</td>\n      <td>thereviewmonk.com</td>\n    </tr>\n    <tr>\n      <th>106201</th>\n      <td>_:nodea5179c3516155f22dfbd0e71a4691</td>\n      <td>https://thereviewmonk.com/movie/chittagong/</td>\n      <td>\" And while Chittagong falls well short of bei...</td>\n      <td>3.0</td>\n      <td>26</td>\n      <td>thereviewmonk.com</td>\n    </tr>\n    <tr>\n      <th>106203</th>\n      <td>_:node7e1a7e8c2a31d8e71bf6e3fe579d1778</td>\n      <td>https://thereviewmonk.com/movie/chittagong/</td>\n      <td>\" An absolute must watch. \"@en-US</td>\n      <td>4.0</td>\n      <td>6</td>\n      <td>thereviewmonk.com</td>\n    </tr>\n    <tr>\n      <th>106205</th>\n      <td>_:node49f7761f3f49cfd93937456697796a0</td>\n      <td>https://thereviewmonk.com/movie/chittagong/</td>\n      <td>\" What makes Chittagong particularly special i...</td>\n      <td>4.0</td>\n      <td>46</td>\n      <td>thereviewmonk.com</td>\n    </tr>\n  </tbody>\n</table>\n</div>"
     },
     "execution_count": 2,
     "metadata": {},
     "output_type": "execute_result"
    }
   ],
   "source": [
    "df.head()"
   ],
   "metadata": {
    "collapsed": false,
    "pycharm": {
     "name": "#%%\n"
    }
   }
  },
  {
   "cell_type": "code",
   "execution_count": null,
   "outputs": [],
   "source": [
    "# After preprocessing\n",
    "schema_df.text = prep.preprocess_reviews(schema_df.text)"
   ],
   "metadata": {
    "collapsed": false,
    "pycharm": {
     "name": "#%%\n"
    }
   }
  },
  {
   "cell_type": "code",
   "execution_count": 10,
   "outputs": [
    {
     "data": {
      "text/plain": "                                                text  label  word_count\n0  shot ever beauti chittagong textur film but ma...    3.0          57\n1          film need watch forget would tragic en us    4.0          21\n2  chittagong fall well short great film not help...    3.0          26\n3                           absolut must watch en us    4.0           6\n4  make chittagong particularli special way depic...    4.0          46",
      "text/html": "<div>\n<style scoped>\n    .dataframe tbody tr th:only-of-type {\n        vertical-align: middle;\n    }\n\n    .dataframe tbody tr th {\n        vertical-align: top;\n    }\n\n    .dataframe thead th {\n        text-align: right;\n    }\n</style>\n<table border=\"1\" class=\"dataframe\">\n  <thead>\n    <tr style=\"text-align: right;\">\n      <th></th>\n      <th>text</th>\n      <th>label</th>\n      <th>word_count</th>\n    </tr>\n  </thead>\n  <tbody>\n    <tr>\n      <th>0</th>\n      <td>shot ever beauti chittagong textur film but ma...</td>\n      <td>3.0</td>\n      <td>57</td>\n    </tr>\n    <tr>\n      <th>1</th>\n      <td>film need watch forget would tragic en us</td>\n      <td>4.0</td>\n      <td>21</td>\n    </tr>\n    <tr>\n      <th>2</th>\n      <td>chittagong fall well short great film not help...</td>\n      <td>3.0</td>\n      <td>26</td>\n    </tr>\n    <tr>\n      <th>3</th>\n      <td>absolut must watch en us</td>\n      <td>4.0</td>\n      <td>6</td>\n    </tr>\n    <tr>\n      <th>4</th>\n      <td>make chittagong particularli special way depic...</td>\n      <td>4.0</td>\n      <td>46</td>\n    </tr>\n  </tbody>\n</table>\n</div>"
     },
     "execution_count": 10,
     "metadata": {},
     "output_type": "execute_result"
    }
   ],
   "source": [
    "schema_df.head()"
   ],
   "metadata": {
    "collapsed": false,
    "pycharm": {
     "name": "#%%\n"
    }
   }
  },
  {
   "cell_type": "code",
   "execution_count": 13,
   "outputs": [
    {
     "data": {
      "text/plain": "                                                    text  label  word_count\n2      chittagong fall well short great film not help...    3.0          26\n6                                well craft compel en us    3.0           5\n48     nawazuddin siddiqui capabl carri film shoulder...    2.0          22\n49     film like sixer golf field irrelev unnecessari...    2.0          23\n50     despit clich melodrama found freaki ali worth ...    3.0          34\n...                                                  ...    ...         ...\n75527  wish film braver intent creat realli crack rom...    2.0          26\n75567  come away mix feel even though realli love ide...    2.0          22\n75603        hormon crazi romant comedi let tepid direct    2.0          12\n75654  review current post patreon support deep focu ...    2.0          67\n75993  review current post patreon support deep focu ...    3.0          67\n\n[515 rows x 3 columns]",
      "text/html": "<div>\n<style scoped>\n    .dataframe tbody tr th:only-of-type {\n        vertical-align: middle;\n    }\n\n    .dataframe tbody tr th {\n        vertical-align: top;\n    }\n\n    .dataframe thead th {\n        text-align: right;\n    }\n</style>\n<table border=\"1\" class=\"dataframe\">\n  <thead>\n    <tr style=\"text-align: right;\">\n      <th></th>\n      <th>text</th>\n      <th>label</th>\n      <th>word_count</th>\n    </tr>\n  </thead>\n  <tbody>\n    <tr>\n      <th>2</th>\n      <td>chittagong fall well short great film not help...</td>\n      <td>3.0</td>\n      <td>26</td>\n    </tr>\n    <tr>\n      <th>6</th>\n      <td>well craft compel en us</td>\n      <td>3.0</td>\n      <td>5</td>\n    </tr>\n    <tr>\n      <th>48</th>\n      <td>nawazuddin siddiqui capabl carri film shoulder...</td>\n      <td>2.0</td>\n      <td>22</td>\n    </tr>\n    <tr>\n      <th>49</th>\n      <td>film like sixer golf field irrelev unnecessari...</td>\n      <td>2.0</td>\n      <td>23</td>\n    </tr>\n    <tr>\n      <th>50</th>\n      <td>despit clich melodrama found freaki ali worth ...</td>\n      <td>3.0</td>\n      <td>34</td>\n    </tr>\n    <tr>\n      <th>...</th>\n      <td>...</td>\n      <td>...</td>\n      <td>...</td>\n    </tr>\n    <tr>\n      <th>75527</th>\n      <td>wish film braver intent creat realli crack rom...</td>\n      <td>2.0</td>\n      <td>26</td>\n    </tr>\n    <tr>\n      <th>75567</th>\n      <td>come away mix feel even though realli love ide...</td>\n      <td>2.0</td>\n      <td>22</td>\n    </tr>\n    <tr>\n      <th>75603</th>\n      <td>hormon crazi romant comedi let tepid direct</td>\n      <td>2.0</td>\n      <td>12</td>\n    </tr>\n    <tr>\n      <th>75654</th>\n      <td>review current post patreon support deep focu ...</td>\n      <td>2.0</td>\n      <td>67</td>\n    </tr>\n    <tr>\n      <th>75993</th>\n      <td>review current post patreon support deep focu ...</td>\n      <td>3.0</td>\n      <td>67</td>\n    </tr>\n  </tbody>\n</table>\n<p>515 rows × 3 columns</p>\n</div>"
     },
     "execution_count": 13,
     "metadata": {},
     "output_type": "execute_result"
    }
   ],
   "source": [
    "schema_df[schema_df['text'].isin(schema_df['text'][schema_df['text'].duplicated()])]"
   ],
   "metadata": {
    "collapsed": false,
    "pycharm": {
     "name": "#%%\n"
    }
   }
  },
  {
   "cell_type": "code",
   "source": [],
   "metadata": {
    "collapsed": false,
    "pycharm": {
     "name": "#%%\n"
    }
   },
   "execution_count": null,
   "outputs": []
  },
  {
   "cell_type": "code",
   "execution_count": null,
   "outputs": [],
   "source": [
    "# WORD COUNT DISTRIBUTION THROUGHOUT RATINGS\n",
    "pf.show_word_length_per_label(df)\n",
    "\n",
    "\n"
   ],
   "metadata": {
    "collapsed": false,
    "pycharm": {
     "name": "#%%\n"
    }
   }
  },
  {
   "cell_type": "code",
   "execution_count": null,
   "outputs": [],
   "source": [],
   "metadata": {
    "collapsed": false,
    "pycharm": {
     "name": "#%%\n"
    }
   }
  }
 ],
 "metadata": {
  "kernelspec": {
   "display_name": "Python 3",
   "language": "python",
   "name": "python3"
  },
  "language_info": {
   "codemirror_mode": {
    "name": "ipython",
    "version": 2
   },
   "file_extension": ".py",
   "mimetype": "text/x-python",
   "name": "python",
   "nbconvert_exporter": "python",
   "pygments_lexer": "ipython2",
   "version": "2.7.6"
  }
 },
 "nbformat": 4,
 "nbformat_minor": 0
}