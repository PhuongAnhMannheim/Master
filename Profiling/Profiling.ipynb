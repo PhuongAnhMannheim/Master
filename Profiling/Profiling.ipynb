{
 "cells": [
  {
   "cell_type": "code",
   "execution_count": 71,
   "metadata": {
    "ExecuteTime": {
     "end_time": "2020-08-06T15:32:52.102233Z",
     "start_time": "2020-08-06T15:32:52.062841Z"
    }
   },
   "outputs": [],
   "source": [
    "import sqlite3\n",
    "import pandas as pd\n",
    "import numpy as np\n",
    "from urllib.parse import urlparse\n",
    "from langdetect import detect\n",
    "# from zipfile import ZipFile\n",
    "# from collections import Counter"
   ]
  },
  {
   "cell_type": "code",
   "execution_count": 51,
   "metadata": {
    "ExecuteTime": {
     "end_time": "2020-08-06T14:00:42.417256Z",
     "start_time": "2020-08-06T14:00:42.384240Z"
    },
    "pycharm": {
     "name": "#%%\n"
    }
   },
   "outputs": [],
   "source": [
    "# Input\n",
    "db_path = '../Data/moviewreviews.db'\n",
    "db_name = 'moviereviews'\n",
    "conn = sqlite3.connect(db_path)\n",
    "cursor = conn.cursor()"
   ]
  },
  {
   "cell_type": "code",
   "execution_count": 64,
   "metadata": {
    "ExecuteTime": {
     "end_time": "2020-08-06T14:49:37.886107Z",
     "start_time": "2020-08-06T14:49:11.869704Z"
    },
    "pycharm": {
     "name": "#%%\n"
    }
   },
   "outputs": [
    {
     "data": {
      "text/html": [
       "<div>\n",
       "<style scoped>\n",
       "    .dataframe tbody tr th:only-of-type {\n",
       "        vertical-align: middle;\n",
       "    }\n",
       "\n",
       "    .dataframe tbody tr th {\n",
       "        vertical-align: top;\n",
       "    }\n",
       "\n",
       "    .dataframe thead th {\n",
       "        text-align: right;\n",
       "    }\n",
       "</style>\n",
       "<table border=\"1\" class=\"dataframe\">\n",
       "  <thead>\n",
       "    <tr style=\"text-align: right;\">\n",
       "      <th></th>\n",
       "      <th>NODE</th>\n",
       "      <th>URL</th>\n",
       "      <th>REVIEWBODY</th>\n",
       "      <th>RATING</th>\n",
       "      <th>REVIEWRATING</th>\n",
       "      <th>BESTRATING</th>\n",
       "      <th>WORSTRATING</th>\n",
       "    </tr>\n",
       "  </thead>\n",
       "  <tbody>\n",
       "    <tr>\n",
       "      <td>0</td>\n",
       "      <td>_:node89ce3018196554d41bceaeac30a31e</td>\n",
       "      <td>https://www.techworld.com/review/smartphones/l...</td>\n",
       "      <td>\"The smartphone market is as competitive as ev...</td>\n",
       "      <td>None</td>\n",
       "      <td>None</td>\n",
       "      <td>None</td>\n",
       "      <td>None</td>\n",
       "    </tr>\n",
       "    <tr>\n",
       "      <td>1</td>\n",
       "      <td>_:nodec8b9fba77ad36d9d11460c11f9151d9</td>\n",
       "      <td>https://www.technospain.es/fundas-smartphones-...</td>\n",
       "      <td>None</td>\n",
       "      <td>_:node46ac847e2080dc78cf9ae447647ac8d4</td>\n",
       "      <td>None</td>\n",
       "      <td>None</td>\n",
       "      <td>None</td>\n",
       "    </tr>\n",
       "    <tr>\n",
       "      <td>2</td>\n",
       "      <td>_:node46ac847e2080dc78cf9ae447647ac8d4</td>\n",
       "      <td>https://www.technospain.es/fundas-smartphones-...</td>\n",
       "      <td>None</td>\n",
       "      <td>None</td>\n",
       "      <td>\"5\"@es-es</td>\n",
       "      <td>\"5\"@es-es</td>\n",
       "      <td>None</td>\n",
       "    </tr>\n",
       "    <tr>\n",
       "      <td>3</td>\n",
       "      <td>_:nodef160bce2dcba31bd02d1a072e6ad2</td>\n",
       "      <td>https://www.technospain.es/fundas-smartphones-...</td>\n",
       "      <td>None</td>\n",
       "      <td>_:nodef4bf4b94afaabab1bbb342d3ccc284af</td>\n",
       "      <td>None</td>\n",
       "      <td>None</td>\n",
       "      <td>None</td>\n",
       "    </tr>\n",
       "    <tr>\n",
       "      <td>4</td>\n",
       "      <td>_:nodef4bf4b94afaabab1bbb342d3ccc284af</td>\n",
       "      <td>https://www.technospain.es/fundas-smartphones-...</td>\n",
       "      <td>None</td>\n",
       "      <td>None</td>\n",
       "      <td>\"2\"@es-es</td>\n",
       "      <td>\"5\"@es-es</td>\n",
       "      <td>None</td>\n",
       "    </tr>\n",
       "  </tbody>\n",
       "</table>\n",
       "</div>"
      ],
      "text/plain": [
       "                                     NODE  \\\n",
       "0    _:node89ce3018196554d41bceaeac30a31e   \n",
       "1   _:nodec8b9fba77ad36d9d11460c11f9151d9   \n",
       "2  _:node46ac847e2080dc78cf9ae447647ac8d4   \n",
       "3     _:nodef160bce2dcba31bd02d1a072e6ad2   \n",
       "4  _:nodef4bf4b94afaabab1bbb342d3ccc284af   \n",
       "\n",
       "                                                 URL  \\\n",
       "0  https://www.techworld.com/review/smartphones/l...   \n",
       "1  https://www.technospain.es/fundas-smartphones-...   \n",
       "2  https://www.technospain.es/fundas-smartphones-...   \n",
       "3  https://www.technospain.es/fundas-smartphones-...   \n",
       "4  https://www.technospain.es/fundas-smartphones-...   \n",
       "\n",
       "                                          REVIEWBODY  \\\n",
       "0  \"The smartphone market is as competitive as ev...   \n",
       "1                                               None   \n",
       "2                                               None   \n",
       "3                                               None   \n",
       "4                                               None   \n",
       "\n",
       "                                   RATING REVIEWRATING BESTRATING WORSTRATING  \n",
       "0                                    None         None       None        None  \n",
       "1  _:node46ac847e2080dc78cf9ae447647ac8d4         None       None        None  \n",
       "2                                    None    \"5\"@es-es  \"5\"@es-es        None  \n",
       "3  _:nodef4bf4b94afaabab1bbb342d3ccc284af         None       None        None  \n",
       "4                                    None    \"2\"@es-es  \"5\"@es-es        None  "
      ]
     },
     "execution_count": 64,
     "metadata": {},
     "output_type": "execute_result"
    }
   ],
   "source": [
    "df = pd.read_sql_query(\"SELECT * from \" + str(db_name), conn)\n",
    "df.head()"
   ]
  },
  {
   "cell_type": "code",
   "execution_count": 60,
   "metadata": {
    "ExecuteTime": {
     "end_time": "2020-08-06T14:14:05.386043Z",
     "start_time": "2020-08-06T14:13:23.674047Z"
    }
   },
   "outputs": [
    {
     "data": {
      "text/html": [
       "<div>\n",
       "<style scoped>\n",
       "    .dataframe tbody tr th:only-of-type {\n",
       "        vertical-align: middle;\n",
       "    }\n",
       "\n",
       "    .dataframe tbody tr th {\n",
       "        vertical-align: top;\n",
       "    }\n",
       "\n",
       "    .dataframe thead th {\n",
       "        text-align: right;\n",
       "    }\n",
       "</style>\n",
       "<table border=\"1\" class=\"dataframe\">\n",
       "  <thead>\n",
       "    <tr style=\"text-align: right;\">\n",
       "      <th></th>\n",
       "      <th>NODE</th>\n",
       "      <th>URL</th>\n",
       "      <th>REVIEWBODY</th>\n",
       "      <th>RATING</th>\n",
       "      <th>REVIEWRATING</th>\n",
       "      <th>BESTRATING</th>\n",
       "      <th>WORSTRATING</th>\n",
       "    </tr>\n",
       "  </thead>\n",
       "  <tbody>\n",
       "    <tr>\n",
       "      <td>count</td>\n",
       "      <td>804458</td>\n",
       "      <td>804458</td>\n",
       "      <td>310085</td>\n",
       "      <td>369753</td>\n",
       "      <td>365588</td>\n",
       "      <td>139590</td>\n",
       "      <td>92655</td>\n",
       "    </tr>\n",
       "    <tr>\n",
       "      <td>unique</td>\n",
       "      <td>804374</td>\n",
       "      <td>86495</td>\n",
       "      <td>69873</td>\n",
       "      <td>368902</td>\n",
       "      <td>2027</td>\n",
       "      <td>208</td>\n",
       "      <td>156</td>\n",
       "    </tr>\n",
       "    <tr>\n",
       "      <td>top</td>\n",
       "      <td>_:nodeba6ecab48a1906f16aeda968ce8d4b4</td>\n",
       "      <td>https://my-phone-finder.com/find-imei</td>\n",
       "      <td>\"Cancel this order\"</td>\n",
       "      <td>\"Null\"@ja</td>\n",
       "      <td>\"5\"</td>\n",
       "      <td>\"5\"</td>\n",
       "      <td>\"0\"</td>\n",
       "    </tr>\n",
       "    <tr>\n",
       "      <td>freq</td>\n",
       "      <td>2</td>\n",
       "      <td>3590</td>\n",
       "      <td>31383</td>\n",
       "      <td>82</td>\n",
       "      <td>193872</td>\n",
       "      <td>33364</td>\n",
       "      <td>26965</td>\n",
       "    </tr>\n",
       "  </tbody>\n",
       "</table>\n",
       "</div>"
      ],
      "text/plain": [
       "                                         NODE  \\\n",
       "count                                  804458   \n",
       "unique                                 804374   \n",
       "top     _:nodeba6ecab48a1906f16aeda968ce8d4b4   \n",
       "freq                                        2   \n",
       "\n",
       "                                          URL           REVIEWBODY     RATING  \\\n",
       "count                                  804458               310085     369753   \n",
       "unique                                  86495                69873     368902   \n",
       "top     https://my-phone-finder.com/find-imei  \"Cancel this order\"  \"Null\"@ja   \n",
       "freq                                     3590                31383         82   \n",
       "\n",
       "       REVIEWRATING BESTRATING WORSTRATING  \n",
       "count        365588     139590       92655  \n",
       "unique         2027        208         156  \n",
       "top             \"5\"        \"5\"         \"0\"  \n",
       "freq         193872      33364       26965  "
      ]
     },
     "execution_count": 60,
     "metadata": {},
     "output_type": "execute_result"
    }
   ],
   "source": [
    "df.describe()"
   ]
  },
  {
   "cell_type": "code",
   "execution_count": 65,
   "metadata": {
    "ExecuteTime": {
     "end_time": "2020-08-06T14:50:45.065703Z",
     "start_time": "2020-08-06T14:49:58.363470Z"
    },
    "pycharm": {
     "name": "#%%\n"
    }
   },
   "outputs": [
    {
     "data": {
      "text/html": [
       "<div>\n",
       "<style scoped>\n",
       "    .dataframe tbody tr th:only-of-type {\n",
       "        vertical-align: middle;\n",
       "    }\n",
       "\n",
       "    .dataframe tbody tr th {\n",
       "        vertical-align: top;\n",
       "    }\n",
       "\n",
       "    .dataframe thead th {\n",
       "        text-align: right;\n",
       "    }\n",
       "</style>\n",
       "<table border=\"1\" class=\"dataframe\">\n",
       "  <thead>\n",
       "    <tr style=\"text-align: right;\">\n",
       "      <th></th>\n",
       "      <th>NODE</th>\n",
       "      <th>URL</th>\n",
       "      <th>REVIEWBODY</th>\n",
       "      <th>RATING</th>\n",
       "      <th>REVIEWRATING</th>\n",
       "      <th>BESTRATING</th>\n",
       "      <th>WORSTRATING</th>\n",
       "    </tr>\n",
       "  </thead>\n",
       "  <tbody>\n",
       "    <tr>\n",
       "      <td>count</td>\n",
       "      <td>804458</td>\n",
       "      <td>804458</td>\n",
       "      <td>310085</td>\n",
       "      <td>369753</td>\n",
       "      <td>365588</td>\n",
       "      <td>139590</td>\n",
       "      <td>92655</td>\n",
       "    </tr>\n",
       "    <tr>\n",
       "      <td>unique</td>\n",
       "      <td>804374</td>\n",
       "      <td>86495</td>\n",
       "      <td>69873</td>\n",
       "      <td>368902</td>\n",
       "      <td>2027</td>\n",
       "      <td>208</td>\n",
       "      <td>156</td>\n",
       "    </tr>\n",
       "    <tr>\n",
       "      <td>top</td>\n",
       "      <td>_:nodeba6ecab48a1906f16aeda968ce8d4b4</td>\n",
       "      <td>https://my-phone-finder.com/find-imei</td>\n",
       "      <td>\"Cancel this order\"</td>\n",
       "      <td>\"Null\"@ja</td>\n",
       "      <td>\"5\"</td>\n",
       "      <td>\"5\"</td>\n",
       "      <td>\"0\"</td>\n",
       "    </tr>\n",
       "    <tr>\n",
       "      <td>freq</td>\n",
       "      <td>2</td>\n",
       "      <td>3590</td>\n",
       "      <td>31383</td>\n",
       "      <td>82</td>\n",
       "      <td>193872</td>\n",
       "      <td>33364</td>\n",
       "      <td>26965</td>\n",
       "    </tr>\n",
       "  </tbody>\n",
       "</table>\n",
       "</div>"
      ],
      "text/plain": [
       "                                         NODE  \\\n",
       "count                                  804458   \n",
       "unique                                 804374   \n",
       "top     _:nodeba6ecab48a1906f16aeda968ce8d4b4   \n",
       "freq                                        2   \n",
       "\n",
       "                                          URL           REVIEWBODY     RATING  \\\n",
       "count                                  804458               310085     369753   \n",
       "unique                                  86495                69873     368902   \n",
       "top     https://my-phone-finder.com/find-imei  \"Cancel this order\"  \"Null\"@ja   \n",
       "freq                                     3590                31383         82   \n",
       "\n",
       "       REVIEWRATING BESTRATING WORSTRATING  \n",
       "count        365588     139590       92655  \n",
       "unique         2027        208         156  \n",
       "top             \"5\"        \"5\"         \"0\"  \n",
       "freq         193872      33364       26965  "
      ]
     },
     "execution_count": 65,
     "metadata": {},
     "output_type": "execute_result"
    }
   ],
   "source": [
    "# drop duplicates\n",
    "df.dropna()\n",
    "df.describe()"
   ]
  },
  {
   "cell_type": "code",
   "execution_count": 63,
   "metadata": {
    "ExecuteTime": {
     "end_time": "2020-08-06T14:48:50.798298Z",
     "start_time": "2020-08-06T14:48:48.938877Z"
    }
   },
   "outputs": [
    {
     "data": {
      "text/html": [
       "<div>\n",
       "<style scoped>\n",
       "    .dataframe tbody tr th:only-of-type {\n",
       "        vertical-align: middle;\n",
       "    }\n",
       "\n",
       "    .dataframe tbody tr th {\n",
       "        vertical-align: top;\n",
       "    }\n",
       "\n",
       "    .dataframe thead th {\n",
       "        text-align: right;\n",
       "    }\n",
       "</style>\n",
       "<table border=\"1\" class=\"dataframe\">\n",
       "  <thead>\n",
       "    <tr style=\"text-align: right;\">\n",
       "      <th></th>\n",
       "      <th>NODE</th>\n",
       "      <th>URL</th>\n",
       "      <th>REVIEWBODY</th>\n",
       "      <th>RATING</th>\n",
       "      <th>REVIEWRATING</th>\n",
       "      <th>BESTRATING</th>\n",
       "      <th>WORSTRATING</th>\n",
       "    </tr>\n",
       "  </thead>\n",
       "  <tbody>\n",
       "    <tr>\n",
       "      <td>count</td>\n",
       "      <td>0</td>\n",
       "      <td>0</td>\n",
       "      <td>0</td>\n",
       "      <td>0</td>\n",
       "      <td>0</td>\n",
       "      <td>0</td>\n",
       "      <td>0</td>\n",
       "    </tr>\n",
       "    <tr>\n",
       "      <td>unique</td>\n",
       "      <td>0</td>\n",
       "      <td>0</td>\n",
       "      <td>0</td>\n",
       "      <td>0</td>\n",
       "      <td>0</td>\n",
       "      <td>0</td>\n",
       "      <td>0</td>\n",
       "    </tr>\n",
       "    <tr>\n",
       "      <td>top</td>\n",
       "      <td>NaN</td>\n",
       "      <td>NaN</td>\n",
       "      <td>NaN</td>\n",
       "      <td>NaN</td>\n",
       "      <td>NaN</td>\n",
       "      <td>NaN</td>\n",
       "      <td>NaN</td>\n",
       "    </tr>\n",
       "    <tr>\n",
       "      <td>freq</td>\n",
       "      <td>NaN</td>\n",
       "      <td>NaN</td>\n",
       "      <td>NaN</td>\n",
       "      <td>NaN</td>\n",
       "      <td>NaN</td>\n",
       "      <td>NaN</td>\n",
       "      <td>NaN</td>\n",
       "    </tr>\n",
       "  </tbody>\n",
       "</table>\n",
       "</div>"
      ],
      "text/plain": [
       "       NODE  URL REVIEWBODY RATING REVIEWRATING BESTRATING WORSTRATING\n",
       "count     0    0          0      0            0          0           0\n",
       "unique    0    0          0      0            0          0           0\n",
       "top     NaN  NaN        NaN    NaN          NaN        NaN         NaN\n",
       "freq    NaN  NaN        NaN    NaN          NaN        NaN         NaN"
      ]
     },
     "execution_count": 63,
     "metadata": {},
     "output_type": "execute_result"
    }
   ],
   "source": [
    "# drop rows where any of the values is null\n",
    "df = df[df.REVIEWBODY.notnull()&df.RATING.notnull()&df.REVIEWRATING.notnull()&df.BESTRATING.notnull()&df.WORSTRATING.notnull()]\n",
    "df.describe()"
   ]
  },
  {
   "cell_type": "code",
   "execution_count": 66,
   "metadata": {
    "ExecuteTime": {
     "end_time": "2020-08-06T14:50:53.649483Z",
     "start_time": "2020-08-06T14:50:46.249897Z"
    }
   },
   "outputs": [
    {
     "data": {
      "text/html": [
       "<div>\n",
       "<style scoped>\n",
       "    .dataframe tbody tr th:only-of-type {\n",
       "        vertical-align: middle;\n",
       "    }\n",
       "\n",
       "    .dataframe tbody tr th {\n",
       "        vertical-align: top;\n",
       "    }\n",
       "\n",
       "    .dataframe thead th {\n",
       "        text-align: right;\n",
       "    }\n",
       "</style>\n",
       "<table border=\"1\" class=\"dataframe\">\n",
       "  <thead>\n",
       "    <tr style=\"text-align: right;\">\n",
       "      <th></th>\n",
       "      <th>NODE</th>\n",
       "      <th>URL</th>\n",
       "      <th>REVIEWBODY</th>\n",
       "      <th>RATING</th>\n",
       "      <th>REVIEWRATING</th>\n",
       "      <th>BESTRATING</th>\n",
       "      <th>WORSTRATING</th>\n",
       "    </tr>\n",
       "  </thead>\n",
       "  <tbody>\n",
       "    <tr>\n",
       "      <td>count</td>\n",
       "      <td>69874</td>\n",
       "      <td>69874</td>\n",
       "      <td>69873</td>\n",
       "      <td>47272</td>\n",
       "      <td>0</td>\n",
       "      <td>0</td>\n",
       "      <td>0</td>\n",
       "    </tr>\n",
       "    <tr>\n",
       "      <td>unique</td>\n",
       "      <td>69873</td>\n",
       "      <td>12676</td>\n",
       "      <td>69873</td>\n",
       "      <td>47045</td>\n",
       "      <td>0</td>\n",
       "      <td>0</td>\n",
       "      <td>0</td>\n",
       "    </tr>\n",
       "    <tr>\n",
       "      <td>top</td>\n",
       "      <td>_:nodeb81aca48a7d95e968aa3d136cd4565</td>\n",
       "      <td>https://my-phone-finder.com/check-phone</td>\n",
       "      <td>\"\\n                    Connectivity to some ga...</td>\n",
       "      <td>\"9 \"@en-GB</td>\n",
       "      <td>NaN</td>\n",
       "      <td>NaN</td>\n",
       "      <td>NaN</td>\n",
       "    </tr>\n",
       "    <tr>\n",
       "      <td>freq</td>\n",
       "      <td>2</td>\n",
       "      <td>1309</td>\n",
       "      <td>1</td>\n",
       "      <td>25</td>\n",
       "      <td>NaN</td>\n",
       "      <td>NaN</td>\n",
       "      <td>NaN</td>\n",
       "    </tr>\n",
       "  </tbody>\n",
       "</table>\n",
       "</div>"
      ],
      "text/plain": [
       "                                        NODE  \\\n",
       "count                                  69874   \n",
       "unique                                 69873   \n",
       "top     _:nodeb81aca48a7d95e968aa3d136cd4565   \n",
       "freq                                       2   \n",
       "\n",
       "                                            URL  \\\n",
       "count                                     69874   \n",
       "unique                                    12676   \n",
       "top     https://my-phone-finder.com/check-phone   \n",
       "freq                                       1309   \n",
       "\n",
       "                                               REVIEWBODY      RATING  \\\n",
       "count                                               69873       47272   \n",
       "unique                                              69873       47045   \n",
       "top     \"\\n                    Connectivity to some ga...  \"9 \"@en-GB   \n",
       "freq                                                    1          25   \n",
       "\n",
       "       REVIEWRATING BESTRATING WORSTRATING  \n",
       "count             0          0           0  \n",
       "unique            0          0           0  \n",
       "top             NaN        NaN         NaN  \n",
       "freq            NaN        NaN         NaN  "
      ]
     },
     "execution_count": 66,
     "metadata": {},
     "output_type": "execute_result"
    }
   ],
   "source": [
    "# drop duplicates on Reviewbody\n",
    "df = df.drop_duplicates(subset='REVIEWBODY', keep=\"first\")\n",
    "df.describe()"
   ]
  },
  {
   "cell_type": "code",
   "execution_count": 67,
   "metadata": {
    "ExecuteTime": {
     "end_time": "2020-08-06T15:32:36.162083Z",
     "start_time": "2020-08-06T14:50:54.191403Z"
    },
    "pycharm": {
     "is_executing": true,
     "name": "#%%\n"
    }
   },
   "outputs": [
    {
     "name": "stdout",
     "output_type": "stream",
     "text": [
      "exception: None\n",
      "exception: \"\\n\\t\\t\\t\\t\\t27 Oct 2018 03:02Bag just jogging. Bought for 246\\u0440. Quality the price. Bag glued, no seams. It had further sew on sewing machine.\\t                \\n\\t\\t                \\t                \\n\\n                    \\n                        \\n\\t\\t\\t\\t\\t\\n\\t\\t\\t\\t\\t\\n\\n                        \\n                            \\n                            \\n                                                    \\n                    \\n\\n\\t\\t\\t\\t\"@en-US\n",
      "exception: \"\\n\\t\\t\\t\\t\\t\\t\\t\\t\\t\\t\\t\\t\\t\\t\\t\\t\\t\\t\\t\\n\\t\\t\\t\\t\\t\\t\\t\\t\\t\\t\\t\\t\\t\\t\\t\\t\\t\\t\\tA quick read, but not a light one- in fact, after reading this on the train on the way home from work, I had to read something funny because I was so sad. And also angry that for 100 days the rest of the world did nothing to stop it: the US just debated whether or not it was really genocide, and the UN just pulled all of their people out, abandoning thousands to torture and murder. The author is the subject of the film, Hotel Rwanda. His story of his efforts to save his family and as many of his fellow Rwandans as possible during the genocide of 1994 is heartbreaking, and inspiring. The book is written simply, and although his actions were absolutely heroic by any measure, there is never a tone of boasting about what he did, and he makes sure to mention the actions by others that were no less heroic. He also insists that despite everything he saw and experienced, he believes that the default nature of humankind is not to kill, but to live life peaceably with each other. I think that says much about the kind of man he is, that he can still believe that after 800,000 of his countrymen and women were slaughtered by their former friends and neighbors.I loved the line with which he closes: \\\"Wherever the killing season should next begin and people should become strangers to their neighbors and themselves, my hope is that there will still be those ordinary men who say a quiet no and open the rooms upstairs.\\\"\\n\\t\\t\\t\\t\\t\\t\\t\\t\\t\\t\\t\\t\\t\\t\\t\\t\\t\\t\"@en-US\n"
     ]
    }
   ],
   "source": [
    "# detect the language of the reviewbody\n",
    "def detectLang(row):\n",
    "    try:\n",
    "        return detect(row['REVIEWBODY'])\n",
    "    except:\n",
    "        print(\"exception:\", row['REVIEWBODY'])\n",
    "    else:\n",
    "        print(\"sad:\", row['REVIEWBODY'])\n",
    "df['LANGUAGE'] = df.apply(detectLang, axis=1)"
   ]
  },
  {
   "cell_type": "code",
   "execution_count": 68,
   "metadata": {
    "ExecuteTime": {
     "end_time": "2020-08-06T15:32:43.310959Z",
     "start_time": "2020-08-06T15:32:36.575985Z"
    }
   },
   "outputs": [
    {
     "data": {
      "text/html": [
       "<div>\n",
       "<style scoped>\n",
       "    .dataframe tbody tr th:only-of-type {\n",
       "        vertical-align: middle;\n",
       "    }\n",
       "\n",
       "    .dataframe tbody tr th {\n",
       "        vertical-align: top;\n",
       "    }\n",
       "\n",
       "    .dataframe thead th {\n",
       "        text-align: right;\n",
       "    }\n",
       "</style>\n",
       "<table border=\"1\" class=\"dataframe\">\n",
       "  <thead>\n",
       "    <tr style=\"text-align: right;\">\n",
       "      <th></th>\n",
       "      <th>NODE</th>\n",
       "      <th>URL</th>\n",
       "      <th>REVIEWBODY</th>\n",
       "      <th>RATING</th>\n",
       "      <th>REVIEWRATING</th>\n",
       "      <th>BESTRATING</th>\n",
       "      <th>WORSTRATING</th>\n",
       "      <th>LANGUAGE</th>\n",
       "    </tr>\n",
       "  </thead>\n",
       "  <tbody>\n",
       "    <tr>\n",
       "      <td>count</td>\n",
       "      <td>68041</td>\n",
       "      <td>68041</td>\n",
       "      <td>68041</td>\n",
       "      <td>45816</td>\n",
       "      <td>0</td>\n",
       "      <td>0</td>\n",
       "      <td>0</td>\n",
       "      <td>68041</td>\n",
       "    </tr>\n",
       "    <tr>\n",
       "      <td>unique</td>\n",
       "      <td>68040</td>\n",
       "      <td>12492</td>\n",
       "      <td>68041</td>\n",
       "      <td>45589</td>\n",
       "      <td>0</td>\n",
       "      <td>0</td>\n",
       "      <td>0</td>\n",
       "      <td>1</td>\n",
       "    </tr>\n",
       "    <tr>\n",
       "      <td>top</td>\n",
       "      <td>_:nodeb81aca48a7d95e968aa3d136cd4565</td>\n",
       "      <td>https://my-phone-finder.com/check-phone</td>\n",
       "      <td>\"\\n                    Connectivity to some ga...</td>\n",
       "      <td>\"9 \"@en-GB</td>\n",
       "      <td>NaN</td>\n",
       "      <td>NaN</td>\n",
       "      <td>NaN</td>\n",
       "      <td>en</td>\n",
       "    </tr>\n",
       "    <tr>\n",
       "      <td>freq</td>\n",
       "      <td>2</td>\n",
       "      <td>1270</td>\n",
       "      <td>1</td>\n",
       "      <td>25</td>\n",
       "      <td>NaN</td>\n",
       "      <td>NaN</td>\n",
       "      <td>NaN</td>\n",
       "      <td>68041</td>\n",
       "    </tr>\n",
       "  </tbody>\n",
       "</table>\n",
       "</div>"
      ],
      "text/plain": [
       "                                        NODE  \\\n",
       "count                                  68041   \n",
       "unique                                 68040   \n",
       "top     _:nodeb81aca48a7d95e968aa3d136cd4565   \n",
       "freq                                       2   \n",
       "\n",
       "                                            URL  \\\n",
       "count                                     68041   \n",
       "unique                                    12492   \n",
       "top     https://my-phone-finder.com/check-phone   \n",
       "freq                                       1270   \n",
       "\n",
       "                                               REVIEWBODY      RATING  \\\n",
       "count                                               68041       45816   \n",
       "unique                                              68041       45589   \n",
       "top     \"\\n                    Connectivity to some ga...  \"9 \"@en-GB   \n",
       "freq                                                    1          25   \n",
       "\n",
       "       REVIEWRATING BESTRATING WORSTRATING LANGUAGE  \n",
       "count             0          0           0    68041  \n",
       "unique            0          0           0        1  \n",
       "top             NaN        NaN         NaN       en  \n",
       "freq            NaN        NaN         NaN    68041  "
      ]
     },
     "execution_count": 68,
     "metadata": {},
     "output_type": "execute_result"
    }
   ],
   "source": [
    "# filter out the ones which could not be detected or which are not english\n",
    "df = df[df['LANGUAGE'] == \"en\"]\n",
    "df.describe()"
   ]
  },
  {
   "cell_type": "code",
   "execution_count": 69,
   "metadata": {
    "ExecuteTime": {
     "end_time": "2020-08-06T15:32:49.965685Z",
     "start_time": "2020-08-06T15:32:43.763236Z"
    }
   },
   "outputs": [
    {
     "data": {
      "text/html": [
       "<div>\n",
       "<style scoped>\n",
       "    .dataframe tbody tr th:only-of-type {\n",
       "        vertical-align: middle;\n",
       "    }\n",
       "\n",
       "    .dataframe tbody tr th {\n",
       "        vertical-align: top;\n",
       "    }\n",
       "\n",
       "    .dataframe thead th {\n",
       "        text-align: right;\n",
       "    }\n",
       "</style>\n",
       "<table border=\"1\" class=\"dataframe\">\n",
       "  <thead>\n",
       "    <tr style=\"text-align: right;\">\n",
       "      <th></th>\n",
       "      <th>NODE</th>\n",
       "      <th>URL</th>\n",
       "      <th>REVIEWBODY</th>\n",
       "      <th>RATING</th>\n",
       "      <th>REVIEWRATING</th>\n",
       "      <th>BESTRATING</th>\n",
       "      <th>WORSTRATING</th>\n",
       "      <th>LANGUAGE</th>\n",
       "      <th>netloc</th>\n",
       "    </tr>\n",
       "  </thead>\n",
       "  <tbody>\n",
       "    <tr>\n",
       "      <td>0</td>\n",
       "      <td>_:node89ce3018196554d41bceaeac30a31e</td>\n",
       "      <td>https://www.techworld.com/review/smartphones/l...</td>\n",
       "      <td>\"The smartphone market is as competitive as ev...</td>\n",
       "      <td>None</td>\n",
       "      <td>None</td>\n",
       "      <td>None</td>\n",
       "      <td>None</td>\n",
       "      <td>en</td>\n",
       "      <td>www.techworld.com</td>\n",
       "    </tr>\n",
       "    <tr>\n",
       "      <td>9</td>\n",
       "      <td>_:node932ee4db8fed7d2b6e36f387762ccae4</td>\n",
       "      <td>https://www.cio.com/article/3101868/smartphone...</td>\n",
       "      <td>\"\\n\\t\\n\\t\\n\\t\\n\\t\\n\\n\\t\\nLenovo's Motorola Mob...</td>\n",
       "      <td>None</td>\n",
       "      <td>None</td>\n",
       "      <td>None</td>\n",
       "      <td>None</td>\n",
       "      <td>en</td>\n",
       "      <td>www.cio.com</td>\n",
       "    </tr>\n",
       "    <tr>\n",
       "      <td>30</td>\n",
       "      <td>_:node76a0665e193f5656e178f4591906334</td>\n",
       "      <td>https://www.coolsmartphone.com/2016/03/01/hono...</td>\n",
       "      <td>\"Recently I was at the Honor 5X European launc...</td>\n",
       "      <td>\"85 \"@en-GB</td>\n",
       "      <td>None</td>\n",
       "      <td>None</td>\n",
       "      <td>None</td>\n",
       "      <td>en</td>\n",
       "      <td>www.coolsmartphone.com</td>\n",
       "    </tr>\n",
       "    <tr>\n",
       "      <td>32</td>\n",
       "      <td>_:node9e6b599bb0a0c282a5cad42fa35cea60</td>\n",
       "      <td>https://www.techradar.com/reviews/vernee-v2-pr...</td>\n",
       "      <td>\"\\n\\n\\nWhere to buy?Online Chinese retailer, G...</td>\n",
       "      <td>_:nodec31a287f3d1864bfab3ae61cfb3bc</td>\n",
       "      <td>None</td>\n",
       "      <td>None</td>\n",
       "      <td>None</td>\n",
       "      <td>en</td>\n",
       "      <td>www.techradar.com</td>\n",
       "    </tr>\n",
       "    <tr>\n",
       "      <td>42</td>\n",
       "      <td>_:node618abc17c8fc753a4660a9dd8d791d92</td>\n",
       "      <td>https://www.proporta.com/gripstick-dashboard-m...</td>\n",
       "      <td>\"Another useful gadget which has yet to be ful...</td>\n",
       "      <td>_:node89349b98f280309385d7a2d8bbf43095</td>\n",
       "      <td>None</td>\n",
       "      <td>None</td>\n",
       "      <td>None</td>\n",
       "      <td>en</td>\n",
       "      <td>www.proporta.com</td>\n",
       "    </tr>\n",
       "  </tbody>\n",
       "</table>\n",
       "</div>"
      ],
      "text/plain": [
       "                                      NODE  \\\n",
       "0     _:node89ce3018196554d41bceaeac30a31e   \n",
       "9   _:node932ee4db8fed7d2b6e36f387762ccae4   \n",
       "30   _:node76a0665e193f5656e178f4591906334   \n",
       "32  _:node9e6b599bb0a0c282a5cad42fa35cea60   \n",
       "42  _:node618abc17c8fc753a4660a9dd8d791d92   \n",
       "\n",
       "                                                  URL  \\\n",
       "0   https://www.techworld.com/review/smartphones/l...   \n",
       "9   https://www.cio.com/article/3101868/smartphone...   \n",
       "30  https://www.coolsmartphone.com/2016/03/01/hono...   \n",
       "32  https://www.techradar.com/reviews/vernee-v2-pr...   \n",
       "42  https://www.proporta.com/gripstick-dashboard-m...   \n",
       "\n",
       "                                           REVIEWBODY  \\\n",
       "0   \"The smartphone market is as competitive as ev...   \n",
       "9   \"\\n\\t\\n\\t\\n\\t\\n\\t\\n\\n\\t\\nLenovo's Motorola Mob...   \n",
       "30  \"Recently I was at the Honor 5X European launc...   \n",
       "32  \"\\n\\n\\nWhere to buy?Online Chinese retailer, G...   \n",
       "42  \"Another useful gadget which has yet to be ful...   \n",
       "\n",
       "                                    RATING REVIEWRATING BESTRATING  \\\n",
       "0                                     None         None       None   \n",
       "9                                     None         None       None   \n",
       "30                             \"85 \"@en-GB         None       None   \n",
       "32     _:nodec31a287f3d1864bfab3ae61cfb3bc         None       None   \n",
       "42  _:node89349b98f280309385d7a2d8bbf43095         None       None   \n",
       "\n",
       "   WORSTRATING LANGUAGE                  netloc  \n",
       "0         None       en       www.techworld.com  \n",
       "9         None       en             www.cio.com  \n",
       "30        None       en  www.coolsmartphone.com  \n",
       "32        None       en       www.techradar.com  \n",
       "42        None       en        www.proporta.com  "
      ]
     },
     "execution_count": 69,
     "metadata": {},
     "output_type": "execute_result"
    }
   ],
   "source": [
    "# finding out where the reviews come from (domain specific)\n",
    "def getNetloc(row):\n",
    "    try:\n",
    "        return urlparse(row['URL']).netloc\n",
    "    except:\n",
    "        print(\"expection: \", row['URL'])\n",
    "    else:\n",
    "        print(\"sad\", row['URL'])\n",
    "\n",
    "df['netloc'] = df.apply(getNetloc, axis = 1)\n",
    "df.head()"
   ]
  },
  {
   "cell_type": "code",
   "execution_count": 70,
   "metadata": {
    "ExecuteTime": {
     "end_time": "2020-08-06T15:32:51.106066Z",
     "start_time": "2020-08-06T15:32:50.951317Z"
    }
   },
   "outputs": [
    {
     "data": {
      "text/plain": [
       "allphonespro.com                                  11583\n",
       "my-phone-finder.com                                7141\n",
       "www.proporta.co.uk                                 5503\n",
       "iphone7mobiledeals.co.uk                           5241\n",
       "www.bhphotovideo.com                               3783\n",
       "                                                  ...  \n",
       "www.mytrendyphone.co.uk                               1\n",
       "readquick-speed-reader-for-ios.fr.softonic.com        1\n",
       "www.shopsafe.co.uk                                    1\n",
       "tiny-zoo-friends.en.softonic.com                      1\n",
       "halloween-ringtones-and-sounds.en.softonic.com        1\n",
       "Name: netloc, Length: 1740, dtype: int64"
      ]
     },
     "execution_count": 70,
     "metadata": {},
     "output_type": "execute_result"
    }
   ],
   "source": [
    "df['netloc'].value_counts()"
   ]
  },
  {
   "cell_type": "code",
   "execution_count": 40,
   "metadata": {
    "ExecuteTime": {
     "end_time": "2020-08-06T10:16:19.541960Z",
     "start_time": "2020-08-06T10:16:18.724313Z"
    }
   },
   "outputs": [
    {
     "data": {
      "text/html": [
       "<div>\n",
       "<style scoped>\n",
       "    .dataframe tbody tr th:only-of-type {\n",
       "        vertical-align: middle;\n",
       "    }\n",
       "\n",
       "    .dataframe tbody tr th {\n",
       "        vertical-align: top;\n",
       "    }\n",
       "\n",
       "    .dataframe thead th {\n",
       "        text-align: right;\n",
       "    }\n",
       "</style>\n",
       "<table border=\"1\" class=\"dataframe\">\n",
       "  <thead>\n",
       "    <tr style=\"text-align: right;\">\n",
       "      <th></th>\n",
       "      <th>NODE</th>\n",
       "      <th>URL</th>\n",
       "      <th>REVIEWBODY</th>\n",
       "      <th>RATING</th>\n",
       "      <th>REVIEWRATING</th>\n",
       "      <th>BESTRATING</th>\n",
       "      <th>WORSTRATING</th>\n",
       "      <th>LANGUAGE</th>\n",
       "      <th>netloc</th>\n",
       "    </tr>\n",
       "  </thead>\n",
       "  <tbody>\n",
       "    <tr>\n",
       "      <td>count</td>\n",
       "      <td>35137</td>\n",
       "      <td>35137</td>\n",
       "      <td>35137</td>\n",
       "      <td>35137</td>\n",
       "      <td>35137</td>\n",
       "      <td>35137</td>\n",
       "      <td>35137</td>\n",
       "      <td>35137</td>\n",
       "      <td>35137</td>\n",
       "    </tr>\n",
       "    <tr>\n",
       "      <td>unique</td>\n",
       "      <td>35137</td>\n",
       "      <td>13647</td>\n",
       "      <td>35137</td>\n",
       "      <td>20595</td>\n",
       "      <td>72</td>\n",
       "      <td>8</td>\n",
       "      <td>6</td>\n",
       "      <td>1</td>\n",
       "      <td>9</td>\n",
       "    </tr>\n",
       "    <tr>\n",
       "      <td>top</td>\n",
       "      <td>_:znodeGTbPrfEow9J7kbPSiOG49NY9Mxo47tU</td>\n",
       "      <td>https://www.imdb.com/search/title/?title_type=...</td>\n",
       "      <td>\" Based on 2011's movie, Starbuck, this is Vau...</td>\n",
       "      <td>{'@type': 'Rating', 'worstRating': '1', 'bestR...</td>\n",
       "      <td>\"3.0\"@en</td>\n",
       "      <td>10</td>\n",
       "      <td>1</td>\n",
       "      <td>en</td>\n",
       "      <td>www.imdb.com</td>\n",
       "    </tr>\n",
       "    <tr>\n",
       "      <td>freq</td>\n",
       "      <td>1</td>\n",
       "      <td>953</td>\n",
       "      <td>1</td>\n",
       "      <td>2724</td>\n",
       "      <td>2802</td>\n",
       "      <td>14552</td>\n",
       "      <td>14552</td>\n",
       "      <td>35137</td>\n",
       "      <td>14552</td>\n",
       "    </tr>\n",
       "  </tbody>\n",
       "</table>\n",
       "</div>"
      ],
      "text/plain": [
       "                                          NODE  \\\n",
       "count                                    35137   \n",
       "unique                                   35137   \n",
       "top     _:znodeGTbPrfEow9J7kbPSiOG49NY9Mxo47tU   \n",
       "freq                                         1   \n",
       "\n",
       "                                                      URL  \\\n",
       "count                                               35137   \n",
       "unique                                              13647   \n",
       "top     https://www.imdb.com/search/title/?title_type=...   \n",
       "freq                                                  953   \n",
       "\n",
       "                                               REVIEWBODY  \\\n",
       "count                                               35137   \n",
       "unique                                              35137   \n",
       "top     \" Based on 2011's movie, Starbuck, this is Vau...   \n",
       "freq                                                    1   \n",
       "\n",
       "                                                   RATING REVIEWRATING  \\\n",
       "count                                               35137        35137   \n",
       "unique                                              20595           72   \n",
       "top     {'@type': 'Rating', 'worstRating': '1', 'bestR...     \"3.0\"@en   \n",
       "freq                                                 2724         2802   \n",
       "\n",
       "       BESTRATING WORSTRATING LANGUAGE        netloc  \n",
       "count       35137       35137    35137         35137  \n",
       "unique          8           6        1             9  \n",
       "top            10           1       en  www.imdb.com  \n",
       "freq        14552       14552    35137         14552  "
      ]
     },
     "execution_count": 40,
     "metadata": {},
     "output_type": "execute_result"
    }
   ],
   "source": [
    "# Clean up if the values are not accepable, e.g Null@en\n",
    "df = df[df.REVIEWRATING!='\"Null\"@en']\n",
    "df = df[df.REVIEWRATING!='\"Null\"']\n",
    "df = df[df.BESTRATING!='\"Null\"@en-US']\n",
    "df = df[df.BESTRATING!='\"Null\"']\n",
    "df = df[df.WORSTRATING!='\"Null\"@en-US']\n",
    "df = df[df.WORSTRATING!='\"Null\"']\n",
    "df.head()\n",
    "df.describe()"
   ]
  },
  {
   "cell_type": "code",
   "execution_count": 45,
   "metadata": {
    "ExecuteTime": {
     "end_time": "2020-08-06T12:19:54.561311Z",
     "start_time": "2020-08-06T12:19:54.304611Z"
    }
   },
   "outputs": [
    {
     "data": {
      "text/plain": [
       "['10',\n",
       " '\"4.0\"@en',\n",
       " '\"10\"@en-US',\n",
       " '\"99\"@en-US',\n",
       " '\"5\"@en',\n",
       " '\"4.0\"@en-US',\n",
       " '\"5\"@en-US',\n",
       " '\"4\"@en-CA']"
      ]
     },
     "execution_count": 45,
     "metadata": {},
     "output_type": "execute_result"
    }
   ],
   "source": [
    "#df['REVIEWRATING'].value_counts().index.tolist()\n",
    "\n",
    "df['BESTRATING'].value_counts().index.tolist()\n",
    "\n",
    "#df['WORSTRATING'].value_counts().index.tolist()"
   ]
  },
  {
   "cell_type": "code",
   "execution_count": 50,
   "metadata": {
    "ExecuteTime": {
     "end_time": "2020-08-06T12:23:10.569500Z",
     "start_time": "2020-08-06T12:23:10.012420Z"
    }
   },
   "outputs": [
    {
     "data": {
      "text/plain": [
       "106197    None\n",
       "106199    None\n",
       "106201    None\n",
       "106203    None\n",
       "106205    None\n",
       "          ... \n",
       "213531    None\n",
       "213532    None\n",
       "213533    None\n",
       "213534    None\n",
       "213535    None\n",
       "Name: REVIEWRATING, Length: 35137, dtype: object"
      ]
     },
     "execution_count": 50,
     "metadata": {},
     "output_type": "execute_result"
    }
   ],
   "source": [
    "def cutout(value):\n",
    "    try:\n",
    "        value = value.split('&')[0]\n",
    "    except:\n",
    "        print(\"Error:\" + value)\n",
    "\n",
    "df['REVIEWRATING'].apply(cutout)"
   ]
  },
  {
   "cell_type": "code",
   "execution_count": null,
   "metadata": {
    "pycharm": {
     "is_executing": true,
     "name": "#%%\n"
    }
   },
   "outputs": [],
   "source": [
    "phone_lst = ['smartphone', 'phone',\n",
    "             'phone case', 'phone cable', 'phone charger', 'phone mount',\n",
    "             'cell phone', 'mobile phone']\n",
    "contains = [df_en['a'].str.contains(i) for i in phone_lst]\n",
    "result = df_en[np.all(contains, axis=0)]\n",
    "\n",
    "# df_phone = df_en[df_en['REVIEWBODY'].isin(phone_lst)]\n",
    "# print(df_phone.head())\n",
    "# ANGUAGE'] == \"en\"]\n",
    "df_en.head()"
   ]
  }
 ],
 "metadata": {
  "kernelspec": {
   "display_name": "Python 3",
   "language": "python",
   "name": "python3"
  },
  "language_info": {
   "codemirror_mode": {
    "name": "ipython",
    "version": 3
   },
   "file_extension": ".py",
   "mimetype": "text/x-python",
   "name": "python",
   "nbconvert_exporter": "python",
   "pygments_lexer": "ipython3",
   "version": "3.6.9"
  },
  "toc": {
   "base_numbering": 1,
   "nav_menu": {},
   "number_sections": true,
   "sideBar": true,
   "skip_h1_title": false,
   "title_cell": "Table of Contents",
   "title_sidebar": "Contents",
   "toc_cell": false,
   "toc_position": {},
   "toc_section_display": true,
   "toc_window_display": false
  },
  "varInspector": {
   "cols": {
    "lenName": 16,
    "lenType": 16,
    "lenVar": 40
   },
   "kernels_config": {
    "python": {
     "delete_cmd_postfix": "",
     "delete_cmd_prefix": "del ",
     "library": "var_list.py",
     "varRefreshCmd": "print(var_dic_list())"
    },
    "r": {
     "delete_cmd_postfix": ") ",
     "delete_cmd_prefix": "rm(",
     "library": "var_list.r",
     "varRefreshCmd": "cat(var_dic_list()) "
    }
   },
   "types_to_exclude": [
    "module",
    "function",
    "builtin_function_or_method",
    "instance",
    "_Feature"
   ],
   "window_display": false
  }
 },
 "nbformat": 4,
 "nbformat_minor": 1
}
