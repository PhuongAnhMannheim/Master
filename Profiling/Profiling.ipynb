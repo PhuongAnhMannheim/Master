{
 "cells": [
  {
   "cell_type": "code",
   "execution_count": 1,
   "metadata": {
    "ExecuteTime": {
     "end_time": "2020-08-06T15:32:52.102233Z",
     "start_time": "2020-08-06T15:32:52.062841Z"
    }
   },
   "outputs": [],
   "source": [
    "import sqlite3\n",
    "import pandas as pd\n",
    "import numpy as np\n",
    "from urllib.parse import urlparse\n",
    "from langdetect import detect\n",
    "# from zipfile import ZipFile\n",
    "# from collections import Counter\n",
    "import re"
   ]
  },
  {
   "cell_type": "code",
   "execution_count": 2,
   "metadata": {
    "ExecuteTime": {
     "end_time": "2020-08-06T14:00:42.417256Z",
     "start_time": "2020-08-06T14:00:42.384240Z"
    },
    "pycharm": {
     "name": "#%%\n"
    }
   },
   "outputs": [
    {
     "name": "stdout",
     "output_type": "stream",
     "text": [
      "ACTION: raw data:\n",
      "                                          NODE  \\\n",
      "count                                   809937   \n",
      "unique                                  809853   \n",
      "top     _:node8161c9599d5063951e373c3ff7e77db1   \n",
      "freq                                         2   \n",
      "\n",
      "                                          URL           REVIEWBODY     RATING  \\\n",
      "count                                  809937               316424     375232   \n",
      "unique                                  88282                73748     368907   \n",
      "top     https://my-phone-finder.com/find-imei  \"Cancel this order\"  \\n\\n5 / 5   \n",
      "freq                                     3590                31383       2898   \n",
      "\n",
      "       REVIEWRATING BESTRATING WORSTRATING  \n",
      "count        735137     283704      190129  \n",
      "unique         2086        210         158  \n",
      "top             \"5\"        \"5\"         \"0\"  \n",
      "freq         387649      66637       53927  \n",
      "ACTION: without duplicate rows: \n",
      "                                          NODE  \\\n",
      "count                                   809937   \n",
      "unique                                  809853   \n",
      "top     _:node8161c9599d5063951e373c3ff7e77db1   \n",
      "freq                                         2   \n",
      "\n",
      "                                          URL           REVIEWBODY     RATING  \\\n",
      "count                                  809937               316424     375232   \n",
      "unique                                  88282                73748     368907   \n",
      "top     https://my-phone-finder.com/find-imei  \"Cancel this order\"  \\n\\n5 / 5   \n",
      "freq                                     3590                31383       2898   \n",
      "\n",
      "       REVIEWRATING BESTRATING WORSTRATING  \n",
      "count        735137     283704      190129  \n",
      "unique         2086        210         158  \n",
      "top             \"5\"        \"5\"         \"0\"  \n",
      "freq         387649      66637       53927  \n",
      "ACTION: drop rows where any of the values is null or invalid\n",
      "                                          NODE  \\\n",
      "count                                    44123   \n",
      "unique                                   44123   \n",
      "top     _:node8556e2242f414883e88fca4411e4e13b   \n",
      "freq                                         1   \n",
      "\n",
      "                                                      URL  \\\n",
      "count                                               44123   \n",
      "unique                                              10074   \n",
      "top     https://www.proporta.com/ipod-nano-7g-case-lea...   \n",
      "freq                                                  616   \n",
      "\n",
      "                                               REVIEWBODY     RATING  \\\n",
      "count                                               44123      44123   \n",
      "unique                                              24849      38649   \n",
      "top     \"Very professional all the way. They keep you ...  \\n\\n5 / 5   \n",
      "freq                                                  108       2898   \n",
      "\n",
      "       REVIEWRATING BESTRATING WORSTRATING  \n",
      "count         44123      44123       44123  \n",
      "unique          513         76          74  \n",
      "top             \"5\"        \"5\"      \"1\"@en  \n",
      "freq          12025      14218       13091  \n",
      "ACTION: drop duplicates on Reviewbody\n",
      "                                          NODE  \\\n",
      "count                                    24849   \n",
      "unique                                   24849   \n",
      "top     _:node8556e2242f414883e88fca4411e4e13b   \n",
      "freq                                         1   \n",
      "\n",
      "                                                      URL  \\\n",
      "count                                               24849   \n",
      "unique                                               7140   \n",
      "top     https://www.proporta.com/ipod-nano-7g-case-lea...   \n",
      "freq                                                  399   \n",
      "\n",
      "                                               REVIEWBODY     RATING  \\\n",
      "count                                               24849      24849   \n",
      "unique                                              24849      21465   \n",
      "top     The Good: Sharp design. Excellent WP7 user exp...  \\n\\n5 / 5   \n",
      "freq                                                    1       1546   \n",
      "\n",
      "       REVIEWRATING BESTRATING WORSTRATING  \n",
      "count         24849      24849       24849  \n",
      "unique          496         75          74  \n",
      "top       \"5\"@en-US     \"5\"@en      \"1\"@en  \n",
      "freq           5757       6880        7067  \n",
      "ACTION: filter out only as english detected reviewbody\n",
      "exception: ***                 \n",
      "exception: *****                 \n"
     ]
    },
    {
     "data": {
      "text/plain": "                                          NODE  \\\ncount                                    24302   \nunique                                   24302   \ntop     _:node8556e2242f414883e88fca4411e4e13b   \nfreq                                         1   \n\n                                                      URL  \\\ncount                                               24302   \nunique                                               7041   \ntop     https://www.proporta.com/ipod-nano-7g-case-lea...   \nfreq                                                  376   \n\n                                               REVIEWBODY     RATING  \\\ncount                                               24302      24302   \nunique                                              24302      21040   \ntop     The Good: Sharp design. Excellent WP7 user exp...  \\n\\n5 / 5   \nfreq                                                    1       1436   \n\n       REVIEWRATING BESTRATING WORSTRATING LANGUAGE  \ncount         24302      24302       24302    24302  \nunique          495         75          74        1  \ntop       \"5\"@en-US     \"5\"@en      \"1\"@en       en  \nfreq           5714       6734        6920    24302  ",
      "text/html": "<div>\n<style scoped>\n    .dataframe tbody tr th:only-of-type {\n        vertical-align: middle;\n    }\n\n    .dataframe tbody tr th {\n        vertical-align: top;\n    }\n\n    .dataframe thead th {\n        text-align: right;\n    }\n</style>\n<table border=\"1\" class=\"dataframe\">\n  <thead>\n    <tr style=\"text-align: right;\">\n      <th></th>\n      <th>NODE</th>\n      <th>URL</th>\n      <th>REVIEWBODY</th>\n      <th>RATING</th>\n      <th>REVIEWRATING</th>\n      <th>BESTRATING</th>\n      <th>WORSTRATING</th>\n      <th>LANGUAGE</th>\n    </tr>\n  </thead>\n  <tbody>\n    <tr>\n      <th>count</th>\n      <td>24302</td>\n      <td>24302</td>\n      <td>24302</td>\n      <td>24302</td>\n      <td>24302</td>\n      <td>24302</td>\n      <td>24302</td>\n      <td>24302</td>\n    </tr>\n    <tr>\n      <th>unique</th>\n      <td>24302</td>\n      <td>7041</td>\n      <td>24302</td>\n      <td>21040</td>\n      <td>495</td>\n      <td>75</td>\n      <td>74</td>\n      <td>1</td>\n    </tr>\n    <tr>\n      <th>top</th>\n      <td>_:node8556e2242f414883e88fca4411e4e13b</td>\n      <td>https://www.proporta.com/ipod-nano-7g-case-lea...</td>\n      <td>The Good: Sharp design. Excellent WP7 user exp...</td>\n      <td>\\n\\n5 / 5</td>\n      <td>\"5\"@en-US</td>\n      <td>\"5\"@en</td>\n      <td>\"1\"@en</td>\n      <td>en</td>\n    </tr>\n    <tr>\n      <th>freq</th>\n      <td>1</td>\n      <td>376</td>\n      <td>1</td>\n      <td>1436</td>\n      <td>5714</td>\n      <td>6734</td>\n      <td>6920</td>\n      <td>24302</td>\n    </tr>\n  </tbody>\n</table>\n</div>"
     },
     "execution_count": 2,
     "metadata": {},
     "output_type": "execute_result"
    }
   ],
   "source": [
    "# Input\n",
    "# db_path = '../Data/moviewreviews.db'\n",
    "# db_name = 'moviereviews'\n",
    "db_path = '../Data/phonereviews.db'\n",
    "db_name = 'phonereviews'\n",
    "conn = sqlite3.connect(db_path)\n",
    "cursor = conn.cursor()\n",
    "\n",
    "df = pd.read_sql_query(\"SELECT * from \" + str(db_name), conn)\n",
    "print(\"ACTION: raw data:\")\n",
    "print(df.describe())\n",
    "\n",
    "print(\"ACTION: without duplicate rows: \")\n",
    "df.dropna()\n",
    "print(df.describe())\n",
    "\n",
    "print(\"ACTION: drop rows where any of the values is null or invalid\")\n",
    "df = df[df.REVIEWBODY.notnull()&df.RATING.notnull()&df.REVIEWRATING.notnull()&df.BESTRATING.notnull()&df.WORSTRATING.notnull()]\n",
    "df = df[~df['REVIEWRATING'].str.contains(\"ull\")]\n",
    "df = df[~df['BESTRATING'].str.contains(\"ull\")]\n",
    "df = df[~df['WORSTRATING'].str.contains(\"ull\")]\n",
    "df = df[~df['REVIEWRATING'].str.contains(\"editorReview.rating\")]\n",
    "df = df[~df['REVIEWRATING'].str.contains(\"missing value\")]\n",
    "df = df[~df['URL'].str.contains(\"johnpacker\")]\n",
    "df = df[~df['URL'].str.contains(\"dougshop\")]\n",
    "print(df.describe())\n",
    "\n",
    "print(\"ACTION: drop duplicates on Reviewbody\")\n",
    "df = df.drop_duplicates(subset='REVIEWBODY', keep=\"first\")\n",
    "print(df.describe())\n",
    "\n",
    "print(\"ACTION: filter out only as english detected reviewbody\")\n",
    "# detect the language of the reviewbody\n",
    "def detectLang(row):\n",
    "    try:\n",
    "        return detect(row['REVIEWBODY'])\n",
    "    except:\n",
    "        print(\"exception:\", row['REVIEWBODY'])\n",
    "    else:\n",
    "        print(\"sad:\", row['REVIEWBODY'])\n",
    "df['LANGUAGE'] = df.apply(detectLang, axis=1)\n",
    "\n",
    "df = df[df['LANGUAGE'] == \"en\"]\n",
    "df.describe()"
   ]
  },
  {
   "cell_type": "code",
   "execution_count": 3,
   "metadata": {
    "ExecuteTime": {
     "end_time": "2020-08-06T12:19:54.561311Z",
     "start_time": "2020-08-06T12:19:54.304611Z"
    }
   },
   "outputs": [
    {
     "data": {
      "text/plain": "['\"5\"@en-US',\n '\"5\"@en',\n '\"5\"',\n '5',\n '\"4\"@en',\n '3.5',\n '\"4\"',\n '4',\n '\"5\"@en-us',\n '\"4\"@en-us',\n '3',\n '\"8\"',\n '\"1\"',\n '\"7\"',\n '\" 5 \"',\n '\"3\"',\n '\"3\"@en',\n '\"2\"',\n '4.5',\n '\"9\"',\n '\"4\"@en-US',\n '\"6\"',\n '\" 4 \"',\n '2.5',\n '\"10\"@en',\n '\"5\"@vi',\n '\"8\"@en-US',\n '\"3\"@en-US',\n '\"1\"@en',\n '\"100%\"@en',\n '\"0\"@en-US',\n '0',\n '\"9\"@en-US',\n '\"5\"@en-gb',\n '\"5\"@de-DE',\n '\"5\"@en-GB',\n '\"95\"@en-US',\n '\"10\"',\n '\"7\"@en-US',\n '\"2\"@en',\n '\"4.5\"@en',\n '\"5\"@fr',\n '\"8\"@en',\n '\"9\"@en',\n '\"80%\"@en',\n '89',\n '90',\n '\"1\"@fr',\n '\"94\"@en-US',\n '92',\n '\"5\"@de',\n '\"4\"@fr',\n '\"4.5\"@en-US',\n '\"4.5\"',\n '82',\n '\"6\"@en-US',\n '88',\n '91',\n '\"5.0\"@en',\n '2',\n '\"5\"@pt-br',\n '\"100\"@en',\n '\"\\\\n\\\\t\\\\t\\\\t\\\\t5\\\\n\\\\t\\\\t\\\\t\"@en-US',\n '\"\\\\n\\\\t\\\\t\\\\t\\\\t5\\\\n\\\\t\\\\t\\\\t\"@en-GB',\n '93',\n '\"5\"@en-AU',\n '86',\n '\"5\"@fi',\n '87',\n '\"3.8\"',\n '\" 5\"@es',\n '84',\n '\"96\"@en-US',\n '80',\n '\"5\"@da',\n '\"7\"@en',\n '85',\n '\"5\"@tr',\n '\"80%\"',\n '83',\n '\"90%\"@en',\n '\"4.2\"',\n '\"1\"@en-US',\n '\"5.0\"@en-US',\n '\"60%\"@en',\n '\"0\"',\n '\"75%\"@en',\n '\"5\"@es',\n '\"6\"@en',\n '\"91\"@en-GB',\n '\"82%\"@en',\n '\" 3 \"',\n '\"3\"@fr',\n '\"5.0\"',\n '68',\n '\"90\"@en-GB',\n '\"93\"@en-US',\n '\"5.00\"',\n '\"86%\"@en',\n '\"-1\"',\n '94',\n '\"4.9\"',\n '77',\n '95',\n '81',\n '78',\n '\"4\"@en-GB',\n '\"3.5\"@en',\n '75',\n '\"79%\"@en',\n '\"2\"@fr',\n '\"78%\"@en',\n '\"84%\"@en',\n '79',\n '\"4.3\"',\n '\"3.5\"',\n '\"4.1\"',\n '\"85%\"@en',\n '\"4.6\"@en-US',\n '73',\n '\"90\"@en-US',\n '\"4.2\"@en-US',\n '\"92\"@en-US',\n '\"4.83\"@en-US',\n '\"4.72\"@en-US',\n '\"4.78\"@en-US',\n '\"4.00\"@en',\n '\"2\"@en-US',\n '\"100%\"',\n '\"5\"@en-CA',\n '\"4\"@de',\n '\"83%\"@en',\n '72',\n '\"5\"@EN',\n '\"98\"@en-US',\n '100',\n '\"87%\"@en',\n '96',\n '\"3.7\"',\n '\"7.5\"@en',\n '\"5\"@IT',\n '\"4.7\"',\n '65',\n '\"4.8\"',\n '\"1\"@en-us',\n '\"4.3\"@en-US',\n '\"4.82\"@en-US',\n '\"73%\"@en',\n '\"70%\"@en',\n '\"4.2\"@en',\n '67',\n '\"85\"@en-US',\n '\"87\"@en-US',\n '\"4.4\"',\n '\"88\"@en-GB',\n '\"81%\"@en',\n '\"4.6\"',\n '\"4\"@pt-br',\n '\"\\\\n            8.5            \"@en',\n '\"88%\"@en',\n '76',\n '\"89\"@en-GB',\n '\"5\"@EL',\n '\"5\"@sv',\n '\"4.62\"@en-US',\n '\"5\"@zh',\n '\"80\"@en-US',\n '\"72%\"@en',\n '97',\n '\"4.8\"@en-US',\n '70',\n '\"4.7\"@en-US',\n '\"4\"@tr',\n '\"3.9\"',\n '\"4.4\"@en-US',\n '1.5',\n '\"5\"@ja',\n '\"4\"@sv',\n '\"5.00\"@en',\n '\"74%\"@en',\n '\"76%\"@en',\n '\"77%\"@en',\n '\"4.58\"@en-US',\n '\"18\"@fr',\n '\"5\"@FR',\n '\"5.0\"@en-gb',\n '\"6.5\"@en-US',\n '\"4.55\"@en-US',\n '\"89%\"@en',\n '\"82.5\"@en-US',\n '\"4.85\"@en-US',\n '74',\n '\"2.00 \"',\n '\"3.5\"@en-US',\n '63',\n '71',\n '\"5.0\"@fr',\n '\"3.9\"@en-US',\n '45',\n '\"83\"@en-US',\n '\"87\"',\n '\"71%\"@en',\n '\"82\"@en-US',\n '\"68%\"@en',\n '\"91\"@en-US',\n '\"0\"@en',\n '\"4.57\"@en-US',\n '\"4.73\"@en-US',\n '\"9.5\"@en-US',\n '\"1\"@vi',\n '\"97\"@en-US',\n '\"4.3\"@en',\n '\"4.67\"@en-US',\n '\"87.833333333333\"',\n '\"8.3\"@en-US',\n '\"80\"',\n '\"85\"@en-AU',\n '50',\n '\"5\"@en-SG',\n '\"2.5\"',\n '\" 2\"@es',\n '\"5\"@nl',\n '\"91.666666666667\"',\n '\"4.50\"@en',\n '56',\n '\"4.63\"@en-US',\n '\"70\"@en-US',\n '\"4\"@es',\n '\"4.5\"@de',\n '\"100\"@en-US',\n '\"4.77\"@en-US',\n '\"92\"@en-GB',\n '\"5\"@en-IN',\n '\"80\"@en',\n '\"100\"',\n '\"3.50\"@en-US',\n '\"4\"@fi',\n '64',\n '\"3.8\"@en',\n '\"4\"@de-ch',\n '\"4.5\"@en-us',\n '\"67%\"@en',\n '\"\\\\n            7.5            \"@en',\n '\"4.38\"@en-US',\n '\"88\"@en-US',\n '\"4.87\"@en-US',\n '\"90.666666666667\"',\n '58',\n '57',\n '\"4.37\"@en-US',\n '\"5\"@pl',\n '\"5\"@id',\n '\"65%\"@en',\n '\"3.8\"@en-US',\n '\"9.0\"@en',\n '\"4.68\"@en-US',\n '\"65\"@en-US',\n '69',\n '\"9.5\"@en',\n '\"4.1\"@en-US',\n '\"4.0\"',\n '\"83.333333333333\"@en-US',\n '\"78\"@en-US',\n '\"81\"@en-US',\n '98',\n '\"2.6\"@el',\n '\"7.0\"',\n '\"83\"',\n '\"95\"@EN-US',\n '\"19\"@fr',\n '\"4.47\"@en-US',\n '\"72.5\"@en-US',\n '\"3.0\"',\n '\" 3.5 \"',\n '\"8.4\"@en',\n '55',\n '\"76\"@vi',\n '\"9.0\"',\n '\"\\\\n            7.0            \"@en',\n '\"\\\\n            7.4            \"@en',\n '\"4\"@en-AU',\n '\"4\"@id',\n '\"1\"@en-gb',\n '\"2.85 \"',\n '\"4.8\"@tr',\n '\"38%\"@en',\n '\"100\"@vi',\n '\"79.833333333333\"',\n '\"4.9\"@en-US',\n '\"3.2\"',\n '\"5\"@fr-fr',\n '\"79\"@en-GB',\n '\"5\"@it',\n '\"59%\"@en',\n '\"16\"@fr',\n '\"4.48\"@en-US',\n '\"4.8\"@en-GB',\n '\"83.666666666667\"',\n '\"86.6\"',\n '\"5.5\"@en-US',\n '\"86\"',\n '\"7.5\"@en-US',\n '\"3.00\"@en',\n '\"4\"@en-IN',\n '\" 2 \"',\n '\"88.666666666667\"',\n '\"3.7\"@en-US',\n '\"4\"@zh',\n '\"4.22\"@en-US',\n '\"64%\"@en',\n '\"4.17\"@en-GB',\n '\"2.5\"@en',\n '\"9.9\"@en-US',\n '\"57.5\"@en-US',\n '\"63.75\"',\n '\"92.5\"',\n '\"67.5\"@en-US',\n '\"91%\"@en',\n '\"85.857142857143\"',\n '\"61\"@en-US',\n '\"93\"',\n '\"5\"@de-ch',\n '\"5\"@vn',\n '\"67.142857142857\"@en-US',\n '\"9.3\"@en-US',\n '\"95%\"@en',\n '\"4\"@el',\n '\"5\"@uk',\n '\"7.7\"@en',\n '\"2\"@en-GB',\n '\"91.5\"',\n '\"4.6\"@en',\n '\"3.4\"@vi',\n '\"8.0\"@en',\n '\"84\"@ar',\n '\"98\"',\n '\"92\"',\n '\"9.6\"@en-US',\n '\"60\"@en',\n '\"4.5\"@en-gb',\n '\"4.4\"@da',\n '\"4.3\"@en-GB',\n '\"8.7\"@en',\n '\"98.3333333333\"',\n '\"51%\"@en',\n '\"84\"@en-US',\n '\"89.333333333333\"',\n '\"0\"@vi',\n '44',\n '\"90.333333333333\"',\n '\"87.142857142857\"',\n '\"78.333333333333\"@en-US',\n '\"82.857142857143\"',\n '\"4\"@en-ME',\n '\"4.33\"@en-US',\n '\"7.2110\"@tr-TR',\n '\"89\"',\n '\"88.571428571429\"@en-US',\n '\"2.8\"@en-US',\n '\"0.00\"@en-US',\n '\"\\\\n            9.0            \"@en',\n '\"90.285714285714\"',\n '\"60%\"',\n '\"4\"@uk',\n '\"3.6\"@en-US',\n '\"\\\\n          5\"@en-US',\n '\"8.2\"@en',\n '\"7\"@it-IT',\n '\"7.4\"@en-US',\n '\"87.166666666667\"',\n '\"73.857142857143\"',\n '\"5\"@el',\n '\"4.10\"@en-GB',\n '60',\n '59',\n '\"3.0\"@en',\n '\"97\"',\n '\"2.6\"@de',\n '\"94\"@en-GB',\n '\"4\"@vi',\n '\"74 %\"@en',\n '\"75\"@en-AU',\n '52',\n '\"4.27\"@en-US',\n '99',\n '\"7.0\"@en-US',\n '\"3\"@vi',\n '\"4.88\"@en-US',\n '\"4.35\"@en-US',\n '\"76.666666666667\"@en-US',\n '\"8.9\"@en',\n '\"6.6\"@th',\n '\"2.6\"@id',\n '\"4.8\"@fr',\n '\"2.35 \"',\n '\"3.0\"@en-gb',\n '\"4.92\"@en-US',\n '\"4.33\"@en',\n '\"7.9\"@en',\n '\"87\"@de-DE',\n '\"0\"@da',\n '\"6.4\"',\n '\"74\"@en',\n '\"6.6\"@en-US',\n '\"97\"@en-GB',\n '\"3.4\"@en-US',\n '\"9.7\"@en-US',\n '\"4.5\"@en-GB',\n '\"75.714285714286\"@en-US',\n '\"70\"@en-GB',\n '\"95.25\"@en-GB',\n '\"86.333333333333\"',\n '\"90.833333333333\"',\n '\"4\"@en-gb',\n '\"95\"@en-GB',\n '\"3.1\"@en-US',\n '\"\\\\n            6.0            \"@en',\n '\"87\"@ar',\n '\"80.571428571429\"',\n '\"87.6\"',\n '\"86.428571428571\"@en-US',\n '1',\n '\"87\"@ru-RU',\n '\"55%\"@en',\n '\"6.8\"@en',\n '\"54%\"@en',\n '\"3\"@sv',\n '\"99\"@en-US',\n '\"91\"',\n '\"4.43\"@en-US',\n '\"93\"@en-GB',\n '\"62%\"@en',\n '\"0.5\"@en-us',\n '\"87\"@en-GB',\n '\"4\"@nl',\n '\"8.6\"@en-US',\n '\"93.833333333333\"',\n '\"85\"@en-GB',\n '\"1\"@de',\n '\"5\"@ro',\n '\"79\"@en-US',\n '\"4.0\"@en',\n '\"90\"',\n '\"7.6\"@en',\n '\"4 Stars\"@en-US',\n '0.5',\n '\"7.5\"@it-IT',\n '\"\\\\n            9.5            \"@en',\n '\"3.50\"@en',\n '\" 4\"@es',\n '\"14\"@fr',\n '\"7.6\"@en-US',\n '\"9.3\"@bs-BA',\n '\"6.7\"@en-US',\n '\"2.6\"@es',\n '\"3.7\"@en',\n '\"5\"@en-MY',\n '\"87\"@vi',\n '\"3.5\"@en-GB',\n '\"86\"@en-US',\n '\"8.6\"',\n '\"6.6\"@de-DE',\n '\"87.5\"@en-US',\n '\"69%\"@en',\n '\"73.333333333333\"@en-US',\n '\"77.5\"@en-US',\n '\"94%\"@en',\n '66',\n '\"4.8\"@en',\n '\"1.68 \"',\n '\"4.50\"@en-US',\n '\"93.571428571429\"',\n '\"90.5\"',\n '\"84.5\"',\n '\"4.18\"@en-US',\n '\"40%\"@en',\n '\"92%\"@en',\n '\"55\"@en-US',\n '\"1\"@ja',\n '\"5.3\"@en',\n '\"91.428571428571\"',\n '\"1.0\"',\n '\" 3\"@es',\n '\"7.8\"@en',\n '\"2\"@en-us',\n '\"92.5\"@en-US',\n '\"88.714285714286\"',\n '\"5\"@ro-RO',\n '\"3.33\"@en',\n '\"84\"@es-ES',\n '\"91.166666666667\"',\n '\"2.6\"@en',\n '\"2.6\"@uk',\n '\"63%\"@en',\n '\"4.53\"@en-US']"
     },
     "execution_count": 3,
     "metadata": {},
     "output_type": "execute_result"
    }
   ],
   "source": [
    "df['REVIEWRATING'].value_counts().index.tolist()\n",
    "# df['BESTRATING'].value_counts().index.tolist()\n",
    "# df['WORSTRATING'].value_counts().index.tolist()"
   ]
  },
  {
   "cell_type": "code",
   "execution_count": 4,
   "metadata": {
    "ExecuteTime": {
     "end_time": "2020-08-06T12:23:10.569500Z",
     "start_time": "2020-08-06T12:23:10.012420Z"
    }
   },
   "outputs": [],
   "source": [
    "def chForm(value):\n",
    "    value = re.sub(r'[a-zA-Z]|@|%| |\"|-|\\\\', '', value)\n",
    "    # return value\n",
    "    if value != \"\":\n",
    "        value = float(value)\n",
    "    else:\n",
    "        value = float(0)\n",
    "    return round(value)\n",
    "df['REVIEWRATING_new'] = df.apply(lambda row: chForm(row['REVIEWRATING']), axis=1)\n",
    "df['BESTRATING_new']= df.apply(lambda row: chForm(row['BESTRATING']), axis=1)\n",
    "df['WORSTRATING_new']= df.apply(lambda row: chForm(row['WORSTRATING']), axis=1)\n",
    "# try:\n",
    "#         int(value)\n",
    "#     except:\n",
    "#         # print(value)"
   ]
  },
  {
   "cell_type": "code",
   "execution_count": 5,
   "outputs": [
    {
     "data": {
      "text/plain": "[5,\n 4,\n 3,\n 8,\n 1,\n 2,\n 7,\n 9,\n 6,\n 10,\n 0,\n 100,\n 80,\n 90,\n 95,\n 89,\n 92,\n 91,\n 94,\n 82,\n 87,\n 88,\n 86,\n 93,\n 85,\n 84,\n 83,\n 96,\n 78,\n 75,\n 79,\n 60,\n 81,\n 68,\n 77,\n 73,\n 70,\n 72,\n 74,\n 76,\n 97,\n 98,\n 65,\n 67,\n 71,\n 64,\n 18,\n 63,\n 69,\n 55,\n 58,\n 45,\n 50,\n 59,\n 99,\n 56,\n 57,\n 19,\n 51,\n 66,\n 62,\n 52,\n 14,\n 38,\n 54,\n 40,\n 61,\n 16,\n 44]"
     },
     "execution_count": 5,
     "metadata": {},
     "output_type": "execute_result"
    }
   ],
   "source": [
    "df['REVIEWRATING_new'].value_counts().index.tolist()\n",
    "# df['BESTRATING_new'].value_counts().index.tolist()\n",
    "# df['WORSTRATING_new'].value_counts().index.tolist()"
   ],
   "metadata": {
    "collapsed": false,
    "pycharm": {
     "name": "#%%\n"
    }
   }
  },
  {
   "cell_type": "code",
   "execution_count": 56,
   "outputs": [
    {
     "name": "stdout",
     "output_type": "stream",
     "text": [
      "                                          NODE  \\\n",
      "691770  _:node6c4fd1e64e842ee999b038e1726441e4   \n",
      "692561   _:node97a5355b9f12943ebbba2c63e807b4c   \n",
      "\n",
      "                                                      URL  \\\n",
      "691770  http://landscape-photography-blog.com/Christma...   \n",
      "692561  http://landscape-photography-blog.com/Beautifu...   \n",
      "\n",
      "                                               REVIEWBODY  \\\n",
      "691770  \"\\u27A2 HDQ Cover Images CollPection: Christma...   \n",
      "692561  \"30/03/2017 Beautiful Wallpapers For Iphone \\u...   \n",
      "\n",
      "                                        RATING REVIEWRATING BESTRATING  \\\n",
      "691770   _:node040e432477113fe82d4a665703636ba    \"5\"@en-US  \"5\"@en-US   \n",
      "692561  _:node1ea4555792615ff43136e1cea5b1b221    \"5\"@en-US  \"5\"@en-US   \n",
      "\n",
      "       WORSTRATING LANGUAGE  REVIEWRATING_new  BESTRATING_new  \\\n",
      "691770   \"5\"@en-US       en                 5               5   \n",
      "692561   \"5\"@en-US       en                 5               5   \n",
      "\n",
      "        WORSTRATING_new  REVIEWRATING_adj  \n",
      "691770                5               NaN  \n",
      "692561                5               NaN  \n"
     ]
    }
   ],
   "source": [
    "df_special = df[(df['WORSTRATING_new']==5) & (df['BESTRATING_new']==5)]\n",
    "print(df_special)"
   ],
   "metadata": {
    "collapsed": false,
    "pycharm": {
     "name": "#%%\n"
    }
   }
  },
  {
   "cell_type": "code",
   "execution_count": 66,
   "outputs": [],
   "source": [
    "def adjust_rating(n, range1, range2):\n",
    "    try:\n",
    "        if n > range1[1]:\n",
    "            return range2[1]\n",
    "        delta1 = range1[1] - range1[0]\n",
    "        delta2 = range2[1] - range2[0]\n",
    "        result =  (round(delta2 * (n - range1[0]) / delta1) + range2[0])\n",
    "        if result == 0:\n",
    "            result = 1\n",
    "        return result\n",
    "    except ZeroDivisionError:\n",
    "        if range1 == [5,5]:\n",
    "            return  5\n",
    "\n",
    "\n",
    "df['REVIEWRATING_adj'] = df.apply(lambda row:\n",
    "                                  adjust_rating(row['REVIEWRATING_new'], [row['WORSTRATING_new'],row['BESTRATING_new']], [1.0,5.0]), axis=1)"
   ],
   "metadata": {
    "collapsed": false,
    "pycharm": {
     "name": "#%%\n"
    }
   }
  },
  {
   "cell_type": "code",
   "execution_count": null,
   "outputs": [],
   "source": [
    "def renormalize(n, range1, range2):\n",
    "    if n > range1[1]:\n",
    "        return range2[1]\n",
    "    delta1 = range1[1] - range1[0]\n",
    "    delta2 = range2[1] - range2[0]\n",
    "    return (delta2 * (n - range1[0]) / delta1) + range2[0]\n",
    "\n",
    "print(round(renormalize(20.5, [1.0, 100.0], [1.0, 5.0])))"
   ],
   "metadata": {
    "collapsed": false,
    "pycharm": {
     "name": "#%%\n"
    }
   }
  },
  {
   "cell_type": "code",
   "execution_count": 62,
   "outputs": [
    {
     "data": {
      "text/plain": "5     17828\n4      3229\n3       635\n8       371\n1       281\n      ...  \n54        1\n40        1\n61        1\n16        1\n44        1\nName: REVIEWRATING_new, Length: 69, dtype: int64"
     },
     "execution_count": 62,
     "metadata": {},
     "output_type": "execute_result"
    }
   ],
   "source": [
    "df['REVIEWRATING_new'].value_counts()"
   ],
   "metadata": {
    "collapsed": false,
    "pycharm": {
     "name": "#%%\n"
    }
   }
  },
  {
   "cell_type": "code",
   "execution_count": 28,
   "outputs": [
    {
     "data": {
      "text/plain": "134"
     },
     "execution_count": 28,
     "metadata": {},
     "output_type": "execute_result"
    }
   ],
   "source": [
    "(df['REVIEWRATING_adj'] == 2).sum()"
   ],
   "metadata": {
    "collapsed": false,
    "pycharm": {
     "name": "#%%\n"
    }
   }
  },
  {
   "cell_type": "code",
   "execution_count": 75,
   "outputs": [
    {
     "name": "stdout",
     "output_type": "stream",
     "text": [
      "5.0    0.764423\n",
      "4.0    0.174595\n",
      "3.0    0.040861\n",
      "1.0    0.010123\n",
      "2.0    0.009999\n",
      "Name: REVIEWRATING_adj, dtype: float64\n",
      "5.0    18577\n",
      "4.0     4243\n",
      "3.0      993\n",
      "1.0      246\n",
      "2.0      243\n",
      "Name: REVIEWRATING_adj, dtype: int64\n"
     ]
    }
   ],
   "source": [
    "print(df['REVIEWRATING_adj'].value_counts(normalize=True))\n",
    "print(df['REVIEWRATING_adj'].value_counts())"
   ],
   "metadata": {
    "collapsed": false,
    "pycharm": {
     "name": "#%%\n"
    }
   }
  },
  {
   "cell_type": "code",
   "execution_count": 9,
   "outputs": [
    {
     "data": {
      "text/plain": "       REVIEWRATING_new  BESTRATING_new  WORSTRATING_new  REVIEWRATING_adj\ncount      24302.000000    24302.000000     24302.000000      19560.000000\nmean           7.911859        9.001811         0.778372          4.835174\nstd           15.586544       18.563918         0.418804          0.591476\nmin            0.000000        1.000000         0.000000          1.000000\n25%            5.000000        5.000000         1.000000          5.000000\n50%            5.000000        5.000000         1.000000          5.000000\n75%            5.000000        5.000000         1.000000          5.000000\nmax          100.000000      100.000000         6.000000          5.000000",
      "text/html": "<div>\n<style scoped>\n    .dataframe tbody tr th:only-of-type {\n        vertical-align: middle;\n    }\n\n    .dataframe tbody tr th {\n        vertical-align: top;\n    }\n\n    .dataframe thead th {\n        text-align: right;\n    }\n</style>\n<table border=\"1\" class=\"dataframe\">\n  <thead>\n    <tr style=\"text-align: right;\">\n      <th></th>\n      <th>REVIEWRATING_new</th>\n      <th>BESTRATING_new</th>\n      <th>WORSTRATING_new</th>\n      <th>REVIEWRATING_adj</th>\n    </tr>\n  </thead>\n  <tbody>\n    <tr>\n      <th>count</th>\n      <td>24302.000000</td>\n      <td>24302.000000</td>\n      <td>24302.000000</td>\n      <td>19560.000000</td>\n    </tr>\n    <tr>\n      <th>mean</th>\n      <td>7.911859</td>\n      <td>9.001811</td>\n      <td>0.778372</td>\n      <td>4.835174</td>\n    </tr>\n    <tr>\n      <th>std</th>\n      <td>15.586544</td>\n      <td>18.563918</td>\n      <td>0.418804</td>\n      <td>0.591476</td>\n    </tr>\n    <tr>\n      <th>min</th>\n      <td>0.000000</td>\n      <td>1.000000</td>\n      <td>0.000000</td>\n      <td>1.000000</td>\n    </tr>\n    <tr>\n      <th>25%</th>\n      <td>5.000000</td>\n      <td>5.000000</td>\n      <td>1.000000</td>\n      <td>5.000000</td>\n    </tr>\n    <tr>\n      <th>50%</th>\n      <td>5.000000</td>\n      <td>5.000000</td>\n      <td>1.000000</td>\n      <td>5.000000</td>\n    </tr>\n    <tr>\n      <th>75%</th>\n      <td>5.000000</td>\n      <td>5.000000</td>\n      <td>1.000000</td>\n      <td>5.000000</td>\n    </tr>\n    <tr>\n      <th>max</th>\n      <td>100.000000</td>\n      <td>100.000000</td>\n      <td>6.000000</td>\n      <td>5.000000</td>\n    </tr>\n  </tbody>\n</table>\n</div>"
     },
     "execution_count": 9,
     "metadata": {},
     "output_type": "execute_result"
    }
   ],
   "source": [
    "df.describe()"
   ],
   "metadata": {
    "collapsed": false,
    "pycharm": {
     "name": "#%%\n"
    }
   }
  },
  {
   "cell_type": "code",
   "execution_count": 69,
   "outputs": [],
   "source": [
    "df.to_csv('../Data/phone_reviews.csv')"
   ],
   "metadata": {
    "collapsed": false,
    "pycharm": {
     "name": "#%%\n"
    }
   }
  },
  {
   "cell_type": "code",
   "execution_count": null,
   "outputs": [],
   "source": [
    "# finding out where the reviews come from (domain specific)\n",
    "# def getNetloc(row):\n",
    "#     try:\n",
    "#         return urlparse(row['URL']).netloc\n",
    "#     except:\n",
    "#         print(\"expection: \", row['URL'])\n",
    "#     else:\n",
    "#         print(\"sad\", row['URL'])\n",
    "#\n",
    "# df['netloc'] = df.apply(getNetloc, axis = 1)\n",
    "# df.head()\n",
    "# df['netloc'].value_counts().index.to_list()\n",
    "# phone_lst = ['smartphone', 'phone',\n",
    "#              'phone case', 'phone cable', 'phone charger', 'phone mount',\n",
    "#              'cell phone', 'mobile phone']\n",
    "#\n",
    "#\n",
    "# # df_phone = df_en[df_en['REVIEWBODY'].isin(phone_lst)]\n",
    "# # print(df_phone.head())\n",
    "# # LANGUAGE'] == \"en\"]\n",
    "# df_en.head()"
   ],
   "metadata": {
    "collapsed": false,
    "pycharm": {
     "name": "#%%\n"
    }
   }
  },
  {
   "cell_type": "code",
   "execution_count": 15,
   "outputs": [
    {
     "data": {
      "text/plain": "32    \"\\n\\n\\nWhere to buy?Online Chinese retailer, G...\n42    \"Another useful gadget which has yet to be ful...\n44    \"Perfect for holding mobile phone on dashboard...\n46    \"Car easy use<br />\\n<br />\\nRecommend to all ...\n56    \"Got this for my girl friend as she always use...\nName: REVIEWBODY, dtype: object"
     },
     "execution_count": 15,
     "metadata": {},
     "output_type": "execute_result"
    }
   ],
   "source": [
    "df['REVIEWBODY'].head()"
   ],
   "metadata": {
    "collapsed": false,
    "pycharm": {
     "name": "#%%\n"
    }
   }
  },
  {
   "cell_type": "code",
   "execution_count": 20,
   "outputs": [
    {
     "name": "stdout",
     "output_type": "stream",
     "text": [
      "\"\n",
      "\n",
      "\n",
      "Where to buy?Online Chinese retailer, Gearbest, sent us the sample and sells the Vernee V2 Pro for £237 (around $305) at the time of writing. Note that, while this price includes delivery, it is exclusive of any taxes that may be levied by HMRC or the courier companies on behalf of the vendor. Want to buy tech from online Chinese retailers? Read this first. Rugged phones and elegant edge-to-edge displays used to be mutually exclusive, but with the Vernee V2 Pro, you can finally have both. The expansive 5.99-inch screen has a very slight Samsung-style curve at the edges and is protected by a slim, but strong magnalium bezel. Strong enough for the Chinese manufacturer to promise six-sided drop resistance. However, Vernee doesn’t actually say from what height. There is no doubting that the V2 Pro packs a lot of features for a phone costing only around £240 and when you add an IP68 rating, you have a tempting proposition for anyone who relies heavily on their phone while working outdoors.The battery is unusually large at 6.2Ah, which means you can keep working for around four days of regular use without recharging. It’s faster than your typical tough phone too and has the latest version Android (Oreo) on board. DesignThe sleek Vernee V2 Pro doesn’t look like a rugged phone from the front at all, but that tough magnalium case is apparently enough to earn an IP68 certificate. That means it can survive 1.5-meters under water for two hours, is impervious to dust, and work in temperatures ranging from -30 to 60-degrees Centigrade. Vernee says it is also drop resistant on all sides, though there is no certificate for that. It is definitely available in red, or black, as seen here though. The distinctively dimpled back panel is textured to enhance your grip and Vernee claims the material also repels dirt, although as you can see in the photo, we managed to find some that stuck. It certainly makes it easier to hold and so does the 18:9 ratio screen. A six-inch phone in 16:9 ratio would be harder to reach your fingers around. Also on the back are a dual-lens camera, LED flash/torch, a fingerprint reader and a heart rate monitor. This last is a welcome addition for an action phone and it works well. There is only one socket at the side because the type C USB port works for sharing data, recharging and also as a headphone port. A USB-C to minijack adapter is included. This versatile port also allows for fast 9V/2A charging, which almost makes up for the fact that the Vernee V2 Pro does not support wireless charging. There are only three buttons on the Vernee V2 Pro, an on/off button (of course), a volume rocker (naturally) and a button that takes a screenshot (why?).  We can only assume that this is a mistake that somehow made it all the way to production, because there are so many things that third button could have been: a camera shutter button perhaps, or PTT (push to talk), or an emergency SOS sender, or a torch app. When you’re working outside there are plenty of functions that you’d love to access without having to take off your gloves and navigate an onscreen menu, but taking a screenshot is NOT one of them. The problem is exacerbated by the fact that this button is on a hair trigger and you can’t help but press it almost every time you hold the handset, so by the end of the review we had to delete hundreds of accidental screenshots. All that’s needed is a firmware update, or an app to reassign this rogue function button, but at the time of review, there was no solution.SpecificationsSpec SheetHere are the full specs of the Vernee V2 Pro: CPU: Helio P23 MTK6763 GPU: Mali G71   RAM: 6GBStorage: 64GBScreen size: 5.9-inch Resolution: 2160 x 1080Weight: 259g Dimensions: 164 x 79 x 12mmRear camera:  16MP + 5MP Front camera: 8MP + 5MPOS: Android 8.1.0Battery: 6.2AhThe Vernee V2 Pro ticks most of the boxes on our feature list for a rugged phone and its technical specifications trump most of the other models in this category. The screen is a luxurious six inches across (or as near as makes no difference) and its Full HD, unlike the Blackview BV5800, which is only HD. The main camera is 21MP with a 5MP companion lens for getting that bokeh effect. Sadly there’s no optical zoom. In addition to the biometric fingerprint reader, you can also sign in with Face ID, which is less secure, but preferable when you’ve got your hands full. The SIM card tray will actually hold two nano SIMs and a TF card, which could expand the phone’s memory by128GB. The processor is a modest Helio P23, but teamed with a generous 6GB of RAM and 64GB of ROM, it produced respectable results in our processing bench tests. It is certainly powerful enough to run Android Oreo 8.1 smoothly and drive apps that make good use of the phone’s compass, pedometer and gyroscope. At 6200 mAh the battery is both big and clever. It makes the Vernee V2 Pro feel as heavy as two Samsung Galaxy S9s, but it makes it last for 35 days in standby. Curiously, the specifications are in some key cases slightly lower than those of the Vernee Active, which was launched first, even though this model is more expensive. It means that the slightly larger battery and screen are what you are paying for here.\n",
      "\"@en\n"
     ]
    }
   ],
   "source": [
    "import nltk\n",
    "from nltk.tokenize import PunktSentenceTokenizer\n",
    "\n",
    "text ='\"\\n\\n\\nWhere to buy?Online Chinese retailer, Gearbest, sent us the sample and sells the Vernee V2 Pro for \\u00A3237 (around $305) at the time of writing. Note that, while this price includes delivery, it is exclusive of any taxes that may be levied by HMRC or the courier companies on behalf of the vendor. Want to buy tech from online Chinese retailers? Read this first.\\u00A0Rugged phones and elegant edge-to-edge displays used to be mutually exclusive, but with the Vernee V2 Pro, you can finally have both. The expansive 5.99-inch screen has a very slight Samsung-style curve at the edges and is protected by a slim, but strong magnalium bezel. Strong enough for the Chinese manufacturer to promise six-sided drop resistance. However, Vernee doesn\\u2019t actually say from what height.\\u00A0There is no doubting that the V2 Pro packs a lot of features for a phone costing only around \\u00A3240 and when you add an IP68 rating, you have a tempting proposition for anyone who relies heavily on their phone while working outdoors.The battery is unusually large at 6.2Ah, which means you can keep working for around four days of regular use without recharging. It\\u2019s faster than your typical tough phone too and has the latest version Android (Oreo) on board.\\u00A0DesignThe sleek Vernee V2 Pro doesn\\u2019t look like a rugged phone from the front at all, but that tough magnalium case is apparently enough to earn an IP68 certificate. That means it can survive 1.5-meters under water for two hours, is impervious to dust, and work in temperatures ranging from -30 to 60-degrees Centigrade. Vernee says it is also drop resistant on all sides, though there is no certificate for that. It is definitely available in red, or black, as seen here though.\\u00A0The distinctively dimpled back panel is textured to enhance your grip and Vernee claims the material also repels dirt, although as you can see in the photo, we managed to find some that stuck. It certainly makes it easier to hold and so does the 18:9 ratio screen. A six-inch phone in 16:9 ratio would be harder to reach your fingers around. Also on the back are a dual-lens camera, LED flash/torch, a fingerprint reader and a heart rate monitor. This last is a welcome addition for an action phone and it works well.\\u00A0There is only one socket at the side because the type C USB port works for sharing data, recharging and also as a headphone port. A USB-C to minijack adapter is included. This versatile port also allows for fast 9V/2A charging, which almost makes up for the fact that the Vernee V2 Pro does not support wireless charging.\\u00A0There are only three buttons on the Vernee V2 Pro, an on/off button (of course), a volume rocker (naturally) and a button that takes a screenshot (why?). \\u00A0We can only assume that this is a mistake that somehow made it all the way to production, because there are so many things that third button could have been: a camera shutter button perhaps, or PTT (push to talk), or an emergency SOS sender, or a torch app. When you\\u2019re working outside there are plenty of functions that you\\u2019d love to access without having to take off your gloves and navigate an onscreen menu, but taking a screenshot is NOT one of them. The problem is exacerbated by the fact that this button is on a hair trigger and you can\\u2019t help but press it almost every time you hold the handset, so by the end of the review we had to delete hundreds of accidental screenshots. All that\\u2019s needed is a firmware update, or an app to reassign this rogue function button, but at the time of review, there was no solution.SpecificationsSpec SheetHere are the full specs of the Vernee V2 Pro:\\u00A0CPU:\\u00A0Helio P23 MTK6763\\u00A0GPU:\\u00A0Mali G71 \\u00A0\\u00A0RAM:\\u00A06GBStorage:\\u00A064GBScreen size:\\u00A05.9-inch\\u00A0Resolution:\\u00A02160 x 1080Weight:\\u00A0259g\\u00A0Dimensions:\\u00A0164 x 79 x 12mmRear\\u00A0camera:\\u00A0\\u00A016MP + 5MP\\u00A0Front camera:\\u00A08MP + 5MPOS:\\u00A0Android 8.1.0Battery:\\u00A06.2AhThe Vernee V2 Pro ticks most of the boxes on our feature list for a rugged phone and its technical specifications trump most of the other models in this category. The screen is a luxurious six inches across (or as near as makes no difference) and its Full HD, unlike the Blackview BV5800, which is only HD. The main camera is 21MP with a 5MP companion lens for getting that bokeh effect. Sadly there\\u2019s no optical zoom.\\u00A0In addition to the biometric fingerprint reader, you can also sign in with Face ID, which is less secure, but preferable when you\\u2019ve got your hands full. The SIM card tray will actually hold two nano SIMs and a TF card, which could expand the phone\\u2019s memory by128GB.\\u00A0The processor is a modest Helio P23, but teamed with a generous 6GB of RAM and 64GB of ROM, it produced respectable results in our processing bench tests. It is certainly powerful enough to run Android Oreo 8.1 smoothly and drive apps that make good use of the phone\\u2019s compass, pedometer and gyroscope.\\u00A0At 6200 mAh the battery is both big and clever. It makes the Vernee V2 Pro feel as heavy as two Samsung Galaxy S9s, but it makes it last for 35 days in standby. Curiously, the specifications are in some key cases slightly lower than those of the Vernee Active, which was launched first, even though this model is more expensive. It means that the slightly larger battery and screen are what you are paying for here.\\n\"@en'\n",
    "# TODO: alle \\n und @en.. müssen weg -> preprocessing\n",
    "print(text)\n",
    "custom_sent_tokenizer = PunktSentenceTokenizer(text)\n",
    "tokenized = custom_sent_tokenizer.tokenize(text)\n",
    "# def process_content():\n",
    "#     try:\n",
    "#         for i in tokenized[5:]:\n",
    "#             words = nltk.word_tokenize(i)\n",
    "#             tagged = nltk.pos_tag(words)\n",
    "#             namedEnt = nltk.ne_chunk(tagged, binary=True)\n",
    "#             namedEnt.draw()\n",
    "#     except Exception as e:\n",
    "#         print(str(e))\n",
    "# process_content()\n",
    "def preprocess(sent):\n",
    "    sent = nltk.word_tokenize(sent)\n",
    "    sent = nltk.pos_tag(sent)\n",
    "    return sent\n",
    "sent = preprocess(text)"
   ],
   "metadata": {
    "collapsed": false,
    "pycharm": {
     "name": "#%%\n"
    }
   }
  },
  {
   "cell_type": "code",
   "execution_count": 26,
   "outputs": [
    {
     "data": {
      "text/plain": "[('``', '``'),\n ('Where', 'WRB'),\n ('to', 'TO'),\n ('buy', 'VB'),\n ('?', '.'),\n ('Online', 'NNP'),\n ('Chinese', 'NNP'),\n ('retailer', 'NN'),\n (',', ','),\n ('Gearbest', 'NNP'),\n (',', ','),\n ('sent', 'VBD'),\n ('us', 'PRP'),\n ('the', 'DT'),\n ('sample', 'NN'),\n ('and', 'CC'),\n ('sells', 'VBZ'),\n ('the', 'DT'),\n ('Vernee', 'NNP'),\n ('V2', 'NNP'),\n ('Pro', 'NNP'),\n ('for', 'IN'),\n ('£237', 'NNP'),\n ('(', '('),\n ('around', 'IN'),\n ('$', '$'),\n ('305', 'CD'),\n (')', ')'),\n ('at', 'IN'),\n ('the', 'DT'),\n ('time', 'NN'),\n ('of', 'IN'),\n ('writing', 'VBG'),\n ('.', '.'),\n ('Note', 'NN'),\n ('that', 'IN'),\n (',', ','),\n ('while', 'IN'),\n ('this', 'DT'),\n ('price', 'NN'),\n ('includes', 'VBZ'),\n ('delivery', 'NN'),\n (',', ','),\n ('it', 'PRP'),\n ('is', 'VBZ'),\n ('exclusive', 'JJ'),\n ('of', 'IN'),\n ('any', 'DT'),\n ('taxes', 'NNS'),\n ('that', 'WDT'),\n ('may', 'MD'),\n ('be', 'VB'),\n ('levied', 'VBN'),\n ('by', 'IN'),\n ('HMRC', 'NNP'),\n ('or', 'CC'),\n ('the', 'DT'),\n ('courier', 'JJR'),\n ('companies', 'NNS'),\n ('on', 'IN'),\n ('behalf', 'NN'),\n ('of', 'IN'),\n ('the', 'DT'),\n ('vendor', 'NN'),\n ('.', '.'),\n ('Want', 'VBP'),\n ('to', 'TO'),\n ('buy', 'VB'),\n ('tech', 'NN'),\n ('from', 'IN'),\n ('online', 'JJ'),\n ('Chinese', 'JJ'),\n ('retailers', 'NNS'),\n ('?', '.'),\n ('Read', 'VB'),\n ('this', 'DT'),\n ('first', 'JJ'),\n ('.', '.'),\n ('Rugged', 'VBN'),\n ('phones', 'NNS'),\n ('and', 'CC'),\n ('elegant', 'JJ'),\n ('edge-to-edge', 'NN'),\n ('displays', 'NNS'),\n ('used', 'VBN'),\n ('to', 'TO'),\n ('be', 'VB'),\n ('mutually', 'RB'),\n ('exclusive', 'JJ'),\n (',', ','),\n ('but', 'CC'),\n ('with', 'IN'),\n ('the', 'DT'),\n ('Vernee', 'NNP'),\n ('V2', 'NNP'),\n ('Pro', 'NNP'),\n (',', ','),\n ('you', 'PRP'),\n ('can', 'MD'),\n ('finally', 'RB'),\n ('have', 'VB'),\n ('both', 'DT'),\n ('.', '.'),\n ('The', 'DT'),\n ('expansive', 'JJ'),\n ('5.99-inch', 'JJ'),\n ('screen', 'NN'),\n ('has', 'VBZ'),\n ('a', 'DT'),\n ('very', 'RB'),\n ('slight', 'JJ'),\n ('Samsung-style', 'JJ'),\n ('curve', 'NN'),\n ('at', 'IN'),\n ('the', 'DT'),\n ('edges', 'NNS'),\n ('and', 'CC'),\n ('is', 'VBZ'),\n ('protected', 'VBN'),\n ('by', 'IN'),\n ('a', 'DT'),\n ('slim', 'NN'),\n (',', ','),\n ('but', 'CC'),\n ('strong', 'JJ'),\n ('magnalium', 'NN'),\n ('bezel', 'NN'),\n ('.', '.'),\n ('Strong', 'NNP'),\n ('enough', 'RB'),\n ('for', 'IN'),\n ('the', 'DT'),\n ('Chinese', 'JJ'),\n ('manufacturer', 'NN'),\n ('to', 'TO'),\n ('promise', 'VB'),\n ('six-sided', 'JJ'),\n ('drop', 'NN'),\n ('resistance', 'NN'),\n ('.', '.'),\n ('However', 'RB'),\n (',', ','),\n ('Vernee', 'NNP'),\n ('doesn', 'VBZ'),\n ('’', 'NNP'),\n ('t', 'NN'),\n ('actually', 'RB'),\n ('say', 'VBP'),\n ('from', 'IN'),\n ('what', 'WP'),\n ('height', 'NN'),\n ('.', '.'),\n ('There', 'EX'),\n ('is', 'VBZ'),\n ('no', 'DT'),\n ('doubting', 'VBG'),\n ('that', 'IN'),\n ('the', 'DT'),\n ('V2', 'NNP'),\n ('Pro', 'NNP'),\n ('packs', 'VBZ'),\n ('a', 'DT'),\n ('lot', 'NN'),\n ('of', 'IN'),\n ('features', 'NNS'),\n ('for', 'IN'),\n ('a', 'DT'),\n ('phone', 'NN'),\n ('costing', 'VBG'),\n ('only', 'RB'),\n ('around', 'IN'),\n ('£240', 'NNP'),\n ('and', 'CC'),\n ('when', 'WRB'),\n ('you', 'PRP'),\n ('add', 'VBP'),\n ('an', 'DT'),\n ('IP68', 'NNP'),\n ('rating', 'NN'),\n (',', ','),\n ('you', 'PRP'),\n ('have', 'VBP'),\n ('a', 'DT'),\n ('tempting', 'JJ'),\n ('proposition', 'NN'),\n ('for', 'IN'),\n ('anyone', 'NN'),\n ('who', 'WP'),\n ('relies', 'VBZ'),\n ('heavily', 'RB'),\n ('on', 'IN'),\n ('their', 'PRP$'),\n ('phone', 'NN'),\n ('while', 'IN'),\n ('working', 'VBG'),\n ('outdoors.The', 'JJ'),\n ('battery', 'NN'),\n ('is', 'VBZ'),\n ('unusually', 'RB'),\n ('large', 'JJ'),\n ('at', 'IN'),\n ('6.2Ah', 'CD'),\n (',', ','),\n ('which', 'WDT'),\n ('means', 'VBZ'),\n ('you', 'PRP'),\n ('can', 'MD'),\n ('keep', 'VB'),\n ('working', 'VBG'),\n ('for', 'IN'),\n ('around', 'IN'),\n ('four', 'CD'),\n ('days', 'NNS'),\n ('of', 'IN'),\n ('regular', 'JJ'),\n ('use', 'NN'),\n ('without', 'IN'),\n ('recharging', 'VBG'),\n ('.', '.'),\n ('It', 'PRP'),\n ('’', 'VBD'),\n ('s', 'PRP'),\n ('faster', 'JJR'),\n ('than', 'IN'),\n ('your', 'PRP$'),\n ('typical', 'JJ'),\n ('tough', 'JJ'),\n ('phone', 'NN'),\n ('too', 'RB'),\n ('and', 'CC'),\n ('has', 'VBZ'),\n ('the', 'DT'),\n ('latest', 'JJS'),\n ('version', 'NN'),\n ('Android', 'NNP'),\n ('(', '('),\n ('Oreo', 'NNP'),\n (')', ')'),\n ('on', 'IN'),\n ('board', 'NN'),\n ('.', '.'),\n ('DesignThe', 'NNP'),\n ('sleek', 'JJ'),\n ('Vernee', 'NNP'),\n ('V2', 'NNP'),\n ('Pro', 'NNP'),\n ('doesn', 'FW'),\n ('’', 'NNP'),\n ('t', 'VBP'),\n ('look', 'VBP'),\n ('like', 'IN'),\n ('a', 'DT'),\n ('rugged', 'JJ'),\n ('phone', 'NN'),\n ('from', 'IN'),\n ('the', 'DT'),\n ('front', 'NN'),\n ('at', 'IN'),\n ('all', 'DT'),\n (',', ','),\n ('but', 'CC'),\n ('that', 'IN'),\n ('tough', 'JJ'),\n ('magnalium', 'NN'),\n ('case', 'NN'),\n ('is', 'VBZ'),\n ('apparently', 'RB'),\n ('enough', 'JJ'),\n ('to', 'TO'),\n ('earn', 'VB'),\n ('an', 'DT'),\n ('IP68', 'NNP'),\n ('certificate', 'NN'),\n ('.', '.'),\n ('That', 'DT'),\n ('means', 'VBZ'),\n ('it', 'PRP'),\n ('can', 'MD'),\n ('survive', 'VB'),\n ('1.5-meters', 'NNS'),\n ('under', 'IN'),\n ('water', 'NN'),\n ('for', 'IN'),\n ('two', 'CD'),\n ('hours', 'NNS'),\n (',', ','),\n ('is', 'VBZ'),\n ('impervious', 'JJ'),\n ('to', 'TO'),\n ('dust', 'VB'),\n (',', ','),\n ('and', 'CC'),\n ('work', 'NN'),\n ('in', 'IN'),\n ('temperatures', 'NNS'),\n ('ranging', 'VBG'),\n ('from', 'IN'),\n ('-30', 'NN'),\n ('to', 'TO'),\n ('60-degrees', 'JJ'),\n ('Centigrade', 'NNP'),\n ('.', '.'),\n ('Vernee', 'NNP'),\n ('says', 'VBZ'),\n ('it', 'PRP'),\n ('is', 'VBZ'),\n ('also', 'RB'),\n ('drop', 'JJ'),\n ('resistant', 'NN'),\n ('on', 'IN'),\n ('all', 'DT'),\n ('sides', 'NNS'),\n (',', ','),\n ('though', 'IN'),\n ('there', 'EX'),\n ('is', 'VBZ'),\n ('no', 'DT'),\n ('certificate', 'NN'),\n ('for', 'IN'),\n ('that', 'DT'),\n ('.', '.'),\n ('It', 'PRP'),\n ('is', 'VBZ'),\n ('definitely', 'RB'),\n ('available', 'JJ'),\n ('in', 'IN'),\n ('red', 'JJ'),\n (',', ','),\n ('or', 'CC'),\n ('black', 'JJ'),\n (',', ','),\n ('as', 'IN'),\n ('seen', 'VBN'),\n ('here', 'RB'),\n ('though', 'IN'),\n ('.', '.'),\n ('The', 'DT'),\n ('distinctively', 'RB'),\n ('dimpled', 'VBN'),\n ('back', 'RP'),\n ('panel', 'NN'),\n ('is', 'VBZ'),\n ('textured', 'VBN'),\n ('to', 'TO'),\n ('enhance', 'VB'),\n ('your', 'PRP$'),\n ('grip', 'NN'),\n ('and', 'CC'),\n ('Vernee', 'NNP'),\n ('claims', 'VBZ'),\n ('the', 'DT'),\n ('material', 'NN'),\n ('also', 'RB'),\n ('repels', 'VBZ'),\n ('dirt', 'NN'),\n (',', ','),\n ('although', 'IN'),\n ('as', 'IN'),\n ('you', 'PRP'),\n ('can', 'MD'),\n ('see', 'VB'),\n ('in', 'IN'),\n ('the', 'DT'),\n ('photo', 'NN'),\n (',', ','),\n ('we', 'PRP'),\n ('managed', 'VBD'),\n ('to', 'TO'),\n ('find', 'VB'),\n ('some', 'DT'),\n ('that', 'DT'),\n ('stuck', 'VBP'),\n ('.', '.'),\n ('It', 'PRP'),\n ('certainly', 'RB'),\n ('makes', 'VBZ'),\n ('it', 'PRP'),\n ('easier', 'JJR'),\n ('to', 'TO'),\n ('hold', 'VB'),\n ('and', 'CC'),\n ('so', 'RB'),\n ('does', 'VBZ'),\n ('the', 'DT'),\n ('18:9', 'CD'),\n ('ratio', 'NN'),\n ('screen', 'NN'),\n ('.', '.'),\n ('A', 'DT'),\n ('six-inch', 'JJ'),\n ('phone', 'NN'),\n ('in', 'IN'),\n ('16:9', 'CD'),\n ('ratio', 'NN'),\n ('would', 'MD'),\n ('be', 'VB'),\n ('harder', 'JJR'),\n ('to', 'TO'),\n ('reach', 'VB'),\n ('your', 'PRP$'),\n ('fingers', 'NNS'),\n ('around', 'IN'),\n ('.', '.'),\n ('Also', 'RB'),\n ('on', 'IN'),\n ('the', 'DT'),\n ('back', 'NN'),\n ('are', 'VBP'),\n ('a', 'DT'),\n ('dual-lens', 'JJ'),\n ('camera', 'NN'),\n (',', ','),\n ('LED', 'NNP'),\n ('flash/torch', 'NN'),\n (',', ','),\n ('a', 'DT'),\n ('fingerprint', 'NN'),\n ('reader', 'NN'),\n ('and', 'CC'),\n ('a', 'DT'),\n ('heart', 'NN'),\n ('rate', 'NN'),\n ('monitor', 'NN'),\n ('.', '.'),\n ('This', 'DT'),\n ('last', 'JJ'),\n ('is', 'VBZ'),\n ('a', 'DT'),\n ('welcome', 'JJ'),\n ('addition', 'NN'),\n ('for', 'IN'),\n ('an', 'DT'),\n ('action', 'NN'),\n ('phone', 'NN'),\n ('and', 'CC'),\n ('it', 'PRP'),\n ('works', 'VBZ'),\n ('well', 'RB'),\n ('.', '.'),\n ('There', 'EX'),\n ('is', 'VBZ'),\n ('only', 'RB'),\n ('one', 'CD'),\n ('socket', 'NN'),\n ('at', 'IN'),\n ('the', 'DT'),\n ('side', 'NN'),\n ('because', 'IN'),\n ('the', 'DT'),\n ('type', 'NN'),\n ('C', 'NNP'),\n ('USB', 'NNP'),\n ('port', 'NN'),\n ('works', 'NNS'),\n ('for', 'IN'),\n ('sharing', 'VBG'),\n ('data', 'NNS'),\n (',', ','),\n ('recharging', 'NN'),\n ('and', 'CC'),\n ('also', 'RB'),\n ('as', 'IN'),\n ('a', 'DT'),\n ('headphone', 'NN'),\n ('port', 'NN'),\n ('.', '.'),\n ('A', 'DT'),\n ('USB-C', 'JJ'),\n ('to', 'TO'),\n ('minijack', 'VB'),\n ('adapter', 'NN'),\n ('is', 'VBZ'),\n ('included', 'VBN'),\n ('.', '.'),\n ('This', 'DT'),\n ('versatile', 'NN'),\n ('port', 'NN'),\n ('also', 'RB'),\n ('allows', 'VBZ'),\n ('for', 'IN'),\n ('fast', 'RB'),\n ('9V/2A', 'CD'),\n ('charging', 'NN'),\n (',', ','),\n ('which', 'WDT'),\n ('almost', 'RB'),\n ('makes', 'VBZ'),\n ('up', 'RP'),\n ('for', 'IN'),\n ('the', 'DT'),\n ('fact', 'NN'),\n ('that', 'IN'),\n ('the', 'DT'),\n ('Vernee', 'NNP'),\n ('V2', 'NNP'),\n ('Pro', 'NNP'),\n ('does', 'VBZ'),\n ('not', 'RB'),\n ('support', 'VB'),\n ('wireless', 'NN'),\n ('charging', 'VBG'),\n ('.', '.'),\n ('There', 'EX'),\n ('are', 'VBP'),\n ('only', 'RB'),\n ('three', 'CD'),\n ('buttons', 'NNS'),\n ('on', 'IN'),\n ('the', 'DT'),\n ('Vernee', 'NNP'),\n ('V2', 'NNP'),\n ('Pro', 'NNP'),\n (',', ','),\n ('an', 'DT'),\n ('on/off', 'NN'),\n ('button', 'NN'),\n ('(', '('),\n ('of', 'IN'),\n ('course', 'NN'),\n (')', ')'),\n (',', ','),\n ('a', 'DT'),\n ('volume', 'NN'),\n ('rocker', 'NN'),\n ('(', '('),\n ('naturally', 'RB'),\n (')', ')'),\n ('and', 'CC'),\n ('a', 'DT'),\n ('button', 'NN'),\n ('that', 'WDT'),\n ('takes', 'VBZ'),\n ('a', 'DT'),\n ('screenshot', 'NN'),\n ('(', '('),\n ('why', 'WRB'),\n ('?', '.'),\n (')', ')'),\n ('.', '.'),\n ('We', 'PRP'),\n ('can', 'MD'),\n ('only', 'RB'),\n ('assume', 'VB'),\n ('that', 'IN'),\n ('this', 'DT'),\n ('is', 'VBZ'),\n ('a', 'DT'),\n ('mistake', 'NN'),\n ('that', 'WDT'),\n ('somehow', 'RB'),\n ('made', 'VBD'),\n ('it', 'PRP'),\n ('all', 'PDT'),\n ('the', 'DT'),\n ('way', 'NN'),\n ('to', 'TO'),\n ('production', 'NN'),\n (',', ','),\n ('because', 'IN'),\n ('there', 'EX'),\n ('are', 'VBP'),\n ('so', 'RB'),\n ('many', 'JJ'),\n ('things', 'NNS'),\n ('that', 'WDT'),\n ('third', 'VBP'),\n ('button', 'NN'),\n ('could', 'MD'),\n ('have', 'VB'),\n ('been', 'VBN'),\n (':', ':'),\n ('a', 'DT'),\n ('camera', 'NN'),\n ('shutter', 'NN'),\n ('button', 'NN'),\n ('perhaps', 'RB'),\n (',', ','),\n ('or', 'CC'),\n ('PTT', 'NNP'),\n ('(', '('),\n ('push', 'NN'),\n ('to', 'TO'),\n ('talk', 'VB'),\n (')', ')'),\n (',', ','),\n ('or', 'CC'),\n ('an', 'DT'),\n ('emergency', 'NN'),\n ('SOS', 'NNP'),\n ('sender', 'NN'),\n (',', ','),\n ('or', 'CC'),\n ('a', 'DT'),\n ('torch', 'NN'),\n ('app', 'NN'),\n ('.', '.'),\n ('When', 'WRB'),\n ('you', 'PRP'),\n ('’', 'VBP'),\n ('re', 'VB'),\n ('working', 'VBG'),\n ('outside', 'IN'),\n ('there', 'EX'),\n ('are', 'VBP'),\n ('plenty', 'NN'),\n ('of', 'IN'),\n ('functions', 'NNS'),\n ('that', 'IN'),\n ('you', 'PRP'),\n ('’', 'VBP'),\n ('d', 'JJ'),\n ('love', 'NN'),\n ('to', 'TO'),\n ('access', 'NN'),\n ('without', 'IN'),\n ('having', 'VBG'),\n ('to', 'TO'),\n ('take', 'VB'),\n ('off', 'RP'),\n ('your', 'PRP$'),\n ('gloves', 'NNS'),\n ('and', 'CC'),\n ('navigate', 'VB'),\n ('an', 'DT'),\n ('onscreen', 'JJ'),\n ('menu', 'NN'),\n (',', ','),\n ('but', 'CC'),\n ('taking', 'VBG'),\n ('a', 'DT'),\n ('screenshot', 'NN'),\n ('is', 'VBZ'),\n ('NOT', 'NNP'),\n ('one', 'CD'),\n ('of', 'IN'),\n ('them', 'PRP'),\n ('.', '.'),\n ('The', 'DT'),\n ('problem', 'NN'),\n ('is', 'VBZ'),\n ('exacerbated', 'VBN'),\n ('by', 'IN'),\n ('the', 'DT'),\n ('fact', 'NN'),\n ('that', 'IN'),\n ('this', 'DT'),\n ('button', 'NN'),\n ('is', 'VBZ'),\n ('on', 'IN'),\n ('a', 'DT'),\n ('hair', 'NN'),\n ('trigger', 'NN'),\n ('and', 'CC'),\n ('you', 'PRP'),\n ('can', 'MD'),\n ('’', 'VB'),\n ('t', 'JJ'),\n ('help', 'NN'),\n ('but', 'CC'),\n ('press', 'NN'),\n ('it', 'PRP'),\n ('almost', 'RB'),\n ('every', 'DT'),\n ('time', 'NN'),\n ('you', 'PRP'),\n ('hold', 'VBP'),\n ('the', 'DT'),\n ('handset', 'NN'),\n (',', ','),\n ('so', 'RB'),\n ('by', 'IN'),\n ('the', 'DT'),\n ('end', 'NN'),\n ('of', 'IN'),\n ('the', 'DT'),\n ('review', 'NN'),\n ('we', 'PRP'),\n ('had', 'VBD'),\n ('to', 'TO'),\n ('delete', 'VB'),\n ('hundreds', 'NNS'),\n ('of', 'IN'),\n ('accidental', 'JJ'),\n ('screenshots', 'NNS'),\n ('.', '.'),\n ('All', 'PDT'),\n ('that', 'DT'),\n ('’', 'NNP'),\n ('s', 'NN'),\n ('needed', 'VBN'),\n ('is', 'VBZ'),\n ('a', 'DT'),\n ('firmware', 'JJ'),\n ('update', 'NN'),\n (',', ','),\n ('or', 'CC'),\n ('an', 'DT'),\n ('app', 'NN'),\n ('to', 'TO'),\n ('reassign', 'VB'),\n ('this', 'DT'),\n ('rogue', 'NN'),\n ('function', 'NN'),\n ('button', 'NN'),\n (',', ','),\n ('but', 'CC'),\n ('at', 'IN'),\n ('the', 'DT'),\n ('time', 'NN'),\n ('of', 'IN'),\n ('review', 'NN'),\n (',', ','),\n ('there', 'EX'),\n ('was', 'VBD'),\n ('no', 'DT'),\n ('solution.SpecificationsSpec', 'NN'),\n ('SheetHere', 'EX'),\n ('are', 'VBP'),\n ('the', 'DT'),\n ('full', 'JJ'),\n ('specs', 'NN'),\n ('of', 'IN'),\n ('the', 'DT'),\n ('Vernee', 'NNP'),\n ('V2', 'NNP'),\n ('Pro', 'NNP'),\n (':', ':'),\n ('CPU', 'NN'),\n (':', ':'),\n ('Helio', 'NNP'),\n ('P23', 'NNP'),\n ('MTK6763', 'NNP'),\n ('GPU', 'NNP'),\n (':', ':'),\n ('Mali', 'NNP'),\n ('G71', 'NNP'),\n ('RAM', 'NNP'),\n (':', ':'),\n ('6GBStorage', 'CD'),\n (':', ':'),\n ('64GBScreen', 'CD'),\n ('size', 'NN'),\n (':', ':'),\n ('5.9-inch', 'JJ'),\n ('Resolution', 'NN'),\n (':', ':'),\n ('2160', 'CD'),\n ('x', '$'),\n ('1080Weight', 'CD'),\n (':', ':'),\n ('259g', 'CD'),\n ('Dimensions', 'NNS'),\n (':', ':'),\n ('164', 'CD'),\n ('x', '$'),\n ('79', 'CD'),\n ('x', 'JJ'),\n ('12mmRear', 'CD'),\n ('camera', 'NN'),\n (':', ':'),\n ('16MP', 'CD'),\n ('+', '$'),\n ('5MP', 'CD'),\n ('Front', 'NNP'),\n ('camera', 'NN'),\n (':', ':'),\n ('8MP', 'CD'),\n ('+', '$'),\n ('5MPOS', 'CD'),\n (':', ':'),\n ('Android', 'JJ'),\n ('8.1.0Battery', 'CD'),\n (':', ':'),\n ('6.2AhThe', 'CD'),\n ('Vernee', 'NNP'),\n ('V2', 'NNP'),\n ('Pro', 'NNP'),\n ('ticks', 'VBZ'),\n ('most', 'JJS'),\n ('of', 'IN'),\n ('the', 'DT'),\n ('boxes', 'NNS'),\n ('on', 'IN'),\n ('our', 'PRP$'),\n ('feature', 'NN'),\n ('list', 'NN'),\n ('for', 'IN'),\n ('a', 'DT'),\n ('rugged', 'JJ'),\n ('phone', 'NN'),\n ('and', 'CC'),\n ('its', 'PRP$'),\n ('technical', 'JJ'),\n ('specifications', 'NNS'),\n ('trump', 'VBP'),\n ('most', 'JJS'),\n ('of', 'IN'),\n ('the', 'DT'),\n ('other', 'JJ'),\n ('models', 'NNS'),\n ('in', 'IN'),\n ('this', 'DT'),\n ('category', 'NN'),\n ('.', '.'),\n ('The', 'DT'),\n ('screen', 'NN'),\n ('is', 'VBZ'),\n ('a', 'DT'),\n ('luxurious', 'JJ'),\n ('six', 'CD'),\n ('inches', 'NNS'),\n ('across', 'IN'),\n ('(', '('),\n ('or', 'CC'),\n ('as', 'RB'),\n ('near', 'IN'),\n ('as', 'IN'),\n ('makes', 'VBZ'),\n ('no', 'DT'),\n ('difference', 'NN'),\n (')', ')'),\n ('and', 'CC'),\n ('its', 'PRP$'),\n ('Full', 'NNP'),\n ('HD', 'NNP'),\n (',', ','),\n ('unlike', 'IN'),\n ('the', 'DT'),\n ('Blackview', 'NNP'),\n ('BV5800', 'NNP'),\n (',', ','),\n ('which', 'WDT'),\n ('is', 'VBZ'),\n ('only', 'RB'),\n ('HD', 'NNP'),\n ('.', '.'),\n ('The', 'DT'),\n ('main', 'JJ'),\n ('camera', 'NN'),\n ('is', 'VBZ'),\n ('21MP', 'CD'),\n ('with', 'IN'),\n ('a', 'DT'),\n ('5MP', 'CD'),\n ('companion', 'NN'),\n ('lens', 'NNS'),\n ('for', 'IN'),\n ('getting', 'VBG'),\n ('that', 'DT'),\n ('bokeh', 'NN'),\n ('effect', 'NN'),\n ('.', '.'),\n ('Sadly', 'RB'),\n ('there', 'EX'),\n ('’', 'NNP'),\n ('s', 'VBD'),\n ('no', 'DT'),\n ('optical', 'JJ'),\n ('zoom', 'NN'),\n ('.', '.'),\n ('In', 'IN'),\n ('addition', 'NN'),\n ('to', 'TO'),\n ('the', 'DT'),\n ('biometric', 'JJ'),\n ('fingerprint', 'NN'),\n ('reader', 'NN'),\n (',', ','),\n ('you', 'PRP'),\n ('can', 'MD'),\n ('also', 'RB'),\n ('sign', 'VB'),\n ('in', 'IN'),\n ('with', 'IN'),\n ('Face', 'NNP'),\n ('ID', 'NNP'),\n (',', ','),\n ('which', 'WDT'),\n ('is', 'VBZ'),\n ('less', 'RBR'),\n ('secure', 'JJ'),\n (',', ','),\n ('but', 'CC'),\n ('preferable', 'JJ'),\n ('when', 'WRB'),\n ('you', 'PRP'),\n ('’', 'VBP'),\n ('ve', 'JJ'),\n ('got', 'VBD'),\n ('your', 'PRP$'),\n ('hands', 'NNS'),\n ('full', 'JJ'),\n ('.', '.'),\n ('The', 'DT'),\n ('SIM', 'NNP'),\n ('card', 'NN'),\n ('tray', 'NN'),\n ('will', 'MD'),\n ('actually', 'RB'),\n ('hold', 'VB'),\n ('two', 'CD'),\n ('nano', 'JJ'),\n ('SIMs', 'NNP'),\n ('and', 'CC'),\n ('a', 'DT'),\n ('TF', 'NNP'),\n ('card', 'NN'),\n (',', ','),\n ('which', 'WDT'),\n ('could', 'MD'),\n ('expand', 'VB'),\n ('the', 'DT'),\n ('phone', 'NN'),\n ('’', 'NNP'),\n ('s', 'VBZ'),\n ('memory', 'NN'),\n ('by128GB', 'NN'),\n ('.', '.'),\n ('The', 'DT'),\n ('processor', 'NN'),\n ('is', 'VBZ'),\n ('a', 'DT'),\n ('modest', 'JJ'),\n ('Helio', 'NNP'),\n ('P23', 'NNP'),\n (',', ','),\n ('but', 'CC'),\n ('teamed', 'VBD'),\n ('with', 'IN'),\n ('a', 'DT'),\n ('generous', 'JJ'),\n ('6GB', 'CD'),\n ('of', 'IN'),\n ('RAM', 'NNP'),\n ('and', 'CC'),\n ('64GB', 'CD'),\n ('of', 'IN'),\n ('ROM', 'NNP'),\n (',', ','),\n ('it', 'PRP'),\n ('produced', 'VBD'),\n ('respectable', 'JJ'),\n ('results', 'NNS'),\n ('in', 'IN'),\n ('our', 'PRP$'),\n ('processing', 'NN'),\n ('bench', 'NN'),\n ('tests', 'NNS'),\n ('.', '.'),\n ('It', 'PRP'),\n ('is', 'VBZ'),\n ('certainly', 'RB'),\n ('powerful', 'JJ'),\n ('enough', 'RB'),\n ('to', 'TO'),\n ('run', 'VB'),\n ('Android', 'NNP'),\n ('Oreo', 'NNP'),\n ('8.1', 'CD'),\n ('smoothly', 'RB'),\n ('and', 'CC'),\n ('drive', 'VB'),\n ('apps', 'NN'),\n ('that', 'WDT'),\n ('make', 'VBP'),\n ('good', 'JJ'),\n ('use', 'NN'),\n ('of', 'IN'),\n ('the', 'DT'),\n ('phone', 'NN'),\n ('’', 'NNP'),\n ('s', 'NN'),\n ('compass', 'NN'),\n (',', ','),\n ('pedometer', 'NN'),\n ('and', 'CC'),\n ('gyroscope', 'NN'),\n ('.', '.'),\n ('At', 'IN'),\n ('6200', 'CD'),\n ('mAh', 'NN'),\n ('the', 'DT'),\n ('battery', 'NN'),\n ('is', 'VBZ'),\n ('both', 'DT'),\n ('big', 'JJ'),\n ('and', 'CC'),\n ('clever', 'NN'),\n ('.', '.'),\n ('It', 'PRP'),\n ('makes', 'VBZ'),\n ('the', 'DT'),\n ('Vernee', 'NNP'),\n ('V2', 'NNP'),\n ('Pro', 'NNP'),\n ('feel', 'NN'),\n ('as', 'RB'),\n ('heavy', 'JJ'),\n ('as', 'IN'),\n ('two', 'CD'),\n ...]"
     },
     "execution_count": 26,
     "metadata": {},
     "output_type": "execute_result"
    }
   ],
   "source": [
    "sent"
   ],
   "metadata": {
    "collapsed": false,
    "pycharm": {
     "name": "#%%\n"
    }
   }
  },
  {
   "cell_type": "code",
   "execution_count": null,
   "outputs": [],
   "source": [
    "# brand: Vernee, Samsung, Apple, Huwei, HTC, Windows, Nokia, Blackberry, LG, Sony\n",
    "# synonyms to phone accessories: gadget\n",
    "# key words: mobile"
   ],
   "metadata": {
    "collapsed": false,
    "pycharm": {
     "name": "#%%\n"
    }
   }
  },
  {
   "cell_type": "code",
   "execution_count": 71,
   "outputs": [
    {
     "data": {
      "text/plain": "                                          NODE  \\\ncount                                    24302   \nunique                                   24302   \ntop     _:node8556e2242f414883e88fca4411e4e13b   \nfreq                                         1   \nmean                                       NaN   \nstd                                        NaN   \nmin                                        NaN   \n25%                                        NaN   \n50%                                        NaN   \n75%                                        NaN   \nmax                                        NaN   \n\n                                                      URL  \\\ncount                                               24302   \nunique                                               7041   \ntop     https://www.proporta.com/ipod-nano-7g-case-lea...   \nfreq                                                  376   \nmean                                                  NaN   \nstd                                                   NaN   \nmin                                                   NaN   \n25%                                                   NaN   \n50%                                                   NaN   \n75%                                                   NaN   \nmax                                                   NaN   \n\n                                               REVIEWBODY     RATING  \\\ncount                                               24302      24302   \nunique                                              24302      21040   \ntop     The Good: Sharp design. Excellent WP7 user exp...  \\n\\n5 / 5   \nfreq                                                    1       1436   \nmean                                                  NaN        NaN   \nstd                                                   NaN        NaN   \nmin                                                   NaN        NaN   \n25%                                                   NaN        NaN   \n50%                                                   NaN        NaN   \n75%                                                   NaN        NaN   \nmax                                                   NaN        NaN   \n\n       REVIEWRATING BESTRATING WORSTRATING LANGUAGE  REVIEWRATING_new  \\\ncount         24302      24302       24302    24302      24302.000000   \nunique          495         75          74        1               NaN   \ntop       \"5\"@en-US     \"5\"@en      \"1\"@en       en               NaN   \nfreq           5714       6734        6920    24302               NaN   \nmean            NaN        NaN         NaN      NaN          7.911859   \nstd             NaN        NaN         NaN      NaN         15.586544   \nmin             NaN        NaN         NaN      NaN          0.000000   \n25%             NaN        NaN         NaN      NaN          5.000000   \n50%             NaN        NaN         NaN      NaN          5.000000   \n75%             NaN        NaN         NaN      NaN          5.000000   \nmax             NaN        NaN         NaN      NaN        100.000000   \n\n        BESTRATING_new  WORSTRATING_new  REVIEWRATING_adj  \ncount     24302.000000     24302.000000      24302.000000  \nunique             NaN              NaN               NaN  \ntop                NaN              NaN               NaN  \nfreq               NaN              NaN               NaN  \nmean          9.001811         0.778372          4.673196  \nstd          18.563918         0.418804          0.695134  \nmin           1.000000         0.000000          1.000000  \n25%           5.000000         1.000000          5.000000  \n50%           5.000000         1.000000          5.000000  \n75%           5.000000         1.000000          5.000000  \nmax         100.000000         6.000000          5.000000  ",
      "text/html": "<div>\n<style scoped>\n    .dataframe tbody tr th:only-of-type {\n        vertical-align: middle;\n    }\n\n    .dataframe tbody tr th {\n        vertical-align: top;\n    }\n\n    .dataframe thead th {\n        text-align: right;\n    }\n</style>\n<table border=\"1\" class=\"dataframe\">\n  <thead>\n    <tr style=\"text-align: right;\">\n      <th></th>\n      <th>NODE</th>\n      <th>URL</th>\n      <th>REVIEWBODY</th>\n      <th>RATING</th>\n      <th>REVIEWRATING</th>\n      <th>BESTRATING</th>\n      <th>WORSTRATING</th>\n      <th>LANGUAGE</th>\n      <th>REVIEWRATING_new</th>\n      <th>BESTRATING_new</th>\n      <th>WORSTRATING_new</th>\n      <th>REVIEWRATING_adj</th>\n    </tr>\n  </thead>\n  <tbody>\n    <tr>\n      <th>count</th>\n      <td>24302</td>\n      <td>24302</td>\n      <td>24302</td>\n      <td>24302</td>\n      <td>24302</td>\n      <td>24302</td>\n      <td>24302</td>\n      <td>24302</td>\n      <td>24302.000000</td>\n      <td>24302.000000</td>\n      <td>24302.000000</td>\n      <td>24302.000000</td>\n    </tr>\n    <tr>\n      <th>unique</th>\n      <td>24302</td>\n      <td>7041</td>\n      <td>24302</td>\n      <td>21040</td>\n      <td>495</td>\n      <td>75</td>\n      <td>74</td>\n      <td>1</td>\n      <td>NaN</td>\n      <td>NaN</td>\n      <td>NaN</td>\n      <td>NaN</td>\n    </tr>\n    <tr>\n      <th>top</th>\n      <td>_:node8556e2242f414883e88fca4411e4e13b</td>\n      <td>https://www.proporta.com/ipod-nano-7g-case-lea...</td>\n      <td>The Good: Sharp design. Excellent WP7 user exp...</td>\n      <td>\\n\\n5 / 5</td>\n      <td>\"5\"@en-US</td>\n      <td>\"5\"@en</td>\n      <td>\"1\"@en</td>\n      <td>en</td>\n      <td>NaN</td>\n      <td>NaN</td>\n      <td>NaN</td>\n      <td>NaN</td>\n    </tr>\n    <tr>\n      <th>freq</th>\n      <td>1</td>\n      <td>376</td>\n      <td>1</td>\n      <td>1436</td>\n      <td>5714</td>\n      <td>6734</td>\n      <td>6920</td>\n      <td>24302</td>\n      <td>NaN</td>\n      <td>NaN</td>\n      <td>NaN</td>\n      <td>NaN</td>\n    </tr>\n    <tr>\n      <th>mean</th>\n      <td>NaN</td>\n      <td>NaN</td>\n      <td>NaN</td>\n      <td>NaN</td>\n      <td>NaN</td>\n      <td>NaN</td>\n      <td>NaN</td>\n      <td>NaN</td>\n      <td>7.911859</td>\n      <td>9.001811</td>\n      <td>0.778372</td>\n      <td>4.673196</td>\n    </tr>\n    <tr>\n      <th>std</th>\n      <td>NaN</td>\n      <td>NaN</td>\n      <td>NaN</td>\n      <td>NaN</td>\n      <td>NaN</td>\n      <td>NaN</td>\n      <td>NaN</td>\n      <td>NaN</td>\n      <td>15.586544</td>\n      <td>18.563918</td>\n      <td>0.418804</td>\n      <td>0.695134</td>\n    </tr>\n    <tr>\n      <th>min</th>\n      <td>NaN</td>\n      <td>NaN</td>\n      <td>NaN</td>\n      <td>NaN</td>\n      <td>NaN</td>\n      <td>NaN</td>\n      <td>NaN</td>\n      <td>NaN</td>\n      <td>0.000000</td>\n      <td>1.000000</td>\n      <td>0.000000</td>\n      <td>1.000000</td>\n    </tr>\n    <tr>\n      <th>25%</th>\n      <td>NaN</td>\n      <td>NaN</td>\n      <td>NaN</td>\n      <td>NaN</td>\n      <td>NaN</td>\n      <td>NaN</td>\n      <td>NaN</td>\n      <td>NaN</td>\n      <td>5.000000</td>\n      <td>5.000000</td>\n      <td>1.000000</td>\n      <td>5.000000</td>\n    </tr>\n    <tr>\n      <th>50%</th>\n      <td>NaN</td>\n      <td>NaN</td>\n      <td>NaN</td>\n      <td>NaN</td>\n      <td>NaN</td>\n      <td>NaN</td>\n      <td>NaN</td>\n      <td>NaN</td>\n      <td>5.000000</td>\n      <td>5.000000</td>\n      <td>1.000000</td>\n      <td>5.000000</td>\n    </tr>\n    <tr>\n      <th>75%</th>\n      <td>NaN</td>\n      <td>NaN</td>\n      <td>NaN</td>\n      <td>NaN</td>\n      <td>NaN</td>\n      <td>NaN</td>\n      <td>NaN</td>\n      <td>NaN</td>\n      <td>5.000000</td>\n      <td>5.000000</td>\n      <td>1.000000</td>\n      <td>5.000000</td>\n    </tr>\n    <tr>\n      <th>max</th>\n      <td>NaN</td>\n      <td>NaN</td>\n      <td>NaN</td>\n      <td>NaN</td>\n      <td>NaN</td>\n      <td>NaN</td>\n      <td>NaN</td>\n      <td>NaN</td>\n      <td>100.000000</td>\n      <td>100.000000</td>\n      <td>6.000000</td>\n      <td>5.000000</td>\n    </tr>\n  </tbody>\n</table>\n</div>"
     },
     "execution_count": 71,
     "metadata": {},
     "output_type": "execute_result"
    }
   ],
   "source": [
    "df.describe(include = 'all')\n",
    "# new_df=df[df.REVIEWRATING_adj.notnull()]\n"
   ],
   "metadata": {
    "collapsed": false,
    "pycharm": {
     "name": "#%%\n"
    }
   }
  },
  {
   "cell_type": "code",
   "execution_count": 73,
   "outputs": [
    {
     "data": {
      "text/plain": "24302"
     },
     "execution_count": 73,
     "metadata": {},
     "output_type": "execute_result"
    }
   ],
   "source": [
    "df['REVIEWRATING_adj'].count()\n"
   ],
   "metadata": {
    "collapsed": false,
    "pycharm": {
     "name": "#%%\n"
    }
   }
  }
 ],
 "metadata": {
  "kernelspec": {
   "display_name": "Python 3",
   "language": "python",
   "name": "python3"
  },
  "language_info": {
   "codemirror_mode": {
    "name": "ipython",
    "version": 3
   },
   "file_extension": ".py",
   "mimetype": "text/x-python",
   "name": "python",
   "nbconvert_exporter": "python",
   "pygments_lexer": "ipython3",
   "version": "3.6.9"
  },
  "toc": {
   "base_numbering": 1,
   "nav_menu": {},
   "number_sections": true,
   "sideBar": true,
   "skip_h1_title": false,
   "title_cell": "Table of Contents",
   "title_sidebar": "Contents",
   "toc_cell": false,
   "toc_position": {},
   "toc_section_display": true,
   "toc_window_display": false
  },
  "varInspector": {
   "cols": {
    "lenName": 16,
    "lenType": 16,
    "lenVar": 40
   },
   "kernels_config": {
    "python": {
     "delete_cmd_postfix": "",
     "delete_cmd_prefix": "del ",
     "library": "var_list.py",
     "varRefreshCmd": "print(var_dic_list())"
    },
    "r": {
     "delete_cmd_postfix": ") ",
     "delete_cmd_prefix": "rm(",
     "library": "var_list.r",
     "varRefreshCmd": "cat(var_dic_list()) "
    }
   },
   "types_to_exclude": [
    "module",
    "function",
    "builtin_function_or_method",
    "instance",
    "_Feature"
   ],
   "window_display": false
  }
 },
 "nbformat": 4,
 "nbformat_minor": 1
}