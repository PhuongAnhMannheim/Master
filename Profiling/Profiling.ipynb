{
 "cells": [
  {
   "cell_type": "code",
   "execution_count": 2,
   "metadata": {
    "ExecuteTime": {
     "end_time": "2020-08-06T15:32:52.102233Z",
     "start_time": "2020-08-06T15:32:52.062841Z"
    }
   },
   "outputs": [],
   "source": [
    "import sqlite3\n",
    "import pandas as pd\n",
    "import numpy as np\n",
    "from urllib.parse import urlparse\n",
    "from langdetect import detect\n",
    "# from zipfile import ZipFile\n",
    "# from collections import Counter\n",
    "import re"
   ]
  },
  {
   "cell_type": "code",
   "execution_count": 30,
   "metadata": {
    "ExecuteTime": {
     "end_time": "2020-08-06T14:00:42.417256Z",
     "start_time": "2020-08-06T14:00:42.384240Z"
    },
    "pycharm": {
     "name": "#%%\n"
    }
   },
   "outputs": [
    {
     "name": "stdout",
     "output_type": "stream",
     "text": [
      "ACTION: raw data:\n",
      "                                       NODE  \\\n",
      "count                                266232   \n",
      "unique                               266230   \n",
      "top     _:node36f6551f20a2dfd2ca1e4c239f898   \n",
      "freq                                      2   \n",
      "\n",
      "                                                      URL REVIEWBODY  \\\n",
      "count                                              266232     188381   \n",
      "unique                                              37112      92156   \n",
      "top     https://www.imdb.com/search/title/?title_type=...  \"Null\"@en   \n",
      "freq                                                 1522       2415   \n",
      "\n",
      "                  RATING REVIEWRATING BESTRATING WORSTRATING  \n",
      "count             144111       241944     197734      197684  \n",
      "unique             76915          233         15          19  \n",
      "top     already included    \"Null\"@en  \"Null\"@en           1  \n",
      "freq               18151        47380      68512       47401  \n",
      "ACTION: without duplicate rows: \n",
      "                                       NODE  \\\n",
      "count                                266232   \n",
      "unique                               266230   \n",
      "top     _:node36f6551f20a2dfd2ca1e4c239f898   \n",
      "freq                                      2   \n",
      "\n",
      "                                                      URL REVIEWBODY  \\\n",
      "count                                              266232     188381   \n",
      "unique                                              37112      92156   \n",
      "top     https://www.imdb.com/search/title/?title_type=...  \"Null\"@en   \n",
      "freq                                                 1522       2415   \n",
      "\n",
      "                  RATING REVIEWRATING BESTRATING WORSTRATING  \n",
      "count             144111       241944     197734      197684  \n",
      "unique             76915          233         15          19  \n",
      "top     already included    \"Null\"@en  \"Null\"@en           1  \n",
      "freq               18151        47380      68512       47401  \n",
      "ACTION: drop rows where any of the values is null or invalid\n",
      "                                          NODE  \\\n",
      "count                                    97177   \n",
      "unique                                   97177   \n",
      "top     _:znode8HbbjYGtCZ0BnrC7xoKpX6jE1EWuNgz   \n",
      "freq                                         1   \n",
      "\n",
      "                                                      URL REVIEWBODY  \\\n",
      "count                                               97177      97177   \n",
      "unique                                              27072      77511   \n",
      "top     https://www.imdb.com/search/title/?title_type=...  \"Null\"@en   \n",
      "freq                                                 1522       2411   \n",
      "\n",
      "                  RATING REVIEWRATING BESTRATING WORSTRATING  \n",
      "count              97177        97177      97177       97177  \n",
      "unique             29981          160         13           8  \n",
      "top     already included            3         10           1  \n",
      "freq               18151         7538      39085       47401  \n",
      "ACTION: drop duplicates on Reviewbody\n",
      "                                          NODE  \\\n",
      "count                                    77511   \n",
      "unique                                   77511   \n",
      "top     _:znode8HbbjYGtCZ0BnrC7xoKpX6jE1EWuNgz   \n",
      "freq                                         1   \n",
      "\n",
      "                                                      URL  \\\n",
      "count                                               77511   \n",
      "unique                                              26717   \n",
      "top     https://www.imdb.com/search/title/?title_type=...   \n",
      "freq                                                  955   \n",
      "\n",
      "                                               REVIEWBODY            RATING  \\\n",
      "count                                               77511             77511   \n",
      "unique                                              77511             20845   \n",
      "top     As far as mocumentary goes this one is very co...  already included   \n",
      "freq                                                    1             15595   \n",
      "\n",
      "       REVIEWRATING BESTRATING WORSTRATING  \n",
      "count         77511      77511       77511  \n",
      "unique          160         13           8  \n",
      "top               3         10           1  \n",
      "freq           6128      31305       37093  \n",
      "ACTION: filter out only as english detected reviewbody\n",
      "exception: \n",
      "exception:  \n",
      "exception: ....\n"
     ]
    },
    {
     "data": {
      "text/plain": "                                          NODE  \\\ncount                                    76961   \nunique                                   76961   \ntop     _:znode8HbbjYGtCZ0BnrC7xoKpX6jE1EWuNgz   \nfreq                                         1   \n\n                                                      URL  \\\ncount                                               76961   \nunique                                              26610   \ntop     https://www.imdb.com/search/title/?title_type=...   \nfreq                                                  953   \n\n                                               REVIEWBODY            RATING  \\\ncount                                               76961             76961   \nunique                                              76961             20641   \ntop     As far as mocumentary goes this one is very co...  already included   \nfreq                                                    1             15511   \n\n       REVIEWRATING BESTRATING WORSTRATING LANGUAGE  \ncount         76961      76961       76961    76961  \nunique          158         13           8        1  \ntop               3         10           1       en  \nfreq           6107      31291       37014    76961  ",
      "text/html": "<div>\n<style scoped>\n    .dataframe tbody tr th:only-of-type {\n        vertical-align: middle;\n    }\n\n    .dataframe tbody tr th {\n        vertical-align: top;\n    }\n\n    .dataframe thead th {\n        text-align: right;\n    }\n</style>\n<table border=\"1\" class=\"dataframe\">\n  <thead>\n    <tr style=\"text-align: right;\">\n      <th></th>\n      <th>NODE</th>\n      <th>URL</th>\n      <th>REVIEWBODY</th>\n      <th>RATING</th>\n      <th>REVIEWRATING</th>\n      <th>BESTRATING</th>\n      <th>WORSTRATING</th>\n      <th>LANGUAGE</th>\n    </tr>\n  </thead>\n  <tbody>\n    <tr>\n      <th>count</th>\n      <td>76961</td>\n      <td>76961</td>\n      <td>76961</td>\n      <td>76961</td>\n      <td>76961</td>\n      <td>76961</td>\n      <td>76961</td>\n      <td>76961</td>\n    </tr>\n    <tr>\n      <th>unique</th>\n      <td>76961</td>\n      <td>26610</td>\n      <td>76961</td>\n      <td>20641</td>\n      <td>158</td>\n      <td>13</td>\n      <td>8</td>\n      <td>1</td>\n    </tr>\n    <tr>\n      <th>top</th>\n      <td>_:znode8HbbjYGtCZ0BnrC7xoKpX6jE1EWuNgz</td>\n      <td>https://www.imdb.com/search/title/?title_type=...</td>\n      <td>As far as mocumentary goes this one is very co...</td>\n      <td>already included</td>\n      <td>3</td>\n      <td>10</td>\n      <td>1</td>\n      <td>en</td>\n    </tr>\n    <tr>\n      <th>freq</th>\n      <td>1</td>\n      <td>953</td>\n      <td>1</td>\n      <td>15511</td>\n      <td>6107</td>\n      <td>31291</td>\n      <td>37014</td>\n      <td>76961</td>\n    </tr>\n  </tbody>\n</table>\n</div>"
     },
     "execution_count": 30,
     "metadata": {},
     "output_type": "execute_result"
    }
   ],
   "source": [
    "# Input\n",
    "db_path = '../Data/moviewreviews.db'\n",
    "db_name = 'moviereviews'\n",
    "conn = sqlite3.connect(db_path)\n",
    "cursor = conn.cursor()\n",
    "\n",
    "df = pd.read_sql_query(\"SELECT * from \" + str(db_name), conn)\n",
    "print(\"ACTION: raw data:\")\n",
    "print(df.describe())\n",
    "\n",
    "print(\"ACTION: without duplicate rows: \")\n",
    "df.dropna()\n",
    "print(df.describe())\n",
    "\n",
    "print(\"ACTION: drop rows where any of the values is null or invalid\")\n",
    "df = df[df.REVIEWBODY.notnull()&df.RATING.notnull()&df.REVIEWRATING.notnull()&df.BESTRATING.notnull()&df.WORSTRATING.notnull()]\n",
    "df = df[~df['REVIEWRATING'].str.contains(\"ull\")]\n",
    "df = df[~df['BESTRATING'].str.contains(\"ull\")]\n",
    "df = df[~df['WORSTRATING'].str.contains(\"ull\")]\n",
    "df = df[~df['REVIEWRATING'].str.contains(\"editorReview.rating\")]\n",
    "df = df[~df['REVIEWRATING'].str.contains(\"missing value\")]\n",
    "df = df[~df['URL'].str.contains(\"johnpacker\")]\n",
    "df = df[~df['URL'].str.contains(\"dougshop\")]\n",
    "print(df.describe())\n",
    "\n",
    "print(\"ACTION: drop duplicates on Reviewbody\")\n",
    "df = df.drop_duplicates(subset='REVIEWBODY', keep=\"first\")\n",
    "print(df.describe())\n",
    "\n",
    "print(\"ACTION: filter out only as english detected reviewbody\")\n",
    "# detect the language of the reviewbody\n",
    "def detectLang(row):\n",
    "    try:\n",
    "        return detect(row['REVIEWBODY'])\n",
    "    except:\n",
    "        print(\"exception:\", row['REVIEWBODY'])\n",
    "    else:\n",
    "        print(\"sad:\", row['REVIEWBODY'])\n",
    "df['LANGUAGE'] = df.apply(detectLang, axis=1)\n",
    "\n",
    "df = df[df['LANGUAGE'] == \"en\"]\n",
    "df.describe()"
   ]
  },
  {
   "cell_type": "code",
   "execution_count": 94,
   "metadata": {
    "ExecuteTime": {
     "end_time": "2020-08-06T12:19:54.561311Z",
     "start_time": "2020-08-06T12:19:54.304611Z"
    }
   },
   "outputs": [
    {
     "data": {
      "text/plain": "['\"5\"@en-US',\n '\"5\"@en',\n '\"5\"',\n '5',\n '\"4\"@en',\n '3.5',\n '\"4\"',\n '4',\n '\"5\"@en-us',\n '\"4\"@en-us',\n '3',\n '\"8\"',\n '\"1\"',\n '\"7\"',\n '\" 5 \"',\n '\"3\"',\n '\"3\"@en',\n '\"2\"',\n '4.5',\n '\"4\"@en-US',\n '\"9\"',\n '\" 4 \"',\n '\"6\"',\n '2.5',\n '\"5\"@vi',\n '\"10\"@en',\n '\"8\"@en-US',\n '\"3\"@en-US',\n '\"1\"@en',\n '\"100%\"@en',\n '0',\n '\"0\"@en-US',\n '\"9\"@en-US',\n '\"5\"@en-gb',\n '\"5\"@en-GB',\n '\"95\"@en-US',\n '\"5\"@de-DE',\n '\"7\"@en-US',\n '\"10\"',\n '\"9\"@en',\n '\"2\"@en',\n '\"5\"@fr',\n '\"80%\"@en',\n '\"4.5\"@en',\n '\"8\"@en',\n '89',\n '90',\n '\"94\"@en-US',\n '\"1\"@fr',\n '\"5\"@de',\n '92',\n '\"4\"@fr',\n '\"4.5\"@en-US',\n '88',\n '\"6\"@en-US',\n '82',\n '\"4.5\"',\n '\"5.0\"@en',\n '\"100\"@en',\n '2',\n '91',\n '\"\\\\n\\\\t\\\\t\\\\t\\\\t5\\\\n\\\\t\\\\t\\\\t\"@en-US',\n '\"\\\\n\\\\t\\\\t\\\\t\\\\t5\\\\n\\\\t\\\\t\\\\t\"@en-GB',\n '93',\n '86',\n '\" 5\"@es',\n '\"5\"@en-AU',\n '84',\n '\"80%\"',\n '87',\n '\"3.8\"',\n '\"5\"@fi',\n '\"5\"@da',\n '\"5\"@tr',\n '\"7\"@en',\n '\"96\"@en-US',\n '\"5\"@pt-br',\n '80',\n '85',\n '\"90%\"@en',\n '83',\n '\"4.2\"',\n '\"1\"@en-US',\n '\"5.0\"@en-US',\n '\"60%\"@en',\n '\"0\"',\n '\"91\"@en-GB',\n '\"5\"@es',\n '\" 3 \"',\n '\"82%\"@en',\n '\"75%\"@en',\n '\"3\"@fr',\n '\"5.0\"',\n '68',\n '\"90\"@en-GB',\n '\"93\"@en-US',\n '\"86%\"@en',\n '94',\n '\"4.9\"',\n '\"-1\"',\n '\"6\"@en',\n '\"5.00\"',\n '95',\n '77',\n '\"3.5\"@en',\n '78',\n '81',\n '\"3.5\"',\n '\"84%\"@en',\n '\"2\"@fr',\n '\"79%\"@en',\n '\"4\"@en-GB',\n '\"4.3\"',\n '79',\n '\"4.1\"',\n '\"4.6\"@en-US',\n '75',\n '\"78%\"@en',\n '\"85%\"@en',\n '\"4.2\"@en-US',\n '\"4\"@de',\n '\"2\"@en-US',\n '72',\n '\"83%\"@en',\n '\"5\"@en-CA',\n '\"4.00\"@en',\n '\"92\"@en-US',\n '73',\n '\"5\"@EN',\n '\"4.78\"@en-US',\n '\"90\"@en-US',\n '\"100%\"',\n '\"4.83\"@en-US',\n '\"4.72\"@en-US',\n '\"98\"@en-US',\n '\"1\"@en-us',\n '\"4.4\"',\n '\"4.3\"@en-US',\n '\"7.5\"@en',\n '\"3.7\"',\n '\"81%\"@en',\n '\"70%\"@en',\n '\"4.82\"@en-US',\n '\"85\"@en-US',\n '\"87\"@en-US',\n '67',\n '\"4.6\"',\n '65',\n '\"5\"@IT',\n '96',\n '\"73%\"@en',\n '\"4.8\"',\n '\"4.2\"@en',\n '\"88\"@en-GB',\n '\"4.7\"',\n '\"87%\"@en',\n '100',\n '\"88%\"@en',\n '\"3.9\"',\n '\"18\"@fr',\n '\"4.7\"@en-US',\n '70',\n '\"80\"@en-US',\n '\"89\"@en-GB',\n '\"5.0\"@en-gb',\n '\"5\"@sv',\n '\"4.62\"@en-US',\n '76',\n '\"5\"@EL',\n '\"5.00\"@en',\n '\"4\"@tr',\n '\"77%\"@en',\n '\"4.8\"@en-US',\n '1.5',\n '\"5\"@ja',\n '\"\\\\n            8.5            \"@en',\n '\"4.4\"@en-US',\n '97',\n '\"6.5\"@en-US',\n '\"76%\"@en',\n '\"4.55\"@en-US',\n '\"72%\"@en',\n '\"74%\"@en',\n '\"5\"@FR',\n '\"5\"@zh',\n '\"4.58\"@en-US',\n '\"2.00 \"',\n '\"87\"',\n '\"91\"@en-US',\n '\"82.5\"@en-US',\n '\"82\"@en-US',\n '\"3.9\"@en-US',\n '\"4.67\"@en-US',\n '\"71%\"@en',\n '74',\n '\"83\"@en-US',\n '\"89%\"@en',\n '45',\n '\"4.73\"@en-US',\n '\"68%\"@en',\n '\"9.5\"@en-US',\n '\"4.85\"@en-US',\n '\"1\"@vi',\n '\"4\"@sv',\n '\"97\"@en-US',\n '71',\n '63',\n '\"4.3\"@en',\n '\"0\"@en',\n '\"4\"@pt-br',\n '\"4.57\"@en-US',\n '\"3.5\"@en-US',\n '\"67%\"@en',\n '\" 2\"@es',\n '\"92\"@en-GB',\n '\"80\"',\n '\"4.63\"@en-US',\n '\"4.87\"@en-US',\n '\"4\"@fi',\n '\"5\"@nl',\n '\"78\"@en-US',\n '\"9.5\"@en',\n '\"4\"@de-ch',\n '\"5\"@en-IN',\n '\"100\"',\n '\"83.333333333333\"@en-US',\n '\"4.68\"@en-US',\n '\"65\"@en-US',\n '\"90.666666666667\"',\n '\"4.1\"@en-US',\n '\"4.77\"@en-US',\n '69',\n '\"91.666666666667\"',\n '\"3.50\"@en-US',\n '\"4.5\"@en-us',\n '50',\n '\"4.38\"@en-US',\n '\"87.833333333333\"',\n '58',\n '\"8.3\"@en-US',\n '56',\n '57',\n '64',\n '\"100\"@en-US',\n '\"70\"@en-US',\n '\"3.8\"@en-US',\n '\"9.0\"@en',\n '\"5\"@de-ch',\n '\"3.8\"@en',\n '\"4\"@es',\n '\"80\"@en',\n '\"85\"@en-AU',\n '\"4.50\"@en',\n '\"4.37\"@en-US',\n '\"4.5\"@de',\n '\"4.0\"',\n '\"88\"@en-US',\n '\"5\"@pl',\n '\"\\\\n            7.5            \"@en',\n '\"2.5\"',\n '\"65%\"@en',\n '\"5\"@en-SG',\n '\"9.3\"@bs-BA',\n '\"90.285714285714\"',\n '\"4.8\"@tr',\n '\"\\\\n            9.0            \"@en',\n '\"4.33\"@en-US',\n '\"8.7\"@en',\n '\"7.8\"@en',\n '\"1\"@en-gb',\n '\"60%\"',\n '\"4\"@en-ME',\n '\"90.333333333333\"',\n '\"4\"@id',\n '\"\\\\n            6.0            \"@en',\n '\"2.6\"@de',\n '\"2\"@en-us',\n '\"\\\\n            7.4            \"@en',\n '\"3.33\"@en',\n '\"69%\"@en',\n '1',\n '\"67.5\"@en-US',\n '\"4\"@en-IN',\n '0.5',\n '\"81\"@en-US',\n '\"5.5\"@en-US',\n '\"9.7\"@en-US',\n '\"63.75\"',\n '\"95.25\"@en-GB',\n '\"3.0\"@en',\n '\"8.2\"@en',\n '\"0\"@vi',\n '\"2.6\"@en',\n '\"3\"@vi',\n '\"8.6\"@en-US',\n '\"4.35\"@en-US',\n '\"7.6\"@en',\n '\"76.666666666667\"@en-US',\n '\"4.4\"@da',\n '\"3.4\"@vi',\n '\"87\"@de-DE',\n '\"55\"@en-US',\n '\"73.333333333333\"@en-US',\n '\"5\"@ro-RO',\n '\"7.2110\"@tr-TR',\n '\"4.43\"@en-US',\n '\"9.0\"',\n '\"3.7\"@en',\n '\"91\"',\n '\"4.9\"@en-US',\n '\"91.428571428571\"',\n '\"92%\"@en',\n '\"2.8\"@en-US',\n '\"7.7\"@en',\n '\"5\"@id',\n '\"3.6\"@en-US',\n '\"92.5\"@en-US',\n '\"86\"',\n '\"3.5\"@en-GB',\n '\"7\"@it-IT',\n '\"86.6\"',\n '\"5\"@it',\n '\"84.5\"',\n '\"84\"@es-ES',\n '\"\\\\n            9.5            \"@en',\n '\"5.0\"@fr',\n '\"1.0\"',\n '\"79\"@en-US',\n '\"6.7\"@en-US',\n '\"9.9\"@en-US',\n '\"54%\"@en',\n '\"\\\\n          5\"@en-US',\n '\"9.6\"@en-US',\n '\"4.18\"@en-US',\n '\"4.33\"@en',\n '\"4\"@vi',\n '\"2.6\"@el',\n '\"4.0\"@en',\n '\"87\"@en-GB',\n '\"51%\"@en',\n '\"78.333333333333\"@en-US',\n '\"0.5\"@en-us',\n '\"61\"@en-US',\n '\"4.5\"@en-GB',\n '\"5\"@en-MY',\n '\"0.00\"@en-US',\n '55',\n '\"0\"@da',\n '\"5\"@el',\n '\"4.8\"@en-GB',\n '\"7.0\"@en-US',\n '\"4.10\"@en-GB',\n '\"97\"',\n '\" 3.5 \"',\n '\"1\"@de',\n '\"5.3\"@en',\n '\"8.9\"@en',\n '\" 4\"@es',\n '\"5\"@vn',\n '\"95\"@EN-US',\n '\"3.2\"',\n '\"77.5\"@en-US',\n '\"72.5\"@en-US',\n '\"74 %\"@en',\n '\"57.5\"@en-US',\n '\"88.666666666667\"',\n '99',\n '\"97\"@en-GB',\n '\"92\"',\n '\"3.0\"@en-gb',\n '\"91%\"@en',\n '\"6.6\"@de-DE',\n '\"2\"@en-GB',\n '\"3.7\"@en-US',\n '98',\n '\"79\"@en-GB',\n '\"89\"',\n '\"7.9\"@en',\n '\"80.571428571429\"',\n '\"4.48\"@en-US',\n '\"4.47\"@en-US',\n '\"3\"@sv',\n '\"86\"@en-US',\n '\"93.571428571429\"',\n '\"85\"@en-GB',\n '\"7.5\"@it-IT',\n '\"86.428571428571\"@en-US',\n '66',\n '\"93.833333333333\"',\n '\"99\"@en-US',\n '\"5\"@ro',\n '\"90.833333333333\"',\n '\"4.27\"@en-US',\n '\"4\"@nl',\n '44',\n '\"98\"',\n '\"73.857142857143\"',\n '\" 3\"@es',\n '\"7.0\"',\n '\"83.666666666667\"',\n '\"83\"',\n '\"91.166666666667\"',\n '\"38%\"@en',\n '\"4.22\"@en-US',\n '\"3.1\"@en-US',\n '\"19\"@fr',\n '\"87.166666666667\"',\n '\"74\"@en',\n '\"3.00\"@en',\n '\"98.3333333333\"',\n '\"3.50\"@en',\n '\"93\"@en-GB',\n '59',\n '\"9.3\"@en-US',\n '\"5\"@uk',\n '\"84\"@ar',\n '\"2.6\"@uk',\n '\"6.4\"',\n '\"70\"@en-GB',\n '\"90.5\"',\n '\"4 Stars\"@en-US',\n '\"14\"@fr',\n '\"87.142857142857\"',\n '\"4\"@uk',\n '\"4.53\"@en-US',\n '\"82.857142857143\"',\n '\"2.5\"@en',\n '\"4.92\"@en-US',\n '\"76\"@vi',\n '\"4\"@en-gb',\n '\"6.8\"@en',\n '\"4.8\"@fr',\n '\"4.50\"@en-US',\n '\"59%\"@en',\n '60',\n '\"100\"@vi',\n '\"94\"@en-GB',\n '\"2.35 \"',\n '\"4.17\"@en-GB',\n '\"87.6\"',\n '\"8.4\"@en',\n '\"4.88\"@en-US',\n '\"95%\"@en',\n '\"91.5\"',\n '\"62%\"@en',\n '\"4\"@zh',\n '\"55%\"@en',\n '\"5\"@fr-fr',\n '\"88.571428571429\"@en-US',\n '\"6.6\"@th',\n '\"84\"@en-US',\n '\"3.0\"',\n '\"40%\"@en',\n '\"88.714285714286\"',\n '\"93\"',\n '\"85.857142857143\"',\n '\"1.68 \"',\n '\"60\"@en',\n '\"7.6\"@en-US',\n '\"92.5\"',\n '52',\n '\"64%\"@en',\n '\"90\"',\n '\"95\"@en-GB',\n '\"87\"@ru-RU',\n '\"87\"@vi',\n '\"87.5\"@en-US',\n '\"7.4\"@en-US',\n '\"4.8\"@en',\n '\"67.142857142857\"@en-US',\n '\"4\"@en-AU',\n '\"2.6\"@id',\n '\"86.333333333333\"',\n '\"2.6\"@es',\n '\"3.4\"@en-US',\n '\"87\"@ar',\n '\"\\\\n            7.0            \"@en',\n '\"4.5\"@en-gb',\n '\"89.333333333333\"',\n '\"75\"@en-AU',\n '\"4\"@el',\n '\"4.6\"@en',\n '\"79.833333333333\"',\n '\"8.0\"@en',\n '\"63%\"@en',\n '\"8.6\"',\n '\"75.714285714286\"@en-US',\n '\"94%\"@en',\n '\"1\"@ja',\n '\"6.6\"@en-US',\n '\"7.5\"@en-US',\n '\"2.85 \"',\n '\"4.3\"@en-GB']"
     },
     "execution_count": 94,
     "metadata": {},
     "output_type": "execute_result"
    }
   ],
   "source": [
    "df['REVIEWRATING'].value_counts().index.tolist()\n",
    "# df['BESTRATING'].value_counts().index.tolist()\n",
    "# df['WORSTRATING'].value_counts().index.tolist()"
   ]
  },
  {
   "cell_type": "code",
   "execution_count": 31,
   "metadata": {
    "ExecuteTime": {
     "end_time": "2020-08-06T12:23:10.569500Z",
     "start_time": "2020-08-06T12:23:10.012420Z"
    }
   },
   "outputs": [],
   "source": [
    "def chForm(value):\n",
    "    value = re.sub(r'[a-zA-Z]|@|%| |\"|-|\\\\', '', value)\n",
    "    # return value\n",
    "    if value != \"\":\n",
    "        value = float(value)\n",
    "    else:\n",
    "        value = float(0)\n",
    "    return round(value)\n",
    "df['REVIEWRATING_new'] = df.apply(lambda row: chForm(row['REVIEWRATING']), axis=1)\n",
    "df['BESTRATING_new']= df.apply(lambda row: chForm(row['BESTRATING']), axis=1)\n",
    "df['WORSTRATING_new']= df.apply(lambda row: chForm(row['WORSTRATING']), axis=1)\n",
    "# try:\n",
    "#         int(value)\n",
    "#     except:\n",
    "#         # print(value)"
   ]
  },
  {
   "cell_type": "code",
   "execution_count": 101,
   "outputs": [
    {
     "data": {
      "text/plain": "[4,\n 3,\n 2,\n 1,\n 10,\n 5,\n 7,\n 8,\n 6,\n 39,\n 9,\n 59,\n 49,\n 29,\n 19,\n 69,\n 79,\n 0,\n 89,\n 99,\n 44,\n 90,\n 92,\n 82,\n 88,\n 91,\n 93,\n 86,\n 87,\n 84,\n 80,\n 85,\n 83,\n 54,\n 68,\n 94,\n 95,\n 77,\n 78,\n 81,\n 75,\n 72,\n 73,\n 70,\n 67,\n 65,\n 100,\n 64,\n 96,\n 45,\n 97,\n 76,\n 74,\n 58,\n 50,\n 63,\n 71,\n 20,\n 34,\n 55,\n 56,\n 57,\n 33,\n 42,\n 40,\n 52,\n 98,\n 66,\n 60,\n 24,\n 30]"
     },
     "execution_count": 101,
     "metadata": {},
     "output_type": "execute_result"
    }
   ],
   "source": [
    "df['REVIEWRATING_new'].value_counts().index.tolist()\n",
    "# df['BESTRATING_new'].value_counts().index.tolist()\n",
    "# df['WORSTRATING_new'].value_counts().index.tolist()"
   ],
   "metadata": {
    "collapsed": false,
    "pycharm": {
     "name": "#%%\n"
    }
   }
  },
  {
   "cell_type": "code",
   "execution_count": 32,
   "outputs": [],
   "source": [
    "def adjust_rating(rating, best, worst):\n",
    "    if best == 4 and worst == 0:\n",
    "        return rating + 1\n",
    "    elif best == 5 and worst == 0:\n",
    "        if rating == 0:\n",
    "            return 1\n",
    "    elif rating == 0:\n",
    "        return 1\n",
    "    elif rating == 0.0:\n",
    "        return 1\n",
    "    else:\n",
    "        if (best-worst) == 0:\n",
    "            print(rating, best, worst)\n",
    "        else:\n",
    "            rating = round(5*(rating/(best-worst)))\n",
    "            if rating > 5:\n",
    "                rating = 5.0\n",
    "            if rating == 0 or rating == 0.0:\n",
    "                return 1\n",
    "            else:\n",
    "                return rating\n",
    "df['REVIEWRATING_adj'] = df.apply(lambda row: adjust_rating(row['REVIEWRATING_new'], row['BESTRATING_new'], row['WORSTRATING_new']), axis=1)"
   ],
   "metadata": {
    "collapsed": false,
    "pycharm": {
     "name": "#%%\n"
    }
   }
  },
  {
   "cell_type": "code",
   "execution_count": 26,
   "outputs": [
    {
     "data": {
      "text/plain": "5     17813\n4      3230\n3       635\n8       371\n1       286\n      ...  \n54        1\n40        1\n61        1\n16        1\n44        1\nName: REVIEWRATING_new, Length: 69, dtype: int64"
     },
     "execution_count": 26,
     "metadata": {},
     "output_type": "execute_result"
    }
   ],
   "source": [
    "df['REVIEWRATING_new'].value_counts()"
   ],
   "metadata": {
    "collapsed": false,
    "pycharm": {
     "name": "#%%\n"
    }
   }
  },
  {
   "cell_type": "code",
   "execution_count": 28,
   "outputs": [
    {
     "data": {
      "text/plain": "134"
     },
     "execution_count": 28,
     "metadata": {},
     "output_type": "execute_result"
    }
   ],
   "source": [
    "(df['REVIEWRATING_adj'] == 2).sum()"
   ],
   "metadata": {
    "collapsed": false,
    "pycharm": {
     "name": "#%%\n"
    }
   }
  },
  {
   "cell_type": "code",
   "execution_count": 33,
   "outputs": [
    {
     "name": "stdout",
     "output_type": "stream",
     "text": [
      "4.0    0.225573\n",
      "2.0    0.213543\n",
      "3.0    0.207258\n",
      "5.0    0.202199\n",
      "1.0    0.151427\n",
      "Name: REVIEWRATING_adj, dtype: float64\n",
      "4.0    16763\n",
      "2.0    15869\n",
      "3.0    15402\n",
      "5.0    15026\n",
      "1.0    11253\n",
      "Name: REVIEWRATING_adj, dtype: int64\n"
     ]
    }
   ],
   "source": [
    "print(df['REVIEWRATING_adj'].value_counts(normalize=True))\n",
    "print(df['REVIEWRATING_adj'].value_counts())"
   ],
   "metadata": {
    "collapsed": false,
    "pycharm": {
     "name": "#%%\n"
    }
   }
  },
  {
   "cell_type": "code",
   "execution_count": 29,
   "outputs": [
    {
     "data": {
      "text/plain": "       REVIEWRATING_new  BESTRATING_new  WORSTRATING_new  REVIEWRATING_adj\ncount      24293.000000    24293.000000      24293.00000      19550.000000\nmean           7.915078        9.006833          0.77829          4.835090\nstd           15.596449       18.576426          0.41886          0.591529\nmin            0.000000        1.000000          0.00000          1.000000\n25%            5.000000        5.000000          1.00000          5.000000\n50%            5.000000        5.000000          1.00000          5.000000\n75%            5.000000        5.000000          1.00000          5.000000\nmax          100.000000      100.000000          6.00000          5.000000",
      "text/html": "<div>\n<style scoped>\n    .dataframe tbody tr th:only-of-type {\n        vertical-align: middle;\n    }\n\n    .dataframe tbody tr th {\n        vertical-align: top;\n    }\n\n    .dataframe thead th {\n        text-align: right;\n    }\n</style>\n<table border=\"1\" class=\"dataframe\">\n  <thead>\n    <tr style=\"text-align: right;\">\n      <th></th>\n      <th>REVIEWRATING_new</th>\n      <th>BESTRATING_new</th>\n      <th>WORSTRATING_new</th>\n      <th>REVIEWRATING_adj</th>\n    </tr>\n  </thead>\n  <tbody>\n    <tr>\n      <th>count</th>\n      <td>24293.000000</td>\n      <td>24293.000000</td>\n      <td>24293.00000</td>\n      <td>19550.000000</td>\n    </tr>\n    <tr>\n      <th>mean</th>\n      <td>7.915078</td>\n      <td>9.006833</td>\n      <td>0.77829</td>\n      <td>4.835090</td>\n    </tr>\n    <tr>\n      <th>std</th>\n      <td>15.596449</td>\n      <td>18.576426</td>\n      <td>0.41886</td>\n      <td>0.591529</td>\n    </tr>\n    <tr>\n      <th>min</th>\n      <td>0.000000</td>\n      <td>1.000000</td>\n      <td>0.00000</td>\n      <td>1.000000</td>\n    </tr>\n    <tr>\n      <th>25%</th>\n      <td>5.000000</td>\n      <td>5.000000</td>\n      <td>1.00000</td>\n      <td>5.000000</td>\n    </tr>\n    <tr>\n      <th>50%</th>\n      <td>5.000000</td>\n      <td>5.000000</td>\n      <td>1.00000</td>\n      <td>5.000000</td>\n    </tr>\n    <tr>\n      <th>75%</th>\n      <td>5.000000</td>\n      <td>5.000000</td>\n      <td>1.00000</td>\n      <td>5.000000</td>\n    </tr>\n    <tr>\n      <th>max</th>\n      <td>100.000000</td>\n      <td>100.000000</td>\n      <td>6.00000</td>\n      <td>5.000000</td>\n    </tr>\n  </tbody>\n</table>\n</div>"
     },
     "execution_count": 29,
     "metadata": {},
     "output_type": "execute_result"
    }
   ],
   "source": [
    "df.describe()"
   ],
   "metadata": {
    "collapsed": false,
    "pycharm": {
     "name": "#%%\n"
    }
   }
  },
  {
   "cell_type": "code",
   "execution_count": 106,
   "outputs": [],
   "source": [
    "# finding out where the reviews come from (domain specific)\n",
    "# def getNetloc(row):\n",
    "#     try:\n",
    "#         return urlparse(row['URL']).netloc\n",
    "#     except:\n",
    "#         print(\"expection: \", row['URL'])\n",
    "#     else:\n",
    "#         print(\"sad\", row['URL'])\n",
    "#\n",
    "# df['netloc'] = df.apply(getNetloc, axis = 1)\n",
    "# df.head()\n",
    "# df['netloc'].value_counts().index.to_list()\n",
    "# phone_lst = ['smartphone', 'phone',\n",
    "#              'phone case', 'phone cable', 'phone charger', 'phone mount',\n",
    "#              'cell phone', 'mobile phone']\n",
    "#\n",
    "#\n",
    "# # df_phone = df_en[df_en['REVIEWBODY'].isin(phone_lst)]\n",
    "# # print(df_phone.head())\n",
    "# # LANGUAGE'] == \"en\"]\n",
    "# df_en.head()"
   ],
   "metadata": {
    "collapsed": false,
    "pycharm": {
     "name": "#%%\n"
    }
   }
  }
 ],
 "metadata": {
  "kernelspec": {
   "display_name": "Python 3",
   "language": "python",
   "name": "python3"
  },
  "language_info": {
   "codemirror_mode": {
    "name": "ipython",
    "version": 3
   },
   "file_extension": ".py",
   "mimetype": "text/x-python",
   "name": "python",
   "nbconvert_exporter": "python",
   "pygments_lexer": "ipython3",
   "version": "3.6.9"
  },
  "toc": {
   "base_numbering": 1,
   "nav_menu": {},
   "number_sections": true,
   "sideBar": true,
   "skip_h1_title": false,
   "title_cell": "Table of Contents",
   "title_sidebar": "Contents",
   "toc_cell": false,
   "toc_position": {},
   "toc_section_display": true,
   "toc_window_display": false
  },
  "varInspector": {
   "cols": {
    "lenName": 16,
    "lenType": 16,
    "lenVar": 40
   },
   "kernels_config": {
    "python": {
     "delete_cmd_postfix": "",
     "delete_cmd_prefix": "del ",
     "library": "var_list.py",
     "varRefreshCmd": "print(var_dic_list())"
    },
    "r": {
     "delete_cmd_postfix": ") ",
     "delete_cmd_prefix": "rm(",
     "library": "var_list.r",
     "varRefreshCmd": "cat(var_dic_list()) "
    }
   },
   "types_to_exclude": [
    "module",
    "function",
    "builtin_function_or_method",
    "instance",
    "_Feature"
   ],
   "window_display": false
  }
 },
 "nbformat": 4,
 "nbformat_minor": 1
}