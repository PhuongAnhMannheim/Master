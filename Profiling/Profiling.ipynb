{
 "cells": [
  {
   "cell_type": "code",
   "execution_count": 1,
   "metadata": {
    "ExecuteTime": {
     "end_time": "2020-08-06T15:32:52.102233Z",
     "start_time": "2020-08-06T15:32:52.062841Z"
    }
   },
   "outputs": [],
   "source": [
    "import sqlite3\n",
    "import pandas as pd\n",
    "import numpy as np\n",
    "from urllib.parse import urlparse\n",
    "from langdetect import detect\n",
    "# from zipfile import ZipFile\n",
    "# from collections import Counter"
   ]
  },
  {
   "cell_type": "code",
   "execution_count": 2,
   "metadata": {
    "ExecuteTime": {
     "end_time": "2020-08-06T14:00:42.417256Z",
     "start_time": "2020-08-06T14:00:42.384240Z"
    },
    "pycharm": {
     "name": "#%%\n"
    }
   },
   "outputs": [],
   "source": [
    "# Input\n",
    "db_path = '../Data/phonereviews.db'\n",
    "db_name = 'phonereviews'\n",
    "conn = sqlite3.connect(db_path)\n",
    "cursor = conn.cursor()"
   ]
  },
  {
   "cell_type": "code",
   "execution_count": 3,
   "metadata": {
    "ExecuteTime": {
     "end_time": "2020-08-06T14:49:37.886107Z",
     "start_time": "2020-08-06T14:49:11.869704Z"
    },
    "pycharm": {
     "name": "#%%\n"
    }
   },
   "outputs": [
    {
     "data": {
      "text/plain": "                                     NODE  \\\n0    _:node89ce3018196554d41bceaeac30a31e   \n1   _:nodec8b9fba77ad36d9d11460c11f9151d9   \n2  _:node46ac847e2080dc78cf9ae447647ac8d4   \n3     _:nodef160bce2dcba31bd02d1a072e6ad2   \n4  _:nodef4bf4b94afaabab1bbb342d3ccc284af   \n\n                                                 URL  \\\n0  https://www.techworld.com/review/smartphones/l...   \n1  https://www.technospain.es/fundas-smartphones-...   \n2  https://www.technospain.es/fundas-smartphones-...   \n3  https://www.technospain.es/fundas-smartphones-...   \n4  https://www.technospain.es/fundas-smartphones-...   \n\n                                          REVIEWBODY  \\\n0  \"The smartphone market is as competitive as ev...   \n1                                               None   \n2                                               None   \n3                                               None   \n4                                               None   \n\n                                   RATING REVIEWRATING BESTRATING WORSTRATING  \n0                                    None         None       None        None  \n1  _:node46ac847e2080dc78cf9ae447647ac8d4         None       None        None  \n2                                    None    \"5\"@es-es  \"5\"@es-es        None  \n3  _:nodef4bf4b94afaabab1bbb342d3ccc284af         None       None        None  \n4                                    None    \"2\"@es-es  \"5\"@es-es        None  ",
      "text/html": "<div>\n<style scoped>\n    .dataframe tbody tr th:only-of-type {\n        vertical-align: middle;\n    }\n\n    .dataframe tbody tr th {\n        vertical-align: top;\n    }\n\n    .dataframe thead th {\n        text-align: right;\n    }\n</style>\n<table border=\"1\" class=\"dataframe\">\n  <thead>\n    <tr style=\"text-align: right;\">\n      <th></th>\n      <th>NODE</th>\n      <th>URL</th>\n      <th>REVIEWBODY</th>\n      <th>RATING</th>\n      <th>REVIEWRATING</th>\n      <th>BESTRATING</th>\n      <th>WORSTRATING</th>\n    </tr>\n  </thead>\n  <tbody>\n    <tr>\n      <th>0</th>\n      <td>_:node89ce3018196554d41bceaeac30a31e</td>\n      <td>https://www.techworld.com/review/smartphones/l...</td>\n      <td>\"The smartphone market is as competitive as ev...</td>\n      <td>None</td>\n      <td>None</td>\n      <td>None</td>\n      <td>None</td>\n    </tr>\n    <tr>\n      <th>1</th>\n      <td>_:nodec8b9fba77ad36d9d11460c11f9151d9</td>\n      <td>https://www.technospain.es/fundas-smartphones-...</td>\n      <td>None</td>\n      <td>_:node46ac847e2080dc78cf9ae447647ac8d4</td>\n      <td>None</td>\n      <td>None</td>\n      <td>None</td>\n    </tr>\n    <tr>\n      <th>2</th>\n      <td>_:node46ac847e2080dc78cf9ae447647ac8d4</td>\n      <td>https://www.technospain.es/fundas-smartphones-...</td>\n      <td>None</td>\n      <td>None</td>\n      <td>\"5\"@es-es</td>\n      <td>\"5\"@es-es</td>\n      <td>None</td>\n    </tr>\n    <tr>\n      <th>3</th>\n      <td>_:nodef160bce2dcba31bd02d1a072e6ad2</td>\n      <td>https://www.technospain.es/fundas-smartphones-...</td>\n      <td>None</td>\n      <td>_:nodef4bf4b94afaabab1bbb342d3ccc284af</td>\n      <td>None</td>\n      <td>None</td>\n      <td>None</td>\n    </tr>\n    <tr>\n      <th>4</th>\n      <td>_:nodef4bf4b94afaabab1bbb342d3ccc284af</td>\n      <td>https://www.technospain.es/fundas-smartphones-...</td>\n      <td>None</td>\n      <td>None</td>\n      <td>\"2\"@es-es</td>\n      <td>\"5\"@es-es</td>\n      <td>None</td>\n    </tr>\n  </tbody>\n</table>\n</div>"
     },
     "execution_count": 3,
     "metadata": {},
     "output_type": "execute_result"
    }
   ],
   "source": [
    "df = pd.read_sql_query(\"SELECT * from \" + str(db_name), conn)\n",
    "df.head()"
   ]
  },
  {
   "cell_type": "code",
   "execution_count": 12,
   "metadata": {
    "ExecuteTime": {
     "end_time": "2020-08-06T14:14:05.386043Z",
     "start_time": "2020-08-06T14:13:23.674047Z"
    }
   },
   "outputs": [
    {
     "data": {
      "text/plain": "       NODE  URL REVIEWBODY RATING REVIEWRATING BESTRATING WORSTRATING\ncount     0    0          0      0            0          0           0\nunique    0    0          0      0            0          0           0\ntop     NaN  NaN        NaN    NaN          NaN        NaN         NaN\nfreq    NaN  NaN        NaN    NaN          NaN        NaN         NaN",
      "text/html": "<div>\n<style scoped>\n    .dataframe tbody tr th:only-of-type {\n        vertical-align: middle;\n    }\n\n    .dataframe tbody tr th {\n        vertical-align: top;\n    }\n\n    .dataframe thead th {\n        text-align: right;\n    }\n</style>\n<table border=\"1\" class=\"dataframe\">\n  <thead>\n    <tr style=\"text-align: right;\">\n      <th></th>\n      <th>NODE</th>\n      <th>URL</th>\n      <th>REVIEWBODY</th>\n      <th>RATING</th>\n      <th>REVIEWRATING</th>\n      <th>BESTRATING</th>\n      <th>WORSTRATING</th>\n    </tr>\n  </thead>\n  <tbody>\n    <tr>\n      <th>count</th>\n      <td>0</td>\n      <td>0</td>\n      <td>0</td>\n      <td>0</td>\n      <td>0</td>\n      <td>0</td>\n      <td>0</td>\n    </tr>\n    <tr>\n      <th>unique</th>\n      <td>0</td>\n      <td>0</td>\n      <td>0</td>\n      <td>0</td>\n      <td>0</td>\n      <td>0</td>\n      <td>0</td>\n    </tr>\n    <tr>\n      <th>top</th>\n      <td>NaN</td>\n      <td>NaN</td>\n      <td>NaN</td>\n      <td>NaN</td>\n      <td>NaN</td>\n      <td>NaN</td>\n      <td>NaN</td>\n    </tr>\n    <tr>\n      <th>freq</th>\n      <td>NaN</td>\n      <td>NaN</td>\n      <td>NaN</td>\n      <td>NaN</td>\n      <td>NaN</td>\n      <td>NaN</td>\n      <td>NaN</td>\n    </tr>\n  </tbody>\n</table>\n</div>"
     },
     "execution_count": 12,
     "metadata": {},
     "output_type": "execute_result"
    }
   ],
   "source": [
    "df.describe()"
   ]
  },
  {
   "cell_type": "code",
   "execution_count": 4,
   "metadata": {
    "ExecuteTime": {
     "end_time": "2020-08-06T14:50:45.065703Z",
     "start_time": "2020-08-06T14:49:58.363470Z"
    },
    "pycharm": {
     "name": "#%%\n"
    }
   },
   "outputs": [
    {
     "data": {
      "text/plain": "                                          NODE  \\\ncount                                   804458   \nunique                                  804374   \ntop     _:nodea85437d748f4b0c6b7496a31b0b3ebbb   \nfreq                                         2   \n\n                                          URL           REVIEWBODY     RATING  \\\ncount                                  804458               308272     369753   \nunique                                  86495                68900     368902   \ntop     https://my-phone-finder.com/find-imei  \"Cancel this order\"  \"Null\"@ja   \nfreq                                     3590                31383         82   \n\n       REVIEWRATING BESTRATING WORSTRATING  \ncount        365588     139590       92655  \nunique         2027        208         156  \ntop             \"5\"        \"5\"         \"0\"  \nfreq         193872      33364       26965  ",
      "text/html": "<div>\n<style scoped>\n    .dataframe tbody tr th:only-of-type {\n        vertical-align: middle;\n    }\n\n    .dataframe tbody tr th {\n        vertical-align: top;\n    }\n\n    .dataframe thead th {\n        text-align: right;\n    }\n</style>\n<table border=\"1\" class=\"dataframe\">\n  <thead>\n    <tr style=\"text-align: right;\">\n      <th></th>\n      <th>NODE</th>\n      <th>URL</th>\n      <th>REVIEWBODY</th>\n      <th>RATING</th>\n      <th>REVIEWRATING</th>\n      <th>BESTRATING</th>\n      <th>WORSTRATING</th>\n    </tr>\n  </thead>\n  <tbody>\n    <tr>\n      <th>count</th>\n      <td>804458</td>\n      <td>804458</td>\n      <td>308272</td>\n      <td>369753</td>\n      <td>365588</td>\n      <td>139590</td>\n      <td>92655</td>\n    </tr>\n    <tr>\n      <th>unique</th>\n      <td>804374</td>\n      <td>86495</td>\n      <td>68900</td>\n      <td>368902</td>\n      <td>2027</td>\n      <td>208</td>\n      <td>156</td>\n    </tr>\n    <tr>\n      <th>top</th>\n      <td>_:nodea85437d748f4b0c6b7496a31b0b3ebbb</td>\n      <td>https://my-phone-finder.com/find-imei</td>\n      <td>\"Cancel this order\"</td>\n      <td>\"Null\"@ja</td>\n      <td>\"5\"</td>\n      <td>\"5\"</td>\n      <td>\"0\"</td>\n    </tr>\n    <tr>\n      <th>freq</th>\n      <td>2</td>\n      <td>3590</td>\n      <td>31383</td>\n      <td>82</td>\n      <td>193872</td>\n      <td>33364</td>\n      <td>26965</td>\n    </tr>\n  </tbody>\n</table>\n</div>"
     },
     "execution_count": 4,
     "metadata": {},
     "output_type": "execute_result"
    }
   ],
   "source": [
    "# drop duplicates\n",
    "df.dropna()\n",
    "df.describe()"
   ]
  },
  {
   "cell_type": "code",
   "execution_count": 63,
   "metadata": {
    "ExecuteTime": {
     "end_time": "2020-08-06T14:48:50.798298Z",
     "start_time": "2020-08-06T14:48:48.938877Z"
    }
   },
   "outputs": [
    {
     "data": {
      "text/html": [
       "<div>\n",
       "<style scoped>\n",
       "    .dataframe tbody tr th:only-of-type {\n",
       "        vertical-align: middle;\n",
       "    }\n",
       "\n",
       "    .dataframe tbody tr th {\n",
       "        vertical-align: top;\n",
       "    }\n",
       "\n",
       "    .dataframe thead th {\n",
       "        text-align: right;\n",
       "    }\n",
       "</style>\n",
       "<table border=\"1\" class=\"dataframe\">\n",
       "  <thead>\n",
       "    <tr style=\"text-align: right;\">\n",
       "      <th></th>\n",
       "      <th>NODE</th>\n",
       "      <th>URL</th>\n",
       "      <th>REVIEWBODY</th>\n",
       "      <th>RATING</th>\n",
       "      <th>REVIEWRATING</th>\n",
       "      <th>BESTRATING</th>\n",
       "      <th>WORSTRATING</th>\n",
       "    </tr>\n",
       "  </thead>\n",
       "  <tbody>\n",
       "    <tr>\n",
       "      <td>count</td>\n",
       "      <td>0</td>\n",
       "      <td>0</td>\n",
       "      <td>0</td>\n",
       "      <td>0</td>\n",
       "      <td>0</td>\n",
       "      <td>0</td>\n",
       "      <td>0</td>\n",
       "    </tr>\n",
       "    <tr>\n",
       "      <td>unique</td>\n",
       "      <td>0</td>\n",
       "      <td>0</td>\n",
       "      <td>0</td>\n",
       "      <td>0</td>\n",
       "      <td>0</td>\n",
       "      <td>0</td>\n",
       "      <td>0</td>\n",
       "    </tr>\n",
       "    <tr>\n",
       "      <td>top</td>\n",
       "      <td>NaN</td>\n",
       "      <td>NaN</td>\n",
       "      <td>NaN</td>\n",
       "      <td>NaN</td>\n",
       "      <td>NaN</td>\n",
       "      <td>NaN</td>\n",
       "      <td>NaN</td>\n",
       "    </tr>\n",
       "    <tr>\n",
       "      <td>freq</td>\n",
       "      <td>NaN</td>\n",
       "      <td>NaN</td>\n",
       "      <td>NaN</td>\n",
       "      <td>NaN</td>\n",
       "      <td>NaN</td>\n",
       "      <td>NaN</td>\n",
       "      <td>NaN</td>\n",
       "    </tr>\n",
       "  </tbody>\n",
       "</table>\n",
       "</div>"
      ],
      "text/plain": [
       "       NODE  URL REVIEWBODY RATING REVIEWRATING BESTRATING WORSTRATING\n",
       "count     0    0          0      0            0          0           0\n",
       "unique    0    0          0      0            0          0           0\n",
       "top     NaN  NaN        NaN    NaN          NaN        NaN         NaN\n",
       "freq    NaN  NaN        NaN    NaN          NaN        NaN         NaN"
      ]
     },
     "execution_count": 63,
     "metadata": {},
     "output_type": "execute_result"
    }
   ],
   "source": [
    "# drop rows where any of the values is null\n",
    "df = df[df.REVIEWBODY.notnull()&df.RATING.notnull()&df.REVIEWRATING.notnull()&df.BESTRATING.notnull()&df.WORSTRATING.notnull()]\n",
    "df.describe()"
   ]
  },
  {
   "cell_type": "code",
   "execution_count": 5,
   "metadata": {
    "ExecuteTime": {
     "end_time": "2020-08-06T14:50:53.649483Z",
     "start_time": "2020-08-06T14:50:46.249897Z"
    }
   },
   "outputs": [
    {
     "data": {
      "text/plain": "                                        NODE  \\\ncount                                  68901   \nunique                                 68900   \ntop     _:nodeb81aca48a7d95e968aa3d136cd4565   \nfreq                                       2   \n\n                                            URL  \\\ncount                                     68901   \nunique                                    12619   \ntop     https://my-phone-finder.com/check-phone   \nfreq                                       1282   \n\n                                               REVIEWBODY      RATING  \\\ncount                                               68900       46555   \nunique                                              68900       46328   \ntop     \"I would like to thank you very much for the q...  \"9 \"@en-GB   \nfreq                                                    1          25   \n\n       REVIEWRATING BESTRATING WORSTRATING  \ncount             0          0           0  \nunique            0          0           0  \ntop             NaN        NaN         NaN  \nfreq            NaN        NaN         NaN  ",
      "text/html": "<div>\n<style scoped>\n    .dataframe tbody tr th:only-of-type {\n        vertical-align: middle;\n    }\n\n    .dataframe tbody tr th {\n        vertical-align: top;\n    }\n\n    .dataframe thead th {\n        text-align: right;\n    }\n</style>\n<table border=\"1\" class=\"dataframe\">\n  <thead>\n    <tr style=\"text-align: right;\">\n      <th></th>\n      <th>NODE</th>\n      <th>URL</th>\n      <th>REVIEWBODY</th>\n      <th>RATING</th>\n      <th>REVIEWRATING</th>\n      <th>BESTRATING</th>\n      <th>WORSTRATING</th>\n    </tr>\n  </thead>\n  <tbody>\n    <tr>\n      <th>count</th>\n      <td>68901</td>\n      <td>68901</td>\n      <td>68900</td>\n      <td>46555</td>\n      <td>0</td>\n      <td>0</td>\n      <td>0</td>\n    </tr>\n    <tr>\n      <th>unique</th>\n      <td>68900</td>\n      <td>12619</td>\n      <td>68900</td>\n      <td>46328</td>\n      <td>0</td>\n      <td>0</td>\n      <td>0</td>\n    </tr>\n    <tr>\n      <th>top</th>\n      <td>_:nodeb81aca48a7d95e968aa3d136cd4565</td>\n      <td>https://my-phone-finder.com/check-phone</td>\n      <td>\"I would like to thank you very much for the q...</td>\n      <td>\"9 \"@en-GB</td>\n      <td>NaN</td>\n      <td>NaN</td>\n      <td>NaN</td>\n    </tr>\n    <tr>\n      <th>freq</th>\n      <td>2</td>\n      <td>1282</td>\n      <td>1</td>\n      <td>25</td>\n      <td>NaN</td>\n      <td>NaN</td>\n      <td>NaN</td>\n    </tr>\n  </tbody>\n</table>\n</div>"
     },
     "execution_count": 5,
     "metadata": {},
     "output_type": "execute_result"
    }
   ],
   "source": [
    "# drop duplicates on Reviewbody\n",
    "df = df.drop_duplicates(subset='REVIEWBODY', keep=\"first\")\n",
    "df.describe()"
   ]
  },
  {
   "cell_type": "code",
   "execution_count": 6,
   "metadata": {
    "ExecuteTime": {
     "end_time": "2020-08-06T15:32:36.162083Z",
     "start_time": "2020-08-06T14:50:54.191403Z"
    },
    "pycharm": {
     "name": "#%%\n"
    }
   },
   "outputs": [
    {
     "name": "stdout",
     "output_type": "stream",
     "text": [
      "exception: None\n"
     ]
    }
   ],
   "source": [
    "# detect the language of the reviewbody\n",
    "def detectLang(row):\n",
    "    try:\n",
    "        return detect(row['REVIEWBODY'])\n",
    "    except:\n",
    "        print(\"exception:\", row['REVIEWBODY'])\n",
    "    else:\n",
    "        print(\"sad:\", row['REVIEWBODY'])\n",
    "df['LANGUAGE'] = df.apply(detectLang, axis=1)"
   ]
  },
  {
   "cell_type": "code",
   "execution_count": 7,
   "metadata": {
    "ExecuteTime": {
     "end_time": "2020-08-06T15:32:43.310959Z",
     "start_time": "2020-08-06T15:32:36.575985Z"
    }
   },
   "outputs": [
    {
     "data": {
      "text/plain": "                                        NODE  \\\ncount                                  67633   \nunique                                 67632   \ntop     _:nodeb81aca48a7d95e968aa3d136cd4565   \nfreq                                       2   \n\n                                            URL  \\\ncount                                     67633   \nunique                                    12479   \ntop     https://my-phone-finder.com/check-phone   \nfreq                                       1251   \n\n                                               REVIEWBODY      RATING  \\\ncount                                               67633       45559   \nunique                                              67633       45332   \ntop     \"I would like to thank you very much for the q...  \"9 \"@en-GB   \nfreq                                                    1          25   \n\n       REVIEWRATING BESTRATING WORSTRATING LANGUAGE  \ncount             0          0           0    67633  \nunique            0          0           0        1  \ntop             NaN        NaN         NaN       en  \nfreq            NaN        NaN         NaN    67633  ",
      "text/html": "<div>\n<style scoped>\n    .dataframe tbody tr th:only-of-type {\n        vertical-align: middle;\n    }\n\n    .dataframe tbody tr th {\n        vertical-align: top;\n    }\n\n    .dataframe thead th {\n        text-align: right;\n    }\n</style>\n<table border=\"1\" class=\"dataframe\">\n  <thead>\n    <tr style=\"text-align: right;\">\n      <th></th>\n      <th>NODE</th>\n      <th>URL</th>\n      <th>REVIEWBODY</th>\n      <th>RATING</th>\n      <th>REVIEWRATING</th>\n      <th>BESTRATING</th>\n      <th>WORSTRATING</th>\n      <th>LANGUAGE</th>\n    </tr>\n  </thead>\n  <tbody>\n    <tr>\n      <th>count</th>\n      <td>67633</td>\n      <td>67633</td>\n      <td>67633</td>\n      <td>45559</td>\n      <td>0</td>\n      <td>0</td>\n      <td>0</td>\n      <td>67633</td>\n    </tr>\n    <tr>\n      <th>unique</th>\n      <td>67632</td>\n      <td>12479</td>\n      <td>67633</td>\n      <td>45332</td>\n      <td>0</td>\n      <td>0</td>\n      <td>0</td>\n      <td>1</td>\n    </tr>\n    <tr>\n      <th>top</th>\n      <td>_:nodeb81aca48a7d95e968aa3d136cd4565</td>\n      <td>https://my-phone-finder.com/check-phone</td>\n      <td>\"I would like to thank you very much for the q...</td>\n      <td>\"9 \"@en-GB</td>\n      <td>NaN</td>\n      <td>NaN</td>\n      <td>NaN</td>\n      <td>en</td>\n    </tr>\n    <tr>\n      <th>freq</th>\n      <td>2</td>\n      <td>1251</td>\n      <td>1</td>\n      <td>25</td>\n      <td>NaN</td>\n      <td>NaN</td>\n      <td>NaN</td>\n      <td>67633</td>\n    </tr>\n  </tbody>\n</table>\n</div>"
     },
     "execution_count": 7,
     "metadata": {},
     "output_type": "execute_result"
    }
   ],
   "source": [
    "# filter out the ones which could not be detected or which are not english\n",
    "df = df[df['LANGUAGE'] == \"en\"]\n",
    "df.describe()"
   ]
  },
  {
   "cell_type": "code",
   "execution_count": 8,
   "metadata": {
    "ExecuteTime": {
     "end_time": "2020-08-06T15:32:49.965685Z",
     "start_time": "2020-08-06T15:32:43.763236Z"
    }
   },
   "outputs": [
    {
     "data": {
      "text/plain": "                                      NODE  \\\n0     _:node89ce3018196554d41bceaeac30a31e   \n9   _:node932ee4db8fed7d2b6e36f387762ccae4   \n30   _:node76a0665e193f5656e178f4591906334   \n32  _:node9e6b599bb0a0c282a5cad42fa35cea60   \n42  _:node618abc17c8fc753a4660a9dd8d791d92   \n\n                                                  URL  \\\n0   https://www.techworld.com/review/smartphones/l...   \n9   https://www.cio.com/article/3101868/smartphone...   \n30  https://www.coolsmartphone.com/2016/03/01/hono...   \n32  https://www.techradar.com/reviews/vernee-v2-pr...   \n42  https://www.proporta.com/gripstick-dashboard-m...   \n\n                                           REVIEWBODY  \\\n0   \"The smartphone market is as competitive as ev...   \n9   \"\\n\\t\\n\\t\\n\\t\\n\\t\\n\\n\\t\\nLenovo's Motorola Mob...   \n30  \"Recently I was at the Honor 5X European launc...   \n32  \"\\n\\n\\nWhere to buy?Online Chinese retailer, G...   \n42  \"Another useful gadget which has yet to be ful...   \n\n                                    RATING REVIEWRATING BESTRATING  \\\n0                                     None         None       None   \n9                                     None         None       None   \n30                             \"85 \"@en-GB         None       None   \n32     _:nodec31a287f3d1864bfab3ae61cfb3bc         None       None   \n42  _:node89349b98f280309385d7a2d8bbf43095         None       None   \n\n   WORSTRATING LANGUAGE                  netloc  \n0         None       en       www.techworld.com  \n9         None       en             www.cio.com  \n30        None       en  www.coolsmartphone.com  \n32        None       en       www.techradar.com  \n42        None       en        www.proporta.com  ",
      "text/html": "<div>\n<style scoped>\n    .dataframe tbody tr th:only-of-type {\n        vertical-align: middle;\n    }\n\n    .dataframe tbody tr th {\n        vertical-align: top;\n    }\n\n    .dataframe thead th {\n        text-align: right;\n    }\n</style>\n<table border=\"1\" class=\"dataframe\">\n  <thead>\n    <tr style=\"text-align: right;\">\n      <th></th>\n      <th>NODE</th>\n      <th>URL</th>\n      <th>REVIEWBODY</th>\n      <th>RATING</th>\n      <th>REVIEWRATING</th>\n      <th>BESTRATING</th>\n      <th>WORSTRATING</th>\n      <th>LANGUAGE</th>\n      <th>netloc</th>\n    </tr>\n  </thead>\n  <tbody>\n    <tr>\n      <th>0</th>\n      <td>_:node89ce3018196554d41bceaeac30a31e</td>\n      <td>https://www.techworld.com/review/smartphones/l...</td>\n      <td>\"The smartphone market is as competitive as ev...</td>\n      <td>None</td>\n      <td>None</td>\n      <td>None</td>\n      <td>None</td>\n      <td>en</td>\n      <td>www.techworld.com</td>\n    </tr>\n    <tr>\n      <th>9</th>\n      <td>_:node932ee4db8fed7d2b6e36f387762ccae4</td>\n      <td>https://www.cio.com/article/3101868/smartphone...</td>\n      <td>\"\\n\\t\\n\\t\\n\\t\\n\\t\\n\\n\\t\\nLenovo's Motorola Mob...</td>\n      <td>None</td>\n      <td>None</td>\n      <td>None</td>\n      <td>None</td>\n      <td>en</td>\n      <td>www.cio.com</td>\n    </tr>\n    <tr>\n      <th>30</th>\n      <td>_:node76a0665e193f5656e178f4591906334</td>\n      <td>https://www.coolsmartphone.com/2016/03/01/hono...</td>\n      <td>\"Recently I was at the Honor 5X European launc...</td>\n      <td>\"85 \"@en-GB</td>\n      <td>None</td>\n      <td>None</td>\n      <td>None</td>\n      <td>en</td>\n      <td>www.coolsmartphone.com</td>\n    </tr>\n    <tr>\n      <th>32</th>\n      <td>_:node9e6b599bb0a0c282a5cad42fa35cea60</td>\n      <td>https://www.techradar.com/reviews/vernee-v2-pr...</td>\n      <td>\"\\n\\n\\nWhere to buy?Online Chinese retailer, G...</td>\n      <td>_:nodec31a287f3d1864bfab3ae61cfb3bc</td>\n      <td>None</td>\n      <td>None</td>\n      <td>None</td>\n      <td>en</td>\n      <td>www.techradar.com</td>\n    </tr>\n    <tr>\n      <th>42</th>\n      <td>_:node618abc17c8fc753a4660a9dd8d791d92</td>\n      <td>https://www.proporta.com/gripstick-dashboard-m...</td>\n      <td>\"Another useful gadget which has yet to be ful...</td>\n      <td>_:node89349b98f280309385d7a2d8bbf43095</td>\n      <td>None</td>\n      <td>None</td>\n      <td>None</td>\n      <td>en</td>\n      <td>www.proporta.com</td>\n    </tr>\n  </tbody>\n</table>\n</div>"
     },
     "execution_count": 8,
     "metadata": {},
     "output_type": "execute_result"
    }
   ],
   "source": [
    "# finding out where the reviews come from (domain specific)\n",
    "def getNetloc(row):\n",
    "    try:\n",
    "        return urlparse(row['URL']).netloc\n",
    "    except:\n",
    "        print(\"expection: \", row['URL'])\n",
    "    else:\n",
    "        print(\"sad\", row['URL'])\n",
    "\n",
    "df['netloc'] = df.apply(getNetloc, axis = 1)\n",
    "df.head()"
   ]
  },
  {
   "cell_type": "code",
   "execution_count": 10,
   "metadata": {
    "ExecuteTime": {
     "end_time": "2020-08-06T15:32:51.106066Z",
     "start_time": "2020-08-06T15:32:50.951317Z"
    }
   },
   "outputs": [
    {
     "data": {
      "text/plain": "['allphonespro.com',\n 'my-phone-finder.com',\n 'www.proporta.co.uk',\n 'iphone7mobiledeals.co.uk',\n 'www.bhphotovideo.com',\n 'justbuylah.com',\n 'www.cellphonerepair.com',\n 'www.pixaprints.co.uk',\n 'bestbuyheadphones.net',\n 'phoneky.com',\n 'www.viewpoints.com',\n 'www.generationtechnologies.co.ke',\n 'www.eversobling.com',\n 'www.aiphone.it',\n 'rechargedmyphone.co.uk',\n 'www.audio-technica.com',\n 'www.apple.com',\n 'www.7dayshop.com',\n 'www.proporta.com',\n 'phoneky.co.uk',\n 'www.carphonewarehouse.com',\n 'www.cdw.com',\n 'equipboard.com',\n 'www.samsung.com',\n 'www.sony.com',\n 'fitblizz.gocircle.net',\n 'www.pssl.com',\n 'www.lg.com',\n 'www.coolsmartphone.com',\n 'themrphone.com',\n 'www.iqonlinetraining.com',\n 'www.digitec.ch',\n 'www.worldwidestereo.com',\n 'www.macworld.com',\n 'zadbuy.com',\n 'www.complaintsboard.com',\n 'www.techadvisor.co.uk',\n 'wistex.solutions',\n 'bag2me.com',\n 'allaboutwindowsphone.com',\n 'www.macworld.co.uk',\n 'www.bestbuy.ca',\n 'www.ligo.co.uk',\n 'www.juno.co.uk',\n 'aliexpressagents.com',\n 'www.netpal.co.uk',\n 'www.techworld.com',\n 'www.luxatrel.com',\n 'fineartamerica.com',\n 'www.trustedreviews.com',\n 'www.richersounds.com',\n 'www.insiderpages.com',\n 'animegoodys.com',\n 'gearbeast.com',\n 'besthobbyideas.com',\n 'www.irelandboosters.com',\n 'myseasonshop.com',\n 'www.ingridpadilla.com',\n 'www.phoneromeo.com',\n 'westerosmarket.com',\n 'bestcarsshop.com',\n 'gadgetsrain.com',\n 'www.frontendaudio.com',\n 'www.iphoneglance.com',\n 'smartphonly.com',\n 'teendorf.me',\n 'desktopsshop.com',\n 'fashiontrendyshop.com',\n 'www.pcworld.com',\n 'www.mobiles.co.uk',\n 'www.7tron.com',\n 'www.screwfix.eu',\n 'goforwardplus.com',\n 'www.headphoneslab.com',\n 'tuscanleathershop.com',\n 'www.comparaisoncellulaires.com',\n 'www.caseescape.shop',\n 'boutique.abrakadaweb.com',\n 'www.zagg.com',\n 'www.uncommongoods.com',\n 'www.iphoneappsreviewonline.com',\n 'pixels.com',\n 'www.dickssportinggoods.com',\n 'goddessworship.net',\n 'www.wards.com',\n 'www.thehouseofmarley.ca',\n 'www.analogueseduction.net',\n 'www.sony.com.my',\n 'www.basspro.com',\n 'www.groupon.com',\n 'mireauxms.com',\n 'www.decathlon.in',\n 'coin-stat.com',\n 'www.dicksmith.com.au',\n 'www.ishotmounts.com',\n 'olxelectronics.com',\n 'www.gak.co.uk',\n 'www.gadgetmenders.com',\n 'www.shop-leather.com',\n 'www.gigmasters.com',\n 'www.thewtfactoryshop.com',\n 'www.beschoi.com',\n 'www.techradar.com',\n 'www.techjuice.pk',\n 'www.galaxus.ch',\n 'www.halfords.com',\n 'www.vminnovations.com',\n 'www.e2save.com',\n 'akeynotespeaker.com',\n 'gadgetuls.com',\n 'datacracy.com',\n 'bestdeals247.com',\n 'www.infobonaire.com',\n 'virtualphonesystemreviews.com',\n 'fifine.cc',\n 'www.adultphonechat.co.uk',\n 'indimotard.com',\n 'vn.phoneky.com',\n 'www.nubiamobileshop.com',\n 'www.guitarguitar.co.uk',\n 'trustreview.net',\n 'mr.phoneky.com',\n 'www.theguardian.com',\n 'www.unlockunit.com',\n 'jp.phoneky.com',\n 'it.phoneky.com',\n 'www.musicstore.de',\n 'gadgetsion.com',\n 'www.startlocal.com.au',\n 'floatboat.org',\n 'www.gizok.com',\n 'cn.phoneky.com',\n 'es.phoneky.com',\n 'www.absolutemusic.co.uk',\n 'my.phoneky.com',\n 'www.thewarehouse.co.nz',\n 'www.laptops.co.uk',\n 'anglophone-direct.com',\n 'www.onlineshop2save.com',\n 'gamingonair.de',\n 'www.kogan.com',\n 'icases.net',\n 'www.wookieestore.com',\n 'uk.phoneky.com',\n 'www.twowaydirect.com',\n 'www.midnightvelvet.com',\n 'casesgeek.com',\n 'pl.phoneky.com',\n 'www.mobot.net',\n 'www.pdevice.com',\n 'www.rswebsols.com',\n 'shop.easybulb.com',\n 'www.mobilephones.org.uk',\n 'www.groove3.com',\n 'jax.reviews',\n 'id.phoneky.com',\n 'www.globalelectronicsstore.com',\n 'workingperson.com',\n 'slickprice.net',\n 'saynama.com',\n 'www.metrodetroitphonerepair.com',\n 'nexcraft.co',\n 'www.belk.com',\n 'th.phoneky.com',\n 'mygadgetonline.com',\n 'www.imeiunlockpro.com',\n 'www.srihanumandaspiritualonlinestore.com',\n 'fr.phoneky.com',\n 'www.macofalltrades.com',\n 'ar.phoneky.com',\n 'www.techhive.com',\n 'nekohoshi.com',\n 'www.iphonefmtransmitter.com',\n 'shopbuzz.pk',\n 'www.dicksmith.co.nz',\n 'www.homedepot.com',\n 'www.truevalue.com',\n 'christianaudio.com',\n 'bd.phoneky.com',\n 'www.productreview.com.au',\n 'relaisdesoumoy.com',\n 'www.goshopshop.com',\n 'kpopdeal.com',\n 'www.techwalls.com',\n 'headsetiphone.se',\n 'de.phoneky.com',\n 'www.promotionchoice.com',\n 'www.steepandcheap.com',\n 'www.ashleyfurniture.com',\n 'jedimarket.com',\n 'www.sony.com.au',\n 'irepair.com.sg',\n 'ru.phoneky.com',\n 'www.thehouseofmarley.co.uk',\n 'www.findmeagift.co.uk',\n 'techmag.pk',\n 'glitterpalais.com',\n 'www.appsafari.com',\n 'www.snooth.com',\n 'www.alltrails.com',\n 'www.32ndshop.com',\n 'cheapeststuffs.com',\n 'ggstylo.com',\n 'www.denniskirk.com',\n 'www.indeed.com',\n 'www.myunlockservice.com',\n 'www.zdnet.com',\n 'tr.phoneky.com',\n 'dmlawyer.com',\n 'rasenganstore.com',\n 'www.boxcasestore.com.au',\n 'activezebra.com',\n 'theintegratedhome.net',\n 'community.spiceworks.com',\n 'www.andertons.co.uk',\n 'www.toryburch.com',\n 'frogtutoring.com',\n 'www.screenrepairhouston.com',\n 'devicereset.com',\n 'www.placesure.com',\n 'www.creativebloq.com',\n 'iphoneimei.net',\n 'www.giftcart.com',\n 'www.ign.com',\n 'www.bluphoneparts.com',\n 'www.clique.boutique',\n 'gizmoist.com',\n 'www.mazephone.com',\n 'happierlifestyle.com',\n 'tookshats.com',\n 'myfitproduct.com',\n 'www.signaturehardware.com',\n '7wix.com',\n 'www.ebags.com',\n 'www.makeuseof.com',\n 'www.sportsmanswarehouse.com',\n 'www.binglee.com.au',\n 'greatnonprofits.org',\n 'www.containerstore.com',\n 'zirashop.com',\n 'www.powersupportintl.com',\n 'www.lampsplus.com',\n 'mitchellandjohnson.com',\n 'www.delomasbarato.com',\n 'www.techconnect.com',\n 'www.pokemonstore99.com',\n 'www.watchovers.com',\n 'second-www.trustlink.org',\n 'www.infoworld.com',\n 'www.discountdrugnetwork.com',\n 'www.ingeniotech.co.uk',\n 'bellsbowsandwhistles.com',\n 'www.sanrio.com',\n 'saharacase.com',\n 'casepeace.com',\n 'www.uplaytablet.com',\n 'www.globalmediapro.com',\n 'www.telephonengineers.co.uk',\n 'lookingorgeous.com',\n 'www.skytelephonenumber.com',\n 'www.hottopic.com',\n 'www.bestiphonedatarecovery.com',\n 'www.casestore.com.au',\n 'www.cissamagazine.com.br',\n 'unlockmyiphone.com.au',\n 'www.iphone-cases.nl',\n 'www.phonesltd.co.uk',\n 'booklehazle.life',\n 'mobileprints.com',\n 'recombu.com',\n 'www.backinactionuk.com',\n 'www.elc.co.uk',\n 'bestwayfitness.com',\n 'www.christopherandbanks.com',\n 'eastlinebooks.com',\n 'www.computerworld.com',\n 'www.backcountry.com',\n 'www.fusioninformatics.com',\n 'alisaleplus.com',\n 'gadgets.ndtv.com',\n 'www.moneysavingpro.com',\n 'www.fi.freelancer.com',\n 'mstore.harley-davidson.com',\n 'telfproducts.com.au',\n 'biacollection.com',\n 'thevrshop.co',\n 'ko.phoneky.com',\n 'www.spencersonline.com',\n 'www.dk.freelancer.com',\n 'www.brandzend.com',\n 'www.keepcalmandcarryon.com',\n 'canada.jamaudio.com',\n 'lowdown.carphonewarehouse.com',\n 'www.officeworks.com.au',\n 'www.greenbot.com',\n 'happerstudio.com',\n 'www.wooden-watches.biz',\n 'www.morebeer.com',\n 'www.videoguys.com.au',\n 'www.stuff.tv',\n 'havacilarpazari.com',\n 'www.princessphonesex.com',\n 'bestseries.shop',\n 'www.philadelphialuthiertools.com',\n 'mobilecasinoapps.com',\n 'm.bestbuy.ca',\n 'www.myersnetsol.com',\n 'www.whiteselectronics.com',\n 'crownaudiovideoinc.com',\n 'www.t3.com',\n 'stkcar.com',\n 'www.markalaa.com',\n 'www.countrydoor.com',\n 'smartntechs.com',\n 'www.tredz.co.uk',\n 'www.vizz.co',\n 'www.thehouseofmarley.com',\n 'myfordassociates.com',\n 'arguni.com',\n 'www.htcrepairer.co.uk',\n 'mymarvelstore.com',\n 'simplebusinessphones.com',\n 'qa.uncommongoods.com',\n 'exceptfarmworkers.com',\n 'store.theartofservice.com',\n 'splusguardiansza.site',\n 'hometheaterreview.com',\n 'www.dailynewsen.com',\n 'iplay.my',\n 'www.ginnys.com',\n 'animegastore.com',\n 'actfrench.org',\n 'artoftheiphone.com',\n 'www.cdwg.com',\n 'www.copperelectronics.com',\n 'www.chums.co.uk',\n 'hairsaleshop.com',\n 'feminafashion.com',\n 'www.download82.com',\n 'www.newreg.co.uk',\n 'zaccessoriez.com',\n 'www.asapawards.com',\n 'www.getaheadphone.com',\n 'soundcomputers.ie',\n 'jukpop.com',\n 'praticus.com',\n 'uk.electronic.partners',\n 'iphonegamereviews.com',\n 'lipstickdomme.com',\n 'seagullgadget.com',\n 'dealuxa.com',\n 'beniciahomefinder.com',\n 'soundreview.org',\n 'www.amplifiedtelephones.co.uk',\n 'pinshape.com',\n 'theartofrealty.net',\n 'www.crazysales.com.au',\n 'www.picstop.co.uk',\n 'annepacks.com',\n 'www.samsungrepaircenters.com',\n 'tianxiazai.com',\n 'www.judysbook.com',\n 'www.facebond.com',\n 'www.marvgolden.com',\n 'www.everythingicafe.com',\n 'www.allelectronics.com',\n 'phantomskinz.com',\n 'topdealslab.com',\n 'skyneth.com',\n 'www.spokephone.com',\n 'skl-miniatures.ru',\n 'www.papachina.com',\n 'www.myphoner.com',\n 'www.321eshop.com',\n 'centralguide.net',\n 'www.apppicker.com',\n 'www.fr.freelancer.com',\n 'pica-collection.com',\n 'www.tillys.com',\n 'pocketmags.com',\n 'thecellphoneguru.com',\n 'covinton.com',\n 'www.mybamboohome.com',\n 'www.epromos.com',\n 'www.freelancer.com',\n 'www.custommade.com',\n 'www.net2phone.com',\n 'www.montanasaddles.net',\n 'store4fan.net',\n 'marketstallsdirect.com',\n 'powerwerx.com',\n 'dreamstall.com',\n 'gadgetmenders.com',\n 'trinitymalls.com',\n 'hochzeitringe.info',\n 'jewrotica.org',\n 'bestsoccergoods.com',\n 'www.leski.com',\n 'i-glass.com.ua',\n 'steepster.com',\n 'www.spygeargadgets.com',\n 'www.asvpartners.com.au',\n 'in.phoneky.com',\n 'swaggersocial.com',\n 'greenholidaycenter.com',\n 'www.thegrommet.com',\n 'www.hope2sleep.co.uk',\n 'www.mriphonemobile.com',\n 'www.armorcasestore.com.au',\n 'tarotti.com',\n 'manpremier.com',\n 'www.tapsmart.com',\n 'cse30.org',\n 'www.mobiles4sale.in',\n 'www.workingclasspunx.com',\n 'f5mobile.vn',\n 'www.campendium.com',\n 'www.tractorsupply.com',\n 'guitar-merch-store.syngates.com',\n 'us.goldgenie.com',\n 'www.artofhearing.com.au',\n 'goodsignaljammer.com',\n 'www.thediscdjstore.com',\n 'www.chefaudio.com',\n 'besttechtrade.com',\n 'www.telegraph.co.uk',\n 'www.ibtimes.co.uk',\n 'www.jensonusa.com',\n 'www.broadcastcomponents.com.au',\n 'www.vocalreferences.com',\n 'beaversbeautyy.com',\n 'www.portalusso.com',\n 'usgiftgiant.com',\n 'www.trustytechs.com',\n 'zveclub.com',\n 'bestmicrophonesreview.com',\n 'www.emilypress.com',\n 'cellphoneboosterstore.com',\n 'thelookhere.com',\n 'booklikes.com',\n 'classbento.com.au',\n 'www.motosport.com',\n 'www.halfords.ie',\n 'nextleveltennis.com',\n 'www.office-phone-systems.ca',\n 'www.cubotmall.com',\n 'mandalahz.com',\n 'www.motivators.com',\n 'www.sportsmansguide.com',\n 'www.freelancer.de',\n 'www.roguefitness.com',\n 'advicetrend.com',\n 'www.technoarea.in',\n 'www.mydeal.com.au',\n 'usaphone.com',\n 'www.squandary.com',\n 'geeqmart.com',\n 'www.travelsmith.com',\n 'www.northernaxcess.com',\n 'www.grandinroad.com',\n 'www.redcross.org',\n 'boolox.com',\n 'uk.hardware.info',\n 'shop.twistyride.com',\n 'www.ledunderbody.com',\n 'www.echosheadphone.com',\n 'restposten-ats.de',\n 'simsimbazaar.com',\n 'store.cgduck.pro',\n 'www.gearfocal.com',\n 'www.henribendel.com',\n 'www.adidas.com',\n 'www.yellowpages.ca',\n 'synergration.com',\n 'www.crazedpilot.com',\n 'www.it-support-calgary.ca',\n 'dubaivfm.com',\n 'www.unlockinglab.com',\n 'www.fixr.com',\n 'www.vopmart.com',\n 'www.simplyheadsets.com.au',\n 'www.phonepages.ca',\n '357.life',\n 'www.cameragrip.com',\n 'sowtechgloble.com',\n 'areamart.com',\n 'www.theelectricconnection.com',\n 'www.itworld.com',\n 'spiral.ac',\n 'www.bikeradar.com',\n 'www.itcentralstation.com',\n 'www.screenknight.com',\n 'www.techrrival.com',\n 'gadgets-essentials.com',\n 'mobileunlock24.com',\n 'www.bournemouthitsolutions.co.uk',\n 'eventic.co',\n 'tokyoto-luggage.co.uk',\n 'phonegenesis.com',\n 'homedonation.org',\n 'supermarket-blue-demo.mybigcommerce.com',\n 'www.freewarelinker.com',\n 'mscgr.com',\n 'www.vn.freelancer.com',\n 'www.motardinn.com',\n 'sixstat.com',\n 'www.fidelisnw.com',\n 'www.onestarleathergoods.store',\n 'www.teknikdelar.se',\n 'www.phone.com',\n 'www.glsaudio.com',\n 'www.amtelphonesystems.com',\n 'essentials4outdoor.com',\n 'francophonies.fr',\n 'store.sunrecords.com',\n 'headphonesonsale.org',\n 'www.grosbill.com',\n 'www.aphrodite1994.com',\n 'teezeli.com',\n 'recommender.com',\n 'www.whathifi.com',\n 'www.world-itech.com',\n 'www.harrietcarter.com',\n 'www.mywoodenshop.com',\n 'www.bulkreefsupply.com',\n 'www.edenfantasys.com',\n 'jayalders.com',\n 'www.sacramentoinjuryattorneysblog.com',\n 'www.enjukuracing.com',\n 'expressfishings.com',\n 'centrictel.com',\n 'www.studio22online.co.za',\n 'www.searchseries.com',\n 'discountoutlet.com',\n 'reviewify.co.uk',\n 'www.decathlon.co.il',\n 'superiorphonefixservice.com',\n 'www.800fixing.com',\n 'www.batterymart.com',\n 'www.pinknoise-systems.co.uk',\n 'www.tricksmachine.com',\n 'www.cio.com',\n 'theatrewi.org',\n 'homethods.com',\n 'topsecurityreview.com',\n 'www.iused.eu',\n 'theglobalgazette.com',\n 'www.theitbaby.com',\n 'chainspeed.co.uk',\n 'www.360itpartners.com',\n 'amp.theguardian.com',\n 'www.totoroshop.co',\n 'www.networkworld.com',\n 'thoroughlyreviewed.com',\n 'www.colonialmetaldetectors.com',\n 'www.freelancer.ec',\n 'watchodyssey.com',\n 'demo1.webasyst.com',\n 'www.freelancer.cn',\n 'www.casematestore.com.au',\n 'thaykinhdienthoai.com',\n 'bestvpnprovider.co',\n 'www.elizabethrose.co.uk',\n 'www.tr.freelancer.com',\n 'gutierrezfamilychiro.com',\n 'www.sixfive.com.sg',\n 'thevrking.com',\n 'www.freelancer.com.au',\n 'shop.pssl.com',\n 'geratmexico.info',\n 'dronefill.com',\n 'www.freelancer.se',\n 'www.wksexcrimes.com',\n 'www.e-ville.com',\n 'www.syntricate.com.au',\n 'topstardeals.com',\n 'www.didgeridoo.store',\n 'www.iphone-to-ipad.com',\n 'www.funslurp.com',\n 'randos-anesetchevaux-jura.com',\n 'www.monroeandmain.com',\n 'www.yakangler.com',\n 'www.theskylinedrivein.com',\n 'paperpenguinco.com',\n 'ichibanelectronic.com',\n 'www.paperbackswap.com',\n 'www.exploroz.com',\n 'puleathers.com',\n 'www.spirithalloween.com',\n 'www.freelancer.ie',\n 'www.ifixit.com',\n 'fantazo.com',\n 'www.gonser.ch',\n 'www.freelancer.jp',\n 'www.firestoreonline.com',\n 'livecasinocard.co.uk',\n 'www.equicom.ie',\n 'style-review.com',\n 'www.tpl-parts.it',\n 'www.birthdaypartymagician.co.uk',\n 'www.clarivue.com',\n 'fcfootballcases.com',\n 'www.copsplus.com',\n 'www.tpl-parts.gr',\n 'www.ashappyas.com',\n 'cccflorida.org',\n 'www.bioprotectivesystems.com',\n 'mubi.com',\n 'www.wellness.com',\n 'www.poemhunter.com',\n 'gotravelsport.com',\n 'submitinfographics.com',\n 'maquillages-professionnel.com',\n 'www.geschenkidee.ch',\n 'www.blackberryrepairer.co.uk',\n 'm.bonanzamarket.co.uk',\n 'www.slingmods.com',\n 'www.outdoorresearch.com',\n 'iosapplists.com',\n 'appslisto.com',\n 'www.bodybuilding.com',\n 'www.decibullz.com',\n 'www.fashionjewelryforeve.com',\n 'www.studentsailing.ru',\n '407case.patternbyetsy.com',\n '124ju.com',\n 'madeofcarbonfiber.com',\n 'infocus.buildabazaar.ooo',\n 'www.proclipusa.com',\n 'garin.info',\n 'gopowersystems.com',\n 'www.tpl-parts.fr',\n 'www.freelancer.mx',\n 'tinhutbbq.com',\n 'www.duchuymobile.com',\n 'www.getabstract.com',\n 'nothinggeek.com',\n 'sigmaridgeit.com',\n 'soundbetter.com',\n 'www.photographycourses.biz',\n 'www.contact-details.info',\n 'www.gate1access.com',\n 'palmettostatearmory.com',\n 'www.chinagift.co',\n 'www.harley-davidson.com',\n 'folder-lock.en.softonic.com',\n 'www.westcoastseeds.com',\n 'www.freelancer.com.co',\n 'www.nathansports.com',\n 'www.muchgames.com',\n 'www.mantality.co.za',\n 'boostcase.com',\n 'gopartyhard.com',\n 'ibox.co.id',\n 'www.inlinecomputer.com',\n 'tuffproducts.com',\n 'thmotorsports.com',\n 'pt.phoneky.com',\n 'www.tpl-parts.co.uk',\n 'telephoneengineerpreston.com',\n 'www.velocityvirtual.com',\n 'www.findingdeals.in',\n 'survivalpanel.com',\n 'www.mobilecenter.pk',\n 'www.celebsnet.com',\n 'www.freelancer.com.ua',\n 'www.v3.co.uk',\n 'www.mycelcare.com',\n 'shoppingler.com',\n 'www.bonedo.de',\n '533tu.com',\n 'www.informationlord.com',\n 'www.nevatechservis.ru',\n 'www.suzielondonuk.com',\n 'www.lamonstergarage.com',\n 'www.mailbanger.com',\n 'www.compu-phone.com',\n 'www.chewinitiatives.com',\n 'onepiecemerchandise.com',\n 'www.simplyuniquestyle.com',\n 'www.freelancer.co.id',\n 'phone-hospital.eu',\n 'superheros-home.com',\n 'www.egunbags.com',\n 'www.decathlon.ph',\n 'www.hitechcentury.com',\n 'www.fonegiant.com',\n 'preetel.ca',\n 'buy4kitchen.com',\n 'www.maxboostpower.com',\n 'pctechmag.com',\n 'ru.ifixit.com',\n 'www.teamsynergysd.com',\n 'boutiqueme.com',\n 'www.androidpolice.com',\n 'fastonlineusers.com',\n 'www.londontranslations.co.uk',\n 'www.rosebikes.de',\n 'tralarm.com',\n 'www.upmygadget.com',\n 'www.chinawholesalegift.com',\n 'www.reicheltplumbing.com',\n 'www.prazdnik-64.ru',\n 'www.headfoniastore.com',\n 'typeahome.ca',\n 'datagraph.biz',\n 'www.pctattletale.com',\n 'www.highya.com',\n 'www.smallrig.com',\n 'www.customvinylbybridgett.com',\n 'ctsphone.com',\n 'www.freelancer.sg',\n 'www.freelancer.gr',\n 'www.14xpress.com',\n 'www.theatrebreaks.co.uk',\n 'eaudulevant.de',\n 'www.routerloginsupport.com',\n 'www.hunterboots.com',\n 'www.swirlingovercoffee.com',\n 'www.bluevillascollection.com',\n 'www.cyclingweekly.com',\n 'www.androidguys.com',\n 'www.ccir.ru',\n 'www.hotcellphonedeals.com',\n 'timex-capital.space',\n 'www.123bestdeal.nl',\n 'joyfulsoulonline.com',\n 'www.premierbathrooms.co.uk',\n 'www.physelec.ru',\n 'www.techguide.com.au',\n 'siltcarpi.com',\n 'www.netcult.ru',\n 'newrochellevapeshop.com',\n 'oliverands.com',\n 'casino-promo.co.uk',\n 'www.spracht.com',\n 'en.softmonk.com',\n 'www.nellyssecurity.com',\n 'foesjapan.com',\n 'p-therapy.com',\n 'foptimumbackyardua.site',\n 'yodaq.com',\n 'irollie.co',\n 'www.loughborough.org.uk',\n 'www.marcopromos.com',\n 'www.itnews.com',\n 'thekoalition.com',\n 'www.technologyx.com',\n 'www.cavenders.com',\n 'de.juno.co.uk',\n 'www.smartsign.com',\n 'www.cheerluggage.com',\n 'xrayontech.com',\n 'www.redlinesecurity.co.uk',\n 'jaysproducts.net',\n 'www.futurecomusa.com',\n 'www.personalisedbanners.co.uk',\n 'www.cravingtech.com',\n 'bonusonlinewincasino.services',\n 'www.hpshopping.in',\n 'www.decathlon.com.au',\n 'placeit.net',\n 'www.allaboutsymbian.com',\n 'www.bicyclehero.com',\n 'www.houdah.com',\n 'www.bjorn3d.com',\n 'www.industrialone.ca',\n 'bitstechnology.com',\n 'hubi-streaming-download.en.softonic.com',\n 'www.f-records.ru',\n 'ea-sports-fifa-16-companion.en.softonic.com',\n 'www.collectionsetc.com',\n 'celebatb.com',\n 'google-slides.en.softonic.com',\n 'cherishedtimedesigns.com',\n 'www.ishoping.ru',\n 'tabletphone.ir',\n 'www.lanrestudio.com',\n 'www.southpassbeads.com',\n 'www.cryptoweb.it',\n 'escape-the-titanic-devious-escape-puzzler.en.softonic.com',\n 'www.pyadm.ru',\n 'ipad-slideshow.com',\n 'www.mumbi.de',\n 'www.dailygadgetry.com',\n 'www.thephonemes.com',\n 'www.6gadgets.com',\n 'www.bloggerspice.com',\n 'favething.com',\n 'www.1001tafelkleden.com',\n 'www.boxlunch.com',\n 'www.sallybeauty.com',\n 'fotorus.en.softonic.com',\n 'www.certifiedresumewriter.com',\n 'appsjet.org',\n 'picsart-photo-studio.en.softonic.com',\n 'letterboxd.com',\n 'www.toysreview.org',\n 'fackit.nl',\n 'www.infinitymotorcycles.com',\n 'line.en.softonic.com',\n 'grand-theft-auto-v-the-manual.en.softonic.com',\n 'pendulumdancetheatre.org',\n 'netflix.en.softonic.com',\n 'mediamarkt.pl',\n 'www.apprview.com',\n 'stockintrend.in',\n 'www.boardgamequest.com',\n 'bytemiltia.tech',\n 'taxitalk.info',\n 'shavenape.tv',\n 'www.kabum.com.br',\n 'melleamade.com',\n 'www.gusfree.com',\n 'bqshopestore.com',\n 'vsco-cam.en.softonic.com',\n 'aladinqq.org',\n 'www.gogolfnw.com',\n 'www.thebestearbuds.com',\n 'mortal-kombat-x.en.softonic.com',\n 'www.askmea2z.com',\n 'topgiadienthoai.com',\n 'iphone-ipad-ipod-to-computer-transfer.en.softonic.com',\n 'www.golfgalaxy.com',\n 'www.labelhabitation.com',\n 'naptheso1.com',\n 'www.fanmerchstore.com',\n 'free-any-iphone-data-recovery.en.softonic.com',\n 'www.chaseavdirect.co.uk',\n 'www.tranceone.ru',\n 'www.glacon.com.br',\n 'www.chinaphonearena.com',\n 'facetune.en.softonic.com',\n 'iphoneden.com',\n 'deemo.en.softonic.com',\n 'www.denon.de',\n 'www.oficinadanet.com.br',\n 'unlockiphonehyd.com',\n 'www.aldevis.com',\n 'bluestarseniortech.com',\n 'www.ukrainews.ru',\n 'emobilereviews.com',\n 'www.yuvamind.com',\n 'www.completecareshop.co.uk',\n 'www.realgear.net',\n 'oxford-dictionary-of-english-free.en.softonic.com',\n 'www.amatech.it',\n 's-r-g.org',\n 'www.parallelimported.co.nz',\n 'snapchat.en.softonic.com',\n 'www.creativetechgadgets.com',\n 'appmobiworld.com',\n 'hifi-exquis.com',\n 'www.motostorm.it',\n 'www.shouselaw.com',\n 'www.tpl-au.com',\n 'www.treefortbikes.com',\n 'www.telecomvergelijker.nl',\n 'itsitadda.com',\n 'www.servisracunalarijeka.com',\n 'yelp.en.softonic.com',\n 'www.globosurfer.com',\n 'www.axiomtelecom.com',\n 'afterlight.en.softonic.com',\n 'www.soundoffdesign.com',\n 'able-engraving.co.uk',\n 'unlimited-free-vpn-by-betternet-unblock-any-website-wifi.en.softonic.com',\n 'www.phonepartworld.com',\n 'topcoolshop.com',\n 'www.zvezdnyjstil.ru',\n '7-minute-workout-seven.en.softonic.com',\n 'google-docs.en.softonic.com',\n 'top5voipproviders.com',\n 'executivecv.net',\n 'www.nordicbox.se',\n 'centramic.com',\n 'www.kiwavmotors.com',\n 'sgadget.net',\n 'www.shopzafirah.com',\n 'fonepaw-iphone-data-recovery.en.softonic.com',\n 'pt.ifixit.com',\n 'raru.co.za',\n 'www.casestyle.co.uk',\n 'thehungergamesmovies.net',\n 'inkawp.beantownthemes.com',\n 'rpshopee.com',\n 'www.toxic-cables.co.uk',\n 'www.sakshin.nl',\n 'www.mixedcase.nl',\n 'gadgetnote.com',\n 'casematic.com',\n 'www.improvementscatalog.com',\n 'www.mirabilia.net',\n 'medium.en.softonic.com',\n 'carousel-by-dropbox.en.softonic.com',\n 'marketapp.property',\n 'swagwp2.beantownthemes.com',\n 'viber.en.softonic.com',\n 'focussion.com',\n 'www.costumediscounters.com',\n 'parimatch-find5.com',\n 'www.bhbexpress.com',\n 'www.ufa-gorodok.ru',\n 'www.volgozapchast.ru',\n 'farming-simulator-16.en.softonic.com',\n 'www.click2tips.com',\n 'shop.minifigforlife.com',\n 'www.iphoneersatzteileshop.de',\n 'm.meilleurmobile.com',\n 'www.phoneshop.co.uk',\n 'weddingplanneronline.com.au',\n 'www.perekrestok-irk.ru',\n 'cowthrew.info',\n 'www.guitarjar.co.uk',\n 'www.askcomputers.ca',\n 'www.anti-corrupcioner.ru',\n 'techusiast.com',\n 'www.techglows.com',\n 'printertechsupportnumber.com',\n 'www.asseenontv-superstore.com',\n 'www.megatrvl.ru',\n 'bittrust.org',\n 'my-talking-angela.en.softonic.com',\n 'www.roofer-union.ru',\n 'ridermount.com',\n 'www.rosebikes.com',\n 'phonerescue.en.softonic.com',\n 'clickherenow.science',\n 'ctechguyana.com',\n 'www.shopican.ru',\n 'clarkkentshop.com',\n 'www.satking.de',\n 'can-you-escape.en.softonic.com',\n 'www.choklingtersar.ru',\n 'iphonespeakerreviews.com',\n 'www.pemusicstore.com',\n 'machinarium.en.softonic.com',\n 'english-urdu-translator-dictionary.en.softonic.com',\n 'britishsounds.co.uk',\n 'ringid.en.softonic.com',\n 'bellamstorage.com',\n 'www.entertainmentbuddha.com',\n 'www.cellsii.com',\n 'stickers-for-whatsapp-messenger.en.softonic.com',\n 'www.gadgetsarc.com',\n 'voiptoners.com',\n 'landscape-photography-blog.com',\n 'hotspot-shield-vpn.en.softonic.com',\n 'www.homesteadleather.com',\n 'www.sumobonsaisupply.com',\n 'www.gadgetsfirst.com',\n 'www.strobesnmore.com',\n 'www.jiophone.website',\n 'www.fxtribune.com',\n 'wengophone.en.softonic.com',\n 'www.blokesbags.co.uk',\n 'cdfbelize.com',\n 'nyvazebug.htw.pl',\n 'www.cabinet-fredericandco.fr',\n 'galle.vn',\n 'london-2012.en.softonic.com',\n 'daftarmaincapsa.org',\n 'www.quicktech.ca',\n 'fake-text-message-prank.en.softonic.com',\n 'www.shredmycouch.com',\n 'dcc.orbiteo.net',\n 'adobe-photoshop-fix.en.softonic.com',\n 'creative-destruction.en.softonic.com',\n 'cleanmyphone.en.softonic.com',\n 'tunein-radio-mobile.en.softonic.com',\n 'luxury.zappos.com',\n 'www.chromesack.com',\n 'photogrid.en.softonic.com',\n 'retirementgift.co',\n 'www.proofcasestore.com.au',\n 'atlantic-fleet.en.softonic.com',\n 'true-phone-dialer-contacts.en.softonic.com',\n 'sparks.mikado-themes.com',\n 'www.qayyem.com',\n 'divinemagazine.biz',\n 'microsoft-outlook.en.softonic.com',\n 'www.shopnwf.org',\n 'snapseed.en.softonic.com',\n 'www.algesterelectrical.net.au',\n 'www.bolsovercruiseclub.com',\n 'ios-10.en.softonic.com',\n 'weareexplorers.co',\n 'www.contactvirginmedia.com',\n 'passpartout-starving-artist.en.softonic.com',\n 'thebrotographer.com',\n 'iphone-whatsapp-transfer-for-mac.en.softonic.com',\n 'fancyknife.com',\n 'www.seetickets.com',\n 'scratchtrailer.com',\n 'www.okazii.ro',\n 'woodchuckmanila.com',\n 'bridalwearlancashire.co.uk',\n 'www.michaels.com',\n 'nisstan.se',\n 'restauranterosildos.com',\n ...]"
     },
     "execution_count": 10,
     "metadata": {},
     "output_type": "execute_result"
    }
   ],
   "source": [
    "df['netloc'].value_counts().index.to_list()"
   ]
  },
  {
   "cell_type": "code",
   "execution_count": 40,
   "metadata": {
    "ExecuteTime": {
     "end_time": "2020-08-06T10:16:19.541960Z",
     "start_time": "2020-08-06T10:16:18.724313Z"
    }
   },
   "outputs": [
    {
     "data": {
      "text/html": [
       "<div>\n",
       "<style scoped>\n",
       "    .dataframe tbody tr th:only-of-type {\n",
       "        vertical-align: middle;\n",
       "    }\n",
       "\n",
       "    .dataframe tbody tr th {\n",
       "        vertical-align: top;\n",
       "    }\n",
       "\n",
       "    .dataframe thead th {\n",
       "        text-align: right;\n",
       "    }\n",
       "</style>\n",
       "<table border=\"1\" class=\"dataframe\">\n",
       "  <thead>\n",
       "    <tr style=\"text-align: right;\">\n",
       "      <th></th>\n",
       "      <th>NODE</th>\n",
       "      <th>URL</th>\n",
       "      <th>REVIEWBODY</th>\n",
       "      <th>RATING</th>\n",
       "      <th>REVIEWRATING</th>\n",
       "      <th>BESTRATING</th>\n",
       "      <th>WORSTRATING</th>\n",
       "      <th>LANGUAGE</th>\n",
       "      <th>netloc</th>\n",
       "    </tr>\n",
       "  </thead>\n",
       "  <tbody>\n",
       "    <tr>\n",
       "      <td>count</td>\n",
       "      <td>35137</td>\n",
       "      <td>35137</td>\n",
       "      <td>35137</td>\n",
       "      <td>35137</td>\n",
       "      <td>35137</td>\n",
       "      <td>35137</td>\n",
       "      <td>35137</td>\n",
       "      <td>35137</td>\n",
       "      <td>35137</td>\n",
       "    </tr>\n",
       "    <tr>\n",
       "      <td>unique</td>\n",
       "      <td>35137</td>\n",
       "      <td>13647</td>\n",
       "      <td>35137</td>\n",
       "      <td>20595</td>\n",
       "      <td>72</td>\n",
       "      <td>8</td>\n",
       "      <td>6</td>\n",
       "      <td>1</td>\n",
       "      <td>9</td>\n",
       "    </tr>\n",
       "    <tr>\n",
       "      <td>top</td>\n",
       "      <td>_:znodeGTbPrfEow9J7kbPSiOG49NY9Mxo47tU</td>\n",
       "      <td>https://www.imdb.com/search/title/?title_type=...</td>\n",
       "      <td>\" Based on 2011's movie, Starbuck, this is Vau...</td>\n",
       "      <td>{'@type': 'Rating', 'worstRating': '1', 'bestR...</td>\n",
       "      <td>\"3.0\"@en</td>\n",
       "      <td>10</td>\n",
       "      <td>1</td>\n",
       "      <td>en</td>\n",
       "      <td>www.imdb.com</td>\n",
       "    </tr>\n",
       "    <tr>\n",
       "      <td>freq</td>\n",
       "      <td>1</td>\n",
       "      <td>953</td>\n",
       "      <td>1</td>\n",
       "      <td>2724</td>\n",
       "      <td>2802</td>\n",
       "      <td>14552</td>\n",
       "      <td>14552</td>\n",
       "      <td>35137</td>\n",
       "      <td>14552</td>\n",
       "    </tr>\n",
       "  </tbody>\n",
       "</table>\n",
       "</div>"
      ],
      "text/plain": [
       "                                          NODE  \\\n",
       "count                                    35137   \n",
       "unique                                   35137   \n",
       "top     _:znodeGTbPrfEow9J7kbPSiOG49NY9Mxo47tU   \n",
       "freq                                         1   \n",
       "\n",
       "                                                      URL  \\\n",
       "count                                               35137   \n",
       "unique                                              13647   \n",
       "top     https://www.imdb.com/search/title/?title_type=...   \n",
       "freq                                                  953   \n",
       "\n",
       "                                               REVIEWBODY  \\\n",
       "count                                               35137   \n",
       "unique                                              35137   \n",
       "top     \" Based on 2011's movie, Starbuck, this is Vau...   \n",
       "freq                                                    1   \n",
       "\n",
       "                                                   RATING REVIEWRATING  \\\n",
       "count                                               35137        35137   \n",
       "unique                                              20595           72   \n",
       "top     {'@type': 'Rating', 'worstRating': '1', 'bestR...     \"3.0\"@en   \n",
       "freq                                                 2724         2802   \n",
       "\n",
       "       BESTRATING WORSTRATING LANGUAGE        netloc  \n",
       "count       35137       35137    35137         35137  \n",
       "unique          8           6        1             9  \n",
       "top            10           1       en  www.imdb.com  \n",
       "freq        14552       14552    35137         14552  "
      ]
     },
     "execution_count": 40,
     "metadata": {},
     "output_type": "execute_result"
    }
   ],
   "source": [
    "# Clean up if the values are not accepable, e.g Null@en\n",
    "df = df[df.REVIEWRATING!='\"Null\"@en']\n",
    "df = df[df.REVIEWRATING!='\"Null\"']\n",
    "df = df[df.BESTRATING!='\"Null\"@en-US']\n",
    "df = df[df.BESTRATING!='\"Null\"']\n",
    "df = df[df.WORSTRATING!='\"Null\"@en-US']\n",
    "df = df[df.WORSTRATING!='\"Null\"']\n",
    "df.head()\n",
    "df.describe()"
   ]
  },
  {
   "cell_type": "code",
   "execution_count": 45,
   "metadata": {
    "ExecuteTime": {
     "end_time": "2020-08-06T12:19:54.561311Z",
     "start_time": "2020-08-06T12:19:54.304611Z"
    }
   },
   "outputs": [
    {
     "data": {
      "text/plain": [
       "['10',\n",
       " '\"4.0\"@en',\n",
       " '\"10\"@en-US',\n",
       " '\"99\"@en-US',\n",
       " '\"5\"@en',\n",
       " '\"4.0\"@en-US',\n",
       " '\"5\"@en-US',\n",
       " '\"4\"@en-CA']"
      ]
     },
     "execution_count": 45,
     "metadata": {},
     "output_type": "execute_result"
    }
   ],
   "source": [
    "#df['REVIEWRATING'].value_counts().index.tolist()\n",
    "\n",
    "df['BESTRATING'].value_counts().index.tolist()\n",
    "\n",
    "#df['WORSTRATING'].value_counts().index.tolist()"
   ]
  },
  {
   "cell_type": "code",
   "execution_count": 50,
   "metadata": {
    "ExecuteTime": {
     "end_time": "2020-08-06T12:23:10.569500Z",
     "start_time": "2020-08-06T12:23:10.012420Z"
    }
   },
   "outputs": [
    {
     "data": {
      "text/plain": [
       "106197    None\n",
       "106199    None\n",
       "106201    None\n",
       "106203    None\n",
       "106205    None\n",
       "          ... \n",
       "213531    None\n",
       "213532    None\n",
       "213533    None\n",
       "213534    None\n",
       "213535    None\n",
       "Name: REVIEWRATING, Length: 35137, dtype: object"
      ]
     },
     "execution_count": 50,
     "metadata": {},
     "output_type": "execute_result"
    }
   ],
   "source": [
    "def cutout(value):\n",
    "    try:\n",
    "        value = value.split('&')[0]\n",
    "    except:\n",
    "        print(\"Error:\" + value)\n",
    "\n",
    "df['REVIEWRATING'].apply(cutout)"
   ]
  },
  {
   "cell_type": "code",
   "execution_count": null,
   "metadata": {
    "pycharm": {
     "is_executing": true,
     "name": "#%%\n"
    }
   },
   "outputs": [],
   "source": [
    "phone_lst = ['smartphone', 'phone',\n",
    "             'phone case', 'phone cable', 'phone charger', 'phone mount',\n",
    "             'cell phone', 'mobile phone']\n",
    "contains = [df_en['a'].str.contains(i) for i in phone_lst]\n",
    "result = df_en[np.all(contains, axis=0)]\n",
    "\n",
    "# df_phone = df_en[df_en['REVIEWBODY'].isin(phone_lst)]\n",
    "# print(df_phone.head())\n",
    "# ANGUAGE'] == \"en\"]\n",
    "df_en.head()"
   ]
  }
 ],
 "metadata": {
  "kernelspec": {
   "display_name": "Python 3",
   "language": "python",
   "name": "python3"
  },
  "language_info": {
   "codemirror_mode": {
    "name": "ipython",
    "version": 3
   },
   "file_extension": ".py",
   "mimetype": "text/x-python",
   "name": "python",
   "nbconvert_exporter": "python",
   "pygments_lexer": "ipython3",
   "version": "3.6.9"
  },
  "toc": {
   "base_numbering": 1,
   "nav_menu": {},
   "number_sections": true,
   "sideBar": true,
   "skip_h1_title": false,
   "title_cell": "Table of Contents",
   "title_sidebar": "Contents",
   "toc_cell": false,
   "toc_position": {},
   "toc_section_display": true,
   "toc_window_display": false
  },
  "varInspector": {
   "cols": {
    "lenName": 16,
    "lenType": 16,
    "lenVar": 40
   },
   "kernels_config": {
    "python": {
     "delete_cmd_postfix": "",
     "delete_cmd_prefix": "del ",
     "library": "var_list.py",
     "varRefreshCmd": "print(var_dic_list())"
    },
    "r": {
     "delete_cmd_postfix": ") ",
     "delete_cmd_prefix": "rm(",
     "library": "var_list.r",
     "varRefreshCmd": "cat(var_dic_list()) "
    }
   },
   "types_to_exclude": [
    "module",
    "function",
    "builtin_function_or_method",
    "instance",
    "_Feature"
   ],
   "window_display": false
  }
 },
 "nbformat": 4,
 "nbformat_minor": 1
}