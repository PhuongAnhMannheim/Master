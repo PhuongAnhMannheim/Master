{
 "cells": [
  {
   "cell_type": "code",
   "execution_count": 1,
   "metadata": {
    "collapsed": true
   },
   "outputs": [],
   "source": [
    "from bs4 import BeautifulSoup\n",
    "from requests import get\n",
    "import json\n",
    "import random\n",
    "import string\n",
    "import sqlite3\n",
    "import logging\n"
   ]
  },
  {
   "cell_type": "code",
   "execution_count": 2,
   "metadata": {
    "pycharm": {
     "name": "#%%\n"
    }
   },
   "outputs": [],
   "source": [
    "# no list to check whether already included\n",
    "\n",
    "db_path = '../Data/test.db'\n",
    "db_name = 'test'\n",
    "log_path = '../Logs/test.log'\n",
    "conn = sqlite3.connect(db_path)\n",
    "c = conn.cursor()\n",
    "\n",
    "logger = logging.getLogger()\n",
    "fhandler = logging.FileHandler(filename=log_path, mode='a')\n",
    "formatter = logging.Formatter('%(asctime)s - %(name)s - %(levelname)s - %(message)s')\n",
    "fhandler.setFormatter(formatter)\n",
    "logger.addHandler(fhandler)\n",
    "logger.setLevel(logging.DEBUG)"
   ]
  },
  {
   "cell_type": "code",
   "execution_count": 3,
   "metadata": {
    "pycharm": {
     "name": "#%%\n"
    }
   },
   "outputs": [
    {
     "name": "stdout",
     "output_type": "stream",
     "text": [
      "_:znode4e62zX13OS6R2dMX0Ny6shtvkie3182\n"
     ]
    }
   ],
   "source": [
    "def generateNode(length):\n",
    "    letters_and_digits = string.ascii_letters +  string.digits\n",
    "    result_str = ''.join((random.choice(letters_and_digits) for i in range(length)))\n",
    "    node = \"_:znode\" + result_str\n",
    "    return node\n",
    "\n",
    "review_count = 0\n",
    "no_annotation = 0\n",
    "no_rating = 0\n",
    "\n",
    "for page in range (1,414):\n",
    "    url = f'https://www.rollingstone.com/movies/movie-reviews/page/{page}/'\n",
    "    soup = BeautifulSoup(get(url).text, 'lxml')\n",
    "    movie_container = soup.find_all(\"a\", class_=\"c-card__wrap\")\n",
    "    for link in movie_container:\n",
    "        review_link = link.get('href')\n",
    "        if not \"movie-reviews\" in review_link:\n",
    "            pass\n",
    "        else:\n",
    "            review_soup = BeautifulSoup(get(review_link).text, 'lxml')\n",
    "            review_html = review_soup.find(id=\"pmc-movie-review-snippet\")\n",
    "            if review_html is None:\n",
    "                no_annotation += 1\n",
    "            else:\n",
    "                for item in review_html:\n",
    "                    jsonExtract = str(item).split('\\n')[2].replace(\";\", \"\")\n",
    "                data = json.loads(\"\".join(jsonExtract))\n",
    "\n",
    "                reviewBody = data['description']\n",
    "                ratingValue = str(data['reviewRating']['ratingValue'])\n",
    "                bestRating = str(data['reviewRating']['bestRating'])\n",
    "                worstRating = str(data['reviewRating']['worstRating'])\n",
    "                reviewRating = \"already included\"\n",
    "\n",
    "                node = generateNode(31)\n",
    "                c.execute(f\"INSERT OR IGNORE INTO {db_name} (NODE, URL, REVIEWBODY, RATING, REVIEWRATING, BESTRATING, WORSTRATING) VALUES (?,?,?,?,?,?,?);\",(node,review_link,reviewBody,str(reviewRating),ratingValue,bestRating,worstRating))\n",
    "                conn.commit()\n",
    "                review_count += 1\n",
    "\n",
    "logging.debug(\"Reviews extracted: \" + str(review_count) + \" , reviews without Review Annotation: \" + str(no_annotation))\n"
   ]
  },
  {
   "cell_type": "code",
   "execution_count": null,
   "outputs": [],
   "source": [
    "#     # print(link.get('href'))\n",
    "#     if review_link is not None:\n",
    "#         if review_link.endswith('html'):\n",
    "#             review_soup = BeautifulSoup(get(review_link).text, 'lxml')\n",
    "#             review_html = review_soup.find(\"div\", itemtype=\"http://schema.org/Review\")\n",
    "#             # print(review_html)\n",
    "#             reviewBody = \"\"\n",
    "#             if review_html is None:\n",
    "#                 print(\"Kein Review Annotation\")\n",
    "#                 no_annotation += 1\n",
    "#             else:\n",
    "#                 reviewBody_html = review_html.find_all(\"div\", class_=\"reviewtext\")\n",
    "#                 reviewRating = review_soup.find(\"div\", itemtype=\"http://schema.org/Rating\")\n",
    "#                 for item in reviewBody_html:\n",
    "#                     reviewBody += item.p.text\n",
    "#\n",
    "\n",
    "\n",
    "\n",
    "# Snippets\n",
    "\n",
    "# review_soup = BeautifulSoup(get(review_link).text, 'lxml')\n",
    "# review_html = review_soup.find(\"div\", itemtype=\"http://schema.org/Review\")\n",
    "\n",
    "# data = json.loads(\"\".join(review_soup.find_all(\"script\", {\"type\":\"application/ld+json\"}).contents))\n",
    "\n",
    "# reviewBody_html = review_html.find_all(\"div\", class_=\"reviewtext\")\n",
    "# reviewRating = review_soup.find(\"div\", itemtype=\"http://schema.org/Rating\")\n",
    "\n",
    "# reviewBody += item.p.text\n",
    "\n",
    "# worstRating = reviewRating.find(\"meta\", itemprop=\"worstRating\")[\"content\"]\n",
    "# bestRating = reviewRating.find(\"meta\", itemprop=\"bestRating\")[\"content\"]\n",
    "# ratingValue = reviewRating.find(\"meta\", itemprop=\"ratingValue\")[\"content\"]\n",
    "\n",
    "# print('node:' + node)\n",
    "# print('url: '+ review_link)\n",
    "# print('reviewBody: ' + reviewBody)\n",
    "# print('worstRating: ' + worstRating)\n",
    "# print('bestRating: ' + bestRating)\n",
    "# print('ratingValue: ' + ratingValue)\n",
    "\n",
    "# c.execute(f\"INSERT OR IGNORE INTO {db_name} (NODE, URL, REVIEWBODY, RATING, REVIEWRATING, BESTRATING, WORSTRATING) VALUES (?,?,?,?,?,?,?);\",(node,review_link,reviewBody,str(reviewRating),ratingValue,bestRating,worstRating))\n",
    "# conn.commit()\n",
    "\n",
    "# soup = BeautifulSoup(get(url).text, 'html.parser')\n",
    "# movie_container = soup.find_all(\"div\", class_=\"entry post clearfix\")\n",
    "# for link in movie_container[0].find_all(\"a\"):\n",
    "#     review_link = link.get('href')\n",
    "#     print(link.get('href'))\n",
    "#     if review_link is not None:\n",
    "#         if review_link.endswith('html'):\n",
    "#             if review_link in current_reviews:\n",
    "#                 pass\n",
    "#             else:\n",
    "#                 print(review_link)\n",
    "#                 manche haben schema.org/Review nicht drin\n",
    "#                 review_count += 1\n",
    "#         if review_link.endswith('html') & review_link not in current_reviews:\n",
    "#             print(review_link)\n",
    "#         else:\n",
    "#             pass\n",
    "#                 #nicht alle Einträge sind vollständig (fehlende Bewertung)\n",
    "#                 # review_count += 1\n",
    "#     else:\n",
    "#         pass"
   ],
   "metadata": {
    "collapsed": false,
    "pycharm": {
     "name": "#%%\n"
    }
   }
  }
 ],
 "metadata": {
  "kernelspec": {
   "display_name": "Python 3",
   "language": "python",
   "name": "python3"
  },
  "language_info": {
   "codemirror_mode": {
    "name": "ipython",
    "version": 3
   },
   "file_extension": ".py",
   "mimetype": "text/x-python",
   "name": "python",
   "nbconvert_exporter": "python",
   "pygments_lexer": "ipython3",
   "version": "3.6.9"
  },
  "toc": {
   "base_numbering": 1,
   "nav_menu": {},
   "number_sections": true,
   "sideBar": true,
   "skip_h1_title": false,
   "title_cell": "Table of Contents",
   "title_sidebar": "Contents",
   "toc_cell": false,
   "toc_position": {},
   "toc_section_display": true,
   "toc_window_display": false
  },
  "varInspector": {
   "cols": {
    "lenName": 16,
    "lenType": 16,
    "lenVar": 40
   },
   "kernels_config": {
    "python": {
     "delete_cmd_postfix": "",
     "delete_cmd_prefix": "del ",
     "library": "var_list.py",
     "varRefreshCmd": "print(var_dic_list())"
    },
    "r": {
     "delete_cmd_postfix": ") ",
     "delete_cmd_prefix": "rm(",
     "library": "var_list.r",
     "varRefreshCmd": "cat(var_dic_list()) "
    }
   },
   "types_to_exclude": [
    "module",
    "function",
    "builtin_function_or_method",
    "instance",
    "_Feature"
   ],
   "window_display": false
  }
 },
 "nbformat": 4,
 "nbformat_minor": 1
}