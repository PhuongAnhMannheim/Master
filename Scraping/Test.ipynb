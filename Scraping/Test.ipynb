{
 "cells": [
  {
   "cell_type": "code",
   "execution_count": 3,
   "metadata": {
    "collapsed": true,
    "pycharm": {
     "name": "#%%\n"
    }
   },
   "outputs": [],
   "source": [
    "from bs4 import BeautifulSoup\n",
    "from requests import get\n",
    "import random\n",
    "import string\n",
    "import sqlite3\n",
    "import json\n",
    "import logging\n",
    "import pandas as pd\n",
    "\n",
    "# Input\n",
    "already_file = 'already_links_in/telegraph.txt'\n",
    "current_reviews = set(line.strip() for line in open(already_file))\n",
    "\n",
    "# Output\n",
    "log_path = '../Logs/test.log'\n",
    "db_path = '../Data/moviewreviews.db'\n",
    "db_name = 'moviereviews'\n",
    "conn = sqlite3.connect(db_path)\n",
    "c = conn.cursor()\n",
    "#\n",
    "logger = logging.getLogger()\n",
    "fhandler = logging.FileHandler(filename=log_path, mode='a')\n",
    "formatter = logging.Formatter('%(asctime)s - %(name)s - %(levelname)s - %(message)s')\n",
    "fhandler.setFormatter(formatter)\n",
    "logger.addHandler(fhandler)\n",
    "logger.setLevel(logging.DEBUG)\n",
    "\n",
    "# Input\n",
    "df = pd.read_sql_query(\"SELECT * from \" + str(db_name), conn)\n",
    "df.dropna()\n",
    "df_new = df[df.REVIEWBODY.notnull() & df.URL.str.contains('in.bookmyshow')]\n",
    "df_new.describe()\n",
    "df_new.drop(['RATING', 'REVIEWRATING', 'BESTRATING', 'WORSTRATING'], axis = 1)\n",
    "\n",
    "\n",
    "for index, row in df_new.iterrows():\n",
    "    node = row['NODE']\n",
    "    url = row['URL']\n",
    "    if row['REVIEWBODY'] == '<null>':\n",
    "        print(\"HEY!\")\n",
    "    # body = row['REVIEWBODY'].split(\"\\\"\")[1]\n",
    "\n",
    "    # response = get(url)\n",
    "    # soup = BeautifulSoup(response.text, 'lxml')\n",
    "    # for a in soup.find_all('div', itemprop='review'):\n",
    "    #     review = a.find_all('meta', itemprop='description')\n",
    "    #     if len(review) == 0:\n",
    "    #         pass\n",
    "    #     else:\n",
    "    #         content = review[0]['content']\n",
    "    #         if content == body:\n",
    "    #             ratingValue = a.find('span', itemprop='ratingValue')['content']\n",
    "    #             update_qry = f'UPDATE {db_name} SET REVIEWRATING = {ratingValue} WHERE NODE = ? AND URL = ? ;'\n",
    "    #             c.execute(update_qry, [node,url])\n",
    "    #             conn.commit()"
   ]
  },
  {
   "cell_type": "code",
   "execution_count": null,
   "outputs": [],
   "source": [
    "def generateNode(length):\n",
    "    letters_and_digits = string.ascii_letters + string.digits\n",
    "    result_str = ''.join((random.choice(letters_and_digits) for i in range(length)))\n",
    "    node = \"_:znode\" + result_str\n",
    "    return node\n",
    "\n",
    "already_count = 0\n",
    "no_annotation = 0\n",
    "review_count = 0\n",
    "\n",
    "review_link ='https://www.telegraph.co.uk/films/0/avengers-endgame-review-spoilers-end-credits-ending-explained/'\n",
    "if (review_link in current_reviews):\n",
    "    already_count += 1\n",
    "    pass\n",
    "else:\n",
    "    review_soup = BeautifulSoup(get(review_link).text, 'lxml')\n",
    "    has_annotation = review_soup.find('main', itemtype='https://schema.org/Review')\n",
    "    if has_annotation is None:\n",
    "        no_annotation += 1\n",
    "        pass\n",
    "    else:\n",
    "        review = has_annotation.find('article', itemprop='reviewBody')\n",
    "        body = review.find_all('p')\n",
    "        reviewBody = \"\"\n",
    "        other_reviewBody = \"\"\n",
    "        for item in body:\n",
    "            # if len(reviewBody) < 2000000000:\n",
    "            reviewBody = reviewBody + item.text\n",
    "            # else:\n",
    "            #     other_reviewBody =\n",
    "        reviewRating = \"already included\"\n",
    "        ratingValue = has_annotation.find('span', itemprop='reviewRating').find('span', class_='entity-property-numeric-score').text\n",
    "        worstRating = \"1\"\n",
    "        bestRating = \"5\"\n",
    "        node = generateNode(31)\n",
    "        # try:\n",
    "        #     c.execute(f\"INSERT OR IGNORE INTO {db_name} (NODE, URL, REVIEWBODY, RATING, REVIEWRATING, BESTRATING, WORSTRATING) VALUES (?,?,?,?,?,?,?);\",(node,review_link,reviewBody,str(reviewRating),ratingValue,bestRating,worstRating))\n",
    "        #     conn.commit()\n",
    "        # except Exception as e:\n",
    "        #     logging.debug(\"Error at \" + str(review_link))\n",
    "        #     logging.debug(\"Length des Strings \" + str(len(reviewBody)))\n",
    "        #     raise(e)\n",
    "        print(reviewBody)\n",
    "    review_count += 1\n",
    "\n",
    "logging.debug(\"Reviews extracted: \" + str(review_count))\n",
    "logging.debug(\"Reviews without Review Annotation: \" + str(no_annotation))\n",
    "logging.debug(\"Already included: \" + str(already_count))"
   ],
   "metadata": {
    "collapsed": false,
    "pycharm": {
     "name": "#%%\n"
    }
   }
  },
  {
   "cell_type": "code",
   "execution_count": 9,
   "outputs": [],
   "source": [
    "print(reviewBody)"
   ],
   "metadata": {
    "collapsed": false,
    "pycharm": {
     "name": "#%%\n"
    }
   }
  },
  {
   "cell_type": "code",
   "execution_count": null,
   "outputs": [],
   "source": [
    "fail_set = set()\n",
    "fail_set.add('https://www.empireonline.com/movies/reviews/love-wedding-repeat/')\n",
    "fail_set.add('https://www.empireonline.com/movies/reviews/downhill/')\n",
    "fail_set.add('https://www.empireonline.com/movies/reviews/black-christmas-2019/')\n",
    "fail_set.add('https://www.empireonline.com/movies/reviews/i-lost-my-body/')"
   ],
   "metadata": {
    "collapsed": false,
    "pycharm": {
     "name": "#%%\n"
    }
   }
  },
  {
   "cell_type": "code",
   "execution_count": 124,
   "outputs": [
    {
     "name": "stderr",
     "output_type": "stream",
     "text": [
      "DEBUG:urllib3.connectionpool:Starting new HTTPS connection (1): www.empireonline.com:443\n",
      "DEBUG:urllib3.connectionpool:https://www.empireonline.com:443 \"GET /movies/reviews/love-wedding-repeat/ HTTP/1.1\" 200 None\n",
      "DEBUG:urllib3.connectionpool:Starting new HTTPS connection (1): www.empireonline.com:443\n",
      "DEBUG:urllib3.connectionpool:https://www.empireonline.com:443 \"GET /movies/reviews/i-lost-my-body/ HTTP/1.1\" 200 None\n",
      "DEBUG:urllib3.connectionpool:Starting new HTTPS connection (1): www.empireonline.com:443\n",
      "DEBUG:urllib3.connectionpool:https://www.empireonline.com:443 \"GET /movies/reviews/downhill/ HTTP/1.1\" 200 None\n",
      "DEBUG:urllib3.connectionpool:Starting new HTTPS connection (1): www.empireonline.com:443\n",
      "DEBUG:urllib3.connectionpool:https://www.empireonline.com:443 \"GET /movies/reviews/black-christmas-2019/ HTTP/1.1\" 200 None\n",
      "DEBUG:urllib3.connectionpool:Starting new HTTPS connection (1): www.empireonline.com:443\n",
      "DEBUG:urllib3.connectionpool:https://www.empireonline.com:443 \"GET /movies/reviews/the-day-shall-come/ HTTP/1.1\" 200 None\n"
     ]
    },
    {
     "name": "stdout",
     "output_type": "stream",
     "text": [
      "node:_:znode5O61iJ0AW6bVif0SlhJtrHV8tabWgJs\n",
      "url: https://www.empireonline.com/movies/reviews/love-wedding-repeat/\n",
      "reviewBody: Itâs Sliding Doors with place settings, but Love Wedding Repeat canât make its time-loop conceit work (stick with About Time). Bouquets to the cast and production values; a quickie divorce from everything else.\n",
      "worstRating: 1\n",
      "bestRating: 5\n",
      "ratingValue: 2\n",
      "node:_:znodeRgEtW3iSxnRjgs7v3MZDInsYBTEHd8m\n",
      "url: https://www.empireonline.com/movies/reviews/i-lost-my-body/\n",
      "reviewBody: If itâs slightly hampered by a generic love story and pie-in-the-sky teenage pontificating, I Lost My Body should still rank among the yearâs most original and peculiar films. Hands down.\n",
      "worstRating: 1\n",
      "bestRating: 5\n",
      "ratingValue: 3\n",
      "node:_:znodeoZAYF375M574Iscawz1Z4gWZb8ZBaCd\n",
      "url: https://www.empireonline.com/movies/reviews/downhill/\n",
      "reviewBody: Like a lot of remakes, Downhill doesnât quite make the argument for its existence. But career-topping performances from Ferrell and Louis-Dreyfus and an unusually frosty comedic tone make this a mostly rewarding day on the slopes.\n",
      "worstRating: 1\n",
      "bestRating: 5\n",
      "ratingValue: 3\n",
      "node:_:znodeGZCM6uGDyYolRgq8vxxqKWFNJD32CWk\n",
      "url: https://www.empireonline.com/movies/reviews/black-christmas-2019/\n",
      "reviewBody: A feminist horror flick that lacks nuance in its feminism and thrills in its horror. But it should be applauded for reinterpreting rather than just retreading the original.\n",
      "worstRating: 1\n",
      "bestRating: 5\n",
      "ratingValue: 2\n",
      "node:_:znode0G3RepYbwEntRktzm3vJporoVA4raIW\n",
      "url: https://www.empireonline.com/movies/reviews/the-day-shall-come/\n",
      "reviewBody: A hilarious, unexpectedly heartbreaking farce that proves that Chris Morris is still a hugely important voice in telling the stories that we find hardest to hear.\n",
      "worstRating: 1\n",
      "bestRating: 5\n",
      "ratingValue: 4\n"
     ]
    }
   ],
   "source": [
    "while len(fail_lst)>0:\n",
    "    for i in fail_lst:\n",
    "        review_link = i\n",
    "        response = get(review_link)\n",
    "        if response.status_code == 404:\n",
    "            pass\n",
    "        else:\n",
    "            try:\n",
    "                review_soup = BeautifulSoup(response.text, 'lxml')\n",
    "                data = json.loads(\"\".join(review_soup.find(\"script\", {\"type\": \"application/ld+json\"}).contents),strict=False)\n",
    "                if not data['@type'] == \"review\":\n",
    "                    no_annotation += 1\n",
    "                    pass\n",
    "                else:\n",
    "                    reviewBody = data['description'].replace('\\n','')\n",
    "                    worstRating = data['reviewRating']['worstRating']\n",
    "                    bestRating = data['reviewRating']['bestRating']\n",
    "                    ratingValue = data['reviewRating']['ratingValue']\n",
    "                    reviewRating = \"already included\"\n",
    "                    node = generateNode(31)\n",
    "                    c.execute(f\"INSERT OR IGNORE INTO {db_name} (NODE, URL, REVIEWBODY, RATING, REVIEWRATING, BESTRATING, WORSTRATING) VALUES (?,?,?,?,?,?,?);\", (node, review_link, reviewBody, str(reviewRating), ratingValue, bestRating, worstRating))\n",
    "                    conn.commit()\n",
    "                    review_count += 1\n",
    "                    fail_lst.remove(review_link)\n",
    "            except Exception as e:\n",
    "                logging.debug(\"Error: \" + str(review_link))\n",
    "                logging.debug(str(review_soup))\n",
    "                raise(e)"
   ],
   "metadata": {
    "collapsed": false,
    "pycharm": {
     "name": "#%%\n"
    }
   }
  },
  {
   "cell_type": "code",
   "execution_count": 125,
   "outputs": [],
   "source": [
    "for i in fail_lst:\n",
    "    review_link = i\n",
    "    print(review_link)"
   ],
   "metadata": {
    "collapsed": false,
    "pycharm": {
     "name": "#%%\n"
    }
   }
  },
  {
   "cell_type": "code",
   "execution_count": 122,
   "outputs": [],
   "source": [
    "fail_lst.append('https://www.empireonline.com/movies/reviews/love-wedding-repeat/')\n",
    "fail_lst.append('https://www.empireonline.com/movies/reviews/black-christmas-2019/')\n",
    "fail_lst.append('https://www.empireonline.com/movies/reviews/i-lost-my-body/')\n",
    "fail_lst.append('https://www.empireonline.com/movies/reviews/the-day-shall-come/')\n",
    "fail_lst.append('https://www.empireonline.com/movies/reviews/downhill/')"
   ],
   "metadata": {
    "collapsed": false,
    "pycharm": {
     "name": "#%%\n"
    }
   }
  },
  {
   "cell_type": "code",
   "execution_count": 119,
   "outputs": [
    {
     "name": "stdout",
     "output_type": "stream",
     "text": [
      "5\n"
     ]
    }
   ],
   "source": [
    "print(len(fail_lst))\n",
    "\n"
   ],
   "metadata": {
    "collapsed": false,
    "pycharm": {
     "name": "#%%\n"
    }
   }
  }
 ],
 "metadata": {
  "kernelspec": {
   "display_name": "Python 3",
   "language": "python",
   "name": "python3"
  },
  "language_info": {
   "codemirror_mode": {
    "name": "ipython",
    "version": 2
   },
   "file_extension": ".py",
   "mimetype": "text/x-python",
   "name": "python",
   "nbconvert_exporter": "python",
   "pygments_lexer": "ipython2",
   "version": "2.7.6"
  }
 },
 "nbformat": 4,
 "nbformat_minor": 0
}