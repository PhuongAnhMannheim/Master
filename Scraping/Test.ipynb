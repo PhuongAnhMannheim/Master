{
 "cells": [
  {
   "cell_type": "code",
   "execution_count": 20,
   "outputs": [
    {
     "name": "stdout",
     "output_type": "stream",
     "text": [
      "Done https://www.techadvisor.co.uk/ - Reviews extracted: 1 out of 1\n",
      "without Rating: 0, problems: 0\n"
     ]
    }
   ],
   "source": [
    "from bs4 import BeautifulSoup\n",
    "from requests import get\n",
    "import random\n",
    "import string\n",
    "import sqlite3\n",
    "import logging\n",
    "\n",
    "# Input/ Output\n",
    "db_path = '../Data/test.db'\n",
    "db_name = 'test'\n",
    "log_path = '../Logs/test.log'\n",
    "conn = sqlite3.connect(db_path)\n",
    "c = conn.cursor()\n",
    "\n",
    "# Input\n",
    "current_file = '../Scraping/already_links_in/techadvisor.txt'\n",
    "current_reviews = set(line.strip() for line in open(current_file))\n",
    "\n",
    "logger = logging.getLogger()\n",
    "fhandler = logging.FileHandler(filename=log_path, mode='a')\n",
    "formatter = logging.Formatter('%(asctime)s - %(name)s - %(levelname)s - %(message)s')\n",
    "fhandler.setFormatter(formatter)\n",
    "logger.addHandler(fhandler)\n",
    "logger.setLevel(logging.DEBUG)\n",
    "\n",
    "host = \"https://www.techadvisor.co.uk/\"\n",
    "review_count = 0\n",
    "no_annotation = 0\n",
    "no_rating = 0\n",
    "already_count = 0\n",
    "problem_count = 0\n",
    "extract_count = 0\n",
    "\n",
    "def generateNode(length):\n",
    "    letters_and_digits = string.ascii_letters +  string.digits\n",
    "    result_str = ''.join((random.choice(letters_and_digits) for i in range(length)))\n",
    "    node = \"_:znode\" + result_str\n",
    "    return node\n",
    "review_link = 'https://www.techadvisor.co.uk/review/honor-magic-watch-2-3781755/'\n",
    "review_count += 1\n",
    "if review_link in current_reviews:\n",
    "    already_count = 0\n",
    "    # continue\n",
    "    pass\n",
    "else:\n",
    "    response = get(review_link)\n",
    "    soup = BeautifulSoup(response.text, 'lxml')\n",
    "    review = soup.find('section', id='articleBody')\n",
    "    node = generateNode(31)\n",
    "    url = review_link\n",
    "    reviewText = review.find('div', itemprop='reviewBody')\n",
    "    if reviewText.find('section') is None:\n",
    "        pass\n",
    "    else:\n",
    "        reviewText.find('section').decompose()\n",
    "    reviewBody = reviewText.text.strip()\n",
    "    try:\n",
    "        ratingValue = review.find('meta', itemprop='ratingValue')['content']\n",
    "        bestRating = review.find('meta', itemprop='bestRating')['content']\n",
    "        worstRating = review.find('meta', itemprop='worstRating')['content']\n",
    "        reviewRating = ''\n",
    "        c.execute(f\"INSERT OR IGNORE INTO {db_name} (NODE, URL, REVIEWBODY, RATING, REVIEWRATING, BESTRATING, WORSTRATING) VALUES (?,?,?,?,?,?,?);\",(node,review_link,reviewBody,str(reviewRating),ratingValue,bestRating,worstRating))\n",
    "        conn.commit()\n",
    "        extract_count += 1\n",
    "    except:\n",
    "        no_rating += 1\n",
    "print(f\"Done {host} - Reviews extracted: \" + str(extract_count) + \" out of \" + str(review_count))\n",
    "print(\"without Rating: \" + str(no_rating) + \", problems: \" + str(problem_count))"
   ],
   "metadata": {
    "collapsed": false,
    "pycharm": {
     "name": "#%%\n"
    }
   }
  }
 ],
 "metadata": {
  "kernelspec": {
   "display_name": "Python 3",
   "language": "python",
   "name": "python3"
  },
  "language_info": {
   "codemirror_mode": {
    "name": "ipython",
    "version": 2
   },
   "file_extension": ".py",
   "mimetype": "text/x-python",
   "name": "python",
   "nbconvert_exporter": "python",
   "pygments_lexer": "ipython2",
   "version": "2.7.6"
  }
 },
 "nbformat": 4,
 "nbformat_minor": 0
}