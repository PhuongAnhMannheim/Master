{
 "cells": [
  {
   "cell_type": "code",
   "execution_count": 3,
   "outputs": [],
   "source": [
    "from bs4 import BeautifulSoup\n",
    "from requests import get\n",
    "import sqlite3\n",
    "import logging\n",
    "import json\n",
    "import string\n",
    "import random\n",
    "\n",
    "# Input/ Output\n",
    "db_path = '../Data/test.db'\n",
    "db_name = 'test'\n",
    "log_path = '../Logs/test.log'\n",
    "conn = sqlite3.connect(db_path)\n",
    "c = conn.cursor()\n",
    "\n",
    "# Input\n",
    "current_file = '../Scraping/already_links_in/techadvisor.txt'\n",
    "current_reviews = set(line.strip() for line in open(current_file))\n",
    "\n",
    "logger = logging.getLogger()\n",
    "fhandler = logging.FileHandler(filename=log_path, mode='a')\n",
    "formatter = logging.Formatter('%(asctime)s - %(name)s - %(levelname)s - %(message)s')\n",
    "fhandler.setFormatter(formatter)\n",
    "logger.addHandler(fhandler)\n",
    "logger.setLevel(logging.DEBUG)\n",
    "\n",
    "host = \"https://www.cnet.com/\"\n",
    "review_cnt = 0\n",
    "already_cnt = 0\n",
    "no_annotation = 0\n",
    "no_rating = 0\n",
    "no_text = 0\n",
    "extracted_cnt = 0\n",
    "\n",
    "def generateNode(length):\n",
    "    letters_and_digits = string.ascii_letters +  string.digits\n",
    "    result_str = ''.join((random.choice(letters_and_digits) for i in range(length)))\n",
    "    node = \"_:znode\" + result_str\n",
    "    return node"
   ],
   "metadata": {
    "collapsed": false,
    "pycharm": {
     "name": "#%%\n"
    }
   }
  },
  {
   "cell_type": "code",
   "execution_count": 52,
   "outputs": [
    {
     "name": "stdout",
     "output_type": "stream",
     "text": [
      "node:_:znodeleqrTvJqNXFbNPaASIEUGVSuED0yeB0\n",
      "url: https://www.cnet.com/reviews/samsung-galaxy-s20-plus-5g-review/\n",
      "reviewBody: In Samsung's Galaxy S20 world, the S20 Plus is most in need of an identity. Smack dab in the middle of the smaller, cheaper Galaxy S20 and the gargantuan Galaxy S20 Ultra (with an eye-watering price tag to match), the S20 Plus has very little to differentiate itself from the other two. Pricing starts at $1,199, £999 and AU$1,499.&nbsp;Read more: Motorola Edge Plus is a worthy Samsung Galaxy S20 alternativeThe S20 Plus' two main assets are the 6.7-inch screen (larger than the standard S20's 6.2-inch display), and the fact that it supports the fastest 5G speeds, using mmWave technology. With the exception of Verizon's unreleased model, the Galaxy S20 taps into a slower version of 5G called Sub-6.&nbsp;There's a smattering of other perks. The S20 Plus has a larger battery than the S20 (but smaller than the Ultra), which in our looping video test lasted 21 hours in airplane mode and 17 hours, 15 minutes in our Wi-Fi test that simulates real-world use. That's when using the default 60Hz screen refresh rate.Unlike the S20, the Plus gives you an option to buy a 512GB variant. The larger model (along with the Ultra) also has a time-of-flight sensor in the camera module that's designed to enrich low light shots, but doesn't seem to affect photography in a meaningful way.The S20 Plus hits a sweet spot for someSo, what about the S20 Ultra? Should you just go big as you can? No, you shouldn't... in fact, I'd skip it altogether. Starting at $1,399, £1,199 and AU$1,999 for the 128GB version, the Galaxy S20 Ultra is crazy expensive. Battery life was a few minutes worse than the S20 Plus in both our lab tests, despite a larger 5,000-mAh battery. It's also thicker and heavier to use, the camera module sticks out more and the benefits of a 108-megapixel main camera and 100x telephoto zoom are minimal for all but the most specialized shots. Between the S20 Ultra and the S20 Plus, go with the Plus.&nbsp;I'm more on the fence when it comes to the S20 versus the Plus. If you don't mind a smaller phone and don't care about 5G, the standard S20 is the one for you. Most people will get what they need to from the standard S20, for $200 less than what you pay for the Plus. But of the two phones, the Plus is more convenient when you want a larger viewing screen, and the keyboard won't feel as tight as the S20's if you have larger hands.&nbsp;Photography is excellent, battery life will take you from morning to night, and it's packed with all the essential features found in Samsung's S20 trio. I also appreciate its full-throttle 5G support. Yes, justifying the S20 Plus' pricing is a challenge for me, especially because I personally prefer the S20's smaller frame. But for me, all the Galaxy S20&nbsp;phones&nbsp;cost more than they need to.&nbsp;While I enjoy the power and performance that the S20s bring, I'm looking ahead to the Galaxy Note 20 for a lighter, more refined look and feel that I miss having switched from the Note 10 Plus. Samsung's bold, redefined S20 Plus is on the right track. The next step is to perfect and refine.You'll find the Galaxy S20, Plus and Ultra comparison specs below. For all the differences between the S20 and S20 Plus, see my rated Galaxy S20 review. This Galaxy S20 Ultra review goes into greater detail about how the 120Hz screen, Single Take photography and 8K video work.\n",
      "worstRating: 0\n",
      "bestRating: 5\n",
      "ratingValue: 4.5\n",
      "node:_:znodeacxIH3MHJA5GJIxYh89AsSgZeeVr1Ux\n",
      "url: https://www.cnet.com/reviews/iphone-11-2019-battery-deep-fusion-review/\n",
      "reviewBody: The Good: Even faster speed, improved battery life. The iPhone 11's cameras get an excellent new Night Mode and an ultrawide-angle camera that can add extra detail in photos. Fantastic video camera. The Bad: Only Pro models get the 2x telephoto. The ultrawide-angle camera doesn’t add Night Mode. No USB-C port. The Pro phones have a faster 18-watt charger but the iPhone 11 doesn't. Still has a good (but not OLED) display. The Bottom Line: Apple may have skipped flashy extras on this year's phones, but the iPhone 11 is the best midtier model the company's ever made. When you first hear the names of&nbsp;Apple's new iPhones -- the iPhone 11, iPhone 11 Pro and iPhone 11 Pro Max -- you may have some questions. Where's the iPhone X? And what makes the iPhone Pro... Pro? What happened to last year's XS&nbsp;and&nbsp;XS Max? This year's new phones are polished sequels (literally and figuratively) to the three we got last year. For some people the iPhone 11 just needs to be better than the XS. And it indeed is. But for others, it's nice to know where Apple stands in the larger landscape of phones. There are&nbsp;wild 5G speeds on the horizon, plus bizarre and expensive&nbsp;foldable phones&nbsp;like Samsung's Galaxy Fold. And then there's the more expensive $799 (£669, AU$1,049) Google Pixel 4, which actually makes the $699 (£729, AU$1,199) iPhone 11 look like an even better value. Read more:&nbsp;iPhone SE 2020 reviewApple did a great job with new features,&nbsp;including some serious camera improvements&nbsp;like Night Mode for taking photos&nbsp;in dimly lit situations and Deep Fusion, a new way for the iPhone 11 and 11 Pro to process photos taken in situations where the lighting is bright enough for you to see, but nothing like being outside on a sunny day.&nbsp; Read: iPhone 11 vs. iPhone 11 Pro: Important differences to help you decide which one to buyBut there's a good reason why the company named its more expensive and fancier phones \"Pro\" this year: Price. Apple is smartly targeting the $699 iPhone 11 as the phone for most people, in the same mold as the&nbsp;iPhone XR&nbsp;last year.&nbsp; Essentially, the iPhone 11 and 11 Pro are 85% the exact same phone. If you want a dedicated telephoto camera with 2x optical zoom, different size options, a better screen and finish, you're going to pay 30% more. That is not to say the $999 iPhone 11 Pro and $1,099 11 Pro Max aren't great phones. It's just that the iPhone 11 is actually that good. And that is why Apple's \"value\" phone with its wonderful cameras, solid build (which survived CNET's drop and water tests) and iOS 13.2 earns the iPhone 11 a CNET Editors' Choice Award. Editors' note, March 30: Five months after Apple launched the iPhone 11 and 11 Pro, the phones still represent two of the best that you can buy today. In February, the Galaxy S20 launched at a starting price of $999. Technically it's the most affordable phone in Samsung's current generation. Compared to the Galaxy S20, the iPhone 11 is an absolute steal. The original review, published on Sept. 17, follows below.  \tStill starts at 64GB The $699 iPhone 11 model gets 64GB of storage, which is probably fine for many people -- and it's a $50 price drop from last year's iPhone XR base model. 128GB for $749 probably makes more sense if you're shooting any video and 256GB for $849 should only be a consideration if you're shooting a lot of video. The Pro phones add a 512GB tier that you won't need unless you're shooting in 4K for a living. See the chart at the bottom of this review for complete pricing details, including UK and Australian prices. Read more:&nbsp;Steven Soderbergh might need to upgrade to the iPhone 11 Pro for his next film  \tColors: iPhone 11 is the fun phone For whatever reasons, Apple is still making the lower-priced iPhone 11, the one that comes in fun colors. There are two new colors, called green and purple, that are more like mint green and lavender. These new pastel colors replace the blue and coral options from last year. I have the green iPhone 11. Its color is pleasant, and the aluminum case color is much closer to seamless with the glass color. The glossy glass back feels the same as last year's XR. So does the rest of the phone -- except for the dual cameras, which are raised up from the back and placed in a frosted glass camera square. In contrast, the iPhone 11 Pro models all have metallic shades: silver, space gray, gold and a military-esque midnight green. The three cameras seem more industrial (maybe imposing). The back glass is matte, instead of glossy. They're made of steel instead of aluminum. And the Pro phones feel significantly denser. They pack larger batteries, and the steel adds weight. I like that the iPhone 11 follows in the footsteps of the iPhone XR and is the middle-size phone again with a 6.1-inch screen -- compared with the two iPhone Pro models at 5.8 inches and 6.5 inches. I've come to favor the smaller iPhone 11 Pro, like the iPhone XS last year.  \tCameras Over the past few years, Apple has made impressive strides in camera quality, but so have many other phone makers like Samsung, Huawei and Google. The camera arms race is something that hard-core photographers study closely, but I'd argue it's gone way past what most people need. The iPhone 11 cameras are some of the best for photos and video capture that you can buy today. The 11 comes with a new ultrawide-angle camera, Night Mode for low-light photography, Deep Fusion processing for better indoor shots, faster autofocus and overall sharper images with more accurate color reproduction. For a more in-depth look at the camera differences between this year's iPhone and last year's,&nbsp;read our iPhone camera comparison between the iPhone 11 with Deep Fusion and the iPhone XR. The ultrawide offers a radical change in perspective that can be dizzyingly unique visually. This won't become your go-to camera, but it's just a blast to use. Night Mode is a key feature that helps Apple catch up to similar capabilities from Google, Huawei and Samsung.&nbsp; And so far, Apple's version is impressive.  \tNight Mode, how it works and when it doesn't Like the Google Pixel 4, the Huawei P30 Pro and Samsung's Galaxy Note 10, taking startling low-light photos seems to be in every phone-maker's computational wheelhouse now. Apple's version brightens photos, captures less image noise and does all of this automatically. The way it works is when you open up the default camera app, the phone determines when it's dark enough to go into Night Mode. At this time, there isn't a manual way to trigger the mode. Night Mode uses adaptive bracketing and takes a series of photos, some with a longer shutter speed, others with a shorter one. The iPhone then fuses all the photos together to reduce motion blur and brighten shadows. When I took handheld Night Mode shots the sequence would take about 3 to 5 seconds. When I put the iPhone on a tripod I got a 10-second time and was even able to manually override that for a 28-second Night Mode shot. I took a photo of a tree in my backyard that was in complete darkness. Below is a shot with the iPhone 11 using Night Mode and another with last year's iPhone XS. The HDR-like feel of the photos keeps some of the night effects, but at other times the photos can end up looking like day. Night Mode can be turned off by tapping the icon and sliding the timer off, but so far it's been an improvement in nearly every instance. It's not a perfect tool: Faces can get blurred, detail can be lost. But still, I've been wowed. The Night Mode effects work the same on the iPhone 11 and iPhone 11 Pro, but the Pro also gets a telephoto camera that can use it. You can't use Night Mode in the ultrawide-angle mode, though. That camera ends up looking a lot darker, and it doesn't have optical image stabilization, either. That's true on all this year's models.  \tUltrawide angle = drama camera The newest camera has an ultrawide 13mm equivalent lens that is just a plain fun to use. If the main wide camera is like a business suit and the \"tele\" lens is a sporty blazer, then the ultrawide is the equivalent of a Hawaiian shirt. It's obviously different and really changes the way you shoot. It won't be great in every situation, but it can be equal parts handy, like when shooting in smaller spaces, and artistic, adding drama to a mundane scene. Apple balanced the distortion so there's a little (which you want for that ultrawide look) but it's not horrible. I immediately found angles on my subjects that made them look larger than life. Best of all, you can use the ultrawide lens when shooting video. In fact, during a recording you can switch between cameras. Apple even put a cool zoom effect to transition between lenses.&nbsp; Without a doubt, it can make for stunning shots. Ultrawide cameras are another new trend across phone cameras. Apple promises a few extra benefits here. The iPhone 11 gets an improved ultrawide-angle Portrait mode that can work with close-ups of your pets and other things. All the phones get an expanded-view viewfinder that now previews what's outside the shot, which can help you know when to use the ultrawide lens. A funky extra also captures some ultrawide camera data in a Quick Take video, when you press and hold the camera button in the Camera app. It looks to pull in people who might be out of frame. So far, I haven't had this mode work for me yet. \n",
      "worstRating: 0\n",
      "bestRating: 5\n",
      "ratingValue: 4.5\n",
      "Done https://www.cnet.com/ - Reviews extracted: 2 out of 4\n",
      "Already in: 0\n",
      "No Annotations: 2\n",
      "No Rating : 0\n",
      "No ReviewBody: 0\n"
     ]
    }
   ],
   "source": [
    "review_cnt = 0\n",
    "already_cnt = 0\n",
    "no_annotation = 0\n",
    "no_rating = 0\n",
    "no_text = 0\n",
    "extracted_cnt = 0\n",
    "# no_anno, ok, ok\n",
    "my_list =['https://www.cnet.com/reviews/lg-exalt-lte-preview/',\n",
    "       'https://www.cnet.com/reviews/samsung-galaxy-s20-plus-5g-review/',\n",
    "       'https://www.cnet.com/reviews/iphone-11-2019-battery-deep-fusion-review/',\n",
    "        'https://www.cnet.com/products/blu-grand-xl/']\n",
    "for review_link in my_list:\n",
    "    review_cnt += 1\n",
    "    response = get(review_link)\n",
    "    soup = BeautifulSoup(response.text, 'lxml')\n",
    "    try:\n",
    "        data = json.loads(\"\".join(soup.find(\"script\", {\"type\": \"application/ld+json\"}).contents),strict=False)\n",
    "        try:\n",
    "            review = data['review']\n",
    "            try:\n",
    "                reviewBody = review['reviewBody']\n",
    "            except KeyError:\n",
    "                no_text += 1\n",
    "                continue\n",
    "        except KeyError:\n",
    "            no_annotation += 1\n",
    "            continue\n",
    "        node = generateNode(31)\n",
    "        url = review_link\n",
    "        try:\n",
    "            ratingValue = str(review['reviewRating']['ratingValue'])\n",
    "            bestRating = review['reviewRating']['bestRating']\n",
    "            worstRating = review['reviewRating']['worstRating']\n",
    "            reviewRating = \"already included\"\n",
    "            print('node:' + node)\n",
    "            print('url: '+ review_link)\n",
    "            print('reviewBody: ' + reviewBody)\n",
    "            print('worstRating: ' + worstRating)\n",
    "            print('bestRating: ' + bestRating)\n",
    "            print('ratingValue: ' + ratingValue)\n",
    "            c.execute(f\"INSERT OR IGNORE INTO {db_name} (NODE, URL, REVIEWBODY, RATING, REVIEWRATING, BESTRATING, WORSTRATING) VALUES (?,?,?,?,?,?,?);\",(node, url, reviewBody, str(reviewRating), ratingValue, bestRating, worstRating))\n",
    "            conn.commit()\n",
    "            extracted_cnt += 1\n",
    "        except KeyError:\n",
    "            no_rating += 1\n",
    "            continue\n",
    "    except AttributeError:\n",
    "        no_annotation += 1\n",
    "        continue\n",
    "\n",
    "print(f\"Done {host} - Reviews extracted: \" + str(extracted_cnt) + \" out of \" + str(review_cnt))\n",
    "print(\"Already in: \" + str(already_cnt))\n",
    "print(\"No Annotations: \" + str(no_annotation))\n",
    "print(\"No Rating : \" + str(no_rating))\n",
    "print(\"No ReviewBody: \" + str(no_text))"
   ],
   "metadata": {
    "collapsed": false,
    "pycharm": {
     "name": "#%%\n"
    }
   }
  },
  {
   "cell_type": "code",
   "execution_count": 4,
   "outputs": [],
   "source": [
    "links = []\n",
    "for page in range(1, 23):\n",
    "    url = f'https://www.proporta.com/devices?p={page}/'\n",
    "    response = get(url, headers={'User-Agent': 'Custom'})\n",
    "    soup = BeautifulSoup(response.text, 'lxml')\n",
    "    lefts = soup.find_all('li', class_='item first')\n",
    "    for left in lefts:\n",
    "        links.append(left.a['href'] + '#allReviews')\n",
    "    rights = soup.find_all('li', class_='item last')\n",
    "    for right in rights:\n",
    "        links.append(right.a['href'] + '#allReviews')\n",
    "for page in range(1, 5):\n",
    "    url = f'https://www.proporta.com/accessories?p={page}/'\n",
    "    response = get(url, headers={'User-Agent': 'Custom'})\n",
    "    soup = BeautifulSoup(response.text, 'lxml')\n",
    "    lefts = soup.find_all('li', class_='item first')\n",
    "    for left in lefts:\n",
    "        links.append(left.a['href'] + '#allReviews')\n",
    "    rights = soup.find_all('li', class_='item last')\n",
    "    for right in rights:\n",
    "        links.append(right.a['href'] + '#allReviews')"
   ],
   "metadata": {
    "collapsed": false,
    "pycharm": {
     "name": "#%%\n"
    }
   }
  },
  {
   "cell_type": "code",
   "execution_count": 31,
   "outputs": [
    {
     "name": "stdout",
     "output_type": "stream",
     "text": [
      "node:_:znodePtz2UpHweO6C2XRnHJslWFOEFMPlFtD\n",
      "url: https://www.proporta.com/ted-baker-cheryia-mirror-folio-case-with-outer-card-slot-for-iphone-8-7-6-hedgerow#allReviews\n",
      "reviewBody: I use this case for my Iphone 6. I really like the mirror and card slot (had one with a mirror from Ted *** before, but that one didn't have the card holder). Quality is okay.                 \n",
      "worstRating: 1\n",
      "bestRating: 5\n",
      "ratingValue: 5\n",
      "node:_:znodePtz2UpHweO6C2XRnHJslWFOEFMPlFtD\n",
      "url: https://www.proporta.com/ted-baker-cheryia-mirror-folio-case-with-outer-card-slot-for-iphone-8-7-6-hedgerow#allReviews\n",
      "reviewBody: Have had different versions of this case, but this is the only one that doesn't have a magnetic closure, no bother still gorgeous                 \n",
      "worstRating: 1\n",
      "bestRating: 5\n",
      "ratingValue: 4\n",
      "node:_:znodePtz2UpHweO6C2XRnHJslWFOEFMPlFtD\n",
      "url: https://www.proporta.com/ted-baker-cheryia-mirror-folio-case-with-outer-card-slot-for-iphone-8-7-6-hedgerow#allReviews\n",
      "reviewBody: Nice looking case bought as a present so all I can tell you is that the recipient is happy                 \n",
      "worstRating: 1\n",
      "bestRating: 5\n",
      "ratingValue: 5\n",
      "node:_:znodePtz2UpHweO6C2XRnHJslWFOEFMPlFtD\n",
      "url: https://www.proporta.com/ted-baker-cheryia-mirror-folio-case-with-outer-card-slot-for-iphone-8-7-6-hedgerow#allReviews\n",
      "reviewBody: It is always on my I phone and used every day. I have showed my friends and they love it and i have given them your web site details.                 \n",
      "worstRating: 1\n",
      "bestRating: 5\n",
      "ratingValue: 5\n",
      "node:_:znodePtz2UpHweO6C2XRnHJslWFOEFMPlFtD\n",
      "url: https://www.proporta.com/ted-baker-cheryia-mirror-folio-case-with-outer-card-slot-for-iphone-8-7-6-hedgerow#allReviews\n",
      "reviewBody: Excellent product at good price                 \n",
      "worstRating: 1\n",
      "bestRating: 5\n",
      "ratingValue: 5\n"
     ]
    }
   ],
   "source": [
    "my_list = ['https://www.proporta.com/ted-baker-cheryia-mirror-folio-case-with-outer-card-slot-for-iphone-8-7-6-hedgerow#allReviews']\n",
    "\n",
    "for review_link in my_list:\n",
    "    review_cnt += 1\n",
    "    response = get(review_link, headers={'User-Agent': 'Custom'})\n",
    "    soup = BeautifulSoup(response.text, 'lxml')\n",
    "    reviews = soup.find('ol', id='reviewContainer')\n",
    "    if reviews is None:\n",
    "        no_annotation += 1\n",
    "        continue\n",
    "    else:\n",
    "        for review in reviews.find_all('li', itemtype='http://schema.org/Review'):\n",
    "            reviewBody = review.find('p', itemprop='reviewBody').text.split('\\r\\n')[0]\n",
    "            ratingValue = review.find('span', itemprop='ratingValue').text\n",
    "            bestRating = review.find('span', itemprop='bestRating').text\n",
    "            worstRating = review.find('meta', itemprop='worstRating')['content']\n",
    "            reviewRating = review.find('div', itemprop='reviewRating').text\n",
    "\n",
    "            print('node:' + node)\n",
    "            print('url: '+ review_link)\n",
    "            print('reviewBody: ' + reviewBody)\n",
    "            print('worstRating: ' + worstRating)\n",
    "            print('bestRating: ' + bestRating)\n",
    "            print('ratingValue: ' + ratingValue)\n",
    "\n",
    "\n",
    "            # c.execute(f\"INSERT OR IGNORE INTO {db_name} (NODE, URL, REVIEWBODY, RATING, REVIEWRATING, BESTRATING, WORSTRATING) VALUES (?,?,?,?,?,?,?);\",(node, review_link, reviewBody, reviewRating, ratingValue, bestRating, worstRating))\n",
    "            # conn.commit()\n",
    "            # extracted_cnt += 1"
   ],
   "metadata": {
    "collapsed": false,
    "pycharm": {
     "name": "#%%\n"
    }
   }
  },
  {
   "cell_type": "code",
   "execution_count": 19,
   "outputs": [
    {
     "data": {
      "text/plain": "[<span itemprop=\"author\" itemscope=\"\" itemtype=\"http://schema.org/Person\">Review by <span itemprop=\"name\">Natasha V</span></span>,\n <span itemprop=\"name\">Natasha V</span>,\n <span itemprop=\"ratingValue\">5</span>,\n <span itemprop=\"bestRating\">5</span>,\n <span itemprop=\"author\" itemscope=\"\" itemtype=\"http://schema.org/Person\">Review by <span itemprop=\"name\">Rihana Z</span></span>,\n <span itemprop=\"name\">Rihana Z</span>,\n <span itemprop=\"ratingValue\">4</span>,\n <span itemprop=\"bestRating\">5</span>,\n <span itemprop=\"author\" itemscope=\"\" itemtype=\"http://schema.org/Person\">Review by <span itemprop=\"name\">Gary M</span></span>,\n <span itemprop=\"name\">Gary M</span>,\n <span itemprop=\"ratingValue\">5</span>,\n <span itemprop=\"bestRating\">5</span>,\n <span itemprop=\"author\" itemscope=\"\" itemtype=\"http://schema.org/Person\">Review by <span itemprop=\"name\">Brenda S</span></span>,\n <span itemprop=\"name\">Brenda S</span>,\n <span itemprop=\"ratingValue\">5</span>,\n <span itemprop=\"bestRating\">5</span>,\n <span itemprop=\"author\" itemscope=\"\" itemtype=\"http://schema.org/Person\">Review by <span itemprop=\"name\">Sonya B</span></span>,\n <span itemprop=\"name\">Sonya B</span>,\n <span itemprop=\"ratingValue\">5</span>,\n <span itemprop=\"bestRating\">5</span>]"
     },
     "execution_count": 19,
     "metadata": {},
     "output_type": "execute_result"
    }
   ],
   "source": [
    "reviews.find_all('span')\n"
   ],
   "metadata": {
    "collapsed": false,
    "pycharm": {
     "name": "#%%\n"
    }
   }
  }
 ],
 "metadata": {
  "kernelspec": {
   "display_name": "Python 3",
   "language": "python",
   "name": "python3"
  },
  "language_info": {
   "codemirror_mode": {
    "name": "ipython",
    "version": 2
   },
   "file_extension": ".py",
   "mimetype": "text/x-python",
   "name": "python",
   "nbconvert_exporter": "python",
   "pygments_lexer": "ipython2",
   "version": "2.7.6"
  }
 },
 "nbformat": 4,
 "nbformat_minor": 0
}