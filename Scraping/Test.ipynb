{
 "cells": [
  {
   "cell_type": "code",
   "execution_count": 76,
   "metadata": {
    "collapsed": true,
    "pycharm": {
     "name": "#%%\n"
    }
   },
   "outputs": [
    {
     "name": "stdout",
     "output_type": "stream",
     "text": [
      "node:_:znodeNqI8k29TnBq2GSC2dc7rhORcAtd2kg3\n",
      "url: https://www.empireonline.com/movies/reviews/mandalorian-peyton-reed-hints-s2-director/\n",
      "reviewBody: If you&amp;#39;re a director with a big, Star Wars-focused announcement to make, there are few better days than May the fourth. Which explains why both Robert Rodriguez and Ant-Man And The Wasp&amp;#39;s ...\n",
      "worstRating: 1\n",
      "bestRating: 5\n",
      "ratingValue: \n"
     ]
    }
   ],
   "source": [
    "from bs4 import BeautifulSoup\n",
    "from requests import get\n",
    "import random\n",
    "import string\n",
    "import sqlite3\n",
    "import json\n",
    "import html.parser as htmlparser\n",
    "parser = htmlparser.HTMLParser()\n",
    "import logging\n",
    "\n",
    "# Input\n",
    "# flickfilosopher_file = '../Scraping/flickfilosopher.txt'\n",
    "# current_reviews = set(line.strip() for line in open(flickfilosopher_file))\n",
    "\n",
    "# Output\n",
    "# log_path = '../Logs/movieReviews.log'\n",
    "db_path = '../Data/test.db'\n",
    "db_name = 'test'\n",
    "conn = sqlite3.connect(db_path)\n",
    "c = conn.cursor()\n",
    "\n",
    "# logger = logging.getLogger()\n",
    "# fhandler = logging.FileHandler(filename=log_path, mode='a')\n",
    "# formatter = logging.Formatter('%(asctime)s - %(name)s - %(levelname)s - %(message)s')\n",
    "# fhandler.setFormatter(formatter)\n",
    "# logger.addHandler(fhandler)\n",
    "# logger.setLevel(logging.DEBUG)\n",
    "\n",
    "def generateNode(length):\n",
    "    letters_and_digits = string.ascii_letters + string.digits\n",
    "    result_str = ''.join((random.choice(letters_and_digits) for i in range(length)))\n",
    "    node = \"_:znode\" + result_str\n",
    "    return node\n",
    "\n",
    "review_count = 0\n",
    "no_annotation = 0\n",
    "no_rating = 0\n",
    "link_count = 0\n",
    "\n",
    "host = \"https://www.empireonline.com\"\n",
    "review_count = 0\n",
    "no_annotation = 0\n",
    "\n",
    "for page in range (1,419):\n",
    "    url = f'https://www.empireonline.com/movies/reviews/{page}/'\n",
    "    soup = BeautifulSoup(get(url).text, \"lxml\")\n",
    "    movie_container = soup.find_all(\"div\", class_=\"image-content\")\n",
    "    for link in movie_container:\n",
    "        review_link = host + link.a['href']\n",
    "        response = get(review_link)\n",
    "        review_soup = BeautifulSoup(response.text, 'lxml')\n",
    "        try:\n",
    "            data = json.loads(\"\".join(review_soup.find(\"script\", {\"type\": \"application/ld+json\"}).contents),strict=False)\n",
    "            if not data['@type'] == \"review\":\n",
    "                no_annotation += 1\n",
    "                pass\n",
    "            else:\n",
    "                reviewBody = data['description'].replace('\\n','')\n",
    "                worstRating = data['reviewRating']['worstRating']\n",
    "                bestRating = data['reviewRating']['bestRating']\n",
    "                ratingValue = data['reviewRating']['ratingValue']\n",
    "                reviewRating = \"already included\"\n",
    "                node = generateNode(31)\n",
    "                # c.execute(f\"INSERT OR IGNORE INTO {db_name} (NODE, URL, REVIEWBODY, RATING, REVIEWRATING, BESTRATING, WORSTRATING) VALUES (?,?,?,?,?,?,?);\", (node, review_link, reviewBody, str(reviewRating), ratingValue, bestRating, worstRating))\n",
    "                # conn.commit()\n",
    "                review_count += 1\n",
    "        except Exception as e:\n",
    "            logging.debug(\"Error: \" + str(review_link))\n",
    "            logging.debug(str(review_soup))\n",
    "            raise(e)\n",
    "\n",
    "print()\n"
   ]
  }
 ],
 "metadata": {
  "kernelspec": {
   "display_name": "Python 3",
   "language": "python",
   "name": "python3"
  },
  "language_info": {
   "codemirror_mode": {
    "name": "ipython",
    "version": 2
   },
   "file_extension": ".py",
   "mimetype": "text/x-python",
   "name": "python",
   "nbconvert_exporter": "python",
   "pygments_lexer": "ipython2",
   "version": "2.7.6"
  }
 },
 "nbformat": 4,
 "nbformat_minor": 0
}