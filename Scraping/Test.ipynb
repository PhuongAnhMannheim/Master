{
 "cells": [
  {
   "cell_type": "code",
   "execution_count": 27,
   "metadata": {
    "collapsed": true
   },
   "outputs": [
    {
     "name": "stdout",
     "output_type": "stream",
     "text": [
      "<div itemprop=\"reviewRating\" itemscope=\"\" itemtype=\"http://schema.org/Rating\">\n",
      "<div content=\"5\" itemprop=\"bestRating\">\n",
      "<div content=\"0\" itemprop=\"worstRating\">\n",
      "<div content=\"5\" itemprop=\"ratingValue\">\n",
      "</div>\n",
      "</div>\n",
      "</div>\n",
      "</div>\n",
      "amount of reviews extracted: 1, amount of entries without review annotations: 0 amount of entries without rating: 0\n"
     ]
    }
   ],
   "source": [
    "from bs4 import BeautifulSoup\n",
    "from requests import get\n",
    "import random\n",
    "import string\n",
    "import sqlite3\n",
    "import logging\n",
    "\n",
    "# Input\n",
    "flickfilosopher_file = '../Scraping/flickfilosopher.txt'\n",
    "current_reviews = set(line.strip() for line in open(flickfilosopher_file))\n",
    "\n",
    "# Output\n",
    "# log_path = '../Logs/movieReviews.log'\n",
    "db_path = '../Data/test.db'\n",
    "db_name = 'test'\n",
    "conn = sqlite3.connect(db_path)\n",
    "c = conn.cursor()\n",
    "\n",
    "# logger = logging.getLogger()\n",
    "# fhandler = logging.FileHandler(filename=log_path, mode='a')\n",
    "# formatter = logging.Formatter('%(asctime)s - %(name)s - %(levelname)s - %(message)s')\n",
    "# fhandler.setFormatter(formatter)\n",
    "# logger.addHandler(fhandler)\n",
    "# logger.setLevel(logging.DEBUG)\n",
    "\n",
    "def generateNode(length):\n",
    "    letters_and_digits = string.ascii_letters + string.digits\n",
    "    result_str = ''.join((random.choice(letters_and_digits) for i in range(length)))\n",
    "    node = \"_:znode\" + result_str\n",
    "    return node\n",
    "\n",
    "review_count = 0\n",
    "no_annotation = 0\n",
    "no_rating = 0\n",
    "\n",
    "review_link =\"https://www.flickfilosopher.com/2016/02/the-act-of-killing-and-the-look-of-silence-documentaries-review-when-horror-doesnt-destroy-humanity.html\"\n",
    "if review_link is not None:\n",
    "    if review_link.endswith('html'):\n",
    "        if review_link in current_reviews:\n",
    "            pass\n",
    "        else:\n",
    "            review_soup = BeautifulSoup(get(review_link).text, 'lxml')\n",
    "            review_html = review_soup.find(\"div\", itemtype=\"http://schema.org/Review\")\n",
    "            reviewBody = \"\"\n",
    "            if review_html is None:\n",
    "                no_annotation += 1\n",
    "            else:\n",
    "                try:\n",
    "                    reviewBody_html = review_html.find_all(\"div\", class_=\"reviewtext\")\n",
    "                    reviewRating = review_soup.find(\"div\", itemtype=\"http://schema.org/Rating\")\n",
    "                    for item in reviewBody_html:\n",
    "                        reviewBody += item.p.text\n",
    "                    worstRating_tag = reviewRating.find(\"meta\", itemprop=\"worstRating\")\n",
    "                    bestRating_tag = reviewRating.find(\"meta\", itemprop=\"bestRating\")\n",
    "                    ratingValue_tag = reviewRating.find(\"meta\", itemprop=\"ratingValue\")\n",
    "                    if worstRating_tag is None:\n",
    "                        worstRating = reviewRating.find(\"div\", itemprop=\"worstRating\")[\"content\"]\n",
    "                        bestRating = reviewRating.find(\"div\", itemprop=\"bestRating\")[\"content\"]\n",
    "                        ratingValue = reviewRating.find(\"div\", itemprop=\"ratingValue\")[\"content\"]\n",
    "                    else:\n",
    "                        worstRating = worstRating_tag[\"content\"]\n",
    "                        bestRating = bestRating_tag[\"content\"]\n",
    "                        ratingValue = ratingValue_tag[\"content\"]\n",
    "                    if ratingValue == \"\":\n",
    "                        no_rating += 1\n",
    "                    else:\n",
    "                        node = generateNode(31)\n",
    "                        c.execute(f\"INSERT OR IGNORE INTO {db_name} (NODE, URL, REVIEWBODY, RATING, REVIEWRATING, BESTRATING, WORSTRATING) VALUES (?,?,?,?,?,?,?);\",(node,review_link,reviewBody,str(reviewRating),ratingValue,bestRating,worstRating))\n",
    "                        conn.commit()\n",
    "                        review_count += 1\n",
    "                except Exception as e:\n",
    "                    raise(e)\n",
    "                    print(\"Error: \" + str(review_link))\n",
    "\n",
    "\n",
    "print(\"amount of reviews extracted: \" + str(review_count) + \", amount of entries without review annotations: \" + str(no_annotation) + \" amount of entries without rating: \" + str(no_rating))\n",
    "\n",
    "\n",
    "\n"
   ]
  },
  {
   "cell_type": "code",
   "execution_count": null,
   "outputs": [],
   "source": [
    "\n"
   ],
   "metadata": {
    "collapsed": false,
    "pycharm": {
     "name": "#%%\n"
    }
   }
  }
 ],
 "metadata": {
  "kernelspec": {
   "display_name": "Python 3",
   "language": "python",
   "name": "python3"
  },
  "language_info": {
   "codemirror_mode": {
    "name": "ipython",
    "version": 2
   },
   "file_extension": ".py",
   "mimetype": "text/x-python",
   "name": "python",
   "nbconvert_exporter": "python",
   "pygments_lexer": "ipython2",
   "version": "2.7.6"
  }
 },
 "nbformat": 4,
 "nbformat_minor": 0
}