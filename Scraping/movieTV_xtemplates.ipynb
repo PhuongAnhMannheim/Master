{
 "cells": [
  {
   "cell_type": "code",
   "execution_count": 2,
   "metadata": {
    "collapsed": true
   },
   "outputs": [],
   "source": [
    "from bs4 import BeautifulSoup\n",
    "# import requests\n",
    "from requests import get\n",
    "from requests_html import HTMLSession\n",
    "import json\n",
    "import random\n",
    "import string\n",
    "import sqlite3\n",
    "import logging\n",
    "import pandas as pd\n",
    "import re\n"
   ]
  },
  {
   "cell_type": "code",
   "execution_count": 41,
   "metadata": {
    "pycharm": {
     "name": "#%%\n"
    }
   },
   "outputs": [],
   "source": [
    "# Input/ Output\n",
    "db_path = '../Data/test.db'\n",
    "db_name = 'test'\n",
    "log_path = '../Logs/test.log'\n",
    "conn = sqlite3.connect(db_path)\n",
    "c = conn.cursor()\n",
    "\n",
    "# Input\n",
    "current_file = '../Scraping/already_links_in/techadvisor.txt'\n",
    "current_reviews = set(line.strip() for line in open(current_file))\n",
    "\n",
    "logger = logging.getLogger()\n",
    "fhandler = logging.FileHandler(filename=log_path, mode='a')\n",
    "formatter = logging.Formatter('%(asctime)s - %(name)s - %(levelname)s - %(message)s')\n",
    "fhandler.setFormatter(formatter)\n",
    "logger.addHandler(fhandler)\n",
    "logger.setLevel(logging.DEBUG)"
   ]
  },
  {
   "cell_type": "code",
   "execution_count": 8,
   "outputs": [
    {
     "name": "stdout",
     "output_type": "stream",
     "text": [
      "1580\n"
     ]
    }
   ],
   "source": [
    "def generateNode(length):\n",
    "    letters_and_digits = string.ascii_letters +  string.digits\n",
    "    result_str = ''.join((random.choice(letters_and_digits) for i in range(length)))\n",
    "    node = \"_:znode\" + result_str\n",
    "    return node\n",
    "\n",
    "links = []\n",
    "for page in range(1, 13):\n",
    "    url = f'https://www.techadvisor.co.uk/review/wearable-tech/?p={page}/'\n",
    "    soup = BeautifulSoup(get(url).text, 'lxml')\n",
    "    reviews = soup.find_all('li', class_='media')\n",
    "    for review in reviews:\n",
    "        links.append(review.a['href'])\n",
    "for page in range(1, 69):\n",
    "    url = f'https://www.techadvisor.co.uk/review/smartphones/?p={page}/'\n",
    "    soup = BeautifulSoup(get(url).text, 'lxml')\n",
    "    reviews = soup.find_all('li', class_='media')\n",
    "    for review in reviews:\n",
    "        links.append(review.a['href'])\n",
    "print(len(links))"
   ],
   "metadata": {
    "collapsed": false,
    "pycharm": {
     "name": "#%%\n"
    }
   }
  },
  {
   "cell_type": "code",
   "execution_count": 9,
   "outputs": [
    {
     "name": "stdout",
     "output_type": "stream",
     "text": [
      "https://www.techadvisor.co.uk/review/huawei-watch-gt-2-42mm-3783214/\n"
     ]
    }
   ],
   "source": [
    "print(links[3])"
   ],
   "metadata": {
    "collapsed": false,
    "pycharm": {
     "name": "#%%\n"
    }
   }
  },
  {
   "cell_type": "code",
   "execution_count": 62,
   "outputs": [
    {
     "name": "stdout",
     "output_type": "stream",
     "text": [
      "node:_:znodejEty1w20TwwpCMXsdY3TSVuEI0Hrg0D\n",
      "url: https://www.techadvisor.co.uk/review/siemens-sk65-review-104/\n",
      "reviewBody: The Qwerty keyboard layout was designed to slow down typists on mechanical typewriters. Despite many attempts to usurp it, after 50 years of computing all we've managed to do is to augment Qwerty with the mouse - and now we're stuck with it.\n",
      "When computers filled a room or even a desk, that didn't matter. But now they barely fill a trouser pocket, giving rise to various attempts to shoehorn the Qwerty layout into a handheld device. The swivelling keypad of the Siemens SK65 is the latest.\n",
      "Visit Mobile Advisor for the latest mobile-phone handset reviews and the best tariffs\n",
      "Siemens calls this design x2type (cross-to-type), a name presumably dreamed up by a text-obsessed teenager denied access to a Qwerty keyboard. But never mind the name, does it work? Yes, but only if you have both hands free. And this could be a major drawback.\n",
      "Holding the opened SK65 like a joypad and operating the keys with both thumbs makes for fast texting and you can bash out a few lines of email that way too. It's certainly faster than using a conventional numeric phonepad even with predictive text. But portable devices need to be fully operable with one hand, since you can't always expect to have both hands free on the move.\n",
      "worstRating: 1\n",
      "bestRating: 10\n",
      "ratingValue: 8\n",
      "Done https://www.techadvisor.co.uk/ - Reviews extracted: 1 out of 0\n",
      "without Rating: 0, problems: 0\n"
     ]
    }
   ],
   "source": [
    "host = \"https://www.techadvisor.co.uk/\"\n",
    "review_count = 0\n",
    "no_annotation = 0\n",
    "no_rating = 0\n",
    "already_count = 0\n",
    "problem_count = 0\n",
    "extract_count = 0\n",
    "\n",
    "review_link='https://www.techadvisor.co.uk/review/siemens-sk65-review-104/'\n",
    "if review_link in current_reviews:\n",
    "    already_count = 0\n",
    "    pass\n",
    "else:\n",
    "    response = get(review_link)\n",
    "    soup = BeautifulSoup(response.text, 'lxml')\n",
    "    review = soup.find('section', id='articleBody')\n",
    "    node = generateNode(31)\n",
    "    url = review_link\n",
    "    reviewText = review.find('div', itemprop='reviewBody')\n",
    "    reviewText.find('section').decompose()\n",
    "\n",
    "    reviewBody = reviewText.text.strip()\n",
    "    try:\n",
    "        ratingValue = review.find('meta', itemprop='ratingValue')['content']\n",
    "        bestRating = review.find('meta', itemprop='bestRating')['content']\n",
    "        worstRating = review.find('meta', itemprop='worstRating')['content']\n",
    "        reviewRating = ''\n",
    "\n",
    "        print('node:' + node)\n",
    "        print('url: '+ review_link)\n",
    "        print('reviewBody: ' + reviewBody)\n",
    "        print('worstRating: ' + worstRating)\n",
    "        print('bestRating: ' + bestRating)\n",
    "        print('ratingValue: ' + ratingValue)\n",
    "        extract_count += 1\n",
    "    except:\n",
    "        no_rating += 1\n",
    "\n",
    "print(f\"Done {host} - Reviews extracted: \" + str(extract_count) + \" out of \" + str(review_count))\n",
    "print(\"without Rating: \" + str(no_rating) + \", problems: \" + str(problem_count))\n",
    "\n"
   ],
   "metadata": {
    "collapsed": false,
    "pycharm": {
     "name": "#%%\n"
    }
   }
  },
  {
   "cell_type": "code",
   "execution_count": null,
   "outputs": [],
   "source": [
    "\n"
   ],
   "metadata": {
    "collapsed": false,
    "pycharm": {
     "name": "#%%\n"
    }
   }
  }
 ],
 "metadata": {
  "kernelspec": {
   "display_name": "Python 3",
   "language": "python",
   "name": "python3"
  },
  "language_info": {
   "codemirror_mode": {
    "name": "ipython",
    "version": 3
   },
   "file_extension": ".py",
   "mimetype": "text/x-python",
   "name": "python",
   "nbconvert_exporter": "python",
   "pygments_lexer": "ipython3",
   "version": "3.6.9"
  },
  "toc": {
   "base_numbering": 1,
   "nav_menu": {},
   "number_sections": true,
   "sideBar": true,
   "skip_h1_title": false,
   "title_cell": "Table of Contents",
   "title_sidebar": "Contents",
   "toc_cell": false,
   "toc_position": {},
   "toc_section_display": true,
   "toc_window_display": false
  },
  "varInspector": {
   "cols": {
    "lenName": 16,
    "lenType": 16,
    "lenVar": 40
   },
   "kernels_config": {
    "python": {
     "delete_cmd_postfix": "",
     "delete_cmd_prefix": "del ",
     "library": "var_list.py",
     "varRefreshCmd": "print(var_dic_list())"
    },
    "r": {
     "delete_cmd_postfix": ") ",
     "delete_cmd_prefix": "rm(",
     "library": "var_list.r",
     "varRefreshCmd": "cat(var_dic_list()) "
    }
   },
   "types_to_exclude": [
    "module",
    "function",
    "builtin_function_or_method",
    "instance",
    "_Feature"
   ],
   "window_display": false
  }
 },
 "nbformat": 4,
 "nbformat_minor": 1
}