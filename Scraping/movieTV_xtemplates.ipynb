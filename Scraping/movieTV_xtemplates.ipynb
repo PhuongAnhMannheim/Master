{
 "cells": [
  {
   "cell_type": "code",
   "execution_count": 2,
   "metadata": {
    "collapsed": true
   },
   "outputs": [],
   "source": [
    "from bs4 import BeautifulSoup\n",
    "# import requests\n",
    "from requests import get\n",
    "from requests_html import HTMLSession\n",
    "import json\n",
    "import random\n",
    "import string\n",
    "import sqlite3\n",
    "import logging\n",
    "import pandas as pd\n",
    "import re\n"
   ]
  },
  {
   "cell_type": "code",
   "execution_count": 41,
   "metadata": {
    "pycharm": {
     "name": "#%%\n"
    }
   },
   "outputs": [],
   "source": [
    "# Input/ Output\n",
    "db_path = '../Data/test.db'\n",
    "db_name = 'test'\n",
    "log_path = '../Logs/test.log'\n",
    "conn = sqlite3.connect(db_path)\n",
    "c = conn.cursor()\n",
    "\n",
    "# Input\n",
    "# current_file = '../Scraping/already_links_in/techadvisor.txt'\n",
    "# current_reviews = set(line.strip() for line in open(current_file))\n",
    "\n",
    "logger = logging.getLogger()\n",
    "fhandler = logging.FileHandler(filename=log_path, mode='a')\n",
    "formatter = logging.Formatter('%(asctime)s - %(name)s - %(levelname)s - %(message)s')\n",
    "fhandler.setFormatter(formatter)\n",
    "logger.addHandler(fhandler)\n",
    "logger.setLevel(logging.DEBUG)"
   ]
  },
  {
   "cell_type": "code",
   "execution_count": 8,
   "outputs": [
    {
     "name": "stdout",
     "output_type": "stream",
     "text": [
      "1580\n"
     ]
    }
   ],
   "source": [
    "def generateNode(length):\n",
    "    letters_and_digits = string.ascii_letters +  string.digits\n",
    "    result_str = ''.join((random.choice(letters_and_digits) for i in range(length)))\n",
    "    node = \"_:znode\" + result_str\n",
    "    return node\n",
    "\n",
    "links = []\n",
    "print(len(links))"
   ],
   "metadata": {
    "collapsed": false,
    "pycharm": {
     "name": "#%%\n"
    }
   }
  },
  {
   "cell_type": "code",
   "execution_count": 9,
   "outputs": [
    {
     "name": "stdout",
     "output_type": "stream",
     "text": [
      "https://www.techadvisor.co.uk/review/huawei-watch-gt-2-42mm-3783214/\n"
     ]
    }
   ],
   "source": [
    "print(links[3])"
   ],
   "metadata": {
    "collapsed": false,
    "pycharm": {
     "name": "#%%\n"
    }
   }
  },
  {
   "cell_type": "code",
   "execution_count": 62,
   "outputs": [
    {
     "name": "stdout",
     "output_type": "stream",
     "text": [
      "node:_:znodejEty1w20TwwpCMXsdY3TSVuEI0Hrg0D\n",
      "url: https://www.techadvisor.co.uk/review/siemens-sk65-review-104/\n",
      "reviewBody: The Qwerty keyboard layout was designed to slow down typists on mechanical typewriters. Despite many attempts to usurp it, after 50 years of computing all we've managed to do is to augment Qwerty with the mouse - and now we're stuck with it.\n",
      "When computers filled a room or even a desk, that didn't matter. But now they barely fill a trouser pocket, giving rise to various attempts to shoehorn the Qwerty layout into a handheld device. The swivelling keypad of the Siemens SK65 is the latest.\n",
      "Visit Mobile Advisor for the latest mobile-phone handset reviews and the best tariffs\n",
      "Siemens calls this design x2type (cross-to-type), a name presumably dreamed up by a text-obsessed teenager denied access to a Qwerty keyboard. But never mind the name, does it work? Yes, but only if you have both hands free. And this could be a major drawback.\n",
      "Holding the opened SK65 like a joypad and operating the keys with both thumbs makes for fast texting and you can bash out a few lines of email that way too. It's certainly faster than using a conventional numeric phonepad even with predictive text. But portable devices need to be fully operable with one hand, since you can't always expect to have both hands free on the move.\n",
      "worstRating: 1\n",
      "bestRating: 10\n",
      "ratingValue: 8\n",
      "Done https://www.techadvisor.co.uk/ - Reviews extracted: 1 out of 0\n",
      "without Rating: 0, problems: 0\n"
     ]
    }
   ],
   "source": [
    "host = \"https://www.bestbuy.com/\"\n",
    "review_count = 0\n",
    "no_annotation = 0\n",
    "no_rating = 0\n",
    "already_count = 0\n",
    "problem_count = 0\n",
    "extract_count = 0\n",
    "\n",
    "review_link='https://www.techadvisor.co.uk/review/siemens-sk65-review-104/'\n",
    "\n",
    "    response = get(review_link)\n",
    "    soup = BeautifulSoup(response.text, 'lxml')\n",
    "    review = soup.find('section', id='articleBody')\n",
    "    node = generateNode(31)\n",
    "    url = review_link\n",
    "    reviewText = review.find('div', itemprop='reviewBody')\n",
    "    reviewText.find('section').decompose()\n",
    "\n",
    "    reviewBody = reviewText.text.strip()\n",
    "    try:\n",
    "        ratingValue = review.find('meta', itemprop='ratingValue')['content']\n",
    "        bestRating = review.find('meta', itemprop='bestRating')['content']\n",
    "        worstRating = review.find('meta', itemprop='worstRating')['content']\n",
    "        reviewRating = ''\n",
    "\n",
    "        print('node:' + node)\n",
    "        print('url: '+ review_link)\n",
    "        print('reviewBody: ' + reviewBody)\n",
    "        print('worstRating: ' + worstRating)\n",
    "        print('bestRating: ' + bestRating)\n",
    "        print('ratingValue: ' + ratingValue)\n",
    "        extract_count += 1\n",
    "    except:\n",
    "        no_rating += 1\n",
    "\n",
    "print(f\"Done {host} - Reviews extracted: \" + str(extract_count) + \" out of \" + str(review_count))\n",
    "print(\"without Rating: \" + str(no_rating) + \", problems: \" + str(problem_count))"
   ],
   "metadata": {
    "collapsed": false,
    "pycharm": {
     "name": "#%%\n"
    }
   }
  },
  {
   "cell_type": "code",
   "execution_count": 66,
   "outputs": [
    {
     "name": "stdout",
     "output_type": "stream",
     "text": [
      "<!DOCTYPE html>\n",
      "<html class=\"no-js\" lang=\"en\">\n",
      "<head>\n",
      "<meta charset=\"utf-8\"/>\n",
      "<meta content=\"ie=edge\" http-equiv=\"x-ua-compatible\"/>\n",
      "<meta content=\"width=device-width, initial-scale=1.0\" name=\"viewport\"/>\n",
      "<meta content=\"text/html\" http-equiv=\"content-type\"/>\n",
      "<meta content=\" best buy international, best buy countries\" name=\"keywords\"/>\n",
      "<meta content=\"Shop online at Best Buy in your country and language of choice. Best Buy provides online shopping in a number of countries and languages.\" name=\"description\"/>\n",
      "<link href=\"https://www.bestbuy.com/~assets/bby/_com/header-footer/images/favicon-32.png\" rel=\"icon\" sizes=\"32x32\"/>\n",
      "<title>Best Buy International: Select your Country - Best Buy</title>\n",
      "<link href=\"https://www.bestbuy.com/~assets/bby/_intl/landing_page/css/app.css\" rel=\"stylesheet\"/>\n",
      "</head>\n",
      "<body>\n",
      "<div class=\"language-menu\">\n",
      "<ul class=\"container\">\n",
      "<li>\n",
      "<button lang=\"en\">English</button>\n",
      "</li>\n",
      "<li>\n",
      "<button lang=\"fr\">FranÃ§ais</button>\n",
      "</li>\n",
      "<li>\n",
      "<button lang=\"es\">EspaÃ±ol</button>\n",
      "</li>\n",
      "</ul>\n",
      "</div>\n",
      "<div class=\"page-container\">\n",
      "<div class=\"background-container\">\n",
      "<div class=\"container\">\n",
      "<div class=\"content\">\n",
      "<div lang=\"en\">\n",
      "<img alt=\"Best Buy Logo\" class=\"logo\" src=\"https://www.bestbuy.com/~assets/bby/_com/header-footer/images/bby_logo-a7e90594729ed2e119331378def6c97e.png\" width=\"80\"/>\n",
      "<div class=\"heading\">Hello!</div>\n",
      "<h1>Choose a country.</h1>\n",
      "<div class=\"country-selection\">\n",
      "<a href=\"https://www.bestbuy.ca/en-CA/home.aspx\">\n",
      "<img alt=\"Canada\" src=\"https://www.bestbuy.com/~assets/bby/_intl/landing_page/images/maps/canada.svg\"/>\n",
      "<h4>Canada</h4>\n",
      "</a>\n",
      "<a class=\"us-link\" href=\"#\">\n",
      "<img alt=\"United States\" src=\"https://www.bestbuy.com/~assets/bby/_intl/landing_page/images/maps/usa.svg\"/>\n",
      "<h4>United States</h4>\n",
      "</a>\n",
      "<a href=\"https://www.bestbuy.com.mx/\">\n",
      "<img alt=\"Mexico\" src=\"https://www.bestbuy.com/~assets/bby/_intl/landing_page/images/maps/mexico.svg\"/>\n",
      "<h4>Mexico</h4>\n",
      "</a>\n",
      "</div>\n",
      "<div class=\"horizontal-rule\"></div>\n",
      "<h3 class=\"international-header\">Shopping in the U.S.?</h3>\n",
      "<p class=\"info\">\n",
      "              International customers can shop on www.bestbuy.com and have orders shipped to any U.S. address or U.S. store. \n",
      "              <a class=\"more-details\" href=\"https://www.bestbuy.com/site/help-topics/international-orders/pcmcat204400050019.c?id=pcmcat204400050019&amp;intl=nosplash\">See More Details\n",
      "                <img src=\"https://www.bestbuy.com/~assets/bby/_intl/landing_page/images/icons/arrow.svg\"/>\n",
      "</a>\n",
      "</p>\n",
      "</div>\n",
      "<div class=\"hidden\" lang=\"fr\">\n",
      "<img alt=\"Best Buy Logo\" class=\"logo\" src=\"https://www.bestbuy.com/~assets/bby/_com/header-footer/images/bby_logo-a7e90594729ed2e119331378def6c97e.png\" width=\"80\"/>\n",
      "<div class=\"heading\">Bonjour!</div>\n",
      "<h1>Choisir un pays :</h1>\n",
      "<div class=\"country-selection\">\n",
      "<a href=\"https://www.bestbuy.ca/fr-CA/home.aspx\">\n",
      "<img alt=\"Canada\" src=\"https://www.bestbuy.com/~assets/bby/_intl/landing_page/images/maps/canada.svg\"/>\n",
      "<h4>Canada</h4>\n",
      "</a>\n",
      "<a class=\"us-link\" href=\"#\">\n",
      "<img alt=\"United States\" src=\"https://www.bestbuy.com/~assets/bby/_intl/landing_page/images/maps/usa.svg\"/>\n",
      "<h4>United States</h4>\n",
      "</a>\n",
      "<a href=\"https://www.bestbuy.com.mx/\">\n",
      "<img alt=\"Mexico\" src=\"https://www.bestbuy.com/~assets/bby/_intl/landing_page/images/maps/mexico.svg\"/>\n",
      "<h4>Mexico</h4>\n",
      "</a>\n",
      "</div>\n",
      "<div class=\"horizontal-rule\"></div>\n",
      "<h3 class=\"international-header\">Vous magasinez aux Ã.-U.?</h3>\n",
      "<p class=\"info\">\n",
      "              Les clients internationaux peuvent magasiner au www.bestbuy.com et faire livrer leurs commandes Ã  nâimporte quelle adresse ou nâimporte quel magasin aux Ãtats-Unis. \n",
      "              <a class=\"more-details\" href=\"https://www.bestbuy.com/site/help-topics/international-orders/pcmcat204400050019.c?id=pcmcat204400050019&amp;intl=nosplash\">Voir les dÃ©tails\n",
      "                <img src=\"https://www.bestbuy.com/~assets/bby/_intl/landing_page/images/icons/arrow.svg\"/>\n",
      "</a>\n",
      "</p>\n",
      "</div>\n",
      "<div class=\"hidden\" lang=\"es\">\n",
      "<img alt=\"Best Buy Logo\" class=\"logo\" src=\"https://www.bestbuy.com/~assets/bby/_com/header-footer/images/bby_logo-a7e90594729ed2e119331378def6c97e.png\" width=\"80\"/>\n",
      "<div class=\"heading\">Â¡Hola!</div>\n",
      "<h1>Seleciona un paÃ­s.</h1>\n",
      "<div class=\"country-selection\">\n",
      "<a href=\"https://www.bestbuy.ca/en-CA/home.aspx\">\n",
      "<img alt=\"Canada\" src=\"https://www.bestbuy.com/~assets/bby/_intl/landing_page/images/maps/canada.svg\"/>\n",
      "<h4>Canada</h4>\n",
      "</a>\n",
      "<a class=\"us-link\" href=\"#\">\n",
      "<img alt=\"Estados Unidos\" src=\"https://www.bestbuy.com/~assets/bby/_intl/landing_page/images/maps/usa.svg\"/>\n",
      "<h4>Estados Unidos</h4>\n",
      "</a>\n",
      "<a href=\"https://www.bestbuy.com.mx/\">\n",
      "<img alt=\"Mexico\" src=\"https://www.bestbuy.com/~assets/bby/_intl/landing_page/images/maps/mexico.svg\"/>\n",
      "<h4>MÃ©xico</h4>\n",
      "</a>\n",
      "</div>\n",
      "<div class=\"horizontal-rule\"></div>\n",
      "<h3 class=\"international-header\">Â¿COMPRANDO EN EE. UU.?</h3>\n",
      "<p class=\"info\">\n",
      "              Clientes internacionales pueden comparer en www.bestbuy.com y enviar sus pedidos a cualquier domicilio o tienda en EE. UU. \n",
      "              <a class=\"more-details\" href=\"https://www.bestbuy.com/site/help-topics/international-orders/pcmcat204400050019.c?id=pcmcat204400050019&amp;intl=nosplash\">Ver mÃ¡s detalles\n",
      "                <img src=\"https://www.bestbuy.com/~assets/bby/_intl/landing_page/images/icons/arrow.svg\"/>\n",
      "</a>\n",
      "</p>\n",
      "</div>\n",
      "</div>\n",
      "</div>\n",
      "</div>\n",
      "</div>\n",
      "<script src=\"https://www.bestbuy.com/~assets/bby/_intl/landing_page/js/zepto.min.js\"></script>\n",
      "<script src=\"https://www.bestbuy.com/~assets/bby/_intl/landing_page/js/app.js\"></script>\n",
      "<script type=\"text/javascript\">\n",
      "    window.track = { pageType:'International', templateName:'International', page:'International Page', section:'International' };\n",
      "    window.dioFramework = true;\n",
      "  </script>\n",
      "<script src=\"https://www.bestbuy.com/~assets/bby/_com/sc-libraries/javascript/libraries-d3479d7f4631b94864264fdd7bdf91f3.js\"></script>\n",
      "<script async=\"\" src=\"https://www.bestbuy.com/~assets/bby/_com/analytics-dotcom/analyticsInit.js\"></script>\n",
      "<script type=\"text/javascript\">var _cf = _cf || []; _cf.push(['_setFsp', true]);  _cf.push(['_setBm', true]);  _cf.push(['_setAu', '/resources/eaf6bc5d96rn216415bbddb9ddaa7aed']); </script><script src=\"/resources/eaf6bc5d96rn216415bbddb9ddaa7aed\" type=\"text/javascript\"></script></body>\n",
      "</html>\n",
      "\n"
     ]
    }
   ],
   "source": [
    "review_link='https://www.bestbuy.com/site/mobile-cell-phones/mobile-phones-with-plans/pcmcat209400050001.c?cp=6&id=pcmcat209400050001&sp=%2Bbrand%20skuidsaas'\n",
    "response = get(review_link, headers={'User-Agent': 'Custom'})\n",
    "soup = BeautifulSoup(response.text, 'lxml')\n",
    "print(soup)"
   ],
   "metadata": {
    "collapsed": false,
    "pycharm": {
     "name": "#%%\n"
    }
   }
  },
  {
   "cell_type": "code",
   "execution_count": 68,
   "outputs": [
    {
     "data": {
      "text/plain": "<sqlite3.Cursor at 0x2246d83c5e0>"
     },
     "execution_count": 68,
     "metadata": {},
     "output_type": "execute_result"
    }
   ],
   "source": [
    "c.execute((\"\"\"\n",
    "       CREATE TABLE IF NOT EXISTS\n",
    "           test2(\n",
    "               NODE TEXT,\n",
    "               URL TEXT,\n",
    "               REVIEWBODY TEXT,\n",
    "               RATING TEXT,\n",
    "               REVIEWRATING TEXT,\n",
    "               BESTRATING TEXT,\n",
    "               WORSTRATING TEXT,\n",
    "               PRIMARY KEY (NODE, URL))\n",
    "   \"\"\"))"
   ],
   "metadata": {
    "collapsed": false,
    "pycharm": {
     "name": "#%%\n"
    }
   }
  },
  {
   "cell_type": "code",
   "execution_count": 85,
   "outputs": [
    {
     "name": "stdout",
     "output_type": "stream",
     "text": [
      "18\n"
     ]
    }
   ],
   "source": [
    "list = []\n"
   ],
   "metadata": {
    "collapsed": false,
    "pycharm": {
     "name": "#%%\n"
    }
   }
  }
 ],
 "metadata": {
  "kernelspec": {
   "display_name": "Python 3",
   "language": "python",
   "name": "python3"
  },
  "language_info": {
   "codemirror_mode": {
    "name": "ipython",
    "version": 3
   },
   "file_extension": ".py",
   "mimetype": "text/x-python",
   "name": "python",
   "nbconvert_exporter": "python",
   "pygments_lexer": "ipython3",
   "version": "3.6.9"
  },
  "toc": {
   "base_numbering": 1,
   "nav_menu": {},
   "number_sections": true,
   "sideBar": true,
   "skip_h1_title": false,
   "title_cell": "Table of Contents",
   "title_sidebar": "Contents",
   "toc_cell": false,
   "toc_position": {},
   "toc_section_display": true,
   "toc_window_display": false
  },
  "varInspector": {
   "cols": {
    "lenName": 16,
    "lenType": 16,
    "lenVar": 40
   },
   "kernels_config": {
    "python": {
     "delete_cmd_postfix": "",
     "delete_cmd_prefix": "del ",
     "library": "var_list.py",
     "varRefreshCmd": "print(var_dic_list())"
    },
    "r": {
     "delete_cmd_postfix": ") ",
     "delete_cmd_prefix": "rm(",
     "library": "var_list.r",
     "varRefreshCmd": "cat(var_dic_list()) "
    }
   },
   "types_to_exclude": [
    "module",
    "function",
    "builtin_function_or_method",
    "instance",
    "_Feature"
   ],
   "window_display": false
  }
 },
 "nbformat": 4,
 "nbformat_minor": 1
}