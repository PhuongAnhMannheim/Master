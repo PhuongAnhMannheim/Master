{
 "cells": [
  {
   "cell_type": "code",
   "execution_count": 10,
   "metadata": {
    "collapsed": true
   },
   "outputs": [
    {
     "name": "stdout",
     "output_type": "stream",
     "text": [
      "https://www.cinemablend.com/reviews/2551656/hbo-maxs-an-american-pickle-review-seth-rogen-delivers-two-great-performances-in-a-howlingly-funny-comedy?pv=related_list\n",
      "https://www.cinemablend.com/reviews/2551665/the-tax-collector-review-david-ayer-returns-to-familiar-ground-with-a-compelling-crime-thriller?pv=related_list\n",
      "https://www.cinemablend.com/television/2552104/a-few-days-ahead-of-americas-got-talent-live-shows-simon-cowell-just-broke-his-back?pv=related_list\n",
      "https://www.cinemablend.com/news/2551961/hamiltons-leslie-odom-jr-explains-why-burr-is-the-narrator?pv=related_list\n",
      "https://www.cinemablend.com/television/2487265/the-mandalorian-season-2-what-we-know-so-far?pv=related_list\n",
      "https://www.cinemablend.com/news/2551986/the-town-behind-the-scenes-facts-about-ben-afflecks-movie?pv=related_list\n",
      "https://www.cinemablend.com/new/upcoming-marvel-movies-release-dates-for-phase-4-and-5-67944.html?pv=related_list\n"
     ]
    }
   ],
   "source": [
    "import time\n",
    "from selenium import webdriver\n",
    "from selenium.webdriver.common.keys import Keys\n",
    "from bs4 import BeautifulSoup\n",
    "# import requests\n",
    "from requests import get\n",
    "import json\n",
    "import random\n",
    "import string\n",
    "import sqlite3\n",
    "import logging\n",
    "import re\n",
    "\n",
    "browser = webdriver.Chrome()\n",
    "browser.get(\"https://www.cinemablend.com/reviews/\")\n",
    "time.sleep(1)\n",
    "\n",
    "elem = browser.find_element_by_tag_name(\"body\")\n",
    "\n",
    "no_of_pagedowns = 20\n",
    "\n",
    "while no_of_pagedowns:\n",
    "    elem.send_keys(Keys.PAGE_DOWN)\n",
    "    time.sleep(0.2)\n",
    "    no_of_pagedowns-=1\n",
    "\n",
    "post_elems= browser.find_elements_by_class_name(\"post-item-title\")\n",
    "\n",
    "# in einer data structure tun und sicherstellen, dass ich sie nicht noch einmal scrape\n",
    "\n",
    "response = get(\"https://www.cinemablend.com/reviews/\")\n",
    "soup = BeautifulSoup(response.text, 'lxml')\n",
    "movie_container = soup.find_all(\"div\", class_=\"story-related\")\n",
    "for movie in movie_container:\n",
    "    print(movie.a['href'])"
   ]
  }
 ],
 "metadata": {
  "kernelspec": {
   "display_name": "Python 3",
   "language": "python",
   "name": "python3"
  },
  "language_info": {
   "codemirror_mode": {
    "name": "ipython",
    "version": 2
   },
   "file_extension": ".py",
   "mimetype": "text/x-python",
   "name": "python",
   "nbconvert_exporter": "python",
   "pygments_lexer": "ipython2",
   "version": "2.7.6"
  }
 },
 "nbformat": 4,
 "nbformat_minor": 0
}