{
 "cells": [
  {
   "cell_type": "code",
   "execution_count": 2,
   "metadata": {
    "collapsed": true
   },
   "outputs": [],
   "source": [
    "from bs4 import BeautifulSoup\n",
    "import requests\n",
    "from requests import get\n",
    "import json\n",
    "import random\n",
    "import string\n",
    "import sqlite3\n",
    "import logging\n",
    "import re\n"
   ]
  },
  {
   "cell_type": "code",
   "execution_count": 3,
   "outputs": [],
   "source": [
    "flickfilosopher_file = '../Scraping/flickfilosopher.txt'\n",
    "current_reviews = set(line.strip() for line in open(flickfilosopher_file))\n",
    "\n",
    "db_path = '../Data/test.db'\n",
    "db_name = 'test'\n",
    "conn = sqlite3.connect(db_path)\n",
    "c = conn.cursor()"
   ],
   "metadata": {
    "collapsed": false,
    "pycharm": {
     "name": "#%%\n"
    }
   }
  },
  {
   "cell_type": "code",
   "execution_count": 17,
   "outputs": [
    {
     "ename": "AttributeError",
     "evalue": "ResultSet object has no attribute 'find'. You're probably treating a list of elements like a single element. Did you call find_all() when you meant to call find()?",
     "output_type": "error",
     "traceback": [
      "\u001B[1;31m---------------------------------------------------------------------------\u001B[0m",
      "\u001B[1;31mAttributeError\u001B[0m                            Traceback (most recent call last)",
      "\u001B[1;32m<ipython-input-17-679e4ce41581>\u001B[0m in \u001B[0;36m<module>\u001B[1;34m\u001B[0m\n\u001B[0;32m     13\u001B[0m \u001B[1;33m\u001B[0m\u001B[0m\n\u001B[0;32m     14\u001B[0m \u001B[0msoup\u001B[0m \u001B[1;33m=\u001B[0m \u001B[0mBeautifulSoup\u001B[0m\u001B[1;33m(\u001B[0m\u001B[0mget\u001B[0m\u001B[1;33m(\u001B[0m\u001B[0murl\u001B[0m\u001B[1;33m)\u001B[0m\u001B[1;33m.\u001B[0m\u001B[0mtext\u001B[0m\u001B[1;33m,\u001B[0m \u001B[1;34m'html.parser'\u001B[0m\u001B[1;33m)\u001B[0m\u001B[1;33m\u001B[0m\u001B[1;33m\u001B[0m\u001B[0m\n\u001B[1;32m---> 15\u001B[1;33m \u001B[0mmovie_container\u001B[0m \u001B[1;33m=\u001B[0m \u001B[0msoup\u001B[0m\u001B[1;33m.\u001B[0m\u001B[0mfind_all\u001B[0m\u001B[1;33m(\u001B[0m\u001B[1;34m\"div\"\u001B[0m\u001B[1;33m,\u001B[0m \u001B[0mclass_\u001B[0m\u001B[1;33m=\u001B[0m\u001B[1;34m\"entry post clearfix\"\u001B[0m\u001B[1;33m)\u001B[0m\u001B[1;33m.\u001B[0m\u001B[0mfind\u001B[0m\u001B[1;33m(\u001B[0m\u001B[1;34m\"p\"\u001B[0m\u001B[1;33m)\u001B[0m\u001B[1;33m\u001B[0m\u001B[1;33m\u001B[0m\u001B[0m\n\u001B[0m\u001B[0;32m     16\u001B[0m \u001B[1;31m# print(movie_container)\u001B[0m\u001B[1;33m\u001B[0m\u001B[1;33m\u001B[0m\u001B[1;33m\u001B[0m\u001B[0m\n\u001B[0;32m     17\u001B[0m \u001B[1;31m# movie_count = 0\u001B[0m\u001B[1;33m\u001B[0m\u001B[1;33m\u001B[0m\u001B[1;33m\u001B[0m\u001B[0m\n",
      "\u001B[1;32mc:\\users\\d064966\\appdata\\local\\continuum\\anaconda3\\envs\\masterthesis\\lib\\site-packages\\bs4\\element.py\u001B[0m in \u001B[0;36m__getattr__\u001B[1;34m(self, key)\u001B[0m\n\u001B[0;32m   2159\u001B[0m         \u001B[1;34m\"\"\"Raise a helpful exception to explain a common code fix.\"\"\"\u001B[0m\u001B[1;33m\u001B[0m\u001B[1;33m\u001B[0m\u001B[0m\n\u001B[0;32m   2160\u001B[0m         raise AttributeError(\n\u001B[1;32m-> 2161\u001B[1;33m             \u001B[1;34m\"ResultSet object has no attribute '%s'. You're probably treating a list of elements like a single element. Did you call find_all() when you meant to call find()?\"\u001B[0m \u001B[1;33m%\u001B[0m \u001B[0mkey\u001B[0m\u001B[1;33m\u001B[0m\u001B[1;33m\u001B[0m\u001B[0m\n\u001B[0m\u001B[0;32m   2162\u001B[0m         )\n",
      "\u001B[1;31mAttributeError\u001B[0m: ResultSet object has no attribute 'find'. You're probably treating a list of elements like a single element. Did you call find_all() when you meant to call find()?"
     ]
    }
   ],
   "source": [
    "def generateNode(length):\n",
    "    letters_and_digits = string.ascii_letters + string.digits\n",
    "    result_str = ''.join((random.choice(letters_and_digits) for i in range(length)))\n",
    "    node = \"_:znode\" + result_str\n",
    "    return node\n",
    "\n",
    "# all moviereviews\n",
    "url = \"https://www.flickfilosopher.com/all-reviews-a-m\"\n",
    "# page2 = \"https://www.flickfilosopher.com/all-reviews-n-z\"\n",
    "# url_lst = ['https://www.flickfilosopher.com/all-reviews-a-m', 'https://www.flickfilosopher.com/all-reviews-n-z']\n",
    "# for url in url_lst:\n",
    "#     ...\n",
    "\n",
    "soup = BeautifulSoup(get(url).text, 'html.parser')\n",
    "movie_container = soup.find_all(\"div\", class_=\"entry post clearfix\").find(\"p\")\n",
    "# print(movie_container)\n",
    "# movie_count = 0\n",
    "# review_count = 0\n",
    "for item in movie_container:\n",
    "    print(item.a['href'])\n",
    "    # review_link = item.a['href']\n",
    "# # review_link = 'http://reviewschview.com/barfi/'\n",
    "#\n",
    "# # ->\n",
    "# # review_link = 'http://reviewschview.com/jawaani-jaaneman/'\n",
    "# # print(review_link)\n",
    "# # checken, ob schon einmal gereviewed oder nicht\n",
    "#     if (review_link in current_reviews):\n",
    "#         # print(review_link)\n",
    "#         # continue\n",
    "#         pass\n",
    "#     else:\n",
    "#         movie_count += 1\n",
    "#         review_soup = BeautifulSoup(get(review_link).text, 'html.parser')\n",
    "#         reviews = review_soup.find_all(\"li\", itemprop=\"review\")\n",
    "#         # print(reviews)\n",
    "#         for item in reviews:\n",
    "#             reviewBody = item.find(\"div\", itemprop=\"reviewBody\").text\n",
    "#             worstRating = item.find(\"meta\", itemprop=\"worstRating\")[\"content\"]\n",
    "#             bestRating = item.find(\"meta\", itemprop=\"bestRating\")[\"content\"]\n",
    "#             ratingValue = item.find(\"p\", itemprop=\"ratingValue\").text\n",
    "#             reviewRating = \"already included\"\n",
    "#             node = generateNode(31)\n",
    "#\n",
    "#             # print('node:' + node)\n",
    "#             # print('url: '+ review_link)\n",
    "#             # print('reviewBody: ' + reviewBody)\n",
    "#             # print('worstRating: ' + worstRating)\n",
    "#             # print('bestRating: ' + bestRating)\n",
    "#             # print('ratingValue: ' + ratingValue)\n",
    "#             # c.execute(f\"INSERT OR IGNORE INTO {db_name} (NODE, URL, REVIEWBODY, RATING, REVIEWRATING, BESTRATING, WORSTRATING) VALUES (?,?,?,?,?,?,?);\",(node,review_link,reviewBody,reviewRating,ratingValue,bestRating,worstRating))\n",
    "#             # conn.commit()\n",
    "#             review_count += 1\n",
    "#\n",
    "# print('open movies to get reviews from: ' + str(movie_count))\n",
    "# print('amount of reviews extracted: ' + str(review_count))\n"
   ],
   "metadata": {
    "collapsed": false,
    "pycharm": {
     "name": "#%%\n"
    }
   }
  }
 ],
 "metadata": {
  "kernelspec": {
   "display_name": "Python 3",
   "language": "python",
   "name": "python3"
  },
  "language_info": {
   "codemirror_mode": {
    "name": "ipython",
    "version": 2
   },
   "file_extension": ".py",
   "mimetype": "text/x-python",
   "name": "python",
   "nbconvert_exporter": "python",
   "pygments_lexer": "ipython2",
   "version": "2.7.6"
  }
 },
 "nbformat": 4,
 "nbformat_minor": 0
}