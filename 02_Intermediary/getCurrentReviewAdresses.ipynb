{
 "cells": [
  {
   "cell_type": "code",
   "execution_count": 1,
   "outputs": [
    {
     "data": {
      "text/plain": "                                          NODE  \\\n32      _:node9e6b599bb0a0c282a5cad42fa35cea60   \n42      _:node618abc17c8fc753a4660a9dd8d791d92   \n44       _:nodedde279d8eeff5fcdc7645f93eefafec   \n46      _:nodea1733456b235cc4bac79e614fd84ce42   \n48      _:nodeec3342a197dd1122ac3274ca4f1ea1b7   \n...                                        ...   \n804268  _:noded6d812a06f90a69266c22683cf60ca8e   \n804270  _:node6e7686906d77127c79338c979082b7ee   \n804274   _:node5af973f385e6596e4c21a36db294e97   \n804322   _:nodedd6032257a7ebb87f99461da26cbd9c   \n804336  _:node2735dd4151eb874145e0f22191716e6b   \n\n                                                      URL  \\\n32      https://www.techradar.com/reviews/vernee-v2-pr...   \n42      https://www.proporta.com/gripstick-dashboard-m...   \n44      https://www.proporta.com/gripstick-dashboard-m...   \n46      https://www.proporta.com/gripstick-dashboard-m...   \n48      https://www.proporta.com/gripstick-dashboard-m...   \n...                                                   ...   \n804268    http://de.phoneky.com/android-games/?id=n1n8759   \n804270    http://de.phoneky.com/android-games/?id=n1n8759   \n804274    http://de.phoneky.com/android-games/?id=n1n8759   \n804322                 http://533tu.com/~pinterest/iphone   \n804336  https://www.trustedreviews.com/reviews/nokia-l...   \n\n                                               REVIEWBODY  \\\n32      \"\\n\\n\\nWhere to buy?Online Chinese retailer, G...   \n42      \"Another useful gadget which has yet to be ful...   \n44      \"Perfect for holding mobile phone on dashboard...   \n46      \"Car easy use<br />\\n<br />\\nRecommend to all ...   \n48      \"Another useful gadget which has yet to be ful...   \n...                                                   ...   \n804268                   \"cool game thanks phonekey. com\"   \n804270                               \"nice and fast game\"   \n804274                                  \"My name is love\"   \n804322  \"By Lewis LeongVery good8Pinterest is a social...   \n804336  \"\\n\\t\\tNokia Lumia 920 \\u2013 Interface\\nThe N...   \n\n                                        RATING  \\\n32         _:nodec31a287f3d1864bfab3ae61cfb3bc   \n42      _:node89349b98f280309385d7a2d8bbf43095   \n44        _:node28b4bcf792918c8acc7869faa29e65   \n46        _:node3e9b67b6836f0c537601cb9e712f84   \n48      _:node9b81bbe3f33cbeb7a751637e146d5653   \n...                                        ...   \n804268     _:nodef4b349ee4ddd1343cb53e6a12d214   \n804270  _:node61567ce1adf0fb6f67f2ff3a40436354   \n804274    _:node99bd8c061ec58dbf2d9b2b27fd63e1   \n804322     _:node786bc4b7db3cf22ff2331fc3c3f1d   \n804336  _:node4b16e8d9e67066a4abf894283f1e1ca8   \n\n                                   REVIEWRATING  BESTRATING WORSTRATING  \n32                                       \"3\"@en    \"5.0\"@en    \"0.0\"@en  \n42                                       \"4\"@en      \"5\"@en      \"1\"@en  \n44                                       \"5\"@en      \"5\"@en      \"1\"@en  \n46                                       \"5\"@en      \"5\"@en      \"1\"@en  \n48                                       \"4\"@en      \"5\"@en      \"1\"@en  \n...                                         ...         ...         ...  \n804268                                      \"5\"         \"5\"         \"0\"  \n804270                                      \"5\"         \"5\"         \"0\"  \n804274                                      \"5\"         \"5\"         \"0\"  \n804322  \"{{ app.editorReview.rating.average }}\"        \"10\"         \"0\"  \n804336                                \"8\"@en-US  \"10\"@en-US   \"1\"@en-US  \n\n[40217 rows x 7 columns]",
      "text/html": "<div>\n<style scoped>\n    .dataframe tbody tr th:only-of-type {\n        vertical-align: middle;\n    }\n\n    .dataframe tbody tr th {\n        vertical-align: top;\n    }\n\n    .dataframe thead th {\n        text-align: right;\n    }\n</style>\n<table border=\"1\" class=\"dataframe\">\n  <thead>\n    <tr style=\"text-align: right;\">\n      <th></th>\n      <th>NODE</th>\n      <th>URL</th>\n      <th>REVIEWBODY</th>\n      <th>RATING</th>\n      <th>REVIEWRATING</th>\n      <th>BESTRATING</th>\n      <th>WORSTRATING</th>\n    </tr>\n  </thead>\n  <tbody>\n    <tr>\n      <th>32</th>\n      <td>_:node9e6b599bb0a0c282a5cad42fa35cea60</td>\n      <td>https://www.techradar.com/reviews/vernee-v2-pr...</td>\n      <td>\"\\n\\n\\nWhere to buy?Online Chinese retailer, G...</td>\n      <td>_:nodec31a287f3d1864bfab3ae61cfb3bc</td>\n      <td>\"3\"@en</td>\n      <td>\"5.0\"@en</td>\n      <td>\"0.0\"@en</td>\n    </tr>\n    <tr>\n      <th>42</th>\n      <td>_:node618abc17c8fc753a4660a9dd8d791d92</td>\n      <td>https://www.proporta.com/gripstick-dashboard-m...</td>\n      <td>\"Another useful gadget which has yet to be ful...</td>\n      <td>_:node89349b98f280309385d7a2d8bbf43095</td>\n      <td>\"4\"@en</td>\n      <td>\"5\"@en</td>\n      <td>\"1\"@en</td>\n    </tr>\n    <tr>\n      <th>44</th>\n      <td>_:nodedde279d8eeff5fcdc7645f93eefafec</td>\n      <td>https://www.proporta.com/gripstick-dashboard-m...</td>\n      <td>\"Perfect for holding mobile phone on dashboard...</td>\n      <td>_:node28b4bcf792918c8acc7869faa29e65</td>\n      <td>\"5\"@en</td>\n      <td>\"5\"@en</td>\n      <td>\"1\"@en</td>\n    </tr>\n    <tr>\n      <th>46</th>\n      <td>_:nodea1733456b235cc4bac79e614fd84ce42</td>\n      <td>https://www.proporta.com/gripstick-dashboard-m...</td>\n      <td>\"Car easy use&lt;br /&gt;\\n&lt;br /&gt;\\nRecommend to all ...</td>\n      <td>_:node3e9b67b6836f0c537601cb9e712f84</td>\n      <td>\"5\"@en</td>\n      <td>\"5\"@en</td>\n      <td>\"1\"@en</td>\n    </tr>\n    <tr>\n      <th>48</th>\n      <td>_:nodeec3342a197dd1122ac3274ca4f1ea1b7</td>\n      <td>https://www.proporta.com/gripstick-dashboard-m...</td>\n      <td>\"Another useful gadget which has yet to be ful...</td>\n      <td>_:node9b81bbe3f33cbeb7a751637e146d5653</td>\n      <td>\"4\"@en</td>\n      <td>\"5\"@en</td>\n      <td>\"1\"@en</td>\n    </tr>\n    <tr>\n      <th>...</th>\n      <td>...</td>\n      <td>...</td>\n      <td>...</td>\n      <td>...</td>\n      <td>...</td>\n      <td>...</td>\n      <td>...</td>\n    </tr>\n    <tr>\n      <th>804268</th>\n      <td>_:noded6d812a06f90a69266c22683cf60ca8e</td>\n      <td>http://de.phoneky.com/android-games/?id=n1n8759</td>\n      <td>\"cool game thanks phonekey. com\"</td>\n      <td>_:nodef4b349ee4ddd1343cb53e6a12d214</td>\n      <td>\"5\"</td>\n      <td>\"5\"</td>\n      <td>\"0\"</td>\n    </tr>\n    <tr>\n      <th>804270</th>\n      <td>_:node6e7686906d77127c79338c979082b7ee</td>\n      <td>http://de.phoneky.com/android-games/?id=n1n8759</td>\n      <td>\"nice and fast game\"</td>\n      <td>_:node61567ce1adf0fb6f67f2ff3a40436354</td>\n      <td>\"5\"</td>\n      <td>\"5\"</td>\n      <td>\"0\"</td>\n    </tr>\n    <tr>\n      <th>804274</th>\n      <td>_:node5af973f385e6596e4c21a36db294e97</td>\n      <td>http://de.phoneky.com/android-games/?id=n1n8759</td>\n      <td>\"My name is love\"</td>\n      <td>_:node99bd8c061ec58dbf2d9b2b27fd63e1</td>\n      <td>\"5\"</td>\n      <td>\"5\"</td>\n      <td>\"0\"</td>\n    </tr>\n    <tr>\n      <th>804322</th>\n      <td>_:nodedd6032257a7ebb87f99461da26cbd9c</td>\n      <td>http://533tu.com/~pinterest/iphone</td>\n      <td>\"By Lewis LeongVery good8Pinterest is a social...</td>\n      <td>_:node786bc4b7db3cf22ff2331fc3c3f1d</td>\n      <td>\"{{ app.editorReview.rating.average }}\"</td>\n      <td>\"10\"</td>\n      <td>\"0\"</td>\n    </tr>\n    <tr>\n      <th>804336</th>\n      <td>_:node2735dd4151eb874145e0f22191716e6b</td>\n      <td>https://www.trustedreviews.com/reviews/nokia-l...</td>\n      <td>\"\\n\\t\\tNokia Lumia 920 \\u2013 Interface\\nThe N...</td>\n      <td>_:node4b16e8d9e67066a4abf894283f1e1ca8</td>\n      <td>\"8\"@en-US</td>\n      <td>\"10\"@en-US</td>\n      <td>\"1\"@en-US</td>\n    </tr>\n  </tbody>\n</table>\n<p>40217 rows × 7 columns</p>\n</div>"
     },
     "execution_count": 1,
     "metadata": {},
     "output_type": "execute_result"
    }
   ],
   "source": [
    "import sqlite3, pandas as pd\n",
    "\n",
    "db_path = '../Data/moviewreviews.db'\n",
    "db_name = 'moviereviews'\n",
    "conn = sqlite3.connect(db_path)\n",
    "cursor = conn.cursor()\n",
    "\n",
    "p_db_path = '../Data/phonereviews.db'\n",
    "p_db_name = 'phonereviews'\n",
    "p_conn = sqlite3.connect(p_db_path)\n",
    "p_c = conn.cursor()\n",
    "\n",
    "reviewschview_file = '../Scraping/already_links_in/reviewschview.txt'\n",
    "flickfilosopher_file = '../Scraping/already_links_in/flickfilosopher.txt'\n",
    "telegraph_file = '../Scraping/already_links_in/flickfilosopher.txt'\n",
    "bookmyshow_file = '../Scraping/already_links_in/bookmyshow.txt'\n",
    "thereviewmonk_file = '../Scraping/already_links_in/thereviewmonk.txt'\n",
    "deepfocusreview_file = '../Scraping/already_links_in/deepfocusreview.txt'\n",
    "nationalpost_file = '../Scraping/already_links_in/nationalpost.txt'\n",
    "coolsmartphone_file = '../Scraping/already_links_in/coolsmartphone.txt'\n",
    "techadvisor_file = '../Scraping/already_links_in/techadvisor.txt'\n",
    "\n",
    "df = pd.read_sql_query(\"SELECT * from \" + str(db_name), conn)\n",
    "df.dropna()\n",
    "\n",
    "p_df = pd.read_sql_query(\"SELECT * from \" + str(p_db_name), p_conn)\n",
    "p_df.dropna()\n",
    "\n",
    "# df = df[df.REVIEWBODY.notnull()&df.RATING.notnull()&df.REVIEWRATING.notnull()&df.BESTRATING.notnull()&df.WORSTRATING.notnull()]\n",
    "# df = df[~df.REVIEWBODY.str.contains(\"Null\") & ~df.REVIEWRATING.str.contains(\"Null\") & ~df.BESTRATING.str.contains(\"Null\") & ~df.WORSTRATING.str.contains(\"Null\")]\n",
    "# df.drop_duplicates(subset='URL')"
   ],
   "metadata": {
    "collapsed": false,
    "pycharm": {
     "name": "#%%\n"
    }
   }
  },
  {
   "cell_type": "code",
   "execution_count": 15,
   "outputs": [],
   "source": [
    "reviewschview_lst = df[df.URL.str.contains('reviewschview')]['URL'].value_counts().index.tolist()\n",
    "with open(reviewschview_file, 'w') as f:\n",
    "    for item in reviewschview_lst:\n",
    "        f.write(\"%s\\n\" % item)"
   ],
   "metadata": {
    "collapsed": false,
    "pycharm": {
     "name": "#%%\n"
    }
   }
  },
  {
   "cell_type": "code",
   "execution_count": 17,
   "outputs": [],
   "source": [
    "flickfilosopher_lst = df[df.URL.str.contains('flickfilosopher')]['URL'].value_counts().index.tolist()\n",
    "with open(flickfilosopher_file, 'w') as f:\n",
    "    for item in flickfilosopher_lst:\n",
    "        f.write(\"%s\\n\" % item)"
   ],
   "metadata": {
    "collapsed": false,
    "pycharm": {
     "name": "#%%\n"
    }
   }
  },
  {
   "cell_type": "code",
   "execution_count": 2,
   "outputs": [],
   "source": [
    "telegraph_lst = df[df.URL.str.contains('telegraph')]['URL'].value_counts().index.tolist()\n",
    "with open(telegraph_file, 'w') as f:\n",
    "    for item in telegraph_lst:\n",
    "        f.write(\"%s\\n\" % item)"
   ],
   "metadata": {
    "collapsed": false,
    "pycharm": {
     "name": "#%%\n"
    }
   }
  },
  {
   "cell_type": "code",
   "execution_count": 59,
   "outputs": [],
   "source": [
    "thereviewmonk_lst = df[df.URL.str.contains('thereviewmonk')]['URL'].value_counts().index.tolist()\n",
    "with open(thereviewmonk_file, 'w') as f:\n",
    "    for item in thereviewmonk_lst:\n",
    "        f.write(\"%s\\n\" % item)"
   ],
   "metadata": {
    "collapsed": false,
    "pycharm": {
     "name": "#%%\n"
    }
   }
  },
  {
   "cell_type": "code",
   "execution_count": 2,
   "outputs": [],
   "source": [
    "deepfocusreview_lst = df[df.URL.str.contains('deepfocusreview')]['URL'].value_counts().index.tolist()\n",
    "with open(deepfocusreview_file, 'w') as f:\n",
    "    for item in deepfocusreview_lst:\n",
    "        f.write(\"%s\\n\" % item)"
   ],
   "metadata": {
    "collapsed": false,
    "pycharm": {
     "name": "#%%\n"
    }
   }
  },
  {
   "cell_type": "code",
   "execution_count": null,
   "outputs": [],
   "source": [
    "nationalpost_lst = df[df.URL.str.contains('nationalpost')]['URL'].value_counts().index.tolist()\n",
    "with open(nationalpost_file, 'w') as f:\n",
    "    for item in nationalpost_lst:\n",
    "        f.write(\"%s\\n\" % item)"
   ],
   "metadata": {
    "collapsed": false,
    "pycharm": {
     "name": "#%%\n"
    }
   }
  },
  {
   "cell_type": "code",
   "execution_count": 3,
   "outputs": [],
   "source": [
    "coolsmartphone_lst = p_df[p_df.URL.str.contains('coolsmartphone')]['URL'].value_counts().index.tolist()\n",
    "with open(coolsmartphone_file, 'w') as f:\n",
    "    for item in coolsmartphone_lst:\n",
    "        f.write(\"%s\\n\" % item)"
   ],
   "metadata": {
    "collapsed": false,
    "pycharm": {
     "name": "#%%\n"
    }
   }
  },
  {
   "cell_type": "code",
   "execution_count": 2,
   "outputs": [],
   "source": [
    "techadvisor_lst = p_df[p_df.URL.str.contains('techadvisor')]['URL'].value_counts().index.tolist()\n",
    "with open(techadvisor_file, 'w') as f:\n",
    "    for item in techadvisor_lst:\n",
    "        f.write(\"%s\\n\" % item)\n"
   ],
   "metadata": {
    "collapsed": false,
    "pycharm": {
     "name": "#%%\n"
    }
   }
  }
 ],
 "metadata": {
  "kernelspec": {
   "display_name": "Python 3",
   "language": "python",
   "name": "python3"
  },
  "language_info": {
   "codemirror_mode": {
    "name": "ipython",
    "version": 2
   },
   "file_extension": ".py",
   "mimetype": "text/x-python",
   "name": "python",
   "nbconvert_exporter": "python",
   "pygments_lexer": "ipython2",
   "version": "2.7.6"
  }
 },
 "nbformat": 4,
 "nbformat_minor": 0
}