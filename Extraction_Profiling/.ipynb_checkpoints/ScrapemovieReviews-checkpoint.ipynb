{
 "cells": [
  {
   "cell_type": "code",
   "execution_count": 1,
   "metadata": {
    "ExecuteTime": {
     "end_time": "2020-08-05T07:26:22.555920Z",
     "start_time": "2020-08-05T07:26:22.202935Z"
    }
   },
   "outputs": [],
   "source": [
    "from bs4 import BeautifulSoup\n",
    "from requests import get\n",
    "import json\n",
    "import random\n",
    "import string\n",
    "import sqlite3\n",
    "import logging\n",
    "import re"
   ]
  },
  {
   "cell_type": "code",
   "execution_count": 2,
   "metadata": {
    "ExecuteTime": {
     "end_time": "2020-08-05T07:26:24.324247Z",
     "start_time": "2020-08-05T07:26:24.270349Z"
    },
    "pycharm": {
     "name": "#%%\n"
    }
   },
   "outputs": [
    {
     "data": {
      "text/plain": [
       "<sqlite3.Cursor at 0x7fdb922492d0>"
      ]
     },
     "execution_count": 2,
     "metadata": {},
     "output_type": "execute_result"
    }
   ],
   "source": [
    "# Input / Output\n",
    "db_path = '../Data/test.db'\n",
    "\n",
    "# Output\n",
    "# log_path = '../Logs/movieReviews.log'\n",
    "\n",
    "# logger = logging.getLogger()\n",
    "# fhandler = logging.FileHandler(filename=moviereviewLog_path, mode='a')\n",
    "# formatter = logging.Formatter('%(asctime)s - %(name)s - %(levelname)s - %(message)s')\n",
    "# fhandler.setFormatter(formatter)\n",
    "# logger.addHandler(fhandler)\n",
    "# logger.setLevel(logging.DEBUG)\n",
    "\n",
    "# conn = sqlite3.connect(db_path)\n",
    "# c = conn.cursor()\n",
    "\n",
    "conn = sqlite3.connect(db_path)\n",
    "c = conn.cursor()\n",
    "c.execute((\"\"\"\n",
    "        CREATE TABLE IF NOT EXISTS\n",
    "            test(\n",
    "                NODE TEXT,\n",
    "                URL TEXT,\n",
    "                REVIEWBODY TEXT,\n",
    "                RATING TEXT,\n",
    "                REVIEWRATING TEXT,\n",
    "                BESTRATING TEXT,\n",
    "                WORSTRATING TEXT,\n",
    "                PRIMARY KEY (NODE, URL))\n",
    "    \"\"\"))"
   ]
  },
  {
   "cell_type": "code",
   "execution_count": 3,
   "metadata": {
    "ExecuteTime": {
     "end_time": "2020-08-05T07:26:26.731562Z",
     "start_time": "2020-08-05T07:26:26.723191Z"
    },
    "pycharm": {
     "name": "#%%\n"
    }
   },
   "outputs": [],
   "source": [
    "def generateNode(length):\n",
    "    letters_and_digits = string.ascii_letters + string.digits\n",
    "    result_str = ''.join((random.choice(letters_and_digits) for i in range(length)))\n",
    "    node = \"_:znode\" + result_str\n",
    "    return node\n",
    "    # print(\"Random alphanumeric String is:\", result_str)\n",
    "# generateNode(31)"
   ]
  },
  {
   "cell_type": "code",
   "execution_count": 9,
   "metadata": {
    "ExecuteTime": {
     "end_time": "2020-08-05T07:40:42.970196Z",
     "start_time": "2020-08-05T07:40:30.952624Z"
    },
    "pycharm": {
     "name": "#%%\n"
    }
   },
   "outputs": [
    {
     "ename": "KeyboardInterrupt",
     "evalue": "",
     "output_type": "error",
     "traceback": [
      "\u001b[0;31m---------------------------------------------------------------------------\u001b[0m",
      "\u001b[0;31mKeyboardInterrupt\u001b[0m                         Traceback (most recent call last)",
      "\u001b[0;32m<ipython-input-9-4f619e71e163>\u001b[0m in \u001b[0;36m<module>\u001b[0;34m\u001b[0m\n\u001b[1;32m     31\u001b[0m                 \u001b[0;31m# print(review_link)\u001b[0m\u001b[0;34m\u001b[0m\u001b[0;34m\u001b[0m\u001b[0;34m\u001b[0m\u001b[0m\n\u001b[1;32m     32\u001b[0m                 \u001b[0mreview_count\u001b[0m \u001b[0;34m+=\u001b[0m \u001b[0;36m1\u001b[0m\u001b[0;34m\u001b[0m\u001b[0;34m\u001b[0m\u001b[0m\n\u001b[0;32m---> 33\u001b[0;31m                 \u001b[0mreview_soup\u001b[0m \u001b[0;34m=\u001b[0m \u001b[0mBeautifulSoup\u001b[0m\u001b[0;34m(\u001b[0m\u001b[0mget\u001b[0m\u001b[0;34m(\u001b[0m\u001b[0mreview_link\u001b[0m\u001b[0;34m)\u001b[0m\u001b[0;34m.\u001b[0m\u001b[0mtext\u001b[0m\u001b[0;34m,\u001b[0m \u001b[0;34m'html.parser'\u001b[0m\u001b[0;34m)\u001b[0m\u001b[0;34m\u001b[0m\u001b[0;34m\u001b[0m\u001b[0m\n\u001b[0m\u001b[1;32m     34\u001b[0m                 \u001b[0;32mtry\u001b[0m\u001b[0;34m:\u001b[0m\u001b[0;34m\u001b[0m\u001b[0;34m\u001b[0m\u001b[0m\n\u001b[1;32m     35\u001b[0m                     \u001b[0mwarning\u001b[0m \u001b[0;34m=\u001b[0m \u001b[0mreview_soup\u001b[0m\u001b[0;34m.\u001b[0m\u001b[0mbody\u001b[0m\u001b[0;34m.\u001b[0m\u001b[0mfind_all\u001b[0m\u001b[0;34m(\u001b[0m\u001b[0mstring\u001b[0m\u001b[0;34m=\u001b[0m\u001b[0mre\u001b[0m\u001b[0;34m.\u001b[0m\u001b[0mcompile\u001b[0m\u001b[0;34m(\u001b[0m\u001b[0;34m'.*{0}.*'\u001b[0m\u001b[0;34m.\u001b[0m\u001b[0mformat\u001b[0m\u001b[0;34m(\u001b[0m\u001b[0;34m'Warning: Spoilers'\u001b[0m\u001b[0;34m)\u001b[0m\u001b[0;34m)\u001b[0m\u001b[0;34m,\u001b[0m \u001b[0mrecursive\u001b[0m\u001b[0;34m=\u001b[0m\u001b[0;32mTrue\u001b[0m\u001b[0;34m)\u001b[0m\u001b[0;34m\u001b[0m\u001b[0;34m\u001b[0m\u001b[0m\n",
      "\u001b[0;32m/opt/conda/lib/python3.6/site-packages/bs4/__init__.py\u001b[0m in \u001b[0;36m__init__\u001b[0;34m(self, markup, features, builder, parse_only, from_encoding, exclude_encodings, **kwargs)\u001b[0m\n\u001b[1;32m    301\u001b[0m             \u001b[0mself\u001b[0m\u001b[0;34m.\u001b[0m\u001b[0mreset\u001b[0m\u001b[0;34m(\u001b[0m\u001b[0;34m)\u001b[0m\u001b[0;34m\u001b[0m\u001b[0;34m\u001b[0m\u001b[0m\n\u001b[1;32m    302\u001b[0m             \u001b[0;32mtry\u001b[0m\u001b[0;34m:\u001b[0m\u001b[0;34m\u001b[0m\u001b[0;34m\u001b[0m\u001b[0m\n\u001b[0;32m--> 303\u001b[0;31m                 \u001b[0mself\u001b[0m\u001b[0;34m.\u001b[0m\u001b[0m_feed\u001b[0m\u001b[0;34m(\u001b[0m\u001b[0;34m)\u001b[0m\u001b[0;34m\u001b[0m\u001b[0;34m\u001b[0m\u001b[0m\n\u001b[0m\u001b[1;32m    304\u001b[0m                 \u001b[0;32mbreak\u001b[0m\u001b[0;34m\u001b[0m\u001b[0;34m\u001b[0m\u001b[0m\n\u001b[1;32m    305\u001b[0m             \u001b[0;32mexcept\u001b[0m \u001b[0mParserRejectedMarkup\u001b[0m\u001b[0;34m:\u001b[0m\u001b[0;34m\u001b[0m\u001b[0;34m\u001b[0m\u001b[0m\n",
      "\u001b[0;32m/opt/conda/lib/python3.6/site-packages/bs4/__init__.py\u001b[0m in \u001b[0;36m_feed\u001b[0;34m(self)\u001b[0m\n\u001b[1;32m    362\u001b[0m         \u001b[0mself\u001b[0m\u001b[0;34m.\u001b[0m\u001b[0mbuilder\u001b[0m\u001b[0;34m.\u001b[0m\u001b[0mreset\u001b[0m\u001b[0;34m(\u001b[0m\u001b[0;34m)\u001b[0m\u001b[0;34m\u001b[0m\u001b[0;34m\u001b[0m\u001b[0m\n\u001b[1;32m    363\u001b[0m \u001b[0;34m\u001b[0m\u001b[0m\n\u001b[0;32m--> 364\u001b[0;31m         \u001b[0mself\u001b[0m\u001b[0;34m.\u001b[0m\u001b[0mbuilder\u001b[0m\u001b[0;34m.\u001b[0m\u001b[0mfeed\u001b[0m\u001b[0;34m(\u001b[0m\u001b[0mself\u001b[0m\u001b[0;34m.\u001b[0m\u001b[0mmarkup\u001b[0m\u001b[0;34m)\u001b[0m\u001b[0;34m\u001b[0m\u001b[0;34m\u001b[0m\u001b[0m\n\u001b[0m\u001b[1;32m    365\u001b[0m         \u001b[0;31m# Close out any unfinished strings and close all the open tags.\u001b[0m\u001b[0;34m\u001b[0m\u001b[0;34m\u001b[0m\u001b[0;34m\u001b[0m\u001b[0m\n\u001b[1;32m    366\u001b[0m         \u001b[0mself\u001b[0m\u001b[0;34m.\u001b[0m\u001b[0mendData\u001b[0m\u001b[0;34m(\u001b[0m\u001b[0;34m)\u001b[0m\u001b[0;34m\u001b[0m\u001b[0;34m\u001b[0m\u001b[0m\n",
      "\u001b[0;32m/opt/conda/lib/python3.6/site-packages/bs4/builder/_htmlparser.py\u001b[0m in \u001b[0;36mfeed\u001b[0;34m(self, markup)\u001b[0m\n\u001b[1;32m    248\u001b[0m         \u001b[0mparser\u001b[0m\u001b[0;34m.\u001b[0m\u001b[0msoup\u001b[0m \u001b[0;34m=\u001b[0m \u001b[0mself\u001b[0m\u001b[0;34m.\u001b[0m\u001b[0msoup\u001b[0m\u001b[0;34m\u001b[0m\u001b[0;34m\u001b[0m\u001b[0m\n\u001b[1;32m    249\u001b[0m         \u001b[0;32mtry\u001b[0m\u001b[0;34m:\u001b[0m\u001b[0;34m\u001b[0m\u001b[0;34m\u001b[0m\u001b[0m\n\u001b[0;32m--> 250\u001b[0;31m             \u001b[0mparser\u001b[0m\u001b[0;34m.\u001b[0m\u001b[0mfeed\u001b[0m\u001b[0;34m(\u001b[0m\u001b[0mmarkup\u001b[0m\u001b[0;34m)\u001b[0m\u001b[0;34m\u001b[0m\u001b[0;34m\u001b[0m\u001b[0m\n\u001b[0m\u001b[1;32m    251\u001b[0m             \u001b[0mparser\u001b[0m\u001b[0;34m.\u001b[0m\u001b[0mclose\u001b[0m\u001b[0;34m(\u001b[0m\u001b[0;34m)\u001b[0m\u001b[0;34m\u001b[0m\u001b[0;34m\u001b[0m\u001b[0m\n\u001b[1;32m    252\u001b[0m         \u001b[0;32mexcept\u001b[0m \u001b[0mHTMLParseError\u001b[0m \u001b[0;32mas\u001b[0m \u001b[0me\u001b[0m\u001b[0;34m:\u001b[0m\u001b[0;34m\u001b[0m\u001b[0;34m\u001b[0m\u001b[0m\n",
      "\u001b[0;32m/opt/conda/lib/python3.6/html/parser.py\u001b[0m in \u001b[0;36mfeed\u001b[0;34m(self, data)\u001b[0m\n\u001b[1;32m    109\u001b[0m         \"\"\"\n\u001b[1;32m    110\u001b[0m         \u001b[0mself\u001b[0m\u001b[0;34m.\u001b[0m\u001b[0mrawdata\u001b[0m \u001b[0;34m=\u001b[0m \u001b[0mself\u001b[0m\u001b[0;34m.\u001b[0m\u001b[0mrawdata\u001b[0m \u001b[0;34m+\u001b[0m \u001b[0mdata\u001b[0m\u001b[0;34m\u001b[0m\u001b[0;34m\u001b[0m\u001b[0m\n\u001b[0;32m--> 111\u001b[0;31m         \u001b[0mself\u001b[0m\u001b[0;34m.\u001b[0m\u001b[0mgoahead\u001b[0m\u001b[0;34m(\u001b[0m\u001b[0;36m0\u001b[0m\u001b[0;34m)\u001b[0m\u001b[0;34m\u001b[0m\u001b[0;34m\u001b[0m\u001b[0m\n\u001b[0m\u001b[1;32m    112\u001b[0m \u001b[0;34m\u001b[0m\u001b[0m\n\u001b[1;32m    113\u001b[0m     \u001b[0;32mdef\u001b[0m \u001b[0mclose\u001b[0m\u001b[0;34m(\u001b[0m\u001b[0mself\u001b[0m\u001b[0;34m)\u001b[0m\u001b[0;34m:\u001b[0m\u001b[0;34m\u001b[0m\u001b[0;34m\u001b[0m\u001b[0m\n",
      "\u001b[0;32m/opt/conda/lib/python3.6/html/parser.py\u001b[0m in \u001b[0;36mgoahead\u001b[0;34m(self, end)\u001b[0m\n\u001b[1;32m    169\u001b[0m             \u001b[0;32mif\u001b[0m \u001b[0mstartswith\u001b[0m\u001b[0;34m(\u001b[0m\u001b[0;34m'<'\u001b[0m\u001b[0;34m,\u001b[0m \u001b[0mi\u001b[0m\u001b[0;34m)\u001b[0m\u001b[0;34m:\u001b[0m\u001b[0;34m\u001b[0m\u001b[0;34m\u001b[0m\u001b[0m\n\u001b[1;32m    170\u001b[0m                 \u001b[0;32mif\u001b[0m \u001b[0mstarttagopen\u001b[0m\u001b[0;34m.\u001b[0m\u001b[0mmatch\u001b[0m\u001b[0;34m(\u001b[0m\u001b[0mrawdata\u001b[0m\u001b[0;34m,\u001b[0m \u001b[0mi\u001b[0m\u001b[0;34m)\u001b[0m\u001b[0;34m:\u001b[0m \u001b[0;31m# < + letter\u001b[0m\u001b[0;34m\u001b[0m\u001b[0;34m\u001b[0m\u001b[0m\n\u001b[0;32m--> 171\u001b[0;31m                     \u001b[0mk\u001b[0m \u001b[0;34m=\u001b[0m \u001b[0mself\u001b[0m\u001b[0;34m.\u001b[0m\u001b[0mparse_starttag\u001b[0m\u001b[0;34m(\u001b[0m\u001b[0mi\u001b[0m\u001b[0;34m)\u001b[0m\u001b[0;34m\u001b[0m\u001b[0;34m\u001b[0m\u001b[0m\n\u001b[0m\u001b[1;32m    172\u001b[0m                 \u001b[0;32melif\u001b[0m \u001b[0mstartswith\u001b[0m\u001b[0;34m(\u001b[0m\u001b[0;34m\"</\"\u001b[0m\u001b[0;34m,\u001b[0m \u001b[0mi\u001b[0m\u001b[0;34m)\u001b[0m\u001b[0;34m:\u001b[0m\u001b[0;34m\u001b[0m\u001b[0;34m\u001b[0m\u001b[0m\n\u001b[1;32m    173\u001b[0m                     \u001b[0mk\u001b[0m \u001b[0;34m=\u001b[0m \u001b[0mself\u001b[0m\u001b[0;34m.\u001b[0m\u001b[0mparse_endtag\u001b[0m\u001b[0;34m(\u001b[0m\u001b[0mi\u001b[0m\u001b[0;34m)\u001b[0m\u001b[0;34m\u001b[0m\u001b[0;34m\u001b[0m\u001b[0m\n",
      "\u001b[0;32m/opt/conda/lib/python3.6/html/parser.py\u001b[0m in \u001b[0;36mparse_starttag\u001b[0;34m(self, i)\u001b[0m\n\u001b[1;32m    343\u001b[0m             \u001b[0mself\u001b[0m\u001b[0;34m.\u001b[0m\u001b[0mhandle_startendtag\u001b[0m\u001b[0;34m(\u001b[0m\u001b[0mtag\u001b[0m\u001b[0;34m,\u001b[0m \u001b[0mattrs\u001b[0m\u001b[0;34m)\u001b[0m\u001b[0;34m\u001b[0m\u001b[0;34m\u001b[0m\u001b[0m\n\u001b[1;32m    344\u001b[0m         \u001b[0;32melse\u001b[0m\u001b[0;34m:\u001b[0m\u001b[0;34m\u001b[0m\u001b[0;34m\u001b[0m\u001b[0m\n\u001b[0;32m--> 345\u001b[0;31m             \u001b[0mself\u001b[0m\u001b[0;34m.\u001b[0m\u001b[0mhandle_starttag\u001b[0m\u001b[0;34m(\u001b[0m\u001b[0mtag\u001b[0m\u001b[0;34m,\u001b[0m \u001b[0mattrs\u001b[0m\u001b[0;34m)\u001b[0m\u001b[0;34m\u001b[0m\u001b[0;34m\u001b[0m\u001b[0m\n\u001b[0m\u001b[1;32m    346\u001b[0m             \u001b[0;32mif\u001b[0m \u001b[0mtag\u001b[0m \u001b[0;32min\u001b[0m \u001b[0mself\u001b[0m\u001b[0;34m.\u001b[0m\u001b[0mCDATA_CONTENT_ELEMENTS\u001b[0m\u001b[0;34m:\u001b[0m\u001b[0;34m\u001b[0m\u001b[0;34m\u001b[0m\u001b[0m\n\u001b[1;32m    347\u001b[0m                 \u001b[0mself\u001b[0m\u001b[0;34m.\u001b[0m\u001b[0mset_cdata_mode\u001b[0m\u001b[0;34m(\u001b[0m\u001b[0mtag\u001b[0m\u001b[0;34m)\u001b[0m\u001b[0;34m\u001b[0m\u001b[0;34m\u001b[0m\u001b[0m\n",
      "\u001b[0;32m/opt/conda/lib/python3.6/site-packages/bs4/builder/_htmlparser.py\u001b[0m in \u001b[0;36mhandle_starttag\u001b[0;34m(self, name, attrs, handle_empty_element)\u001b[0m\n\u001b[1;32m    100\u001b[0m             \u001b[0mattrvalue\u001b[0m \u001b[0;34m=\u001b[0m \u001b[0;34m'\"\"'\u001b[0m\u001b[0;34m\u001b[0m\u001b[0;34m\u001b[0m\u001b[0m\n\u001b[1;32m    101\u001b[0m         \u001b[0;31m#print \"START\", name\u001b[0m\u001b[0;34m\u001b[0m\u001b[0;34m\u001b[0m\u001b[0;34m\u001b[0m\u001b[0m\n\u001b[0;32m--> 102\u001b[0;31m         \u001b[0mtag\u001b[0m \u001b[0;34m=\u001b[0m \u001b[0mself\u001b[0m\u001b[0;34m.\u001b[0m\u001b[0msoup\u001b[0m\u001b[0;34m.\u001b[0m\u001b[0mhandle_starttag\u001b[0m\u001b[0;34m(\u001b[0m\u001b[0mname\u001b[0m\u001b[0;34m,\u001b[0m \u001b[0;32mNone\u001b[0m\u001b[0;34m,\u001b[0m \u001b[0;32mNone\u001b[0m\u001b[0;34m,\u001b[0m \u001b[0mattr_dict\u001b[0m\u001b[0;34m)\u001b[0m\u001b[0;34m\u001b[0m\u001b[0;34m\u001b[0m\u001b[0m\n\u001b[0m\u001b[1;32m    103\u001b[0m         \u001b[0;32mif\u001b[0m \u001b[0mtag\u001b[0m \u001b[0;32mand\u001b[0m \u001b[0mtag\u001b[0m\u001b[0;34m.\u001b[0m\u001b[0mis_empty_element\u001b[0m \u001b[0;32mand\u001b[0m \u001b[0mhandle_empty_element\u001b[0m\u001b[0;34m:\u001b[0m\u001b[0;34m\u001b[0m\u001b[0;34m\u001b[0m\u001b[0m\n\u001b[1;32m    104\u001b[0m             \u001b[0;31m# Unlike other parsers, html.parser doesn't send separate end tag\u001b[0m\u001b[0;34m\u001b[0m\u001b[0;34m\u001b[0m\u001b[0;34m\u001b[0m\u001b[0m\n",
      "\u001b[0;32m/opt/conda/lib/python3.6/site-packages/bs4/__init__.py\u001b[0m in \u001b[0;36mhandle_starttag\u001b[0;34m(self, name, namespace, nsprefix, attrs)\u001b[0m\n\u001b[1;32m    550\u001b[0m \u001b[0;34m\u001b[0m\u001b[0m\n\u001b[1;32m    551\u001b[0m         tag = Tag(self, self.builder, name, namespace, nsprefix, attrs,\n\u001b[0;32m--> 552\u001b[0;31m                   self.currentTag, self._most_recent_element)\n\u001b[0m\u001b[1;32m    553\u001b[0m         \u001b[0;32mif\u001b[0m \u001b[0mtag\u001b[0m \u001b[0;32mis\u001b[0m \u001b[0;32mNone\u001b[0m\u001b[0;34m:\u001b[0m\u001b[0;34m\u001b[0m\u001b[0;34m\u001b[0m\u001b[0m\n\u001b[1;32m    554\u001b[0m             \u001b[0;32mreturn\u001b[0m \u001b[0mtag\u001b[0m\u001b[0;34m\u001b[0m\u001b[0;34m\u001b[0m\u001b[0m\n",
      "\u001b[0;32m/opt/conda/lib/python3.6/site-packages/bs4/element.py\u001b[0m in \u001b[0;36m__init__\u001b[0;34m(self, parser, builder, name, namespace, prefix, attrs, parent, previous, is_xml)\u001b[0m\n\u001b[1;32m    744\u001b[0m             \u001b[0;32mif\u001b[0m \u001b[0mbuilder\u001b[0m \u001b[0;32mis\u001b[0m \u001b[0;32mnot\u001b[0m \u001b[0;32mNone\u001b[0m \u001b[0;32mand\u001b[0m \u001b[0mbuilder\u001b[0m\u001b[0;34m.\u001b[0m\u001b[0mcdata_list_attributes\u001b[0m\u001b[0;34m:\u001b[0m\u001b[0;34m\u001b[0m\u001b[0;34m\u001b[0m\u001b[0m\n\u001b[1;32m    745\u001b[0m                 attrs = builder._replace_cdata_list_attribute_values(\n\u001b[0;32m--> 746\u001b[0;31m                     self.name, attrs)\n\u001b[0m\u001b[1;32m    747\u001b[0m             \u001b[0;32melse\u001b[0m\u001b[0;34m:\u001b[0m\u001b[0;34m\u001b[0m\u001b[0;34m\u001b[0m\u001b[0m\n\u001b[1;32m    748\u001b[0m                 \u001b[0mattrs\u001b[0m \u001b[0;34m=\u001b[0m \u001b[0mdict\u001b[0m\u001b[0;34m(\u001b[0m\u001b[0mattrs\u001b[0m\u001b[0;34m)\u001b[0m\u001b[0;34m\u001b[0m\u001b[0;34m\u001b[0m\u001b[0m\n",
      "\u001b[0;32m/opt/conda/lib/python3.6/site-packages/bs4/builder/__init__.py\u001b[0m in \u001b[0;36m_replace_cdata_list_attribute_values\u001b[0;34m(self, tag_name, attrs)\u001b[0m\n\u001b[1;32m    195\u001b[0m                     \u001b[0mvalue\u001b[0m \u001b[0;34m=\u001b[0m \u001b[0mattrs\u001b[0m\u001b[0;34m[\u001b[0m\u001b[0mattr\u001b[0m\u001b[0;34m]\u001b[0m\u001b[0;34m\u001b[0m\u001b[0;34m\u001b[0m\u001b[0m\n\u001b[1;32m    196\u001b[0m                     \u001b[0;32mif\u001b[0m \u001b[0misinstance\u001b[0m\u001b[0;34m(\u001b[0m\u001b[0mvalue\u001b[0m\u001b[0;34m,\u001b[0m \u001b[0mstr\u001b[0m\u001b[0;34m)\u001b[0m\u001b[0;34m:\u001b[0m\u001b[0;34m\u001b[0m\u001b[0;34m\u001b[0m\u001b[0m\n\u001b[0;32m--> 197\u001b[0;31m                         \u001b[0mvalues\u001b[0m \u001b[0;34m=\u001b[0m \u001b[0mnonwhitespace_re\u001b[0m\u001b[0;34m.\u001b[0m\u001b[0mfindall\u001b[0m\u001b[0;34m(\u001b[0m\u001b[0mvalue\u001b[0m\u001b[0;34m)\u001b[0m\u001b[0;34m\u001b[0m\u001b[0;34m\u001b[0m\u001b[0m\n\u001b[0m\u001b[1;32m    198\u001b[0m                     \u001b[0;32melse\u001b[0m\u001b[0;34m:\u001b[0m\u001b[0;34m\u001b[0m\u001b[0;34m\u001b[0m\u001b[0m\n\u001b[1;32m    199\u001b[0m                         \u001b[0;31m# html5lib sometimes calls setAttributes twice\u001b[0m\u001b[0;34m\u001b[0m\u001b[0;34m\u001b[0m\u001b[0;34m\u001b[0m\u001b[0m\n",
      "\u001b[0;31mKeyboardInterrupt\u001b[0m: "
     ]
    }
   ],
   "source": [
    "host = 'https://www.imdb.com'\n",
    "# https://www.imdb.com/search/title/?title_type=tv_movie,tv_episode&release_date=2000-01-01,2020-12-31&user_rating=1.0,10.0&languages=en&start=1&ref_=adv_nxt\n",
    "# +50\n",
    "# https://www.imdb.com/search/title/?title_type=tv_movie,tv_episode&release_date=2000-01-01,2020-12-31&user_rating=1.0,10.0&languages=en&start=51&ref_=adv_nxt\n",
    "page_count = 0\n",
    "movie_count = 0\n",
    "review_count = 0\n",
    "# umstellen auf 1001\n",
    "for page in range (0,11):\n",
    "    page_count= page*50+1\n",
    "    # print(page_count)\n",
    "    url = f'https://www.imdb.com/search/title/?title_type=tv_movie,tv_episode&release_date=2000-01-01,2020-12-31&user_rating=1.0,10.0&languages=en&start={page_count}&ref_=adv_nxt'\n",
    "    response = get(url)\n",
    "    html_soup = BeautifulSoup(response.text, 'html.parser')\n",
    "    movie_containers = html_soup.find_all('div', class_ = 'lister-item mode-advanced')\n",
    "    # print(type(movie_containers))\n",
    "    # print(len(movie_containers))\n",
    "    i = 0\n",
    "    for movie in movie_containers:\n",
    "        # link to site with all review previews for each movie\n",
    "        # link = 'https://www.imdb.com/' + movie_containers[i].a['href'] + 'reviews'\n",
    "        link = \"https://www.imdb.com/review/rw3878864/\"\n",
    "        # print(link)\n",
    "        movie_count += 1\n",
    "        i += 1\n",
    "        review_collection = BeautifulSoup(get(link).text, 'html.parser').body.find_all('div', class_='actions text-muted')\n",
    "        for tiles in review_collection:\n",
    "            permalinks = tiles.find_all('a', href=True, text='Permalink')\n",
    "            for permalink in permalinks:\n",
    "                review_link = host + permalink['href']\n",
    "                # print(review_link)\n",
    "                review_count += 1\n",
    "                review_soup = BeautifulSoup(get(review_link).text, 'html.parser')\n",
    "                try:\n",
    "                    warning = review_soup.body.find_all(string=re.compile('.*{0}.*'.format('Warning: Spoilers')), recursive=True)\n",
    "                except:\n",
    "                    pass\n",
    "                container = review_soup.find(\"script\",type=\"application/ld+json\")\n",
    "                for item in container:\n",
    "                    if item.__contains__('http://schema.org'):\n",
    "                        text = str(item.extract())\n",
    "                        oJson = json.loads(text)\n",
    "                        # print(oJson)\n",
    "                        node = generateNode(31)\n",
    "                        if (warning):\n",
    "                            reviewBodyContainer = html_soup.body.find_all('div', class_=\"text show-more__control\")\n",
    "                            print(reviewBodyContainer)\n",
    "                            # reviewBody = reviewBodyContainer[0].text\n",
    "                        else:\n",
    "                            reviewBody = str(oJson['reviewBody'])\n",
    "                            reviewRating = str(oJson['reviewRating'])\n",
    "                            worstRating = str(oJson['reviewRating']['worstRating'])\n",
    "                            bestRating = str(oJson['reviewRating']['bestRating'])\n",
    "                            ratingValue = str(oJson['reviewRating']['ratingValue'])\n",
    "                            print('node:' + node)\n",
    "                            print('url: '+ review_link)\n",
    "                            print('reviewBody: ' + reviewBody)\n",
    "                            print('worstRating: ' + worstRating)\n",
    "                            print('bestRating: ' + bestRating)\n",
    "                            print('ratingValue: ' + ratingValue)\n",
    "                            \n",
    "                            # print(\"INSERT OR IGNORE INTO MOVIEREVIEWS (NODE, URL, REVIEWBODY, RATING, REVIEWRATING, BESTRATING, WORSTRATING) VALUES (?,?,?,?,?,?,?);\"\"\",(node,url,reviewBody,reviewRating,ratingValue,bestRating,worstRating))\n",
    "                            # c.execute(\"INSERT OR IGNORE INTO test (NODE, URL, REVIEWBODY, RATING, REVIEWRATING, BESTRATING, WORSTRATING) VALUES (?,?,?,?,?,?,?);\",(node,url,reviewBody,reviewRating,ratingValue,bestRating,worstRating))\n",
    "                            # conn.commit()\n",
    "print(\"number of reviews: \" + str(review_count))\n"
   ]
  },
  {
   "cell_type": "code",
   "execution_count": 8,
   "metadata": {
    "ExecuteTime": {
     "end_time": "2020-08-05T07:38:35.294008Z",
     "start_time": "2020-08-05T07:38:35.159039Z"
    }
   },
   "outputs": [],
   "source": [
    "c.execute(\"DELETE FROM test WHERE NODE IS NOT NULL;\")\n",
    "conn.commit()"
   ]
  },
  {
   "cell_type": "code",
   "execution_count": 89,
   "metadata": {
    "pycharm": {
     "name": "#%%\n"
    }
   },
   "outputs": [
    {
     "name": "stdout",
     "output_type": "stream",
     "text": [
      "<class 'bs4.element.ResultSet'>\n",
      "50\n",
      "https://www.imdb.com/review/rw3878864/\n",
      "[<a href=\"/review/rw3878864/\">Permalink</a>]\n",
      "https://www.imdb.com/review/rw3754733/\n",
      "[<a href=\"/review/rw3754733/\">Permalink</a>]\n",
      "https://www.imdb.com/review/rw5156128/\n",
      "[<a href=\"/review/rw5156128/\">Permalink</a>]\n",
      "https://www.imdb.com/review/rw3612128/\n",
      "[<a href=\"/review/rw3612128/\">Permalink</a>]\n",
      "https://www.imdb.com/review/rw5275443/\n",
      "[<a href=\"/review/rw5275443/\">Permalink</a>]\n",
      "https://www.imdb.com/review/rw3597834/\n",
      "[<a href=\"/review/rw3597834/\">Permalink</a>]\n",
      "https://www.imdb.com/review/rw5355667/\n",
      "[<a href=\"/review/rw5355667/\">Permalink</a>]\n",
      "https://www.imdb.com/review/rw5774002/\n",
      "[<a href=\"/review/rw5774002/\">Permalink</a>]\n",
      "https://www.imdb.com/review/rw3371112/\n",
      "[<a href=\"/review/rw3371112/\">Permalink</a>]\n"
     ]
    }
   ],
   "source": [
    "html_soup = BeautifulSoup(response.text, 'html.parser')\n",
    "type(html_soup)\n",
    "movie_containers = html_soup.find_all('div', class_ = 'lister-item mode-advanced')\n",
    "# print(type(movie_containers))\n",
    "# print(len(movie_containers))\n",
    "i = 0\n",
    "link = 'https://www.imdb.com/' + movie_containers[0].a['href'] + 'reviews'\n",
    "# print(link)\n",
    "\n",
    "collection = get(link)\n",
    "collection_soup = BeautifulSoup(collection.text, 'html.parser')\n",
    "# print(reviews_soup)\n",
    "# parsen bis ich zu dem permalink komme\n",
    "# review_containers = reviews_soup.body.findAll('a', text=re.compile('^(<a href=\")(.*)(\">)Permalink(<\\/a>)$'))\n",
    "collection_containers = collection_soup.body.find_all('div', class_='actions text-muted')\n",
    "# collection_containers = collection_soup.find_all('a', string='Permalink')\n",
    "# review_containers = reviews_soup.find_all('a', href=True)\n",
    "# for a in review_containers.find_all('a', href=True):\n",
    "#     if a.text=='Permalink':\n",
    "#         print(a['href'])\n",
    "\n",
    "# print(collection_containers)\n",
    "for address in collection_containers:\n",
    "    b = address.find_all('a', href=True, text='Permalink')\n",
    "    for c in b:\n",
    "        # print(host + c['href'])\n",
    "    # a = b['href']\n",
    "    # print(b)\n",
    "    # print(a)\n"
   ]
  },
  {
   "cell_type": "code",
   "execution_count": 49,
   "metadata": {
    "pycharm": {
     "name": "#%%\n"
    }
   },
   "outputs": [
    {
     "name": "stdout",
     "output_type": "stream",
     "text": [
      "<class 'bs4.element.Tag'>\n"
     ]
    }
   ],
   "source": [
    "# snippets\n",
    "\n",
    "# print(type(container))\n",
    "\n",
    "# response1 = get(a)\n",
    "# microdata_content = response1.xpath('//script[@type=\"application/ld+json\"]/text()').extract_first()\n",
    "# microdata = json.loads(microdata_content)\n",
    "#\n",
    "# ratingValue = microdata[\"reviewRating\"][\"ratingValue\"]\n",
    "        # type(container)\n",
    "        # str(container)\n",
    "        #\n",
    "# print(container)\n",
    "for item in container:\n",
    "    if item.__contains__('http://schema.org'):\n",
    "        text = str(item.extract())\n",
    "# print(text)\n",
    "# print(type(text))\n",
    "oJson = json.loads(text)\n",
    "reviewbody = oJson['reviewBody']\n",
    "# print(type(reviewbody))\n",
    "# results=[]\n",
    "# for annotation in oJson:\n",
    "#     results.append([annotation])\n",
    "# df = pd.DataFrame(results)\n",
    "# print(df)\n",
    "        # print(type(container))\n",
    "        # s1 = json.dumps(container)\n",
    "        # data = json.loads(s1)\n",
    "        # print(container)\n",
    "        # print(data['reviewbody'])\n",
    "        # data = json.loads()\n",
    "    # print(collection_containers[0].find_all('a')[1][\"href\"])\n",
    "\n",
    "    # print(collection_containers[0].find(string='Permalink').a['href'])\n",
    "    # for movie in movie_containers:\n",
    "    #     link = 'https://www.imdb.com/' + movie_containers[i].a['href']\n",
    "    #     print(link)\n",
    "    #     i += 1\n",
    "\n",
    "    # print(movie_containers)\n",
    "# get into each movie -> link\n",
    "#     links = html_soup.find_all('a href', class_ = 'loadlate')\n",
    "#     print(links)\n",
    "# permalink\n"
   ]
  },
  {
   "cell_type": "code",
   "execution_count": 43,
   "metadata": {
    "pycharm": {
     "name": "#%%\n"
    }
   },
   "outputs": [
    {
     "name": "stdout",
     "output_type": "stream",
     "text": [
      "node:_:znodeRzmbB24KtQ4P3QxmD50P9qprPPhRY9W\n",
      "url: https://www.imdb.com/review/rw3288833/\n",
      "reviewBody: Disney's Descendants is a miracle of campy film-making. The cheese levels are off the charts as the teenaged children of the Disney villains sing, dance, and fall in love with their heroic counterparts.The highlights have to be the so bad it's awful rap rendition of \"Be Our Guest,\" the depiction of Maleficent as a tap dancing fiend, and the rest of the villains being depicted as washed up home-bodies who vegetate on the couch all day.To be fair to the younger actors, they're game with their performances. The script feels like a fan fiction written by middle school age kids with plot holes galore: how did the villains reproduce? I'm guessing they either asexually budded or hooked up with other villains to produce them? Also, if the nerdy Doug is the son of Dopey, then who's his mother? And this is just the icing on the cake: why is Prince Ben okay with Mal slipping him a love potion? How did the wand summon Maleficent when the fairy godmother's kid just wanted to use it to make herself beautiful? Ah, who cares? This is guilty pleasure level fun and I'm sad to say I'll probably watch it again.\n",
      "worstRating: 1\n",
      "bestRating: 10\n",
      "ratingValue: 6\n"
     ]
    }
   ],
   "source": [
    "testurl = 'https://www.imdb.com/review/rw3288833/'\n",
    "response = get(testurl)\n",
    "html_soup = BeautifulSoup(response.text, 'html.parser')\n",
    "# print(html_soup)\n",
    "try:\n",
    "    results = html_soup.body.find_all(string=re.compile('.*{0}.*'.format('Warning: Spoilers')), recursive=True)\n",
    "except:\n",
    "    pass\n",
    "if (results):\n",
    "    # print(results)\n",
    "    # driver = webdriver.Chrome(\"C:\\/Users\\/D064966\\/Downloads\\/chromedriver\")\n",
    "    # driver.find_element_by_id('expander-icon-wrapper spoiler-warning__control').click()\n",
    "    reviewBodyContainer = html_soup.body.find_all('div', class_=\"text show-more__control\")\n",
    "    reviewBody = reviewBodyContainer[0].text\n",
    "    container = html_soup.find(\"script\",type=\"application/ld+json\")\n",
    "    # print(container)\n",
    "    for item in container:\n",
    "        if item.__contains__('http://schema.org'):\n",
    "            text = str(item.extract())\n",
    "            oJson = json.loads(text)\n",
    "            # print(oJson)\n",
    "            node = generateNode(31)\n",
    "            # reviewBody = str(oJson['reviewBody'])\n",
    "            reviewRating = str(oJson['reviewRating'])\n",
    "            worstRating = str(oJson['reviewRating']['worstRating'])\n",
    "            bestRating = str(oJson['reviewRating']['bestRating'])\n",
    "            ratingValue = str(oJson['reviewRating']['ratingValue'])\n",
    "            print('node:' + node)\n",
    "            print('url: '+ testurl)\n",
    "            print('reviewBody: ' + reviewBody)\n",
    "            print('worstRating: ' + worstRating)\n",
    "            print('bestRating: ' + bestRating)\n",
    "            print('ratingValue: ' + ratingValue)\n",
    "else:\n",
    "    pass\n",
    "# review_collection = BeautifulSoup(html_soup).body.find_all('div', class_='actions text-muted')\n",
    "# print(review_collection)\n",
    "# print(html_soup)"
   ]
  },
  {
   "cell_type": "code",
   "execution_count": null,
   "metadata": {
    "pycharm": {
     "name": "#%%\n"
    }
   },
   "outputs": [],
   "source": [
    "\n",
    "\n"
   ]
  }
 ],
 "metadata": {
  "kernelspec": {
   "display_name": "Python 3",
   "language": "python",
   "name": "python3"
  },
  "language_info": {
   "codemirror_mode": {
    "name": "ipython",
    "version": 3
   },
   "file_extension": ".py",
   "mimetype": "text/x-python",
   "name": "python",
   "nbconvert_exporter": "python",
   "pygments_lexer": "ipython3",
   "version": "3.6.9"
  },
  "toc": {
   "base_numbering": 1,
   "nav_menu": {},
   "number_sections": true,
   "sideBar": true,
   "skip_h1_title": false,
   "title_cell": "Table of Contents",
   "title_sidebar": "Contents",
   "toc_cell": false,
   "toc_position": {},
   "toc_section_display": true,
   "toc_window_display": false
  },
  "varInspector": {
   "cols": {
    "lenName": 16,
    "lenType": 16,
    "lenVar": 40
   },
   "kernels_config": {
    "python": {
     "delete_cmd_postfix": "",
     "delete_cmd_prefix": "del ",
     "library": "var_list.py",
     "varRefreshCmd": "print(var_dic_list())"
    },
    "r": {
     "delete_cmd_postfix": ") ",
     "delete_cmd_prefix": "rm(",
     "library": "var_list.r",
     "varRefreshCmd": "cat(var_dic_list()) "
    }
   },
   "types_to_exclude": [
    "module",
    "function",
    "builtin_function_or_method",
    "instance",
    "_Feature"
   ],
   "window_display": false
  }
 },
 "nbformat": 4,
 "nbformat_minor": 1
}
