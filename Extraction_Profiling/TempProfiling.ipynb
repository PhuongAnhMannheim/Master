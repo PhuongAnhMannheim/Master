{
 "cells": [
  {
   "cell_type": "code",
   "execution_count": 1,
   "metadata": {
    "collapsed": true
   },
   "outputs": [],
   "source": [
    "\n",
    "import sqlite3\n",
    "import pandas as pd"
   ]
  },
  {
   "cell_type": "code",
   "execution_count": 11,
   "metadata": {
    "pycharm": {
     "name": "#%%\n"
    }
   },
   "outputs": [],
   "source": [
    "db1_path = '../Data/output/moviewreviews.db'\n",
    "db2_path = '../Data/moviereviews.db'\n",
    "\n",
    "conn1 = sqlite3.connect(db1_path)\n",
    "conn2 = sqlite3.connect(db2_path)\n",
    "\n",
    "df1 = pd.read_sql_query(\"SELECT * from moviereviews\", conn1)\n",
    "df2 = pd.read_sql_query(\"SELECT * from moviereviews\", conn2)"
   ]
  },
  {
   "cell_type": "code",
   "execution_count": 17,
   "metadata": {
    "pycharm": {
     "name": "#%%\n"
    }
   },
   "outputs": [
    {
     "name": "stdout",
     "output_type": "stream",
     "text": [
      "Meine Tabelle: 198967\n",
      "Syds Tabelle: 168351\n"
     ]
    }
   ],
   "source": [
    "cursor1 = conn1.cursor()\n",
    "cursor2 = conn2.cursor()\n",
    "\n",
    "def total_rows(cursor, table_name, print_out=False):\n",
    "    \"\"\" Returns the total number of rows in the database \"\"\"\n",
    "    cursor.execute('SELECT COUNT(*) FROM {}'.format(table_name))\n",
    "    count = cursor.fetchall()\n",
    "    if print_out:\n",
    "        print('\\nTotal rows: {}'.format(count[0][0]))\n",
    "    return count[0][0]\n",
    "\n",
    "print(\"Meine Tabelle: \"+ str(total_rows(cursor1, \"moviereviews\")))\n",
    "print(\"Syds Tabelle: \"+ str(total_rows(cursor2, \"moviereviews\")))"
   ]
  },
  {
   "cell_type": "code",
   "execution_count": 38,
   "metadata": {
    "pycharm": {
     "name": "#%%\n"
    }
   },
   "outputs": [
    {
     "name": "stdout",
     "output_type": "stream",
     "text": [
      "<class 'pandas.core.frame.DataFrame'>\n",
      "Int64Index: 38603 entries, 106197 to 198965\n",
      "Data columns (total 8 columns):\n",
      " #   Column        Non-Null Count  Dtype \n",
      "---  ------        --------------  ----- \n",
      " 0   NODE          38603 non-null  object\n",
      " 1   URL           38603 non-null  object\n",
      " 2   REVIEWBODY    38603 non-null  object\n",
      " 3   RATING        38603 non-null  object\n",
      " 4   REVIEWRATING  38603 non-null  object\n",
      " 5   BESTRATING    27029 non-null  object\n",
      " 6   WORSTRATING   27005 non-null  object\n",
      " 7   NULLS         38603 non-null  int64 \n",
      "dtypes: int64(1), object(7)\n",
      "memory usage: 2.7+ MB\n"
     ]
    }
   ],
   "source": [
    "# print(df1.info())\n",
    "# sum null per rows\n",
    "df1['NULLS'] = df1.isnull().sum(1)\n",
    "# delete all without reviewbody and without reviewrating\n",
    "df1 = df1[df1.REVIEWBODY.notnull()&df1.REVIEWRATING.notnull()]\n",
    "# delete all with NUll-value anywhere in row\n",
    "df1 = df1[~df1[\"REVIEWBODY\"].str.contains(\"null\")]\n",
    "df1 = df1[~df1[\"REVIEWBODY\"].str.contains(\"Null\")]\n",
    "df1 = df1[~df1[\"REVIEWBODY\"].str.contains(\"None\")]\n",
    "df1 = df1[~df1[\"REVIEWRATING\"].str.contains(\"null\")]\n",
    "df1 = df1[~df1[\"REVIEWRATING\"].str.contains(\"Null\")]\n",
    "df1 = df1[~df1[\"REVIEWRATING\"].str.contains(\"None\")]\n",
    "df1.drop_duplicates(subset='REVIEWBODY', keep=\"last\")\n",
    "# count how many without null\n",
    "# df3 = df1.loc[df1['NULLS'] == \"0\"]\n",
    "# df1.head()\n",
    "df1.info()\n",
    "# 38,603 entries"
   ]
  },
  {
   "cell_type": "code",
   "execution_count": 39,
   "metadata": {
    "pycharm": {
     "name": "#%%\n"
    }
   },
   "outputs": [
    {
     "name": "stdout",
     "output_type": "stream",
     "text": [
      "<class 'pandas.core.frame.DataFrame'>\n",
      "Int64Index: 23401 entries, 0 to 168347\n",
      "Data columns (total 7 columns):\n",
      " #   Column        Non-Null Count  Dtype \n",
      "---  ------        --------------  ----- \n",
      " 0   NODE          23401 non-null  object\n",
      " 1   URL           23401 non-null  object\n",
      " 2   REVIEWBODY    23401 non-null  object\n",
      " 3   RATING        23401 non-null  object\n",
      " 4   REVIEWRATING  23401 non-null  object\n",
      " 5   BESTRATING    23310 non-null  object\n",
      " 6   WORSTRATING   23286 non-null  object\n",
      "dtypes: object(7)\n",
      "memory usage: 1.4+ MB\n"
     ]
    }
   ],
   "source": [
    "# print(df2.info())\n",
    "df2 = df2[df2.REVIEWBODY.notnull()&df2.REVIEWRATING.notnull()]\n",
    "df2 = df2[~df2[\"REVIEWBODY\"].str.contains(\"null\")]\n",
    "df2 = df2[~df2[\"REVIEWBODY\"].str.contains(\"Null\")]\n",
    "df2 = df2[~df2[\"REVIEWBODY\"].str.contains(\"None\")]\n",
    "df2 = df2[~df2[\"REVIEWRATING\"].str.contains(\"null\")]\n",
    "df2 = df2[~df2[\"REVIEWRATING\"].str.contains(\"Null\")]\n",
    "df2 = df2[~df2[\"REVIEWRATING\"].str.contains(\"None\")]\n",
    "df2.drop_duplicates(subset='REVIEWBODY', keep=\"last\")\n",
    "df2.info()\n",
    "# df2.head()\n",
    "# 23,401 entries"
   ]
  }
 ],
 "metadata": {
  "kernelspec": {
   "display_name": "Python 3",
   "language": "python",
   "name": "python3"
  },
  "language_info": {
   "codemirror_mode": {
    "name": "ipython",
    "version": 2
   },
   "file_extension": ".py",
   "mimetype": "text/x-python",
   "name": "python",
   "nbconvert_exporter": "python",
   "pygments_lexer": "ipython2",
   "version": "2.7.6"
  },
  "toc": {
   "base_numbering": 1,
   "nav_menu": {},
   "number_sections": true,
   "sideBar": true,
   "skip_h1_title": false,
   "title_cell": "Table of Contents",
   "title_sidebar": "Contents",
   "toc_cell": false,
   "toc_position": {},
   "toc_section_display": true,
   "toc_window_display": false
  },
  "varInspector": {
   "cols": {
    "lenName": 16,
    "lenType": 16,
    "lenVar": 40
   },
   "kernels_config": {
    "python": {
     "delete_cmd_postfix": "",
     "delete_cmd_prefix": "del ",
     "library": "var_list.py",
     "varRefreshCmd": "print(var_dic_list())"
    },
    "r": {
     "delete_cmd_postfix": ") ",
     "delete_cmd_prefix": "rm(",
     "library": "var_list.r",
     "varRefreshCmd": "cat(var_dic_list()) "
    }
   },
   "types_to_exclude": [
    "module",
    "function",
    "builtin_function_or_method",
    "instance",
    "_Feature"
   ],
   "window_display": false
  }
 },
 "nbformat": 4,
 "nbformat_minor": 1
}
