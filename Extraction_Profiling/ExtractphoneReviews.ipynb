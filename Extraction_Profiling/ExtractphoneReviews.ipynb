{
 "cells": [
  {
   "cell_type": "code",
   "execution_count": 1,
   "metadata": {
    "collapsed": true
   },
   "outputs": [],
   "source": [
    "import logging, os, sys\n",
    "import sqlite3\n",
    "import gzip\n",
    "import re\n",
    "from langdetect import detect\n",
    "import pandas as pd\n",
    "from urllib.parse import urlparse\n",
    "import tldextract"
   ]
  },
  {
   "cell_type": "code",
   "execution_count": 2,
   "metadata": {
    "pycharm": {
     "name": "#%%\n"
    }
   },
   "outputs": [],
   "source": [
    "# Input\n",
    "review_input_path = '../Data/schema_Review.gz'\n",
    "sites_input_path = '../Data/phones_new.txt'\n",
    "\n",
    "# Output\n",
    "phonereviewLog_path = '../Logs/phoneReviews.log'\n",
    "output_path = '../Data/phonereviews.db'\n",
    "\n",
    "logger = logging.getLogger()\n",
    "fhandler = logging.FileHandler(filename=phonereviewLog_path, mode='a')\n",
    "formatter = logging.Formatter('%(asctime)s - %(name)s - %(levelname)s - %(message)s')\n",
    "fhandler.setFormatter(formatter)\n",
    "logger.addHandler(fhandler)\n",
    "logger.setLevel(logging.DEBUG)"
   ]
  },
  {
   "cell_type": "code",
   "execution_count": 3,
   "metadata": {
    "pycharm": {
     "name": "#%%\n"
    }
   },
   "outputs": [
    {
     "data": {
      "text/plain": "<sqlite3.Cursor at 0x2d04b0dc9d0>"
     },
     "execution_count": 3,
     "metadata": {},
     "output_type": "execute_result"
    }
   ],
   "source": [
    "conn = sqlite3.connect(output_path)\n",
    "c = conn.cursor()\n",
    "c.execute(\"\"\"\n",
    "        CREATE TABLE IF NOT EXISTS\n",
    "            phonereviews(\n",
    "                NODE TEXT,\n",
    "                URL TEXT,\n",
    "                REVIEWBODY TEXT,\n",
    "                RATING TEXT,\n",
    "                REVIEWRATING TEXT,\n",
    "                BESTRATING TEXT,\n",
    "                WORSTRATING TEXT,\n",
    "                PRIMARY KEY (NODE, URL))\n",
    "    \"\"\")"
   ]
  },
  {
   "cell_type": "code",
   "execution_count": 4,
   "metadata": {
    "pycharm": {
     "name": "#%%\n"
    }
   },
   "outputs": [
    {
     "name": "stdout",
     "output_type": "stream",
     "text": [
      "['www.speckproducts.com\\n', 'www.crutchfield.com\\n', 'www.myphonecase.com\\n', 'nottabelle.com\\n', 'bestmvno.com\\n', 'www.net-a-porter.com\\n', 'www.img-stageline.com\\n', 'www.gr8mobiles.net\\n', 'www.monacor.com\\n', 'www.globalmediapro.com\\n', 'zefinka.com\\n', 'www.saxophoneshop.co.uk\\n', 'www.casetify.com\\n', 'www.jts-europe.com\\n', 'www.batirmoinscher.com\\n', 'www.crutchfield.ca\\n', 'www.fusionbattery.co.uk\\n', 'www.rizvielectronics.com\\n', 'www.youcustomizeit.com\\n', 'gitsat.com\\n', 'trutone.ca\\n', 'www.den-gsm.com\\n', 'www.halo.com\\n', 'www.goelectronic.com\\n', 'laptopbattery.co.nz\\n', 'fordsmithfineart.com\\n', 'www.manualsearcher.com\\n', 'www.iqrashop.net\\n', 'www.set4lyfe.com\\n', 'www.monacor-international.com\\n', 'uk-m.dresslink.com\\n', 'www.bonanza.com\\n', 'culturelang.com\\n', 'www.leatherinchicago.com\\n', 'ecubestore.com\\n', 'paxtontatum.threadless.com\\n', 'www.jakkash.com\\n', 'dodatnaoprema.com\\n', 'www.koss.com\\n', 'www.merchandisingplaza.co.uk\\n', 'uk.dresslink.com\\n', 'www.bestadvisor.com\\n', 'summerdemon.com\\n', 'abeep.com\\n', 'www.bandsupplies.co.uk\\n', 'www.comms-express.com\\n', 'us.fatface.com\\n', 'poshmark.com\\n', 'www.dealplatter.com\\n', 'savesarah.threadless.com\\n', 'chicafrodesigns.com\\n', 'www.coque-design.com\\n', 'wishmaster.me\\n', '3dlancer.net\\n', 'www.labelmaster.com\\n', 'nickthehat.threadless.com\\n', 'www.silverchamberjewellery.com\\n', 'www.gtsmarketplace.com\\n', 'us.vwr.com\\n', 'www.valleyseek.com\\n', 'www.universalpart.com\\n', 'riflepaperco.com\\n', 'wolfbiteshop.threadless.com\\n', 'yaah.threadless.com\\n', 'www.monogramsonwebster.com\\n', 'www.homestoreandmore.ie\\n', 'toebeanscafe.threadless.com\\n', 'www.colamco.com\\n', 'www.threedoo.com\\n', 'www.ggelectronics.com\\n', 'www.peteblandsports.co.uk\\n', 'www.morleyathletic.com\\n', 'eriklectric.threadless.com\\n', 'funked.threadless.com\\n', 'www.odysseyprosound.com\\n', 'elevatedspace.threadless.com\\n', 'store.cultofmac.com\\n', 'www.leuchtturm.com\\n', 'iterativework.threadless.com\\n', 'jeremywheeler.threadless.com\\n', 'www.merchandisingplaza.us\\n', 'us.dresslink.com\\n', 'yargyle.threadless.com\\n', 'steveorama.threadless.com\\n', 'chehly.net\\n', 'den-gsm.com\\n', 'rimadi.threadless.com\\n', 'angrysquirrelstudio.threadless.com\\n', 'paybackpenguin.threadless.com\\n', 'nathansykes.livenationmerch.com\\n', 'www.urbandefine.com\\n', 'www.boom.us\\n', 'hancomputer.com\\n', 'www.spyemporium.com\\n', 'cumulo7.threadless.com\\n', 'fgninconlineshop.threadless.com\\n', 'www.occhialiweb.com\\n', 'www.look4wardstore.com\\n', 'www.getitnowstores.com\\n', 'www.thewetworks.co.uk\\n', 'www.designisthis.com\\n', 'www.icpnetworks.co.uk\\n', 'foxandeagle.threadless.com\\n', 'www.goveganrevolution.com\\n', 'venusaeon.threadless.com\\n', 'www.safariland.com\\n', 'ca-m.dresslink.com\\n', 'cbldf.threadless.com\\n', 'dinoandpanda.threadless.com\\n', 'alphapod.threadless.com\\n', 'andreaswikstrom.threadless.com\\n', 'coryandmike.threadless.com\\n', 'www.ebookmall.com\\n', 'barmalisirtb.threadless.com\\n', 'composersedition.com\\n', 'www.mountsplus.com\\n', 'www.dale-electric.com\\n', 'newmanstudios.threadless.com\\n', 'silliphilli.threadless.com\\n', 'snapnames.com\\n', 'rickpinchera.threadless.com\\n', 'derg.threadless.com\\n', 'www.artfire.com\\n', 'www.idreamav.com\\n', 'www.exportersindia.com\\n', 'www.dicksmith.co.nz\\n', 'rodrigobhz.threadless.com\\n', 'mocashop.threadless.com\\n', 'elanatech.com\\n', 'm.bonanza.com\\n', 'xbsg.threadless.com\\n', 'catcaryeg.threadless.com\\n', 'www.adkguitar.com\\n', 'www.nodevice.com\\n', 'pigmentstudios.threadless.com\\n', 'www.snapnames.com\\n', 'soltib.threadless.com\\n', 'www.homechoicestores.com\\n', 'lumi.threadless.com\\n', 'www.marks.com\\n', '9-42.com\\n', 'www.fusionbattery.com\\n', 'gyledesigns.threadless.com\\n', 'rahimiha.threadless.com\\n', 'www.bestadvisers.co.uk\\n', 'thebraven.threadless.com\\n', 'savethemdogtraining.threadless.com\\n', 'tumblrcreatrs.threadless.com\\n', 'www.usmobile.com\\n', 'www.fivestarguitars.com\\n', 'www.terrisgiftshoppe.com\\n', 'vinzzep.threadless.com\\n', 'brandongarrison.threadless.com\\n', 'elledeegee.threadless.com\\n', 'bigredhair.threadless.com\\n', 'birchmark.threadless.com\\n', 'www.nearbuy.com\\n', 'www.printcollection.com\\n', 'www.anfieldshop.com\\n', 'wanderingmoon.threadless.com\\n', 'spacebuckets.threadless.com\\n', 'templates.joomla-monster.com\\n', 'upso.threadless.com\\n', 'shirtsofmeaning.threadless.com\\n', 'www.eurodk.com\\n', 'thepunshop.threadless.com\\n', 'villainmazk.threadless.com\\n', 'steventoang.threadless.com\\n', 'inkdwell.threadless.com\\n', 'jarhumor.threadless.com\\n', 'mahinaz.threadless.com\\n', 'andywestface.threadless.com\\n', '51brano.threadless.com\\n', 'illustratedmadness.threadless.com\\n', 'www.shelllumber.com\\n', 'vetdesign.threadless.com\\n', 'puttyhead.threadless.com\\n', 'stevierichards.threadless.com\\n', 'andreapacini.threadless.com\\n', 'opippi.threadless.com\\n', 'svaeth.threadless.com\\n', 'www.bestpricestore.com\\n', 'hillarywhiterabbit.threadless.com\\n', 'pigseargear.threadless.com\\n', 'arttaichi.threadless.com\\n', 'kookylove.threadless.com\\n', 'inkhip.threadless.com\\n', 'jordanacoustics.co.uk\\n', 'www.gibsonsv.com\\n', 'enginehouse13.threadless.com\\n', 'goofyink.threadless.com\\n', 'coolblackchick.threadless.com\\n', 'dasiavou.threadless.com\\n', 'dotintosh.threadless.com\\n', 'www.youbox.com\\n', 'www.giftbliss.co.uk\\n', 'heavyhand.threadless.com\\n', 'www.stylicy.com\\n', 'iheartguts.threadless.com\\n', 'barrelchat.threadless.com\\n', 'www.zopnow.com\\n', 'wonderlandtattoostudio.threadless.com\\n', 'philnoto.threadless.com\\n', 'theparadoxvoid.threadless.com\\n', 'www.switchhits.com\\n', 'casperspell.threadless.com\\n', 'signalnoise.threadless.com\\n', 'ivysmeadow.threadless.com\\n', 'cityofpyramids.threadless.com\\n', 'ph.bargainbro.com\\n', 'betchesguidetocancer.threadless.com\\n', 'hechicero.threadless.com\\n', 'mikesobeck.threadless.com\\n', 'noodleloaf.threadless.com\\n', 'mathiole.threadless.com\\n', 'metroatlantageeks.threadless.com\\n', 'www.globaltrucker.com\\n', 'vomaria.threadless.com\\n', 'hexadstudio.threadless.com\\n', 'zknight.threadless.com\\n', 'heavymetal.threadless.com\\n', 'prettyprismatic.threadless.com\\n', 'joliebonnette.threadless.com\\n', 'dadisaband.threadless.com\\n', '6amcrisis.threadless.com\\n', 'ascmadison.threadless.com\\n', 'tonywhoa.threadless.com\\n', 'www.boreal.com\\n', 'darkodjordjevic.threadless.com\\n', 'redleggerstudio.threadless.com\\n', 'foh55.threadless.com\\n', 'madewithawesome.threadless.com\\n', 'www.jumpingbabyjacks.com\\n', 'es427.threadless.com\\n', 'ftmtranstastic.threadless.com\\n', 'pluko.threadless.com\\n', 'ericfan.threadless.com\\n', 'healthranks.threadless.com\\n', 'www.jeepworld.com\\n', 'www.fmaudiovideo.com\\n', 'johnthanflores.threadless.com\\n', 'sushimouse.threadless.com\\n', 'www.rapido.com\\n', 'epicupgrades.threadless.com\\n', 'projectm.threadless.com\\n', 'lupi.threadless.com\\n', 'laterlouie.threadless.com\\n', 'chuckpalahniuk.threadless.com\\n', 'dedos.threadless.com\\n', 'diannedelahunty.threadless.com\\n', 'www.homestoreandmore.co.uk\\n', 'madgenius.threadless.com\\n', 'kukileaf.threadless.com\\n', 'spiralsaint.threadless.com\\n', 'edhartmanmusic.threadless.com\\n', 'nikarnoldi.threadless.com\\n', 'gedworks.threadless.com\\n', 'requiem.threadless.com\\n', 'huebucket.threadless.com\\n', 'midnightcoffee.threadless.com\\n', 'tulleceria.threadless.com\\n', 'www.shopeeco.com\\n', 'krisefe.threadless.com\\n', 'ifsignature.threadless.com\\n', 'dianacostin.threadless.com\\n', 'toastdesign.threadless.com\\n', 'thebearly.threadless.com\\n', 'www.discount-low-voltage.com\\n', 'rocain.threadless.com\\n', 'hopscotch.threadless.com\\n', 'happyronin.threadless.com\\n']\n"
     ]
    }
   ],
   "source": [
    "with open(sites_input_path) as f:\n",
    "  domainList = f.readlines()\n",
    "print(domainList)"
   ]
  },
  {
   "cell_type": "code",
   "execution_count": 5,
   "outputs": [],
   "source": [
    "taxo_pattern = re.compile(\"<http://schema.org/Review/description>|\"\\\n",
    "                          \"<http://schema.org/Review/reviewBody>|\"\\\n",
    "                          \"<http://schema.org/Review/reviewRating>|\"\\\n",
    "                          \"<http://schema.org/Rating/worstRating>|\"\\\n",
    "                          \"<http://schema.org/Rating/bestRating>|\"\\\n",
    "                          \"<http://schema.org/Rating/ratingValue>\", re.IGNORECASE)\n",
    "split_pattern = re.compile(\"^(_:.*)\\s<(.*)>\\s(.*)\\s<(.*)>\\s\\.$\", re.IGNORECASE)\n",
    "phone_lst = ['smartphone', 'phone',\n",
    "             'phone case', 'phone cable', 'phone charger', 'phone mount',\n",
    "             'cell phone']"
   ],
   "metadata": {
    "collapsed": false,
    "pycharm": {
     "name": "#%%\n"
    }
   }
  },
  {
   "cell_type": "code",
   "execution_count": 7,
   "metadata": {
    "pycharm": {
     "name": "#%%\n"
    }
   },
   "outputs": [
    {
     "data": {
      "text/plain": "False"
     },
     "execution_count": 7,
     "metadata": {},
     "output_type": "execute_result"
    }
   ],
   "source": [
    "def detectLang(text):\n",
    "    try:\n",
    "        lang = detect(text)\n",
    "        if lang == \"en\":\n",
    "            return True\n",
    "    except:\n",
    "        return False\n",
    "    else:\n",
    "        return False\n",
    "\n",
    "# detectLang(\"Super. It was great\")\n",
    "detectLang(\"Excelente9Chromecast \\u00C3\\u00A9 o aplicativo do Google para instalar e utilizar os recursos de streaming remoto do Chromecast, um aparelho com fun\\u00C3\\u00A7\\u00C3\\u00A3o semelhante ao Airplay do Apple TV.\\nDispon\\u00C3\\u00ADvel para venda no Brasil, o Chromecast permite ver conte\\u00C3\\u00BAdos multim\\u00C3\\u00ADdia e p\\u00C3\\u00A1ginas da web em qualquer televis\\u00C3\\u00A3o da casa. Por exemplo, funciona com servi\\u00C3\\u00A7os de streaming web como YouTube, Netflix e Pandora.An\\u00C3\\u00BAnciosam.cmd.push(function() { sam.display('review-app-page-desktop'); });\\nMas lembre-se que o aplicativo s\\u00C3\\u00B3 funciona se voc\\u00C3\\u00AA possuir um aparelho Chromecast.\\n\")"
   ]
  },
  {
   "cell_type": "code",
   "execution_count": 8,
   "outputs": [],
   "source": [
    "for item in phone_lst:\n",
    "        item_pattern = re.compile(item,re.IGNORECASE)\n",
    "        with gzip.open(review_input_path,\"rt\") as f:\n",
    "            i = 0\n",
    "            detected = 0\n",
    "            skipped = 0\n",
    "            not_taxo = 0\n",
    "            not_phone = 0\n",
    "            inserted = 0\n",
    "            failed_updates = 0\n",
    "            no_key_in_url = 0\n",
    "            # head = [next(f) for x in range(150000)]\n",
    "            # for line in head:\n",
    "            for line in iter(f.readline, \"\"):\n",
    "                i += 1\n",
    "                if not taxo_pattern.search(line):\n",
    "                    not_taxo += 1\n",
    "                    continue\n",
    "                match = split_pattern.match(line)\n",
    "                if match is None:\n",
    "                    skipped += 1\n",
    "                    continue\n",
    "                props = match.groups()\n",
    "                subj = props[0]\n",
    "                predicate = props[1]\n",
    "                obj = props[2]\n",
    "                source = props[3]\n",
    "                if item_pattern.search(source) or (any(url in source for url in domainList) and item_pattern.search(obj)):\n",
    "                    c.execute(\"INSERT OR IGNORE INTO PHONEREVIEWS (NODE, URL) VALUES (?,?);\",(subj, source))\n",
    "                    update_query = \"UPDATE PHONEREVIEWS SET \"\n",
    "                    params = [obj, subj, source]\n",
    "                    if predicate.lower() == \"http://schema.org/Review/reviewBody\".lower() and detectLang(obj):\n",
    "                        update_query += \"REVIEWBODY = ? \"\n",
    "                    if predicate.lower() == \"http://schema.org/Review/description\".lower() and detectLang(obj):\n",
    "                        update_query += \"REVIEWBODY = ? \"\n",
    "                    if predicate.lower() == \"http://schema.org/Review/reviewRating\".lower():\n",
    "                        update_query += \"RATING = ? \"\n",
    "                    if predicate.lower() == \"http://schema.org/Rating/ratingValue\".lower():\n",
    "                        update_query += \"REVIEWRATING = ? \"\n",
    "                    if predicate.lower() == \"http://schema.org/Rating/bestRating\".lower():\n",
    "                        update_query += \"BESTRATING = ? \"\n",
    "                    if predicate.lower() == \"http://schema.org/Rating/worstRating\".lower():\n",
    "                        update_query += \"WORSTRATING = ? \"\n",
    "                    update_query += \"WHERE NODE = ? AND URL = ?;\"\n",
    "                    try:\n",
    "                        c.execute(update_query, params)\n",
    "                        conn.commit()\n",
    "                        inserted += 1\n",
    "                    except:\n",
    "                        logging.debug(\"failed to execute for params \" + str(update_query) + str(props))\n",
    "                        failed_updates += 1\n",
    "\n",
    "logging.debug(\"detected \" + str(detected) + \", inserted: \" + str(inserted) +\" lines out of \" + str(i) + \"; not in taxo: \" + str(not_taxo))\n",
    "logging.debug(\"Done getting Review entries with Reviewbodies, descriptions or websites at the Object having phone or related words\")"
   ],
   "metadata": {
    "collapsed": false,
    "pycharm": {
     "name": "#%%\n"
    }
   }
  },
  {
   "cell_type": "code",
   "execution_count": 9,
   "metadata": {
    "pycharm": {
     "name": "#%%\n"
    }
   },
   "outputs": [],
   "source": [
    "merge_query = \"UPDATE phonereviews \"\\\n",
    "              \"SET REVIEWRATING = (SELECT T.REVIEWRATING FROM phonereviews AS T \"\\\n",
    "              \"WHERE phonereviews.RATING = T.NODE AND phonereviews.URL = T.URL), \"\\\n",
    "              \"BESTRATING = (SELECT T.BESTRATING FROM phonereviews AS T \"\\\n",
    "              \"WHERE phonereviews.RATING = T.NODE AND phonereviews.URL = T.URL), \"\\\n",
    "              \"WORSTRATING = (SELECT T.WORSTRATING FROM phonereviews AS T \"\\\n",
    "              \"WHERE phonereviews.RATING = T.NODE AND phonereviews.URL = T.URL) \"\\\n",
    "              \"WHERE RATING IN (SELECT NODE FROM phonereviews);\"\n",
    "\n",
    "c.execute(merge_query)\n",
    "conn.commit()"
   ]
  },
  {
   "cell_type": "code",
   "execution_count": 14,
   "outputs": [],
   "source": [
    "df = pd.read_sql_query(\"SELECT * from phonereviews\", conn)\n",
    "df = df[df.REVIEWBODY.notnull()&df.REVIEWRATING.notnull()]\n",
    "df = df.drop_duplicates(subset='REVIEWBODY', keep='first')\n",
    "logging.debug(df.describe)\n"
   ],
   "metadata": {
    "collapsed": false,
    "pycharm": {
     "name": "#%%\n"
    }
   }
  }
 ],
 "metadata": {
  "kernelspec": {
   "display_name": "Python 3",
   "language": "python",
   "name": "python3"
  },
  "language_info": {
   "codemirror_mode": {
    "name": "ipython",
    "version": 3
   },
   "file_extension": ".py",
   "mimetype": "text/x-python",
   "name": "python",
   "nbconvert_exporter": "python",
   "pygments_lexer": "ipython3",
   "version": "3.6.9"
  },
  "toc": {
   "base_numbering": 1,
   "nav_menu": {},
   "number_sections": true,
   "sideBar": true,
   "skip_h1_title": false,
   "title_cell": "Table of Contents",
   "title_sidebar": "Contents",
   "toc_cell": false,
   "toc_position": {},
   "toc_section_display": true,
   "toc_window_display": false
  },
  "varInspector": {
   "cols": {
    "lenName": 16,
    "lenType": 16,
    "lenVar": 40
   },
   "kernels_config": {
    "python": {
     "delete_cmd_postfix": "",
     "delete_cmd_prefix": "del ",
     "library": "var_list.py",
     "varRefreshCmd": "print(var_dic_list())"
    },
    "r": {
     "delete_cmd_postfix": ") ",
     "delete_cmd_prefix": "rm(",
     "library": "var_list.r",
     "varRefreshCmd": "cat(var_dic_list()) "
    }
   },
   "types_to_exclude": [
    "module",
    "function",
    "builtin_function_or_method",
    "instance",
    "_Feature"
   ],
   "window_display": false
  }
 },
 "nbformat": 4,
 "nbformat_minor": 1
}