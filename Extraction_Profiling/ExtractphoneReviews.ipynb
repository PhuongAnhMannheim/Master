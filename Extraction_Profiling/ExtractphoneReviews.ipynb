{
 "cells": [
  {
   "cell_type": "code",
   "execution_count": 1,
   "metadata": {
    "collapsed": true
   },
   "outputs": [],
   "source": [
    "import logging, os, sys\n",
    "import sqlite3\n",
    "import gzip\n",
    "import re\n",
    "from langdetect import detect\n",
    "import pandas as pd\n",
    "from urllib.parse import urlparse\n",
    "import tldextract"
   ]
  },
  {
   "cell_type": "code",
   "execution_count": 2,
   "metadata": {
    "pycharm": {
     "name": "#%%\n"
    }
   },
   "outputs": [],
   "source": [
    "# Input\n",
    "reviews_path = '../Data/schema_Review.gz'\n",
    "\n",
    "# Output\n",
    "phonereviewLog_path = '../Logs/phoneReviews.log'\n",
    "phonereviews_path = '../Data/input/phonereviews.db'\n",
    "\n",
    "logger = logging.getLogger()\n",
    "fhandler = logging.FileHandler(filename=phonereviewLog_path, mode='a')\n",
    "formatter = logging.Formatter('%(asctime)s - %(name)s - %(levelname)s - %(message)s')\n",
    "fhandler.setFormatter(formatter)\n",
    "logger.addHandler(fhandler)\n",
    "logger.setLevel(logging.DEBUG)"
   ]
  },
  {
   "cell_type": "code",
   "execution_count": 3,
   "metadata": {
    "pycharm": {
     "name": "#%%\n"
    }
   },
   "outputs": [
    {
     "data": {
      "text/plain": [
       "<sqlite3.Cursor at 0x230490a21f0>"
      ]
     },
     "execution_count": 3,
     "metadata": {},
     "output_type": "execute_result"
    }
   ],
   "source": [
    "conn = sqlite3.connect(phonereviews_path)\n",
    "c = conn.cursor()\n",
    "c.execute(\"\"\"\n",
    "        CREATE TABLE IF NOT EXISTS\n",
    "            phonereviews(\n",
    "                NODE TEXT,\n",
    "                URL TEXT,\n",
    "                REVIEWBODY TEXT,\n",
    "                RATING TEXT,\n",
    "                REVIEWRATING TEXT,\n",
    "                BESTRATING TEXT,\n",
    "                WORSTRATING TEXT,\n",
    "                PRIMARY KEY (NODE, URL))\n",
    "    \"\"\")"
   ]
  },
  {
   "cell_type": "code",
   "execution_count": 4,
   "metadata": {
    "pycharm": {
     "name": "#%%\n"
    }
   },
   "outputs": [],
   "source": [
    "taxo_pattern = re.compile(\"<http://schema.org/Review/description>|\"\\\n",
    "                          \"<http://schema.org/Review/reviewBody>|\"\\\n",
    "                          \"<http://schema.org/Review/reviewRating>|\"\\\n",
    "                          \"<http://schema.org/Rating/worstRating>|\"\\\n",
    "                          \"<http://schema.org/Rating/bestRating>|\"\\\n",
    "                          \"<http://schema.org/Rating/ratingValue>\", re.IGNORECASE)\n",
    "split_pattern = re.compile(\"^(_:.*)\\s<(.*)>\\s(.*)\\s<(.*)>\\s\\.$\", re.IGNORECASE)\n",
    "phone_lst = ['smartphone', 'phone',\n",
    "             'phone case', 'phone cable', 'phone charger', 'phone mount',\n",
    "             'cell phone']"
   ]
  },
  {
   "cell_type": "code",
   "execution_count": null,
   "metadata": {
    "pycharm": {
     "name": "#%%\n"
    }
   },
   "outputs": [],
   "source": [
    "for item in phone_lst:\n",
    "        item_pattern = re.compile(item,re.IGNORECASE)\n",
    "        with gzip.open(reviews_path,\"rt\") as f:\n",
    "            i = 0\n",
    "            detected = 0\n",
    "            skipped = 0\n",
    "            not_taxo = 0\n",
    "            not_phone = 0\n",
    "            inserted = 0\n",
    "            failed_updates = 0\n",
    "            head = [next(f) for x in range(150000)]\n",
    "            for line in head:\n",
    "            # for line in iter(f.readline, \"\"):\n",
    "                i += 1\n",
    "                match = split_pattern.match(line)\n",
    "                if match is None:\n",
    "                    skipped += 1\n",
    "                    continue\n",
    "                props = match.groups()\n",
    "                subj = props[0]\n",
    "                predicate = props[1]\n",
    "                obj = props[2]\n",
    "                source = props[3]\n",
    "                if not item_pattern.search(obj):\n",
    "                    not_phone += 1\n",
    "                    continue\n",
    "                try:\n",
    "                    lang = detect(obj)\n",
    "                except :\n",
    "                    break\n",
    "                if (lang == 'en'):\n",
    "                    if not taxo_pattern.search(line):\n",
    "                        not_taxo += 1\n",
    "                        continue\n",
    "                    c.execute(\"INSERT OR IGNORE INTO PHONEREVIEWS (NODE, URL) VALUES (?,?);\",(subj, source))\n",
    "                    update_query = \"UPDATE PHONEREVIEWS SET \"\n",
    "                    params = [obj, subj, source]\n",
    "                    if predicate.lower() == \"http://schema.org/Review/reviewBody\".lower():\n",
    "                        update_query += \"REVIEWBODY = ? \"\n",
    "                    if predicate.lower() == \"http://schema.org/Review/description\".lower():\n",
    "                        update_query += \"REVIEWBODY = ? \"\n",
    "                    if predicate.lower() == \"http://schema.org/Review/reviewRating\".lower():\n",
    "                        update_query += \"RATING = ? \"\n",
    "                    if predicate.lower() == \"http://schema.org/Rating/ratingValue\".lower():\n",
    "                        update_query += \"REVIEWRATING = ? \"\n",
    "                    if predicate.lower() == \"http://schema.org/Rating/bestRating\".lower():\n",
    "                        update_query += \"BESTRATING = ? \"\n",
    "                    if predicate.lower() == \"http://schema.org/Rating/worstRating\".lower():\n",
    "                        update_query += \"WORSTRATING = ? \"\n",
    "                    update_query += \"WHERE NODE = ? AND URL = ?;\"\n",
    "                    try:\n",
    "                        c.execute(update_query, params)\n",
    "                        conn.commit()\n",
    "                        inserted += 1\n",
    "                    except:\n",
    "                        logging.debug(\"failed to execute for params \" + str(update_query) + str(props))\n",
    "                        failed_updates += 1\n",
    "\n",
    "logging.debug(\"detected \" + str(detected) + \", inserted: \" + str(inserted) +\" lines out of \" + str(i) + \"; not in taxo: \" + str(not_taxo))\n",
    "logging.debug(\"Done getting Review entries with Reviewbodies, descriptions or websites at the Object having phone or related words\")"
   ]
  },
  {
   "cell_type": "code",
   "execution_count": 5,
   "metadata": {
    "pycharm": {
     "name": "#%%\n"
    }
   },
   "outputs": [
    {
     "data": {
      "text/html": [
       "<div>\n",
       "<style scoped>\n",
       "    .dataframe tbody tr th:only-of-type {\n",
       "        vertical-align: middle;\n",
       "    }\n",
       "\n",
       "    .dataframe tbody tr th {\n",
       "        vertical-align: top;\n",
       "    }\n",
       "\n",
       "    .dataframe thead th {\n",
       "        text-align: right;\n",
       "    }\n",
       "</style>\n",
       "<table border=\"1\" class=\"dataframe\">\n",
       "  <thead>\n",
       "    <tr style=\"text-align: right;\">\n",
       "      <th></th>\n",
       "      <th>NODE</th>\n",
       "      <th>URL</th>\n",
       "      <th>REVIEWBODY</th>\n",
       "      <th>RATING</th>\n",
       "      <th>REVIEWRATING</th>\n",
       "      <th>BESTRATING</th>\n",
       "      <th>WORSTRATING</th>\n",
       "    </tr>\n",
       "  </thead>\n",
       "  <tbody>\n",
       "    <tr>\n",
       "      <th>0</th>\n",
       "      <td>_:nodee31f94c7f56633383fffc75cba6d84e</td>\n",
       "      <td>https://fineartamerica.com/featured/44-sunsets...</td>\n",
       "      <td>\"I ordered this while overseas and I haven't s...</td>\n",
       "      <td>None</td>\n",
       "      <td>None</td>\n",
       "      <td>None</td>\n",
       "      <td>None</td>\n",
       "    </tr>\n",
       "    <tr>\n",
       "      <th>1</th>\n",
       "      <td>_:node68224ca24826992d53b8e6cc9e6544</td>\n",
       "      <td>https://fineartamerica.com/featured/eiffel-tow...</td>\n",
       "      <td>\"I ordered this while overseas and I haven't s...</td>\n",
       "      <td>None</td>\n",
       "      <td>None</td>\n",
       "      <td>None</td>\n",
       "      <td>None</td>\n",
       "    </tr>\n",
       "    <tr>\n",
       "      <th>2</th>\n",
       "      <td>_:node992d5be13d557f4fa467996b83b5305a</td>\n",
       "      <td>https://fineartamerica.com/featured/21l334-red...</td>\n",
       "      <td>\"I ordered this while overseas and I haven't s...</td>\n",
       "      <td>None</td>\n",
       "      <td>None</td>\n",
       "      <td>None</td>\n",
       "      <td>None</td>\n",
       "    </tr>\n",
       "    <tr>\n",
       "      <th>3</th>\n",
       "      <td>_:node24be2eb09e2851ebcca3cd18dd55b585</td>\n",
       "      <td>https://fineartamerica.com/featured/statue-of-...</td>\n",
       "      <td>\"I ordered this while overseas and I haven't s...</td>\n",
       "      <td>None</td>\n",
       "      <td>None</td>\n",
       "      <td>None</td>\n",
       "      <td>None</td>\n",
       "    </tr>\n",
       "    <tr>\n",
       "      <th>4</th>\n",
       "      <td>_:nodea2cd6cc380106ada70a5dee7b57329</td>\n",
       "      <td>https://fineartamerica.com/featured/2-gondolas...</td>\n",
       "      <td>\"I ordered this while overseas and I haven't s...</td>\n",
       "      <td>None</td>\n",
       "      <td>None</td>\n",
       "      <td>None</td>\n",
       "      <td>None</td>\n",
       "    </tr>\n",
       "  </tbody>\n",
       "</table>\n",
       "</div>"
      ],
      "text/plain": [
       "                                     NODE  \\\n",
       "0   _:nodee31f94c7f56633383fffc75cba6d84e   \n",
       "1    _:node68224ca24826992d53b8e6cc9e6544   \n",
       "2  _:node992d5be13d557f4fa467996b83b5305a   \n",
       "3  _:node24be2eb09e2851ebcca3cd18dd55b585   \n",
       "4    _:nodea2cd6cc380106ada70a5dee7b57329   \n",
       "\n",
       "                                                 URL  \\\n",
       "0  https://fineartamerica.com/featured/44-sunsets...   \n",
       "1  https://fineartamerica.com/featured/eiffel-tow...   \n",
       "2  https://fineartamerica.com/featured/21l334-red...   \n",
       "3  https://fineartamerica.com/featured/statue-of-...   \n",
       "4  https://fineartamerica.com/featured/2-gondolas...   \n",
       "\n",
       "                                          REVIEWBODY RATING REVIEWRATING  \\\n",
       "0  \"I ordered this while overseas and I haven't s...   None         None   \n",
       "1  \"I ordered this while overseas and I haven't s...   None         None   \n",
       "2  \"I ordered this while overseas and I haven't s...   None         None   \n",
       "3  \"I ordered this while overseas and I haven't s...   None         None   \n",
       "4  \"I ordered this while overseas and I haven't s...   None         None   \n",
       "\n",
       "  BESTRATING WORSTRATING  \n",
       "0       None        None  \n",
       "1       None        None  \n",
       "2       None        None  \n",
       "3       None        None  \n",
       "4       None        None  "
      ]
     },
     "execution_count": 5,
     "metadata": {},
     "output_type": "execute_result"
    }
   ],
   "source": [
    "df = pd.read_sql_query(\"SELECT * from phonereviews\", conn)\n",
    "df.head()"
   ]
  },
  {
   "cell_type": "code",
   "execution_count": 8,
   "metadata": {
    "pycharm": {
     "name": "#%%\n"
    }
   },
   "outputs": [],
   "source": [
    "# geht ins framework und für jeden Wert\n",
    "# for node in df.NODE:\n",
    "node_pattern = re.compile('_:nodee31f94c7f56633383fffc75cba6d84e',re.IGNORECASE)\n",
    "with gzip.open(reviews_path,\"rt\") as f:\n",
    "        i = 0\n",
    "        detected = 0\n",
    "        skipped = 0\n",
    "        inserted = 0\n",
    "        failed_updates = 0\n",
    "        description = 1\n",
    "        rating = 0\n",
    "        reviewrating = 0\n",
    "        bestrating = 0\n",
    "        worstrating = 0\n",
    "        # ich brauche hier eine Abbruchbedinung\n",
    "        # Wenn für description, rating, reviewrating, best und worstrating Wert vorliegt\n",
    "        for line in f:\n",
    "            if rating == 0 or reviewrating == 0 or bestrating==0 or worstrating==0:\n",
    "                i += 1\n",
    "                if not node_pattern.search(line):\n",
    "                    continue\n",
    "                if not taxo_pattern.search(line):\n",
    "                    continue\n",
    "                match = split_pattern.match(line)\n",
    "                if match is None:\n",
    "                    skipped += 1\n",
    "                    continue\n",
    "                detected += 1\n",
    "                props = match.groups()\n",
    "                subj = props[0]\n",
    "                predicate = props[1]\n",
    "                obj = props[2]\n",
    "                source = props[3]\n",
    "                c.execute(\"INSERT OR IGNORE INTO PHONEREVIEWS (NODE, URL) VALUES (?,?);\",(subj, source))\n",
    "                update_query = \"UPDATE PHONEREVIEWS SET \"\n",
    "                params = [obj, subj, source]\n",
    "                if predicate.lower() == \"http://schema.org/Review/reviewBody\".lower():\n",
    "                    update_query += \"REVIEWBODY = ? \"\n",
    "                if predicate.lower() == \"http://schema.org/Review/description\".lower():\n",
    "                    update_query += \"REVIEWBODY = ? \"\n",
    "                if predicate.lower() == \"http://schema.org/Review/reviewRating\".lower():\n",
    "                    update_query += \"RATING = ? \"\n",
    "                    rating = 1\n",
    "                if predicate.lower() == \"http://schema.org/Rating/ratingValue\".lower():\n",
    "                    update_query += \"REVIEWRATING = ? \"\n",
    "                    reviewrating = 1\n",
    "                if predicate.lower() == \"http://schema.org/Rating/bestRating\".lower():\n",
    "                    update_query += \"BESTRATING = ? \"\n",
    "                    bestrating = 1\n",
    "                if predicate.lower() == \"http://schema.org/Rating/worstRating\".lower():\n",
    "                    update_query += \"WORSTRATING = ? \"\n",
    "                    worstrating = 1\n",
    "                update_query += \"WHERE NODE = ? AND URL = ?;\"\n",
    "                try:\n",
    "                    c.execute(update_query, params)\n",
    "                    print(update_query + params)\n",
    "                    inserted += 1\n",
    "                except:\n",
    "                    logging.debug(\"failed to execute for params \" + str(update_query) + str(props))\n",
    "                    failed_updates += 1\n",
    "            else:\n",
    "                break\n",
    "\n",
    "logging.debug(\"detected: \" + str(detected)  + \", inserted: \" + str(inserted) +\" lines out of \" + str(i))\n",
    "logging.debug(\"Done getting related Review entries\")"
   ]
  }
 ],
 "metadata": {
  "kernelspec": {
   "display_name": "Python 3",
   "language": "python",
   "name": "python3"
  },
  "language_info": {
   "codemirror_mode": {
    "name": "ipython",
    "version": 3
   },
   "file_extension": ".py",
   "mimetype": "text/x-python",
   "name": "python",
   "nbconvert_exporter": "python",
   "pygments_lexer": "ipython3",
   "version": "3.6.9"
  },
  "toc": {
   "base_numbering": 1,
   "nav_menu": {},
   "number_sections": true,
   "sideBar": true,
   "skip_h1_title": false,
   "title_cell": "Table of Contents",
   "title_sidebar": "Contents",
   "toc_cell": false,
   "toc_position": {},
   "toc_section_display": true,
   "toc_window_display": false
  },
  "varInspector": {
   "cols": {
    "lenName": 16,
    "lenType": 16,
    "lenVar": 40
   },
   "kernels_config": {
    "python": {
     "delete_cmd_postfix": "",
     "delete_cmd_prefix": "del ",
     "library": "var_list.py",
     "varRefreshCmd": "print(var_dic_list())"
    },
    "r": {
     "delete_cmd_postfix": ") ",
     "delete_cmd_prefix": "rm(",
     "library": "var_list.r",
     "varRefreshCmd": "cat(var_dic_list()) "
    }
   },
   "types_to_exclude": [
    "module",
    "function",
    "builtin_function_or_method",
    "instance",
    "_Feature"
   ],
   "window_display": false
  }
 },
 "nbformat": 4,
 "nbformat_minor": 1
}
