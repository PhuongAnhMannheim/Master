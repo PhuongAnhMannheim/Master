{
 "cells": [
  {
   "cell_type": "code",
   "execution_count": 1,
   "metadata": {
    "collapsed": true
   },
   "outputs": [],
   "source": [
    "import logging\n",
    "import sqlite3\n",
    "import re\n",
    "import gzip\n",
    "import pandas as pd"
   ]
  },
  {
   "cell_type": "code",
   "execution_count": 2,
   "outputs": [],
   "source": [
    "# Input\n",
    "movies_path = '../Data/input/schema_Movie.gz'\n",
    "reviews_path= '../Data/input/schema_Review.gz'\n",
    "inputlist = [movies_path,reviews_path]\n",
    "\n",
    "# Output\n",
    "moviereviewLog_path = '../Logs/movieReviews1.log'\n",
    "moviereviews_path = '../Data/output/moviereviews.db'\n",
    "\n",
    "logger = logging.getLogger()\n",
    "fhandler = logging.FileHandler(filename=moviereviewLog_path, mode='a')\n",
    "formatter = logging.Formatter('%(asctime)s - %(name)s - %(levelname)s - %(message)s')\n",
    "fhandler.setFormatter(formatter)\n",
    "logger.addHandler(fhandler)\n",
    "logger.setLevel(logging.DEBUG)"
   ],
   "metadata": {
    "collapsed": false,
    "pycharm": {
     "name": "#%%\n"
    }
   }
  },
  {
   "cell_type": "code",
   "execution_count": 3,
   "outputs": [
    {
     "data": {
      "text/plain": "<sqlite3.Cursor at 0x297cd8f5a40>"
     },
     "execution_count": 3,
     "metadata": {},
     "output_type": "execute_result"
    }
   ],
   "source": [
    "conn = sqlite3.connect(moviereviews_path)\n",
    "c = conn.cursor()\n",
    "c.execute(\"\"\"\n",
    "        CREATE TABLE IF NOT EXISTS\n",
    "            moviereviews(\n",
    "                NODE TEXT,\n",
    "                URL TEXT,\n",
    "                REVIEWBODY TEXT,\n",
    "                RATING TEXT,\n",
    "                REVIEWRATING TEXT,\n",
    "                BESTRATING TEXT,\n",
    "                WORSTRATING TEXT,\n",
    "                PRIMARY KEY (NODE, URL))\n",
    "    \"\"\")"
   ],
   "metadata": {
    "collapsed": false,
    "pycharm": {
     "name": "#%%\n"
    }
   }
  },
  {
   "cell_type": "code",
   "execution_count": 4,
   "outputs": [
    {
     "ename": "KeyboardInterrupt",
     "evalue": "",
     "output_type": "error",
     "traceback": [
      "\u001B[1;31m---------------------------------------------------------------------------\u001B[0m",
      "\u001B[1;31mKeyboardInterrupt\u001B[0m                         Traceback (most recent call last)",
      "\u001B[1;32m<ipython-input-4-0f03faa8d7a4>\u001B[0m in \u001B[0;36m<module>\u001B[1;34m\u001B[0m\n\u001B[0;32m     28\u001B[0m             \u001B[1;32mfor\u001B[0m \u001B[0mline\u001B[0m \u001B[1;32min\u001B[0m \u001B[0mhead\u001B[0m\u001B[1;33m:\u001B[0m\u001B[1;33m\u001B[0m\u001B[1;33m\u001B[0m\u001B[0m\n\u001B[0;32m     29\u001B[0m                 \u001B[0mi\u001B[0m \u001B[1;33m+=\u001B[0m \u001B[1;36m1\u001B[0m\u001B[1;33m\u001B[0m\u001B[1;33m\u001B[0m\u001B[0m\n\u001B[1;32m---> 30\u001B[1;33m                 \u001B[1;32mif\u001B[0m \u001B[1;32mnot\u001B[0m \u001B[0murl_pattern\u001B[0m\u001B[1;33m.\u001B[0m\u001B[0msearch\u001B[0m\u001B[1;33m(\u001B[0m\u001B[0mline\u001B[0m\u001B[1;33m)\u001B[0m\u001B[1;33m:\u001B[0m\u001B[1;33m\u001B[0m\u001B[1;33m\u001B[0m\u001B[0m\n\u001B[0m\u001B[0;32m     31\u001B[0m                     \u001B[0mnot_url\u001B[0m \u001B[1;33m+=\u001B[0m \u001B[1;36m1\u001B[0m\u001B[1;33m\u001B[0m\u001B[1;33m\u001B[0m\u001B[0m\n\u001B[0;32m     32\u001B[0m                     \u001B[1;32mcontinue\u001B[0m\u001B[1;33m\u001B[0m\u001B[1;33m\u001B[0m\u001B[0m\n",
      "\u001B[1;31mKeyboardInterrupt\u001B[0m: "
     ]
    }
   ],
   "source": [
    "taxo_pattern = re.compile(\"<http://schema.org/Review/description>|\"\\\n",
    "                          \"<http://schema.org/Review/reviewBody>|\"\\\n",
    "                          \"<http://schema.org/Review/reviewRating>|\"\\\n",
    "                          \"<http://schema.org/Rating/worstRating>|\"\\\n",
    "                          \"<http://schema.org/Rating/bestRating>|\"\\\n",
    "                          \"<http://schema.org/Rating/ratingValue>\", re.IGNORECASE)\n",
    "split_pattern = re.compile(\"^(_:.*)\\s<(.*)>\\s(.*)\\s<(.*)>\\s\\.$\", re.IGNORECASE)\n",
    "\n",
    "url_lst = ['https://in.bookmyshow.com', 'https://thereviewmonk.com',\n",
    "           'https://www.noopler.com', 'http://reviewschview.com',\n",
    "           'https://www.flickfilosopher.com', 'https://www.rogerebert.com',\n",
    "           'https://deepfocusreview.com', 'https://www.telegraph.co.uk',\n",
    "           'https://nationalpost.com', 'https://www.imdb.com']\n",
    "\n",
    "for input in inputlist:\n",
    "    for url in url_lst:\n",
    "        url_pattern = re.compile(url,re.IGNORECASE)\n",
    "        with gzip.open(input,\"rt\") as f:\n",
    "            i = 0\n",
    "            detected = 0\n",
    "            skipped = 0\n",
    "            not_taxo = 0\n",
    "            not_url = 0\n",
    "            inserted = 0\n",
    "            failed_updates = 0\n",
    "            head = [next(f) for x in range(5000000)]\n",
    "            # for line in f:\n",
    "            for line in head:\n",
    "                i += 1\n",
    "                if not url_pattern.search(line):\n",
    "                    not_url += 1\n",
    "                    continue\n",
    "                if not taxo_pattern.search(line):\n",
    "                    not_taxo\n",
    "                    continue\n",
    "                match = split_pattern.match(line)\n",
    "                if match is None:\n",
    "                    skipped += 1\n",
    "                    continue\n",
    "                detected += 1\n",
    "                props = match.groups()\n",
    "                subj = props[0]\n",
    "                predicate = props[1]\n",
    "                obj = props[2]\n",
    "                source = props[3]\n",
    "                c.execute(\"INSERT OR IGNORE INTO MOVIEREVIEWS (NODE, URL) VALUES (?,?);\",(subj, source))\n",
    "                update_query = \"UPDATE moviereviews SET \"\n",
    "                params = [obj, subj, source]\n",
    "                # print(line)\n",
    "                if predicate.lower() == \"http://schema.org/Review/reviewBody\".lower():\n",
    "                    update_query += \"REVIEWBODY = ? \"\n",
    "                if predicate.lower() == \"http://schema.org/Review/description\".lower():\n",
    "                    update_query += \"REVIEWBODY = ? \"\n",
    "                if predicate.lower() == \"http://schema.org/Review/reviewRating\".lower():\n",
    "                    update_query += \"RATING = ? \"\n",
    "                if predicate.lower() == \"http://schema.org/Rating/ratingValue\".lower():\n",
    "                    update_query += \"REVIEWRATING = ? \"\n",
    "                if predicate.lower() == \"http://schema.org/Rating/bestRating\".lower():\n",
    "                    update_query += \"BESTRATING = ? \"\n",
    "                if predicate.lower() == \"http://schema.org/Rating/worstRating\".lower():\n",
    "                    update_query += \"WORSTRATING = ? \"\n",
    "                update_query += \"WHERE NODE = ? AND URL = ?;\"\n",
    "                try:\n",
    "                    # print(update_query, params)\n",
    "                    c.execute(update_query, params)\n",
    "                    inserted += 1\n",
    "                except:\n",
    "                    logging.debug(\"failed to execute for params \" + str(props))\n",
    "                    failed_updates += 1\n",
    "\n",
    "logging.debug(\"detected \" + str(detected) + \", inserted: \" + str(inserted) +\" lines out of \" + str(i) + \"; not in taxo: \" + str(not_taxo))\n",
    "logging.debug(\"Done processing the movie reviews file from Movie.gz and Review.gz after the database got deleted\")\n",
    "\n",
    "conn.commit()\n",
    "conn.close()"
   ],
   "metadata": {
    "collapsed": false,
    "pycharm": {
     "name": "#%%\n"
    }
   }
  },
  {
   "cell_type": "code",
   "execution_count": 8,
   "outputs": [],
   "source": [
    "conn.commit()\n",
    "conn.close()"
   ],
   "metadata": {
    "collapsed": false,
    "pycharm": {
     "name": "#%%\n"
    }
   }
  },
  {
   "cell_type": "code",
   "execution_count": 4,
   "outputs": [
    {
     "data": {
      "text/plain": "                                     NODE  \\\n0  _:nodea456ab92b2669279485e1ddc64944bf0   \n1   _:nodee7b066aef1465ef6796152d5b23eefd   \n2   _:node3b52118bf545246233aa662aad8a194   \n3     _:nodef82d8af1d090997015dbe94ab45ad   \n4   _:nodeecc0f025103514ba011df1542adef7b   \n\n                                                 URL  \\\n0  https://in.bookmyshow.com/amritsar/movies/hous...   \n1  https://in.bookmyshow.com/amritsar/movies/hous...   \n2  https://in.bookmyshow.com/amritsar/movies/hous...   \n3  https://in.bookmyshow.com/amritsar/movies/hous...   \n4  https://in.bookmyshow.com/amritsar/movies/hous...   \n\n                                          REVIEWBODY  \\\n0  \"Housefull 4 is about the mistaken identities,...   \n1                                               None   \n2  \"Overall, Housefull 4 ends up as a complete ma...   \n3                                               None   \n4  \"HOUSEFULL 4 is a major disappointment and suf...   \n\n                                  RATING REVIEWRATING BESTRATING WORSTRATING  \n0  _:nodee7b066aef1465ef6796152d5b23eefd         None       None        None  \n1                                   None    \"Null\"@en  \"Null\"@en      \"2\"@en  \n2    _:nodef82d8af1d090997015dbe94ab45ad         None       None        None  \n3                                   None    \"Null\"@en  \"Null\"@en      \"2\"@en  \n4  _:node5e5e1ef8427cb3f95ead0badefcd4c8         None       None        None  ",
      "text/html": "<div>\n<style scoped>\n    .dataframe tbody tr th:only-of-type {\n        vertical-align: middle;\n    }\n\n    .dataframe tbody tr th {\n        vertical-align: top;\n    }\n\n    .dataframe thead th {\n        text-align: right;\n    }\n</style>\n<table border=\"1\" class=\"dataframe\">\n  <thead>\n    <tr style=\"text-align: right;\">\n      <th></th>\n      <th>NODE</th>\n      <th>URL</th>\n      <th>REVIEWBODY</th>\n      <th>RATING</th>\n      <th>REVIEWRATING</th>\n      <th>BESTRATING</th>\n      <th>WORSTRATING</th>\n    </tr>\n  </thead>\n  <tbody>\n    <tr>\n      <th>0</th>\n      <td>_:nodea456ab92b2669279485e1ddc64944bf0</td>\n      <td>https://in.bookmyshow.com/amritsar/movies/hous...</td>\n      <td>\"Housefull 4 is about the mistaken identities,...</td>\n      <td>_:nodee7b066aef1465ef6796152d5b23eefd</td>\n      <td>None</td>\n      <td>None</td>\n      <td>None</td>\n    </tr>\n    <tr>\n      <th>1</th>\n      <td>_:nodee7b066aef1465ef6796152d5b23eefd</td>\n      <td>https://in.bookmyshow.com/amritsar/movies/hous...</td>\n      <td>None</td>\n      <td>None</td>\n      <td>\"Null\"@en</td>\n      <td>\"Null\"@en</td>\n      <td>\"2\"@en</td>\n    </tr>\n    <tr>\n      <th>2</th>\n      <td>_:node3b52118bf545246233aa662aad8a194</td>\n      <td>https://in.bookmyshow.com/amritsar/movies/hous...</td>\n      <td>\"Overall, Housefull 4 ends up as a complete ma...</td>\n      <td>_:nodef82d8af1d090997015dbe94ab45ad</td>\n      <td>None</td>\n      <td>None</td>\n      <td>None</td>\n    </tr>\n    <tr>\n      <th>3</th>\n      <td>_:nodef82d8af1d090997015dbe94ab45ad</td>\n      <td>https://in.bookmyshow.com/amritsar/movies/hous...</td>\n      <td>None</td>\n      <td>None</td>\n      <td>\"Null\"@en</td>\n      <td>\"Null\"@en</td>\n      <td>\"2\"@en</td>\n    </tr>\n    <tr>\n      <th>4</th>\n      <td>_:nodeecc0f025103514ba011df1542adef7b</td>\n      <td>https://in.bookmyshow.com/amritsar/movies/hous...</td>\n      <td>\"HOUSEFULL 4 is a major disappointment and suf...</td>\n      <td>_:node5e5e1ef8427cb3f95ead0badefcd4c8</td>\n      <td>None</td>\n      <td>None</td>\n      <td>None</td>\n    </tr>\n  </tbody>\n</table>\n</div>"
     },
     "execution_count": 4,
     "metadata": {},
     "output_type": "execute_result"
    }
   ],
   "source": [
    "df = pd.read_sql_query(\"SELECT * from moviereviews\", conn)\n",
    "df.head()"
   ],
   "metadata": {
    "collapsed": false,
    "pycharm": {
     "name": "#%%\n"
    }
   }
  },
  {
   "cell_type": "code",
   "execution_count": 11,
   "outputs": [
    {
     "ename": "OperationalError",
     "evalue": "near \"T\": syntax error",
     "output_type": "error",
     "traceback": [
      "\u001B[1;31m---------------------------------------------------------------------------\u001B[0m",
      "\u001B[1;31mOperationalError\u001B[0m                          Traceback (most recent call last)",
      "\u001B[1;32m<ipython-input-11-18c7dcfba54e>\u001B[0m in \u001B[0;36m<module>\u001B[1;34m\u001B[0m\n\u001B[0;32m      7\u001B[0m \u001B[1;33m\u001B[0m\u001B[0m\n\u001B[0;32m      8\u001B[0m \u001B[1;31m# merge_query = \"UPDATE MOVIEREVIEWS T, (SELECT DISTINCT NODE, URL, RATING, REVIEWRATING, BESTRATING, WORSTRATING) T1 SET T.REVIEWRATING = T1.REVIEWRATING, T.BESTRATING = T1.BESTRATING, T.WORSTRATING = T1.WORSTRATING WHERE T.RATING = T1.NODE AND T.URL = T1.URL;\"\u001B[0m\u001B[1;33m\u001B[0m\u001B[1;33m\u001B[0m\u001B[1;33m\u001B[0m\u001B[0m\n\u001B[1;32m----> 9\u001B[1;33m \u001B[0mc\u001B[0m\u001B[1;33m.\u001B[0m\u001B[0mexecute\u001B[0m\u001B[1;33m(\u001B[0m\u001B[0mmerge_query\u001B[0m\u001B[1;33m)\u001B[0m\u001B[1;33m\u001B[0m\u001B[1;33m\u001B[0m\u001B[0m\n\u001B[0m\u001B[0;32m     10\u001B[0m \u001B[1;33m\u001B[0m\u001B[0m\n",
      "\u001B[1;31mOperationalError\u001B[0m: near \"T\": syntax error"
     ]
    }
   ],
   "source": [
    "merge_query = \"UPDATE MOVIEREVIEWS T, \"\\\n",
    "    \"(SELECT DISTINCT NODE, URL, RATING, REVIEWRATING, BESTRATING, WORSTRATING FROM MOVIEREVIEWS) T1 \"\\\n",
    "    \"SET T.REVIEWRATING = T1.REVIEWRATING,\"\\\n",
    "    \"T.BESTRATING = T1.BESTRATING,\"\\\n",
    "    \"T.WORSTRATING = T1.WORSTRATING\"\\\n",
    "    \"WHERE T.RATING = T1.NODE AND T.URL = T1.URL;\"\n",
    "\n",
    "# merge_query = \"UPDATE MOVIEREVIEWS T, (SELECT DISTINCT NODE, URL, RATING, REVIEWRATING, BESTRATING, WORSTRATING) T1 SET T.REVIEWRATING = T1.REVIEWRATING, T.BESTRATING = T1.BESTRATING, T.WORSTRATING = T1.WORSTRATING WHERE T.RATING = T1.NODE AND T.URL = T1.URL;\"\n",
    "c.execute(merge_query)\n"
   ],
   "metadata": {
    "collapsed": false,
    "pycharm": {
     "name": "#%%\n"
    }
   }
  }
 ],
 "metadata": {
  "kernelspec": {
   "display_name": "Python 3",
   "language": "python",
   "name": "python3"
  },
  "language_info": {
   "codemirror_mode": {
    "name": "ipython",
    "version": 2
   },
   "file_extension": ".py",
   "mimetype": "text/x-python",
   "name": "python",
   "nbconvert_exporter": "python",
   "pygments_lexer": "ipython2",
   "version": "2.7.6"
  }
 },
 "nbformat": 4,
 "nbformat_minor": 0
}