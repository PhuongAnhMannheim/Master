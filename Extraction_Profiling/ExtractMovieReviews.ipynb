{
 "cells": [
  {
   "cell_type": "code",
   "execution_count": null,
   "metadata": {
    "collapsed": true
   },
   "outputs": [],
   "source": [
    "import logging\n",
    "import csv\n",
    "import re\n",
    "import gzip\n",
    "import pandas as pd"
   ]
  },
  {
   "cell_type": "code",
   "execution_count": null,
   "outputs": [],
   "source": [
    "# Input\n",
    "movies_path = '../Data/input/schema_Movie.gz'\n",
    "reviews_path= '../Data/input/schema_Review.gz'\n",
    "inputlist = [movies_path,reviews_path]\n",
    "\n",
    "# Output\n",
    "moviereviewLog_path = '../Logs/movieReviews.log'\n",
    "moviereviews_path = '../Data/input/moviereviews.csv'\n",
    "\n",
    "logger = logging.getLogger()\n",
    "fhandler = logging.FileHandler(filename=moviereviewLog_path, mode='a')\n",
    "formatter = logging.Formatter('%(asctime)s - %(name)s - %(levelname)s - %(message)s')\n",
    "fhandler.setFormatter(formatter)\n",
    "logger.addHandler(fhandler)\n",
    "logger.setLevel(logging.DEBUG)"
   ],
   "metadata": {
    "collapsed": false,
    "pycharm": {
     "name": "#%%\n"
    }
   }
  },
  {
   "cell_type": "code",
   "execution_count": null,
   "outputs": [],
   "source": [
    "# csv form: NODE, URL, REVIEWBODY, RATING, REVIEWRATING, BESTRATING, WORSTRATING\n",
    "\n",
    "taxo_pattern = re.compile(\"<http://schema.org/Review/description>|\"\\\n",
    "                          \"<http://schema.org/Review/reviewBody>|\"\\\n",
    "                          \"<http://schema.org/Review/reviewRating>|\"\\\n",
    "                          \"<http://schema.org/Rating/worstRating>|\"\\\n",
    "                          \"<http://schema.org/Rating/bestRating>|\"\\\n",
    "                          \"<http://schema.org/Rating/ratingValue>\", re.IGNORECASE)\n",
    "split_pattern = re.compile(\"^(_:.*)\\s<(.*)>\\s(.*)\\s<(.*)>\\s\\.$\", re.IGNORECASE)\n",
    "\n",
    "url_lst = ['https://in.bookmyshow.com', 'https://thereviewmonk.com',\n",
    "           'https://www.noopler.com', 'http://reviewschview.com',\n",
    "           'https://www.flickfilosopher.com', 'https://www.rogerebert.com',\n",
    "           'https://deepfocusreview.com', 'https://www.telegraph.co.uk',\n",
    "           'https://nationalpost.com', 'https://www.imdb.com']\n",
    "\n",
    "for input in inputlist:\n",
    "    for url in url_lst:\n",
    "        url_pattern = re.compile(url,re.IGNORECASE)\n",
    "        with gzip.open(input,\"rt\") as f:\n",
    "            i = 0\n",
    "            detected = 0\n",
    "            skipped = 0\n",
    "            not_taxo = 0\n",
    "            not_url = 0\n",
    "            inserted = 0\n",
    "            failed_updates = 0\n",
    "            head = [next(f) for x in range(5000000)]\n",
    "            # for line in f:\n",
    "            for line in head:\n",
    "                i += 1\n",
    "                if not url_pattern.search(line):\n",
    "                    not_url += 1\n",
    "                    continue\n",
    "                if not taxo_pattern.search(line):\n",
    "                    not_taxo\n",
    "                    continue\n",
    "                match = split_pattern.match(line)\n",
    "                if match is None:\n",
    "                    skipped += 1\n",
    "                    continue\n",
    "                detected += 1\n",
    "                props = match.groups()\n",
    "                subj = props[0]\n",
    "                predicate = props[1]\n",
    "                obj = props[2]\n",
    "                source = props[3]\n",
    "                # Construct String\n",
    "                update_query = \"UPDATE MOVIEREVIEWS SET \"\n",
    "                params = [obj, subj, source]\n",
    "                # print(line)\n",
    "                if predicate.lower() == \"http://schema.org/Review/reviewBody\".lower():\n",
    "                    update_query += \"REVIEWBODY = ? \"\n",
    "                if predicate.lower() == \"http://schema.org/Review/description\".lower():\n",
    "                    update_query += \"REVIEWBODY = ? \"\n",
    "                if predicate.lower() == \"http://schema.org/Review/reviewRating\".lower():\n",
    "                    update_query += \"RATING = ? \"\n",
    "                if predicate.lower() == \"http://schema.org/Rating/ratingValue\".lower():\n",
    "                    update_query += \"REVIEWRATING = ? \"\n",
    "                if predicate.lower() == \"http://schema.org/Rating/bestRating\".lower():\n",
    "                    update_query += \"BESTRATING = ? \"\n",
    "                if predicate.lower() == \"http://schema.org/Rating/worstRating\".lower():\n",
    "                    update_query += \"WORSTRATING = ? \"\n",
    "                update_query += \"WHERE NODE = ? AND URL = ?;\"\n",
    "                try:\n",
    "                    # print(update_query, params)\n",
    "\n",
    "                    inserted += 1\n",
    "                except:\n",
    "                    logging.debug(\"failed to execute for params \" + str(props))\n",
    "                    failed_updates += 1"
   ],
   "metadata": {
    "collapsed": false,
    "pycharm": {
     "name": "#%%\n"
    }
   }
  }
 ],
 "metadata": {
  "kernelspec": {
   "display_name": "Python 3",
   "language": "python",
   "name": "python3"
  },
  "language_info": {
   "codemirror_mode": {
    "name": "ipython",
    "version": 2
   },
   "file_extension": ".py",
   "mimetype": "text/x-python",
   "name": "python",
   "nbconvert_exporter": "python",
   "pygments_lexer": "ipython2",
   "version": "2.7.6"
  }
 },
 "nbformat": 4,
 "nbformat_minor": 0
}