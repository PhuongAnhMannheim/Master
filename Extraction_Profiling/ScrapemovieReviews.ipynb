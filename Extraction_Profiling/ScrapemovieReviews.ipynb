{
 "cells": [
  {
   "cell_type": "code",
   "execution_count": 1,
   "metadata": {
    "ExecuteTime": {
     "end_time": "2020-08-05T07:26:22.555920Z",
     "start_time": "2020-08-05T07:26:22.202935Z"
    }
   },
   "outputs": [],
   "source": [
    "from bs4 import BeautifulSoup\n",
    "from requests import get\n",
    "import json\n",
    "import random\n",
    "import string\n",
    "import sqlite3\n",
    "import logging\n",
    "import re"
   ]
  },
  {
   "cell_type": "code",
   "execution_count": 32,
   "metadata": {
    "ExecuteTime": {
     "end_time": "2020-08-05T08:21:07.154225Z",
     "start_time": "2020-08-05T08:21:06.840492Z"
    },
    "pycharm": {
     "name": "#%%\n"
    }
   },
   "outputs": [
    {
     "data": {
      "text/plain": [
       "<sqlite3.Cursor at 0x7fdb8edcfd50>"
      ]
     },
     "execution_count": 32,
     "metadata": {},
     "output_type": "execute_result"
    }
   ],
   "source": [
    "# Input / Output\n",
    "db_path = '../Data/moviewreviews.db'\n",
    "\n",
    "# Output\n",
    "log_path = '../Logs/movieReviews.log'\n",
    "\n",
    "logger = logging.getLogger()\n",
    "fhandler = logging.FileHandler(filename=log_path, mode='a')\n",
    "formatter = logging.Formatter('%(asctime)s - %(name)s - %(levelname)s - %(message)s')\n",
    "fhandler.setFormatter(formatter)\n",
    "logger.addHandler(fhandler)\n",
    "logger.setLevel(logging.DEBUG)\n",
    "\n",
    "conn = sqlite3.connect(db_path)\n",
    "c = conn.cursor()\n",
    "# c.execute((\"\"\"\n",
    "#        CREATE TABLE IF NOT EXISTS\n",
    "#            test(\n",
    "#                NODE TEXT,\n",
    "#                URL TEXT,\n",
    "#                REVIEWBODY TEXT,\n",
    "#                RATING TEXT,\n",
    "#                REVIEWRATING TEXT,\n",
    "#                BESTRATING TEXT,\n",
    "#                WORSTRATING TEXT,\n",
    "#                PRIMARY KEY (NODE, URL))\n",
    "#    \"\"\"))"
   ]
  },
  {
   "cell_type": "code",
   "execution_count": 3,
   "metadata": {
    "ExecuteTime": {
     "end_time": "2020-08-05T07:26:26.731562Z",
     "start_time": "2020-08-05T07:26:26.723191Z"
    },
    "pycharm": {
     "name": "#%%\n"
    }
   },
   "outputs": [],
   "source": [
    "def generateNode(length):\n",
    "    letters_and_digits = string.ascii_letters + string.digits\n",
    "    result_str = ''.join((random.choice(letters_and_digits) for i in range(length)))\n",
    "    node = \"_:znode\" + result_str\n",
    "    return node\n",
    "    # print(\"Random alphanumeric String is:\", result_str)\n",
    "# generateNode(31)"
   ]
  },
  {
   "cell_type": "code",
   "execution_count": 33,
   "metadata": {
    "ExecuteTime": {
     "end_time": "2020-08-05T08:24:16.029607Z",
     "start_time": "2020-08-05T08:21:19.477674Z"
    },
    "pycharm": {
     "name": "#%%\n"
    }
   },
   "outputs": [
    {
     "name": "stdout",
     "output_type": "stream",
     "text": [
      "https://www.imdb.com//title/tt10833270/reviews\n",
      "WARNING!\n",
      "WARNING!\n",
      "WARNING!\n",
      "https://www.imdb.com//title/tt9792884/reviews\n",
      "WARNING!\n",
      "WARNING!\n",
      "https://www.imdb.com//title/tt3440298/reviews\n",
      "WARNING!\n",
      "WARNING!\n",
      "WARNING!\n",
      "WARNING!\n",
      "WARNING!\n",
      "WARNING!\n",
      "WARNING!\n",
      "WARNING!\n",
      "WARNING!\n",
      "WARNING!\n",
      "https://www.imdb.com//title/tt8022928/reviews\n",
      "WARNING!\n",
      "WARNING!\n",
      "WARNING!\n",
      "WARNING!\n",
      "WARNING!\n",
      "WARNING!\n"
     ]
    },
    {
     "ename": "KeyError",
     "evalue": "'reviewRating'",
     "output_type": "error",
     "traceback": [
      "\u001B[0;31m---------------------------------------------------------------------------\u001B[0m",
      "\u001B[0;31mKeyError\u001B[0m                                  Traceback (most recent call last)",
      "\u001B[0;32m<ipython-input-33-ca36527f0cae>\u001B[0m in \u001B[0;36m<module>\u001B[0;34m\u001B[0m\n\u001B[1;32m     52\u001B[0m                             \u001B[0mreviewBody\u001B[0m \u001B[0;34m=\u001B[0m \u001B[0mstr\u001B[0m\u001B[0;34m(\u001B[0m\u001B[0moJson\u001B[0m\u001B[0;34m[\u001B[0m\u001B[0;34m'reviewBody'\u001B[0m\u001B[0;34m]\u001B[0m\u001B[0;34m)\u001B[0m\u001B[0;34m\u001B[0m\u001B[0;34m\u001B[0m\u001B[0m\n\u001B[1;32m     53\u001B[0m                         \u001B[0mnode\u001B[0m \u001B[0;34m=\u001B[0m \u001B[0mgenerateNode\u001B[0m\u001B[0;34m(\u001B[0m\u001B[0;36m31\u001B[0m\u001B[0;34m)\u001B[0m\u001B[0;34m\u001B[0m\u001B[0;34m\u001B[0m\u001B[0m\n\u001B[0;32m---> 54\u001B[0;31m                         \u001B[0mreviewRating\u001B[0m \u001B[0;34m=\u001B[0m \u001B[0mstr\u001B[0m\u001B[0;34m(\u001B[0m\u001B[0moJson\u001B[0m\u001B[0;34m[\u001B[0m\u001B[0;34m'reviewRating'\u001B[0m\u001B[0;34m]\u001B[0m\u001B[0;34m)\u001B[0m\u001B[0;34m\u001B[0m\u001B[0;34m\u001B[0m\u001B[0m\n\u001B[0m\u001B[1;32m     55\u001B[0m                         \u001B[0mworstRating\u001B[0m \u001B[0;34m=\u001B[0m \u001B[0mstr\u001B[0m\u001B[0;34m(\u001B[0m\u001B[0moJson\u001B[0m\u001B[0;34m[\u001B[0m\u001B[0;34m'reviewRating'\u001B[0m\u001B[0;34m]\u001B[0m\u001B[0;34m[\u001B[0m\u001B[0;34m'worstRating'\u001B[0m\u001B[0;34m]\u001B[0m\u001B[0;34m)\u001B[0m\u001B[0;34m\u001B[0m\u001B[0;34m\u001B[0m\u001B[0m\n\u001B[1;32m     56\u001B[0m                         \u001B[0mbestRating\u001B[0m \u001B[0;34m=\u001B[0m \u001B[0mstr\u001B[0m\u001B[0;34m(\u001B[0m\u001B[0moJson\u001B[0m\u001B[0;34m[\u001B[0m\u001B[0;34m'reviewRating'\u001B[0m\u001B[0;34m]\u001B[0m\u001B[0;34m[\u001B[0m\u001B[0;34m'bestRating'\u001B[0m\u001B[0;34m]\u001B[0m\u001B[0;34m)\u001B[0m\u001B[0;34m\u001B[0m\u001B[0;34m\u001B[0m\u001B[0m\n",
      "\u001B[0;31mKeyError\u001B[0m: 'reviewRating'"
     ]
    }
   ],
   "source": [
    "host = 'https://www.imdb.com'\n",
    "# https://www.imdb.com/search/title/?title_type=tv_movie,tv_episode&release_date=2000-01-01,2020-12-31&user_rating=1.0,10.0&languages=en&start=1&ref_=adv_nxt\n",
    "# +50\n",
    "# https://www.imdb.com/search/title/?title_type=tv_movie,tv_episode&release_date=2000-01-01,2020-12-31&user_rating=1.0,10.0&languages=en&start=51&ref_=adv_nxt\n",
    "page_count = 0\n",
    "movie_count = 0\n",
    "review_count = 0\n",
    "# umstellen auf 1001\n",
    "for page in range (11,20):\n",
    "    page_count= page*50+1\n",
    "    # print(page_count)\n",
    "    url = f'https://www.imdb.com/search/title/?title_type=tv_movie,tv_episode&release_date=2000-01-01,2020-12-31&user_rating=1.0,10.0&languages=en&start={page_count}&ref_=adv_nxt'\n",
    "    response = get(url)\n",
    "    html_soup = BeautifulSoup(response.text, 'html.parser')\n",
    "    movie_containers = html_soup.find_all('div', class_ = 'lister-item mode-advanced')\n",
    "    # print(type(movie_containers))\n",
    "    # print(len(movie_containers))\n",
    "    i = 0\n",
    "    for movie in movie_containers:\n",
    "        # link to site with all review previews for each movie\n",
    "        link = 'https://www.imdb.com/' + movie_containers[i].a['href'] + 'reviews'\n",
    "        # link = 'https://www.imdb.com//title/tt8022928/reviews'\n",
    "        # print(link)\n",
    "        movie_count += 1\n",
    "        i += 1\n",
    "        review_collection = BeautifulSoup(get(link).text, 'html.parser').body.find_all('div', class_='actions text-muted')\n",
    "        for tiles in review_collection:\n",
    "            permalinks = tiles.find_all('a', href=True, text='Permalink')\n",
    "            for permalink in permalinks:\n",
    "                review_link = host + permalink['href']\n",
    "                # review_link = \"https://www.imdb.com/review/rw3754733/\"\n",
    "                # review_link = \"https://www.imdb.com/review/rw5040450/\"\n",
    "                # print(review_link)\n",
    "                review_count += 1\n",
    "                review_soup = BeautifulSoup(get(review_link).text, 'html.parser')\n",
    "                try:\n",
    "                    warning = review_soup.body.find_all(string=re.compile('.*{0}.*'.format('Warning: Spoilers')), recursive=True)\n",
    "                except:\n",
    "                    pass\n",
    "                container = review_soup.find(\"script\",type=\"application/ld+json\")\n",
    "                try:\n",
    "                    for item in container:\n",
    "                        if item.__contains__('http://schema.org'):\n",
    "                            text = str(item.extract())\n",
    "                            oJson = json.loads(text)\n",
    "                            # print(oJson)\n",
    "                            if (warning):\n",
    "                                # (\"WARNING!\")\n",
    "                                reviewBodyContainer = review_soup.body.find_all('div', class_=\"text show-more__control\")\n",
    "                                for item in reviewBodyContainer:\n",
    "                                    reviewBody = item.text\n",
    "                                # print(reviewBodyContainer)\n",
    "                                # reviewBody = reviewBodyContainer[0].text\n",
    "                            else:\n",
    "                                reviewBody = str(oJson['reviewBody'])\n",
    "                            try:\n",
    "                                node = generateNode(31)\n",
    "                                reviewRating = str(oJson['reviewRating'])\n",
    "                                worstRating = str(oJson['reviewRating']['worstRating'])\n",
    "                                bestRating = str(oJson['reviewRating']['bestRating'])\n",
    "                                ratingValue = str(oJson['reviewRating']['ratingValue'])\n",
    "                            except: \n",
    "                                continue\n",
    "\n",
    "                            # print('node:' + node)\n",
    "                            # print('url: '+ review_link)\n",
    "                            # print('reviewBody: ' + reviewBody)\n",
    "                            # print('worstRating: ' + worstRating)\n",
    "                            # print('bestRating: ' + bestRating)\n",
    "                            # print('ratingValue: ' + ratingValue)\n",
    "\n",
    "                            # print(\"INSERT OR IGNORE INTO MOVIEREVIEWS (NODE, URL, REVIEWBODY, RATING, REVIEWRATING, BESTRATING, WORSTRATING) VALUES (?,?,?,?,?,?,?);\"\"\",(node,url,reviewBody,reviewRating,ratingValue,bestRating,worstRating))\n",
    "                            c.execute(\"INSERT OR IGNORE INTO moviereviews (NODE, URL, REVIEWBODY, RATING, REVIEWRATING, BESTRATING, WORSTRATING) VALUES (?,?,?,?,?,?,?);\",(node,url,reviewBody,reviewRating,ratingValue,bestRating,worstRating))\n",
    "                            conn.commit()\n",
    "                except:\n",
    "                    continue\n",
    "logging.debug(\"number of reviews: \" + str(review_count))\n"
   ]
  }
 ],
 "metadata": {
  "kernelspec": {
   "display_name": "Python 3",
   "language": "python",
   "name": "python3"
  },
  "language_info": {
   "codemirror_mode": {
    "name": "ipython",
    "version": 3
   },
   "file_extension": ".py",
   "mimetype": "text/x-python",
   "name": "python",
   "nbconvert_exporter": "python",
   "pygments_lexer": "ipython3",
   "version": "3.6.9"
  },
  "toc": {
   "base_numbering": 1,
   "nav_menu": {},
   "number_sections": true,
   "sideBar": true,
   "skip_h1_title": false,
   "title_cell": "Table of Contents",
   "title_sidebar": "Contents",
   "toc_cell": false,
   "toc_position": {},
   "toc_section_display": true,
   "toc_window_display": false
  },
  "varInspector": {
   "cols": {
    "lenName": 16,
    "lenType": 16,
    "lenVar": 40
   },
   "kernels_config": {
    "python": {
     "delete_cmd_postfix": "",
     "delete_cmd_prefix": "del ",
     "library": "var_list.py",
     "varRefreshCmd": "print(var_dic_list())"
    },
    "r": {
     "delete_cmd_postfix": ") ",
     "delete_cmd_prefix": "rm(",
     "library": "var_list.r",
     "varRefreshCmd": "cat(var_dic_list()) "
    }
   },
   "types_to_exclude": [
    "module",
    "function",
    "builtin_function_or_method",
    "instance",
    "_Feature"
   ],
   "window_display": false
  }
 },
 "nbformat": 4,
 "nbformat_minor": 1
}