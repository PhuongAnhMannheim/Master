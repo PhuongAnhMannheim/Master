{
 "cells": [
  {
   "cell_type": "code",
   "execution_count": 15,
   "metadata": {
    "collapsed": true
   },
   "outputs": [],
   "source": [
    "from bs4 import BeautifulSoup\n",
    "from requests import get\n",
    "import json\n",
    "import random\n",
    "import string\n",
    "import sqlite3\n",
    "import logging\n",
    "import re"
   ]
  },
  {
   "cell_type": "code",
   "execution_count": 14,
   "outputs": [
    {
     "data": {
      "text/plain": "<sqlite3.Cursor at 0x11472a50d50>"
     },
     "execution_count": 14,
     "metadata": {},
     "output_type": "execute_result"
    }
   ],
   "source": [
    "# Input / Output\n",
    "db_path = '../Data/moviereviews.db'\n",
    "\n",
    "# Output\n",
    "log_path = '../Logs/movieReviews.log'\n",
    "\n",
    "logger = logging.getLogger()\n",
    "fhandler = logging.FileHandler(filename=moviereviewLog_path, mode='a')\n",
    "formatter = logging.Formatter('%(asctime)s - %(name)s - %(levelname)s - %(message)s')\n",
    "fhandler.setFormatter(formatter)\n",
    "logger.addHandler(fhandler)\n",
    "logger.setLevel(logging.DEBUG)\n",
    "\n",
    "# conn = sqlite3.connect(db_path)\n",
    "# c = conn.cursor()\n",
    "\n",
    "conn = sqlite3.connect('test.db')\n",
    "c = conn.cursor()\n",
    "c.execute((\"\"\"\n",
    "        CREATE TABLE IF NOT EXISTS\n",
    "            test(\n",
    "                NODE TEXT,\n",
    "                URL TEXT,\n",
    "                REVIEWBODY TEXT,\n",
    "                RATING TEXT,\n",
    "                REVIEWRATING TEXT,\n",
    "                BESTRATING TEXT,\n",
    "                WORSTRATING TEXT,\n",
    "                PRIMARY KEY (NODE, URL))\n",
    "    \"\"\"))"
   ],
   "metadata": {
    "collapsed": false,
    "pycharm": {
     "name": "#%%\n"
    }
   }
  },
  {
   "cell_type": "code",
   "execution_count": 22,
   "outputs": [],
   "source": [
    "def generateNode(length):\n",
    "    letters_and_digits = string.ascii_letters + string.digits\n",
    "    result_str = ''.join((random.choice(letters_and_digits) for i in range(length)))\n",
    "    node = \"_:znode\" + result_str\n",
    "    return node\n",
    "    # print(\"Random alphanumeric String is:\", result_str)\n",
    "# generateNode(31)"
   ],
   "metadata": {
    "collapsed": false,
    "pycharm": {
     "name": "#%%\n"
    }
   }
  },
  {
   "cell_type": "code",
   "execution_count": 46,
   "outputs": [
    {
     "name": "stdout",
     "output_type": "stream",
     "text": [
      "node:_:znodeFqTwvk73ZqQsRDvW4ORiIAf53qkcgoN\n",
      "url: https://www.imdb.com/review/rw3878864/\n",
      "reviewBody: Brooke Nevin & Robin Dunne star as Maggie and Mitch, who once upon a time were in college together and find themselves back in their hometown and begin to reacquaint their friendship. Maggie has only fond memories of Mitch, who helped her get home for Christmas when she was a freshman. Maggie always wondered what happened and why Mitch never came back to college... He also has no Christmas spirit whatsoever, so Maggie sets out to rekindle his spirit and hopefully some romance as well. She begins sending him anonymous packages full of Christmas cheer. To complicate matters the packages become a media frenzy and she is assigned to write a story on them for the local paper. Will Maggie tell Mitch before someone else takes credit for the cheer? Cute romantic Christmas flick.\n",
      "worstRating: 1\n",
      "bestRating: 10\n",
      "ratingValue: 7\n",
      "node:_:znodeNaEMlwPmf8bCoKYIWG9m3kaiteKiuJu\n",
      "url: https://www.imdb.com/review/rw3878864/\n",
      "reviewBody: Brooke Nevin & Robin Dunne star as Maggie and Mitch, who once upon a time were in college together and find themselves back in their hometown and begin to reacquaint their friendship. Maggie has only fond memories of Mitch, who helped her get home for Christmas when she was a freshman. Maggie always wondered what happened and why Mitch never came back to college... He also has no Christmas spirit whatsoever, so Maggie sets out to rekindle his spirit and hopefully some romance as well. She begins sending him anonymous packages full of Christmas cheer. To complicate matters the packages become a media frenzy and she is assigned to write a story on them for the local paper. Will Maggie tell Mitch before someone else takes credit for the cheer? Cute romantic Christmas flick.\n",
      "worstRating: 1\n",
      "bestRating: 10\n",
      "ratingValue: 7\n",
      "node:_:znode9S30vCxpHSIH5QGIEPH7AR1sd5ePB8E\n",
      "url: https://www.imdb.com/review/rw3878864/\n",
      "reviewBody: Brooke Nevin & Robin Dunne star as Maggie and Mitch, who once upon a time were in college together and find themselves back in their hometown and begin to reacquaint their friendship. Maggie has only fond memories of Mitch, who helped her get home for Christmas when she was a freshman. Maggie always wondered what happened and why Mitch never came back to college... He also has no Christmas spirit whatsoever, so Maggie sets out to rekindle his spirit and hopefully some romance as well. She begins sending him anonymous packages full of Christmas cheer. To complicate matters the packages become a media frenzy and she is assigned to write a story on them for the local paper. Will Maggie tell Mitch before someone else takes credit for the cheer? Cute romantic Christmas flick.\n",
      "worstRating: 1\n",
      "bestRating: 10\n",
      "ratingValue: 7\n",
      "node:_:znodeYGGRV9j03lPed9H6lp7V3c9rlOiJaAs\n",
      "url: https://www.imdb.com/review/rw3878864/\n",
      "reviewBody: Brooke Nevin & Robin Dunne star as Maggie and Mitch, who once upon a time were in college together and find themselves back in their hometown and begin to reacquaint their friendship. Maggie has only fond memories of Mitch, who helped her get home for Christmas when she was a freshman. Maggie always wondered what happened and why Mitch never came back to college... He also has no Christmas spirit whatsoever, so Maggie sets out to rekindle his spirit and hopefully some romance as well. She begins sending him anonymous packages full of Christmas cheer. To complicate matters the packages become a media frenzy and she is assigned to write a story on them for the local paper. Will Maggie tell Mitch before someone else takes credit for the cheer? Cute romantic Christmas flick.\n",
      "worstRating: 1\n",
      "bestRating: 10\n",
      "ratingValue: 7\n",
      "node:_:znodekTY18nlMGHZGef0zlQ2b81xHig6a5h8\n",
      "url: https://www.imdb.com/review/rw3878864/\n",
      "reviewBody: Brooke Nevin & Robin Dunne star as Maggie and Mitch, who once upon a time were in college together and find themselves back in their hometown and begin to reacquaint their friendship. Maggie has only fond memories of Mitch, who helped her get home for Christmas when she was a freshman. Maggie always wondered what happened and why Mitch never came back to college... He also has no Christmas spirit whatsoever, so Maggie sets out to rekindle his spirit and hopefully some romance as well. She begins sending him anonymous packages full of Christmas cheer. To complicate matters the packages become a media frenzy and she is assigned to write a story on them for the local paper. Will Maggie tell Mitch before someone else takes credit for the cheer? Cute romantic Christmas flick.\n",
      "worstRating: 1\n",
      "bestRating: 10\n",
      "ratingValue: 7\n",
      "node:_:znodebRccfBqwWAwh04w1fpPVpQMX5wJ1ulV\n",
      "url: https://www.imdb.com/review/rw3878864/\n",
      "reviewBody: Brooke Nevin & Robin Dunne star as Maggie and Mitch, who once upon a time were in college together and find themselves back in their hometown and begin to reacquaint their friendship. Maggie has only fond memories of Mitch, who helped her get home for Christmas when she was a freshman. Maggie always wondered what happened and why Mitch never came back to college... He also has no Christmas spirit whatsoever, so Maggie sets out to rekindle his spirit and hopefully some romance as well. She begins sending him anonymous packages full of Christmas cheer. To complicate matters the packages become a media frenzy and she is assigned to write a story on them for the local paper. Will Maggie tell Mitch before someone else takes credit for the cheer? Cute romantic Christmas flick.\n",
      "worstRating: 1\n",
      "bestRating: 10\n",
      "ratingValue: 7\n",
      "node:_:znodeNmu2jRkp8PzFBvdkVPgmvzTYC71UBCx\n",
      "url: https://www.imdb.com/review/rw3878864/\n",
      "reviewBody: Brooke Nevin & Robin Dunne star as Maggie and Mitch, who once upon a time were in college together and find themselves back in their hometown and begin to reacquaint their friendship. Maggie has only fond memories of Mitch, who helped her get home for Christmas when she was a freshman. Maggie always wondered what happened and why Mitch never came back to college... He also has no Christmas spirit whatsoever, so Maggie sets out to rekindle his spirit and hopefully some romance as well. She begins sending him anonymous packages full of Christmas cheer. To complicate matters the packages become a media frenzy and she is assigned to write a story on them for the local paper. Will Maggie tell Mitch before someone else takes credit for the cheer? Cute romantic Christmas flick.\n",
      "worstRating: 1\n",
      "bestRating: 10\n",
      "ratingValue: 7\n"
     ]
    },
    {
     "ename": "KeyboardInterrupt",
     "evalue": "",
     "output_type": "error",
     "traceback": [
      "\u001B[1;31m---------------------------------------------------------------------------\u001B[0m",
      "\u001B[1;31mKeyboardInterrupt\u001B[0m                         Traceback (most recent call last)",
      "\u001B[1;32m<ipython-input-46-773d420fc935>\u001B[0m in \u001B[0;36m<module>\u001B[1;34m\u001B[0m\n\u001B[0;32m     31\u001B[0m                 \u001B[1;31m# print(review_link)\u001B[0m\u001B[1;33m\u001B[0m\u001B[1;33m\u001B[0m\u001B[1;33m\u001B[0m\u001B[0m\n\u001B[0;32m     32\u001B[0m                 \u001B[0mreview_count\u001B[0m \u001B[1;33m+=\u001B[0m \u001B[1;36m1\u001B[0m\u001B[1;33m\u001B[0m\u001B[1;33m\u001B[0m\u001B[0m\n\u001B[1;32m---> 33\u001B[1;33m                 \u001B[0mreview_soup\u001B[0m \u001B[1;33m=\u001B[0m \u001B[0mBeautifulSoup\u001B[0m\u001B[1;33m(\u001B[0m\u001B[0mget\u001B[0m\u001B[1;33m(\u001B[0m\u001B[0mreview_link\u001B[0m\u001B[1;33m)\u001B[0m\u001B[1;33m.\u001B[0m\u001B[0mtext\u001B[0m\u001B[1;33m,\u001B[0m \u001B[1;34m'html.parser'\u001B[0m\u001B[1;33m)\u001B[0m\u001B[1;33m\u001B[0m\u001B[1;33m\u001B[0m\u001B[0m\n\u001B[0m\u001B[0;32m     34\u001B[0m                 \u001B[1;32mtry\u001B[0m\u001B[1;33m:\u001B[0m\u001B[1;33m\u001B[0m\u001B[1;33m\u001B[0m\u001B[0m\n\u001B[0;32m     35\u001B[0m                     \u001B[0mwarning\u001B[0m \u001B[1;33m=\u001B[0m \u001B[0mreview_soup\u001B[0m\u001B[1;33m.\u001B[0m\u001B[0mbody\u001B[0m\u001B[1;33m.\u001B[0m\u001B[0mfind_all\u001B[0m\u001B[1;33m(\u001B[0m\u001B[0mstring\u001B[0m\u001B[1;33m=\u001B[0m\u001B[0mre\u001B[0m\u001B[1;33m.\u001B[0m\u001B[0mcompile\u001B[0m\u001B[1;33m(\u001B[0m\u001B[1;34m'.*{0}.*'\u001B[0m\u001B[1;33m.\u001B[0m\u001B[0mformat\u001B[0m\u001B[1;33m(\u001B[0m\u001B[1;34m'Warning: Spoilers'\u001B[0m\u001B[1;33m)\u001B[0m\u001B[1;33m)\u001B[0m\u001B[1;33m,\u001B[0m \u001B[0mrecursive\u001B[0m\u001B[1;33m=\u001B[0m\u001B[1;32mTrue\u001B[0m\u001B[1;33m)\u001B[0m\u001B[1;33m\u001B[0m\u001B[1;33m\u001B[0m\u001B[0m\n",
      "\u001B[1;32mc:\\users\\d064966\\appdata\\local\\continuum\\anaconda3\\envs\\masterthesis\\lib\\site-packages\\requests\\api.py\u001B[0m in \u001B[0;36mget\u001B[1;34m(url, params, **kwargs)\u001B[0m\n\u001B[0;32m     74\u001B[0m \u001B[1;33m\u001B[0m\u001B[0m\n\u001B[0;32m     75\u001B[0m     \u001B[0mkwargs\u001B[0m\u001B[1;33m.\u001B[0m\u001B[0msetdefault\u001B[0m\u001B[1;33m(\u001B[0m\u001B[1;34m'allow_redirects'\u001B[0m\u001B[1;33m,\u001B[0m \u001B[1;32mTrue\u001B[0m\u001B[1;33m)\u001B[0m\u001B[1;33m\u001B[0m\u001B[1;33m\u001B[0m\u001B[0m\n\u001B[1;32m---> 76\u001B[1;33m     \u001B[1;32mreturn\u001B[0m \u001B[0mrequest\u001B[0m\u001B[1;33m(\u001B[0m\u001B[1;34m'get'\u001B[0m\u001B[1;33m,\u001B[0m \u001B[0murl\u001B[0m\u001B[1;33m,\u001B[0m \u001B[0mparams\u001B[0m\u001B[1;33m=\u001B[0m\u001B[0mparams\u001B[0m\u001B[1;33m,\u001B[0m \u001B[1;33m**\u001B[0m\u001B[0mkwargs\u001B[0m\u001B[1;33m)\u001B[0m\u001B[1;33m\u001B[0m\u001B[1;33m\u001B[0m\u001B[0m\n\u001B[0m\u001B[0;32m     77\u001B[0m \u001B[1;33m\u001B[0m\u001B[0m\n\u001B[0;32m     78\u001B[0m \u001B[1;33m\u001B[0m\u001B[0m\n",
      "\u001B[1;32mc:\\users\\d064966\\appdata\\local\\continuum\\anaconda3\\envs\\masterthesis\\lib\\site-packages\\requests\\api.py\u001B[0m in \u001B[0;36mrequest\u001B[1;34m(method, url, **kwargs)\u001B[0m\n\u001B[0;32m     59\u001B[0m     \u001B[1;31m# cases, and look like a memory leak in others.\u001B[0m\u001B[1;33m\u001B[0m\u001B[1;33m\u001B[0m\u001B[1;33m\u001B[0m\u001B[0m\n\u001B[0;32m     60\u001B[0m     \u001B[1;32mwith\u001B[0m \u001B[0msessions\u001B[0m\u001B[1;33m.\u001B[0m\u001B[0mSession\u001B[0m\u001B[1;33m(\u001B[0m\u001B[1;33m)\u001B[0m \u001B[1;32mas\u001B[0m \u001B[0msession\u001B[0m\u001B[1;33m:\u001B[0m\u001B[1;33m\u001B[0m\u001B[1;33m\u001B[0m\u001B[0m\n\u001B[1;32m---> 61\u001B[1;33m         \u001B[1;32mreturn\u001B[0m \u001B[0msession\u001B[0m\u001B[1;33m.\u001B[0m\u001B[0mrequest\u001B[0m\u001B[1;33m(\u001B[0m\u001B[0mmethod\u001B[0m\u001B[1;33m=\u001B[0m\u001B[0mmethod\u001B[0m\u001B[1;33m,\u001B[0m \u001B[0murl\u001B[0m\u001B[1;33m=\u001B[0m\u001B[0murl\u001B[0m\u001B[1;33m,\u001B[0m \u001B[1;33m**\u001B[0m\u001B[0mkwargs\u001B[0m\u001B[1;33m)\u001B[0m\u001B[1;33m\u001B[0m\u001B[1;33m\u001B[0m\u001B[0m\n\u001B[0m\u001B[0;32m     62\u001B[0m \u001B[1;33m\u001B[0m\u001B[0m\n\u001B[0;32m     63\u001B[0m \u001B[1;33m\u001B[0m\u001B[0m\n",
      "\u001B[1;32mc:\\users\\d064966\\appdata\\local\\continuum\\anaconda3\\envs\\masterthesis\\lib\\site-packages\\requests\\sessions.py\u001B[0m in \u001B[0;36mrequest\u001B[1;34m(self, method, url, params, data, headers, cookies, files, auth, timeout, allow_redirects, proxies, hooks, stream, verify, cert, json)\u001B[0m\n\u001B[0;32m    528\u001B[0m         }\n\u001B[0;32m    529\u001B[0m         \u001B[0msend_kwargs\u001B[0m\u001B[1;33m.\u001B[0m\u001B[0mupdate\u001B[0m\u001B[1;33m(\u001B[0m\u001B[0msettings\u001B[0m\u001B[1;33m)\u001B[0m\u001B[1;33m\u001B[0m\u001B[1;33m\u001B[0m\u001B[0m\n\u001B[1;32m--> 530\u001B[1;33m         \u001B[0mresp\u001B[0m \u001B[1;33m=\u001B[0m \u001B[0mself\u001B[0m\u001B[1;33m.\u001B[0m\u001B[0msend\u001B[0m\u001B[1;33m(\u001B[0m\u001B[0mprep\u001B[0m\u001B[1;33m,\u001B[0m \u001B[1;33m**\u001B[0m\u001B[0msend_kwargs\u001B[0m\u001B[1;33m)\u001B[0m\u001B[1;33m\u001B[0m\u001B[1;33m\u001B[0m\u001B[0m\n\u001B[0m\u001B[0;32m    531\u001B[0m \u001B[1;33m\u001B[0m\u001B[0m\n\u001B[0;32m    532\u001B[0m         \u001B[1;32mreturn\u001B[0m \u001B[0mresp\u001B[0m\u001B[1;33m\u001B[0m\u001B[1;33m\u001B[0m\u001B[0m\n",
      "\u001B[1;32mc:\\users\\d064966\\appdata\\local\\continuum\\anaconda3\\envs\\masterthesis\\lib\\site-packages\\requests\\sessions.py\u001B[0m in \u001B[0;36msend\u001B[1;34m(self, request, **kwargs)\u001B[0m\n\u001B[0;32m    683\u001B[0m \u001B[1;33m\u001B[0m\u001B[0m\n\u001B[0;32m    684\u001B[0m         \u001B[1;32mif\u001B[0m \u001B[1;32mnot\u001B[0m \u001B[0mstream\u001B[0m\u001B[1;33m:\u001B[0m\u001B[1;33m\u001B[0m\u001B[1;33m\u001B[0m\u001B[0m\n\u001B[1;32m--> 685\u001B[1;33m             \u001B[0mr\u001B[0m\u001B[1;33m.\u001B[0m\u001B[0mcontent\u001B[0m\u001B[1;33m\u001B[0m\u001B[1;33m\u001B[0m\u001B[0m\n\u001B[0m\u001B[0;32m    686\u001B[0m \u001B[1;33m\u001B[0m\u001B[0m\n\u001B[0;32m    687\u001B[0m         \u001B[1;32mreturn\u001B[0m \u001B[0mr\u001B[0m\u001B[1;33m\u001B[0m\u001B[1;33m\u001B[0m\u001B[0m\n",
      "\u001B[1;32mc:\\users\\d064966\\appdata\\local\\continuum\\anaconda3\\envs\\masterthesis\\lib\\site-packages\\requests\\models.py\u001B[0m in \u001B[0;36mcontent\u001B[1;34m(self)\u001B[0m\n\u001B[0;32m    827\u001B[0m                 \u001B[0mself\u001B[0m\u001B[1;33m.\u001B[0m\u001B[0m_content\u001B[0m \u001B[1;33m=\u001B[0m \u001B[1;32mNone\u001B[0m\u001B[1;33m\u001B[0m\u001B[1;33m\u001B[0m\u001B[0m\n\u001B[0;32m    828\u001B[0m             \u001B[1;32melse\u001B[0m\u001B[1;33m:\u001B[0m\u001B[1;33m\u001B[0m\u001B[1;33m\u001B[0m\u001B[0m\n\u001B[1;32m--> 829\u001B[1;33m                 \u001B[0mself\u001B[0m\u001B[1;33m.\u001B[0m\u001B[0m_content\u001B[0m \u001B[1;33m=\u001B[0m \u001B[1;34mb''\u001B[0m\u001B[1;33m.\u001B[0m\u001B[0mjoin\u001B[0m\u001B[1;33m(\u001B[0m\u001B[0mself\u001B[0m\u001B[1;33m.\u001B[0m\u001B[0miter_content\u001B[0m\u001B[1;33m(\u001B[0m\u001B[0mCONTENT_CHUNK_SIZE\u001B[0m\u001B[1;33m)\u001B[0m\u001B[1;33m)\u001B[0m \u001B[1;32mor\u001B[0m \u001B[1;34mb''\u001B[0m\u001B[1;33m\u001B[0m\u001B[1;33m\u001B[0m\u001B[0m\n\u001B[0m\u001B[0;32m    830\u001B[0m \u001B[1;33m\u001B[0m\u001B[0m\n\u001B[0;32m    831\u001B[0m         \u001B[0mself\u001B[0m\u001B[1;33m.\u001B[0m\u001B[0m_content_consumed\u001B[0m \u001B[1;33m=\u001B[0m \u001B[1;32mTrue\u001B[0m\u001B[1;33m\u001B[0m\u001B[1;33m\u001B[0m\u001B[0m\n",
      "\u001B[1;32mc:\\users\\d064966\\appdata\\local\\continuum\\anaconda3\\envs\\masterthesis\\lib\\site-packages\\requests\\models.py\u001B[0m in \u001B[0;36mgenerate\u001B[1;34m()\u001B[0m\n\u001B[0;32m    749\u001B[0m             \u001B[1;32mif\u001B[0m \u001B[0mhasattr\u001B[0m\u001B[1;33m(\u001B[0m\u001B[0mself\u001B[0m\u001B[1;33m.\u001B[0m\u001B[0mraw\u001B[0m\u001B[1;33m,\u001B[0m \u001B[1;34m'stream'\u001B[0m\u001B[1;33m)\u001B[0m\u001B[1;33m:\u001B[0m\u001B[1;33m\u001B[0m\u001B[1;33m\u001B[0m\u001B[0m\n\u001B[0;32m    750\u001B[0m                 \u001B[1;32mtry\u001B[0m\u001B[1;33m:\u001B[0m\u001B[1;33m\u001B[0m\u001B[1;33m\u001B[0m\u001B[0m\n\u001B[1;32m--> 751\u001B[1;33m                     \u001B[1;32mfor\u001B[0m \u001B[0mchunk\u001B[0m \u001B[1;32min\u001B[0m \u001B[0mself\u001B[0m\u001B[1;33m.\u001B[0m\u001B[0mraw\u001B[0m\u001B[1;33m.\u001B[0m\u001B[0mstream\u001B[0m\u001B[1;33m(\u001B[0m\u001B[0mchunk_size\u001B[0m\u001B[1;33m,\u001B[0m \u001B[0mdecode_content\u001B[0m\u001B[1;33m=\u001B[0m\u001B[1;32mTrue\u001B[0m\u001B[1;33m)\u001B[0m\u001B[1;33m:\u001B[0m\u001B[1;33m\u001B[0m\u001B[1;33m\u001B[0m\u001B[0m\n\u001B[0m\u001B[0;32m    752\u001B[0m                         \u001B[1;32myield\u001B[0m \u001B[0mchunk\u001B[0m\u001B[1;33m\u001B[0m\u001B[1;33m\u001B[0m\u001B[0m\n\u001B[0;32m    753\u001B[0m                 \u001B[1;32mexcept\u001B[0m \u001B[0mProtocolError\u001B[0m \u001B[1;32mas\u001B[0m \u001B[0me\u001B[0m\u001B[1;33m:\u001B[0m\u001B[1;33m\u001B[0m\u001B[1;33m\u001B[0m\u001B[0m\n",
      "\u001B[1;32mc:\\users\\d064966\\appdata\\local\\continuum\\anaconda3\\envs\\masterthesis\\lib\\site-packages\\urllib3\\response.py\u001B[0m in \u001B[0;36mstream\u001B[1;34m(self, amt, decode_content)\u001B[0m\n\u001B[0;32m    570\u001B[0m         \"\"\"\n\u001B[0;32m    571\u001B[0m         \u001B[1;32mif\u001B[0m \u001B[0mself\u001B[0m\u001B[1;33m.\u001B[0m\u001B[0mchunked\u001B[0m \u001B[1;32mand\u001B[0m \u001B[0mself\u001B[0m\u001B[1;33m.\u001B[0m\u001B[0msupports_chunked_reads\u001B[0m\u001B[1;33m(\u001B[0m\u001B[1;33m)\u001B[0m\u001B[1;33m:\u001B[0m\u001B[1;33m\u001B[0m\u001B[1;33m\u001B[0m\u001B[0m\n\u001B[1;32m--> 572\u001B[1;33m             \u001B[1;32mfor\u001B[0m \u001B[0mline\u001B[0m \u001B[1;32min\u001B[0m \u001B[0mself\u001B[0m\u001B[1;33m.\u001B[0m\u001B[0mread_chunked\u001B[0m\u001B[1;33m(\u001B[0m\u001B[0mamt\u001B[0m\u001B[1;33m,\u001B[0m \u001B[0mdecode_content\u001B[0m\u001B[1;33m=\u001B[0m\u001B[0mdecode_content\u001B[0m\u001B[1;33m)\u001B[0m\u001B[1;33m:\u001B[0m\u001B[1;33m\u001B[0m\u001B[1;33m\u001B[0m\u001B[0m\n\u001B[0m\u001B[0;32m    573\u001B[0m                 \u001B[1;32myield\u001B[0m \u001B[0mline\u001B[0m\u001B[1;33m\u001B[0m\u001B[1;33m\u001B[0m\u001B[0m\n\u001B[0;32m    574\u001B[0m         \u001B[1;32melse\u001B[0m\u001B[1;33m:\u001B[0m\u001B[1;33m\u001B[0m\u001B[1;33m\u001B[0m\u001B[0m\n",
      "\u001B[1;32mc:\\users\\d064966\\appdata\\local\\continuum\\anaconda3\\envs\\masterthesis\\lib\\site-packages\\urllib3\\response.py\u001B[0m in \u001B[0;36mread_chunked\u001B[1;34m(self, amt, decode_content)\u001B[0m\n\u001B[0;32m    762\u001B[0m \u001B[1;33m\u001B[0m\u001B[0m\n\u001B[0;32m    763\u001B[0m             \u001B[1;32mwhile\u001B[0m \u001B[1;32mTrue\u001B[0m\u001B[1;33m:\u001B[0m\u001B[1;33m\u001B[0m\u001B[1;33m\u001B[0m\u001B[0m\n\u001B[1;32m--> 764\u001B[1;33m                 \u001B[0mself\u001B[0m\u001B[1;33m.\u001B[0m\u001B[0m_update_chunk_length\u001B[0m\u001B[1;33m(\u001B[0m\u001B[1;33m)\u001B[0m\u001B[1;33m\u001B[0m\u001B[1;33m\u001B[0m\u001B[0m\n\u001B[0m\u001B[0;32m    765\u001B[0m                 \u001B[1;32mif\u001B[0m \u001B[0mself\u001B[0m\u001B[1;33m.\u001B[0m\u001B[0mchunk_left\u001B[0m \u001B[1;33m==\u001B[0m \u001B[1;36m0\u001B[0m\u001B[1;33m:\u001B[0m\u001B[1;33m\u001B[0m\u001B[1;33m\u001B[0m\u001B[0m\n\u001B[0;32m    766\u001B[0m                     \u001B[1;32mbreak\u001B[0m\u001B[1;33m\u001B[0m\u001B[1;33m\u001B[0m\u001B[0m\n",
      "\u001B[1;32mc:\\users\\d064966\\appdata\\local\\continuum\\anaconda3\\envs\\masterthesis\\lib\\site-packages\\urllib3\\response.py\u001B[0m in \u001B[0;36m_update_chunk_length\u001B[1;34m(self)\u001B[0m\n\u001B[0;32m    692\u001B[0m         \u001B[1;32mif\u001B[0m \u001B[0mself\u001B[0m\u001B[1;33m.\u001B[0m\u001B[0mchunk_left\u001B[0m \u001B[1;32mis\u001B[0m \u001B[1;32mnot\u001B[0m \u001B[1;32mNone\u001B[0m\u001B[1;33m:\u001B[0m\u001B[1;33m\u001B[0m\u001B[1;33m\u001B[0m\u001B[0m\n\u001B[0;32m    693\u001B[0m             \u001B[1;32mreturn\u001B[0m\u001B[1;33m\u001B[0m\u001B[1;33m\u001B[0m\u001B[0m\n\u001B[1;32m--> 694\u001B[1;33m         \u001B[0mline\u001B[0m \u001B[1;33m=\u001B[0m \u001B[0mself\u001B[0m\u001B[1;33m.\u001B[0m\u001B[0m_fp\u001B[0m\u001B[1;33m.\u001B[0m\u001B[0mfp\u001B[0m\u001B[1;33m.\u001B[0m\u001B[0mreadline\u001B[0m\u001B[1;33m(\u001B[0m\u001B[1;33m)\u001B[0m\u001B[1;33m\u001B[0m\u001B[1;33m\u001B[0m\u001B[0m\n\u001B[0m\u001B[0;32m    695\u001B[0m         \u001B[0mline\u001B[0m \u001B[1;33m=\u001B[0m \u001B[0mline\u001B[0m\u001B[1;33m.\u001B[0m\u001B[0msplit\u001B[0m\u001B[1;33m(\u001B[0m\u001B[1;34mb\";\"\u001B[0m\u001B[1;33m,\u001B[0m \u001B[1;36m1\u001B[0m\u001B[1;33m)\u001B[0m\u001B[1;33m[\u001B[0m\u001B[1;36m0\u001B[0m\u001B[1;33m]\u001B[0m\u001B[1;33m\u001B[0m\u001B[1;33m\u001B[0m\u001B[0m\n\u001B[0;32m    696\u001B[0m         \u001B[1;32mtry\u001B[0m\u001B[1;33m:\u001B[0m\u001B[1;33m\u001B[0m\u001B[1;33m\u001B[0m\u001B[0m\n",
      "\u001B[1;32mc:\\users\\d064966\\appdata\\local\\continuum\\anaconda3\\envs\\masterthesis\\lib\\socket.py\u001B[0m in \u001B[0;36mreadinto\u001B[1;34m(self, b)\u001B[0m\n\u001B[0;32m    587\u001B[0m         \u001B[1;32mwhile\u001B[0m \u001B[1;32mTrue\u001B[0m\u001B[1;33m:\u001B[0m\u001B[1;33m\u001B[0m\u001B[1;33m\u001B[0m\u001B[0m\n\u001B[0;32m    588\u001B[0m             \u001B[1;32mtry\u001B[0m\u001B[1;33m:\u001B[0m\u001B[1;33m\u001B[0m\u001B[1;33m\u001B[0m\u001B[0m\n\u001B[1;32m--> 589\u001B[1;33m                 \u001B[1;32mreturn\u001B[0m \u001B[0mself\u001B[0m\u001B[1;33m.\u001B[0m\u001B[0m_sock\u001B[0m\u001B[1;33m.\u001B[0m\u001B[0mrecv_into\u001B[0m\u001B[1;33m(\u001B[0m\u001B[0mb\u001B[0m\u001B[1;33m)\u001B[0m\u001B[1;33m\u001B[0m\u001B[1;33m\u001B[0m\u001B[0m\n\u001B[0m\u001B[0;32m    590\u001B[0m             \u001B[1;32mexcept\u001B[0m \u001B[0mtimeout\u001B[0m\u001B[1;33m:\u001B[0m\u001B[1;33m\u001B[0m\u001B[1;33m\u001B[0m\u001B[0m\n\u001B[0;32m    591\u001B[0m                 \u001B[0mself\u001B[0m\u001B[1;33m.\u001B[0m\u001B[0m_timeout_occurred\u001B[0m \u001B[1;33m=\u001B[0m \u001B[1;32mTrue\u001B[0m\u001B[1;33m\u001B[0m\u001B[1;33m\u001B[0m\u001B[0m\n",
      "\u001B[1;32mc:\\users\\d064966\\appdata\\local\\continuum\\anaconda3\\envs\\masterthesis\\lib\\ssl.py\u001B[0m in \u001B[0;36mrecv_into\u001B[1;34m(self, buffer, nbytes, flags)\u001B[0m\n\u001B[0;32m   1069\u001B[0m                   \u001B[1;34m\"non-zero flags not allowed in calls to recv_into() on %s\"\u001B[0m \u001B[1;33m%\u001B[0m\u001B[1;33m\u001B[0m\u001B[1;33m\u001B[0m\u001B[0m\n\u001B[0;32m   1070\u001B[0m                   self.__class__)\n\u001B[1;32m-> 1071\u001B[1;33m             \u001B[1;32mreturn\u001B[0m \u001B[0mself\u001B[0m\u001B[1;33m.\u001B[0m\u001B[0mread\u001B[0m\u001B[1;33m(\u001B[0m\u001B[0mnbytes\u001B[0m\u001B[1;33m,\u001B[0m \u001B[0mbuffer\u001B[0m\u001B[1;33m)\u001B[0m\u001B[1;33m\u001B[0m\u001B[1;33m\u001B[0m\u001B[0m\n\u001B[0m\u001B[0;32m   1072\u001B[0m         \u001B[1;32melse\u001B[0m\u001B[1;33m:\u001B[0m\u001B[1;33m\u001B[0m\u001B[1;33m\u001B[0m\u001B[0m\n\u001B[0;32m   1073\u001B[0m             \u001B[1;32mreturn\u001B[0m \u001B[0msuper\u001B[0m\u001B[1;33m(\u001B[0m\u001B[1;33m)\u001B[0m\u001B[1;33m.\u001B[0m\u001B[0mrecv_into\u001B[0m\u001B[1;33m(\u001B[0m\u001B[0mbuffer\u001B[0m\u001B[1;33m,\u001B[0m \u001B[0mnbytes\u001B[0m\u001B[1;33m,\u001B[0m \u001B[0mflags\u001B[0m\u001B[1;33m)\u001B[0m\u001B[1;33m\u001B[0m\u001B[1;33m\u001B[0m\u001B[0m\n",
      "\u001B[1;32mc:\\users\\d064966\\appdata\\local\\continuum\\anaconda3\\envs\\masterthesis\\lib\\ssl.py\u001B[0m in \u001B[0;36mread\u001B[1;34m(self, len, buffer)\u001B[0m\n\u001B[0;32m    927\u001B[0m         \u001B[1;32mtry\u001B[0m\u001B[1;33m:\u001B[0m\u001B[1;33m\u001B[0m\u001B[1;33m\u001B[0m\u001B[0m\n\u001B[0;32m    928\u001B[0m             \u001B[1;32mif\u001B[0m \u001B[0mbuffer\u001B[0m \u001B[1;32mis\u001B[0m \u001B[1;32mnot\u001B[0m \u001B[1;32mNone\u001B[0m\u001B[1;33m:\u001B[0m\u001B[1;33m\u001B[0m\u001B[1;33m\u001B[0m\u001B[0m\n\u001B[1;32m--> 929\u001B[1;33m                 \u001B[1;32mreturn\u001B[0m \u001B[0mself\u001B[0m\u001B[1;33m.\u001B[0m\u001B[0m_sslobj\u001B[0m\u001B[1;33m.\u001B[0m\u001B[0mread\u001B[0m\u001B[1;33m(\u001B[0m\u001B[0mlen\u001B[0m\u001B[1;33m,\u001B[0m \u001B[0mbuffer\u001B[0m\u001B[1;33m)\u001B[0m\u001B[1;33m\u001B[0m\u001B[1;33m\u001B[0m\u001B[0m\n\u001B[0m\u001B[0;32m    930\u001B[0m             \u001B[1;32melse\u001B[0m\u001B[1;33m:\u001B[0m\u001B[1;33m\u001B[0m\u001B[1;33m\u001B[0m\u001B[0m\n\u001B[0;32m    931\u001B[0m                 \u001B[1;32mreturn\u001B[0m \u001B[0mself\u001B[0m\u001B[1;33m.\u001B[0m\u001B[0m_sslobj\u001B[0m\u001B[1;33m.\u001B[0m\u001B[0mread\u001B[0m\u001B[1;33m(\u001B[0m\u001B[0mlen\u001B[0m\u001B[1;33m)\u001B[0m\u001B[1;33m\u001B[0m\u001B[1;33m\u001B[0m\u001B[0m\n",
      "\u001B[1;31mKeyboardInterrupt\u001B[0m: "
     ]
    }
   ],
   "source": [
    "host = 'https://www.imdb.com'\n",
    "# https://www.imdb.com/search/title/?title_type=tv_movie,tv_episode&release_date=2000-01-01,2020-12-31&user_rating=1.0,10.0&languages=en&start=1&ref_=adv_nxt\n",
    "# +50\n",
    "# https://www.imdb.com/search/title/?title_type=tv_movie,tv_episode&release_date=2000-01-01,2020-12-31&user_rating=1.0,10.0&languages=en&start=51&ref_=adv_nxt\n",
    "page_count = 0\n",
    "movie_count = 0\n",
    "review_count = 0\n",
    "# umstellen auf 1001\n",
    "for page in range (0,11):\n",
    "    page_count= page*50+1\n",
    "    # print(page_count)\n",
    "    url = f'https://www.imdb.com/search/title/?title_type=tv_movie,tv_episode&release_date=2000-01-01,2020-12-31&user_rating=1.0,10.0&languages=en&start={page_count}&ref_=adv_nxt'\n",
    "    response = get(url)\n",
    "    html_soup = BeautifulSoup(response.text, 'html.parser')\n",
    "    movie_containers = html_soup.find_all('div', class_ = 'lister-item mode-advanced')\n",
    "    # print(type(movie_containers))\n",
    "    # print(len(movie_containers))\n",
    "    i = 0\n",
    "    for movie in movie_containers:\n",
    "        # link to site with all review previews for each movie\n",
    "        # link = 'https://www.imdb.com/' + movie_containers[i].a['href'] + 'reviews'\n",
    "        link = \"https://www.imdb.com/review/rw3878864/\"\n",
    "        # print(link)\n",
    "        movie_count += 1\n",
    "        i += 1\n",
    "        review_collection = BeautifulSoup(get(link).text, 'html.parser').body.find_all('div', class_='actions text-muted')\n",
    "        for tiles in review_collection:\n",
    "            permalinks = tiles.find_all('a', href=True, text='Permalink')\n",
    "            for permalink in permalinks:\n",
    "                review_link = host + permalink['href']\n",
    "                # print(review_link)\n",
    "                review_count += 1\n",
    "                review_soup = BeautifulSoup(get(review_link).text, 'html.parser')\n",
    "                try:\n",
    "                    warning = review_soup.body.find_all(string=re.compile('.*{0}.*'.format('Warning: Spoilers')), recursive=True)\n",
    "                except:\n",
    "                    pass\n",
    "                container = review_soup.find(\"script\",type=\"application/ld+json\")\n",
    "                for item in container:\n",
    "                    if item.__contains__('http://schema.org'):\n",
    "                        text = str(item.extract())\n",
    "                        oJson = json.loads(text)\n",
    "                        # print(oJson)\n",
    "                        node = generateNode(31)\n",
    "                        if (warning):\n",
    "                            reviewBodyContainer = html_soup.body.find_all('div', class_=\"text show-more__control\")\n",
    "                            print(reviewBodyContainer)\n",
    "                            # reviewBody = reviewBodyContainer[0].text\n",
    "                        else:\n",
    "                            reviewBody = str(oJson['reviewBody'])\n",
    "                        reviewRating = str(oJson['reviewRating'])\n",
    "                        worstRating = str(oJson['reviewRating']['worstRating'])\n",
    "                        bestRating = str(oJson['reviewRating']['bestRating'])\n",
    "                        ratingValue = str(oJson['reviewRating']['ratingValue'])\n",
    "                        print('node:' + node)\n",
    "                        print('url: '+ review_link)\n",
    "                        print('reviewBody: ' + reviewBody)\n",
    "                        print('worstRating: ' + worstRating)\n",
    "                        print('bestRating: ' + bestRating)\n",
    "                        print('ratingValue: ' + ratingValue)\n",
    "                        # print(\"INSERT OR IGNORE INTO MOVIEREVIEWS (NODE, URL, REVIEWBODY, RATING, REVIEWRATING, BESTRATING, WORSTRATING) VALUES (?,?,?,?,?,?,?);\"\"\",(node,url,reviewBody,reviewRating,ratingValue,bestRating,worstRating))\n",
    "                        # c.execute(\"INSERT OR IGNORE INTO MOVIEREVIEWS (NODE, URL, REVIEWBODY, RATING, REVIEWRATING, BESTRATING, WORSTRATING) VALUES (?,?,?,?,?,?,?);\",(node,url,reviewBody,reviewRating,ratingValue,bestRating,worstRating))\n",
    "                        # conn.commit()\n",
    "print(\"number of reviews: \" + str(review_count))\n"
   ],
   "metadata": {
    "collapsed": false,
    "pycharm": {
     "name": "#%%\n"
    }
   }
  },
  {
   "cell_type": "code",
   "execution_count": 89,
   "outputs": [
    {
     "name": "stdout",
     "output_type": "stream",
     "text": [
      "<class 'bs4.element.ResultSet'>\n",
      "50\n",
      "https://www.imdb.com/review/rw3878864/\n",
      "[<a href=\"/review/rw3878864/\">Permalink</a>]\n",
      "https://www.imdb.com/review/rw3754733/\n",
      "[<a href=\"/review/rw3754733/\">Permalink</a>]\n",
      "https://www.imdb.com/review/rw5156128/\n",
      "[<a href=\"/review/rw5156128/\">Permalink</a>]\n",
      "https://www.imdb.com/review/rw3612128/\n",
      "[<a href=\"/review/rw3612128/\">Permalink</a>]\n",
      "https://www.imdb.com/review/rw5275443/\n",
      "[<a href=\"/review/rw5275443/\">Permalink</a>]\n",
      "https://www.imdb.com/review/rw3597834/\n",
      "[<a href=\"/review/rw3597834/\">Permalink</a>]\n",
      "https://www.imdb.com/review/rw5355667/\n",
      "[<a href=\"/review/rw5355667/\">Permalink</a>]\n",
      "https://www.imdb.com/review/rw5774002/\n",
      "[<a href=\"/review/rw5774002/\">Permalink</a>]\n",
      "https://www.imdb.com/review/rw3371112/\n",
      "[<a href=\"/review/rw3371112/\">Permalink</a>]\n"
     ]
    }
   ],
   "source": [
    "html_soup = BeautifulSoup(response.text, 'html.parser')\n",
    "type(html_soup)\n",
    "movie_containers = html_soup.find_all('div', class_ = 'lister-item mode-advanced')\n",
    "print(type(movie_containers))\n",
    "print(len(movie_containers))\n",
    "i = 0\n",
    "link = 'https://www.imdb.com/' + movie_containers[0].a['href'] + 'reviews'\n",
    "# print(link)\n",
    "\n",
    "collection = get(link)\n",
    "collection_soup = BeautifulSoup(collection.text, 'html.parser')\n",
    "# print(reviews_soup)\n",
    "# parsen bis ich zu dem permalink komme\n",
    "# review_containers = reviews_soup.body.findAll('a', text=re.compile('^(<a href=\")(.*)(\">)Permalink(<\\/a>)$'))\n",
    "collection_containers = collection_soup.body.find_all('div', class_='actions text-muted')\n",
    "# collection_containers = collection_soup.find_all('a', string='Permalink')\n",
    "# review_containers = reviews_soup.find_all('a', href=True)\n",
    "# for a in review_containers.find_all('a', href=True):\n",
    "#     if a.text=='Permalink':\n",
    "#         print(a['href'])\n",
    "\n",
    "# print(collection_containers)\n",
    "for address in collection_containers:\n",
    "    b = address.find_all('a', href=True, text='Permalink')\n",
    "    for c in b:\n",
    "        print(host + c['href'])\n",
    "    # a = b['href']\n",
    "    print(b)\n",
    "    # print(a)\n"
   ],
   "metadata": {
    "collapsed": false,
    "pycharm": {
     "name": "#%%\n"
    }
   }
  },
  {
   "cell_type": "code",
   "execution_count": 49,
   "outputs": [
    {
     "name": "stdout",
     "output_type": "stream",
     "text": [
      "<class 'bs4.element.Tag'>\n"
     ]
    }
   ],
   "source": [
    "# snippets\n",
    "\n",
    "print(type(container))\n",
    "\n",
    "# response1 = get(a)\n",
    "# microdata_content = response1.xpath('//script[@type=\"application/ld+json\"]/text()').extract_first()\n",
    "# microdata = json.loads(microdata_content)\n",
    "#\n",
    "# ratingValue = microdata[\"reviewRating\"][\"ratingValue\"]\n",
    "        # type(container)\n",
    "        # str(container)\n",
    "        #\n",
    "# print(container)\n",
    "for item in container:\n",
    "    if item.__contains__('http://schema.org'):\n",
    "        text = str(item.extract())\n",
    "# print(text)\n",
    "# print(type(text))\n",
    "oJson = json.loads(text)\n",
    "reviewbody = oJson['reviewBody']\n",
    "print(type(reviewbody))\n",
    "# results=[]\n",
    "# for annotation in oJson:\n",
    "#     results.append([annotation])\n",
    "# df = pd.DataFrame(results)\n",
    "# print(df)\n",
    "        # print(type(container))\n",
    "        # s1 = json.dumps(container)\n",
    "        # data = json.loads(s1)\n",
    "        # print(container)\n",
    "        # print(data['reviewbody'])\n",
    "        # data = json.loads()\n",
    "    # print(collection_containers[0].find_all('a')[1][\"href\"])\n",
    "\n",
    "    # print(collection_containers[0].find(string='Permalink').a['href'])\n",
    "    # for movie in movie_containers:\n",
    "    #     link = 'https://www.imdb.com/' + movie_containers[i].a['href']\n",
    "    #     print(link)\n",
    "    #     i += 1\n",
    "\n",
    "    # print(movie_containers)\n",
    "# get into each movie -> link\n",
    "#     links = html_soup.find_all('a href', class_ = 'loadlate')\n",
    "#     print(links)\n",
    "# permalink\n"
   ],
   "metadata": {
    "collapsed": false,
    "pycharm": {
     "name": "#%%\n"
    }
   }
  },
  {
   "cell_type": "code",
   "execution_count": 43,
   "outputs": [
    {
     "name": "stdout",
     "output_type": "stream",
     "text": [
      "node:_:znodeRzmbB24KtQ4P3QxmD50P9qprPPhRY9W\n",
      "url: https://www.imdb.com/review/rw3288833/\n",
      "reviewBody: Disney's Descendants is a miracle of campy film-making. The cheese levels are off the charts as the teenaged children of the Disney villains sing, dance, and fall in love with their heroic counterparts.The highlights have to be the so bad it's awful rap rendition of \"Be Our Guest,\" the depiction of Maleficent as a tap dancing fiend, and the rest of the villains being depicted as washed up home-bodies who vegetate on the couch all day.To be fair to the younger actors, they're game with their performances. The script feels like a fan fiction written by middle school age kids with plot holes galore: how did the villains reproduce? I'm guessing they either asexually budded or hooked up with other villains to produce them? Also, if the nerdy Doug is the son of Dopey, then who's his mother? And this is just the icing on the cake: why is Prince Ben okay with Mal slipping him a love potion? How did the wand summon Maleficent when the fairy godmother's kid just wanted to use it to make herself beautiful? Ah, who cares? This is guilty pleasure level fun and I'm sad to say I'll probably watch it again.\n",
      "worstRating: 1\n",
      "bestRating: 10\n",
      "ratingValue: 6\n"
     ]
    }
   ],
   "source": [
    "testurl = 'https://www.imdb.com/review/rw3288833/'\n",
    "response = get(testurl)\n",
    "html_soup = BeautifulSoup(response.text, 'html.parser')\n",
    "# print(html_soup)\n",
    "try:\n",
    "    results = html_soup.body.find_all(string=re.compile('.*{0}.*'.format('Warning: Spoilers')), recursive=True)\n",
    "except:\n",
    "    pass\n",
    "if (results):\n",
    "    # print(results)\n",
    "    # driver = webdriver.Chrome(\"C:\\/Users\\/D064966\\/Downloads\\/chromedriver\")\n",
    "    # driver.find_element_by_id('expander-icon-wrapper spoiler-warning__control').click()\n",
    "    reviewBodyContainer = html_soup.body.find_all('div', class_=\"text show-more__control\")\n",
    "    reviewBody = reviewBodyContainer[0].text\n",
    "    container = html_soup.find(\"script\",type=\"application/ld+json\")\n",
    "    # print(container)\n",
    "    for item in container:\n",
    "        if item.__contains__('http://schema.org'):\n",
    "            text = str(item.extract())\n",
    "            oJson = json.loads(text)\n",
    "            # print(oJson)\n",
    "            node = generateNode(31)\n",
    "            # reviewBody = str(oJson['reviewBody'])\n",
    "            reviewRating = str(oJson['reviewRating'])\n",
    "            worstRating = str(oJson['reviewRating']['worstRating'])\n",
    "            bestRating = str(oJson['reviewRating']['bestRating'])\n",
    "            ratingValue = str(oJson['reviewRating']['ratingValue'])\n",
    "            print('node:' + node)\n",
    "            print('url: '+ testurl)\n",
    "            print('reviewBody: ' + reviewBody)\n",
    "            print('worstRating: ' + worstRating)\n",
    "            print('bestRating: ' + bestRating)\n",
    "            print('ratingValue: ' + ratingValue)\n",
    "else:\n",
    "    pass\n",
    "# review_collection = BeautifulSoup(html_soup).body.find_all('div', class_='actions text-muted')\n",
    "# print(review_collection)\n",
    "# print(html_soup)"
   ],
   "metadata": {
    "collapsed": false,
    "pycharm": {
     "name": "#%%\n"
    }
   }
  },
  {
   "cell_type": "code",
   "execution_count": null,
   "outputs": [],
   "source": [
    "\n",
    "\n"
   ],
   "metadata": {
    "collapsed": false,
    "pycharm": {
     "name": "#%%\n"
    }
   }
  }
 ],
 "metadata": {
  "kernelspec": {
   "display_name": "Python 3",
   "language": "python",
   "name": "python3"
  },
  "language_info": {
   "codemirror_mode": {
    "name": "ipython",
    "version": 2
   },
   "file_extension": ".py",
   "mimetype": "text/x-python",
   "name": "python",
   "nbconvert_exporter": "python",
   "pygments_lexer": "ipython2",
   "version": "2.7.6"
  }
 },
 "nbformat": 4,
 "nbformat_minor": 0
}