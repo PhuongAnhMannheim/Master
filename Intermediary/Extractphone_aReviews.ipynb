{
 "cells": [
  {
   "cell_type": "code",
   "execution_count": 1,
   "metadata": {
    "collapsed": true
   },
   "outputs": [],
   "source": [
    "# System libraries\n",
    "import logging, os, sys\n",
    "import sqlite3\n",
    "import re\n",
    "import gzip\n",
    "import pandas as pd\n",
    "\n",
    "\n",
    "%#%\n",
    "\n",
    "# Input\n",
    "reviews_path = '../Data/input/schema_Review.gz'\n",
    "\n",
    "# Output\n",
    "phonereviewslog_path = '../Logs/phoneReviews.log'\n",
    "\n",
    "# Enable logging\n",
    "logger = logging.getLogger()\n",
    "fhandler = logging.FileHandler(filename='cellphonebase#1.log', mode='a')\n",
    "formatter = logging.Formatter('%(asctime)s - %(name)s - %(levelname)s - %(message)s')\n",
    "fhandler.setFormatter(formatter)\n",
    "logger.addHandler(fhandler)\n",
    "logger.setLevel(logging.DEBUG)\n",
    "\n",
    "%#%\n",
    "\n",
    "conn1 = sqlite3.connect('../Data/input/moviereviews.db')\n",
    "df = pd.read_sql_query(\"SELECT * from moviereviews\", conn1)\n",
    "df.head()"
   ]
  },
  {
   "cell_type": "code",
   "execution_count": 2,
   "metadata": {
    "pycharm": {
     "name": "#%%\n"
    }
   },
   "outputs": [],
   "source": [
    "conn = sqlite3.connect('../Data/input/phonereviews.db')\n",
    "with conn:\n",
    "    conn.execute(\"\"\"\n",
    "        CREATE TABLE IF NOT EXISTS\n",
    "            phonereviews(\n",
    "                NODE TEXT,\n",
    "                URL TEXT,\n",
    "                REVIEWBODY TEXT,\n",
    "                RATING TEXT,\n",
    "                REVIEWRATING TEXT,\n",
    "                BESTRATING TEXT,\n",
    "                WORSTRATING TEXT,\n",
    "                PRIMARY KEY (NODE, URL))\n",
    "    \"\"\")"
   ]
  },
  {
   "cell_type": "code",
   "execution_count": null,
   "metadata": {
    "pycharm": {
     "name": "#%%\n"
    }
   },
   "outputs": [],
   "source": [
    "# Pattern\n",
    "taxo_pattern = re.compile(\"<http://schema.org/Review/description>|\"\\\n",
    "                          \"<http://schema.org/Review/reviewBody>|\"\\\n",
    "                          \"<http://schema.org/Review/reviewRating>|\"\\\n",
    "                          \"<http://schema.org/Rating/worstRating>|\"\\\n",
    "                          \"<http://schema.org/Rating/bestRating>|\"\\\n",
    "                          \"<http://schema.org/Rating/ratingValue>\", re.IGNORECASE)\n",
    "split_pattern = re.compile(\"^(_:.*)\\s<(.*)>\\s(.*)\\s<(.*)>\\s\\.$\", re.IGNORECASE)\n",
    "\n",
    "# for url in url_lst:\n",
    "url_pattern = re.compile('',re.IGNORECASE)\n",
    "with gzip.open(reviews_path,\"rt\") as f:\n",
    "    i = 0\n",
    "    detected = 0\n",
    "    skipped = 0\n",
    "    not_taxo = 0\n",
    "    not_url = 0\n",
    "    inserted = 0\n",
    "    failed_updates = 0\n",
    "    head = [next(f) for x in range(5000000)]\n",
    "    # for line in f:\n",
    "    for line in head:\n",
    "        i += 1\n",
    "        if not url_pattern.search(line):\n",
    "            not_url += 1\n",
    "            continue\n",
    "        # if not taxo_pattern.search(line):\n",
    "        #     not_taxo\n",
    "        #     continue\n",
    "        # match = split_pattern.match(line)\n",
    "        # if match is None:\n",
    "        #     skipped += 1\n",
    "        #     continue\n",
    "        # detected += 1\n",
    "        # props = match.groups()\n",
    "        # subj = props[0]\n",
    "        # predicate = props[1]\n",
    "        # obj = props[2]\n",
    "        # source = props[3]\n",
    "        # # # Ändern für Review.gz\n",
    "        # conn.execute(\"INSERT OR IGNORE INTO MOVIEREVIEWS (NODE, URL) VALUES (?,?)\",(subj, source))\n",
    "        # update_query = \"UPDATE MOVIEREVIEWS SET \"\n",
    "        # params = [obj, subj, source]\n",
    "        # # print(line)\n",
    "        # if predicate.lower() == \"http://schema.org/Review/reviewBody\".lower():\n",
    "        #     update_query += \"REVIEWBODY = ? \"\n",
    "        # if predicate.lower() == \"http://schema.org/Review/description\".lower():\n",
    "        #     update_query += \"REVIEWBODY = ? \"\n",
    "        # if predicate.lower() == \"http://schema.org/Review/reviewRating\".lower():\n",
    "        #     update_query += \"RATING = ? \"\n",
    "        # if predicate.lower() == \"http://schema.org/Rating/ratingValue\".lower():\n",
    "        #     update_query += \"REVIEWRATING = ? \"\n",
    "        # if predicate.lower() == \"http://schema.org/Rating/bestRating\".lower():\n",
    "        #     update_query += \"BESTRATING = ? \"\n",
    "        # if predicate.lower() == \"http://schema.org/Rating/worstRating\".lower():\n",
    "        #     update_query += \"WORSTRATING = ? \"\n",
    "        # update_query += \"WHERE NODE = ? AND URL = ?;\"\n",
    "        # try:\n",
    "        #     # print(update_query, params)\n",
    "        #     # conn.execute(update_query, params)\n",
    "        #   # print(props)\n",
    "        #     inserted += 1\n",
    "        # except:\n",
    "        #     logging.debug(\"failed to execute for params \" + str(props))\n",
    "        #     failed_updates += 1\n",
    "\n",
    "logging.debug(\"detected \" + str(detected) + \", inserted: \" + str(inserted) +\" lines out of \" + str(i) + \"; not in taxo: \" + str(not_taxo))\n",
    "logging.debug(\"Done processing the movie reviews file from Movie.gz and Review.gz after the database got deleted\")"
   ]
  },
  {
   "cell_type": "code",
   "execution_count": null,
   "metadata": {
    "pycharm": {
     "name": "#%%\n"
    }
   },
   "outputs": [],
   "source": [
    "# Statistics\n",
    "df = pd.read_sql_query(\"SELECT * from phonereviews\", conn)\n",
    "df.head()\n",
    "# df.describe(include='all')\n",
    "# print(df[df.REVIEWBODY.notnull()].shape)\n"
   ]
  },
  {
   "cell_type": "code",
   "execution_count": null,
   "metadata": {
    "pycharm": {
     "name": "#%%\n"
    }
   },
   "outputs": [],
   "source": [
    "# df.describe(include='all')\n",
    "# print(df[df.REVIEWBODY.notnull()].shape)\n"
   ]
  }
 ],
 "metadata": {
  "kernelspec": {
   "display_name": "Python 3",
   "language": "python",
   "name": "python3"
  },
  "language_info": {
   "codemirror_mode": {
    "name": "ipython",
    "version": 3
   },
   "file_extension": ".py",
   "mimetype": "text/x-python",
   "name": "python",
   "nbconvert_exporter": "python",
   "pygments_lexer": "ipython3",
   "version": "3.6.9"
  },
  "toc": {
   "base_numbering": 1,
   "nav_menu": {},
   "number_sections": true,
   "sideBar": true,
   "skip_h1_title": false,
   "title_cell": "Table of Contents",
   "title_sidebar": "Contents",
   "toc_cell": false,
   "toc_position": {},
   "toc_section_display": true,
   "toc_window_display": false
  },
  "varInspector": {
   "cols": {
    "lenName": 16,
    "lenType": 16,
    "lenVar": 40
   },
   "kernels_config": {
    "python": {
     "delete_cmd_postfix": "",
     "delete_cmd_prefix": "del ",
     "library": "var_list.py",
     "varRefreshCmd": "print(var_dic_list())"
    },
    "r": {
     "delete_cmd_postfix": ") ",
     "delete_cmd_prefix": "rm(",
     "library": "var_list.r",
     "varRefreshCmd": "cat(var_dic_list()) "
    }
   },
   "types_to_exclude": [
    "module",
    "function",
    "builtin_function_or_method",
    "instance",
    "_Feature"
   ],
   "window_display": false
  }
 },
 "nbformat": 4,
 "nbformat_minor": 1
}
