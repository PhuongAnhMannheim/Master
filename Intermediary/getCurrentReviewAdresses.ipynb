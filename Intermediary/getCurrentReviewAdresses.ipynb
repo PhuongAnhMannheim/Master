{
 "cells": [
  {
   "cell_type": "code",
   "execution_count": 16,
   "outputs": [
    {
     "data": {
      "text/plain": "                                          NODE  \\\n106197   _:node7788d74dd3601fb097d98e3c7d47d5a   \n106221   _:node7c185ec2622cc6d67d17bd5c5a4bc99   \n106231   _:node6a3148566349dd4d579bbd95fbba368   \n106245  _:node1ab53435d9da42bcac128cbafaa7e71a   \n106263   _:node6250a054d0c76f5ea49cd241c841a11   \n...                                        ...   \n211201  _:znode3FKLslkgEt8k7ZA13YDDyNbnEIw1upK   \n211764  _:znodeyu8kddEpAK0fIgUenyrWO85sObR9YrK   \n212330  _:znodeIXge02q0ojvGqo6U8aL9PPmUPFxYKsV   \n212925  _:znode5LUIi9P0tyAL79yeqfWGI5U1Ky82jFs   \n213536  _:znodeijAYtUNCQZlihpWXHzwdPeeGa7kz7iC   \n\n                                                      URL  \\\n106197        https://thereviewmonk.com/movie/chittagong/   \n106221           https://thereviewmonk.com/movie/what-if/   \n106231             https://thereviewmonk.com/movie/gattu/   \n106245           https://thereviewmonk.com/movie/boyhood/   \n106263     https://thereviewmonk.com/movie/celluloid-man/   \n...                                                   ...   \n211201  https://www.imdb.com/search/title/?title_type=...   \n211764  https://www.imdb.com/search/title/?title_type=...   \n212330  https://www.imdb.com/search/title/?title_type=...   \n212925  https://www.imdb.com/search/title/?title_type=...   \n213536  https://www.imdb.com/search/title/?title_type=...   \n\n                                               REVIEWBODY  \\\n106197  \" Shot ever so beautifully, Chittagong is a te...   \n106221  \" What If isn't particularly memorable; this i...   \n106231  \" Produced by the Children\\u2019s Film Society...   \n106245  \" 'Boyhood' then is a true gem, and a bold, br...   \n106263  \" The film is a comprehensive coverage of Nair...   \n...                                                   ...   \n211201  I liked the premise of this Hallmark outing. S...   \n211764  I enjoyed the first movie and was excited to s...   \n212330  Candace Cameron Bure is back with her Aurora T...   \n212925  And those kids will be some of the only people...   \n213536  This movie is your standard issue Hallmark mov...   \n\n                                                   RATING REVIEWRATING  \\\n106197              _:nodeaca8f1a9454cb62be76f8e3bf353c69    \"6\"@en-US   \n106221               _:nodef3a4512c9ac951a2d647c1587c6ed6    \"6\"@en-US   \n106231              _:nodec12c584b8aec66543239cb8c94b98d7    \"6\"@en-US   \n106245              _:node47c92f5f6c41964b72bd7381ba4e0bd    \"8\"@en-US   \n106263              _:node5d0859be2381b68b56bca2c43bdc52e    \"6\"@en-US   \n...                                                   ...          ...   \n211201  {'@type': 'Rating', 'worstRating': '1', 'bestR...            6   \n211764  {'@type': 'Rating', 'worstRating': '1', 'bestR...            5   \n212330  {'@type': 'Rating', 'worstRating': '1', 'bestR...            7   \n212925  {'@type': 'Rating', 'worstRating': '1', 'bestR...            4   \n213536  {'@type': 'Rating', 'worstRating': '1', 'bestR...            7   \n\n        BESTRATING WORSTRATING  \n106197  \"10\"@en-US   \"0\"@en-US  \n106221  \"10\"@en-US   \"0\"@en-US  \n106231  \"10\"@en-US   \"0\"@en-US  \n106245  \"10\"@en-US   \"0\"@en-US  \n106263  \"10\"@en-US   \"0\"@en-US  \n...            ...         ...  \n211201          10           1  \n211764          10           1  \n212330          10           1  \n212925          10           1  \n213536          10           1  \n\n[13686 rows x 7 columns]",
      "text/html": "<div>\n<style scoped>\n    .dataframe tbody tr th:only-of-type {\n        vertical-align: middle;\n    }\n\n    .dataframe tbody tr th {\n        vertical-align: top;\n    }\n\n    .dataframe thead th {\n        text-align: right;\n    }\n</style>\n<table border=\"1\" class=\"dataframe\">\n  <thead>\n    <tr style=\"text-align: right;\">\n      <th></th>\n      <th>NODE</th>\n      <th>URL</th>\n      <th>REVIEWBODY</th>\n      <th>RATING</th>\n      <th>REVIEWRATING</th>\n      <th>BESTRATING</th>\n      <th>WORSTRATING</th>\n    </tr>\n  </thead>\n  <tbody>\n    <tr>\n      <th>106197</th>\n      <td>_:node7788d74dd3601fb097d98e3c7d47d5a</td>\n      <td>https://thereviewmonk.com/movie/chittagong/</td>\n      <td>\" Shot ever so beautifully, Chittagong is a te...</td>\n      <td>_:nodeaca8f1a9454cb62be76f8e3bf353c69</td>\n      <td>\"6\"@en-US</td>\n      <td>\"10\"@en-US</td>\n      <td>\"0\"@en-US</td>\n    </tr>\n    <tr>\n      <th>106221</th>\n      <td>_:node7c185ec2622cc6d67d17bd5c5a4bc99</td>\n      <td>https://thereviewmonk.com/movie/what-if/</td>\n      <td>\" What If isn't particularly memorable; this i...</td>\n      <td>_:nodef3a4512c9ac951a2d647c1587c6ed6</td>\n      <td>\"6\"@en-US</td>\n      <td>\"10\"@en-US</td>\n      <td>\"0\"@en-US</td>\n    </tr>\n    <tr>\n      <th>106231</th>\n      <td>_:node6a3148566349dd4d579bbd95fbba368</td>\n      <td>https://thereviewmonk.com/movie/gattu/</td>\n      <td>\" Produced by the Children\\u2019s Film Society...</td>\n      <td>_:nodec12c584b8aec66543239cb8c94b98d7</td>\n      <td>\"6\"@en-US</td>\n      <td>\"10\"@en-US</td>\n      <td>\"0\"@en-US</td>\n    </tr>\n    <tr>\n      <th>106245</th>\n      <td>_:node1ab53435d9da42bcac128cbafaa7e71a</td>\n      <td>https://thereviewmonk.com/movie/boyhood/</td>\n      <td>\" 'Boyhood' then is a true gem, and a bold, br...</td>\n      <td>_:node47c92f5f6c41964b72bd7381ba4e0bd</td>\n      <td>\"8\"@en-US</td>\n      <td>\"10\"@en-US</td>\n      <td>\"0\"@en-US</td>\n    </tr>\n    <tr>\n      <th>106263</th>\n      <td>_:node6250a054d0c76f5ea49cd241c841a11</td>\n      <td>https://thereviewmonk.com/movie/celluloid-man/</td>\n      <td>\" The film is a comprehensive coverage of Nair...</td>\n      <td>_:node5d0859be2381b68b56bca2c43bdc52e</td>\n      <td>\"6\"@en-US</td>\n      <td>\"10\"@en-US</td>\n      <td>\"0\"@en-US</td>\n    </tr>\n    <tr>\n      <th>...</th>\n      <td>...</td>\n      <td>...</td>\n      <td>...</td>\n      <td>...</td>\n      <td>...</td>\n      <td>...</td>\n      <td>...</td>\n    </tr>\n    <tr>\n      <th>211201</th>\n      <td>_:znode3FKLslkgEt8k7ZA13YDDyNbnEIw1upK</td>\n      <td>https://www.imdb.com/search/title/?title_type=...</td>\n      <td>I liked the premise of this Hallmark outing. S...</td>\n      <td>{'@type': 'Rating', 'worstRating': '1', 'bestR...</td>\n      <td>6</td>\n      <td>10</td>\n      <td>1</td>\n    </tr>\n    <tr>\n      <th>211764</th>\n      <td>_:znodeyu8kddEpAK0fIgUenyrWO85sObR9YrK</td>\n      <td>https://www.imdb.com/search/title/?title_type=...</td>\n      <td>I enjoyed the first movie and was excited to s...</td>\n      <td>{'@type': 'Rating', 'worstRating': '1', 'bestR...</td>\n      <td>5</td>\n      <td>10</td>\n      <td>1</td>\n    </tr>\n    <tr>\n      <th>212330</th>\n      <td>_:znodeIXge02q0ojvGqo6U8aL9PPmUPFxYKsV</td>\n      <td>https://www.imdb.com/search/title/?title_type=...</td>\n      <td>Candace Cameron Bure is back with her Aurora T...</td>\n      <td>{'@type': 'Rating', 'worstRating': '1', 'bestR...</td>\n      <td>7</td>\n      <td>10</td>\n      <td>1</td>\n    </tr>\n    <tr>\n      <th>212925</th>\n      <td>_:znode5LUIi9P0tyAL79yeqfWGI5U1Ky82jFs</td>\n      <td>https://www.imdb.com/search/title/?title_type=...</td>\n      <td>And those kids will be some of the only people...</td>\n      <td>{'@type': 'Rating', 'worstRating': '1', 'bestR...</td>\n      <td>4</td>\n      <td>10</td>\n      <td>1</td>\n    </tr>\n    <tr>\n      <th>213536</th>\n      <td>_:znodeijAYtUNCQZlihpWXHzwdPeeGa7kz7iC</td>\n      <td>https://www.imdb.com/search/title/?title_type=...</td>\n      <td>This movie is your standard issue Hallmark mov...</td>\n      <td>{'@type': 'Rating', 'worstRating': '1', 'bestR...</td>\n      <td>7</td>\n      <td>10</td>\n      <td>1</td>\n    </tr>\n  </tbody>\n</table>\n<p>13686 rows × 7 columns</p>\n</div>"
     },
     "execution_count": 16,
     "metadata": {},
     "output_type": "execute_result"
    }
   ],
   "source": [
    "import sqlite3, pandas as pd\n",
    "\n",
    "db_path = '../Data/moviewreviews.db'\n",
    "db_name = 'moviereviews'\n",
    "conn = sqlite3.connect(db_path)\n",
    "cursor = conn.cursor()\n",
    "\n",
    "reviewschview_file = '../Scraping/reviewschview.txt'\n",
    "flickfilosopher_file = '../Scraping/flickfilosopher.txt'\n",
    "\n",
    "df = pd.read_sql_query(\"SELECT * from \" + str(db_name), conn)\n",
    "df.dropna()\n",
    "df = df[df.REVIEWBODY.notnull()&df.RATING.notnull()&df.REVIEWRATING.notnull()&df.BESTRATING.notnull()&df.WORSTRATING.notnull()]\n",
    "df = df[~df.REVIEWBODY.str.contains(\"Null\") & ~df.REVIEWRATING.str.contains(\"Null\") & ~df.BESTRATING.str.contains(\"Null\") & ~df.WORSTRATING.str.contains(\"Null\")]\n",
    "df.drop_duplicates(subset='URL')"
   ],
   "metadata": {
    "collapsed": false,
    "pycharm": {
     "name": "#%%\n"
    }
   }
  },
  {
   "cell_type": "code",
   "execution_count": 15,
   "outputs": [],
   "source": [
    "reviewschview_lst = df[df.URL.str.contains('reviewschview')]['URL'].value_counts().index.tolist()\n",
    "with open(reviewschview_file, 'w') as f:\n",
    "    for item in reviewschview_lst:\n",
    "        f.write(\"%s\\n\" % item)"
   ],
   "metadata": {
    "collapsed": false,
    "pycharm": {
     "name": "#%%\n"
    }
   }
  },
  {
   "cell_type": "code",
   "execution_count": 17,
   "outputs": [],
   "source": [
    "flickfilosopher_lst = df[df.URL.str.contains('flickfilosopher')]['URL'].value_counts().index.tolist()\n",
    "with open(flickfilosopher_file, 'w') as f:\n",
    "    for item in flickfilosopher_lst:\n",
    "        f.write(\"%s\\n\" % item)"
   ],
   "metadata": {
    "collapsed": false,
    "pycharm": {
     "name": "#%%\n"
    }
   }
  },
  {
   "cell_type": "code",
   "execution_count": null,
   "outputs": [],
   "source": [
    "\n"
   ],
   "metadata": {
    "collapsed": false,
    "pycharm": {
     "name": "#%%\n"
    }
   }
  }
 ],
 "metadata": {
  "kernelspec": {
   "display_name": "Python 3",
   "language": "python",
   "name": "python3"
  },
  "language_info": {
   "codemirror_mode": {
    "name": "ipython",
    "version": 2
   },
   "file_extension": ".py",
   "mimetype": "text/x-python",
   "name": "python",
   "nbconvert_exporter": "python",
   "pygments_lexer": "ipython2",
   "version": "2.7.6"
  }
 },
 "nbformat": 4,
 "nbformat_minor": 0
}