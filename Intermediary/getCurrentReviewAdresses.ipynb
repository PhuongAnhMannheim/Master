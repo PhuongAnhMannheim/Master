{
 "cells": [
  {
   "cell_type": "code",
   "execution_count": 1,
   "outputs": [
    {
     "data": {
      "text/plain": "                                          NODE  \\\n0       _:nodea456ab92b2669279485e1ddc64944bf0   \n21       _:nodee5162980a8b5f68bef01150a01548ed   \n24        _:node129324fe6f6ef2f34294bd997d1b59   \n34       _:node87db63e16c464bc508aabab38bad580   \n55        _:nodec0224fe2cd4e4564d99fda2130cb9b   \n...                                        ...   \n211201  _:znode3FKLslkgEt8k7ZA13YDDyNbnEIw1upK   \n211764  _:znodeyu8kddEpAK0fIgUenyrWO85sObR9YrK   \n212330  _:znodeIXge02q0ojvGqo6U8aL9PPmUPFxYKsV   \n212925  _:znode5LUIi9P0tyAL79yeqfWGI5U1Ky82jFs   \n213536  _:znodeijAYtUNCQZlihpWXHzwdPeeGa7kz7iC   \n\n                                                      URL  \\\n0       https://in.bookmyshow.com/amritsar/movies/hous...   \n21      https://in.bookmyshow.com/bahadurgarh/movies/y...   \n24      https://in.bookmyshow.com/bengaluru/movies/pai...   \n34      https://in.bookmyshow.com/movies/housefull-4/E...   \n55      https://in.bookmyshow.com/muzaffarpur/movies/a...   \n...                                                   ...   \n211201  https://www.imdb.com/search/title/?title_type=...   \n211764  https://www.imdb.com/search/title/?title_type=...   \n212330  https://www.imdb.com/search/title/?title_type=...   \n212925  https://www.imdb.com/search/title/?title_type=...   \n213536  https://www.imdb.com/search/title/?title_type=...   \n\n                                               REVIEWBODY  \\\n0       \"Housefull 4 is about the mistaken identities,...   \n21      \"Except for the two relatively unpredictable c...   \n24      \"`Pehlwaan` brings in all the needed masala el...   \n34      \"Housefull 4 is about the mistaken identities,...   \n55      \"The film is congenial and establishes the fee...   \n...                                                   ...   \n211201  I liked the premise of this Hallmark outing. S...   \n211764  I enjoyed the first movie and was excited to s...   \n212330  Candace Cameron Bure is back with her Aurora T...   \n212925  And those kids will be some of the only people...   \n213536  This movie is your standard issue Hallmark mov...   \n\n                                                   RATING REVIEWRATING  \\\n0                   _:nodee7b066aef1465ef6796152d5b23eefd          2.5   \n21                  _:nodeb7aba67dc20dc53c739c5c6691679f9    \"Null\"@en   \n24                   _:nodef2f620dec5442e9aac43f99ce133ad          3.5   \n34                 _:nodebdd786bd1b9dcf6decf262566873427e          2.5   \n55                  _:node889a67f01c3b2fe6ebb08951bfbf36f          3.5   \n...                                                   ...          ...   \n211201  {'@type': 'Rating', 'worstRating': '1', 'bestR...            6   \n211764  {'@type': 'Rating', 'worstRating': '1', 'bestR...            5   \n212330  {'@type': 'Rating', 'worstRating': '1', 'bestR...            7   \n212925  {'@type': 'Rating', 'worstRating': '1', 'bestR...            4   \n213536  {'@type': 'Rating', 'worstRating': '1', 'bestR...            7   \n\n       BESTRATING WORSTRATING  \n0       \"Null\"@en      \"2\"@en  \n21      \"Null\"@en      \"2\"@en  \n24      \"Null\"@en    \"3.5\"@en  \n34      \"Null\"@en      \"2\"@en  \n55      \"Null\"@en      \"2\"@en  \n...           ...         ...  \n211201         10           1  \n211764         10           1  \n212330         10           1  \n212925         10           1  \n213536         10           1  \n\n[23826 rows x 7 columns]",
      "text/html": "<div>\n<style scoped>\n    .dataframe tbody tr th:only-of-type {\n        vertical-align: middle;\n    }\n\n    .dataframe tbody tr th {\n        vertical-align: top;\n    }\n\n    .dataframe thead th {\n        text-align: right;\n    }\n</style>\n<table border=\"1\" class=\"dataframe\">\n  <thead>\n    <tr style=\"text-align: right;\">\n      <th></th>\n      <th>NODE</th>\n      <th>URL</th>\n      <th>REVIEWBODY</th>\n      <th>RATING</th>\n      <th>REVIEWRATING</th>\n      <th>BESTRATING</th>\n      <th>WORSTRATING</th>\n    </tr>\n  </thead>\n  <tbody>\n    <tr>\n      <th>0</th>\n      <td>_:nodea456ab92b2669279485e1ddc64944bf0</td>\n      <td>https://in.bookmyshow.com/amritsar/movies/hous...</td>\n      <td>\"Housefull 4 is about the mistaken identities,...</td>\n      <td>_:nodee7b066aef1465ef6796152d5b23eefd</td>\n      <td>2.5</td>\n      <td>\"Null\"@en</td>\n      <td>\"2\"@en</td>\n    </tr>\n    <tr>\n      <th>21</th>\n      <td>_:nodee5162980a8b5f68bef01150a01548ed</td>\n      <td>https://in.bookmyshow.com/bahadurgarh/movies/y...</td>\n      <td>\"Except for the two relatively unpredictable c...</td>\n      <td>_:nodeb7aba67dc20dc53c739c5c6691679f9</td>\n      <td>\"Null\"@en</td>\n      <td>\"Null\"@en</td>\n      <td>\"2\"@en</td>\n    </tr>\n    <tr>\n      <th>24</th>\n      <td>_:node129324fe6f6ef2f34294bd997d1b59</td>\n      <td>https://in.bookmyshow.com/bengaluru/movies/pai...</td>\n      <td>\"`Pehlwaan` brings in all the needed masala el...</td>\n      <td>_:nodef2f620dec5442e9aac43f99ce133ad</td>\n      <td>3.5</td>\n      <td>\"Null\"@en</td>\n      <td>\"3.5\"@en</td>\n    </tr>\n    <tr>\n      <th>34</th>\n      <td>_:node87db63e16c464bc508aabab38bad580</td>\n      <td>https://in.bookmyshow.com/movies/housefull-4/E...</td>\n      <td>\"Housefull 4 is about the mistaken identities,...</td>\n      <td>_:nodebdd786bd1b9dcf6decf262566873427e</td>\n      <td>2.5</td>\n      <td>\"Null\"@en</td>\n      <td>\"2\"@en</td>\n    </tr>\n    <tr>\n      <th>55</th>\n      <td>_:nodec0224fe2cd4e4564d99fda2130cb9b</td>\n      <td>https://in.bookmyshow.com/muzaffarpur/movies/a...</td>\n      <td>\"The film is congenial and establishes the fee...</td>\n      <td>_:node889a67f01c3b2fe6ebb08951bfbf36f</td>\n      <td>3.5</td>\n      <td>\"Null\"@en</td>\n      <td>\"2\"@en</td>\n    </tr>\n    <tr>\n      <th>...</th>\n      <td>...</td>\n      <td>...</td>\n      <td>...</td>\n      <td>...</td>\n      <td>...</td>\n      <td>...</td>\n      <td>...</td>\n    </tr>\n    <tr>\n      <th>211201</th>\n      <td>_:znode3FKLslkgEt8k7ZA13YDDyNbnEIw1upK</td>\n      <td>https://www.imdb.com/search/title/?title_type=...</td>\n      <td>I liked the premise of this Hallmark outing. S...</td>\n      <td>{'@type': 'Rating', 'worstRating': '1', 'bestR...</td>\n      <td>6</td>\n      <td>10</td>\n      <td>1</td>\n    </tr>\n    <tr>\n      <th>211764</th>\n      <td>_:znodeyu8kddEpAK0fIgUenyrWO85sObR9YrK</td>\n      <td>https://www.imdb.com/search/title/?title_type=...</td>\n      <td>I enjoyed the first movie and was excited to s...</td>\n      <td>{'@type': 'Rating', 'worstRating': '1', 'bestR...</td>\n      <td>5</td>\n      <td>10</td>\n      <td>1</td>\n    </tr>\n    <tr>\n      <th>212330</th>\n      <td>_:znodeIXge02q0ojvGqo6U8aL9PPmUPFxYKsV</td>\n      <td>https://www.imdb.com/search/title/?title_type=...</td>\n      <td>Candace Cameron Bure is back with her Aurora T...</td>\n      <td>{'@type': 'Rating', 'worstRating': '1', 'bestR...</td>\n      <td>7</td>\n      <td>10</td>\n      <td>1</td>\n    </tr>\n    <tr>\n      <th>212925</th>\n      <td>_:znode5LUIi9P0tyAL79yeqfWGI5U1Ky82jFs</td>\n      <td>https://www.imdb.com/search/title/?title_type=...</td>\n      <td>And those kids will be some of the only people...</td>\n      <td>{'@type': 'Rating', 'worstRating': '1', 'bestR...</td>\n      <td>4</td>\n      <td>10</td>\n      <td>1</td>\n    </tr>\n    <tr>\n      <th>213536</th>\n      <td>_:znodeijAYtUNCQZlihpWXHzwdPeeGa7kz7iC</td>\n      <td>https://www.imdb.com/search/title/?title_type=...</td>\n      <td>This movie is your standard issue Hallmark mov...</td>\n      <td>{'@type': 'Rating', 'worstRating': '1', 'bestR...</td>\n      <td>7</td>\n      <td>10</td>\n      <td>1</td>\n    </tr>\n  </tbody>\n</table>\n<p>23826 rows × 7 columns</p>\n</div>"
     },
     "execution_count": 1,
     "metadata": {},
     "output_type": "execute_result"
    }
   ],
   "source": [
    "import sqlite3, pandas as pd\n",
    "\n",
    "db_path = '../Data/moviewreviews.db'\n",
    "db_name = 'moviereviews'\n",
    "conn = sqlite3.connect(db_path)\n",
    "cursor = conn.cursor()\n",
    "\n",
    "reviewschview_file = '../Scraping/already_links_in/reviewschview.txt'\n",
    "flickfilosopher_file = '../Scraping/already_links_in/flickfilosopher.txt'\n",
    "telegraph_file = '../Scraping/already_links_in/flickfilosopher.txt'\n",
    "bookmyshow_file = '../Scraping/already_links_in/bookmyshow.txt'\n",
    "thereviewmonk_file = '../Scraping/already_links_in/thereviewmonk.txt'\n",
    "deepfocusreview_file = '../Scraping/already_links_in/deepfocusreview.txt'\n",
    "\n",
    "df = pd.read_sql_query(\"SELECT * from \" + str(db_name), conn)\n",
    "df.dropna()\n",
    "# df = df[df.REVIEWBODY.notnull()&df.RATING.notnull()&df.REVIEWRATING.notnull()&df.BESTRATING.notnull()&df.WORSTRATING.notnull()]\n",
    "# df = df[~df.REVIEWBODY.str.contains(\"Null\") & ~df.REVIEWRATING.str.contains(\"Null\") & ~df.BESTRATING.str.contains(\"Null\") & ~df.WORSTRATING.str.contains(\"Null\")]\n",
    "# df.drop_duplicates(subset='URL')"
   ],
   "metadata": {
    "collapsed": false,
    "pycharm": {
     "name": "#%%\n"
    }
   }
  },
  {
   "cell_type": "code",
   "execution_count": 15,
   "outputs": [],
   "source": [
    "reviewschview_lst = df[df.URL.str.contains('reviewschview')]['URL'].value_counts().index.tolist()\n",
    "with open(reviewschview_file, 'w') as f:\n",
    "    for item in reviewschview_lst:\n",
    "        f.write(\"%s\\n\" % item)"
   ],
   "metadata": {
    "collapsed": false,
    "pycharm": {
     "name": "#%%\n"
    }
   }
  },
  {
   "cell_type": "code",
   "execution_count": 17,
   "outputs": [],
   "source": [
    "flickfilosopher_lst = df[df.URL.str.contains('flickfilosopher')]['URL'].value_counts().index.tolist()\n",
    "with open(flickfilosopher_file, 'w') as f:\n",
    "    for item in flickfilosopher_lst:\n",
    "        f.write(\"%s\\n\" % item)"
   ],
   "metadata": {
    "collapsed": false,
    "pycharm": {
     "name": "#%%\n"
    }
   }
  },
  {
   "cell_type": "code",
   "execution_count": 2,
   "outputs": [],
   "source": [
    "telegraph_lst = df[df.URL.str.contains('telegraph')]['URL'].value_counts().index.tolist()\n",
    "with open(telegraph_file, 'w') as f:\n",
    "    for item in telegraph_lst:\n",
    "        f.write(\"%s\\n\" % item)"
   ],
   "metadata": {
    "collapsed": false,
    "pycharm": {
     "name": "#%%\n"
    }
   }
  },
  {
   "cell_type": "code",
   "execution_count": 59,
   "outputs": [],
   "source": [
    "thereviewmonk_lst = df[df.URL.str.contains('thereviewmonk')]['URL'].value_counts().index.tolist()\n",
    "with open(thereviewmonk_file, 'w') as f:\n",
    "    for item in thereviewmonk_lst:\n",
    "        f.write(\"%s\\n\" % item)"
   ],
   "metadata": {
    "collapsed": false,
    "pycharm": {
     "name": "#%%\n"
    }
   }
  },
  {
   "cell_type": "code",
   "execution_count": 2,
   "outputs": [],
   "source": [
    "deepfocusreview_lst = df[df.URL.str.contains('deepfocusreview')]['URL'].value_counts().index.tolist()\n",
    "with open(deepfocusreview_file, 'w') as f:\n",
    "    for item in deepfocusreview_lst:\n",
    "        f.write(\"%s\\n\" % item)"
   ],
   "metadata": {
    "collapsed": false,
    "pycharm": {
     "name": "#%%\n"
    }
   }
  }
 ],
 "metadata": {
  "kernelspec": {
   "display_name": "Python 3",
   "language": "python",
   "name": "python3"
  },
  "language_info": {
   "codemirror_mode": {
    "name": "ipython",
    "version": 2
   },
   "file_extension": ".py",
   "mimetype": "text/x-python",
   "name": "python",
   "nbconvert_exporter": "python",
   "pygments_lexer": "ipython2",
   "version": "2.7.6"
  }
 },
 "nbformat": 4,
 "nbformat_minor": 0
}