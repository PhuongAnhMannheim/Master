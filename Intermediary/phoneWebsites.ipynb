{
 "cells": [
  {
   "cell_type": "code",
   "execution_count": 2,
   "metadata": {
    "ExecuteTime": {
     "end_time": "2020-08-04T12:05:18.751032Z",
     "start_time": "2020-08-04T12:05:18.699084Z"
    }
   },
   "outputs": [],
   "source": [
    "import pandas as pd, gzip, re, tldextract\n",
    "from urllib.parse import urlparse\n",
    "from bs4 import BeautifulSoup\n",
    "from requests import get\n",
    "from langdetect import detect"
   ]
  },
  {
   "cell_type": "code",
   "execution_count": 28,
   "metadata": {
    "ExecuteTime": {
     "end_time": "2020-08-04T13:24:33.874522Z",
     "start_time": "2020-08-04T13:24:33.863889Z"
    }
   },
   "outputs": [],
   "source": [
    "# Input\n",
    "input_path = '../Data/schema_Product.gz'\n",
    "phone_lst = ['smartphone', 'phone',\n",
    "             'phone case', 'phone cable', 'phone charger', 'phone mount',\n",
    "             'cell phone']\n",
    "\n",
    "# Output\n",
    "output_path = '../Data/phone_sites.txt'\n",
    "new_out_path = '../Data/phones_new.txt'"
   ]
  },
  {
   "cell_type": "code",
   "execution_count": null,
   "metadata": {},
   "outputs": [],
   "source": [
    "taxo_pattern = re.compile(\"<http://schema.org/Product/category>\", re.IGNORECASE)\n",
    "split_pattern = re.compile(\"^(_:.*)\\s(<http:\\/\\/schema\\.org\\/Product\\/category>)\\s(.*)\\s<(.*)>\\s\\.$\", re.IGNORECASE)\n",
    "\n",
    "# Product -> look for product cat -> get source\n",
    "with gzip.open(input_path,\"rt\") as f:\n",
    "    i = 0\n",
    "    detected = 0\n",
    "    skipped = 0\n",
    "    not_taxo = 0\n",
    "    inserted = 0\n",
    "    for line in iter(f.readline, \"\"):\n",
    "        i += 1\n",
    "        if not taxo_pattern.search(line):\n",
    "            not_taxo += 1\n",
    "            continue\n",
    "        match = split_pattern.match(line)\n",
    "        if match is None:\n",
    "            skipped += 1\n",
    "            continue\n",
    "        props = match.groups()\n",
    "        subj = props[0]\n",
    "        pred = props[1]\n",
    "        obj = props[2]\n",
    "        source = props[3]\n",
    "        try:\n",
    "            obj = str(obj).lower()\n",
    "        except:\n",
    "            pass\n",
    "        else:\n",
    "            pass\n",
    "        if any(ext in obj for ext in phone_lst):\n",
    "            detected += 1\n",
    "            with open(output_path,'a') as file:\n",
    "                file.write( source + \"\\n\")\n",
    "                inserted += 1\n",
    "\n",
    "print(\"detected \" + str(detected) + \", inserted: \" + str(inserted) +\" lines out of \" + str(i) + \"; not in taxo: \" + str(not_taxo))\n",
    "print(\"Done extracting phone & accessories websites from Product.gz file\")"
   ]
  },
  {
   "cell_type": "code",
   "execution_count": 5,
   "metadata": {
    "ExecuteTime": {
     "end_time": "2020-08-04T12:08:41.253457Z",
     "start_time": "2020-08-04T12:08:40.784585Z"
    }
   },
   "outputs": [
    {
     "data": {
      "text/html": [
       "<div>\n",
       "<style scoped>\n",
       "    .dataframe tbody tr th:only-of-type {\n",
       "        vertical-align: middle;\n",
       "    }\n",
       "\n",
       "    .dataframe tbody tr th {\n",
       "        vertical-align: top;\n",
       "    }\n",
       "\n",
       "    .dataframe thead th {\n",
       "        text-align: right;\n",
       "    }\n",
       "</style>\n",
       "<table border=\"1\" class=\"dataframe\">\n",
       "  <thead>\n",
       "    <tr style=\"text-align: right;\">\n",
       "      <th></th>\n",
       "      <th>url</th>\n",
       "    </tr>\n",
       "  </thead>\n",
       "  <tbody>\n",
       "    <tr>\n",
       "      <td>count</td>\n",
       "      <td>26821</td>\n",
       "    </tr>\n",
       "    <tr>\n",
       "      <td>unique</td>\n",
       "      <td>15823</td>\n",
       "    </tr>\n",
       "    <tr>\n",
       "      <td>top</td>\n",
       "      <td>https://www.colamco.com/boss-hp12-headphone-hp...</td>\n",
       "    </tr>\n",
       "    <tr>\n",
       "      <td>freq</td>\n",
       "      <td>2296</td>\n",
       "    </tr>\n",
       "  </tbody>\n",
       "</table>\n",
       "</div>"
      ],
      "text/plain": [
       "                                                      url\n",
       "count                                               26821\n",
       "unique                                              15823\n",
       "top     https://www.colamco.com/boss-hp12-headphone-hp...\n",
       "freq                                                 2296"
      ]
     },
     "execution_count": 5,
     "metadata": {},
     "output_type": "execute_result"
    }
   ],
   "source": [
    "df = pd.read_csv(output_path, sep=\" \", header=None)\n",
    "df.columns = [\"url\"]\n",
    "df.describe()"
   ]
  },
  {
   "cell_type": "code",
   "execution_count": 6,
   "metadata": {
    "ExecuteTime": {
     "end_time": "2020-08-04T12:08:51.740872Z",
     "start_time": "2020-08-04T12:08:51.553207Z"
    }
   },
   "outputs": [
    {
     "data": {
      "text/html": [
       "<div>\n",
       "<style scoped>\n",
       "    .dataframe tbody tr th:only-of-type {\n",
       "        vertical-align: middle;\n",
       "    }\n",
       "\n",
       "    .dataframe tbody tr th {\n",
       "        vertical-align: top;\n",
       "    }\n",
       "\n",
       "    .dataframe thead th {\n",
       "        text-align: right;\n",
       "    }\n",
       "</style>\n",
       "<table border=\"1\" class=\"dataframe\">\n",
       "  <thead>\n",
       "    <tr style=\"text-align: right;\">\n",
       "      <th></th>\n",
       "      <th>url</th>\n",
       "    </tr>\n",
       "  </thead>\n",
       "  <tbody>\n",
       "    <tr>\n",
       "      <td>count</td>\n",
       "      <td>15823</td>\n",
       "    </tr>\n",
       "    <tr>\n",
       "      <td>unique</td>\n",
       "      <td>15823</td>\n",
       "    </tr>\n",
       "    <tr>\n",
       "      <td>top</td>\n",
       "      <td>http://www.speckproducts.com/apple/iphone-case...</td>\n",
       "    </tr>\n",
       "    <tr>\n",
       "      <td>freq</td>\n",
       "      <td>1</td>\n",
       "    </tr>\n",
       "  </tbody>\n",
       "</table>\n",
       "</div>"
      ],
      "text/plain": [
       "                                                      url\n",
       "count                                               15823\n",
       "unique                                              15823\n",
       "top     http://www.speckproducts.com/apple/iphone-case...\n",
       "freq                                                    1"
      ]
     },
     "execution_count": 6,
     "metadata": {},
     "output_type": "execute_result"
    }
   ],
   "source": [
    "df = df.drop_duplicates(subset='url', keep='first')\n",
    "df.describe()"
   ]
  },
  {
   "cell_type": "code",
   "execution_count": 8,
   "metadata": {
    "ExecuteTime": {
     "end_time": "2020-08-04T12:08:58.565585Z",
     "start_time": "2020-08-04T12:08:56.828357Z"
    }
   },
   "outputs": [
    {
     "data": {
      "text/html": [
       "<div>\n",
       "<style scoped>\n",
       "    .dataframe tbody tr th:only-of-type {\n",
       "        vertical-align: middle;\n",
       "    }\n",
       "\n",
       "    .dataframe tbody tr th {\n",
       "        vertical-align: top;\n",
       "    }\n",
       "\n",
       "    .dataframe thead th {\n",
       "        text-align: right;\n",
       "    }\n",
       "</style>\n",
       "<table border=\"1\" class=\"dataframe\">\n",
       "  <thead>\n",
       "    <tr style=\"text-align: right;\">\n",
       "      <th></th>\n",
       "      <th>url</th>\n",
       "      <th>netloc</th>\n",
       "      <th>suffix</th>\n",
       "    </tr>\n",
       "  </thead>\n",
       "  <tbody>\n",
       "    <tr>\n",
       "      <td>count</td>\n",
       "      <td>15823</td>\n",
       "      <td>15823</td>\n",
       "      <td>15823</td>\n",
       "    </tr>\n",
       "    <tr>\n",
       "      <td>unique</td>\n",
       "      <td>15823</td>\n",
       "      <td>563</td>\n",
       "      <td>70</td>\n",
       "    </tr>\n",
       "    <tr>\n",
       "      <td>top</td>\n",
       "      <td>http://www.speckproducts.com/apple/iphone-case...</td>\n",
       "      <td>www.speckproducts.com</td>\n",
       "      <td>com</td>\n",
       "    </tr>\n",
       "    <tr>\n",
       "      <td>freq</td>\n",
       "      <td>1</td>\n",
       "      <td>3740</td>\n",
       "      <td>8785</td>\n",
       "    </tr>\n",
       "  </tbody>\n",
       "</table>\n",
       "</div>"
      ],
      "text/plain": [
       "                                                      url  \\\n",
       "count                                               15823   \n",
       "unique                                              15823   \n",
       "top     http://www.speckproducts.com/apple/iphone-case...   \n",
       "freq                                                    1   \n",
       "\n",
       "                       netloc suffix  \n",
       "count                   15823  15823  \n",
       "unique                    563     70  \n",
       "top     www.speckproducts.com    com  \n",
       "freq                     3740   8785  "
      ]
     },
     "execution_count": 8,
     "metadata": {},
     "output_type": "execute_result"
    }
   ],
   "source": [
    "def getNetloc(row):\n",
    "    try:\n",
    "\n",
    "        return urlparse(row['url']).netloc\n",
    "    except:\n",
    "        print(\"expection: \", row['url'])\n",
    "    else:\n",
    "        print(\"sad\", row['url'])\n",
    "\n",
    "def getSuffix(row):\n",
    "    try:\n",
    "        return tldextract.extract(row['netloc']).suffix\n",
    "    except:\n",
    "        print(\"expection: \", row['url'])\n",
    "    else:\n",
    "        print(\"sad\", row['url'])\n",
    "\n",
    "df['netloc'] = df.apply(getNetloc, axis = 1)\n",
    "df['suffix'] = df.apply(getSuffix, axis = 1)\n",
    "df.describe()"
   ]
  },
  {
   "cell_type": "code",
   "execution_count": 24,
   "metadata": {
    "ExecuteTime": {
     "end_time": "2020-08-04T13:13:30.786765Z",
     "start_time": "2020-08-04T13:13:30.622936Z"
    }
   },
   "outputs": [
    {
     "data": {
      "text/html": [
       "<div>\n",
       "<style scoped>\n",
       "    .dataframe tbody tr th:only-of-type {\n",
       "        vertical-align: middle;\n",
       "    }\n",
       "\n",
       "    .dataframe tbody tr th {\n",
       "        vertical-align: top;\n",
       "    }\n",
       "\n",
       "    .dataframe thead th {\n",
       "        text-align: right;\n",
       "    }\n",
       "</style>\n",
       "<table border=\"1\" class=\"dataframe\">\n",
       "  <thead>\n",
       "    <tr style=\"text-align: right;\">\n",
       "      <th></th>\n",
       "      <th>url</th>\n",
       "      <th>netloc</th>\n",
       "      <th>suffix</th>\n",
       "    </tr>\n",
       "  </thead>\n",
       "  <tbody>\n",
       "    <tr>\n",
       "      <td>count</td>\n",
       "      <td>9410</td>\n",
       "      <td>9410</td>\n",
       "      <td>9410</td>\n",
       "    </tr>\n",
       "    <tr>\n",
       "      <td>unique</td>\n",
       "      <td>9410</td>\n",
       "      <td>323</td>\n",
       "      <td>12</td>\n",
       "    </tr>\n",
       "    <tr>\n",
       "      <td>top</td>\n",
       "      <td>https://www.speckproducts.com/apple/iphone-cas...</td>\n",
       "      <td>www.speckproducts.com</td>\n",
       "      <td>com</td>\n",
       "    </tr>\n",
       "    <tr>\n",
       "      <td>freq</td>\n",
       "      <td>1</td>\n",
       "      <td>3740</td>\n",
       "      <td>8785</td>\n",
       "    </tr>\n",
       "  </tbody>\n",
       "</table>\n",
       "</div>"
      ],
      "text/plain": [
       "                                                      url  \\\n",
       "count                                                9410   \n",
       "unique                                               9410   \n",
       "top     https://www.speckproducts.com/apple/iphone-cas...   \n",
       "freq                                                    1   \n",
       "\n",
       "                       netloc suffix  \n",
       "count                    9410   9410  \n",
       "unique                    323     12  \n",
       "top     www.speckproducts.com    com  \n",
       "freq                     3740   8785  "
      ]
     },
     "execution_count": 24,
     "metadata": {},
     "output_type": "execute_result"
    }
   ],
   "source": [
    "# df['suffix'].value_counts().tolist()\n",
    "# df['suffix'].value_counts().index.tolist()\n",
    "# allow .com, .co.uk, .net, .co.au, .ca, .us, .co.nz, .com.co, .org, .eu, .ie, .me, .shop\n",
    "df = df.loc[df['suffix'].isin(['com','co.uk','net','co.au','ca','us','co.nz','com.co','org','eu','ie','me','shop'])]\n",
    "df.describe()"
   ]
  },
  {
   "cell_type": "code",
   "execution_count": 25,
   "metadata": {
    "ExecuteTime": {
     "end_time": "2020-08-04T13:14:17.382088Z",
     "start_time": "2020-08-04T13:14:17.355675Z"
    }
   },
   "outputs": [
    {
     "name": "stdout",
     "output_type": "stream",
     "text": [
      "                              url\n",
      "0           www.speckproducts.com\n",
      "1             www.crutchfield.com\n",
      "2             www.myphonecase.com\n",
      "3                  nottabelle.com\n",
      "4                    bestmvno.com\n",
      "..                            ...\n",
      "318  www.discount-low-voltage.com\n",
      "319         rocain.threadless.com\n",
      "320                  itstyle.shop\n",
      "321      hopscotch.threadless.com\n",
      "322     happyronin.threadless.com\n",
      "\n",
      "[323 rows x 1 columns]\n"
     ]
    }
   ],
   "source": [
    " \n",
    "df_domains = pd.DataFrame(url_list, columns=['url'])\n",
    "print(df_domains)"
   ]
  },
  {
   "cell_type": "code",
   "execution_count": 26,
   "metadata": {
    "ExecuteTime": {
     "end_time": "2020-08-04T13:24:33.179797Z",
     "start_time": "2020-08-04T13:14:50.504617Z"
    }
   },
   "outputs": [
    {
     "name": "stdout",
     "output_type": "stream",
     "text": [
      "exception: icecat.co.uk\n",
      "exception: www.atomiccellular.com\n",
      "exception: www.transformyourimages.co.uk\n",
      "exception: www.asianfoodgrocer.com\n",
      "exception: www.begoos.com\n",
      "exception: icecat.us\n",
      "exception: www.rssd.com\n",
      "exception: www.easiercap.com\n",
      "exception: www.dyesublimationblanks.com\n",
      "exception: shopify.undergroundhiphop.com\n",
      "exception: onecall.com\n",
      "exception: www.ncds.ca\n",
      "exception: mango-office.com\n"
     ]
    }
   ],
   "source": [
    "def detectLang(row):\n",
    "    try:\n",
    "        url = row['url']\n",
    "        response = get(\"http://\" + str(url))\n",
    "        html_soup = BeautifulSoup(response.text, 'html.parser')\n",
    "        return detect(html_soup.body.text)\n",
    "        # return url\n",
    "    except:\n",
    "        print(\"exception:\", row['url'])\n",
    "    else: \n",
    "        print(\"sad:\", row['url'])\n",
    "\n",
    "df_domains['lang'] = df_domains.apply(detectLang, axis=1)"
   ]
  },
  {
   "cell_type": "code",
   "execution_count": 27,
   "metadata": {
    "ExecuteTime": {
     "end_time": "2020-08-04T13:24:33.551453Z",
     "start_time": "2020-08-04T13:24:33.521724Z"
    }
   },
   "outputs": [
    {
     "name": "stdout",
     "output_type": "stream",
     "text": [
      "                              url lang\n",
      "0           www.speckproducts.com   en\n",
      "1             www.crutchfield.com   en\n",
      "2             www.myphonecase.com   en\n",
      "3                  nottabelle.com   en\n",
      "4                    bestmvno.com   en\n",
      "..                            ...  ...\n",
      "317      thebearly.threadless.com   en\n",
      "318  www.discount-low-voltage.com   en\n",
      "319         rocain.threadless.com   en\n",
      "321      hopscotch.threadless.com   en\n",
      "322     happyronin.threadless.com   en\n",
      "\n",
      "[271 rows x 2 columns]\n"
     ]
    }
   ],
   "source": [
    "# print(df_domains)\n",
    "df_phone = df_domains.loc[df_domains['lang'] == \"en\"]\n",
    "print(df_phone)"
   ]
  },
  {
   "cell_type": "code",
   "execution_count": 34,
   "metadata": {
    "ExecuteTime": {
     "end_time": "2020-08-04T13:27:40.741193Z",
     "start_time": "2020-08-04T13:27:40.666816Z"
    }
   },
   "outputs": [],
   "source": [
    "with open(new_out_path,'a') as file:\n",
    "    for index, row in df_phone.iterrows():\n",
    "        file.write( row['url'] + \"\\n\")"
   ]
  },
  {
   "cell_type": "code",
   "execution_count": null,
   "metadata": {},
   "outputs": [],
   "source": [
    "# list of target products and synonyms\n",
    "movie_lst = ['tv series', 'movies', 'film', 'motion picture', 'movies and tv', 'movies & tv']\n",
    "\n",
    "df_movies = pd.DataFrame(movie_lst, columns=['CATEGORY'])\n",
    "df_phone = pd.DataFrame(phone_lst, columns=['CATEGORY'])\n",
    "\n",
    "def count_cat(row):\n",
    "    try:\n",
    "        return df['prodcat'].str.contains(row['CATEGORY']).sum()\n",
    "    except:\n",
    "        print(\"exception: \", row['CATEGORY'])\n",
    "    else:\n",
    "        print(\"sad: \", row['CATEGORY'])\n",
    "\n",
    "df_movies['OCCURENCE'] = df_movies.apply(count_cat, axis =1)\n",
    "df_phone['OCCURENCE'] = df_phone.apply(count_cat, axis =1)\n",
    "\n",
    "print(df_movies)\n",
    "print(df_phone)"
   ]
  }
 ],
 "metadata": {
  "kernelspec": {
   "display_name": "Python 3",
   "language": "python",
   "name": "python3"
  },
  "language_info": {
   "codemirror_mode": {
    "name": "ipython",
    "version": 3
   },
   "file_extension": ".py",
   "mimetype": "text/x-python",
   "name": "python",
   "nbconvert_exporter": "python",
   "pygments_lexer": "ipython3",
   "version": "3.6.9"
  },
  "toc": {
   "base_numbering": 1,
   "nav_menu": {},
   "number_sections": true,
   "sideBar": true,
   "skip_h1_title": false,
   "title_cell": "Table of Contents",
   "title_sidebar": "Contents",
   "toc_cell": false,
   "toc_position": {},
   "toc_section_display": true,
   "toc_window_display": false
  },
  "varInspector": {
   "cols": {
    "lenName": 16,
    "lenType": 16,
    "lenVar": 40
   },
   "kernels_config": {
    "python": {
     "delete_cmd_postfix": "",
     "delete_cmd_prefix": "del ",
     "library": "var_list.py",
     "varRefreshCmd": "print(var_dic_list())"
    },
    "r": {
     "delete_cmd_postfix": ") ",
     "delete_cmd_prefix": "rm(",
     "library": "var_list.r",
     "varRefreshCmd": "cat(var_dic_list()) "
    }
   },
   "types_to_exclude": [
    "module",
    "function",
    "builtin_function_or_method",
    "instance",
    "_Feature"
   ],
   "window_display": false
  }
 },
 "nbformat": 4,
 "nbformat_minor": 2
}
