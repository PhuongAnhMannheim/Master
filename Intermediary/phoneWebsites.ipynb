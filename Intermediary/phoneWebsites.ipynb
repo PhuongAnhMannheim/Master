{
 "cells": [
  {
   "cell_type": "code",
   "execution_count": 2,
   "metadata": {
    "ExecuteTime": {
     "end_time": "2020-08-03T20:17:20.910531Z",
     "start_time": "2020-08-03T20:17:20.501305Z"
    }
   },
   "outputs": [],
   "source": [
    "import pandas as pd, gzip, re, "
   ]
  },
  {
   "cell_type": "code",
   "execution_count": 3,
   "metadata": {
    "ExecuteTime": {
     "end_time": "2020-08-03T20:17:22.312598Z",
     "start_time": "2020-08-03T20:17:22.307456Z"
    }
   },
   "outputs": [],
   "source": [
    "# Input\n",
    "input_path = '../Data/schema_Product.gz'\n",
    "phone_lst = ['smartphone', 'phone',\n",
    "             'phone case', 'phone cable', 'phone charger', 'phone mount',\n",
    "             'cell phone']\n",
    "\n",
    "# Output\n",
    "output_path = '../Data/phone_sites.txt'"
   ]
  },
  {
   "cell_type": "code",
   "execution_count": null,
   "metadata": {},
   "outputs": [],
   "source": [
    "taxo_pattern = re.compile(\"<http://schema.org/Product/category>\", re.IGNORECASE)\n",
    "split_pattern = re.compile(\"^(_:.*)\\s(<http:\\/\\/schema\\.org\\/Product\\/category>)\\s(.*)\\s<(.*)>\\s\\.$\", re.IGNORECASE)\n",
    "\n",
    "# Product -> look for product cat -> get source\n",
    "with gzip.open(input_path,\"rt\") as f:\n",
    "    i = 0\n",
    "    detected = 0\n",
    "    skipped = 0\n",
    "    not_taxo = 0\n",
    "    inserted = 0\n",
    "    for line in iter(f.readline, \"\"):\n",
    "        i += 1\n",
    "        if not taxo_pattern.search(line):\n",
    "            not_taxo += 1\n",
    "            continue\n",
    "        match = split_pattern.match(line)\n",
    "        if match is None:\n",
    "            skipped += 1\n",
    "            continue\n",
    "        props = match.groups()\n",
    "        subj = props[0]\n",
    "        pred = props[1]\n",
    "        obj = props[2]\n",
    "        source = props[3]\n",
    "        try:\n",
    "            obj = str(obj).lower()\n",
    "        except:\n",
    "            pass\n",
    "        else:\n",
    "            pass\n",
    "        if any(ext in obj for ext in phone_lst):\n",
    "            detected += 1\n",
    "            with open(output_path,'a') as file:\n",
    "                file.write( source + \"\\n\")\n",
    "                inserted += 1\n",
    "\n",
    "print(\"detected \" + str(detected) + \", inserted: \" + str(inserted) +\" lines out of \" + str(i) + \"; not in taxo: \" + str(not_taxo))\n",
    "print(\"Done extracting phone & accessories websites from Product.gz file\")"
   ]
  },
  {
   "cell_type": "code",
   "execution_count": 9,
   "metadata": {
    "ExecuteTime": {
     "end_time": "2020-08-03T20:30:00.491945Z",
     "start_time": "2020-08-03T20:30:00.339326Z"
    }
   },
   "outputs": [
    {
     "data": {
      "text/html": [
       "<div>\n",
       "<style scoped>\n",
       "    .dataframe tbody tr th:only-of-type {\n",
       "        vertical-align: middle;\n",
       "    }\n",
       "\n",
       "    .dataframe tbody tr th {\n",
       "        vertical-align: top;\n",
       "    }\n",
       "\n",
       "    .dataframe thead th {\n",
       "        text-align: right;\n",
       "    }\n",
       "</style>\n",
       "<table border=\"1\" class=\"dataframe\">\n",
       "  <thead>\n",
       "    <tr style=\"text-align: right;\">\n",
       "      <th></th>\n",
       "      <th>url</th>\n",
       "    </tr>\n",
       "  </thead>\n",
       "  <tbody>\n",
       "    <tr>\n",
       "      <td>count</td>\n",
       "      <td>26821</td>\n",
       "    </tr>\n",
       "    <tr>\n",
       "      <td>unique</td>\n",
       "      <td>15823</td>\n",
       "    </tr>\n",
       "    <tr>\n",
       "      <td>top</td>\n",
       "      <td>https://www.colamco.com/boss-hp12-headphone-hp...</td>\n",
       "    </tr>\n",
       "    <tr>\n",
       "      <td>freq</td>\n",
       "      <td>2296</td>\n",
       "    </tr>\n",
       "  </tbody>\n",
       "</table>\n",
       "</div>"
      ],
      "text/plain": [
       "                                                      url\n",
       "count                                               26821\n",
       "unique                                              15823\n",
       "top     https://www.colamco.com/boss-hp12-headphone-hp...\n",
       "freq                                                 2296"
      ]
     },
     "execution_count": 9,
     "metadata": {},
     "output_type": "execute_result"
    }
   ],
   "source": [
    "df = pd.read_csv(output_path, sep=\" \", header=None)\n",
    "df.columns = [\"url\"]\n",
    "df.describe()"
   ]
  },
  {
   "cell_type": "code",
   "execution_count": 11,
   "metadata": {
    "ExecuteTime": {
     "end_time": "2020-08-03T20:32:49.205923Z",
     "start_time": "2020-08-03T20:32:49.114894Z"
    }
   },
   "outputs": [
    {
     "data": {
      "text/html": [
       "<div>\n",
       "<style scoped>\n",
       "    .dataframe tbody tr th:only-of-type {\n",
       "        vertical-align: middle;\n",
       "    }\n",
       "\n",
       "    .dataframe tbody tr th {\n",
       "        vertical-align: top;\n",
       "    }\n",
       "\n",
       "    .dataframe thead th {\n",
       "        text-align: right;\n",
       "    }\n",
       "</style>\n",
       "<table border=\"1\" class=\"dataframe\">\n",
       "  <thead>\n",
       "    <tr style=\"text-align: right;\">\n",
       "      <th></th>\n",
       "      <th>url</th>\n",
       "    </tr>\n",
       "  </thead>\n",
       "  <tbody>\n",
       "    <tr>\n",
       "      <td>count</td>\n",
       "      <td>15823</td>\n",
       "    </tr>\n",
       "    <tr>\n",
       "      <td>unique</td>\n",
       "      <td>15823</td>\n",
       "    </tr>\n",
       "    <tr>\n",
       "      <td>top</td>\n",
       "      <td>https://i-spare.ru/zapchasti-dlya-iphone/zapch...</td>\n",
       "    </tr>\n",
       "    <tr>\n",
       "      <td>freq</td>\n",
       "      <td>1</td>\n",
       "    </tr>\n",
       "  </tbody>\n",
       "</table>\n",
       "</div>"
      ],
      "text/plain": [
       "                                                      url\n",
       "count                                               15823\n",
       "unique                                              15823\n",
       "top     https://i-spare.ru/zapchasti-dlya-iphone/zapch...\n",
       "freq                                                    1"
      ]
     },
     "execution_count": 11,
     "metadata": {},
     "output_type": "execute_result"
    }
   ],
   "source": [
    "# Was will ich tun: URL selektieren nach \n",
    "#     keine Dupliate\n",
    "df = df.drop_duplicates(subset='url', keep='first')\n",
    "df.describe()"
   ]
  },
  {
   "cell_type": "code",
   "execution_count": 13,
   "metadata": {
    "ExecuteTime": {
     "end_time": "2020-08-03T20:33:29.502233Z",
     "start_time": "2020-08-03T20:33:29.476455Z"
    }
   },
   "outputs": [
    {
     "data": {
      "text/html": [
       "<div>\n",
       "<style scoped>\n",
       "    .dataframe tbody tr th:only-of-type {\n",
       "        vertical-align: middle;\n",
       "    }\n",
       "\n",
       "    .dataframe tbody tr th {\n",
       "        vertical-align: top;\n",
       "    }\n",
       "\n",
       "    .dataframe thead th {\n",
       "        text-align: right;\n",
       "    }\n",
       "</style>\n",
       "<table border=\"1\" class=\"dataframe\">\n",
       "  <thead>\n",
       "    <tr style=\"text-align: right;\">\n",
       "      <th></th>\n",
       "      <th>url</th>\n",
       "    </tr>\n",
       "  </thead>\n",
       "  <tbody>\n",
       "    <tr>\n",
       "      <td>0</td>\n",
       "      <td>http://www.speckproducts.com/apple/iphone-case...</td>\n",
       "    </tr>\n",
       "    <tr>\n",
       "      <td>1</td>\n",
       "      <td>http://www.speckproducts.com/apple/iphone-case...</td>\n",
       "    </tr>\n",
       "    <tr>\n",
       "      <td>2</td>\n",
       "      <td>http://www.speckproducts.com/apple/iphone-case...</td>\n",
       "    </tr>\n",
       "    <tr>\n",
       "      <td>3</td>\n",
       "      <td>https://www.crutchfield.com/S-wvUmH5Cml0s/p_59...</td>\n",
       "    </tr>\n",
       "    <tr>\n",
       "      <td>4</td>\n",
       "      <td>https://www.homechoicestores.com/home-choice-home</td>\n",
       "    </tr>\n",
       "  </tbody>\n",
       "</table>\n",
       "</div>"
      ],
      "text/plain": [
       "                                                 url\n",
       "0  http://www.speckproducts.com/apple/iphone-case...\n",
       "1  http://www.speckproducts.com/apple/iphone-case...\n",
       "2  http://www.speckproducts.com/apple/iphone-case...\n",
       "3  https://www.crutchfield.com/S-wvUmH5Cml0s/p_59...\n",
       "4  https://www.homechoicestores.com/home-choice-home"
      ]
     },
     "execution_count": 13,
     "metadata": {},
     "output_type": "execute_result"
    }
   ],
   "source": [
    "#     contains phone or smartphone\n",
    "df[df['url'].str.contains(\"phone\")]\n",
    "df.head()\n",
    "#     is from english domain"
   ]
  },
  {
   "cell_type": "code",
   "execution_count": null,
   "metadata": {},
   "outputs": [],
   "source": [
    "df = pd.read_csv(prodwebsites, sep=\" \", header=None)\n",
    "df.columns = [\"url\"]\n",
    "df.describe()\n",
    "\n",
    "def getNetloc(row):\n",
    "    try:\n",
    "\n",
    "        return urlparse(row['url']).netloc\n",
    "    except:\n",
    "        print(\"expection: \", row['url'])\n",
    "    else:\n",
    "        print(\"sad\", row['url'])\n",
    "\n",
    "def getSuffix(row):\n",
    "    try:\n",
    "        return tldextract.extract(row['netloc']).suffix\n",
    "    except:\n",
    "        print(\"expection: \", row['url'])\n",
    "    else:\n",
    "        print(\"sad\", row['url'])\n",
    "\n",
    "df['netloc'] = df.apply(getNetloc, axis = 1)\n",
    "df['suffix'] = df.apply(getSuffix, axis = 1)\n",
    "df.describe()"
   ]
  },
  {
   "cell_type": "code",
   "execution_count": null,
   "metadata": {},
   "outputs": [],
   "source": [
    "df['netloc'].value_counts().index.tolist()"
   ]
  },
  {
   "cell_type": "code",
   "execution_count": null,
   "metadata": {},
   "outputs": [],
   "source": [
    "# list of target products and synonyms\n",
    "movie_lst = ['tv series', 'movies', 'film', 'motion picture', 'movies and tv', 'movies & tv']\n",
    "\n",
    "df_movies = pd.DataFrame(movie_lst, columns=['CATEGORY'])\n",
    "df_phone = pd.DataFrame(phone_lst, columns=['CATEGORY'])\n",
    "\n",
    "def count_cat(row):\n",
    "    try:\n",
    "        return df['prodcat'].str.contains(row['CATEGORY']).sum()\n",
    "    except:\n",
    "        print(\"exception: \", row['CATEGORY'])\n",
    "    else:\n",
    "        print(\"sad: \", row['CATEGORY'])\n",
    "\n",
    "df_movies['OCCURENCE'] = df_movies.apply(count_cat, axis =1)\n",
    "df_phone['OCCURENCE'] = df_phone.apply(count_cat, axis =1)\n",
    "\n",
    "print(df_movies)\n",
    "print(df_phone)"
   ]
  }
 ],
 "metadata": {
  "kernelspec": {
   "display_name": "Python 3",
   "language": "python",
   "name": "python3"
  },
  "language_info": {
   "codemirror_mode": {
    "name": "ipython",
    "version": 3
   },
   "file_extension": ".py",
   "mimetype": "text/x-python",
   "name": "python",
   "nbconvert_exporter": "python",
   "pygments_lexer": "ipython3",
   "version": "3.6.9"
  },
  "toc": {
   "base_numbering": 1,
   "nav_menu": {},
   "number_sections": true,
   "sideBar": true,
   "skip_h1_title": false,
   "title_cell": "Table of Contents",
   "title_sidebar": "Contents",
   "toc_cell": false,
   "toc_position": {},
   "toc_section_display": true,
   "toc_window_display": false
  },
  "varInspector": {
   "cols": {
    "lenName": 16,
    "lenType": 16,
    "lenVar": 40
   },
   "kernels_config": {
    "python": {
     "delete_cmd_postfix": "",
     "delete_cmd_prefix": "del ",
     "library": "var_list.py",
     "varRefreshCmd": "print(var_dic_list())"
    },
    "r": {
     "delete_cmd_postfix": ") ",
     "delete_cmd_prefix": "rm(",
     "library": "var_list.r",
     "varRefreshCmd": "cat(var_dic_list()) "
    }
   },
   "types_to_exclude": [
    "module",
    "function",
    "builtin_function_or_method",
    "instance",
    "_Feature"
   ],
   "window_display": false
  }
 },
 "nbformat": 4,
 "nbformat_minor": 2
}
