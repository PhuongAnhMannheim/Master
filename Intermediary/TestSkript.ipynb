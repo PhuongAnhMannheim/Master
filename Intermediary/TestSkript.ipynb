{
 "cells": [
  {
   "cell_type": "code",
   "execution_count": 1,
   "metadata": {
    "ExecuteTime": {
     "end_time": "2020-07-23T15:58:55.054169Z",
     "start_time": "2020-07-23T15:58:54.925950Z"
    }
   },
   "outputs": [
    {
     "ename": "OperationalError",
     "evalue": "no such table: REVIEWS",
     "output_type": "error",
     "traceback": [
      "\u001b[0;31m---------------------------------------------------------------------------\u001b[0m",
      "\u001b[0;31mOperationalError\u001b[0m                          Traceback (most recent call last)",
      "\u001b[0;32m<ipython-input-1-7b4943e9a65b>\u001b[0m in \u001b[0;36m<module>\u001b[0;34m\u001b[0m\n\u001b[1;32m     13\u001b[0m     \u001b[0;32mreturn\u001b[0m \u001b[0mcount\u001b[0m\u001b[0;34m[\u001b[0m\u001b[0;36m0\u001b[0m\u001b[0;34m]\u001b[0m\u001b[0;34m[\u001b[0m\u001b[0;36m0\u001b[0m\u001b[0;34m]\u001b[0m\u001b[0;34m\u001b[0m\u001b[0;34m\u001b[0m\u001b[0m\n\u001b[1;32m     14\u001b[0m \u001b[0;34m\u001b[0m\u001b[0m\n\u001b[0;32m---> 15\u001b[0;31m \u001b[0mtotal_rows\u001b[0m\u001b[0;34m(\u001b[0m\u001b[0mcursor\u001b[0m\u001b[0;34m,\u001b[0m \u001b[0;34m\"REVIEWS\"\u001b[0m\u001b[0;34m)\u001b[0m\u001b[0;34m\u001b[0m\u001b[0;34m\u001b[0m\u001b[0m\n\u001b[0m",
      "\u001b[0;32m<ipython-input-1-7b4943e9a65b>\u001b[0m in \u001b[0;36mtotal_rows\u001b[0;34m(cursor, table_name, print_out)\u001b[0m\n\u001b[1;32m      7\u001b[0m \u001b[0;32mdef\u001b[0m \u001b[0mtotal_rows\u001b[0m\u001b[0;34m(\u001b[0m\u001b[0mcursor\u001b[0m\u001b[0;34m,\u001b[0m \u001b[0mtable_name\u001b[0m\u001b[0;34m,\u001b[0m \u001b[0mprint_out\u001b[0m\u001b[0;34m=\u001b[0m\u001b[0;32mFalse\u001b[0m\u001b[0;34m)\u001b[0m\u001b[0;34m:\u001b[0m\u001b[0;34m\u001b[0m\u001b[0;34m\u001b[0m\u001b[0m\n\u001b[1;32m      8\u001b[0m     \u001b[0;34m\"\"\" Returns the total number of rows in the database \"\"\"\u001b[0m\u001b[0;34m\u001b[0m\u001b[0;34m\u001b[0m\u001b[0m\n\u001b[0;32m----> 9\u001b[0;31m     \u001b[0mcursor\u001b[0m\u001b[0;34m.\u001b[0m\u001b[0mexecute\u001b[0m\u001b[0;34m(\u001b[0m\u001b[0;34m'SELECT COUNT(*) FROM {}'\u001b[0m\u001b[0;34m.\u001b[0m\u001b[0mformat\u001b[0m\u001b[0;34m(\u001b[0m\u001b[0mtable_name\u001b[0m\u001b[0;34m)\u001b[0m\u001b[0;34m)\u001b[0m\u001b[0;34m\u001b[0m\u001b[0;34m\u001b[0m\u001b[0m\n\u001b[0m\u001b[1;32m     10\u001b[0m     \u001b[0mcount\u001b[0m \u001b[0;34m=\u001b[0m \u001b[0mcursor\u001b[0m\u001b[0;34m.\u001b[0m\u001b[0mfetchall\u001b[0m\u001b[0;34m(\u001b[0m\u001b[0;34m)\u001b[0m\u001b[0;34m\u001b[0m\u001b[0;34m\u001b[0m\u001b[0m\n\u001b[1;32m     11\u001b[0m     \u001b[0;32mif\u001b[0m \u001b[0mprint_out\u001b[0m\u001b[0;34m:\u001b[0m\u001b[0;34m\u001b[0m\u001b[0;34m\u001b[0m\u001b[0m\n",
      "\u001b[0;31mOperationalError\u001b[0m: no such table: REVIEWS"
     ]
    }
   ],
   "source": [
    "import sqlite3\n",
    "\n",
    "conn = sqlite3.connect(\"reviews.db\")\n",
    "\n",
    "cursor = conn.cursor()\n",
    "\n",
    "def total_rows(cursor, table_name, print_out=False):\n",
    "    \"\"\" Returns the total number of rows in the database \"\"\"\n",
    "    cursor.execute('SELECT COUNT(*) FROM {}'.format(table_name))\n",
    "    count = cursor.fetchall()\n",
    "    if print_out:\n",
    "        print('\\nTotal rows: {}'.format(count[0][0]))\n",
    "    return count[0][0]\n",
    "\n",
    "total_rows(cursor, \"REVIEWS\")"
   ]
  },
  {
   "cell_type": "code",
   "execution_count": 3,
   "metadata": {
    "ExecuteTime": {
     "end_time": "2020-03-06T13:26:13.166130Z",
     "start_time": "2020-03-06T13:25:18.708155Z"
    }
   },
   "outputs": [],
   "source": [
    "import pandas as pd\n",
    "df = pd.read_sql_query(\"SELECT * from REVIEWS\", conn)"
   ]
  },
  {
   "cell_type": "code",
   "execution_count": null,
   "metadata": {
    "ExecuteTime": {
     "end_time": "2020-03-06T13:53:56.870562Z",
     "start_time": "2020-03-06T13:53:44.500Z"
    }
   },
   "outputs": [],
   "source": [
    "#df.groupby(df.columns.tolist(),as_index=False).size()\n",
    "\n",
    "duplicateRowsDF = df[df.duplicated()]\n",
    "print(duplicateRowsDF)"
   ]
  },
  {
   "cell_type": "code",
   "execution_count": 5,
   "metadata": {
    "ExecuteTime": {
     "end_time": "2020-03-06T13:51:57.596383Z",
     "start_time": "2020-03-06T13:51:57.576928Z"
    }
   },
   "outputs": [
    {
     "data": {
      "text/html": [
       "<div>\n",
       "<style scoped>\n",
       "    .dataframe tbody tr th:only-of-type {\n",
       "        vertical-align: middle;\n",
       "    }\n",
       "\n",
       "    .dataframe tbody tr th {\n",
       "        vertical-align: top;\n",
       "    }\n",
       "\n",
       "    .dataframe thead th {\n",
       "        text-align: right;\n",
       "    }\n",
       "</style>\n",
       "<table border=\"1\" class=\"dataframe\">\n",
       "  <thead>\n",
       "    <tr style=\"text-align: right;\">\n",
       "      <th></th>\n",
       "      <th>NODE</th>\n",
       "      <th>URL</th>\n",
       "      <th>bTEXT</th>\n",
       "      <th>REVIEWBODY</th>\n",
       "      <th>REVIEWRATING</th>\n",
       "      <th>ITEMREVIEWED</th>\n",
       "      <th>REVIEWASPECT</th>\n",
       "      <th>REVIEWAUTHOR</th>\n",
       "      <th>REVIEWDESCR</th>\n",
       "    </tr>\n",
       "  </thead>\n",
       "  <tbody>\n",
       "    <tr>\n",
       "      <td>0</td>\n",
       "      <td>_:node2c2e3ffd705962c891db9ab89a44cacc</td>\n",
       "      <td>http://20te20.ir/527007-%D8%AA%D9%86%D9%88%D8%...</td>\n",
       "      <td>None</td>\n",
       "      <td>None</td>\n",
       "      <td>&lt;http://20te20.ir/527007-%D8%AA%D9%86%D9%88%D8...</td>\n",
       "      <td>None</td>\n",
       "      <td>None</td>\n",
       "      <td>None</td>\n",
       "      <td>None</td>\n",
       "    </tr>\n",
       "    <tr>\n",
       "      <td>1</td>\n",
       "      <td>_:node1f865f4bfa138ac184ddbbd383299621</td>\n",
       "      <td>http://67kmm.com/~hello-neighbor/android</td>\n",
       "      <td>None</td>\n",
       "      <td>\"Hello Neighbor est un jeu d'horreur \\u00C3\\u0...</td>\n",
       "      <td>None</td>\n",
       "      <td>None</td>\n",
       "      <td>None</td>\n",
       "      <td>None</td>\n",
       "      <td>None</td>\n",
       "    </tr>\n",
       "    <tr>\n",
       "      <td>2</td>\n",
       "      <td>_:node7d8efbe93e9573eb609b41cfa3be84</td>\n",
       "      <td>http://67kmm.com/~snapchat/android</td>\n",
       "      <td>None</td>\n",
       "      <td>\"Bon7Snapchat est une application de partage i...</td>\n",
       "      <td>None</td>\n",
       "      <td>None</td>\n",
       "      <td>None</td>\n",
       "      <td>None</td>\n",
       "      <td>None</td>\n",
       "    </tr>\n",
       "    <tr>\n",
       "      <td>3</td>\n",
       "      <td>_:node98788ddf61c5e4913d4ee048868b02</td>\n",
       "      <td>http://20te20.ir/517230-%D8%A7%D8%AA%D9%88-%D8...</td>\n",
       "      <td>None</td>\n",
       "      <td>None</td>\n",
       "      <td>&lt;http://20te20.ir/517230-%D8%A7%D8%AA%D9%88-%D...</td>\n",
       "      <td>None</td>\n",
       "      <td>None</td>\n",
       "      <td>None</td>\n",
       "      <td>None</td>\n",
       "    </tr>\n",
       "    <tr>\n",
       "      <td>4</td>\n",
       "      <td>_:nodebb685880f9d030fca1b194c14548d8b5</td>\n",
       "      <td>http://67kmm.com/~grand-theft-auto-san-andreas...</td>\n",
       "      <td>None</td>\n",
       "      <td>\"Par Matt Mullarkey-TonerExcellent9Du haut de ...</td>\n",
       "      <td>None</td>\n",
       "      <td>None</td>\n",
       "      <td>None</td>\n",
       "      <td>_:node55c1dea05a3a6929edebabe6265ba3b</td>\n",
       "      <td>None</td>\n",
       "    </tr>\n",
       "  </tbody>\n",
       "</table>\n",
       "</div>"
      ],
      "text/plain": [
       "                                     NODE  \\\n",
       "0  _:node2c2e3ffd705962c891db9ab89a44cacc   \n",
       "1  _:node1f865f4bfa138ac184ddbbd383299621   \n",
       "2    _:node7d8efbe93e9573eb609b41cfa3be84   \n",
       "3    _:node98788ddf61c5e4913d4ee048868b02   \n",
       "4  _:nodebb685880f9d030fca1b194c14548d8b5   \n",
       "\n",
       "                                                 URL bTEXT  \\\n",
       "0  http://20te20.ir/527007-%D8%AA%D9%86%D9%88%D8%...  None   \n",
       "1           http://67kmm.com/~hello-neighbor/android  None   \n",
       "2                 http://67kmm.com/~snapchat/android  None   \n",
       "3  http://20te20.ir/517230-%D8%A7%D8%AA%D9%88-%D8...  None   \n",
       "4  http://67kmm.com/~grand-theft-auto-san-andreas...  None   \n",
       "\n",
       "                                          REVIEWBODY  \\\n",
       "0                                               None   \n",
       "1  \"Hello Neighbor est un jeu d'horreur \\u00C3\\u0...   \n",
       "2  \"Bon7Snapchat est une application de partage i...   \n",
       "3                                               None   \n",
       "4  \"Par Matt Mullarkey-TonerExcellent9Du haut de ...   \n",
       "\n",
       "                                        REVIEWRATING ITEMREVIEWED  \\\n",
       "0  <http://20te20.ir/527007-%D8%AA%D9%86%D9%88%D8...         None   \n",
       "1                                               None         None   \n",
       "2                                               None         None   \n",
       "3  <http://20te20.ir/517230-%D8%A7%D8%AA%D9%88-%D...         None   \n",
       "4                                               None         None   \n",
       "\n",
       "  REVIEWASPECT                           REVIEWAUTHOR REVIEWDESCR  \n",
       "0         None                                   None        None  \n",
       "1         None                                   None        None  \n",
       "2         None                                   None        None  \n",
       "3         None                                   None        None  \n",
       "4         None  _:node55c1dea05a3a6929edebabe6265ba3b        None  "
      ]
     },
     "execution_count": 5,
     "metadata": {},
     "output_type": "execute_result"
    }
   ],
   "source": [
    "df.head()\n"
   ]
  },
  {
   "cell_type": "code",
   "execution_count": null,
   "metadata": {},
   "outputs": [],
   "source": []
  },
  {
   "cell_type": "code",
   "execution_count": null,
   "metadata": {
    "ExecuteTime": {
     "end_time": "2020-03-04T15:11:33.993488Z",
     "start_time": "2020-03-04T15:11:17.297Z"
    }
   },
   "outputs": [],
   "source": [
    "perc =[.20, .40, .60, .80] \n",
    "include =['object', 'float', 'int']\n",
    "desc = df.describe(percentiles = perc, include = include) \n"
   ]
  },
  {
   "cell_type": "markdown",
   "metadata": {},
   "source": [
    "# Data Framing and Subsetting Schema.org"
   ]
  },
  {
   "cell_type": "code",
   "execution_count": null,
   "metadata": {},
   "outputs": [],
   "source": [
    "df = pd.read_csv(\"./reviews_all.csv\", sep=\"\\n\", engine=\"python\", error_bad_lines=False, delimiter=',')"
   ]
  },
  {
   "cell_type": "code",
   "execution_count": null,
   "metadata": {},
   "outputs": [],
   "source": [
    "reviewsDF = spark.read.csv('../Data/reviews_all.csv', header=True, sep=\"\\t\")\n",
    "print(\"total:\" + str(reviewsDF.count()))\n",
    "reviewsDF = reviewsDF.filter(reviewsDF.REVIEWBODY.isNotNull())\n",
    "print(\"without text:\" + str(reviewsDF.count()))\n",
    "reviewsDF = reviewsDF.filter(reviewsDF.REVIEWRATING.isNotNull())\n",
    "print(\"without rating:\" + str(reviewsDF.count()))\n",
    "reviewsDF.head(5)"
   ]
  },
  {
   "cell_type": "code",
   "execution_count": null,
   "metadata": {},
   "outputs": [],
   "source": [
    "from langdetect import DetectorFactory\n",
    "DetectorFactory.seed = 0\n",
    "\n",
    "def detectLang(x):\n",
    "    try:\n",
    "        return detect(x)\n",
    "    except:\n",
    "        print(\"exception:\", x)\n",
    "    else: \n",
    "        print(\"sad:\", x)\n",
    "detect_lang = udf(detectLang, StringType())\n",
    "df = reviewsDF.withColumn(\"LANG\", lit(detect_lang(reviewsDF.REVIEWBODY)))\n",
    "reviews_engDF = df.filter(df.LANG == \"en\")\n",
    "print(\"with eng:\" + str(reviews_engDF.count()))"
   ]
  }
 ],
 "metadata": {
  "kernelspec": {
   "display_name": "Python 3",
   "language": "python",
   "name": "python3"
  },
  "language_info": {
   "codemirror_mode": {
    "name": "ipython",
    "version": 3
   },
   "file_extension": ".py",
   "mimetype": "text/x-python",
   "name": "python",
   "nbconvert_exporter": "python",
   "pygments_lexer": "ipython3",
   "version": "3.6.9"
  },
  "toc": {
   "base_numbering": 1,
   "nav_menu": {},
   "number_sections": true,
   "sideBar": true,
   "skip_h1_title": false,
   "title_cell": "Table of Contents",
   "title_sidebar": "Contents",
   "toc_cell": false,
   "toc_position": {},
   "toc_section_display": true,
   "toc_window_display": false
  },
  "varInspector": {
   "cols": {
    "lenName": 16,
    "lenType": 16,
    "lenVar": 40
   },
   "kernels_config": {
    "python": {
     "delete_cmd_postfix": "",
     "delete_cmd_prefix": "del ",
     "library": "var_list.py",
     "varRefreshCmd": "print(var_dic_list())"
    },
    "r": {
     "delete_cmd_postfix": ") ",
     "delete_cmd_prefix": "rm(",
     "library": "var_list.r",
     "varRefreshCmd": "cat(var_dic_list()) "
    }
   },
   "oldHeight": 251.33366599999997,
   "position": {
    "height": "272.667px",
    "left": "1326.67px",
    "right": "20px",
    "top": "115px",
    "width": "353.667px"
   },
   "types_to_exclude": [
    "module",
    "function",
    "builtin_function_or_method",
    "instance",
    "_Feature"
   ],
   "varInspector_section_display": "block",
   "window_display": false
  }
 },
 "nbformat": 4,
 "nbformat_minor": 2
}
