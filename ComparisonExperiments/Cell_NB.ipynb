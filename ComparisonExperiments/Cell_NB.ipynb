{
 "cells": [
  {
   "cell_type": "code",
   "execution_count": 7,
   "metadata": {
    "collapsed": true
   },
   "outputs": [],
   "source": [
    "import gzip, json, random, pandas as pd"
   ]
  },
  {
   "cell_type": "code",
   "execution_count": 20,
   "outputs": [
    {
     "data": {
      "text/plain": "                                            reviewText  overall\n0    \"LG Electronics (LG) uncovered its new LG Styl...      1.0\n1    \"If your head isn't shaped like a bowling ball...      1.0\n2    \"I would not recommend this place at all!  I b...      1.0\n3    \"I wish I could give them zero stars!  I have ...      1.0\n4    \"\\n    Yep it looks great ..  but :-\\n\\n16 hou...      1.0\n..                                                 ...      ...\n495  The case arrived the next day, as promised.  T...      5.0\n496  \"Great company                 \\n             ...      5.0\n497  \" My experience was great ,the team worked dil...      5.0\n498  \"Loved it!                 \\n                 ...      5.0\n499  \"\\n\\t\\t\\t\\t\\t\\t\\t\\t\\t\\t\\t\\t\\t\\t\\t\\t\\t\\t\\t\\n\\t\\...      5.0\n\n[500 rows x 2 columns]",
      "text/html": "<div>\n<style scoped>\n    .dataframe tbody tr th:only-of-type {\n        vertical-align: middle;\n    }\n\n    .dataframe tbody tr th {\n        vertical-align: top;\n    }\n\n    .dataframe thead th {\n        text-align: right;\n    }\n</style>\n<table border=\"1\" class=\"dataframe\">\n  <thead>\n    <tr style=\"text-align: right;\">\n      <th></th>\n      <th>reviewText</th>\n      <th>overall</th>\n    </tr>\n  </thead>\n  <tbody>\n    <tr>\n      <th>0</th>\n      <td>\"LG Electronics (LG) uncovered its new LG Styl...</td>\n      <td>1.0</td>\n    </tr>\n    <tr>\n      <th>1</th>\n      <td>\"If your head isn't shaped like a bowling ball...</td>\n      <td>1.0</td>\n    </tr>\n    <tr>\n      <th>2</th>\n      <td>\"I would not recommend this place at all!  I b...</td>\n      <td>1.0</td>\n    </tr>\n    <tr>\n      <th>3</th>\n      <td>\"I wish I could give them zero stars!  I have ...</td>\n      <td>1.0</td>\n    </tr>\n    <tr>\n      <th>4</th>\n      <td>\"\\n    Yep it looks great ..  but :-\\n\\n16 hou...</td>\n      <td>1.0</td>\n    </tr>\n    <tr>\n      <th>...</th>\n      <td>...</td>\n      <td>...</td>\n    </tr>\n    <tr>\n      <th>495</th>\n      <td>The case arrived the next day, as promised.  T...</td>\n      <td>5.0</td>\n    </tr>\n    <tr>\n      <th>496</th>\n      <td>\"Great company                 \\n             ...</td>\n      <td>5.0</td>\n    </tr>\n    <tr>\n      <th>497</th>\n      <td>\" My experience was great ,the team worked dil...</td>\n      <td>5.0</td>\n    </tr>\n    <tr>\n      <th>498</th>\n      <td>\"Loved it!                 \\n                 ...</td>\n      <td>5.0</td>\n    </tr>\n    <tr>\n      <th>499</th>\n      <td>\"\\n\\t\\t\\t\\t\\t\\t\\t\\t\\t\\t\\t\\t\\t\\t\\t\\t\\t\\t\\t\\n\\t\\...</td>\n      <td>5.0</td>\n    </tr>\n  </tbody>\n</table>\n<p>500 rows × 2 columns</p>\n</div>"
     },
     "execution_count": 20,
     "metadata": {},
     "output_type": "execute_result"
    }
   ],
   "source": [
    "df = pd.read_csv('../Data/phone_reviews.csv')\n",
    "df = df[['REVIEWBODY', 'REVIEWRATING_adj']]\n",
    "df.head()\n",
    "df.head()\n",
    "df_1 = df[df['REVIEWRATING_adj']==1.0].values.tolist()\n",
    "df_2 = df[df['REVIEWRATING_adj']==2.0].values.tolist()\n",
    "df_3 = df[df['REVIEWRATING_adj']==3.0].values.tolist()\n",
    "df_4 = df[df['REVIEWRATING_adj']==4.0].values.tolist()\n",
    "df_5 = df[df['REVIEWRATING_adj']==5.0].values.tolist()\n",
    "df1 = random.sample(df_1, 101)\n",
    "df2 = random.sample(df_2, 101)\n",
    "df3 = random.sample(df_3, 101)\n",
    "df4 = random.sample(df_4, 101)\n",
    "df5 = random.sample(df_5, 101)\n",
    "df11 = pd.DataFrame(df1[1:], columns=['reviewText', 'overall'])\n",
    "df12 = pd.DataFrame(df2[1:], columns=['reviewText', 'overall'])\n",
    "df13 = pd.DataFrame(df3[1:], columns=['reviewText', 'overall'])\n",
    "df14 = pd.DataFrame(df4[1:], columns=['reviewText', 'overall'])\n",
    "df15 = pd.DataFrame(df5[1:], columns=['reviewText', 'overall'])\n",
    "schema = pd.concat([df11, df12, df13, df14, df15])\n",
    "schema.reset_index(drop=True)"
   ],
   "metadata": {
    "collapsed": false,
    "pycharm": {
     "name": "#%%\n"
    }
   }
  },
  {
   "cell_type": "code",
   "execution_count": 21,
   "outputs": [
    {
     "data": {
      "text/plain": "                                            reviewText  overall\n0    i would guess i would love it but i didnt get ...      1.0\n1    I have emailed OrionGadgets asking them to mak...      1.0\n2    I purchased this product because immediately a...      1.0\n3    Horrible!! Its bulky.Does not fit securely aro...      1.0\n4    This cable completely drained my battery.  My ...      1.0\n..                                                 ...      ...\n495  We were able to easily, and inexpensively, bri...      5.0\n496  This has so far been a good bumper.  I typical...      5.0\n497  This is so much easier to carry throughout my ...      5.0\n498  Good fit looks nice and classy. Fast shipping ...      5.0\n499  I have tried Samsung, Motorola as well as a va...      5.0\n\n[500 rows x 2 columns]",
      "text/html": "<div>\n<style scoped>\n    .dataframe tbody tr th:only-of-type {\n        vertical-align: middle;\n    }\n\n    .dataframe tbody tr th {\n        vertical-align: top;\n    }\n\n    .dataframe thead th {\n        text-align: right;\n    }\n</style>\n<table border=\"1\" class=\"dataframe\">\n  <thead>\n    <tr style=\"text-align: right;\">\n      <th></th>\n      <th>reviewText</th>\n      <th>overall</th>\n    </tr>\n  </thead>\n  <tbody>\n    <tr>\n      <th>0</th>\n      <td>i would guess i would love it but i didnt get ...</td>\n      <td>1.0</td>\n    </tr>\n    <tr>\n      <th>1</th>\n      <td>I have emailed OrionGadgets asking them to mak...</td>\n      <td>1.0</td>\n    </tr>\n    <tr>\n      <th>2</th>\n      <td>I purchased this product because immediately a...</td>\n      <td>1.0</td>\n    </tr>\n    <tr>\n      <th>3</th>\n      <td>Horrible!! Its bulky.Does not fit securely aro...</td>\n      <td>1.0</td>\n    </tr>\n    <tr>\n      <th>4</th>\n      <td>This cable completely drained my battery.  My ...</td>\n      <td>1.0</td>\n    </tr>\n    <tr>\n      <th>...</th>\n      <td>...</td>\n      <td>...</td>\n    </tr>\n    <tr>\n      <th>495</th>\n      <td>We were able to easily, and inexpensively, bri...</td>\n      <td>5.0</td>\n    </tr>\n    <tr>\n      <th>496</th>\n      <td>This has so far been a good bumper.  I typical...</td>\n      <td>5.0</td>\n    </tr>\n    <tr>\n      <th>497</th>\n      <td>This is so much easier to carry throughout my ...</td>\n      <td>5.0</td>\n    </tr>\n    <tr>\n      <th>498</th>\n      <td>Good fit looks nice and classy. Fast shipping ...</td>\n      <td>5.0</td>\n    </tr>\n    <tr>\n      <th>499</th>\n      <td>I have tried Samsung, Motorola as well as a va...</td>\n      <td>5.0</td>\n    </tr>\n  </tbody>\n</table>\n<p>500 rows × 2 columns</p>\n</div>"
     },
     "execution_count": 21,
     "metadata": {},
     "output_type": "execute_result"
    }
   ],
   "source": [
    "input_file = '../Data/reviews_Cell_Phones_and_Accessories_5.json.gz'\n",
    "\n",
    "data = []\n",
    "with gzip.open(input_file) as f:\n",
    "    for l in f:\n",
    "        data.append(json.loads(l.strip()))\n",
    "df = pd.DataFrame.from_dict(data)\n",
    "ama_df = df[['reviewText', 'overall']]\n",
    "\n",
    "df.head()\n",
    "df_1 = ama_df[ama_df['overall']==1.0].values.tolist()\n",
    "df_2 = ama_df[ama_df['overall']==2.0].values.tolist()\n",
    "df_3 = ama_df[ama_df['overall']==3.0].values.tolist()\n",
    "df_4 = ama_df[ama_df['overall']==4.0].values.tolist()\n",
    "df_5 = ama_df[ama_df['overall']==5.0].values.tolist()\n",
    "df1 = random.sample(df_1, 101)\n",
    "df2 = random.sample(df_2, 101)\n",
    "df3 = random.sample(df_3, 101)\n",
    "df4 = random.sample(df_4, 101)\n",
    "df5 = random.sample(df_5, 101)\n",
    "df11 = pd.DataFrame(df1[1:], columns=['reviewText', 'overall'])\n",
    "df12 = pd.DataFrame(df2[1:], columns=['reviewText', 'overall'])\n",
    "df13 = pd.DataFrame(df3[1:], columns=['reviewText', 'overall'])\n",
    "df14 = pd.DataFrame(df4[1:], columns=['reviewText', 'overall'])\n",
    "df15 = pd.DataFrame(df5[1:], columns=['reviewText', 'overall'])\n",
    "amazon = pd.concat([df11, df12, df13, df14, df15])\n",
    "amazon.reset_index(drop=True)"
   ],
   "metadata": {
    "collapsed": false,
    "pycharm": {
     "name": "#%%\n"
    }
   }
  },
  {
   "cell_type": "code",
   "execution_count": 33,
   "outputs": [],
   "source": [
    "all = pd.concat([schema, amazon], ignore_index=True)\n",
    "text = all['reviewText']\n",
    "target = all['overall']"
   ],
   "metadata": {
    "collapsed": false,
    "pycharm": {
     "name": "#%%\n"
    }
   }
  },
  {
   "cell_type": "code",
   "execution_count": 13,
   "outputs": [
    {
     "name": "stdout",
     "output_type": "stream",
     "text": [
      "<class 'pandas.core.series.Series'>\n"
     ]
    }
   ],
   "source": [
    "print(type(text))"
   ],
   "metadata": {
    "collapsed": false,
    "pycharm": {
     "name": "#%%\n"
    }
   }
  },
  {
   "cell_type": "code",
   "execution_count": 46,
   "outputs": [
    {
     "name": "stdout",
     "output_type": "stream",
     "text": [
      "40     \"\\n\\t\\t\\t\\t\\t\\tApple iphone is such a handset ...\n",
      "58     \"I was sent this Roxy sock as I am still waiti...\n",
      "383    \"beautiful and well made.<br />\\ngood quality ...\n",
      "385    \"Wish it would close more securely - either st...\n",
      "428    \"First Things First<br />\\n<br />\\nThis pouch ...\n",
      "455    \"I use the case for my iPhone 6.<br />\\nI will...\n",
      "Name: reviewText, dtype: object\n"
     ]
    }
   ],
   "source": [
    "dirty = text[text.str.contains('<')]\n",
    "print(dirty)"
   ],
   "metadata": {
    "collapsed": false,
    "pycharm": {
     "name": "#%%\n"
    }
   }
  },
  {
   "cell_type": "code",
   "execution_count": 44,
   "outputs": [
    {
     "data": {
      "text/plain": "'The Good: Er... you can expand its storage with microSD cards? The Bad: Disappointing camera. Made from cheap-feeling materials. Poor battery life and sluggish performance. Plus it\\'s way too expensive. The Bottom Line: The Ektra tries to be a great camera and a high-end phone at once, but it\\'s not great at being either. Editors\\' note: Since our initial review, Kodak has made significant software updates and dropped the price to $400 in the US and £370 in the UK (the US price converts to AU$540). We have edited our original review to reflect the price and slight improvements to the camera and have replaced our test images with new ones taken with the latest software. The original review posted January 20, 2017, and was updated July 5, 2017. \\tThe Kodak Ektra is my first disappointment of 2017. As an experienced photographer, I was genuinely excited to review this phone. Wow, did it let me down. The Ektra\\'s combination of a shoddy plastic design, clunky camera interface and poor battery life (even after the software update) were frustrating enough. But the worst part is that this photography-focused phone, despite software updates to improve it, still doesn\\'t even take great photos. Kodak says it wanted to make the Ektra for people with \"artistic-oriented hobbies, interests, passions.\" The way that some people are into Lomography or Holga cameras, Kodak wants to tap a demographic that enjoys the aesthetic look and experience of using a modern version of a throwback camera as much (if not more) than they do creating images. I get that, and I even like the concept, but that nostalgia of holding one of Kodak\\'s classic, metal film cameras will be quickly lost when you pick up this plastic thing.&nbsp; The problem is, you can achieve the same photos or better on better-made devices that also have more impressive specs. Unless you\\'re really, really dedicated to Kodak\\'s vision, you\\'ll be happier with the new OnePlus 5 or Samsung Galaxy S7. You can get the S7 for around £455 ($503, AU$949) on Amazon, while the stellar OnePlus 5, with its awesome dual-camera setup is £449 ($479, AU$750). Kodak isn\\'t the only company to blame here. Its partner Bullitt actually manufactured the phone. The price has been lowered since its first launch, but at £370, it\\'s still not affordable. It went on sale in the US for $400 earlier this year, although there\\'s no word on availability in Australia. The US price converts to about AU$527.&nbsp; The Ektra\\'s camera still struggles with coloursThe Ektra\\'s string of software updates have made some welcome improvements from when I first tested the phone last December.&nbsp; My biggest problems with the camera performance were the often inaccurate white balance and autofocus that frequently failed to lock on to the scene. The updates have done a lot to resolve both those issues, but neither have been completely fixed. I\\'ve taken scores of new test photos with the phone, as have my CNET colleagues Patrick Holland and Mariana Marcaletti -- all three of us came to the same conclusions. This outdoor landscape overlooking London has a yellowish tint that looks unnatural and shows that the white balance is still not perfect.&nbsp; Whether a white balance, exposure or just a general image processing issue, this shot of a basketball stuck in a tree has been all but stripped of its colour.&nbsp; It\\'s fared a bit better in this park scene, although it\\'s possible to see colour variations in the sky, with the right and left edges looking more of a purplish-blue, while the central portion is more of a greenish-blue. The software updates have improved it since I tested it for the original review -- it\\'s now arguably \\'hit and miss\\' rather than consistently inaccurate.&nbsp; '"
     },
     "execution_count": 44,
     "metadata": {},
     "output_type": "execute_result"
    }
   ],
   "source": [
    "all.loc[211]['reviewText']"
   ],
   "metadata": {
    "collapsed": false,
    "pycharm": {
     "name": "#%%\n"
    }
   }
  },
  {
   "cell_type": "code",
   "execution_count": 40,
   "outputs": [],
   "source": [
    "import re\n",
    "from bs4 import BeautifulSoup\n",
    "\n",
    "def strip_html(text):\n",
    "    soup = BeautifulSoup(text, \"html.parser\")\n",
    "    return soup.get_text()\n",
    "\n",
    "def preprocess_reviews(reviews):\n",
    "    # removing HTML tags\n",
    "    reviews = [strip_html(line) for line in reviews]\n",
    "    reviews = [re.compile(r'<[^>]+>').sub('', line) for line in reviews]\n",
    "    return reviews\n",
    "\n",
    "reviews_clean = preprocess_reviews(all['reviewText'])"
   ],
   "metadata": {
    "collapsed": false,
    "pycharm": {
     "name": "#%%\n"
    }
   }
  },
  {
   "cell_type": "code",
   "execution_count": 42,
   "outputs": [
    {
     "data": {
      "text/plain": "'\"Outstanding service.  phone estimate for cost and time to repair cracked iphone screen.  Matt Ham, director of operations was extremely engaged and eager to help and did exactly what he promissed.  Very upstanding, customer focused business.  These guys are a real find.\\\\n\\\\n\"'"
     },
     "execution_count": 42,
     "metadata": {},
     "output_type": "execute_result"
    }
   ],
   "source": [
    "all.loc[221]['reviewText']"
   ],
   "metadata": {
    "collapsed": false,
    "pycharm": {
     "name": "#%%\n"
    }
   }
  },
  {
   "cell_type": "code",
   "execution_count": 47,
   "outputs": [
    {
     "data": {
      "text/plain": "'\"First Things First\\\\n\\\\nThis pouch was designed and crafted in collaboration with the Engligh heritage brand, Barbour. Barbour is known for its high quality waxed cotton jackets, and this protective pouch is no exception. The case itself is brown in colour and brandishes the Barbour logo on its front. It is also manufactured with the very same tweed used in all Barbour clothing and the seam is lined with genuine leather.\\\\n\\\\nOverview\\\\n\\\\nThe pouch isn\\\\u2019t specifically designed for the iPhone5/5S but is instead a universal pouch. When using and testing I found that the iPhone 5 series fitted the pouch the best. As with most products from Proporta it comes with a Lifetime Exchange Warranty, meaning if anything goes wrong with it in the future they will exchange the product for you. A very rare occurrence to find a company with a warranty service like this, and definitely something to bare in mind if purchasing expensive technology products.\\\\nInserting And Removing Phone\\\\n\\\\nWhen using the product straight from the box brand new I found it to be a little difficult to get the phone to very bottom of the pouch but hopefully this should get a little easier with more use as the case starts to stretch a little around the phone. As mentioned before the pouch isn\\\\u2019t designed for just the iPhone but when placed in the pouch the very top sits just below the seam, meaning if it was dropped the phone would still be protected.\\\\nTo remove your phone there is pull-tab system incorporated within the pouch which provides quick and easy access to your phone when needed.\\\\n\\\\nProtection\\\\n\\\\nThe main advantage of a pouch is that it really does provide all round protection as well as minimising the need for a screen protector. With your phone in the pouch it is impossible for keys and coins to scratch the screen therefore you really don\\\\u2019t need to have a screen protector attached. On the other hand people may say that you\\\\u2019re phone is more vulnerable to drops and therefore breakages because you are constantly removing it from the case. Because of the tight fit as well you wouldn\\\\u2019t be able to fit even a small cover on the phone within the pouch, so there really isn\\\\u2019t any way to avoid this.\\\\n\\\\nConclusion\\\\n\\\\nPros\\\\n\\\\nLightweight\\\\nFasionable\\\\nEasy access to phone through pull-tab\\\\nComes with Lifetime Exchange Warranty\\\\n360 degree protection\\\\n\\\\nCons\\\\n\\\\nSlightly tight but should change with use\\\\n\\\\nAs a user of normal snap-on cases I am very impressed with the pouch and shall definitely be using it for the time being.\\\\nAll in all I haven\\\\u2019t got a bad word to say about the pouch, although being a little tight. The tweed finish is very nice and the tartan lining helps to keep your screen and whole phone scratch free, well worth the \\\\u00A334.95 it costs.                 \\\\n                    (Posted on 26.09.2013 | 17:02)\"@en'"
     },
     "execution_count": 47,
     "metadata": {},
     "output_type": "execute_result"
    }
   ],
   "source": [
    "reviews_clean[428]"
   ],
   "metadata": {
    "collapsed": false,
    "pycharm": {
     "name": "#%%\n"
    }
   }
  },
  {
   "cell_type": "code",
   "execution_count": null,
   "outputs": [],
   "source": [
    "from sklearn.feature_extraction.text import CountVectorizer\n",
    "from sklearn.naive_bayes import MultinomialNB\n",
    "from sklearn.model_selection import train_test_split\n",
    "from collections import Counter\n",
    "from sklearn import metrics\n",
    "import matplotlib.pyplot as plt\n",
    "from sklearn.metrics import plot_confusion_matrix\n",
    "\n",
    "\n",
    "cv = CountVectorizer(ngram_range=(1,3))\n",
    "cv.fit(text)\n",
    "text_count= cv.transform(text)\n",
    "\n",
    "nb = MultinomialNB()\n",
    "\n",
    "\n",
    "list_test = [0.1, 0.2, 0.3, 0.4, 0.5]\n",
    "for i in list_test:\n",
    "    # Split dataset into training set and test set\n",
    "    test_size = i\n",
    "    train_size = 1 - i\n",
    "    X_train, X_test, y_train, y_test = train_test_split(text_count, target, test_size=i,random_state=None)\n",
    "\n",
    "    # Train the model using the training sets\n",
    "    nb.fit(X_train, y_train)\n",
    "    #Predict the response for test dataset\n",
    "    y_pred = nb.predict(X_test)\n",
    "    print(\"Training and prediction done\")\n",
    "    print('Training target statistics: {}'.format(Counter(y_train), sorted(y_train)))\n",
    "    print('Testing target statistics: {}'.format(Counter(y_test), sorted(y_test)))\n",
    "\n",
    "    # Model Accuracy, how often is the classifier correct?\n",
    "    print(\"train: \" + str(train_size) + \"/ test: \" + str(test_size))\n",
    "    accuracy = str(metrics.accuracy_score(y_test, y_pred))\n",
    "    precision = str(metrics.precision_score(y_test, y_pred, average=\"macro\"))\n",
    "    f1 = str(metrics.f1_score(y_test, y_pred, average=\"macro\"))\n",
    "    print(\"Accuracy:\" + accuracy)\n",
    "    print(\"Precision:\" + precision)\n",
    "    print(\"F1:\" + f1)\n",
    "    print(pd.crosstab(y_test, y_pred))\n",
    "\n",
    "    # Visualization of Confusion Matrix and saving\n",
    "    plt.rcParams['figure.facecolor'] = 'white'\n",
    "    title = f\"Confusion matrix - Baseline(MNB, count(1,3), manually balanced, unprocessed, {train_size}_{test_size})\"\n",
    "    disp = plot_confusion_matrix(nb, X_test, y_test,\n",
    "                                 display_labels=[1.0, 2.0, 3.0, 4.0, 5.0],\n",
    "                                 cmap=plt.cm.Blues)\n",
    "    disp.ax_.set_title(title)\n",
    "    plt.show()\n",
    "\n",
    "    title_norm = title + \"_normalize\"\n",
    "    disp_norm = plot_confusion_matrix(nb, X_test, y_test,\n",
    "                                 display_labels=[1.0, 2.0, 3.0, 4.0, 5.0],\n",
    "                                 cmap=plt.cm.Blues,\n",
    "                                 normalize='true')\n",
    "    disp_norm.ax_.set_title(title_norm)\n",
    "    plt.show()\n"
   ],
   "metadata": {
    "collapsed": false,
    "pycharm": {
     "name": "#%%\n"
    }
   }
  }
 ],
 "metadata": {
  "kernelspec": {
   "display_name": "Python 3",
   "language": "python",
   "name": "python3"
  },
  "language_info": {
   "codemirror_mode": {
    "name": "ipython",
    "version": 2
   },
   "file_extension": ".py",
   "mimetype": "text/x-python",
   "name": "python",
   "nbconvert_exporter": "python",
   "pygments_lexer": "ipython2",
   "version": "2.7.6"
  }
 },
 "nbformat": 4,
 "nbformat_minor": 0
}