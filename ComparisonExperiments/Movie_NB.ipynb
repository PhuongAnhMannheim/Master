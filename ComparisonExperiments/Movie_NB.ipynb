{
 "cells": [
  {
   "cell_type": "code",
   "execution_count": 1,
   "outputs": [
    {
     "name": "stderr",
     "output_type": "stream",
     "text": [
      "c:\\users\\d064966\\appdata\\local\\continuum\\anaconda3\\envs\\masterthesis\\lib\\site-packages\\IPython\\core\\interactiveshell.py:3063: DtypeWarning: Columns (5,6,7) have mixed types.Specify dtype option on import or set low_memory=False.\n",
      "  interactivity=interactivity, compiler=compiler, result=result)\n"
     ]
    }
   ],
   "source": [
    "import gzip, json, random, pandas as pd\n",
    "\n",
    "df = pd.read_csv('../Data/movie_reviews.csv')"
   ],
   "metadata": {
    "collapsed": false,
    "pycharm": {
     "name": "#%%\n"
    }
   }
  },
  {
   "cell_type": "code",
   "execution_count": 2,
   "outputs": [
    {
     "data": {
      "text/plain": "                                          REVIEWBODY  REVIEWRATING_adj\n0  \" Shot ever so beautifully, Chittagong is a te...               3.0\n1  \" This is a film that needs watching, because ...               4.0\n2  \" And while Chittagong falls well short of bei...               3.0\n3                  \" An absolute must watch. \"@en-US               4.0\n4  \" What makes Chittagong particularly special i...               4.0",
      "text/html": "<div>\n<style scoped>\n    .dataframe tbody tr th:only-of-type {\n        vertical-align: middle;\n    }\n\n    .dataframe tbody tr th {\n        vertical-align: top;\n    }\n\n    .dataframe thead th {\n        text-align: right;\n    }\n</style>\n<table border=\"1\" class=\"dataframe\">\n  <thead>\n    <tr style=\"text-align: right;\">\n      <th></th>\n      <th>REVIEWBODY</th>\n      <th>REVIEWRATING_adj</th>\n    </tr>\n  </thead>\n  <tbody>\n    <tr>\n      <th>0</th>\n      <td>\" Shot ever so beautifully, Chittagong is a te...</td>\n      <td>3.0</td>\n    </tr>\n    <tr>\n      <th>1</th>\n      <td>\" This is a film that needs watching, because ...</td>\n      <td>4.0</td>\n    </tr>\n    <tr>\n      <th>2</th>\n      <td>\" And while Chittagong falls well short of bei...</td>\n      <td>3.0</td>\n    </tr>\n    <tr>\n      <th>3</th>\n      <td>\" An absolute must watch. \"@en-US</td>\n      <td>4.0</td>\n    </tr>\n    <tr>\n      <th>4</th>\n      <td>\" What makes Chittagong particularly special i...</td>\n      <td>4.0</td>\n    </tr>\n  </tbody>\n</table>\n</div>"
     },
     "execution_count": 2,
     "metadata": {},
     "output_type": "execute_result"
    }
   ],
   "source": [
    "# df.drop(['NODE'])\n",
    "df = df[['REVIEWBODY', 'REVIEWRATING_adj']]\n",
    "df.head()"
   ],
   "metadata": {
    "collapsed": false,
    "pycharm": {
     "name": "#%%\n"
    }
   }
  },
  {
   "cell_type": "code",
   "execution_count": 3,
   "outputs": [],
   "source": [
    "input_file = '../Data/reviews_Movies_and_TV_5.json.gz'\n",
    "\n",
    "data = []\n",
    "with gzip.open(input_file) as f:\n",
    "    for l in f:\n",
    "        data.append(json.loads(l.strip()))\n",
    "\n",
    "data = random.sample(data, 200000)\n",
    "df = pd.DataFrame.from_dict(data)\n",
    "target = df['overall']\n",
    "text = df['reviewText']"
   ],
   "metadata": {
    "collapsed": false,
    "pycharm": {
     "name": "#%%\n"
    }
   }
  },
  {
   "cell_type": "code",
   "execution_count": 42,
   "outputs": [],
   "source": [
    "ama_df = df[['reviewText', 'overall']]"
   ],
   "metadata": {
    "collapsed": false,
    "pycharm": {
     "name": "#%%\n"
    }
   }
  },
  {
   "cell_type": "code",
   "execution_count": 43,
   "outputs": [],
   "source": [
    "df.head()\n",
    "df_1 = ama_df[ama_df['overall']==1.0].values.tolist()\n",
    "df_2 = ama_df[ama_df['overall']==2.0].values.tolist()\n",
    "df_3 = ama_df[ama_df['overall']==3.0].values.tolist()\n",
    "df_4 = ama_df[ama_df['overall']==4.0].values.tolist()\n",
    "df_5 = ama_df[ama_df['overall']==5.0].values.tolist()\n",
    "df1 = random.sample(df_1, 1001)\n",
    "df2 = random.sample(df_2, 1001)\n",
    "df3 = random.sample(df_3, 1001)\n",
    "df4 = random.sample(df_4, 1001)\n",
    "df5 = random.sample(df_5, 1001)\n",
    "df11 = pd.DataFrame(df1[1:], columns=['reviewText', 'overall'])\n",
    "df12 = pd.DataFrame(df2[1:], columns=['reviewText', 'overall'])\n",
    "df13 = pd.DataFrame(df3[1:], columns=['reviewText', 'overall'])\n",
    "df14 = pd.DataFrame(df4[1:], columns=['reviewText', 'overall'])\n",
    "df15 = pd.DataFrame(df5[1:], columns=['reviewText', 'overall'])"
   ],
   "metadata": {
    "collapsed": false,
    "pycharm": {
     "name": "#%%\n"
    }
   }
  },
  {
   "cell_type": "code",
   "execution_count": 4,
   "outputs": [],
   "source": [
    "df.head()\n",
    "df_1 = df[df['REVIEWRATING_adj']==1.0].values.tolist()\n",
    "df_2 = df[df['REVIEWRATING_adj']==2.0].values.tolist()\n",
    "df_3 = df[df['REVIEWRATING_adj']==3.0].values.tolist()\n",
    "df_4 = df[df['REVIEWRATING_adj']==4.0].values.tolist()\n",
    "df_5 = df[df['REVIEWRATING_adj']==5.0].values.tolist()\n",
    "df1 = random.sample(df_1, 1001)\n",
    "df2 = random.sample(df_2, 1001)\n",
    "df3 = random.sample(df_3, 1001)\n",
    "df4 = random.sample(df_4, 1001)\n",
    "df5 = random.sample(df_5, 1001)\n",
    "df11 = pd.DataFrame(df1[1:], columns=['reviewText', 'overall'])\n",
    "df12 = pd.DataFrame(df2[1:], columns=['reviewText', 'overall'])\n",
    "df13 = pd.DataFrame(df3[1:], columns=['reviewText', 'overall'])\n",
    "df14 = pd.DataFrame(df4[1:], columns=['reviewText', 'overall'])\n",
    "df15 = pd.DataFrame(df5[1:], columns=['reviewText', 'overall'])"
   ],
   "metadata": {
    "collapsed": false,
    "pycharm": {
     "name": "#%%\n"
    }
   }
  },
  {
   "cell_type": "code",
   "execution_count": 20,
   "outputs": [],
   "source": [
    "df11 = pd.DataFrame(df1[1:], columns=['reviewText', 'overall'])"
   ],
   "metadata": {
    "collapsed": false,
    "pycharm": {
     "name": "#%%\n"
    }
   }
  },
  {
   "cell_type": "code",
   "execution_count": 5,
   "outputs": [],
   "source": [
    "schema = pd.concat([df11, df12, df13, df14, df15])"
   ],
   "metadata": {
    "collapsed": false,
    "pycharm": {
     "name": "#%%\n"
    }
   }
  },
  {
   "cell_type": "code",
   "execution_count": 31,
   "outputs": [
    {
     "data": {
      "text/plain": "                                          reviewText  overall\n0  \\n...you cringe at the skin show, you shake yo...      1.0\n1  \\nWhat is confounding is that the refined film...      1.0\n2  I feel that it didn't breakout of its comfort ...      1.0\n3  Veteran television director T.J. Scott's made-...      1.0\n4  As you may know, the original \"Cop and a Half\"...      1.0",
      "text/html": "<div>\n<style scoped>\n    .dataframe tbody tr th:only-of-type {\n        vertical-align: middle;\n    }\n\n    .dataframe tbody tr th {\n        vertical-align: top;\n    }\n\n    .dataframe thead th {\n        text-align: right;\n    }\n</style>\n<table border=\"1\" class=\"dataframe\">\n  <thead>\n    <tr style=\"text-align: right;\">\n      <th></th>\n      <th>reviewText</th>\n      <th>overall</th>\n    </tr>\n  </thead>\n  <tbody>\n    <tr>\n      <th>0</th>\n      <td>\\n...you cringe at the skin show, you shake yo...</td>\n      <td>1.0</td>\n    </tr>\n    <tr>\n      <th>1</th>\n      <td>\\nWhat is confounding is that the refined film...</td>\n      <td>1.0</td>\n    </tr>\n    <tr>\n      <th>2</th>\n      <td>I feel that it didn't breakout of its comfort ...</td>\n      <td>1.0</td>\n    </tr>\n    <tr>\n      <th>3</th>\n      <td>Veteran television director T.J. Scott's made-...</td>\n      <td>1.0</td>\n    </tr>\n    <tr>\n      <th>4</th>\n      <td>As you may know, the original \"Cop and a Half\"...</td>\n      <td>1.0</td>\n    </tr>\n  </tbody>\n</table>\n</div>"
     },
     "execution_count": 31,
     "metadata": {},
     "output_type": "execute_result"
    }
   ],
   "source": [
    "schema.head()\n"
   ],
   "metadata": {
    "collapsed": false,
    "pycharm": {
     "name": "#%%\n"
    }
   }
  },
  {
   "cell_type": "code",
   "execution_count": 44,
   "outputs": [
    {
     "data": {
      "text/plain": "                                          reviewText  overall\n0  this sequel in name only is the low end of hor...      1.0\n1  Ok, so let's showcase your No-Talent Kid in a ...      1.0\n2  First of all, the only reason I started watchi...      1.0\n3  Irate gamer is simply a rip-off of the angry v...      1.0\n4  Is the runway in the cargo plane scene like 25...      1.0",
      "text/html": "<div>\n<style scoped>\n    .dataframe tbody tr th:only-of-type {\n        vertical-align: middle;\n    }\n\n    .dataframe tbody tr th {\n        vertical-align: top;\n    }\n\n    .dataframe thead th {\n        text-align: right;\n    }\n</style>\n<table border=\"1\" class=\"dataframe\">\n  <thead>\n    <tr style=\"text-align: right;\">\n      <th></th>\n      <th>reviewText</th>\n      <th>overall</th>\n    </tr>\n  </thead>\n  <tbody>\n    <tr>\n      <th>0</th>\n      <td>this sequel in name only is the low end of hor...</td>\n      <td>1.0</td>\n    </tr>\n    <tr>\n      <th>1</th>\n      <td>Ok, so let's showcase your No-Talent Kid in a ...</td>\n      <td>1.0</td>\n    </tr>\n    <tr>\n      <th>2</th>\n      <td>First of all, the only reason I started watchi...</td>\n      <td>1.0</td>\n    </tr>\n    <tr>\n      <th>3</th>\n      <td>Irate gamer is simply a rip-off of the angry v...</td>\n      <td>1.0</td>\n    </tr>\n    <tr>\n      <th>4</th>\n      <td>Is the runway in the cargo plane scene like 25...</td>\n      <td>1.0</td>\n    </tr>\n  </tbody>\n</table>\n</div>"
     },
     "execution_count": 44,
     "metadata": {},
     "output_type": "execute_result"
    }
   ],
   "source": [
    "amazon = pd.concat([df11, df12, df13, df14, df15])\n",
    "amazon.head()\n"
   ],
   "metadata": {
    "collapsed": false,
    "pycharm": {
     "name": "#%%\n"
    }
   }
  },
  {
   "cell_type": "code",
   "execution_count": 37,
   "outputs": [
    {
     "data": {
      "text/plain": "         overall\ncount  500.00000\nmean     3.00000\nstd      1.41563\nmin      1.00000\n25%      2.00000\n50%      3.00000\n75%      4.00000\nmax      5.00000",
      "text/html": "<div>\n<style scoped>\n    .dataframe tbody tr th:only-of-type {\n        vertical-align: middle;\n    }\n\n    .dataframe tbody tr th {\n        vertical-align: top;\n    }\n\n    .dataframe thead th {\n        text-align: right;\n    }\n</style>\n<table border=\"1\" class=\"dataframe\">\n  <thead>\n    <tr style=\"text-align: right;\">\n      <th></th>\n      <th>overall</th>\n    </tr>\n  </thead>\n  <tbody>\n    <tr>\n      <th>count</th>\n      <td>500.00000</td>\n    </tr>\n    <tr>\n      <th>mean</th>\n      <td>3.00000</td>\n    </tr>\n    <tr>\n      <th>std</th>\n      <td>1.41563</td>\n    </tr>\n    <tr>\n      <th>min</th>\n      <td>1.00000</td>\n    </tr>\n    <tr>\n      <th>25%</th>\n      <td>2.00000</td>\n    </tr>\n    <tr>\n      <th>50%</th>\n      <td>3.00000</td>\n    </tr>\n    <tr>\n      <th>75%</th>\n      <td>4.00000</td>\n    </tr>\n    <tr>\n      <th>max</th>\n      <td>5.00000</td>\n    </tr>\n  </tbody>\n</table>\n</div>"
     },
     "execution_count": 37,
     "metadata": {},
     "output_type": "execute_result"
    }
   ],
   "source": [
    "amazon.describe()"
   ],
   "metadata": {
    "collapsed": false,
    "pycharm": {
     "name": "#%%\n"
    }
   }
  },
  {
   "cell_type": "code",
   "execution_count": 6,
   "outputs": [],
   "source": [
    "all = schema\n",
    "# all = pd.concat([schema, amazon])"
   ],
   "metadata": {
    "collapsed": false,
    "pycharm": {
     "name": "#%%\n"
    }
   }
  },
  {
   "cell_type": "code",
   "execution_count": 54,
   "outputs": [
    {
     "data": {
      "text/plain": "            overall\ncount  10000.000000\nmean       3.000000\nstd        1.414284\nmin        1.000000\n25%        2.000000\n50%        3.000000\n75%        4.000000\nmax        5.000000",
      "text/html": "<div>\n<style scoped>\n    .dataframe tbody tr th:only-of-type {\n        vertical-align: middle;\n    }\n\n    .dataframe tbody tr th {\n        vertical-align: top;\n    }\n\n    .dataframe thead th {\n        text-align: right;\n    }\n</style>\n<table border=\"1\" class=\"dataframe\">\n  <thead>\n    <tr style=\"text-align: right;\">\n      <th></th>\n      <th>overall</th>\n    </tr>\n  </thead>\n  <tbody>\n    <tr>\n      <th>count</th>\n      <td>10000.000000</td>\n    </tr>\n    <tr>\n      <th>mean</th>\n      <td>3.000000</td>\n    </tr>\n    <tr>\n      <th>std</th>\n      <td>1.414284</td>\n    </tr>\n    <tr>\n      <th>min</th>\n      <td>1.000000</td>\n    </tr>\n    <tr>\n      <th>25%</th>\n      <td>2.000000</td>\n    </tr>\n    <tr>\n      <th>50%</th>\n      <td>3.000000</td>\n    </tr>\n    <tr>\n      <th>75%</th>\n      <td>4.000000</td>\n    </tr>\n    <tr>\n      <th>max</th>\n      <td>5.000000</td>\n    </tr>\n  </tbody>\n</table>\n</div>"
     },
     "execution_count": 54,
     "metadata": {},
     "output_type": "execute_result"
    }
   ],
   "source": [
    "all.describe()"
   ],
   "metadata": {
    "collapsed": false,
    "pycharm": {
     "name": "#%%\n"
    }
   }
  },
  {
   "cell_type": "code",
   "execution_count": 7,
   "outputs": [],
   "source": [
    "text = all['reviewText']\n",
    "target = all['overall']"
   ],
   "metadata": {
    "collapsed": false,
    "pycharm": {
     "name": "#%%\n"
    }
   }
  },
  {
   "cell_type": "code",
   "execution_count": 13,
   "outputs": [
    {
     "data": {
      "text/plain": "37    I can't believe this got funded to produce. Ba...\n37     To look for mainstream plot, esthetics or tre...\n37    \\nOnir’s expertise is seen in the way he handl...\n37    \" \\\"Kaththi\\\" is a message-oriented and highly...\n37    Love Ashley Williams she is real not phony Pau...\nName: reviewText, dtype: object"
     },
     "execution_count": 13,
     "metadata": {},
     "output_type": "execute_result"
    }
   ],
   "source": [
    "# dirty = all[all['reviewText'].str.contains('é')]\n",
    "# print(dirty)\n",
    "all.loc[37]['reviewText']"
   ],
   "metadata": {
    "collapsed": false,
    "pycharm": {
     "name": "#%%\n"
    }
   }
  },
  {
   "cell_type": "code",
   "execution_count": null,
   "outputs": [],
   "source": [
    "from sklearn.feature_extraction.text import CountVectorizer\n",
    "from sklearn.naive_bayes import MultinomialNB\n",
    "from sklearn.model_selection import train_test_split\n",
    "from collections import Counter\n",
    "from sklearn import metrics\n",
    "import matplotlib.pyplot as plt\n",
    "from sklearn.metrics import plot_confusion_matrix\n",
    "\n",
    "\n",
    "cv = CountVectorizer(ngram_range=(1,10))\n",
    "cv.fit(text)\n",
    "text_count= cv.transform(text)\n",
    "\n",
    "nb = MultinomialNB()\n",
    "\n",
    "\n",
    "list_test = [0.1, 0.2, 0.3, 0.4, 0.5]\n",
    "for i in list_test:\n",
    "    # Split dataset into training set and test set\n",
    "    test_size = i\n",
    "    train_size = 1 - i\n",
    "    X_train, X_test, y_train, y_test = train_test_split(text_count, target, test_size=i,random_state=None)\n",
    "\n",
    "    # Train the model using the training sets\n",
    "    nb.fit(X_train, y_train)\n",
    "    #Predict the response for test dataset\n",
    "    y_pred = nb.predict(X_test)\n",
    "    print(\"Training and prediction done\")\n",
    "    print('Training target statistics: {}'.format(Counter(y_train), sorted(y_train)))\n",
    "    print('Testing target statistics: {}'.format(Counter(y_test), sorted(y_test)))\n",
    "\n",
    "    # Model Accuracy, how often is the classifier correct?\n",
    "    print(\"train: \" + str(train_size) + \"/ test: \" + str(test_size))\n",
    "    accuracy = str(metrics.accuracy_score(y_test, y_pred))\n",
    "    precision = str(metrics.precision_score(y_test, y_pred, average=\"macro\"))\n",
    "    f1 = str(metrics.f1_score(y_test, y_pred, average=\"macro\"))\n",
    "    print(\"Accuracy:\" + accuracy)\n",
    "    print(\"Precision:\" + precision)\n",
    "    print(\"F1:\" + f1)\n",
    "    print(pd.crosstab(y_test, y_pred))\n",
    "\n",
    "    # Visualization of Confusion Matrix and saving\n",
    "    plt.rcParams['figure.facecolor'] = 'white'\n",
    "    title = f\"Confusion matrix - Baseline(MNB, count(1,3), manually balanced, unprocessed, {train_size}_{test_size})\"\n",
    "    disp = plot_confusion_matrix(nb, X_test, y_test,\n",
    "                                 display_labels=[1.0, 2.0, 3.0, 4.0, 5.0],\n",
    "                                 cmap=plt.cm.Blues)\n",
    "    disp.ax_.set_title(title)\n",
    "    plt.show()\n",
    "\n",
    "    title_norm = title + \"_normalize\"\n",
    "    disp_norm = plot_confusion_matrix(nb, X_test, y_test,\n",
    "                                 display_labels=[1.0, 2.0, 3.0, 4.0, 5.0],\n",
    "                                 cmap=plt.cm.Blues,\n",
    "                                 normalize='true')\n",
    "    disp_norm.ax_.set_title(title_norm)\n",
    "    plt.show()"
   ],
   "metadata": {
    "collapsed": false,
    "pycharm": {
     "name": "#%%\n"
    }
   }
  },
  {
   "cell_type": "code",
   "execution_count": null,
   "outputs": [],
   "source": [
    "\n"
   ],
   "metadata": {
    "collapsed": false,
    "pycharm": {
     "name": "#%%\n"
    }
   }
  }
 ],
 "metadata": {
  "kernelspec": {
   "display_name": "Python 3",
   "language": "python",
   "name": "python3"
  },
  "language_info": {
   "codemirror_mode": {
    "name": "ipython",
    "version": 2
   },
   "file_extension": ".py",
   "mimetype": "text/x-python",
   "name": "python",
   "nbconvert_exporter": "python",
   "pygments_lexer": "ipython2",
   "version": "2.7.6"
  }
 },
 "nbformat": 4,
 "nbformat_minor": 0
}