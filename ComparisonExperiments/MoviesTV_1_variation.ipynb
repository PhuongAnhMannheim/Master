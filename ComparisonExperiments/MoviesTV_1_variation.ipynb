{
 "cells": [
  {
   "cell_type": "code",
   "execution_count": 6,
   "metadata": {
    "collapsed": true
   },
   "outputs": [],
   "source": [
    "import pandas as pd\n",
    "import matplotlib.pyplot as plt\n",
    "from sklearn.model_selection import train_test_split\n",
    "from sklearn import preprocessing\n",
    "from sklearn.feature_extraction.text import TfidfVectorizer"
   ]
  },
  {
   "cell_type": "code",
   "execution_count": 3,
   "outputs": [
    {
     "name": "stderr",
     "output_type": "stream",
     "text": [
      "c:\\users\\d064966\\appdata\\local\\continuum\\anaconda3\\envs\\masterthesis\\lib\\site-packages\\IPython\\core\\interactiveshell.py:3063: DtypeWarning: Columns (5,6,7) have mixed types.Specify dtype option on import or set low_memory=False.\n",
      "  interactivity=interactivity, compiler=compiler, result=result)\n"
     ]
    },
    {
     "data": {
      "text/plain": "   Unnamed: 0                                    NODE  \\\n0      106197   _:node7788d74dd3601fb097d98e3c7d47d5a   \n1      106199   _:node4d3b78dd51f3c8821591f0407881d6e   \n2      106201     _:nodea5179c3516155f22dfbd0e71a4691   \n3      106203  _:node7e1a7e8c2a31d8e71bf6e3fe579d1778   \n4      106205   _:node49f7761f3f49cfd93937456697796a0   \n\n                                           URL  \\\n0  https://thereviewmonk.com/movie/chittagong/   \n1  https://thereviewmonk.com/movie/chittagong/   \n2  https://thereviewmonk.com/movie/chittagong/   \n3  https://thereviewmonk.com/movie/chittagong/   \n4  https://thereviewmonk.com/movie/chittagong/   \n\n                                          REVIEWBODY  \\\n0  \" Shot ever so beautifully, Chittagong is a te...   \n1  \" This is a film that needs watching, because ...   \n2  \" And while Chittagong falls well short of bei...   \n3                  \" An absolute must watch. \"@en-US   \n4  \" What makes Chittagong particularly special i...   \n\n                                  RATING REVIEWRATING  BESTRATING WORSTRATING  \\\n0  _:nodeaca8f1a9454cb62be76f8e3bf353c69    \"6\"@en-US  \"10\"@en-US   \"0\"@en-US   \n1  _:nodef43da5f4ce67454a20a240eb8ed522a    \"7\"@en-US  \"10\"@en-US   \"0\"@en-US   \n2  _:nodee82f2fc743cae7c3852f032e5a477c2    \"6\"@en-US  \"10\"@en-US   \"0\"@en-US   \n3  _:nodebd3ba152a61fe90c66bbd6b1bf6ccc5    \"8\"@en-US  \"10\"@en-US   \"0\"@en-US   \n4   _:node4de79f1f47fa56d5df52ceaafb81ef    \"8\"@en-US  \"10\"@en-US   \"0\"@en-US   \n\n  LANGUAGE  REVIEWRATING_new  BESTRATING_new  WORSTRATING_new  \\\n0       en                 6              10                0   \n1       en                 7              10                0   \n2       en                 6              10                0   \n3       en                 8              10                0   \n4       en                 8              10                0   \n\n   REVIEWRATING_adj  \n0               3.0  \n1               4.0  \n2               3.0  \n3               4.0  \n4               4.0  ",
      "text/html": "<div>\n<style scoped>\n    .dataframe tbody tr th:only-of-type {\n        vertical-align: middle;\n    }\n\n    .dataframe tbody tr th {\n        vertical-align: top;\n    }\n\n    .dataframe thead th {\n        text-align: right;\n    }\n</style>\n<table border=\"1\" class=\"dataframe\">\n  <thead>\n    <tr style=\"text-align: right;\">\n      <th></th>\n      <th>Unnamed: 0</th>\n      <th>NODE</th>\n      <th>URL</th>\n      <th>REVIEWBODY</th>\n      <th>RATING</th>\n      <th>REVIEWRATING</th>\n      <th>BESTRATING</th>\n      <th>WORSTRATING</th>\n      <th>LANGUAGE</th>\n      <th>REVIEWRATING_new</th>\n      <th>BESTRATING_new</th>\n      <th>WORSTRATING_new</th>\n      <th>REVIEWRATING_adj</th>\n    </tr>\n  </thead>\n  <tbody>\n    <tr>\n      <th>0</th>\n      <td>106197</td>\n      <td>_:node7788d74dd3601fb097d98e3c7d47d5a</td>\n      <td>https://thereviewmonk.com/movie/chittagong/</td>\n      <td>\" Shot ever so beautifully, Chittagong is a te...</td>\n      <td>_:nodeaca8f1a9454cb62be76f8e3bf353c69</td>\n      <td>\"6\"@en-US</td>\n      <td>\"10\"@en-US</td>\n      <td>\"0\"@en-US</td>\n      <td>en</td>\n      <td>6</td>\n      <td>10</td>\n      <td>0</td>\n      <td>3.0</td>\n    </tr>\n    <tr>\n      <th>1</th>\n      <td>106199</td>\n      <td>_:node4d3b78dd51f3c8821591f0407881d6e</td>\n      <td>https://thereviewmonk.com/movie/chittagong/</td>\n      <td>\" This is a film that needs watching, because ...</td>\n      <td>_:nodef43da5f4ce67454a20a240eb8ed522a</td>\n      <td>\"7\"@en-US</td>\n      <td>\"10\"@en-US</td>\n      <td>\"0\"@en-US</td>\n      <td>en</td>\n      <td>7</td>\n      <td>10</td>\n      <td>0</td>\n      <td>4.0</td>\n    </tr>\n    <tr>\n      <th>2</th>\n      <td>106201</td>\n      <td>_:nodea5179c3516155f22dfbd0e71a4691</td>\n      <td>https://thereviewmonk.com/movie/chittagong/</td>\n      <td>\" And while Chittagong falls well short of bei...</td>\n      <td>_:nodee82f2fc743cae7c3852f032e5a477c2</td>\n      <td>\"6\"@en-US</td>\n      <td>\"10\"@en-US</td>\n      <td>\"0\"@en-US</td>\n      <td>en</td>\n      <td>6</td>\n      <td>10</td>\n      <td>0</td>\n      <td>3.0</td>\n    </tr>\n    <tr>\n      <th>3</th>\n      <td>106203</td>\n      <td>_:node7e1a7e8c2a31d8e71bf6e3fe579d1778</td>\n      <td>https://thereviewmonk.com/movie/chittagong/</td>\n      <td>\" An absolute must watch. \"@en-US</td>\n      <td>_:nodebd3ba152a61fe90c66bbd6b1bf6ccc5</td>\n      <td>\"8\"@en-US</td>\n      <td>\"10\"@en-US</td>\n      <td>\"0\"@en-US</td>\n      <td>en</td>\n      <td>8</td>\n      <td>10</td>\n      <td>0</td>\n      <td>4.0</td>\n    </tr>\n    <tr>\n      <th>4</th>\n      <td>106205</td>\n      <td>_:node49f7761f3f49cfd93937456697796a0</td>\n      <td>https://thereviewmonk.com/movie/chittagong/</td>\n      <td>\" What makes Chittagong particularly special i...</td>\n      <td>_:node4de79f1f47fa56d5df52ceaafb81ef</td>\n      <td>\"8\"@en-US</td>\n      <td>\"10\"@en-US</td>\n      <td>\"0\"@en-US</td>\n      <td>en</td>\n      <td>8</td>\n      <td>10</td>\n      <td>0</td>\n      <td>4.0</td>\n    </tr>\n  </tbody>\n</table>\n</div>"
     },
     "execution_count": 3,
     "metadata": {},
     "output_type": "execute_result"
    }
   ],
   "source": [
    "df = pd.read_csv('../Data/movie_reviews.csv')\n",
    "df.head()"
   ],
   "metadata": {
    "collapsed": false,
    "pycharm": {
     "name": "#%%\n"
    }
   }
  },
  {
   "cell_type": "code",
   "execution_count": 4,
   "outputs": [],
   "source": [
    "target = df['REVIEWRATING_adj']\n",
    "text = df['REVIEWBODY']"
   ],
   "metadata": {
    "collapsed": false,
    "pycharm": {
     "name": "#%%\n"
    }
   }
  },
  {
   "cell_type": "code",
   "execution_count": 7,
   "outputs": [],
   "source": [
    "# Split dataset into training set and test set\n",
    "X_train, X_test, y_train, y_test = train_test_split(text, target, test_size=0.3,random_state=109) # 70% training and 30% test\n",
    "\n",
    "# label encode the target variable\n",
    "encoder = preprocessing.LabelEncoder()\n",
    "y_train = encoder.fit_transform(y_train)\n",
    "y_test = encoder.fit_transform(y_test)\n",
    "\n"
   ],
   "metadata": {
    "collapsed": false,
    "pycharm": {
     "name": "#%%\n"
    }
   }
  },
  {
   "cell_type": "code",
   "execution_count": 8,
   "outputs": [],
   "source": [
    "# Feature Extraction: Bag of Words with TF-IDF\n",
    "tfidf_vect = TfidfVectorizer(analyzer='word', token_pattern=r'\\w{1,}')\n",
    "tfidf_vect.fit(text)\n",
    "\n",
    "# transform the training and validation data using tfidf vectorizer object\n",
    "xtrain_tfidf =  tfidf_vect.transform(X_train)\n",
    "xtest_tfidf =  tfidf_vect.transform(X_test)"
   ],
   "metadata": {
    "collapsed": false,
    "pycharm": {
     "name": "#%%\n"
    }
   }
  },
  {
   "cell_type": "code",
   "execution_count": 9,
   "outputs": [],
   "source": [
    "from sklearn.naive_bayes import MultinomialNB\n",
    "#Create a Binomial Classifier\n",
    "nb = MultinomialNB()\n",
    "# Train the model using the training sets\n",
    "nb.fit(xtrain_tfidf, y_train)\n",
    "\n",
    "#Predict the response for test dataset\n",
    "y_pred = nb.predict(xtest_tfidf)"
   ],
   "metadata": {
    "collapsed": false,
    "pycharm": {
     "name": "#%%\n"
    }
   }
  },
  {
   "cell_type": "code",
   "execution_count": 10,
   "outputs": [
    {
     "name": "stdout",
     "output_type": "stream",
     "text": [
      "[[ 240  898  651 ...    0    0    0]\n",
      " [  25 1716 1077 ...    0    0    0]\n",
      " [   4  329 1462 ...    0    0    0]\n",
      " ...\n",
      " [   0    0    0 ...    0    0    0]\n",
      " [   0    0    1 ...    0    0    0]\n",
      " [   0    0    0 ...    0    0    0]]\n",
      "Accuracy: 0.4091302841302841\n",
      "Precision: 0.0033698460078282226\n",
      "F1: 0.002433349566056656\n"
     ]
    },
    {
     "name": "stderr",
     "output_type": "stream",
     "text": [
      "c:\\users\\d064966\\appdata\\local\\continuum\\anaconda3\\envs\\masterthesis\\lib\\site-packages\\sklearn\\metrics\\_classification.py:1221: UndefinedMetricWarning: Precision is ill-defined and being set to 0.0 in labels with no predicted samples. Use `zero_division` parameter to control this behavior.\n",
      "  _warn_prf(average, modifier, msg_start, len(result))\n"
     ]
    }
   ],
   "source": [
    "from sklearn import metrics\n",
    "from sklearn.metrics import confusion_matrix\n",
    "print(confusion_matrix(y_test, y_pred))\n",
    "\n",
    "# Model Accuracy, how often is the classifier correct?\n",
    "print(\"Accuracy:\",metrics.accuracy_score(y_test, y_pred))\n",
    "print(\"Precision:\", metrics.precision_score(y_test, y_pred, average=\"macro\"))\n",
    "print(\"F1:\", metrics.f1_score(y_test, y_pred, average=\"macro\"))\n",
    "\n",
    "<Term Name=\"LineItem\" Type=\"Collection(UI.DataFieldAbstract)\" Nullable=\"false\" AppliesTo=\"EntityType\">\n",
    "    <Property Name=\"TypeName\" Type=\"Edm.String\" Nullable=\"false\">\n",
    "        <Annotation Term=\"Core.Description\" String=\"Collection of data fields for representation in a table or list\"/>\n",
    "        <Annotation Term=\"UI.ThingPerpsective\"/>\n",
    "</Term>"
   ],
   "metadata": {
    "collapsed": false,
    "pycharm": {
     "name": "#%%\n"
    }
   }
  }
 ],
 "metadata": {
  "kernelspec": {
   "display_name": "Python 3",
   "language": "python",
   "name": "python3"
  },
  "language_info": {
   "codemirror_mode": {
    "name": "ipython",
    "version": 2
   },
   "file_extension": ".py",
   "mimetype": "text/x-python",
   "name": "python",
   "nbconvert_exporter": "python",
   "pygments_lexer": "ipython2",
   "version": "2.7.6"
  }
 },
 "nbformat": 4,
 "nbformat_minor": 0
}