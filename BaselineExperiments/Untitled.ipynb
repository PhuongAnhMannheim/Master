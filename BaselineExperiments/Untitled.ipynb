{
 "cells": [
  {
   "cell_type": "code",
   "execution_count": 339,
   "metadata": {
    "ExecuteTime": {
     "end_time": "2020-09-05T07:24:34.513623Z",
     "start_time": "2020-09-05T07:24:31.770848Z"
    }
   },
   "outputs": [],
   "source": [
    "import gzip, json, pandas as pd, re, numpy as np\n",
    "from sklearn.model_selection import train_test_split\n",
    "from collections import Counter\n",
    "from sklearn_pandas import DataFrameMapper\n",
    "from sklearn.feature_extraction.text import CountVectorizer\n",
    "from sklearn.feature_extraction.text import TfidfVectorizer\n",
    "\n",
    "import string, unidecode, html\n",
    "import nltk\n",
    "import contractions\n",
    "import inflect\n",
    "from bs4 import BeautifulSoup\n",
    "from nltk.tokenize.treebank import TreebankWordDetokenizer\n",
    "from nltk.corpus import stopwords\n",
    "from textblob import TextBlob\n",
    "from scipy.stats.stats import pearsonr"
   ]
  },
  {
   "cell_type": "code",
   "execution_count": 177,
   "outputs": [],
   "source": [
    "input = '../Data/reviews_Cell_Phones_and_Accessories_5.json.gz'\n",
    "data = []\n",
    "with gzip.open(input) as f:\n",
    "    for l in f:\n",
    "        data.append(json.loads(l.strip()))\n",
    "\n",
    "data = pd.DataFrame.from_dict(data)\n",
    "df = data[['reviewText', 'overall']]"
   ],
   "metadata": {
    "collapsed": false,
    "pycharm": {
     "name": "#%%\n"
    }
   }
  },
  {
   "cell_type": "code",
   "execution_count": 3,
   "outputs": [
    {
     "data": {
      "text/plain": "                                          reviewText  overall\n0  They look good and stick good! I just don't li...      4.0\n1  These stickers work like the review says they ...      5.0\n2  These are awesome and make my phone look so st...      5.0\n3  Item arrived in great time and was in perfect ...      4.0\n4  awesome! stays on, and looks great. can be use...      5.0",
      "text/html": "<div>\n<style scoped>\n    .dataframe tbody tr th:only-of-type {\n        vertical-align: middle;\n    }\n\n    .dataframe tbody tr th {\n        vertical-align: top;\n    }\n\n    .dataframe thead th {\n        text-align: right;\n    }\n</style>\n<table border=\"1\" class=\"dataframe\">\n  <thead>\n    <tr style=\"text-align: right;\">\n      <th></th>\n      <th>reviewText</th>\n      <th>overall</th>\n    </tr>\n  </thead>\n  <tbody>\n    <tr>\n      <th>0</th>\n      <td>They look good and stick good! I just don't li...</td>\n      <td>4.0</td>\n    </tr>\n    <tr>\n      <th>1</th>\n      <td>These stickers work like the review says they ...</td>\n      <td>5.0</td>\n    </tr>\n    <tr>\n      <th>2</th>\n      <td>These are awesome and make my phone look so st...</td>\n      <td>5.0</td>\n    </tr>\n    <tr>\n      <th>3</th>\n      <td>Item arrived in great time and was in perfect ...</td>\n      <td>4.0</td>\n    </tr>\n    <tr>\n      <th>4</th>\n      <td>awesome! stays on, and looks great. can be use...</td>\n      <td>5.0</td>\n    </tr>\n  </tbody>\n</table>\n</div>"
     },
     "execution_count": 3,
     "metadata": {},
     "output_type": "execute_result"
    }
   ],
   "source": [
    "df.head()"
   ],
   "metadata": {
    "collapsed": false,
    "pycharm": {
     "name": "#%%\n"
    }
   }
  },
  {
   "cell_type": "code",
   "execution_count": 10,
   "outputs": [
    {
     "data": {
      "text/plain": "(194439, 2)"
     },
     "execution_count": 10,
     "metadata": {},
     "output_type": "execute_result"
    }
   ],
   "source": [
    "df.shape\n",
    "\n",
    "# filtern nach anzahl der Wörter müssen mehr als 5 sein, damit es als eine valide Review\n",
    "# + gleiche reviewtexte auch rausfiltern"
   ],
   "metadata": {
    "collapsed": false,
    "pycharm": {
     "name": "#%%\n"
    }
   }
  },
  {
   "cell_type": "code",
   "execution_count": 286,
   "outputs": [
    {
     "name": "stdout",
     "output_type": "stream",
     "text": [
      "                                               reviewText  overall\n",
      "656     I bought a similar one @ a local store & was s...      5.0\n",
      "834     My previous two PalmOS phones were a Kyocera 6...      4.0\n",
      "855     I bought this item @ a local retailer, was hap...      1.0\n",
      "1298    Update 11/11/2008My wife's died about two week...      5.0\n",
      "2000    First, the ear clip snapped around the clip th...      2.0\n",
      "...                                                   ...      ...\n",
      "190717  Seemed to work well for a while (6 weeks or so...      5.0\n",
      "191490  Companies are definitely stepping up to the pl...      5.0\n",
      "193426  Lepow battery banks always impress me with the...      5.0\n",
      "193748  A review of the \"Bolse 25W (5V/5A) 4-Port USB ...      5.0\n",
      "194298  In a crowded market of multiport USB chargers ...      5.0\n",
      "\n",
      "[346 rows x 2 columns]\n"
     ]
    }
   ],
   "source": [
    "# emoticons\n",
    "# dirty = df[df['reviewText'].str.contains('\\:\\-\\)')]\n",
    "# dirty = df[df['reviewText'].str.contains('.-')]\n",
    "# dirty = df[df['reviewText'].str.contains('\\/n')]\n",
    "# dirty = df[df['reviewText'].str.contains('&#8217')] #, e.g. 757 - done\n",
    "# dirty = df[df['reviewText'].str.contains('00')] #, e.g. $20.00 - done\n",
    "# dirty = df[df['reviewText'].str.contains('couldn\\'t')]\n",
    "dirty = df[df['reviewText'].str.contains('@')]\n",
    "# dirty = df[df['reviewText'].str.contains('JUNK')]\n",
    "# dirty = df[df['reviewText'].str.contains('u\"hello world')]\n",
    "print(dirty)"
   ],
   "metadata": {
    "collapsed": false,
    "pycharm": {
     "name": "#%%\n"
    }
   }
  },
  {
   "cell_type": "code",
   "execution_count": 257,
   "outputs": [
    {
     "data": {
      "text/plain": "\"I have been itching for a Treo ever since the 600 came out and I noticed that more streamlined design.  When smartphones were first introduced, I bucked the trend of combining the two thinking that as often as I use my cell phone and my pda, if I bought one that integrated both I would wear it out twice as fast.  And in my humble opinion, it was a valid reason because back then, the original phone/pda's were impossibly large.  Well I have finally become a convert.I spent a great deal of time researching Blackberry's vs. the Treo's vs. Pocket PC's and came VERY close to grabbing a T-Mobile Dash (which I still believe is the all-around smallest model availabe as I write this, or at least it SEEMED to be), but I finally settled with the trusted Palm OS platform (one that I have become VERY familiar with over the years using pda's for quite some time now).  When I set out to get one, I really had my heart set on the Treo 680...but as I read the reviews for them, one thing kept creeping in to almost all the reviews: battery life was terrible.  With that aside, quite a few of the reviewers mentioned that all things considered, they were more happy with their old 650.  I saw this on so MANY reviews that I began to think twice.  Then I noticed that the 700p was a more beefed up version of the 650, and began to consider it as well.  Unfortunately as I write this, it isn't available with Alltell service where I am (it will, but nobody can give me a target date, and dang it, I am too impatient to wait...) so I am right back with the 650.  It took a while before Palm was able to knock enough of the bugs out of the 650 that I felt like buying one would be worth it...and I am discovering more than a few bugs have been associated with both the 680 & 700p, so no matter HOW much time I spend considering upgrading to a newer model, I find compelling reasons to go right back to the Old School 650.Reason #1 to go with it: Since it is no longer available at Palm's Official website, and with the newer models coming out, chances are you can find some pretty sweet deals on the older 650.Reason #2: Virtually ALL of the problems originally associated with the 650 have been eliminated.  You want Push email?  You can get it.  You want web surfing?  No prob.  You want to view AND edit MS Word Documents and Excell?  Easier than ever with the 650 (that was one major plus over most of the Pocket PC's and ALL of the Blackberrys -- sure you can VIEW some of these documents, but you cannot EDIT them, too).Reason #3: No matter HOW convenient the pda, I found it next to impossible to give up a touch-screen's amazing versatility and the ease with which you can use it to edit things and connect on websites.One more important item to factor in when considering buying a 650: With the popularity with ever increasing wireless downloading speeds, I was afraid that the slower Treo would make internet surfing next to impossible because of the archaic speeds with which you are forced to endure.  I was VERY pleastantly surprised that downloading web pages did not take as long as I was at first expecting.  I have to tell you, after experimenting with the supposedly MUCH faster 700p with another online carrier than the one I was using (I won't say which, but they really did their best to tell me the 650 was slower than a dial-up modem from 1985), anyway, the 650 was only SLIGHTLY slower than this screaming fast 700p or the 700w.  I figured that was something I could live with to be honest.  Hey, it's a tiny hand-held device that allows me to send and receive email and surf the web...I'm still amazed that something like this exists at ALL to be honest with you...so downloading speed is still secondary in my opinion.  If speed really IS on your list of absolutes, maybe you ought to move up to something else...but keep in mind, it is only BARELY faster than what I experienced first hand.One more thing: the screen is amazing.  There are only so many ways to say WOW.  If you are considering buying a Palm that runs Windows Mobile, you ought to know that the screen clarity is almost reduced by HALF.  This apparently has something to do with Window's OS, and seriously put my decision to buy one on the back burner.Sure there are things that a smartphone cannot as yet do without some difficulty or impossibility...but that is the same with ALL current models.  Do some SERIOUS research into what you want vs. what you NEED and make an informed decision only AFTER you have had the chance to go into a store and test a specific model PERSONALLY.  Do that and no matter WHAT you decide on, you will most likely be happy.  So far, I know I am VERY satisfied with my choice.  Good luck on yours.***UPDATE***I opted not to get a Bluetooth hands-free device -- at first.  Originally I would see people walking around with these Lt. Uhura type thingy's sticking out of their ears and I couldn't help but wonder how lazy people are that they cannot raise their hand up to their head while walking around simply to talk on the phone.  For the most part I STILL feel this way, but I decided to buy a Bluetooth hands-free headset for while I am driving.  I cannot afford to miss calls, and being in radio, when not at work or home I can be found in my car monitoring the radio virtually 100% of the time and unfortunately this means I sometimes cannot hear the ringer.  The tethered device that came with the phone is certainly loud enough, but simply did not fit my ear (it kept falling out).  I bought a replacement that came with a variable size adapter and yet while it FIT better, the sound was almost impossible to hear (the worst I have ever experienced, actually).  So I took the plunge knowing full-well that the Palm Treo has a somewhat problematic history using these devices...so I made sure that I had an iron-clad return policy in place and jumped in.  It took me no more than a minute to configure my head-set and I went ahead and made a test call which had more than enough volume -- in fact it had plenty to spare.  All in all I am VERY satisfied with the performance. (I bought a Keycera Bluetooth, if that means anything)One additional item that requires mentioning: I currently have call-waiting as a service with my Treo and yet I have missed at least 3 calls (that I know of).  This particular feature does not seem to be supported by the 650...and IF it is, I have yet to discover any useful info regarding the problem, whether online or in the bible-sized instruction manual.  I will keep looking and IF I find a solution I will quickly report it here asap.  Just one more thing to think about.  Otherwise, I am amazingly satisfied with my Treo otherwise.  The ONLY thing I wish (other than user-friendly call-waiting) is faster downloads while online.  That is supposedly possible with the newer models using EVDO and yet the 700p I tested failed to work only slightly faster than my 650.  Maybe it was the network -- but not according to them (no surprise there).  I still think my purchase was WELL worth it.\""
     },
     "execution_count": 257,
     "metadata": {},
     "output_type": "execute_result"
    }
   ],
   "source": [
    "df.loc[1178]['reviewText']"
   ],
   "metadata": {
    "collapsed": false,
    "pycharm": {
     "name": "#%%\n"
    }
   }
  },
  {
   "cell_type": "code",
   "execution_count": null,
   "outputs": [],
   "source": [
    "stops = stopwords.words('english')\n",
    "stops.append('I')\n",
    "stops = [e for e in stops if e not in ('but', 'no', 'not')]"
   ],
   "metadata": {
    "collapsed": false,
    "pycharm": {
     "name": "#%%\n"
    }
   }
  },
  {
   "cell_type": "code",
   "execution_count": 288,
   "outputs": [],
   "source": [
    "# Preprocessing\n",
    "def strip_html(t):\n",
    "    soup = BeautifulSoup(t, \"html.parser\")\n",
    "    return soup.get_text()\n",
    "\n",
    "def remove_between_square_brackets(t):\n",
    "    return re.sub('\\[[^]]*\\]', '', t)\n",
    "\n",
    "def remove_between_angle_brackets(t):\n",
    "    return re.sub(r'<[^>]+>', '', t)\n",
    "\n",
    "def remove_accented_chars(t):\n",
    "    return unidecode.unidecode(t)\n",
    "\n",
    "def replace_contractions(t):\n",
    "    return contractions.fix(t)\n",
    "\n",
    "def remove_numbers(t):\n",
    "    return re.sub(r'([a-zA-Z]*[0-9])|(\\S*[0-9]\\S)|([0-9])', '', t)\n",
    "\n",
    "def remove_weblinks(t):\n",
    "    return re.sub(r'http\\S+', '', t)\n",
    "\n",
    "def unescape(t):\n",
    "    return html.unescape(t)\n",
    "\n",
    "def remove_punctuation(t):\n",
    "    return re.sub(r'([^\\w!)])\\1{1,}|(_{2,})|([^\\w\\s])', ' ', t)\n",
    "\n",
    "def remove_extra_whitespaces(t):\n",
    "    return re.sub(r'[\\s]{2,}', ' ', t)\n",
    "\n",
    "# experiment what is better 1. lowercase all 2. only lowercase if all caps\n",
    "def to_lowercase(t):\n",
    "    words = nltk.word_tokenize(t)\n",
    "    new_words = []\n",
    "    # for word in words:\n",
    "    #     if word.isupper():\n",
    "    #         new_words.append(word)\n",
    "    #     else:\n",
    "    #         new_word = word.lower()\n",
    "    #         new_words.append(new_word)\n",
    "    for word in words:\n",
    "        new_word = word.lower()\n",
    "        new_words.append(new_word)\n",
    "    new_review = TreebankWordDetokenizer().detokenize(new_words)\n",
    "    return new_review\n",
    "\n",
    "def remove_stopwords(t):\n",
    "    words = nltk.word_tokenize(t)\n",
    "    new_words = []\n",
    "    for word in words:\n",
    "        if word not in stops:\n",
    "            new_words.append(word)\n",
    "    new_review = TreebankWordDetokenizer().detokenize(new_words)\n",
    "    return new_review\n",
    "\n",
    "def lemmatize_with_postag(sentence):\n",
    "    sent = TextBlob(sentence)\n",
    "    tag_dict = {\"J\": 'a',\n",
    "                \"N\": 'n',\n",
    "                \"V\": 'v',\n",
    "                \"R\": 'r'}\n",
    "    words_and_tags = [(w, tag_dict.get(pos[0], 'n')) for w, pos in sent.tags]\n",
    "    lemmatized_list = [wd.lemmatize(tag) for wd, tag in words_and_tags]\n",
    "    return \" \".join(lemmatized_list)\n",
    "\n",
    "def preprocess_reviews(reviews):\n",
    "    ## Denoise\n",
    "    # - remove unnecessary space and <br>, HTML tags\n",
    "    reviews = [strip_html(line) for line in reviews]\n",
    "    reviews = [remove_between_square_brackets(line) for line in reviews]\n",
    "    reviews = [remove_between_angle_brackets(line) for line in reviews]\n",
    "\n",
    "    # remove weblinks\n",
    "    reviews = [remove_weblinks(line) for line in reviews]\n",
    "\n",
    "    # - spacing after .,-\n",
    "    # reviews = [re.sub(r'(?<=[.,-])(?=[^\\s])', r' ', line) for line in reviews]\n",
    "\n",
    "    # - standardising of lettering, e.g. cafe instead of café\n",
    "    reviews = [unidecode.unidecode(line) for line in reviews]\n",
    "    reviews = [unescape(line) for line in reviews]\n",
    "\n",
    "    # Expand contractions\n",
    "    reviews = [replace_contractions(line) for line in reviews]\n",
    "\n",
    "    # remove numbers and connected number units,\n",
    "    reviews = [remove_numbers(line) for line in reviews]\n",
    "\n",
    "    # remove multiple special characters expect !\n",
    "    reviews = [remove_punctuation(line) for line in reviews]\n",
    "\n",
    "    # lowercase, except all caps\n",
    "    reviews = [to_lowercase(line) for line in reviews]\n",
    "\n",
    "    reviews = [lemmatize_with_postag(line) for line in reviews]\n",
    "\n",
    "    # stopword removal\n",
    "    reviews = [remove_stopwords(line) for line in reviews]\n",
    "\n",
    "    # remove multiple white spaces\n",
    "    reviews = [remove_extra_whitespaces(line) for line in reviews]\n",
    "    return reviews\n",
    "\n",
    "reviews_clean = preprocess_reviews(df['reviewText'])\n",
    "# - tokenize into single words or n-grams (more than 3 times frequency)\n",
    "# - additional domain specific stopword list\n",
    "\n",
    "# print(vectorizer.get_stop_words())\n",
    "# stop_words = [\"i\", \"me\", \"you\"]\n",
    "# final_words = []\n",
    "# for word in vectorizer.get_feature_names():\n",
    "#     if word not in stop_words:\n",
    "#         final_words.append(word)"
   ],
   "metadata": {
    "collapsed": false,
    "pycharm": {
     "name": "#%%\n"
    }
   }
  },
  {
   "cell_type": "code",
   "execution_count": 289,
   "outputs": [
    {
     "data": {
      "text/plain": "['connect also jabra simple version disconnect device complaint except connect variety beep tell go sometimes beep somewhat confusing boo beep mean disconnect phone connect disconnected power signal voice prompt connect remove ambiguity good not good stream music disconnect interrupt music copy least annoying tendency make connected break connection phone time settle but _does_ settle eventually problem go away otherwise would star unacceptable speakerphone edit well no not give much hassle connect ipod turn take short drive today phone turn _never_ stop alternate connect disconnect think happen eventually start ignore phone entirely but show bluetooth connect ipod still stream music maybe copy receive never similar problem jabra use phone would think two product company would equally effective make keep bluetooth connection connect two device simultaneously advertised mention though connect ipod touch turn painful initial pairing work but connecting not eventually find turn bluetooth touch _sometimes_ result connection but often enough would drop connection immediately work bluetooth stream would drop second music every minute go back use jabra',\n 'buy replacement otterbox commuter frankly big ugly not hold well already stealth armor iphone one advertise tough armor protection _does_ offer smidge rubber corner would need micrometer measure comparison stealth but extra protection port remain expose although increase lightning opening accommodate thicker rd party cable small rubber button stealth replace large rectangular equivalent tough but really tough look tough but not really say tough stealth plastic outer still suffer scuffing stealth well really need improve coating thing apple cutout back nice touch however',\n 'device let u track key wallet thus answer perennial question leave key alternately use find phone suffer apparent total existence failure fire free trackr app tap ring device trackr fob chirp loudly press button trackr fob phone tablet app play tone bluetooth device not range fob not talk phone find disconnect foot pretty decent bluetooth find phone functionality work trackr app run background but _does_ run hard predict phone dump background task not run recently not assure still run also obviously no help phone not charge fob lose connection phone probably due distance give little chirp chirp pretty quiet though not think would notice besides play tone app locate trackr function show last known position device rather show phone last connected since trackr not gps anything like obviously not useful find trackr nearby since show _you_ intend case leave trackr somewhere like home maybe hotel room store crowd source track system someone else run trackr app walk fob get update location device rough edge no pair button fob way reset pairing remove battery fairly often not work experiment switch device fob fail pair least half dozen time io app not like run tablet function not work landscape orientation portrait lose connection either app close background get distant take reconnect bad android device test trackr nexus ipad everything work ipad several function not nexus show trackr location pull map but not show icon fob location press button fob not nexus play alarm even app run foreground io app permit track multiple fob but android version not way add second one neither app seem way forget device pair fob want pair one device switch back forth remove battery insert whichever device talk first connect one would search forever fob moderately large fob go x x little thicker something would want wallet time since get enough card keychain fob seem reasonable hole fit keyring easily not think battery consumption significant least not show meaningful draw battery usage summary nexus update update android app recently thought would give another go not find trackr fob use ipad app say connect tell make fob beep not hear anything pretty sure somewhere office since signal strength high']"
     },
     "execution_count": 289,
     "metadata": {},
     "output_type": "execute_result"
    }
   ],
   "source": [
    "[k for k in reviews_clean if ' he ' in k]\n",
    "# reviews_clean[82]"
   ],
   "metadata": {
    "collapsed": false,
    "pycharm": {
     "name": "#%%\n"
    }
   }
  },
  {
   "cell_type": "code",
   "execution_count": 276,
   "outputs": [
    {
     "data": {
      "text/plain": "\"first case look ok. fairly easy open etc good use extended battery but not really real protection extend battery drop mean sure cover black thin rubber outer housing but it.the little locking tab tab break easily especially open close inner case many time take phone proximity sensor yes confirm due design interfere proximity sensor test not face plate make call put phone close head still see screen go black.i test make call barley move front cover over\\\\near phone sensor activate shuts screen remove faceplate.the issue front top area face plate picture camera sensor ear speaker show longish round area one receive like rectangle type shape kind look like boat shape alone might sensor not work correctly.since item twenty dollar rather try modify case return it.over think ok case not really think bad could serve purpose would not try put drop test even upon call seller purchase tell not even drop test item sell it.i test front rear camera flash nothing case interfere camera's.i return item seller agreed take item back refund purchase price include shipping cost update later process.so not go bash seller item people may really like may work not work would give start face plate not interfere proximity sensor area front face plate match stock photo issue stock photo round\\\\ovalish one receive boat shape.the give basic phone case not interfere rear front camera 's belt holster seem pretty sturdy strong not seem like phone case easily pop not really difficult remove housing simply follow accommodate use extend screen protector work fine receive tight screen not find issue find near bottom little airy like but no issue use touch screen no problem one stick screen protector phone use conjunction faceplate screen protector use faceplate screen protector clear bother hd picture display seller quick reply email concern request return front face plate interfere proximity lock tab seem like sure break easily therefore not good idea constantly open close\\\\take phone no real padding\\\\protection extend battery except outer thin rubber housing not easily remove screen protector glue inside faceplate would cut screen protector faceplate not want use therefore void warranty\""
     },
     "execution_count": 276,
     "metadata": {},
     "output_type": "execute_result"
    }
   ],
   "source": [
    "def lemmatize_with_postag(sentence):\n",
    "    sent = TextBlob(sentence)\n",
    "    tag_dict = {\"J\": 'a',\n",
    "                \"N\": 'n',\n",
    "                \"V\": 'v',\n",
    "                \"R\": 'r'}\n",
    "    words_and_tags = [(w, tag_dict.get(pos[0], 'n')) for w, pos in sent.tags]\n",
    "    lemmatized_list = [wd.lemmatize(tag) for wd, tag in words_and_tags]\n",
    "    return \" \".join(lemmatized_list)\n",
    "\n",
    "# Lemmatize\n",
    "sentence='first, case looks ok. fairly easy open, etc . good using extended battery but not really real protection extended battery drop . mean sure, covered black thin rubber outer housing but it.the little locking tabs . tabs break easily especially open close inner case many times (take phone) proximity sensor - yes, confirmed due design, interfere proximity sensor . tested not face plate, making call putting phone close head still see screen go black.i tested making call barley moving front cover over\\\\near phone sensor activates shuts screen remove faceplate.the issue, front top area face plate . pictures, camera, sensors ear speaker, shows longish round area . one received like rectangle type shape . kind looks like boat shape . alone might sensor not working correctly.since item twenty dollars, rather trying modify case, returning it.over, think ok case not really think bad . could serve purpose . would not try putting drop test . even upon calling seller purchased, told not even drop test item selling it.i test front rear camera flash nothing case interferes camera\\'s.i returning item seller agreed take item back refund purchase price including shipping costs . update later process.so, , not going bash seller item people may really like may work . not work . would given starts face plate not interfere proximity sensors area front face plate matched stock photo . issue, stock photo, round\\\\ovalish . one received boat shape.the give basic phone . case not interfere rear front camera\\'s belt holster seems pretty sturdy strong . not seem like phone case easily pop not really difficult remove housing simply follow accommodate use extended screen protector works fine . received``tight screen\". not find issue . find near bottom little airy like but no issues using touch screen no problems one stick screen protectors phone use conjunction faceplate screen protector . used faceplate screen protector clear bother hd picture display seller quick reply email, concerns request return front face plate interfere proximity locking tabs seem like sure break easily . therefore not good idea constantly open close\\\\take phone no real padding\\\\protection extended battery except outer thin rubber housing not easily remove screen protector glued inside faceplate . would cut screen protector faceplate not want use . therefore voiding warranty.'\n",
    "lemmatize_with_postag(sentence)"
   ],
   "metadata": {
    "collapsed": false,
    "pycharm": {
     "name": "#%%\n"
    }
   }
  },
  {
   "cell_type": "code",
   "execution_count": 290,
   "outputs": [],
   "source": [
    "# Feature Generation & Selection\n",
    "# ignore too infrequent words, e.g. vectorizer = CountVectorizer(min_df=30)\n",
    "# POS  only adjectives and nouns and verbs?\n",
    "\n",
    "# corpus = df.loc[:5]['reviewText']\n",
    "# corpus = df['reviewText']    # das funktioniert nicht aufgrund des zu großen Arraya\n",
    "corpus = reviews_clean\n",
    "# corpus = data[data['overall']==1]['reviewText']\n",
    "# print(corpus)"
   ],
   "metadata": {
    "collapsed": false,
    "pycharm": {
     "name": "#%%\n"
    }
   }
  },
  {
   "cell_type": "code",
   "execution_count": 336,
   "outputs": [
    {
     "name": "stdout",
     "output_type": "stream",
     "text": [
      "52528\n"
     ]
    }
   ],
   "source": [
    "# vectorizer = CountVectorizer(ngram_range=(1,2), min_df=100)\n",
    "\n",
    "vectorizer = CountVectorizer(ngram_range=(1,3), min_df=30)\n",
    "X = vectorizer.fit_transform(corpus)\n",
    "vocab = vectorizer.get_feature_names()\n",
    "print(len(vocab))\n",
    "# 43792 at min_df =50\n",
    "# 24484 at min_df =100"
   ],
   "metadata": {
    "collapsed": false,
    "pycharm": {
     "name": "#%%\n"
    }
   }
  },
  {
   "cell_type": "code",
   "execution_count": 338,
   "outputs": [
    {
     "name": "stdout",
     "output_type": "stream",
     "text": [
      "['actually good', 'actually pretty good', 'adapter good', 'add good', 'allow good', 'almost good', 'already good', 'also good', 'also look good', 'although good', 'always good', 'amazon good', 'android good', 'another good', 'anyone look good', 'anything good', 'appear good', 'area good', 'around good', 'arrive good', 'arrive time good', 'ask good', 'audio quality good', 'away good', 'back good', 'bad good', 'base good', 'bass good', 'battery good', 'battery life good', 'battery not good', 'battery pack good', 'battery work good', 'believe good', 'big good', 'bit good', 'bluetooth good', 'box good', 'break good', 'build good', 'build quality good', 'bulky good', 'but could good', 'but far good', 'but get good', 'but good', 'but good case', 'but good enough', 'but good price', 'but good product', 'but good quality', 'but good thing', 'but look good', 'but much good', 'but not good', 'but overall good', 'but pretty good', 'but price good', 'but really good', 'but seem good', 'but sound good', 'but still good', 'but work good', 'button good', 'buy good', 'buy good price', 'cable good', 'call good', 'call quality good', 'camera good', 'car good', 'card good', 'case but good', 'case feel good', 'case fit good', 'case give good', 'case good', 'case good but', 'case good case', 'case good fit', 'case good grip', 'case good job', 'case good look', 'case good price', 'case good protection', 'case good quality', 'case look good', 'case much good', 'case not good', 'case offer good', 'case pretty good', 'case provide good', 'case really good', 'cell phone good', 'certainly good', 'charge good', 'charger good', 'charger work good', 'cheap good', 'clarity good', 'clean good', 'clear good', 'clip good', 'color good', 'color look good', 'come good', 'comfortable good', 'company good', 'connection good', 'consider good', 'construction good', 'cord good', 'cost good', 'could good', 'could good but', 'cover good', 'customer service good', 'cute good', 'cutout good', 'damn good', 'darn good', 'day good', 'deal good', 'definitely good', 'deliver good', 'design good', 'device good', 'drop good', 'durable good', 'ear good', 'easily good', 'easy good', 'easy install good', 'easy use good', 'else good', 'end good', 'enough good', 'enough good thing', 'especially good', 'etc good', 'even good', 'everything good', 'excellent good', 'expect good', 'experience good', 'extremely good', 'fairly good', 'far good', 'far good no', 'far good not', 'fast good', 'feature good', 'feel good', 'feel good hand', 'feel good hold', 'feel good not', 'feel good touch', 'feel like good', 'feel much good', 'feel really good', 'feels good', 'felt good', 'find good', 'find good case', 'find good one', 'fine good', 'finish good', 'first good', 'fit finish good', 'fit good', 'fit good but', 'fit look good', 'fit much good', 'fit phone good', 'fit pretty good', 'fit really good', 'fit well good', 'function good', 'galaxy good', 'generally good', 'get good', 'get good battery', 'get good case', 'get good deal', 'get good fit', 'get good grip', 'get good one', 'get good price', 'get good quality', 'get good reception', 'get good review', 'get good signal', 'get good sound', 'get much good', 'get really good', 'give good', 'give good grip', 'give good protection', 'give phone good', 'go good', 'good', 'good able', 'good access', 'good accessory', 'good actually', 'good add', 'good addition', 'good almost', 'good also', 'good alternative', 'good although', 'good always', 'good amount', 'good amount protection', 'good amount time', 'good android', 'good angle', 'good another', 'good anything', 'good apple', 'good apps', 'good around', 'good audio', 'good audio quality', 'good average', 'good back', 'good backup', 'good bad', 'good bad thing', 'good balance', 'good bargain', 'good basic', 'good bass', 'good battery', 'good battery life', 'good best', 'good big', 'good bit', 'good black', 'good bluetooth', 'good bluetooth headset', 'good brand', 'good build', 'good build quality', 'good bumper', 'good but', 'good but not', 'good but one', 'good but still', 'good but would', 'good button', 'good buy', 'good buy price', 'good cable', 'good call', 'good call quality', 'good camera', 'good capacity', 'good car', 'good car charger', 'good care', 'good carry', 'good case', 'good case but', 'good case fit', 'good case good', 'good case look', 'good case money', 'good case not', 'good case phone', 'good case price', 'good case protect', 'good case would', 'good cell', 'good cell phone', 'good chance', 'good charge', 'good charge phone', 'good charger', 'good cheap', 'good choice', 'good clarity', 'good clean', 'good clear', 'good clip', 'good color', 'good come', 'good comfortable', 'good company', 'good compare', 'good compromise', 'good condition', 'good connection', 'good consider', 'good construction', 'good contact', 'good control', 'good cord', 'good could', 'good couple', 'good cover', 'good coverage', 'good customer', 'good customer service', 'good cut', 'good day', 'good deal', 'good deal price', 'good decent', 'good definitely', 'good design', 'good device', 'good distance', 'good drop', 'good drop protection', 'good durable', 'good ear', 'good easy', 'good easy use', 'good either', 'good emergency', 'good end', 'good enough', 'good especially', 'good even', 'good even though', 'good everything', 'good excellent', 'good except', 'good expect', 'good expensive', 'good experience', 'good extra', 'good fact', 'good far', 'good feature', 'good feel', 'good feel good', 'good feel hand', 'good feeling', 'good find', 'good finger', 'good first', 'good fit', 'good fit good', 'good fit not', 'good fit phone', 'good fit well', 'good fitting', 'good foot', 'good friend', 'good full', 'good functionality', 'good galaxy', 'good get', 'good give', 'good go', 'good good', 'good great', 'good grip', 'good grip not', 'good grip phone', 'good hand', 'good hand not', 'good happy', 'good hard', 'good headphone', 'good headset', 'good hear', 'good high', 'good highly', 'good highly recommend', 'good hold', 'good hold phone', 'good hour', 'good however', 'good htc', 'good idea', 'good idea but', 'good inexpensive', 'good instruction', 'good investment', 'good iphone', 'good item', 'good job', 'good job keep', 'good job protect', 'good keep', 'good know', 'good last', 'good least', 'good length', 'good less', 'good level', 'good life', 'good light', 'good like', 'good listen', 'good little', 'good long', 'good long time', 'good look', 'good look case', 'good look good', 'good look great', 'good look like', 'good look phone', 'good lot', 'good love', 'good low', 'good luck', 'good make', 'good many', 'good match', 'good material', 'good maybe', 'good mic', 'good microphone', 'good money', 'good month', 'good motorola', 'good mount', 'good much', 'good music', 'good need', 'good never', 'good new', 'good news', 'good nice', 'good no', 'good no complaint', 'good no problem', 'good noise', 'good noise cancellation', 'good non', 'good not', 'good not good', 'good not great', 'good note', 'good nothing', 'good oem', 'good oem battery', 'good offer', 'good old', 'good one', 'good one come', 'good one get', 'good one not', 'good option', 'good order', 'good original', 'good original battery', 'good others', 'good otter', 'good otter box', 'good otterbox', 'good overall', 'good packaging', 'good pair', 'good part', 'good pay', 'good people', 'good performance', 'good person', 'good phone', 'good phone but', 'good phone case', 'good phone not', 'good photo', 'good picture', 'good piece', 'good place', 'good plantronics', 'good plastic', 'good play', 'good plug', 'good point', 'good power', 'good pretty', 'good previous', 'good price', 'good price but', 'good price get', 'good price good', 'good price great', 'good price not', 'good price point', 'good price work', 'good price would', 'good probably', 'good problem', 'good product', 'good product but', 'good product good', 'good product great', 'good product not', 'good product price', 'good product work', 'good product would', 'good protect', 'good protect phone', 'good protection', 'good protection but', 'good protection case', 'good protection drop', 'good protection good', 'good protection iphone', 'good protection not', 'good protection phone', 'good protection without', 'good protective', 'good protective case', 'good protector', 'good protects', 'good provide', 'good purchase', 'good put', 'good quality', 'good quality but', 'good quality cable', 'good quality case', 'good quality easy', 'good quality fit', 'good quality good', 'good quality great', 'good quality look', 'good quality material', 'good quality not', 'good quality one', 'good quality price', 'good quality product', 'good quality screen', 'good quality sound', 'good quality well', 'good quality work', 'good quality would', 'good range', 'good rating', 'good really', 'good reason', 'good reception', 'good recommend', 'good regular', 'good reliable', 'good replacement', 'good result', 'good review', 'good right', 'good rubber', 'good samsung', 'good say', 'good scratch', 'good screen', 'good screen protection', 'good screen protector', 'good seal', 'good second', 'good see', 'good seem', 'good seller', 'good service', 'good set', 'good shape', 'good shipping', 'good shock', 'good side', 'good sign', 'good signal', 'good simple', 'good since', 'good size', 'good slim', 'good small', 'good snug', 'good soft', 'good solid', 'good solution', 'good someone', 'good something', 'good sound', 'good sound good', 'good sound not', 'good sound quality', 'good spare', 'good speaker', 'good stand', 'good standard', 'good start', 'good stay', 'good still', 'good stock', 'good strong', 'good stuff', 'good sturdy', 'good sturdy case', 'good stylus', 'good suction', 'good take', 'good talk', 'good test', 'good texture', 'good thanks', 'good thing', 'good thing case', 'good thing come', 'good thing not', 'good thing phone', 'good thing say', 'good think', 'good think would', 'good though', 'good tight', 'good time', 'good touch', 'good travel', 'good true', 'good try', 'good two', 'good unit', 'good update', 'good usb', 'good use', 'good use phone', 'good value', 'good value money', 'good value price', 'good view', 'good voice', 'good volume', 'good want', 'good way', 'good wear', 'good week', 'good weight', 'good well', 'good white', 'good white iphone', 'good wife', 'good wired', 'good wish', 'good without', 'good word', 'good work', 'good work well', 'good would', 'good would expect', 'good would not', 'good would recommend', 'good year', 'good yet', 'good zagg', 'goodbye', 'goodness', 'goody', 'great case good', 'great good', 'great look good', 'great price good', 'great product good', 'grip good', 'guess good', 'hand good', 'happy good', 'hard find good', 'headphone good', 'headset good', 'hear good', 'help good', 'hold good', 'hold good charge', 'holster good', 'hope good', 'hour good', 'however good', 'include good', 'install good', 'ipad good', 'iphone good', 'issue good', 'item good', 'job good', 'keep good', 'keep good work', 'know good', 'lack good', 'last good', 'least good', 'less good', 'life good', 'life pretty good', 'light good', 'like good', 'like good idea', 'like good quality', 'like much good', 'like one good', 'line good', 'little good', 'little good but', 'long good', 'look feel good', 'look good', 'look good black', 'look good but', 'look good case', 'look good feel', 'look good fit', 'look good not', 'look good phone', 'look good picture', 'look good price', 'look good protect', 'look good protection', 'look good quality', 'look good well', 'look good white', 'look good work', 'look like good', 'look much good', 'look pretty good', 'look really good', 'looks good', 'lot good', 'loud good', 'love case good', 'love good', 'maintain good', 'make good', 'make good choice', 'make good material', 'make good product', 'make good quality', 'make look good', 'many good', 'material good', 'may good', 'maybe good', 'mean good', 'might good', 'model good', 'money good', 'month good', 'mount good', 'much good', 'much good but', 'much good case', 'much good expect', 'much good job', 'much good not', 'much good old', 'much good one', 'much good option', 'much good phone', 'much good previous', 'much good price', 'much good product', 'much good protection', 'much good quality', 'much good sound', 'much good use', 'much much good', 'music good', 'music sound good', 'must good', 'nearly good', 'need good', 'never good', 'nice feel good', 'nice good', 'no good', 'no problem good', 'not ask good', 'not feel good', 'not find good', 'not get good', 'not good', 'not good but', 'not good case', 'not good choice', 'not good enough', 'not good fit', 'not good idea', 'not good job', 'not good not', 'not good one', 'not good original', 'not good phone', 'not good product', 'not good quality', 'not good thing', 'not good would', 'not know good', 'not look good', 'not make good', 'not much good', 'not nearly good', 'not quite good', 'not really good', 'not sound good', 'not sure good', 'not think good', 'not work good', 'note good', 'offer good', 'offer good protection', 'ok good', 'one good', 'one good one', 'one good thing', 'one look good', 'one much good', 'one not good', 'opinion good', 'order good', 'others good', 'otherwise good', 'otterbox good', 'overall good', 'overall good buy', 'overall good case', 'overall good product', 'overall pretty good', 'overall think good', 'pack good', 'package good', 'packaging good', 'pair good', 'part good', 'pay good', 'pen good', 'perfect good', 'perfectly good', 'perfectly look good', 'perform good', 'performance good', 'phone but good', 'phone case good', 'phone feel good', 'phone good', 'phone good but', 'phone good price', 'phone look good', 'phone much good', 'phone not good', 'phone pretty good', 'phone really good', 'phone work good', 'picture good', 'place good', 'plastic good', 'plug good', 'pocket good', 'point good', 'port good', 'pretty darn good', 'pretty good', 'pretty good but', 'pretty good case', 'pretty good deal', 'pretty good job', 'pretty good not', 'pretty good phone', 'pretty good price', 'pretty good product', 'pretty good protection', 'pretty good quality', 'pretty good sound', 'price good', 'price good but', 'price good buy', 'price good deal', 'price good product', 'price good quality', 'price pretty good', 'price really good', 'pro good', 'probably good', 'problem good', 'produce good', 'product good', 'product good price', 'product good quality', 'product look good', 'product not good', 'promise good', 'protect good', 'protect phone good', 'protection good', 'protector good', 'protector not good', 'provide good', 'provide good grip', 'provide good protection', 'purchase good', 'put good', 'quality good', 'quality good but', 'quality good not', 'quality good price', 'quality much good', 'quality not good', 'quality pretty good', 'quality product good', 'quality quite good', 'quality really good', 'quality seem good', 'quality sound good', 'quickly good', 'quite good', 'range good', 'read good', 'real good', 'really good', 'really good but', 'really good case', 'really good deal', 'really good hand', 'really good job', 'really good look', 'really good not', 'really good phone', 'really good price', 'really good product', 'really good quality', 'really good screen', 'really good sound', 'reasonably good', 'receive good', 'reception good', 'recommend good', 'review good', 'right good', 'say enough good', 'say good', 'scratch good', 'screen good', 'screen look good', 'screen protector good', 'search good', 'see good', 'seem good', 'seem good quality', 'seem like good', 'seem pretty good', 'seem work good', 'sell good', 'seller good', 'service good', 'set good', 'shipping good', 'show good', 'side good', 'since good', 'size good', 'slightly good', 'slim good', 'small good', 'solid good', 'something good', 'sound good', 'sound good but', 'sound good not', 'sound much good', 'sound not good', 'sound pretty good', 'sound quality good', 'sound really good', 'speaker good', 'spend good', 'stand good', 'star good', 'stay good', 'stick good', 'still good', 'still good case', 'still look good', 'still pretty good', 'sturdy good', 'stylus good', 'suppose good', 'sure good', 'surprisingly good', 'tablet good', 'take good', 'take good care', 'take good picture', 'tell good', 'thank goodness', 'thin good', 'thing good', 'think good', 'think good product', 'think would good', 'though good', 'time good', 'time good condition', 'touch good', 'try good', 'turn good', 'unit good', 'use good', 'value good', 'volume good', 'want good', 'way good', 'weight good', 'well good', 'well look good', 'well make good', 'well not good', 'wish good', 'work fine good', 'work good', 'work good but', 'work good not', 'work good original', 'work great good', 'work much good', 'work pretty good', 'work really good', 'work well good', 'would good', 'would good but', 'would good choice', 'would like good', 'would make good', 'would much good', 'would not good', 'would say good', 'year good', 'yet good']\n"
     ]
    }
   ],
   "source": [
    "matching = [s for s in vocab if \"good\" in s]\n",
    "print(matching)"
   ],
   "metadata": {
    "collapsed": false,
    "pycharm": {
     "name": "#%%\n"
    }
   }
  },
  {
   "cell_type": "code",
   "execution_count": 337,
   "outputs": [
    {
     "name": "stdout",
     "output_type": "stream",
     "text": [
      "['aa', 'aa battery', 'aaa', 'aaa battery', 'ab', 'abandon', 'abco', 'ability', 'ability change', 'ability charge']\n"
     ]
    }
   ],
   "source": [
    "print(vocab[:10])"
   ],
   "metadata": {
    "collapsed": false,
    "pycharm": {
     "name": "#%%\n"
    }
   }
  },
  {
   "cell_type": "code",
   "execution_count": 38,
   "outputs": [
    {
     "data": {
      "text/plain": "(194439, 3506)"
     },
     "execution_count": 38,
     "metadata": {},
     "output_type": "execute_result"
    }
   ],
   "source": [
    "# MemoryError\n",
    "X.shape\n",
    "content = X.toarray()\n",
    "print(content)\n",
    "print(type(X))\n",
    "df = pd.DataFrame(data= X.toarray(), columns=vocab)\n"
   ],
   "metadata": {
    "collapsed": false,
    "pycharm": {
     "name": "#%%\n"
    }
   }
  },
  {
   "cell_type": "code",
   "execution_count": null,
   "outputs": [],
   "source": [
    "uni_vect = CountVectorizer(analyzer='word')\n",
    "bi_vect = CountVectorizer(ngram_range=(2,2))\n",
    "tri_vect = CountVectorizer(ngram_range=(3,3))\n",
    "dict = {}\n",
    "\n",
    "class Switcher(object):\n",
    "    def vec(self,i):\n",
    "        method_name = 'vec_' + str(i)\n",
    "        method = getattr(self,method_name,lambda :'Invalid')\n",
    "        return method()\n",
    "    def vec_1(self):\n",
    "        uni_vect.fit_transform(e)\n",
    "        X = uni_vect.transform(corpus)\n",
    "        return X\n",
    "    def vec_2(self):\n",
    "        bi_vect.fit_transform(e)\n",
    "        X = bi_vect.transform(corpus)\n",
    "        return X\n",
    "    def vec_3(self):\n",
    "        tri_vect.fit_transform(e)\n",
    "        X = tri_vect.transform(corpus)\n",
    "        return X\n",
    "s = Switcher()\n",
    "# prob = vocab[:10]\n",
    "for e in vocab:\n",
    "    length = len(e.split())\n",
    "    e = [e]\n",
    "    X = s.vec(length)\n",
    "    list_of_lists = X.toarray().tolist()\n",
    "    c = [val for sublist in list_of_lists for val in sublist]\n",
    "    correlation, p_value = pearsonr(c, l)\n",
    "    # print(e, \" : \", str(correlation))\n",
    "    dict[e[0]] = correlation"
   ],
   "metadata": {
    "collapsed": false,
    "pycharm": {
     "name": "#%%\n",
     "is_executing": true
    }
   }
  },
  {
   "cell_type": "code",
   "execution_count": null,
   "outputs": [],
   "source": [
    "{k: v for k, v in sorted(dict.items(), key=lambda item: item[1])}"
   ],
   "metadata": {
    "collapsed": false,
    "pycharm": {
     "name": "#%%\n",
     "is_executing": true
    }
   }
  },
  {
   "cell_type": "code",
   "execution_count": null,
   "outputs": [],
   "source": [
    "amount_of_features = 5000\n",
    "sorted_dict = {k: v for k, v in sorted(dict.items(), key=lambda item: item[1])}\n",
    "els = list(sorted_dict.items())\n",
    "new_vocab = list(sorted_dict.keys())[-amount_of_features:]\n",
    "print(new_vocab)"
   ],
   "metadata": {
    "collapsed": false,
    "pycharm": {
     "name": "#%%\n",
     "is_executing": true
    }
   }
  },
  {
   "cell_type": "code",
   "execution_count": null,
   "outputs": [],
   "source": [
    "# 10 Features with lowest Correlation to the Label\n",
    "els[10:]"
   ],
   "metadata": {
    "collapsed": false,
    "pycharm": {
     "name": "#%%\n",
     "is_executing": true
    }
   }
  },
  {
   "cell_type": "code",
   "execution_count": null,
   "outputs": [],
   "source": [
    "# 10 Features with highest Correlation to the Label\n",
    "els[-10:]\n"
   ],
   "metadata": {
    "collapsed": false,
    "pycharm": {
     "name": "#%%\n",
     "is_executing": true
    }
   }
  },
  {
   "cell_type": "code",
   "execution_count": 245,
   "outputs": [
    {
     "data": {
      "text/plain": "0.01847548316904673"
     },
     "execution_count": 245,
     "metadata": {},
     "output_type": "execute_result"
    }
   ],
   "source": [
    "from scipy.stats import pearsonr\n",
    "np.corrcoef(c,l)[1,0]\n",
    "\n"
   ],
   "metadata": {
    "collapsed": false,
    "pycharm": {
     "name": "#%%\n"
    }
   }
  },
  {
   "cell_type": "code",
   "execution_count": null,
   "outputs": [],
   "source": [
    "# eliminate all the words which are not part of the new vocab.\n",
    "# or use the new vocab\n",
    "## order by frequency?"
   ],
   "metadata": {
    "collapsed": false,
    "pycharm": {
     "name": "#%%\n"
    }
   }
  },
  {
   "cell_type": "code",
   "execution_count": 20,
   "outputs": [
    {
     "name": "stdout",
     "output_type": "stream",
     "text": [
      "00           False\n",
      "00 for       False\n",
      "000          False\n",
      "000 mah      False\n",
      "000mah       False\n",
      "             ...  \n",
      "zero         False\n",
      "zerolemon    False\n",
      "zip          False\n",
      "zone         False\n",
      "zoom         False\n",
      "Length: 24484, dtype: bool\n"
     ]
    }
   ],
   "source": [
    "print(df)"
   ],
   "metadata": {
    "collapsed": false,
    "pycharm": {
     "name": "#%%\n"
    }
   }
  },
  {
   "cell_type": "code",
   "execution_count": null,
   "outputs": [],
   "source": [
    "df['char_count'] = df['reviewText'].apply(lambda review: len(review))\n",
    "vectorizer = CountVectorizer()\n",
    "vectorizer.fit(df['reviewText'])\n",
    "df['word_vec'] = df['reviewText'].apply(lambda review: vectorizer.transform(review))"
   ],
   "metadata": {
    "collapsed": false,
    "pycharm": {
     "name": "#%%\n"
    }
   }
  },
  {
   "cell_type": "code",
   "execution_count": 52,
   "outputs": [
    {
     "name": "stdout",
     "output_type": "stream",
     "text": [
      "{'very', \"isn't\", 'about', \"wasn't\", 'you', 'were', 'does', 'i', 'theirs', 'while', 'then', 'has', 'nor', 'our', \"don't\", 'from', 'in', 'herself', 'haven', \"that'll\", 'how', 'them', \"didn't\", 'of', \"should've\", 'me', \"hadn't\", 'being', 'but', 'this', 'she', 'my', 't', 'hers', 'into', \"mustn't\", 'aren', 'will', 'any', 'a', 'hadn', 'shan', \"you'll\", \"it's\", 'after', 'too', 'his', 'down', 'do', \"weren't\", 'most', 'before', 'won', 'off', 'have', 'weren', 'o', 're', 'and', 'same', 'mustn', 'wouldn', \"she's\", 'which', \"couldn't\", 'under', 'hasn', \"you're\", 'only', \"hasn't\", 'll', 've', 'yourselves', 'now', 'again', 'doing', 'own', 'ma', \"won't\", 'through', 'such', 'just', 'it', 'needn', 'out', \"needn't\", 'him', 'or', 'why', 'few', 'y', 'above', 'had', 'did', 'at', 'shouldn', 'himself', 'for', 'both', 'those', \"you've\", 'don', 'whom', \"shan't\", \"wouldn't\", 'was', 'where', \"shouldn't\", \"haven't\", 'if', 'no', 'mightn', 'these', 'they', 'is', 'what', 'between', \"you'd\", 'am', 'because', 'that', 'than', 'there', \"mightn't\", 's', 'should', 'itself', 'couldn', 'its', 'with', 'as', 'until', 'can', 'here', \"aren't\", 'isn', 'the', 'against', 'ain', \"doesn't\", 'below', 'we', 'who', 'd', 'her', 'some', 'up', 'over', 'myself', 'ours', 'doesn', 'having', 'all', 'themselves', 'their', 'been', 'further', 'once', 'each', 'be', 'during', 'to', 'ourselves', 'not', 'm', 'didn', 'yourself', 'on', 'your', 'are', 'he', 'when', 'more', 'so', 'by', 'other', 'an', 'yours', 'wasn'}\n"
     ]
    }
   ],
   "source": [
    "from nltk.corpus import stopwords\n",
    "stop_words = set(stopwords.words('english'))\n",
    "print(stop_words)"
   ],
   "metadata": {
    "collapsed": false,
    "pycharm": {
     "name": "#%%\n"
    }
   }
  },
  {
   "cell_type": "code",
   "execution_count": null,
   "outputs": [],
   "source": [
    "df.loc[2]['word_vec']"
   ],
   "metadata": {
    "collapsed": false,
    "pycharm": {
     "name": "#%%\n"
    }
   }
  },
  {
   "cell_type": "code",
   "execution_count": null,
   "outputs": [],
   "source": [
    "ratings = ['1.0', '2.0', '3.0', '4.0', '5.0']\n",
    "for r in ratings:\n",
    "    print(r)"
   ],
   "metadata": {
    "collapsed": false,
    "pycharm": {
     "name": "#%%\n"
    }
   }
  },
  {
   "cell_type": "code",
   "execution_count": null,
   "outputs": [],
   "source": [
    "# Oversampling the text and target and put them into a new df\n",
    "# RandomOvesampler und UNdersampler do only work in feature spaces -> manually composing the undersampling\n",
    "# Unterteilen in Klassen -> von jeder Klasse nur 90000 random\n",
    "# data.describe()\n",
    "df_1 = data[data['overall']==1.0].values.tolist()\n",
    "df_2 = data[data['overall']==2.0].values.tolist()\n",
    "df_3 = data[data['overall']==3.0].values.tolist()\n",
    "df_4 = data[data['overall']==4.0].values.tolist()\n",
    "df_5 = data[data['overall']==5.0].values.tolist()\n",
    "print(len(df_1),len(df_2), len(df_3), len(df_4), len(df_5))\n",
    "print(type(df_1))\n",
    "# data = random.sample(data, 200000)"
   ],
   "metadata": {
    "collapsed": false,
    "pycharm": {
     "name": "#%%\n"
    }
   }
  },
  {
   "cell_type": "code",
   "execution_count": 64,
   "outputs": [],
   "source": [
    "import random\n",
    "df1 = random.sample(df_1, 90000)\n",
    "df2 = random.sample(df_2, 90000)\n",
    "df3 = random.sample(df_3, 90000)\n",
    "df4 = random.sample(df_4, 90000)\n",
    "df5 = random.sample(df_5, 90000)\n",
    "anh = pd.DataFrame.from_dict(df1)"
   ],
   "metadata": {
    "collapsed": false,
    "pycharm": {
     "name": "#%%\n"
    }
   }
  },
  {
   "cell_type": "code",
   "execution_count": 71,
   "outputs": [
    {
     "data": {
      "text/plain": "                0           1                    2        3  \\\n0  A2FL0EKQ2EQ9E6  0790743221  a viewer \"a viewer\"  [9, 67]   \n1  A3HM5G9IV1FTFP  B000FS9UK8         Douglas King   [3, 7]   \n2   A4Z9NHOW5LT0M  B000EHQTT0                  JoB   [0, 0]   \n3  A30Q6TIQMXGATR  B000056T5E                pablo   [2, 4]   \n4  A207IYGZTAF0DS  B0001CVB0U        NoWireHangers   [1, 8]   \n\n                                                   4    5  \\\n0  First let me say this: I AM NOT A KATHARINE HE...  1.0   \n1  I loved the original \"Basic Instinct\". Sure, i...  1.0   \n2  The movie starts off super slow and basically ...  1.0   \n3  here we are to rate this sort of horror film.i...  1.0   \n4  From the description of this movie, it sounds ...  1.0   \n\n                                        6           7            8  \n0                        OVERRATED FILM!!  1091577600   08 4, 2004  \n1                           What a shame!  1144022400   04 3, 2006  \n2                             Really Bad!  1384819200  11 19, 2013  \n3                               horrible!  1002240000   10 5, 2001  \n4  Very bad movie. Not what you expected.  1151193600  06 25, 2006  ",
      "text/html": "<div>\n<style scoped>\n    .dataframe tbody tr th:only-of-type {\n        vertical-align: middle;\n    }\n\n    .dataframe tbody tr th {\n        vertical-align: top;\n    }\n\n    .dataframe thead th {\n        text-align: right;\n    }\n</style>\n<table border=\"1\" class=\"dataframe\">\n  <thead>\n    <tr style=\"text-align: right;\">\n      <th></th>\n      <th>0</th>\n      <th>1</th>\n      <th>2</th>\n      <th>3</th>\n      <th>4</th>\n      <th>5</th>\n      <th>6</th>\n      <th>7</th>\n      <th>8</th>\n    </tr>\n  </thead>\n  <tbody>\n    <tr>\n      <th>0</th>\n      <td>A2FL0EKQ2EQ9E6</td>\n      <td>0790743221</td>\n      <td>a viewer \"a viewer\"</td>\n      <td>[9, 67]</td>\n      <td>First let me say this: I AM NOT A KATHARINE HE...</td>\n      <td>1.0</td>\n      <td>OVERRATED FILM!!</td>\n      <td>1091577600</td>\n      <td>08 4, 2004</td>\n    </tr>\n    <tr>\n      <th>1</th>\n      <td>A3HM5G9IV1FTFP</td>\n      <td>B000FS9UK8</td>\n      <td>Douglas King</td>\n      <td>[3, 7]</td>\n      <td>I loved the original \"Basic Instinct\". Sure, i...</td>\n      <td>1.0</td>\n      <td>What a shame!</td>\n      <td>1144022400</td>\n      <td>04 3, 2006</td>\n    </tr>\n    <tr>\n      <th>2</th>\n      <td>A4Z9NHOW5LT0M</td>\n      <td>B000EHQTT0</td>\n      <td>JoB</td>\n      <td>[0, 0]</td>\n      <td>The movie starts off super slow and basically ...</td>\n      <td>1.0</td>\n      <td>Really Bad!</td>\n      <td>1384819200</td>\n      <td>11 19, 2013</td>\n    </tr>\n    <tr>\n      <th>3</th>\n      <td>A30Q6TIQMXGATR</td>\n      <td>B000056T5E</td>\n      <td>pablo</td>\n      <td>[2, 4]</td>\n      <td>here we are to rate this sort of horror film.i...</td>\n      <td>1.0</td>\n      <td>horrible!</td>\n      <td>1002240000</td>\n      <td>10 5, 2001</td>\n    </tr>\n    <tr>\n      <th>4</th>\n      <td>A207IYGZTAF0DS</td>\n      <td>B0001CVB0U</td>\n      <td>NoWireHangers</td>\n      <td>[1, 8]</td>\n      <td>From the description of this movie, it sounds ...</td>\n      <td>1.0</td>\n      <td>Very bad movie. Not what you expected.</td>\n      <td>1151193600</td>\n      <td>06 25, 2006</td>\n    </tr>\n  </tbody>\n</table>\n</div>"
     },
     "execution_count": 71,
     "metadata": {},
     "output_type": "execute_result"
    }
   ],
   "source": [
    "anh.head()"
   ],
   "metadata": {
    "collapsed": false,
    "pycharm": {
     "name": "#%%\n"
    }
   }
  },
  {
   "cell_type": "code",
   "execution_count": null,
   "outputs": [],
   "source": [
    "df = pd.concat([text[:50000], text[:50000]], axis=1)\n",
    "print(df.shape)\n",
    "df.columns=['count', 'tfidf']\n",
    "print(df.describe())\n",
    "mapper = DataFrameMapper([\n",
    "    ('count', CountVectorizer()),\n",
    "    ('tfidf', TfidfVectorizer())\n",
    "])\n"
   ],
   "metadata": {
    "collapsed": false,
    "pycharm": {
     "name": "#%%\n"
    }
   }
  },
  {
   "cell_type": "code",
   "execution_count": 6,
   "metadata": {
    "ExecuteTime": {
     "end_time": "2020-09-05T07:26:22.307346Z",
     "start_time": "2020-09-05T07:26:22.122680Z"
    }
   },
   "outputs": [
    {
     "name": "stdout",
     "output_type": "stream",
     "text": [
      "<class 'pandas.core.frame.DataFrame'>\n",
      "RangeIndex: 50000 entries, 0 to 49999\n",
      "Data columns (total 2 columns):\n",
      "count    50000 non-null object\n",
      "tfidf    50000 non-null object\n",
      "dtypes: object(2)\n",
      "memory usage: 98.8 MB\n"
     ]
    }
   ],
   "source": [
    "df.info(memory_usage='deep')"
   ]
  },
  {
   "cell_type": "code",
   "execution_count": null,
   "metadata": {},
   "outputs": [],
   "source": [
    "features = mapper.fit_transform(df)"
   ]
  },
  {
   "cell_type": "code",
   "execution_count": null,
   "metadata": {
    "pycharm": {
     "name": "#%%\n"
    }
   },
   "outputs": [],
   "source": [
    "REPLACE_NO_SPACE = re.compile(\"(\\.)|(\\;)|(\\:)|(\\!)|(\\')|(\\?)|(\\,)|(\\\")|(\\()|(\\))|(\\[)|(\\])|(\\d+)\")\n",
    "REPLACE_WITH_SPACE = re.compile(\"(<br\\s*/><br\\s*/>)|(\\-)|(\\/)\")\n",
    "NO_SPACE = \"\"\n",
    "SPACE = \" \"\n",
    "def preprocess_reviews(reviews):\n",
    "    reviews = [REPLACE_NO_SPACE.sub(NO_SPACE, line.lower()) for line in reviews]\n",
    "    reviews = [REPLACE_WITH_SPACE.sub(SPACE, line) for line in reviews]\n",
    "    return reviews\n"
   ]
  },
  {
   "cell_type": "code",
   "execution_count": null,
   "outputs": [],
   "source": [],
   "metadata": {
    "collapsed": false,
    "pycharm": {
     "name": "#%%\n"
    }
   }
  },
  {
   "cell_type": "code",
   "execution_count": null,
   "outputs": [],
   "source": [
    "import sklearn\n",
    "print('The scikit-learn version is {}.'.format(sklearn.__version__))"
   ],
   "metadata": {
    "collapsed": false,
    "pycharm": {
     "name": "#%%\n"
    }
   }
  },
  {
   "cell_type": "code",
   "execution_count": null,
   "outputs": [],
   "source": [
    "# get the total amoung of distinct \"words\" in Amazons, cellphone set und im movieset\n",
    "results = set()\n",
    "data['reviewText'].str.split().apply(results.update)\n",
    "print(len(results))"
   ],
   "metadata": {
    "collapsed": false,
    "pycharm": {
     "name": "#%%\n",
     "is_executing": true
    }
   }
  },
  {
   "cell_type": "code",
   "execution_count": null,
   "metadata": {},
   "outputs": [],
   "source": [
    "import sklearn\n",
    "print('The scikit-learn version is {}.'.format(sklearn.__version__))\n"
   ]
  },
  {
   "cell_type": "code",
   "execution_count": 9,
   "metadata": {
    "ExecuteTime": {
     "end_time": "2020-09-06T20:56:58.368647Z",
     "start_time": "2020-09-06T20:56:58.362047Z"
    }
   },
   "outputs": [
    {
     "ename": "SyntaxError",
     "evalue": "invalid syntax (<ipython-input-9-27cd4a422c43>, line 3)",
     "output_type": "error",
     "traceback": [
      "\u001B[0;36m  File \u001B[0;32m\"<ipython-input-9-27cd4a422c43>\"\u001B[0;36m, line \u001B[0;32m3\u001B[0m\n\u001B[0;31m    conda install scikit-learn=0.22\u001B[0m\n\u001B[0m                ^\u001B[0m\n\u001B[0;31mSyntaxError\u001B[0m\u001B[0;31m:\u001B[0m invalid syntax\n"
     ]
    }
   ],
   "source": [
    "import sklearn\n",
    "print('The scikit-learn version is {}.'.format(sklearn.__version__))"
   ]
  },
  {
   "cell_type": "code",
   "execution_count": 11,
   "outputs": [
    {
     "name": "stderr",
     "output_type": "stream",
     "text": [
      "IOPub data rate exceeded.\n",
      "The notebook server will temporarily stop sending output\n",
      "to the client in order to avoid crashing it.\n",
      "To change this limit, set the config variable\n",
      "`--NotebookApp.iopub_data_rate_limit`.\n",
      "\n",
      "Current values:\n",
      "NotebookApp.iopub_data_rate_limit=1000000.0 (bytes/sec)\n",
      "NotebookApp.rate_limit_window=3.0 (secs)\n",
      "\n"
     ]
    }
   ],
   "source": [
    "from sklearn.feature_extraction.text import CountVectorizer\n",
    "# list of text documents\n",
    "# text = [\"The quick brown fox jumped over the lazy dog. The cat isn't keen about it. It just wants to eat\"]\n",
    "text = data['reviewText']\n",
    "# create the transform\n",
    "vectorizer = CountVectorizer()\n",
    "# tokenize and build vocab\n",
    "vectorizer.fit(text)\n",
    "# summarize\n",
    "vocab = vectorizer.vocabulary_"
   ],
   "metadata": {
    "collapsed": false,
    "pycharm": {
     "name": "#%%\n"
    }
   }
  },
  {
   "cell_type": "code",
   "execution_count": 12,
   "outputs": [
    {
     "name": "stdout",
     "output_type": "stream",
     "text": [
      "815663\n"
     ]
    }
   ],
   "source": [
    "print(len(vocab))"
   ],
   "metadata": {
    "collapsed": false,
    "pycharm": {
     "name": "#%%\n"
    }
   }
  },
  {
   "cell_type": "code",
   "execution_count": 6,
   "outputs": [
    {
     "name": "stdout",
     "output_type": "stream",
     "text": [
      "(1, 17)\n",
      "<class 'scipy.sparse.csr.csr_matrix'>\n",
      "[[1 1 1 1 1 1 1 2 1 1 1 1 1 1 3 1 1]]\n"
     ]
    }
   ],
   "source": [
    "# encode document\n",
    "vector = vectorizer.transform(text)\n",
    "# summarize encoded vector\n",
    "print(vector.shape)\n",
    "print(type(vector))\n",
    "print(vector.toarray())"
   ],
   "metadata": {
    "collapsed": false,
    "pycharm": {
     "name": "#%%\n"
    }
   }
  },
  {
   "cell_type": "code",
   "execution_count": 7,
   "outputs": [
    {
     "name": "stdout",
     "output_type": "stream",
     "text": [
      "  (0, 0)\t1\n",
      "  (0, 1)\t1\n",
      "  (0, 2)\t1\n",
      "  (0, 3)\t1\n",
      "  (0, 4)\t1\n",
      "  (0, 5)\t1\n",
      "  (0, 6)\t1\n",
      "  (0, 7)\t2\n",
      "  (0, 8)\t1\n",
      "  (0, 9)\t1\n",
      "  (0, 10)\t1\n",
      "  (0, 11)\t1\n",
      "  (0, 12)\t1\n",
      "  (0, 13)\t1\n",
      "  (0, 14)\t3\n",
      "  (0, 15)\t1\n",
      "  (0, 16)\t1\n"
     ]
    }
   ],
   "source": [
    "print(vector)\n",
    "\n",
    "\n"
   ],
   "metadata": {
    "collapsed": false,
    "pycharm": {
     "name": "#%%\n"
    }
   }
  }
 ],
 "metadata": {
  "kernelspec": {
   "display_name": "Python 3",
   "language": "python",
   "name": "python3"
  },
  "language_info": {
   "codemirror_mode": {
    "name": "ipython",
    "version": 3
   },
   "file_extension": ".py",
   "mimetype": "text/x-python",
   "name": "python",
   "nbconvert_exporter": "python",
   "pygments_lexer": "ipython3",
   "version": "3.6.9"
  },
  "toc": {
   "base_numbering": 1,
   "nav_menu": {},
   "number_sections": true,
   "sideBar": true,
   "skip_h1_title": false,
   "title_cell": "Table of Contents",
   "title_sidebar": "Contents",
   "toc_cell": false,
   "toc_position": {},
   "toc_section_display": true,
   "toc_window_display": false
  },
  "varInspector": {
   "cols": {
    "lenName": 16,
    "lenType": 16,
    "lenVar": 40
   },
   "kernels_config": {
    "python": {
     "delete_cmd_postfix": "",
     "delete_cmd_prefix": "del ",
     "library": "var_list.py",
     "varRefreshCmd": "print(var_dic_list())"
    },
    "r": {
     "delete_cmd_postfix": ") ",
     "delete_cmd_prefix": "rm(",
     "library": "var_list.r",
     "varRefreshCmd": "cat(var_dic_list()) "
    }
   },
   "types_to_exclude": [
    "module",
    "function",
    "builtin_function_or_method",
    "instance",
    "_Feature"
   ],
   "window_display": false
  }
 },
 "nbformat": 4,
 "nbformat_minor": 2
}