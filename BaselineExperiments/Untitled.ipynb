{
 "cells": [
  {
   "cell_type": "code",
   "execution_count": 38,
   "metadata": {
    "ExecuteTime": {
     "end_time": "2020-09-05T07:24:34.513623Z",
     "start_time": "2020-09-05T07:24:31.770848Z"
    }
   },
   "outputs": [],
   "source": [
    "import gzip, json, pandas as pd\n",
    "from sklearn.model_selection import train_test_split\n",
    "from collections import Counter\n",
    "from sklearn_pandas import DataFrameMapper\n",
    "from sklearn.feature_extraction.text import CountVectorizer\n",
    "from sklearn.feature_extraction.text import TfidfVectorizer\n",
    "import re"
   ]
  },
  {
   "cell_type": "code",
   "execution_count": 72,
   "metadata": {
    "ExecuteTime": {
     "end_time": "2020-09-05T07:26:04.571229Z",
     "start_time": "2020-09-05T07:24:35.421756Z"
    }
   },
   "outputs": [
    {
     "name": "stdout",
     "output_type": "stream",
     "text": [
      "[(1.0, 104219), (2.0, 102410), (3.0, 201302), (4.0, 382994), (5.0, 906608)]\n"
     ]
    }
   ],
   "source": [
    "input = '../Data/reviews_Movies_and_TV_5.json.gz'\n",
    "data = []\n",
    "with gzip.open(input) as f:\n",
    "    for l in f:\n",
    "        data.append(json.loads(l.strip()))\n",
    "\n",
    "data = pd.DataFrame.from_dict(data)\n",
    "target = data['overall']\n",
    "text = data['reviewText']\n",
    "\n",
    "print(sorted(Counter(target).items()))\n"
   ]
  },
  {
   "cell_type": "code",
   "execution_count": 73,
   "outputs": [
    {
     "data": {
      "text/plain": "       reviewerID        asin                         reviewerName helpful  \\\n0   ADZPIG9QOCDG5  0005019281  Alice L. Larson \"alice-loves-books\"  [0, 0]   \n1  A35947ZP82G7JH  0005019281                        Amarah Strack  [0, 0]   \n2  A3UORV8A9D5L2E  0005019281                      Amazon Customer  [0, 0]   \n3  A1VKW06X1O2X7V  0005019281           Amazon Customer \"Softmill\"  [0, 0]   \n4  A3R27T4HADWFFJ  0005019281                                 BABE  [0, 0]   \n\n                                          reviewText  overall  \\\n0  This is a charming version of the classic Dick...      4.0   \n1  It was good but not as emotionally moving as t...      3.0   \n2  Don't get me wrong, Winkler is a wonderful cha...      3.0   \n3  Henry Winkler is very good in this twist on th...      5.0   \n4  This is one of the best Scrooge movies out.  H...      4.0   \n\n                                        summary  unixReviewTime   reviewTime  \n0                     good version of a classic      1203984000  02 26, 2008  \n1                        Good but not as moving      1388361600  12 30, 2013  \n2         Winkler's Performance was ok at best!      1388361600  12 30, 2013  \n3  It's an enjoyable twist on the classic story      1202860800  02 13, 2008  \n4                              Best Scrooge yet      1387670400  12 22, 2013  ",
      "text/html": "<div>\n<style scoped>\n    .dataframe tbody tr th:only-of-type {\n        vertical-align: middle;\n    }\n\n    .dataframe tbody tr th {\n        vertical-align: top;\n    }\n\n    .dataframe thead th {\n        text-align: right;\n    }\n</style>\n<table border=\"1\" class=\"dataframe\">\n  <thead>\n    <tr style=\"text-align: right;\">\n      <th></th>\n      <th>reviewerID</th>\n      <th>asin</th>\n      <th>reviewerName</th>\n      <th>helpful</th>\n      <th>reviewText</th>\n      <th>overall</th>\n      <th>summary</th>\n      <th>unixReviewTime</th>\n      <th>reviewTime</th>\n    </tr>\n  </thead>\n  <tbody>\n    <tr>\n      <th>0</th>\n      <td>ADZPIG9QOCDG5</td>\n      <td>0005019281</td>\n      <td>Alice L. Larson \"alice-loves-books\"</td>\n      <td>[0, 0]</td>\n      <td>This is a charming version of the classic Dick...</td>\n      <td>4.0</td>\n      <td>good version of a classic</td>\n      <td>1203984000</td>\n      <td>02 26, 2008</td>\n    </tr>\n    <tr>\n      <th>1</th>\n      <td>A35947ZP82G7JH</td>\n      <td>0005019281</td>\n      <td>Amarah Strack</td>\n      <td>[0, 0]</td>\n      <td>It was good but not as emotionally moving as t...</td>\n      <td>3.0</td>\n      <td>Good but not as moving</td>\n      <td>1388361600</td>\n      <td>12 30, 2013</td>\n    </tr>\n    <tr>\n      <th>2</th>\n      <td>A3UORV8A9D5L2E</td>\n      <td>0005019281</td>\n      <td>Amazon Customer</td>\n      <td>[0, 0]</td>\n      <td>Don't get me wrong, Winkler is a wonderful cha...</td>\n      <td>3.0</td>\n      <td>Winkler's Performance was ok at best!</td>\n      <td>1388361600</td>\n      <td>12 30, 2013</td>\n    </tr>\n    <tr>\n      <th>3</th>\n      <td>A1VKW06X1O2X7V</td>\n      <td>0005019281</td>\n      <td>Amazon Customer \"Softmill\"</td>\n      <td>[0, 0]</td>\n      <td>Henry Winkler is very good in this twist on th...</td>\n      <td>5.0</td>\n      <td>It's an enjoyable twist on the classic story</td>\n      <td>1202860800</td>\n      <td>02 13, 2008</td>\n    </tr>\n    <tr>\n      <th>4</th>\n      <td>A3R27T4HADWFFJ</td>\n      <td>0005019281</td>\n      <td>BABE</td>\n      <td>[0, 0]</td>\n      <td>This is one of the best Scrooge movies out.  H...</td>\n      <td>4.0</td>\n      <td>Best Scrooge yet</td>\n      <td>1387670400</td>\n      <td>12 22, 2013</td>\n    </tr>\n  </tbody>\n</table>\n</div>"
     },
     "execution_count": 73,
     "metadata": {},
     "output_type": "execute_result"
    }
   ],
   "source": [
    "data.head()\n",
    "data.drop(['reviewerID', 'asin', 'reviewerName', 'helpful', ])"
   ],
   "metadata": {
    "collapsed": false,
    "pycharm": {
     "name": "#%%\n"
    }
   }
  },
  {
   "cell_type": "code",
   "execution_count": null,
   "outputs": [],
   "source": [
    "# Oversampling the text and target and put them into a new df\n",
    "# RandomOvesampler und UNdersampler do only work in feature spaces -> manually composing the undersampling\n",
    "# Unterteilen in Klassen -> von jeder Klasse nur 90000 random\n",
    "# data.describe()\n",
    "df_1 = data[data['overall']==1.0].values.tolist()\n",
    "df_2 = data[data['overall']==2.0].values.tolist()\n",
    "df_3 = data[data['overall']==3.0].values.tolist()\n",
    "df_4 = data[data['overall']==4.0].values.tolist()\n",
    "df_5 = data[data['overall']==5.0].values.tolist()\n",
    "print(len(df_1),len(df_2), len(df_3), len(df_4), len(df_5))\n",
    "print(type(df_1))\n",
    "# data = random.sample(data, 200000)"
   ],
   "metadata": {
    "collapsed": false,
    "pycharm": {
     "name": "#%%\n"
    }
   }
  },
  {
   "cell_type": "code",
   "execution_count": 64,
   "outputs": [],
   "source": [
    "import random\n",
    "df1 = random.sample(df_1, 90000)\n",
    "df2 = random.sample(df_2, 90000)\n",
    "df3 = random.sample(df_3, 90000)\n",
    "df4 = random.sample(df_4, 90000)\n",
    "df5 = random.sample(df_5, 90000)\n",
    "anh = pd.DataFrame.from_dict(df1)"
   ],
   "metadata": {
    "collapsed": false,
    "pycharm": {
     "name": "#%%\n"
    }
   }
  },
  {
   "cell_type": "code",
   "execution_count": 71,
   "outputs": [
    {
     "data": {
      "text/plain": "                0           1                    2        3  \\\n0  A2FL0EKQ2EQ9E6  0790743221  a viewer \"a viewer\"  [9, 67]   \n1  A3HM5G9IV1FTFP  B000FS9UK8         Douglas King   [3, 7]   \n2   A4Z9NHOW5LT0M  B000EHQTT0                  JoB   [0, 0]   \n3  A30Q6TIQMXGATR  B000056T5E                pablo   [2, 4]   \n4  A207IYGZTAF0DS  B0001CVB0U        NoWireHangers   [1, 8]   \n\n                                                   4    5  \\\n0  First let me say this: I AM NOT A KATHARINE HE...  1.0   \n1  I loved the original \"Basic Instinct\". Sure, i...  1.0   \n2  The movie starts off super slow and basically ...  1.0   \n3  here we are to rate this sort of horror film.i...  1.0   \n4  From the description of this movie, it sounds ...  1.0   \n\n                                        6           7            8  \n0                        OVERRATED FILM!!  1091577600   08 4, 2004  \n1                           What a shame!  1144022400   04 3, 2006  \n2                             Really Bad!  1384819200  11 19, 2013  \n3                               horrible!  1002240000   10 5, 2001  \n4  Very bad movie. Not what you expected.  1151193600  06 25, 2006  ",
      "text/html": "<div>\n<style scoped>\n    .dataframe tbody tr th:only-of-type {\n        vertical-align: middle;\n    }\n\n    .dataframe tbody tr th {\n        vertical-align: top;\n    }\n\n    .dataframe thead th {\n        text-align: right;\n    }\n</style>\n<table border=\"1\" class=\"dataframe\">\n  <thead>\n    <tr style=\"text-align: right;\">\n      <th></th>\n      <th>0</th>\n      <th>1</th>\n      <th>2</th>\n      <th>3</th>\n      <th>4</th>\n      <th>5</th>\n      <th>6</th>\n      <th>7</th>\n      <th>8</th>\n    </tr>\n  </thead>\n  <tbody>\n    <tr>\n      <th>0</th>\n      <td>A2FL0EKQ2EQ9E6</td>\n      <td>0790743221</td>\n      <td>a viewer \"a viewer\"</td>\n      <td>[9, 67]</td>\n      <td>First let me say this: I AM NOT A KATHARINE HE...</td>\n      <td>1.0</td>\n      <td>OVERRATED FILM!!</td>\n      <td>1091577600</td>\n      <td>08 4, 2004</td>\n    </tr>\n    <tr>\n      <th>1</th>\n      <td>A3HM5G9IV1FTFP</td>\n      <td>B000FS9UK8</td>\n      <td>Douglas King</td>\n      <td>[3, 7]</td>\n      <td>I loved the original \"Basic Instinct\". Sure, i...</td>\n      <td>1.0</td>\n      <td>What a shame!</td>\n      <td>1144022400</td>\n      <td>04 3, 2006</td>\n    </tr>\n    <tr>\n      <th>2</th>\n      <td>A4Z9NHOW5LT0M</td>\n      <td>B000EHQTT0</td>\n      <td>JoB</td>\n      <td>[0, 0]</td>\n      <td>The movie starts off super slow and basically ...</td>\n      <td>1.0</td>\n      <td>Really Bad!</td>\n      <td>1384819200</td>\n      <td>11 19, 2013</td>\n    </tr>\n    <tr>\n      <th>3</th>\n      <td>A30Q6TIQMXGATR</td>\n      <td>B000056T5E</td>\n      <td>pablo</td>\n      <td>[2, 4]</td>\n      <td>here we are to rate this sort of horror film.i...</td>\n      <td>1.0</td>\n      <td>horrible!</td>\n      <td>1002240000</td>\n      <td>10 5, 2001</td>\n    </tr>\n    <tr>\n      <th>4</th>\n      <td>A207IYGZTAF0DS</td>\n      <td>B0001CVB0U</td>\n      <td>NoWireHangers</td>\n      <td>[1, 8]</td>\n      <td>From the description of this movie, it sounds ...</td>\n      <td>1.0</td>\n      <td>Very bad movie. Not what you expected.</td>\n      <td>1151193600</td>\n      <td>06 25, 2006</td>\n    </tr>\n  </tbody>\n</table>\n</div>"
     },
     "execution_count": 71,
     "metadata": {},
     "output_type": "execute_result"
    }
   ],
   "source": [
    "anh.head()"
   ],
   "metadata": {
    "collapsed": false,
    "pycharm": {
     "name": "#%%\n"
    }
   }
  },
  {
   "cell_type": "code",
   "execution_count": null,
   "outputs": [],
   "source": [
    "df = pd.concat([text[:50000], text[:50000]], axis=1)\n",
    "print(df.shape)\n",
    "df.columns=['count', 'tfidf']\n",
    "print(df.describe())\n",
    "mapper = DataFrameMapper([\n",
    "    ('count', CountVectorizer()),\n",
    "    ('tfidf', TfidfVectorizer())\n",
    "])\n"
   ],
   "metadata": {
    "collapsed": false,
    "pycharm": {
     "name": "#%%\n"
    }
   }
  },
  {
   "cell_type": "code",
   "execution_count": 6,
   "metadata": {
    "ExecuteTime": {
     "end_time": "2020-09-05T07:26:22.307346Z",
     "start_time": "2020-09-05T07:26:22.122680Z"
    }
   },
   "outputs": [
    {
     "name": "stdout",
     "output_type": "stream",
     "text": [
      "<class 'pandas.core.frame.DataFrame'>\n",
      "RangeIndex: 50000 entries, 0 to 49999\n",
      "Data columns (total 2 columns):\n",
      "count    50000 non-null object\n",
      "tfidf    50000 non-null object\n",
      "dtypes: object(2)\n",
      "memory usage: 98.8 MB\n"
     ]
    }
   ],
   "source": [
    "df.info(memory_usage='deep')"
   ]
  },
  {
   "cell_type": "code",
   "execution_count": null,
   "metadata": {},
   "outputs": [],
   "source": [
    "features = mapper.fit_transform(df)"
   ]
  },
  {
   "cell_type": "code",
   "execution_count": null,
   "metadata": {
    "pycharm": {
     "name": "#%%\n"
    }
   },
   "outputs": [],
   "source": [
    "REPLACE_NO_SPACE = re.compile(\"(\\.)|(\\;)|(\\:)|(\\!)|(\\')|(\\?)|(\\,)|(\\\")|(\\()|(\\))|(\\[)|(\\])|(\\d+)\")\n",
    "REPLACE_WITH_SPACE = re.compile(\"(<br\\s*/><br\\s*/>)|(\\-)|(\\/)\")\n",
    "NO_SPACE = \"\"\n",
    "SPACE = \" \"\n",
    "def preprocess_reviews(reviews):\n",
    "    reviews = [REPLACE_NO_SPACE.sub(NO_SPACE, line.lower()) for line in reviews]\n",
    "    reviews = [REPLACE_WITH_SPACE.sub(SPACE, line) for line in reviews]\n",
    "    return reviews\n"
   ]
  },
  {
   "cell_type": "code",
   "execution_count": null,
   "outputs": [],
   "source": [],
   "metadata": {
    "collapsed": false,
    "pycharm": {
     "name": "#%%\n"
    }
   }
  },
  {
   "cell_type": "code",
   "execution_count": null,
   "outputs": [],
   "source": [
    "import sklearn\n",
    "print('The scikit-learn version is {}.'.format(sklearn.__version__))\n"
   ],
   "metadata": {
    "collapsed": false,
    "pycharm": {
     "name": "#%%\n"
    }
   }
  },
  {
   "cell_type": "code",
   "execution_count": null,
   "metadata": {},
   "outputs": [],
   "source": [
    "import sklearn\n",
    "print('The scikit-learn version is {}.'.format(sklearn.__version__))\n"
   ]
  },
  {
   "cell_type": "code",
   "execution_count": 9,
   "metadata": {
    "ExecuteTime": {
     "end_time": "2020-09-06T20:56:58.368647Z",
     "start_time": "2020-09-06T20:56:58.362047Z"
    }
   },
   "outputs": [
    {
     "ename": "SyntaxError",
     "evalue": "invalid syntax (<ipython-input-9-27cd4a422c43>, line 3)",
     "output_type": "error",
     "traceback": [
      "\u001B[0;36m  File \u001B[0;32m\"<ipython-input-9-27cd4a422c43>\"\u001B[0;36m, line \u001B[0;32m3\u001B[0m\n\u001B[0;31m    conda install scikit-learn=0.22\u001B[0m\n\u001B[0m                ^\u001B[0m\n\u001B[0;31mSyntaxError\u001B[0m\u001B[0;31m:\u001B[0m invalid syntax\n"
     ]
    }
   ],
   "source": [
    "import sklearn\n",
    "print('The scikit-learn version is {}.'.format(sklearn.__version__))\n"
   ]
  }
 ],
 "metadata": {
  "kernelspec": {
   "display_name": "Python 3",
   "language": "python",
   "name": "python3"
  },
  "language_info": {
   "codemirror_mode": {
    "name": "ipython",
    "version": 3
   },
   "file_extension": ".py",
   "mimetype": "text/x-python",
   "name": "python",
   "nbconvert_exporter": "python",
   "pygments_lexer": "ipython3",
   "version": "3.6.9"
  },
  "toc": {
   "base_numbering": 1,
   "nav_menu": {},
   "number_sections": true,
   "sideBar": true,
   "skip_h1_title": false,
   "title_cell": "Table of Contents",
   "title_sidebar": "Contents",
   "toc_cell": false,
   "toc_position": {},
   "toc_section_display": true,
   "toc_window_display": false
  },
  "varInspector": {
   "cols": {
    "lenName": 16,
    "lenType": 16,
    "lenVar": 40
   },
   "kernels_config": {
    "python": {
     "delete_cmd_postfix": "",
     "delete_cmd_prefix": "del ",
     "library": "var_list.py",
     "varRefreshCmd": "print(var_dic_list())"
    },
    "r": {
     "delete_cmd_postfix": ") ",
     "delete_cmd_prefix": "rm(",
     "library": "var_list.r",
     "varRefreshCmd": "cat(var_dic_list()) "
    }
   },
   "types_to_exclude": [
    "module",
    "function",
    "builtin_function_or_method",
    "instance",
    "_Feature"
   ],
   "window_display": false
  }
 },
 "nbformat": 4,
 "nbformat_minor": 2
}