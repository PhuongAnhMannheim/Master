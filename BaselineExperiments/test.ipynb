{
 "cells": [
  {
   "cell_type": "code",
   "execution_count": 1,
   "outputs": [
    {
     "name": "stdout",
     "output_type": "stream",
     "text": [
      "######## start data load\n",
      "######## finished data load\n"
     ]
    }
   ],
   "source": [
    "from Scripts import loading as dl\n",
    "\n",
    "\n",
    "print('######## start data load')\n",
    "df = dl.load_merged_data('../Data/schema_phone.pkl', '../Data/amazon_phone.pkl', 100, 100)\n",
    "print('######## finished data load')\n"
   ],
   "metadata": {
    "collapsed": false,
    "pycharm": {
     "name": "#%%\n"
    }
   }
  },
  {
   "cell_type": "code",
   "execution_count": 41,
   "outputs": [
    {
     "name": "stdout",
     "output_type": "stream",
     "text": [
      "../Data/schema_phone.pkl ../Data/amazon_phone.pkl 0 5000\n",
      "../Data/schema_phone.pkl ../Data/amazon_phone.pkl 100 4900\n",
      "../Data/schema_phone.pkl ../Data/amazon_phone.pkl 200 4800\n",
      "../Data/schema_phone.pkl ../Data/amazon_phone.pkl 300 4700\n",
      "../Data/schema_phone.pkl ../Data/amazon_phone.pkl 400 4600\n",
      "../Data/schema_phone.pkl ../Data/amazon_phone.pkl 500 4500\n",
      "../Data/schema_phone.pkl ../Data/amazon_phone.pkl 600 4400\n",
      "../Data/schema_phone.pkl ../Data/amazon_phone.pkl 700 4300\n",
      "../Data/schema_phone.pkl ../Data/amazon_phone.pkl 800 4200\n",
      "../Data/schema_phone.pkl ../Data/amazon_phone.pkl 900 4100\n",
      "../Data/schema_movie.pkl ../Data/amazon_movie.pkl 0 5000\n",
      "../Data/schema_movie.pkl ../Data/amazon_movie.pkl 100 4900\n",
      "../Data/schema_movie.pkl ../Data/amazon_movie.pkl 200 4800\n",
      "../Data/schema_movie.pkl ../Data/amazon_movie.pkl 300 4700\n",
      "../Data/schema_movie.pkl ../Data/amazon_movie.pkl 400 4600\n",
      "../Data/schema_movie.pkl ../Data/amazon_movie.pkl 500 4500\n",
      "../Data/schema_movie.pkl ../Data/amazon_movie.pkl 600 4400\n",
      "../Data/schema_movie.pkl ../Data/amazon_movie.pkl 700 4300\n",
      "../Data/schema_movie.pkl ../Data/amazon_movie.pkl 800 4200\n",
      "../Data/schema_movie.pkl ../Data/amazon_movie.pkl 900 4100\n"
     ]
    }
   ],
   "source": [
    "# ToDo: set the values to limit = 5000, schema_size = 0, schema_size <= 1000\n",
    "limit= 5000\n",
    "schema_size = 0\n",
    "amazon_size = limit - schema_size\n",
    "domains = ['phone', 'movie']\n",
    "for d in domains:\n",
    "    amazon_link = f'../Data/amazon_{d}.pkl'\n",
    "    schema_link = f'../Data/schema_{d}.pkl'\n",
    "\n",
    "    while schema_size < 1000:\n",
    "        print(schema_link, amazon_link, schema_size, amazon_size) #run everything\n",
    "        schema_size = schema_size + 100\n",
    "        amazon_size = limit - schema_size\n",
    "    limit = 5000\n",
    "    schema_size = 0\n",
    "    amazon_size = limit - schema_size\n",
    "\n",
    "\n",
    "\n"
   ],
   "metadata": {
    "collapsed": false,
    "pycharm": {
     "name": "#%%\n"
    }
   }
  }
 ],
 "metadata": {
  "kernelspec": {
   "display_name": "Python 3",
   "language": "python",
   "name": "python3"
  },
  "language_info": {
   "codemirror_mode": {
    "name": "ipython",
    "version": 2
   },
   "file_extension": ".py",
   "mimetype": "text/x-python",
   "name": "python",
   "nbconvert_exporter": "python",
   "pygments_lexer": "ipython2",
   "version": "2.7.6"
  }
 },
 "nbformat": 4,
 "nbformat_minor": 0
}