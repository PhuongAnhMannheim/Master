{
 "cells": [
  {
   "cell_type": "code",
   "execution_count": 16,
   "metadata": {
    "collapsed": true
   },
   "outputs": [],
   "source": [
    "from sklearn.feature_extraction.text import CountVectorizer\n",
    "import pandas as pd\n",
    "from sklearn.model_selection import train_test_split\n",
    "from sklearn.naive_bayes import MultinomialNB\n",
    "import os\n",
    "import re"
   ]
  },
  {
   "cell_type": "code",
   "execution_count": 23,
   "outputs": [],
   "source": [
    "# imdb = pd.read_csv('../Data/IMDB Dataset.csv')\n",
    "headerlist = ['target', 'id', 'date', 'flag', 'user', 'text']\n",
    "tweets = pd.read_csv('../Data/training.1600000.processed.noemoticon.csv', names=headerlist, encoding='latin1')"
   ],
   "metadata": {
    "collapsed": false,
    "pycharm": {
     "name": "#%%\n"
    }
   }
  },
  {
   "cell_type": "code",
   "execution_count": 25,
   "outputs": [],
   "source": [
    "tweets.head()\n",
    "target = tweets['target']\n",
    "text = tweets['text']\n",
    "# imdb['sentiment'].value_counts()\n",
    "# text = imdb['review']\n",
    "# target = imdb['sentiment']"
   ],
   "metadata": {
    "collapsed": false,
    "pycharm": {
     "name": "#%%\n"
    }
   }
  },
  {
   "cell_type": "code",
   "execution_count": 26,
   "outputs": [
    {
     "data": {
      "text/plain": "4    800000\n0    800000\nName: target, dtype: int64"
     },
     "execution_count": 26,
     "metadata": {},
     "output_type": "execute_result"
    }
   ],
   "source": [
    "tweets['target'].value_counts()"
   ],
   "metadata": {
    "collapsed": false,
    "pycharm": {
     "name": "#%%\n"
    }
   }
  },
  {
   "cell_type": "code",
   "execution_count": 27,
   "outputs": [],
   "source": [
    "cv = CountVectorizer(ngram_range=(1, 2))\n",
    "cv.fit(text)\n",
    "text_count = cv.transform(text)"
   ],
   "metadata": {
    "collapsed": false,
    "pycharm": {
     "name": "#%%\n"
    }
   }
  },
  {
   "cell_type": "code",
   "execution_count": 28,
   "outputs": [
    {
     "name": "stdout",
     "output_type": "stream",
     "text": [
      "Training target statistics: Counter({0: 720079, 4: 719921})\n",
      "Testing target statistics: Counter({4: 80079, 0: 79921})\n",
      "train: 0.9/ test: 0.1\n",
      "Accuracy:0.80284375\n",
      "Precision:0.8046514875899266\n",
      "F1:0.8025643449145818\n",
      "col_0       0      4\n",
      "target              \n",
      "0       67237  12684\n",
      "4       18861  61218\n",
      "Training target statistics: Counter({0: 640558, 4: 639442})\n",
      "Testing target statistics: Counter({4: 160558, 0: 159442})\n",
      "train: 0.8/ test: 0.2\n",
      "Accuracy:0.801603125\n",
      "Precision:0.8035587717191386\n",
      "F1:0.8013314692810638\n",
      "col_0        0       4\n",
      "target                \n",
      "0       134173   25269\n",
      "4        38218  122340\n",
      "Training target statistics: Counter({0: 560588, 4: 559412})\n",
      "Testing target statistics: Counter({4: 240588, 0: 239412})\n",
      "train: 0.7/ test: 0.3\n",
      "Accuracy:0.800625\n",
      "Precision:0.8026629401593561\n",
      "F1:0.8003243357026755\n",
      "col_0        0       4\n",
      "target                \n",
      "0       201463   37949\n",
      "4        57751  182837\n",
      "Training target statistics: Counter({0: 480694, 4: 479306})\n",
      "Testing target statistics: Counter({4: 320694, 0: 319306})\n",
      "train: 0.6/ test: 0.4\n",
      "Accuracy:0.79858125\n",
      "Precision:0.8008820318514054\n",
      "F1:0.7982296042370276\n",
      "col_0        0       4\n",
      "target                \n",
      "0       268905   50401\n",
      "4        78507  242187\n",
      "Training target statistics: Counter({0: 400453, 4: 399547})\n",
      "Testing target statistics: Counter({4: 400453, 0: 399547})\n",
      "train: 0.5/ test: 0.5\n",
      "Accuracy:0.79647875\n",
      "Precision:0.7989836704602467\n",
      "F1:0.796070756700558\n",
      "col_0        0       4\n",
      "target                \n",
      "0       336483   63064\n",
      "4        99753  300700\n"
     ]
    }
   ],
   "source": [
    "from collections import Counter\n",
    "from sklearn import metrics\n",
    "\n",
    "nb = MultinomialNB()\n",
    "list_test = [0.1, 0.2, 0.3, 0.4, 0.5]\n",
    "for i in list_test:\n",
    "    test_size = i\n",
    "    train_size = 1 - i\n",
    "    X_train, X_test, y_train, y_test = train_test_split(text_count, target, test_size=i, random_state=109)\n",
    "\n",
    "    print('Training target statistics: {}'.format(Counter(y_train), sorted(y_train)))\n",
    "    print('Testing target statistics: {}'.format(Counter(y_test), sorted(y_test)))\n",
    "\n",
    "    nb.fit(X_train, y_train)\n",
    "    y_pred = nb.predict(X_test)\n",
    "    print(\"train: \" + str(train_size) + \"/ test: \" + str(test_size))\n",
    "    accuracy = str(metrics.accuracy_score(y_test, y_pred))\n",
    "    precision = str(metrics.precision_score(y_test, y_pred, average=\"macro\"))\n",
    "    f1 = str(metrics.f1_score(y_test, y_pred, average=\"macro\"))\n",
    "    print(\"Accuracy:\" + accuracy)\n",
    "    print(\"Precision:\" + precision)\n",
    "    print(\"F1:\" + f1)\n",
    "    print(pd.crosstab(y_test, y_pred))"
   ],
   "metadata": {
    "collapsed": false,
    "pycharm": {
     "name": "#%%\n"
    }
   }
  },
  {
   "cell_type": "code",
   "execution_count": null,
   "outputs": [],
   "source": [
    "reviews_train = []\n",
    "for line in open('../Data/movie_data/full_train.txt', 'r', encoding=\"utf8\"):\n",
    "\n",
    "    reviews_train.append(line.strip())\n",
    "\n",
    "reviews_test = []\n",
    "for line in open('../Data/movie_data/full_test.txt', 'r', encoding=\"utf8\"):\n",
    "\n",
    "    reviews_test.append(line.strip())"
   ],
   "metadata": {
    "collapsed": false,
    "pycharm": {
     "name": "#%%\n"
    }
   }
  },
  {
   "cell_type": "code",
   "execution_count": 2,
   "outputs": [
    {
     "name": "stdout",
     "output_type": "stream",
     "text": [
      "25000\n",
      "25000\n"
     ]
    }
   ],
   "source": [
    "print(len(reviews_train))\n",
    "print(len(reviews_test))"
   ],
   "metadata": {
    "collapsed": false,
    "pycharm": {
     "name": "#%%\n"
    }
   }
  },
  {
   "cell_type": "code",
   "execution_count": 4,
   "outputs": [
    {
     "data": {
      "text/plain": "'r'"
     },
     "execution_count": 4,
     "metadata": {},
     "output_type": "execute_result"
    }
   ],
   "source": [
    "reviews_train[0]"
   ],
   "metadata": {
    "collapsed": false,
    "pycharm": {
     "name": "#%%\n"
    }
   }
  },
  {
   "cell_type": "code",
   "execution_count": 10,
   "outputs": [],
   "source": [
    "import re\n",
    "\n",
    "REPLACE_NO_SPACE = re.compile(\"(\\.)|(\\;)|(\\:)|(\\!)|(\\')|(\\?)|(\\,)|(\\\")|(\\()|(\\))|(\\[)|(\\])|(\\d+)\")\n",
    "REPLACE_WITH_SPACE = re.compile(\"(<br\\s*/><br\\s*/>)|(\\-)|(\\/)\")\n",
    "NO_SPACE = \"\"\n",
    "SPACE = \" \"\n",
    "\n",
    "def preprocess_reviews(reviews):\n",
    "\n",
    "    reviews = [REPLACE_NO_SPACE.sub(NO_SPACE, line.lower()) for line in reviews]\n",
    "    reviews = [REPLACE_WITH_SPACE.sub(SPACE, line) for line in reviews]\n",
    "\n",
    "    return reviews\n",
    "\n",
    "reviews_train_clean = preprocess_reviews(reviews_train)\n",
    "reviews_test_clean = preprocess_reviews(reviews_test)"
   ],
   "metadata": {
    "collapsed": false,
    "pycharm": {
     "name": "#%%\n"
    }
   }
  },
  {
   "cell_type": "code",
   "execution_count": 11,
   "outputs": [
    {
     "data": {
      "text/plain": "'bromwell high is a cartoon comedy it ran at the same time as some other programs about school life such as teachers my  years in the teaching profession lead me to believe that bromwell highs satire is much closer to reality than is teachers the scramble to survive financially the insightful students who can see right through their pathetic teachers pomp the pettiness of the whole situation all remind me of the schools i knew and their students when i saw the episode in which a student repeatedly tried to burn down the school i immediately recalled  at  high a classic line inspector im here to sack one of your teachers student welcome to bromwell high i expect that many adults of my age think that bromwell high is far fetched what a pity that it isnt'"
     },
     "execution_count": 11,
     "metadata": {},
     "output_type": "execute_result"
    }
   ],
   "source": [
    "reviews_train_clean[0]"
   ],
   "metadata": {
    "collapsed": false,
    "pycharm": {
     "name": "#%%\n"
    }
   }
  },
  {
   "cell_type": "code",
   "execution_count": null,
   "outputs": [],
   "source": [
    "from sklearn.feature_extraction.text import CountVectorizer\n",
    "\n",
    "cv = CountVectorizer(binary=True)\n",
    "cv.fit(reviews_train_clean)\n",
    "X = cv.transform(reviews_train_clean)\n",
    "X_test = cv.transform(reviews_test_clean)\n"
   ],
   "metadata": {
    "collapsed": false,
    "pycharm": {
     "name": "#%%\n"
    }
   }
  },
  {
   "cell_type": "code",
   "execution_count": 6,
   "outputs": [
    {
     "name": "stdout",
     "output_type": "stream",
     "text": [
      "<class 'scipy.sparse.csr.csr_matrix'>\n"
     ]
    }
   ],
   "source": [
    "print(type(X))"
   ],
   "metadata": {
    "collapsed": false,
    "pycharm": {
     "name": "#%%\n"
    }
   }
  },
  {
   "cell_type": "code",
   "execution_count": 7,
   "outputs": [
    {
     "name": "stdout",
     "output_type": "stream",
     "text": [
      "  (0, 292)\t1\n",
      "  (0, 1386)\t1\n",
      "  (0, 1591)\t1\n",
      "  (0, 2102)\t1\n",
      "  (0, 2330)\t1\n",
      "  (0, 2766)\t1\n",
      "  (0, 2861)\t1\n",
      "  (0, 3136)\t1\n",
      "  (0, 3922)\t1\n",
      "  (0, 4356)\t1\n",
      "  (0, 6486)\t1\n",
      "  (0, 6626)\t1\n",
      "  (0, 6892)\t1\n",
      "  (0, 6934)\t1\n",
      "  (0, 7058)\t1\n",
      "  (0, 7556)\t1\n",
      "  (0, 7588)\t1\n",
      "  (0, 7635)\t1\n",
      "  (0, 8332)\t1\n",
      "  (0, 8949)\t1\n",
      "  (0, 8955)\t1\n",
      "  (0, 9575)\t1\n",
      "  (0, 10255)\t1\n",
      "  (0, 10617)\t1\n",
      "  (0, 11014)\t1\n",
      "  :\t:\n",
      "  (0, 85522)\t1\n",
      "  (0, 86727)\t1\n",
      "  (0, 87017)\t1\n",
      "  (0, 87135)\t1\n",
      "  (0, 87137)\t1\n",
      "  (0, 87235)\t1\n",
      "  (0, 87298)\t1\n",
      "  (0, 87901)\t1\n",
      "  (0, 88028)\t1\n",
      "  (0, 88099)\t1\n",
      "  (0, 88106)\t1\n",
      "  (0, 88142)\t1\n",
      "  (0, 88283)\t1\n",
      "  (0, 88524)\t1\n",
      "  (0, 88584)\t1\n",
      "  (0, 88828)\t1\n",
      "  (0, 88859)\t1\n",
      "  (0, 88989)\t1\n",
      "  (0, 89205)\t1\n",
      "  (0, 89268)\t1\n",
      "  (0, 89320)\t1\n",
      "  (0, 89535)\t1\n",
      "  (0, 89971)\t1\n",
      "  (0, 90206)\t1\n",
      "  (0, 90241)\t1\n"
     ]
    }
   ],
   "source": [
    "print(X[1])"
   ],
   "metadata": {
    "collapsed": false,
    "pycharm": {
     "name": "#%%\n"
    }
   }
  },
  {
   "cell_type": "code",
   "execution_count": 14,
   "outputs": [],
   "source": [
    "from sklearn.linear_model import LogisticRegression\n",
    "from sklearn.metrics import accuracy_score\n",
    "from sklearn.metrics import f1_score\n",
    "from sklearn.model_selection import train_test_split\n",
    "\n",
    "target = [1 if i < 12500 else 0 for i in range(25000)]"
   ],
   "metadata": {
    "collapsed": false,
    "pycharm": {
     "name": "#%%\n"
    }
   }
  },
  {
   "cell_type": "code",
   "execution_count": 16,
   "outputs": [
    {
     "name": "stdout",
     "output_type": "stream",
     "text": [
      "[(0, 12500), (1, 12500)]\n"
     ]
    }
   ],
   "source": [
    "from collections import Counter\n",
    "print(sorted(Counter(target).items()))"
   ],
   "metadata": {
    "collapsed": false,
    "pycharm": {
     "name": "#%%\n"
    }
   }
  },
  {
   "cell_type": "code",
   "execution_count": null,
   "outputs": [],
   "source": [
    "X_train, X_val, y_train, y_val = train_test_split(\n",
    "    X, target, train_size = 0.75\n",
    ")\n",
    "\n",
    "for c in [0.01, 0.05, 0.25, 0.5, 1]:\n",
    "\n",
    "    lr = LogisticRegression(C=c)\n",
    "    lr.fit(X_train, y_train)\n",
    "    print (\"F1 for C=%s: %s\"\n",
    "           % (c, accuracy_score(y_val, lr.predict(X_val))))\n",
    "\n",
    "# F1 for C=0.01: 0.8698131137155527\n",
    "# F1 for C=0.05: 0.8765727026596593\n",
    "# F1 for C=0.25: 0.8741214057507987\n",
    "# F1 for C=0.5: 0.87338336260578\n",
    "# F1 for C=1: 0.8699408094704847"
   ],
   "metadata": {
    "collapsed": false,
    "pycharm": {
     "name": "#%%\n"
    }
   }
  },
  {
   "cell_type": "code",
   "execution_count": 13,
   "outputs": [
    {
     "name": "stdout",
     "output_type": "stream",
     "text": [
      "Final Accuracy: 0.88144\n",
      "Final F1: 0.8818276054541105\n"
     ]
    }
   ],
   "source": [
    "final_model = LogisticRegression(C=0.05)\n",
    "final_model.fit(X, target)\n",
    "print (\"Final Accuracy: %s\"\n",
    "       % accuracy_score(target, final_model.predict(X_test)))\n",
    "print (\"Final F1: %s\"\n",
    "       % f1_score(target, final_model.predict(X_test)))"
   ],
   "metadata": {
    "collapsed": false,
    "pycharm": {
     "name": "#%%\n"
    }
   }
  },
  {
   "cell_type": "code",
   "execution_count": 15,
   "outputs": [
    {
     "name": "stdout",
     "output_type": "stream",
     "text": [
      "('worst', -1.3679897640418013)\n",
      "('waste', -1.1688808954304515)\n",
      "('awful', -1.0273337471101627)\n",
      "('poorly', -0.8748022410499334)\n",
      "('boring', -0.8591221131175376)\n"
     ]
    }
   ],
   "source": [
    "feature_to_coef = {\n",
    "    word: coef for word, coef in zip(\n",
    "        cv.get_feature_names(), final_model.coef_[0]\n",
    "    )\n",
    "}\n",
    "# for best_positive in sorted(\n",
    "#     feature_to_coef.items(),\n",
    "#     key=lambda x: x[1],\n",
    "#     reverse=True)[:5]:\n",
    "#     print (best_positive)\n",
    "\n",
    "# ('excellent', 0.928354437750993)\n",
    "# ('perfect', 0.7944277671227645)\n",
    "# ('great', 0.6745552993465603)\n",
    "# ('amazing', 0.6164834530323475)\n",
    "# ('superb', 0.6055919741377176)\n",
    "\n",
    "for best_negative in sorted(\n",
    "    feature_to_coef.items(),\n",
    "    key=lambda x: x[1])[:5]:\n",
    "    print (best_negative)\n",
    "#\n",
    "# ('worst', -1.3679897640418013)\n",
    "# ('waste', -1.1688808954304515)\n",
    "# ('awful', -1.0273337471101627)\n",
    "# ('poorly', -0.8748022410499334)\n",
    "# ('boring', -0.8591221131175376)"
   ],
   "metadata": {
    "collapsed": false,
    "pycharm": {
     "name": "#%%\n"
    }
   }
  }
 ],
 "metadata": {
  "kernelspec": {
   "display_name": "Python 3",
   "language": "python",
   "name": "python3"
  },
  "language_info": {
   "codemirror_mode": {
    "name": "ipython",
    "version": 2
   },
   "file_extension": ".py",
   "mimetype": "text/x-python",
   "name": "python",
   "nbconvert_exporter": "python",
   "pygments_lexer": "ipython2",
   "version": "2.7.6"
  }
 },
 "nbformat": 4,
 "nbformat_minor": 0
}