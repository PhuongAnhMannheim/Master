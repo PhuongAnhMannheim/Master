{
 "cells": [
  {
   "cell_type": "markdown",
   "metadata": {},
   "source": [
    "# Setup"
   ]
  },
  {
   "cell_type": "code",
   "execution_count": 1,
   "metadata": {
    "ExecuteTime": {
     "end_time": "2020-05-22T12:50:40.026027Z",
     "start_time": "2020-05-22T12:50:37.973914Z"
    }
   },
   "outputs": [],
   "source": [
    "import gzip\n",
    "import pandas as pd\n",
    "import numpy as np\n",
    "import random\n",
    "\n",
    "from sklearn import model_selection, preprocessing, metrics, svm\n",
    "from sklearn.svm import LinearSVC, SVC\n",
    "from sklearn.model_selection import train_test_split\n",
    "from sklearn.feature_extraction.text import TfidfVectorizer\n",
    "import json\n"
   ]
  },
  {
   "cell_type": "code",
   "execution_count": 2,
   "metadata": {
    "ExecuteTime": {
     "end_time": "2020-05-22T12:52:36.666393Z",
     "start_time": "2020-05-22T12:51:05.977559Z"
    }
   },
   "outputs": [
    {
     "name": "stdout",
     "output_type": "stream",
     "text": [
      "1697533\n",
      "200000\n"
     ]
    }
   ],
   "source": [
    "data = []\n",
    "with gzip.open('../Data/reviews_Movies_and_TV_5.json.gz') as f:\n",
    "    for l in f: \n",
    "        data.append(json.loads(l.strip()))\n",
    "        \n",
    "print(len(data))\n",
    "\n",
    "data = random.sample(data, 200000)\n",
    "\n",
    "df = pd.DataFrame.from_dict(data)\n",
    "print(len(df))\n",
    "\n",
    "target = df['overall']\n",
    "text = df['reviewText']"
   ]
  },
  {
   "cell_type": "code",
   "execution_count": 3,
   "metadata": {
    "ExecuteTime": {
     "end_time": "2020-05-18T15:03:14.273446Z",
     "start_time": "2020-05-18T15:00:00.566405Z"
    }
   },
   "outputs": [],
   "source": [
    "train_size = 0.9\n",
    "test_size = 0.1\n",
    "\n",
    "# Split dataset into training set and test set\n",
    "X_train, X_test, y_train, y_test = train_test_split(text, target, test_size = test_size, random_state=109) \n",
    "\n",
    "\n",
    "# label encode the target variable\n",
    "encoder = preprocessing.LabelEncoder()\n",
    "y_train = encoder.fit_transform(y_train)\n",
    "y_test = encoder.fit_transform(y_test)\n",
    "\n",
    "# Feature Extraction: n-grams with TF-IDF\n",
    "tfidf_vect_ngram = TfidfVectorizer(analyzer='word', token_pattern=r'\\w{1,}', ngram_range=(2,3), max_features=5000)\n",
    "tfidf_vect_ngram.fit(text)\n",
    "\n",
    "# transform the training and validation data using count vectorizer object\n",
    "xtrain_tfidf_ngram =  tfidf_vect_ngram.transform(X_train)\n",
    "xtest_tfidf_ngram =  tfidf_vect_ngram.transform(X_test)"
   ]
  },
  {
   "cell_type": "code",
   "execution_count": null,
   "metadata": {
    "ExecuteTime": {
     "start_time": "2020-05-19T07:34:54.106Z"
    }
   },
   "outputs": [],
   "source": [
    "#Create a svm model\n",
    "clf = svm.SVC(kernel='linear')\n",
    "# Train the model using the training sets\n",
    "clf.fit(xtrain_tfidf_ngram, y_train)\n",
    "#Predict the response for test dataset\n",
    "y_pred = clf.predict(xtest_tfidf_ngram)\n",
    "\n",
    "# Model Accuracy, how often is the classifier correct?\n",
    "logging.debug(\"train: \"+ str(train_size) + \"/ test: \" + str(test_size))\n",
    "accuracy = str(metrics.accuracy_score(y_test, y_pred))\n",
    "precision = str(metrics.precision_score(y_test, y_pred, average=\"macro\"))\n",
    "f1 = str(metrics.f1_score(y_test, y_pred, average=\"macro\"))\n",
    "logging.debug(\"Accuracy:\" +  accuracy)\n",
    "logging.debug(\"Precision:\" +  precision)\n",
    "logging.debug(\"F1:\" + f1)"
   ]
  }
 ],
 "metadata": {
  "kernelspec": {
   "display_name": "Python 3",
   "language": "python",
   "name": "python3"
  },
  "language_info": {
   "codemirror_mode": {
    "name": "ipython",
    "version": 3
   },
   "file_extension": ".py",
   "mimetype": "text/x-python",
   "name": "python",
   "nbconvert_exporter": "python",
   "pygments_lexer": "ipython3",
   "version": "3.6.9"
  },
  "toc": {
   "base_numbering": 1,
   "nav_menu": {},
   "number_sections": true,
   "sideBar": true,
   "skip_h1_title": false,
   "title_cell": "Table of Contents",
   "title_sidebar": "Contents",
   "toc_cell": false,
   "toc_position": {},
   "toc_section_display": true,
   "toc_window_display": false
  },
  "varInspector": {
   "cols": {
    "lenName": 16,
    "lenType": 16,
    "lenVar": 40
   },
   "kernels_config": {
    "python": {
     "delete_cmd_postfix": "",
     "delete_cmd_prefix": "del ",
     "library": "var_list.py",
     "varRefreshCmd": "print(var_dic_list())"
    },
    "r": {
     "delete_cmd_postfix": ") ",
     "delete_cmd_prefix": "rm(",
     "library": "var_list.r",
     "varRefreshCmd": "cat(var_dic_list()) "
    }
   },
   "types_to_exclude": [
    "module",
    "function",
    "builtin_function_or_method",
    "instance",
    "_Feature"
   ],
   "window_display": false
  }
 },
 "nbformat": 4,
 "nbformat_minor": 2
}