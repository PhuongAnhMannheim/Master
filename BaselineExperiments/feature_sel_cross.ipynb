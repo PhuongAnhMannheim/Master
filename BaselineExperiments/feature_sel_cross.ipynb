{
 "cells": [
  {
   "cell_type": "code",
   "execution_count": 1,
   "metadata": {
    "collapsed": true,
    "pycharm": {
     "name": "#%%\n"
    }
   },
   "outputs": [
    {
     "name": "stdout",
     "output_type": "stream",
     "text": [
      "5000 reviews per class from ../Data/amazon_phone.pkl loaded\n"
     ]
    }
   ],
   "source": [
    "\n",
    "import pandas as pd\n",
    "import random\n",
    "from sklearn.model_selection import train_test_split, GridSearchCV, StratifiedKFold\n",
    "from sklearn.feature_extraction.text import CountVectorizer, TfidfVectorizer\n",
    "from sklearn.svm import SVC, SVR\n",
    "from sklearn.pipeline import Pipeline\n",
    "from sklearn.feature_selection import SelectKBest, chi2, f_classif, f_regression, mutual_info_classif\n",
    "\n",
    "\n",
    "amazon_link = '../Data/amazon_phone.pkl'\n",
    "\n",
    "# ToDo: reference to module\n",
    "# from Scripts import loading as dl\n",
    "# df = dl.load_sampled(amazon_link, 5000)\n",
    "def load_sampled(link, per_class):\n",
    "    df = pd.read_pickle(link)\n",
    "    df_1 = df[df['label'] == 1.0].values.tolist()\n",
    "    df_2 = df[df['label'] == 2.0].values.tolist()\n",
    "    df_3 = df[df['label'] == 3.0].values.tolist()\n",
    "    df_4 = df[df['label'] == 4.0].values.tolist()\n",
    "    df_5 = df[df['label'] == 5.0].values.tolist()\n",
    "\n",
    "    try:\n",
    "        random.seed(123)\n",
    "        adf1 = random.sample(df_1, per_class)\n",
    "    except ValueError:\n",
    "        random.seed(123)\n",
    "        adf1 = random.choices(df_1, k=per_class)\n",
    "    try:\n",
    "        random.seed(123)\n",
    "        adf2 = random.sample(df_2, per_class)\n",
    "    except ValueError:\n",
    "        random.seed(123)\n",
    "        adf2 = random.choices(df_2, k=per_class)\n",
    "    try:\n",
    "        random.seed(123)\n",
    "        adf3 = random.sample(df_3, per_class)\n",
    "    except ValueError:\n",
    "        random.seed(123)\n",
    "        adf3 = random.choices(df_3, k=per_class)\n",
    "    try:\n",
    "        random.seed(123)\n",
    "        adf4 = random.sample(df_4, per_class)\n",
    "    except ValueError:\n",
    "        random.seed(123)\n",
    "        adf4 = random.choices(df_4, k=per_class)\n",
    "    try:\n",
    "        random.seed(123)\n",
    "        adf5 = random.sample(df_5, per_class)\n",
    "    except ValueError:\n",
    "        random.seed(123)\n",
    "        adf5 = random.choices(df_5, k=per_class)\n",
    "    adf11 = pd.DataFrame(adf1)\n",
    "    adf12 = pd.DataFrame(adf2)\n",
    "    adf13 = pd.DataFrame(adf3)\n",
    "    adf14 = pd.DataFrame(adf4)\n",
    "    adf15 = pd.DataFrame(adf5)\n",
    "    df_all = pd.concat([adf11, adf12, adf13, adf14, adf15], ignore_index=True)\n",
    "    df_all = df_all[[2, 1]]\n",
    "    df_all.columns = ['text_prep', 'label']\n",
    "    print(f'{per_class} reviews per class from {link} loaded')\n",
    "    return df_all\n",
    "\n",
    "\n",
    "df = load_sampled(amazon_link, 5000)\n",
    "df = df.sample(frac=0.01)\n",
    "target = df.label\n",
    "text = df.text_prep\n",
    "\n",
    "X_train, X_test, y_train, y_test = train_test_split(text, target, test_size=0.3, random_state=None)\n",
    "\n",
    "kbest = SelectKBest(f_classif)\n",
    "param_grid = [{\n",
    "    'kbest__k': [500, 1000, 1500, 2000, 2500, 3000, 3500, 4000, 4500, 5000]\n",
    "}, {\n",
    "    'kbest': [SelectKBest(f_regression)],\n",
    "    'kbest__k': [500, 1000, 1500, 2000, 2500, 3000, 3500, 4000, 4500, 5000]\n",
    "}, {\n",
    "    'kbest': [SelectKBest(mutual_info_classif)],\n",
    "    'kbest__k': [500, 1000, 1500, 2000, 2500, 3000, 3500, 4000, 4500, 5000]\n",
    "}]\n",
    "\n",
    "cv = StratifiedKFold(n_splits=5, shuffle=True, random_state=123)"
   ]
  },
  {
   "cell_type": "code",
   "execution_count": 3,
   "outputs": [
    {
     "name": "stdout",
     "output_type": "stream",
     "text": [
      "######## RUN SVC\n",
      "Fitting 5 folds for each of 30 candidates, totalling 150 fits\n",
      "best parameters\n",
      "{'kbest': SelectKBest(k=500,\n",
      "            score_func=<function mutual_info_classif at 0x000002E2CA0DE4C8>), 'kbest__k': 500}\n",
      "best score\n",
      "0.29333297421532717\n",
      "    kbest__k                                              kbest  f1_macro\n",
      "0        500                                                NaN  0.250291\n",
      "1       1000                                                NaN  0.244751\n",
      "2       1500                                                NaN       NaN\n",
      "3       2000                                                NaN       NaN\n",
      "4       2500                                                NaN       NaN\n",
      "5       3000                                                NaN       NaN\n",
      "6       3500                                                NaN       NaN\n",
      "7       4000                                                NaN       NaN\n",
      "8       4500                                                NaN       NaN\n",
      "9       5000                                                NaN       NaN\n",
      "10       500  SelectKBest(score_func=<function f_regression ...  0.252468\n",
      "11      1000  SelectKBest(score_func=<function f_regression ...  0.206292\n",
      "12      1500  SelectKBest(score_func=<function f_regression ...       NaN\n",
      "13      2000  SelectKBest(score_func=<function f_regression ...       NaN\n",
      "14      2500  SelectKBest(score_func=<function f_regression ...       NaN\n",
      "15      3000  SelectKBest(score_func=<function f_regression ...       NaN\n",
      "16      3500  SelectKBest(score_func=<function f_regression ...       NaN\n",
      "17      4000  SelectKBest(score_func=<function f_regression ...       NaN\n",
      "18      4500  SelectKBest(score_func=<function f_regression ...       NaN\n",
      "19      5000  SelectKBest(score_func=<function f_regression ...       NaN\n",
      "20       500  SelectKBest(k=500,\\n            score_func=<fu...  0.293333\n",
      "21      1000  SelectKBest(k=500,\\n            score_func=<fu...  0.292247\n",
      "22      1500  SelectKBest(k=500,\\n            score_func=<fu...       NaN\n",
      "23      2000  SelectKBest(k=500,\\n            score_func=<fu...       NaN\n",
      "24      2500  SelectKBest(k=500,\\n            score_func=<fu...       NaN\n",
      "25      3000  SelectKBest(k=500,\\n            score_func=<fu...       NaN\n",
      "26      3500  SelectKBest(k=500,\\n            score_func=<fu...       NaN\n",
      "27      4000  SelectKBest(k=500,\\n            score_func=<fu...       NaN\n",
      "28      4500  SelectKBest(k=500,\\n            score_func=<fu...       NaN\n",
      "29      5000  SelectKBest(k=500,\\n            score_func=<fu...       NaN\n"
     ]
    },
    {
     "name": "stderr",
     "output_type": "stream",
     "text": [
      "[Parallel(n_jobs=-1)]: Using backend LokyBackend with 8 concurrent workers.\n",
      "[Parallel(n_jobs=-1)]: Done  16 tasks      | elapsed:    5.1s\n",
      "[Parallel(n_jobs=-1)]: Done 150 out of 150 | elapsed:   13.1s finished\n"
     ]
    }
   ],
   "source": [
    "print('######## RUN SVC')\n",
    "svc_pipeline = Pipeline([('vect', CountVectorizer()),\n",
    "                         ('kbest', kbest),\n",
    "                        ('clf', SVC(C=1.0, decision_function_shape='ovo', gamma='auto', kernel='linear', random_state=123))])\n",
    "gs_svc_pipeline = GridSearchCV(svc_pipeline, param_grid, scoring='f1_macro', cv=cv, verbose=3, n_jobs=-1)\n",
    "gs_svc_pipeline.fit(X_train, y_train)\n",
    "print('best parameters')\n",
    "print(gs_svc_pipeline.best_params_)\n",
    "print('best score')\n",
    "print(gs_svc_pipeline.best_score_)\n",
    "print(pd.concat([pd.DataFrame(gs_svc_pipeline.cv_results_[\"params\"]),pd.DataFrame(gs_svc_pipeline.cv_results_[\"mean_test_score\"], columns=[\"f1_macro\"])],axis=1))\n",
    "\n"
   ],
   "metadata": {
    "collapsed": false,
    "pycharm": {
     "name": "#%%\n"
    }
   }
  }
 ],
 "metadata": {
  "kernelspec": {
   "display_name": "Python 3",
   "language": "python",
   "name": "python3"
  },
  "language_info": {
   "codemirror_mode": {
    "name": "ipython",
    "version": 2
   },
   "file_extension": ".py",
   "mimetype": "text/x-python",
   "name": "python",
   "nbconvert_exporter": "python",
   "pygments_lexer": "ipython2",
   "version": "2.7.6"
  }
 },
 "nbformat": 4,
 "nbformat_minor": 0
}