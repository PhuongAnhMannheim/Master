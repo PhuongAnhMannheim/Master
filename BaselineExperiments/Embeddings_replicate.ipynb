{
 "cells": [
  {
   "cell_type": "markdown",
   "metadata": {},
   "source": [
    "# referencial paper 1: weakly embedded deep learning - sentiment analysis\n",
    "\n",
    "Proposal of new framework to overcome problem: Reviews can contain mixed expressions of opinions. The rating no longer is a sufficient indicator about the overall polarity towards a specific subject.\n",
    "\n",
    "the determination of wrong labeling has been made:\n",
    "- positive terms in 1-2 ratings\n",
    "- bad terms in 4-5 ratings\n",
    "positive expressions: like\n",
    "negative expressions could be: don't like\n",
    "\n",
    "step 1: learn embedding space from a large # of weakly labeled sentences\n",
    "extract fixed-length feature vectors from review sentences (Convolutional feature vector, Long Short-Term Memory\n",
    "compute high level features by synthesizing extracted features, as well as contextual aspect information\n",
    "generate sentence representation by feeding word vectors through expressive deep neural network\n",
    "penalize rel. distance via ranking loss\n",
    "\n",
    "step 2: classification layer \n",
    "use labeled sentences to fine tune deep network\n",
    "\n"
   ]
  },
  {
   "cell_type": "markdown",
   "metadata": {},
   "source": [
    "Data and Preprocessing:\n",
    "- collect Amazon customer reviews (cameras, cell phones, laptops) incl. 12 leaf categories\n",
    "- crawl disjoint reviews with 4&5, 1&2 ratings in balance\n",
    "- summarize product aspects and keywords in a manual calibration[8]\n",
    "- split reviews into sentences\n",
    "- throw away sentences without aspect\n",
    "-get single-aspect sentences by splitting sentences \n",
    "\n",
    "-> 148,183 vocabulary\n",
    "-> unlabeled set 1,143,721 with rating information\n",
    "-> manually labeled set 11,754"
   ]
  },
  {
   "cell_type": "code",
   "execution_count": 16,
   "metadata": {
    "ExecuteTime": {
     "end_time": "2020-02-26T17:58:22.697800Z",
     "start_time": "2020-02-26T17:58:22.694173Z"
    }
   },
   "outputs": [],
   "source": [
    "import pandas as pd"
   ]
  },
  {
   "cell_type": "code",
   "execution_count": 52,
   "metadata": {
    "ExecuteTime": {
     "end_time": "2020-02-27T09:34:42.593434Z",
     "start_time": "2020-02-27T09:34:42.142943Z"
    }
   },
   "outputs": [
    {
     "data": {
      "text/html": [
       "<div>\n",
       "<style scoped>\n",
       "    .dataframe tbody tr th:only-of-type {\n",
       "        vertical-align: middle;\n",
       "    }\n",
       "\n",
       "    .dataframe tbody tr th {\n",
       "        vertical-align: top;\n",
       "    }\n",
       "\n",
       "    .dataframe thead th {\n",
       "        text-align: right;\n",
       "    }\n",
       "</style>\n",
       "<table border=\"1\" class=\"dataframe\">\n",
       "  <thead>\n",
       "    <tr style=\"text-align: right;\">\n",
       "      <th></th>\n",
       "      <th>RATING</th>\n",
       "      <th>REVIEWBODY</th>\n",
       "    </tr>\n",
       "  </thead>\n",
       "  <tbody>\n",
       "    <tr>\n",
       "      <td>0</td>\n",
       "      <td>2,pictures so far but every so often the color...</td>\n",
       "      <td>NaN</td>\n",
       "    </tr>\n",
       "    <tr>\n",
       "      <td>1</td>\n",
       "      <td>1,Attempts to get the camera fixed overseas we...</td>\n",
       "      <td>NaN</td>\n",
       "    </tr>\n",
       "    <tr>\n",
       "      <td>2</td>\n",
       "      <td>1,Also, soon after we purchased this model, my...</td>\n",
       "      <td>NaN</td>\n",
       "    </tr>\n",
       "    <tr>\n",
       "      <td>3</td>\n",
       "      <td>1,Due to the lack of email response by Olympus...</td>\n",
       "      <td>NaN</td>\n",
       "    </tr>\n",
       "    <tr>\n",
       "      <td>4</td>\n",
       "      <td>2,I had a Cannon Sure-shut point&amp;shoot 35mm ca...</td>\n",
       "      <td>NaN</td>\n",
       "    </tr>\n",
       "  </tbody>\n",
       "</table>\n",
       "</div>"
      ],
      "text/plain": [
       "                                              RATING  REVIEWBODY\n",
       "0  2,pictures so far but every so often the color...         NaN\n",
       "1  1,Attempts to get the camera fixed overseas we...         NaN\n",
       "2  1,Also, soon after we purchased this model, my...         NaN\n",
       "3  1,Due to the lack of email response by Olympus...         NaN\n",
       "4  2,I had a Cannon Sure-shut point&shoot 35mm ca...         NaN"
      ]
     },
     "execution_count": 52,
     "metadata": {},
     "output_type": "execute_result"
    }
   ],
   "source": [
    "# als text abgespeichert, splitte ich es an jeder zweiten stelle, um an den Reviewbody zu kommen\n",
    "\n",
    "colnames=['RATING','REVIEWBODY'] \n",
    "df = pd.read_csv(\"./camera_negative.csv\", names=colnames, sep=\"\\n\", engine=\"python\")\n",
    "df.head()"
   ]
  },
  {
   "cell_type": "code",
   "execution_count": 12,
   "metadata": {
    "ExecuteTime": {
     "end_time": "2020-02-26T17:08:36.660078Z",
     "start_time": "2020-02-26T17:08:36.654443Z"
    }
   },
   "outputs": [
    {
     "name": "stdout",
     "output_type": "stream",
     "text": [
      "90422\n"
     ]
    }
   ],
   "source": [
    "print(len(df))"
   ]
  },
  {
   "cell_type": "code",
   "execution_count": 50,
   "metadata": {
    "ExecuteTime": {
     "end_time": "2020-02-27T09:34:17.670017Z",
     "start_time": "2020-02-27T09:34:17.660739Z"
    }
   },
   "outputs": [
    {
     "name": "stdout",
     "output_type": "stream",
     "text": [
      "      RATING                                         REVIEWBODY\n",
      "0          2  pictures so far but every so often the color i...\n",
      "1          1  Attempts to get the camera fixed overseas were...\n",
      "2          1  Also, soon after we purchased this model, my h...\n",
      "3          1  Due to the lack of email response by Olympus, ...\n",
      "4          2  I had a Cannon Sure-shut point&shoot 35mm came...\n",
      "...      ...                                                ...\n",
      "90418      4                           Cons: Weak video quality\n",
      "90419      5  Please allow me to just get into the Pros and ...\n",
      "90420      4  Cons:- The High Dynamic Range (HDR) feature di...\n",
      "90421      5  Cons:#1 Lack of color choices for the camera- ...\n",
      "90422      4  Cons: Action shots are blurry even with stable...\n",
      "\n",
      "[90423 rows x 2 columns]\n"
     ]
    }
   ],
   "source": [
    "df[['RATING', 'REVIEWBODY']] = df.RATING.str.split(\",\", n=1, expand=True)\n",
    "print(df)"
   ]
  }
 ],
 "metadata": {
  "kernelspec": {
   "display_name": "Python 3",
   "language": "python",
   "name": "python3"
  },
  "language_info": {
   "codemirror_mode": {
    "name": "ipython",
    "version": 3
   },
   "file_extension": ".py",
   "mimetype": "text/x-python",
   "name": "python",
   "nbconvert_exporter": "python",
   "pygments_lexer": "ipython3",
   "version": "3.6.9"
  },
  "toc": {
   "base_numbering": 1,
   "nav_menu": {},
   "number_sections": true,
   "sideBar": true,
   "skip_h1_title": false,
   "title_cell": "Table of Contents",
   "title_sidebar": "Contents",
   "toc_cell": false,
   "toc_position": {},
   "toc_section_display": true,
   "toc_window_display": false
  },
  "varInspector": {
   "cols": {
    "lenName": 16,
    "lenType": 16,
    "lenVar": 40
   },
   "kernels_config": {
    "python": {
     "delete_cmd_postfix": "",
     "delete_cmd_prefix": "del ",
     "library": "var_list.py",
     "varRefreshCmd": "print(var_dic_list())"
    },
    "r": {
     "delete_cmd_postfix": ") ",
     "delete_cmd_prefix": "rm(",
     "library": "var_list.r",
     "varRefreshCmd": "cat(var_dic_list()) "
    }
   },
   "types_to_exclude": [
    "module",
    "function",
    "builtin_function_or_method",
    "instance",
    "_Feature"
   ],
   "window_display": false
  }
 },
 "nbformat": 4,
 "nbformat_minor": 2
}
