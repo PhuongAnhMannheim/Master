{
 "cells": [
  {
   "cell_type": "code",
   "execution_count": 1,
   "metadata": {
    "collapsed": true
   },
   "outputs": [],
   "source": [
    "from Scripts import loading as dl, cleaning as cl, profiling as pf\n",
    "from langdetect import detect"
   ]
  },
  {
   "cell_type": "code",
   "execution_count": 2,
   "outputs": [],
   "source": [
    "input_link = '../Data/reviews_Movies_and_TV_5.json.gz'\n",
    "df = dl.load_amazon_full(input_link)"
   ],
   "metadata": {
    "collapsed": false,
    "pycharm": {
     "name": "#%%\n"
    }
   }
  },
  {
   "cell_type": "code",
   "execution_count": 20,
   "outputs": [
    {
     "data": {
      "text/plain": "                                                text  label LANGUAGE\n0  This is a charming version of the classic Dick...    4.0       en\n1  It was good but not as emotionally moving as t...    3.0       en\n2  Don't get me wrong, Winkler is a wonderful cha...    3.0       en\n3  Henry Winkler is very good in this twist on th...    5.0       en\n4  This is one of the best Scrooge movies out.  H...    4.0       en",
      "text/html": "<div>\n<style scoped>\n    .dataframe tbody tr th:only-of-type {\n        vertical-align: middle;\n    }\n\n    .dataframe tbody tr th {\n        vertical-align: top;\n    }\n\n    .dataframe thead th {\n        text-align: right;\n    }\n</style>\n<table border=\"1\" class=\"dataframe\">\n  <thead>\n    <tr style=\"text-align: right;\">\n      <th></th>\n      <th>text</th>\n      <th>label</th>\n      <th>LANGUAGE</th>\n    </tr>\n  </thead>\n  <tbody>\n    <tr>\n      <th>0</th>\n      <td>This is a charming version of the classic Dick...</td>\n      <td>4.0</td>\n      <td>en</td>\n    </tr>\n    <tr>\n      <th>1</th>\n      <td>It was good but not as emotionally moving as t...</td>\n      <td>3.0</td>\n      <td>en</td>\n    </tr>\n    <tr>\n      <th>2</th>\n      <td>Don't get me wrong, Winkler is a wonderful cha...</td>\n      <td>3.0</td>\n      <td>en</td>\n    </tr>\n    <tr>\n      <th>3</th>\n      <td>Henry Winkler is very good in this twist on th...</td>\n      <td>5.0</td>\n      <td>en</td>\n    </tr>\n    <tr>\n      <th>4</th>\n      <td>This is one of the best Scrooge movies out.  H...</td>\n      <td>4.0</td>\n      <td>en</td>\n    </tr>\n  </tbody>\n</table>\n</div>"
     },
     "execution_count": 20,
     "metadata": {},
     "output_type": "execute_result"
    }
   ],
   "source": [
    "df.head()"
   ],
   "metadata": {
    "collapsed": false,
    "pycharm": {
     "name": "#%%\n"
    }
   }
  },
  {
   "cell_type": "code",
   "execution_count": 4,
   "outputs": [
    {
     "name": "stdout",
     "output_type": "stream",
     "text": [
      "Amount of reviews:  1697533\n"
     ]
    },
    {
     "data": {
      "text/plain": "           text         label\ncount   1697533  1.697533e+06\nunique  1696352           NaN\ntop                       NaN\nfreq         62           NaN\nmean        NaN  4.110648e+00\nstd         NaN  1.197615e+00\nmin         NaN  1.000000e+00\n25%         NaN  4.000000e+00\n50%         NaN  5.000000e+00\n75%         NaN  5.000000e+00\nmax         NaN  5.000000e+00",
      "text/html": "<div>\n<style scoped>\n    .dataframe tbody tr th:only-of-type {\n        vertical-align: middle;\n    }\n\n    .dataframe tbody tr th {\n        vertical-align: top;\n    }\n\n    .dataframe thead th {\n        text-align: right;\n    }\n</style>\n<table border=\"1\" class=\"dataframe\">\n  <thead>\n    <tr style=\"text-align: right;\">\n      <th></th>\n      <th>text</th>\n      <th>label</th>\n    </tr>\n  </thead>\n  <tbody>\n    <tr>\n      <th>count</th>\n      <td>1697533</td>\n      <td>1.697533e+06</td>\n    </tr>\n    <tr>\n      <th>unique</th>\n      <td>1696352</td>\n      <td>NaN</td>\n    </tr>\n    <tr>\n      <th>top</th>\n      <td></td>\n      <td>NaN</td>\n    </tr>\n    <tr>\n      <th>freq</th>\n      <td>62</td>\n      <td>NaN</td>\n    </tr>\n    <tr>\n      <th>mean</th>\n      <td>NaN</td>\n      <td>4.110648e+00</td>\n    </tr>\n    <tr>\n      <th>std</th>\n      <td>NaN</td>\n      <td>1.197615e+00</td>\n    </tr>\n    <tr>\n      <th>min</th>\n      <td>NaN</td>\n      <td>1.000000e+00</td>\n    </tr>\n    <tr>\n      <th>25%</th>\n      <td>NaN</td>\n      <td>4.000000e+00</td>\n    </tr>\n    <tr>\n      <th>50%</th>\n      <td>NaN</td>\n      <td>5.000000e+00</td>\n    </tr>\n    <tr>\n      <th>75%</th>\n      <td>NaN</td>\n      <td>5.000000e+00</td>\n    </tr>\n    <tr>\n      <th>max</th>\n      <td>NaN</td>\n      <td>5.000000e+00</td>\n    </tr>\n  </tbody>\n</table>\n</div>"
     },
     "execution_count": 4,
     "metadata": {},
     "output_type": "execute_result"
    }
   ],
   "source": [
    "pf.get_review_count(df)\n",
    "total = len(df)\n",
    "df.describe(include='all')"
   ],
   "metadata": {
    "collapsed": false,
    "pycharm": {
     "name": "#%%\n"
    }
   }
  },
  {
   "cell_type": "code",
   "execution_count": 5,
   "outputs": [
    {
     "name": "stdout",
     "output_type": "stream",
     "text": [
      "0\n"
     ]
    }
   ],
   "source": [
    "df_no_text = df[df.label.isnull()]\n",
    "print(len(df_no_text))"
   ],
   "metadata": {
    "collapsed": false,
    "pycharm": {
     "name": "#%%\n"
    }
   }
  },
  {
   "cell_type": "code",
   "execution_count": 6,
   "outputs": [
    {
     "name": "stdout",
     "output_type": "stream",
     "text": [
      "Missing review data as percentage: 0.00% \n",
      "Missing rating information as percentage: 0.00%\n",
      "After removing missing text and ratings:  1697533\n"
     ]
    }
   ],
   "source": [
    "# DATA COMPLETENESS\n",
    "# Del incomplete entries based on missing values\n",
    "print('Missing review data as percentage: {:.2%} '.format(len(df[df.text.isnull()])/total))\n",
    "print('Missing rating information as percentage: {:.2%}'.format(len(df[df.text.isnull()&df.label.isnull()])/total))\n",
    "df = df[df.text.notnull()&df.label.notnull()]\n",
    "print(\"After removing missing text and ratings: \", len(df))"
   ],
   "metadata": {
    "collapsed": false,
    "pycharm": {
     "name": "#%%\n"
    }
   }
  },
  {
   "cell_type": "code",
   "execution_count": 7,
   "outputs": [
    {
     "name": "stdout",
     "output_type": "stream",
     "text": [
      "After removing empty text:  1697471\n"
     ]
    }
   ],
   "source": [
    "# Del incomplete entries based on implictly missing values\n",
    "df = df[df.text!='']\n",
    "print(\"After removing empty text: \", len(df))"
   ],
   "metadata": {
    "collapsed": false,
    "pycharm": {
     "name": "#%%\n"
    }
   }
  },
  {
   "cell_type": "code",
   "execution_count": 8,
   "outputs": [
    {
     "name": "stdout",
     "output_type": "stream",
     "text": [
      "exception: :)\n",
      "exception: ********* **** ********* *** ***** ****** ***** ****** ****** ******* ********** *********** ****** ****** *****  ***** **** **** ****** ****** *******\n",
      "exception: ........ ...... .. . .... ... ...... ..... ... .... .... ..... .. .. .. .. .. .. .. .. .. ... .. .. .. .. .. .. .. . ... .. ... .... ... ... . ..... ... ... ... ... ... .\n"
     ]
    },
    {
     "data": {
      "text/plain": "en    1693575\nde        778\nes        706\naf        577\nfr        242\nro        197\nso        155\ncy        129\nca        121\nit        110\nno        109\npt        100\nsl         93\nsk         91\nda         68\nnl         57\ntl         57\net         48\nvi         45\nid         39\npl         38\nsq         28\nhr         24\nfi         14\ntr         14\nhu         12\nsv         11\nsw         10\ncs          8\nlt          6\nlv          6\nName: LANGUAGE, dtype: int64"
     },
     "execution_count": 8,
     "metadata": {},
     "output_type": "execute_result"
    }
   ],
   "source": [
    "# Using Language detection for detecting invalid texts\n",
    "def detectLang(row):\n",
    "    try:\n",
    "        return detect(row['text'])\n",
    "    except:\n",
    "        print(\"exception:\", row['text'])\n",
    "    else:\n",
    "        print(\"sad:\", row['text'])\n",
    "df['LANGUAGE'] = df.apply(detectLang, axis=1)\n",
    "df['LANGUAGE'].value_counts()"
   ],
   "metadata": {
    "collapsed": false,
    "pycharm": {
     "name": "#%%\n"
    }
   }
  },
  {
   "cell_type": "code",
   "execution_count": 16,
   "outputs": [],
   "source": [
    "df_dup = df[df.duplicated(subset=['text','label'], keep='last')]\n",
    "df_dup2 = df[df.duplicated(subset=['text'], keep='last')]"
   ],
   "metadata": {
    "collapsed": false,
    "pycharm": {
     "name": "#%%\n"
    }
   }
  },
  {
   "cell_type": "code",
   "execution_count": 17,
   "outputs": [
    {
     "data": {
      "text/plain": "count       0\nunique      0\ntop       NaN\nfreq      NaN\nName: word_count, dtype: object"
     },
     "execution_count": 17,
     "metadata": {},
     "output_type": "execute_result"
    }
   ],
   "source": [
    "# Should be zero after the deleting duplicates\n",
    "pf.create_word_count(df_dup)\n",
    "df_dup['word_count'].describe()"
   ],
   "metadata": {
    "collapsed": false,
    "pycharm": {
     "name": "#%%\n"
    }
   }
  },
  {
   "cell_type": "code",
   "execution_count": 13,
   "outputs": [
    {
     "data": {
      "text/plain": "count    1120.000000\nmean       41.163393\nstd       118.620139\nmin         1.000000\n25%         2.000000\n50%         2.000000\n75%         3.000000\nmax      2210.000000\nName: word_count, dtype: float64"
     },
     "execution_count": 13,
     "metadata": {},
     "output_type": "execute_result"
    }
   ],
   "source": [
    "pf.create_word_count(df_dup2)\n",
    "df_dup2['word_count'].describe()"
   ],
   "metadata": {
    "collapsed": false,
    "pycharm": {
     "name": "#%%\n"
    }
   }
  },
  {
   "cell_type": "code",
   "execution_count": 14,
   "outputs": [
    {
     "name": "stdout",
     "output_type": "stream",
     "text": [
      "Duplicate text and label from reviews without missing information: 0.06%\n",
      "Duplicate text: 0.07%\n"
     ]
    }
   ],
   "source": [
    "print(\"Duplicate text and label from reviews without missing information: {:.2%}\".format(len(df_dup)/ len(df)))\n",
    "print(\"Duplicate text: {:.2%}\".format(len(df_dup2)/ len(df)))"
   ],
   "metadata": {
    "collapsed": false,
    "pycharm": {
     "name": "#%%\n"
    }
   }
  },
  {
   "cell_type": "code",
   "execution_count": 15,
   "outputs": [
    {
     "name": "stdout",
     "output_type": "stream",
     "text": [
      "After removing duplicate entries and texts:  1696351\n"
     ]
    }
   ],
   "source": [
    "df= df.drop_duplicates(subset=['text','label'], keep='last')\n",
    "df = df.drop_duplicates(subset=['text'], keep='last')\n",
    "print(\"After removing duplicate entries and texts: \", len(df))"
   ],
   "metadata": {
    "collapsed": false,
    "pycharm": {
     "name": "#%%\n"
    }
   }
  },
  {
   "cell_type": "code",
   "execution_count": 19,
   "outputs": [
    {
     "name": "stdout",
     "output_type": "stream",
     "text": [
      "After removing non-english text: 1693041\n"
     ]
    }
   ],
   "source": [
    "# Del what is not recognized as english\n",
    "df = df[df['LANGUAGE'] == \"en\"]\n",
    "print(\"After removing non-english text:\", len(df))"
   ],
   "metadata": {
    "collapsed": false,
    "pycharm": {
     "name": "#%%\n"
    }
   }
  },
  {
   "cell_type": "code",
   "execution_count": 18,
   "outputs": [
    {
     "data": {
      "text/plain": "Empty DataFrame\nColumns: [text, label, LANGUAGE]\nIndex: []",
      "text/html": "<div>\n<style scoped>\n    .dataframe tbody tr th:only-of-type {\n        vertical-align: middle;\n    }\n\n    .dataframe tbody tr th {\n        vertical-align: top;\n    }\n\n    .dataframe thead th {\n        text-align: right;\n    }\n</style>\n<table border=\"1\" class=\"dataframe\">\n  <thead>\n    <tr style=\"text-align: right;\">\n      <th></th>\n      <th>text</th>\n      <th>label</th>\n      <th>LANGUAGE</th>\n    </tr>\n  </thead>\n  <tbody>\n  </tbody>\n</table>\n</div>"
     },
     "execution_count": 18,
     "metadata": {},
     "output_type": "execute_result"
    }
   ],
   "source": [
    "# Other heuristics: testing the exceptions from langdetect\n",
    "# Test on invalid\n",
    "# df[df.text.str.contains('&#1575;')]   # -> del 6536\n",
    "# df[df.text.str.contains('&#1576;')]   # 6536\n",
    "# df[df.text=='#2']\n",
    "# df[df.text.str.contains('&#1588')]    # 6536\n",
    "# df[df.text.str.contains('&#20294;')]\n",
    "# df[df.text.str.contains('&#1603;')]   # 6536\n",
    "# df=df[~df.text.str.contains('&#1575;')]\n",
    "# len(df)"
   ],
   "metadata": {
    "collapsed": false,
    "pycharm": {
     "name": "#%%\n"
    }
   }
  },
  {
   "cell_type": "code",
   "execution_count": 21,
   "outputs": [],
   "source": [
    "# Finally keeping only the wanted properties\n",
    "df = df[['text', 'label']]"
   ],
   "metadata": {
    "collapsed": false,
    "pycharm": {
     "name": "#%%\n"
    }
   }
  },
  {
   "cell_type": "code",
   "execution_count": 22,
   "outputs": [],
   "source": [
    "df.to_pickle('../Data/amazon_movie.pkl')\n",
    "\n",
    "\n"
   ],
   "metadata": {
    "collapsed": false,
    "pycharm": {
     "name": "#%%\n"
    }
   }
  }
 ],
 "metadata": {
  "kernelspec": {
   "display_name": "Python 3",
   "language": "python",
   "name": "python3"
  },
  "language_info": {
   "codemirror_mode": {
    "name": "ipython",
    "version": 2
   },
   "file_extension": ".py",
   "mimetype": "text/x-python",
   "name": "python",
   "nbconvert_exporter": "python",
   "pygments_lexer": "ipython2",
   "version": "2.7.6"
  }
 },
 "nbformat": 4,
 "nbformat_minor": 0
}