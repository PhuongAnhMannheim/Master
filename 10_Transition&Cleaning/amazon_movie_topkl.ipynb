{
 "cells": [
  {
   "cell_type": "code",
   "execution_count": 1,
   "metadata": {
    "collapsed": true,
    "pycharm": {
     "name": "#%%\n"
    }
   },
   "outputs": [
    {
     "name": "stdout",
     "output_type": "stream",
     "text": [
      "                                                text  label\n",
      "0  This is a charming version of the classic Dick...    4.0\n",
      "1  It was good but not as emotionally moving as t...    3.0\n",
      "2  Don't get me wrong, Winkler is a wonderful cha...    3.0\n",
      "3  Henry Winkler is very good in this twist on th...    5.0\n",
      "4  This is one of the best Scrooge movies out.  H...    4.0\n",
      "######## Total: \n",
      "Amount of reviews:  1697533\n",
      "######## DESCRIPTION\n",
      "           text         label\n",
      "count   1697533  1.697533e+06\n",
      "unique  1696352           NaN\n",
      "top                       NaN\n",
      "freq         62           NaN\n",
      "mean        NaN  4.110648e+00\n",
      "std         NaN  1.197615e+00\n",
      "min         NaN  1.000000e+00\n",
      "25%         NaN  4.000000e+00\n",
      "50%         NaN  5.000000e+00\n",
      "75%         NaN  5.000000e+00\n",
      "max         NaN  5.000000e+00\n",
      "######## DATA COMPLETENESS\n",
      "Missing review data: 62\n",
      "Missing review data as percentage: 0.00365% \n",
      "Missing rating information 0\n",
      "Missing rating information as percentage: 0.00%\n",
      "After removing missing text and ratings:  1697471\n",
      "######## DUPLICATE DETECTION\n",
      "Duplicate text:  1120\n",
      "Duplicate text: 0.07%\n",
      "Duplicate textand label:  973\n",
      "Duplicate text and label from reviews without missing information: 0.06%\n",
      "After removing duplicate entries and texts:  1696351\n",
      "######## LINGUISTIC AFFILIATION\n",
      "exception: :)\n",
      "exception: ********* **** ********* *** ***** ****** ***** ****** ****** ******* ********** *********** ****** ****** *****  ***** **** **** ****** ****** *******\n",
      "exception: ........ ...... .. . .... ... ...... ..... ... .... .... ..... .. .. .. .. .. .. .. .. .. ... .. .. .. .. .. .. .. . ... .. ... .... ... ... . ..... ... ... ... ... ... .\n",
      "After removing non-english text: 1693052\n",
      "######## OTHER HEURISTICS\n",
      "After removing from other cleaning heuristics:  1693051\n",
      "######## STORING\n",
      "to pickle done\n"
     ]
    },
    {
     "name": "stderr",
     "output_type": "stream",
     "text": [
      "c:\\users\\d064966\\appdata\\local\\continuum\\anaconda3\\envs\\masterthesis\\lib\\site-packages\\pandas\\core\\strings.py:2001: UserWarning: This pattern has match groups. To actually get the groups, use str.extract.\n",
      "  return func(self, *args, **kwargs)\n"
     ]
    }
   ],
   "source": [
    "from Scripts import loading as dl, profiling as pf, cleaning as cl\n",
    "\n",
    "\n",
    "input_link = '../Data/reviews_Movies_and_TV_5.json.gz'\n",
    "df = dl.load_amazon_full(input_link)\n",
    "\n",
    "print('######## FIRST GENERAL INSIGHT')\n",
    "print(df.head())\n",
    "pf.get_review_count(df)\n",
    "pf.get_descr(df)\n",
    "\n",
    "\n",
    "print('######## DATA COMPLETENESS')\n",
    "pf.get_missing_text(df)\n",
    "pf.get_missing_label(df)\n",
    "df = cl.proceed_data_completion(df)\n",
    "\n",
    "\n",
    "print('######## DUPLICATE DETECTION')\n",
    "pf.get_duplicates(df)\n",
    "df = cl.drop_duplicates(df)\n",
    "\n",
    "\n",
    "# LINGUISTIC AFFILIATION\n",
    "print('######## LINGUISTIC AFFILIATION')\n",
    "df = cl.remove_non_english(df)\n",
    "pf.show_lang_dist(df, 'amazon_movie_lang_non_eng_dist', 'non-English Language Distribution (Amazon Movies & TV)', 0)\n",
    "pf.show_lang_dist(df, 'amazon_movie_lang_all_dist', 'Language Distribution (Amazon Movies & TV)', 1)\n",
    "\n",
    "\n",
    "# OTHER HEURISTICS: based on exceptions\n",
    "print('######## OTHER HEURISTICS')\n",
    "df = df[~df.text.str.contains(r'^&#((15|16|20)[0-9]{2,3});*')]\n",
    "print('After removing from other cleaning heuristics: ', len(df))\n",
    "\n",
    "\n",
    "# STORING VIA PICKLING\n",
    "print('######## STORING')\n",
    "# Finally keeping only the wanted properties\n",
    "df = df[['text', 'label']]\n",
    "df.to_pickle('../Data/amazon_movie.pkl')\n",
    "print('to pickle done')\n",
    "\n"
   ]
  }
 ],
 "metadata": {
  "kernelspec": {
   "display_name": "Python 3",
   "language": "python",
   "name": "python3"
  },
  "language_info": {
   "codemirror_mode": {
    "name": "ipython",
    "version": 2
   },
   "file_extension": ".py",
   "mimetype": "text/x-python",
   "name": "python",
   "nbconvert_exporter": "python",
   "pygments_lexer": "ipython2",
   "version": "2.7.6"
  }
 },
 "nbformat": 4,
 "nbformat_minor": 0
}