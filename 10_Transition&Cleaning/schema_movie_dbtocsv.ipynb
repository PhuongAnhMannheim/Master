{
 "cells": [
  {
   "cell_type": "code",
   "execution_count": 1,
   "metadata": {
    "ExecuteTime": {
     "end_time": "2020-08-06T15:32:52.102233Z",
     "start_time": "2020-08-06T15:32:52.062841Z"
    }
   },
   "outputs": [],
   "source": [
    "from langdetect import detect\n",
    "import re\n",
    "from Scripts import loading as dl, profiling as pf, cleaning as cl\n",
    "import matplotlib.pyplot as plt"
   ]
  },
  {
   "cell_type": "code",
   "execution_count": 2,
   "metadata": {
    "ExecuteTime": {
     "end_time": "2020-08-06T14:00:42.417256Z",
     "start_time": "2020-08-06T14:00:42.384240Z"
    },
    "pycharm": {
     "name": "#%%\n"
    }
   },
   "outputs": [],
   "source": [
    "# Input\n",
    "db_path = '../Data/moviewreviews.db'\n",
    "db_name = 'moviereviews'\n",
    "df = dl.load_from_db(db_path, db_name)"
   ]
  },
  {
   "cell_type": "code",
   "execution_count": 3,
   "outputs": [
    {
     "data": {
      "text/plain": "                                     NODE  \\\n0  _:nodea456ab92b2669279485e1ddc64944bf0   \n1   _:nodee7b066aef1465ef6796152d5b23eefd   \n2   _:node3b52118bf545246233aa662aad8a194   \n3     _:nodef82d8af1d090997015dbe94ab45ad   \n4   _:nodeecc0f025103514ba011df1542adef7b   \n\n                                                 URL  \\\n0  https://in.bookmyshow.com/amritsar/movies/hous...   \n1  https://in.bookmyshow.com/amritsar/movies/hous...   \n2  https://in.bookmyshow.com/amritsar/movies/hous...   \n3  https://in.bookmyshow.com/amritsar/movies/hous...   \n4  https://in.bookmyshow.com/amritsar/movies/hous...   \n\n                                          REVIEWBODY  \\\n0  \"Housefull 4 is about the mistaken identities,...   \n1                                               None   \n2  \"Overall, Housefull 4 ends up as a complete ma...   \n3                                               None   \n4  \"HOUSEFULL 4 is a major disappointment and suf...   \n\n                                  RATING REVIEWRATING BESTRATING WORSTRATING  \n0  _:nodee7b066aef1465ef6796152d5b23eefd          2.5  \"Null\"@en      \"2\"@en  \n1                                   None    \"Null\"@en  \"Null\"@en      \"2\"@en  \n2    _:nodef82d8af1d090997015dbe94ab45ad          2.5  \"Null\"@en      \"2\"@en  \n3                                   None    \"Null\"@en  \"Null\"@en      \"2\"@en  \n4  _:node5e5e1ef8427cb3f95ead0badefcd4c8            2  \"Null\"@en      \"2\"@en  ",
      "text/html": "<div>\n<style scoped>\n    .dataframe tbody tr th:only-of-type {\n        vertical-align: middle;\n    }\n\n    .dataframe tbody tr th {\n        vertical-align: top;\n    }\n\n    .dataframe thead th {\n        text-align: right;\n    }\n</style>\n<table border=\"1\" class=\"dataframe\">\n  <thead>\n    <tr style=\"text-align: right;\">\n      <th></th>\n      <th>NODE</th>\n      <th>URL</th>\n      <th>REVIEWBODY</th>\n      <th>RATING</th>\n      <th>REVIEWRATING</th>\n      <th>BESTRATING</th>\n      <th>WORSTRATING</th>\n    </tr>\n  </thead>\n  <tbody>\n    <tr>\n      <th>0</th>\n      <td>_:nodea456ab92b2669279485e1ddc64944bf0</td>\n      <td>https://in.bookmyshow.com/amritsar/movies/hous...</td>\n      <td>\"Housefull 4 is about the mistaken identities,...</td>\n      <td>_:nodee7b066aef1465ef6796152d5b23eefd</td>\n      <td>2.5</td>\n      <td>\"Null\"@en</td>\n      <td>\"2\"@en</td>\n    </tr>\n    <tr>\n      <th>1</th>\n      <td>_:nodee7b066aef1465ef6796152d5b23eefd</td>\n      <td>https://in.bookmyshow.com/amritsar/movies/hous...</td>\n      <td>None</td>\n      <td>None</td>\n      <td>\"Null\"@en</td>\n      <td>\"Null\"@en</td>\n      <td>\"2\"@en</td>\n    </tr>\n    <tr>\n      <th>2</th>\n      <td>_:node3b52118bf545246233aa662aad8a194</td>\n      <td>https://in.bookmyshow.com/amritsar/movies/hous...</td>\n      <td>\"Overall, Housefull 4 ends up as a complete ma...</td>\n      <td>_:nodef82d8af1d090997015dbe94ab45ad</td>\n      <td>2.5</td>\n      <td>\"Null\"@en</td>\n      <td>\"2\"@en</td>\n    </tr>\n    <tr>\n      <th>3</th>\n      <td>_:nodef82d8af1d090997015dbe94ab45ad</td>\n      <td>https://in.bookmyshow.com/amritsar/movies/hous...</td>\n      <td>None</td>\n      <td>None</td>\n      <td>\"Null\"@en</td>\n      <td>\"Null\"@en</td>\n      <td>\"2\"@en</td>\n    </tr>\n    <tr>\n      <th>4</th>\n      <td>_:nodeecc0f025103514ba011df1542adef7b</td>\n      <td>https://in.bookmyshow.com/amritsar/movies/hous...</td>\n      <td>\"HOUSEFULL 4 is a major disappointment and suf...</td>\n      <td>_:node5e5e1ef8427cb3f95ead0badefcd4c8</td>\n      <td>2</td>\n      <td>\"Null\"@en</td>\n      <td>\"2\"@en</td>\n    </tr>\n  </tbody>\n</table>\n</div>"
     },
     "execution_count": 3,
     "metadata": {},
     "output_type": "execute_result"
    }
   ],
   "source": [
    "df.head()"
   ],
   "metadata": {
    "collapsed": false,
    "pycharm": {
     "name": "#%%\n"
    }
   }
  },
  {
   "cell_type": "code",
   "execution_count": 24,
   "outputs": [
    {
     "data": {
      "text/plain": "       REVIEWRATING_new  BESTRATING_new  WORSTRATING_new  REVIEWRATING_adj\ncount      76451.000000    76451.000000     76451.000000      76451.000000\nmean          13.521053       27.368995         0.478843          3.242168\nstd           19.156030       37.572783         0.499555          1.164397\nmin            0.000000        4.000000         0.000000          1.000000\n25%            3.000000        5.000000         0.000000          3.000000\n50%            5.000000       10.000000         0.000000          3.000000\n75%           10.000000       10.000000         1.000000          4.000000\nmax           99.000000       99.000000         1.000000          5.000000",
      "text/html": "<div>\n<style scoped>\n    .dataframe tbody tr th:only-of-type {\n        vertical-align: middle;\n    }\n\n    .dataframe tbody tr th {\n        vertical-align: top;\n    }\n\n    .dataframe thead th {\n        text-align: right;\n    }\n</style>\n<table border=\"1\" class=\"dataframe\">\n  <thead>\n    <tr style=\"text-align: right;\">\n      <th></th>\n      <th>REVIEWRATING_new</th>\n      <th>BESTRATING_new</th>\n      <th>WORSTRATING_new</th>\n      <th>REVIEWRATING_adj</th>\n    </tr>\n  </thead>\n  <tbody>\n    <tr>\n      <th>count</th>\n      <td>76451.000000</td>\n      <td>76451.000000</td>\n      <td>76451.000000</td>\n      <td>76451.000000</td>\n    </tr>\n    <tr>\n      <th>mean</th>\n      <td>13.521053</td>\n      <td>27.368995</td>\n      <td>0.478843</td>\n      <td>3.242168</td>\n    </tr>\n    <tr>\n      <th>std</th>\n      <td>19.156030</td>\n      <td>37.572783</td>\n      <td>0.499555</td>\n      <td>1.164397</td>\n    </tr>\n    <tr>\n      <th>min</th>\n      <td>0.000000</td>\n      <td>4.000000</td>\n      <td>0.000000</td>\n      <td>1.000000</td>\n    </tr>\n    <tr>\n      <th>25%</th>\n      <td>3.000000</td>\n      <td>5.000000</td>\n      <td>0.000000</td>\n      <td>3.000000</td>\n    </tr>\n    <tr>\n      <th>50%</th>\n      <td>5.000000</td>\n      <td>10.000000</td>\n      <td>0.000000</td>\n      <td>3.000000</td>\n    </tr>\n    <tr>\n      <th>75%</th>\n      <td>10.000000</td>\n      <td>10.000000</td>\n      <td>1.000000</td>\n      <td>4.000000</td>\n    </tr>\n    <tr>\n      <th>max</th>\n      <td>99.000000</td>\n      <td>99.000000</td>\n      <td>1.000000</td>\n      <td>5.000000</td>\n    </tr>\n  </tbody>\n</table>\n</div>"
     },
     "execution_count": 24,
     "metadata": {},
     "output_type": "execute_result"
    }
   ],
   "source": [
    "total = len(df)\n",
    "df.describe()"
   ],
   "metadata": {
    "collapsed": false,
    "pycharm": {
     "name": "#%%\n"
    }
   }
  },
  {
   "cell_type": "code",
   "execution_count": 25,
   "outputs": [
    {
     "name": "stdout",
     "output_type": "stream",
     "text": [
      "Missing review data as percentage: 0.00% \n",
      "Missing rating information as percentage: 0.00%\n",
      "After removing missing text and ratings:  76451\n"
     ]
    }
   ],
   "source": [
    "# DATA COMPLETENESS\n",
    "# Del incomplete entries based on missing values\n",
    "print('Missing review data as percentage: {:.2%} '.format(len(df[df.REVIEWBODY.isnull()])/len(df)))\n",
    "print('Missing rating information as percentage: {:.2%}'.format(len(df[df.REVIEWBODY.isnull()&df.RATING.isnull()&df.REVIEWRATING.isnull()&df.BESTRATING.isnull()&df.WORSTRATING.isnull()])/total))\n",
    "df = df[df.REVIEWBODY.notnull()&df.RATING.notnull()&df.REVIEWRATING.notnull()&df.BESTRATING.notnull()&df.WORSTRATING.notnull()]\n",
    "print(\"After removing missing text and ratings: \", len(df))"
   ],
   "metadata": {
    "collapsed": false,
    "pycharm": {
     "name": "#%%\n"
    }
   }
  },
  {
   "cell_type": "code",
   "execution_count": 6,
   "outputs": [
    {
     "name": "stdout",
     "output_type": "stream",
     "text": [
      "Implicitly missing rating data as percentage: 12.91% \n",
      "After removing implictly missing rating information:  96658\n"
     ]
    }
   ],
   "source": [
    "# Del incomplete entries based on implictly missing values\n",
    "def hasNumbers(inputString):\n",
    "    return any(char.isdigit() for char in inputString)\n",
    "def checkmisrat(row):\n",
    "    result = hasNumbers(row['REVIEWRATING']) and hasNumbers(row['BESTRATING']) and hasNumbers(row['WORSTRATING'])\n",
    "    return result\n",
    "df['mis_rat'] = df.apply(checkmisrat, axis=1)\n",
    "print('Implicitly missing rating data as percentage: {:.2%} '.format((len(df[df['mis_rat']==False]))/total))\n",
    "df = df[df['mis_rat']==True]\n",
    "print(\"After removing implictly missing rating information: \", len(df))"
   ],
   "metadata": {
    "collapsed": false,
    "pycharm": {
     "name": "#%%\n"
    }
   }
  },
  {
   "cell_type": "code",
   "execution_count": 7,
   "outputs": [
    {
     "data": {
      "text/plain": "96658"
     },
     "execution_count": 7,
     "metadata": {},
     "output_type": "execute_result"
    }
   ],
   "source": [
    "# Generally del missing values (should not change much by now)\n",
    "df.dropna()\n",
    "len(df)"
   ],
   "metadata": {
    "collapsed": false,
    "pycharm": {
     "name": "#%%\n"
    }
   }
  },
  {
   "cell_type": "code",
   "execution_count": 8,
   "outputs": [
    {
     "name": "stdout",
     "output_type": "stream",
     "text": [
      "Duplicate text and label from reviews without missing information: 20.30%\n",
      "Duplicate text: 20.34%\n",
      "After removing duplicate entries and texts:  76997\n"
     ]
    }
   ],
   "source": [
    "# DUPLICATION DELETION\n",
    "\n",
    "df_dup = df[df.duplicated(subset=['REVIEWBODY','REVIEWRATING'], keep='last')]\n",
    "df_dup2 = df[df.duplicated(subset=['REVIEWBODY'], keep='last')]\n",
    "print(\"Duplicate text and label from reviews without missing information: {:.2%}\".format(len(df_dup)/ len(df)))\n",
    "print(\"Duplicate text: {:.2%}\".format(len(df_dup2)/ len(df)))\n",
    "\n",
    "df= df.drop_duplicates(subset=['REVIEWBODY','REVIEWRATING'], keep='last')\n",
    "df = df.drop_duplicates(subset=['REVIEWBODY'], keep='last')\n",
    "print(\"After removing duplicate entries and texts: \", len(df))"
   ],
   "metadata": {
    "collapsed": false,
    "pycharm": {
     "name": "#%%\n"
    }
   }
  },
  {
   "cell_type": "code",
   "execution_count": 9,
   "outputs": [
    {
     "name": "stdout",
     "output_type": "stream",
     "text": [
      "exception: \n",
      "exception: ....\n",
      "exception:  \n"
     ]
    },
    {
     "data": {
      "text/plain": "en    76451\nfr       79\nno       55\npt       44\naf       37\nnl       36\nit       35\nca       31\nro       29\nda       27\ncy       25\ntl       25\nes       18\nde       17\net       16\nso       15\nsv       13\nid       12\nfi        7\nsq        4\nhr        4\nhu        3\nsl        3\nsw        3\ntr        2\nlt        1\npl        1\nlv        1\nName: LANGUAGE, dtype: int64"
     },
     "execution_count": 9,
     "metadata": {},
     "output_type": "execute_result"
    }
   ],
   "source": [
    "# NON-ENGLISH TEXT DELETION\n",
    "def detectLang(row):\n",
    "    try:\n",
    "        return detect(row['REVIEWBODY'])\n",
    "    except:\n",
    "        print(\"exception:\", row['REVIEWBODY'])\n",
    "    else:\n",
    "        print(\"sad:\", row['REVIEWBODY'])\n",
    "df['LANGUAGE'] = df.apply(detectLang, axis=1)\n",
    "df['LANGUAGE'].value_counts()"
   ],
   "metadata": {
    "collapsed": false,
    "pycharm": {
     "name": "#%%\n"
    }
   }
  },
  {
   "cell_type": "code",
   "execution_count": 11,
   "outputs": [
    {
     "data": {
      "text/plain": "<Figure size 432x288 with 1 Axes>",
      "image/png": "[encoded data removed]"
     },
     "metadata": {},
     "output_type": "display_data"
    }
   ],
   "source": [
    "fig = plt.figure()\n",
    "ax = fig.add_axes([0,0,1,1])\n",
    "x = df['LANGUAGE'].value_counts().index\n",
    "y = df['LANGUAGE'].value_counts()\n",
    "ax.bar(x,y)\n",
    "plt.xlabel('Language')\n",
    "plt.ylabel('Number of reviews')\n",
    "plt.title(f'Language distribution')\n",
    "plt.rcParams['figure.facecolor'] = 'white'\n",
    "plt.show()\n",
    "fig.savefig(\"../Figures/schema_movie_lang_dist.png\")"
   ],
   "metadata": {
    "collapsed": false,
    "pycharm": {
     "name": "#%%\n"
    }
   }
  },
  {
   "cell_type": "code",
   "execution_count": 14,
   "outputs": [
    {
     "data": {
      "text/plain": "<Figure size 432x288 with 1 Axes>",
      "image/png": "[encoded data removed]"
     },
     "metadata": {},
     "output_type": "display_data"
    }
   ],
   "source": [
    "fig = plt.figure()\n",
    "ax = fig.add_axes([0,0,1,1])\n",
    "x = df[df['LANGUAGE']!='en']['LANGUAGE'].value_counts().index\n",
    "y = df[df['LANGUAGE']!='en']['LANGUAGE'].value_counts()\n",
    "ax.bar(x,y)\n",
    "plt.xlabel('Language')\n",
    "plt.ylabel('Number of reviews')\n",
    "plt.title(f'Language distribution of non-english text')\n",
    "plt.rcParams['figure.facecolor'] = 'white'\n",
    "plt.show()"
   ],
   "metadata": {
    "collapsed": false,
    "pycharm": {
     "name": "#%%\n"
    }
   }
  },
  {
   "cell_type": "code",
   "execution_count": 15,
   "outputs": [
    {
     "name": "stdout",
     "output_type": "stream",
     "text": [
      "After removing non-english text: 76451\n"
     ]
    }
   ],
   "source": [
    "df = df[df['LANGUAGE'] == \"en\"]\n",
    "print(\"After removing non-english text:\", len(df))"
   ],
   "metadata": {
    "collapsed": false,
    "pycharm": {
     "name": "#%%\n"
    }
   }
  },
  {
   "cell_type": "code",
   "execution_count": 16,
   "outputs": [],
   "source": [
    "# ADJUSTING THE RATING VALUES\n",
    "df['REVIEWRATING'].value_counts().index.tolist()\n",
    "# df['BESTRATING'].value_counts().index.tolist()\n",
    "# df['WORSTRATING'].value_counts().index.tolist()\n",
    "\n",
    "def chForm(value):\n",
    "    value = re.sub(r'[a-zA-Z]|@|%| |\"|-|\\\\', '', value)\n",
    "    # return value\n",
    "    if value != \"\":\n",
    "        value = float(value)\n",
    "    else:\n",
    "        value = float(0)\n",
    "    return round(value)\n",
    "df['REVIEWRATING_new'] = df.apply(lambda row: chForm(row['REVIEWRATING']), axis=1)\n",
    "df['BESTRATING_new']= df.apply(lambda row: chForm(row['BESTRATING']), axis=1)\n",
    "df['WORSTRATING_new']= df.apply(lambda row: chForm(row['WORSTRATING']), axis=1)"
   ],
   "metadata": {
    "collapsed": false,
    "pycharm": {
     "name": "#%%\n"
    }
   }
  },
  {
   "cell_type": "code",
   "execution_count": 17,
   "outputs": [
    {
     "data": {
      "text/plain": "[4,\n 3,\n 2,\n 1,\n 10,\n 5,\n 7,\n 8,\n 6,\n 39,\n 9,\n 59,\n 49,\n 29,\n 19,\n 69,\n 79,\n 0,\n 89,\n 99,\n 44,\n 54,\n 20,\n 64,\n 33,\n 34,\n 70,\n 45,\n 55,\n 50,\n 58,\n 42,\n 24,\n 30,\n 74,\n 40]"
     },
     "execution_count": 17,
     "metadata": {},
     "output_type": "execute_result"
    }
   ],
   "source": [
    "df['REVIEWRATING_new'].value_counts().index.tolist()\n",
    "# df['BESTRATING_new'].value_counts().index.tolist()\n",
    "# df['WORSTRATING_new'].value_counts().index.tolist()"
   ],
   "metadata": {
    "collapsed": false,
    "pycharm": {
     "name": "#%%\n"
    }
   }
  },
  {
   "cell_type": "code",
   "execution_count": 18,
   "outputs": [
    {
     "data": {
      "text/plain": "4     11112\n3      9911\n2      9069\n1      4992\n10     4948\n5      4417\n7      4186\n8      4179\n6      4120\n39     3636\n9      2997\n59     2983\n49     2649\n29     1911\n19     1894\n69     1633\n79      996\n0       565\n89      143\n99       42\n44       34\n54       13\n20        3\n64        3\n33        2\n34        2\n70        2\n45        1\n55        1\n50        1\n58        1\n42        1\n24        1\n30        1\n74        1\n40        1\nName: REVIEWRATING_new, dtype: int64"
     },
     "execution_count": 18,
     "metadata": {},
     "output_type": "execute_result"
    }
   ],
   "source": [
    "df['REVIEWRATING_new'].value_counts()\n"
   ],
   "metadata": {
    "collapsed": false,
    "pycharm": {
     "name": "#%%\n"
    }
   }
  },
  {
   "cell_type": "code",
   "execution_count": 19,
   "outputs": [],
   "source": [
    "def adjust_rating(n, range1, range2):\n",
    "    try:\n",
    "        if n > range1[1]:\n",
    "            return range2[1]\n",
    "        delta1 = range1[1] - range1[0]\n",
    "        delta2 = range2[1] - range2[0]\n",
    "        result =  (round(delta2 * (n - range1[0]) / delta1) + range2[0])\n",
    "        if result == 0:\n",
    "            result = 1\n",
    "        return result\n",
    "    except ZeroDivisionError:\n",
    "        if range1 == [5,5]:\n",
    "            return  5\n",
    "\n",
    "df['REVIEWRATING_adj'] = df.apply(lambda row: adjust_rating(row['REVIEWRATING_new'], [row['WORSTRATING_new'],row['BESTRATING_new']], [1.0,5.0]), axis=1)"
   ],
   "metadata": {
    "collapsed": false,
    "pycharm": {
     "name": "#%%\n"
    }
   }
  },
  {
   "cell_type": "code",
   "execution_count": 20,
   "outputs": [
    {
     "name": "stdout",
     "output_type": "stream",
     "text": [
      "3.0    0.349767\n",
      "4.0    0.243869\n",
      "5.0    0.164851\n",
      "2.0    0.151627\n",
      "1.0    0.089888\n",
      "Name: REVIEWRATING_adj, dtype: float64\n",
      "3.0    26740\n",
      "4.0    18644\n",
      "5.0    12603\n",
      "2.0    11592\n",
      "1.0     6872\n",
      "Name: REVIEWRATING_adj, dtype: int64\n"
     ]
    }
   ],
   "source": [
    "print(df['REVIEWRATING_adj'].value_counts(normalize=True))\n",
    "print(df['REVIEWRATING_adj'].value_counts())"
   ],
   "metadata": {
    "collapsed": false,
    "pycharm": {
     "name": "#%%\n"
    }
   }
  },
  {
   "cell_type": "code",
   "execution_count": 21,
   "outputs": [
    {
     "data": {
      "text/plain": "                                          NODE  \\\n106197   _:node7788d74dd3601fb097d98e3c7d47d5a   \n106199   _:node4d3b78dd51f3c8821591f0407881d6e   \n106201     _:nodea5179c3516155f22dfbd0e71a4691   \n106203  _:node7e1a7e8c2a31d8e71bf6e3fe579d1778   \n106205   _:node49f7761f3f49cfd93937456697796a0   \n\n                                                URL  \\\n106197  https://thereviewmonk.com/movie/chittagong/   \n106199  https://thereviewmonk.com/movie/chittagong/   \n106201  https://thereviewmonk.com/movie/chittagong/   \n106203  https://thereviewmonk.com/movie/chittagong/   \n106205  https://thereviewmonk.com/movie/chittagong/   \n\n                                               REVIEWBODY  \\\n106197  \" Shot ever so beautifully, Chittagong is a te...   \n106199  \" This is a film that needs watching, because ...   \n106201  \" And while Chittagong falls well short of bei...   \n106203                  \" An absolute must watch. \"@en-US   \n106205  \" What makes Chittagong particularly special i...   \n\n                                       RATING REVIEWRATING  BESTRATING  \\\n106197  _:nodeaca8f1a9454cb62be76f8e3bf353c69    \"6\"@en-US  \"10\"@en-US   \n106199  _:nodef43da5f4ce67454a20a240eb8ed522a    \"7\"@en-US  \"10\"@en-US   \n106201  _:nodee82f2fc743cae7c3852f032e5a477c2    \"6\"@en-US  \"10\"@en-US   \n106203  _:nodebd3ba152a61fe90c66bbd6b1bf6ccc5    \"8\"@en-US  \"10\"@en-US   \n106205   _:node4de79f1f47fa56d5df52ceaafb81ef    \"8\"@en-US  \"10\"@en-US   \n\n       WORSTRATING  mis_rat LANGUAGE  REVIEWRATING_new  BESTRATING_new  \\\n106197   \"0\"@en-US     True       en                 6              10   \n106199   \"0\"@en-US     True       en                 7              10   \n106201   \"0\"@en-US     True       en                 6              10   \n106203   \"0\"@en-US     True       en                 8              10   \n106205   \"0\"@en-US     True       en                 8              10   \n\n        WORSTRATING_new  REVIEWRATING_adj  \n106197                0               3.0  \n106199                0               4.0  \n106201                0               3.0  \n106203                0               4.0  \n106205                0               4.0  ",
      "text/html": "<div>\n<style scoped>\n    .dataframe tbody tr th:only-of-type {\n        vertical-align: middle;\n    }\n\n    .dataframe tbody tr th {\n        vertical-align: top;\n    }\n\n    .dataframe thead th {\n        text-align: right;\n    }\n</style>\n<table border=\"1\" class=\"dataframe\">\n  <thead>\n    <tr style=\"text-align: right;\">\n      <th></th>\n      <th>NODE</th>\n      <th>URL</th>\n      <th>REVIEWBODY</th>\n      <th>RATING</th>\n      <th>REVIEWRATING</th>\n      <th>BESTRATING</th>\n      <th>WORSTRATING</th>\n      <th>mis_rat</th>\n      <th>LANGUAGE</th>\n      <th>REVIEWRATING_new</th>\n      <th>BESTRATING_new</th>\n      <th>WORSTRATING_new</th>\n      <th>REVIEWRATING_adj</th>\n    </tr>\n  </thead>\n  <tbody>\n    <tr>\n      <th>106197</th>\n      <td>_:node7788d74dd3601fb097d98e3c7d47d5a</td>\n      <td>https://thereviewmonk.com/movie/chittagong/</td>\n      <td>\" Shot ever so beautifully, Chittagong is a te...</td>\n      <td>_:nodeaca8f1a9454cb62be76f8e3bf353c69</td>\n      <td>\"6\"@en-US</td>\n      <td>\"10\"@en-US</td>\n      <td>\"0\"@en-US</td>\n      <td>True</td>\n      <td>en</td>\n      <td>6</td>\n      <td>10</td>\n      <td>0</td>\n      <td>3.0</td>\n    </tr>\n    <tr>\n      <th>106199</th>\n      <td>_:node4d3b78dd51f3c8821591f0407881d6e</td>\n      <td>https://thereviewmonk.com/movie/chittagong/</td>\n      <td>\" This is a film that needs watching, because ...</td>\n      <td>_:nodef43da5f4ce67454a20a240eb8ed522a</td>\n      <td>\"7\"@en-US</td>\n      <td>\"10\"@en-US</td>\n      <td>\"0\"@en-US</td>\n      <td>True</td>\n      <td>en</td>\n      <td>7</td>\n      <td>10</td>\n      <td>0</td>\n      <td>4.0</td>\n    </tr>\n    <tr>\n      <th>106201</th>\n      <td>_:nodea5179c3516155f22dfbd0e71a4691</td>\n      <td>https://thereviewmonk.com/movie/chittagong/</td>\n      <td>\" And while Chittagong falls well short of bei...</td>\n      <td>_:nodee82f2fc743cae7c3852f032e5a477c2</td>\n      <td>\"6\"@en-US</td>\n      <td>\"10\"@en-US</td>\n      <td>\"0\"@en-US</td>\n      <td>True</td>\n      <td>en</td>\n      <td>6</td>\n      <td>10</td>\n      <td>0</td>\n      <td>3.0</td>\n    </tr>\n    <tr>\n      <th>106203</th>\n      <td>_:node7e1a7e8c2a31d8e71bf6e3fe579d1778</td>\n      <td>https://thereviewmonk.com/movie/chittagong/</td>\n      <td>\" An absolute must watch. \"@en-US</td>\n      <td>_:nodebd3ba152a61fe90c66bbd6b1bf6ccc5</td>\n      <td>\"8\"@en-US</td>\n      <td>\"10\"@en-US</td>\n      <td>\"0\"@en-US</td>\n      <td>True</td>\n      <td>en</td>\n      <td>8</td>\n      <td>10</td>\n      <td>0</td>\n      <td>4.0</td>\n    </tr>\n    <tr>\n      <th>106205</th>\n      <td>_:node49f7761f3f49cfd93937456697796a0</td>\n      <td>https://thereviewmonk.com/movie/chittagong/</td>\n      <td>\" What makes Chittagong particularly special i...</td>\n      <td>_:node4de79f1f47fa56d5df52ceaafb81ef</td>\n      <td>\"8\"@en-US</td>\n      <td>\"10\"@en-US</td>\n      <td>\"0\"@en-US</td>\n      <td>True</td>\n      <td>en</td>\n      <td>8</td>\n      <td>10</td>\n      <td>0</td>\n      <td>4.0</td>\n    </tr>\n  </tbody>\n</table>\n</div>"
     },
     "execution_count": 21,
     "metadata": {},
     "output_type": "execute_result"
    }
   ],
   "source": [
    "df.head()"
   ],
   "metadata": {
    "collapsed": false,
    "pycharm": {
     "name": "#%%\n"
    }
   }
  },
  {
   "cell_type": "code",
   "execution_count": 22,
   "outputs": [
    {
     "data": {
      "text/plain": "       REVIEWRATING_new  BESTRATING_new  WORSTRATING_new  REVIEWRATING_adj\ncount      76451.000000    76451.000000     76451.000000      76451.000000\nmean          13.521053       27.368995         0.478843          3.242168\nstd           19.156030       37.572783         0.499555          1.164397\nmin            0.000000        4.000000         0.000000          1.000000\n25%            3.000000        5.000000         0.000000          3.000000\n50%            5.000000       10.000000         0.000000          3.000000\n75%           10.000000       10.000000         1.000000          4.000000\nmax           99.000000       99.000000         1.000000          5.000000",
      "text/html": "<div>\n<style scoped>\n    .dataframe tbody tr th:only-of-type {\n        vertical-align: middle;\n    }\n\n    .dataframe tbody tr th {\n        vertical-align: top;\n    }\n\n    .dataframe thead th {\n        text-align: right;\n    }\n</style>\n<table border=\"1\" class=\"dataframe\">\n  <thead>\n    <tr style=\"text-align: right;\">\n      <th></th>\n      <th>REVIEWRATING_new</th>\n      <th>BESTRATING_new</th>\n      <th>WORSTRATING_new</th>\n      <th>REVIEWRATING_adj</th>\n    </tr>\n  </thead>\n  <tbody>\n    <tr>\n      <th>count</th>\n      <td>76451.000000</td>\n      <td>76451.000000</td>\n      <td>76451.000000</td>\n      <td>76451.000000</td>\n    </tr>\n    <tr>\n      <th>mean</th>\n      <td>13.521053</td>\n      <td>27.368995</td>\n      <td>0.478843</td>\n      <td>3.242168</td>\n    </tr>\n    <tr>\n      <th>std</th>\n      <td>19.156030</td>\n      <td>37.572783</td>\n      <td>0.499555</td>\n      <td>1.164397</td>\n    </tr>\n    <tr>\n      <th>min</th>\n      <td>0.000000</td>\n      <td>4.000000</td>\n      <td>0.000000</td>\n      <td>1.000000</td>\n    </tr>\n    <tr>\n      <th>25%</th>\n      <td>3.000000</td>\n      <td>5.000000</td>\n      <td>0.000000</td>\n      <td>3.000000</td>\n    </tr>\n    <tr>\n      <th>50%</th>\n      <td>5.000000</td>\n      <td>10.000000</td>\n      <td>0.000000</td>\n      <td>3.000000</td>\n    </tr>\n    <tr>\n      <th>75%</th>\n      <td>10.000000</td>\n      <td>10.000000</td>\n      <td>1.000000</td>\n      <td>4.000000</td>\n    </tr>\n    <tr>\n      <th>max</th>\n      <td>99.000000</td>\n      <td>99.000000</td>\n      <td>1.000000</td>\n      <td>5.000000</td>\n    </tr>\n  </tbody>\n</table>\n</div>"
     },
     "execution_count": 22,
     "metadata": {},
     "output_type": "execute_result"
    }
   ],
   "source": [
    "df.describe()"
   ],
   "metadata": {
    "collapsed": false,
    "pycharm": {
     "name": "#%%\n"
    }
   }
  },
  {
   "cell_type": "code",
   "execution_count": 23,
   "outputs": [],
   "source": [
    "df.to_csv('../Data/movie_reviews.csv')"
   ],
   "metadata": {
    "collapsed": false,
    "pycharm": {
     "name": "#%%\n"
    }
   }
  },
  {
   "cell_type": "code",
   "execution_count": null,
   "outputs": [],
   "source": [
    "# finding out where the reviews come from (domain specific)\n",
    "# def getNetloc(row):\n",
    "#     try:\n",
    "#         return urlparse(row['URL']).netloc\n",
    "#     except:\n",
    "#         print(\"expection: \", row['URL'])\n",
    "#     else:\n",
    "#         print(\"sad\", row['URL'])\n",
    "#\n",
    "# df['netloc'] = df.apply(getNetloc, axis = 1)\n",
    "# df.head()\n",
    "# df['netloc'].value_counts().index.to_list()\n",
    "# phone_lst = ['smartphone', 'phone',\n",
    "#              'phone case', 'phone cable', 'phone charger', 'phone mount',\n",
    "#              'cell phone', 'mobile phone']\n",
    "#\n",
    "#\n",
    "# # df_phone = df_en[df_en['REVIEWBODY'].isin(phone_lst)]\n",
    "# # print(df_phone.head())\n",
    "# # LANGUAGE'] == \"en\"]\n",
    "# df_en.head()"
   ],
   "metadata": {
    "collapsed": false,
    "pycharm": {
     "name": "#%%\n"
    }
   }
  }
 ],
 "metadata": {
  "kernelspec": {
   "display_name": "Python 3",
   "language": "python",
   "name": "python3"
  },
  "language_info": {
   "codemirror_mode": {
    "name": "ipython",
    "version": 3
   },
   "file_extension": ".py",
   "mimetype": "text/x-python",
   "name": "python",
   "nbconvert_exporter": "python",
   "pygments_lexer": "ipython3",
   "version": "3.6.9"
  },
  "toc": {
   "base_numbering": 1,
   "nav_menu": {},
   "number_sections": true,
   "sideBar": true,
   "skip_h1_title": false,
   "title_cell": "Table of Contents",
   "title_sidebar": "Contents",
   "toc_cell": false,
   "toc_position": {},
   "toc_section_display": true,
   "toc_window_display": false
  },
  "varInspector": {
   "cols": {
    "lenName": 16,
    "lenType": 16,
    "lenVar": 40
   },
   "kernels_config": {
    "python": {
     "delete_cmd_postfix": "",
     "delete_cmd_prefix": "del ",
     "library": "var_list.py",
     "varRefreshCmd": "print(var_dic_list())"
    },
    "r": {
     "delete_cmd_postfix": ") ",
     "delete_cmd_prefix": "rm(",
     "library": "var_list.r",
     "varRefreshCmd": "cat(var_dic_list()) "
    }
   },
   "types_to_exclude": [
    "module",
    "function",
    "builtin_function_or_method",
    "instance",
    "_Feature"
   ],
   "window_display": false
  }
 },
 "nbformat": 4,
 "nbformat_minor": 1
}