{
 "cells": [
  {
   "cell_type": "code",
   "execution_count": 1,
   "metadata": {
    "ExecuteTime": {
     "end_time": "2020-08-06T15:32:52.102233Z",
     "start_time": "2020-08-06T15:32:52.062841Z"
    }
   },
   "outputs": [],
   "source": [
    "from langdetect import detect\n",
    "import re\n",
    "from Scripts import loading as dl, profiling as pf, cleaning as cl\n",
    "import matplotlib.pyplot as plt"
   ]
  },
  {
   "cell_type": "code",
   "execution_count": 2,
   "metadata": {
    "ExecuteTime": {
     "end_time": "2020-08-06T14:00:42.417256Z",
     "start_time": "2020-08-06T14:00:42.384240Z"
    },
    "pycharm": {
     "name": "#%%\n"
    }
   },
   "outputs": [],
   "source": [
    "# Input\n",
    "db_path = '../Data/phonereviews.db'\n",
    "db_name = 'phonereviews'\n",
    "df = dl.load_from_db(db_path, db_name)"
   ]
  },
  {
   "cell_type": "code",
   "execution_count": 3,
   "outputs": [
    {
     "data": {
      "text/plain": "                                     NODE  \\\n0    _:node89ce3018196554d41bceaeac30a31e   \n1   _:nodec8b9fba77ad36d9d11460c11f9151d9   \n2  _:node46ac847e2080dc78cf9ae447647ac8d4   \n3     _:nodef160bce2dcba31bd02d1a072e6ad2   \n4  _:nodef4bf4b94afaabab1bbb342d3ccc284af   \n\n                                                 URL  \\\n0  https://www.techworld.com/review/smartphones/l...   \n1  https://www.technospain.es/fundas-smartphones-...   \n2  https://www.technospain.es/fundas-smartphones-...   \n3  https://www.technospain.es/fundas-smartphones-...   \n4  https://www.technospain.es/fundas-smartphones-...   \n\n                                          REVIEWBODY  \\\n0  \"The smartphone market is as competitive as ev...   \n1                                               None   \n2                                               None   \n3                                               None   \n4                                               None   \n\n                                   RATING REVIEWRATING BESTRATING WORSTRATING  \n0                                    None         None       None        None  \n1  _:node46ac847e2080dc78cf9ae447647ac8d4    \"5\"@es-es  \"5\"@es-es        None  \n2                                    None    \"5\"@es-es  \"5\"@es-es        None  \n3  _:nodef4bf4b94afaabab1bbb342d3ccc284af    \"2\"@es-es  \"5\"@es-es        None  \n4                                    None    \"2\"@es-es  \"5\"@es-es        None  ",
      "text/html": "<div>\n<style scoped>\n    .dataframe tbody tr th:only-of-type {\n        vertical-align: middle;\n    }\n\n    .dataframe tbody tr th {\n        vertical-align: top;\n    }\n\n    .dataframe thead th {\n        text-align: right;\n    }\n</style>\n<table border=\"1\" class=\"dataframe\">\n  <thead>\n    <tr style=\"text-align: right;\">\n      <th></th>\n      <th>NODE</th>\n      <th>URL</th>\n      <th>REVIEWBODY</th>\n      <th>RATING</th>\n      <th>REVIEWRATING</th>\n      <th>BESTRATING</th>\n      <th>WORSTRATING</th>\n    </tr>\n  </thead>\n  <tbody>\n    <tr>\n      <th>0</th>\n      <td>_:node89ce3018196554d41bceaeac30a31e</td>\n      <td>https://www.techworld.com/review/smartphones/l...</td>\n      <td>\"The smartphone market is as competitive as ev...</td>\n      <td>None</td>\n      <td>None</td>\n      <td>None</td>\n      <td>None</td>\n    </tr>\n    <tr>\n      <th>1</th>\n      <td>_:nodec8b9fba77ad36d9d11460c11f9151d9</td>\n      <td>https://www.technospain.es/fundas-smartphones-...</td>\n      <td>None</td>\n      <td>_:node46ac847e2080dc78cf9ae447647ac8d4</td>\n      <td>\"5\"@es-es</td>\n      <td>\"5\"@es-es</td>\n      <td>None</td>\n    </tr>\n    <tr>\n      <th>2</th>\n      <td>_:node46ac847e2080dc78cf9ae447647ac8d4</td>\n      <td>https://www.technospain.es/fundas-smartphones-...</td>\n      <td>None</td>\n      <td>None</td>\n      <td>\"5\"@es-es</td>\n      <td>\"5\"@es-es</td>\n      <td>None</td>\n    </tr>\n    <tr>\n      <th>3</th>\n      <td>_:nodef160bce2dcba31bd02d1a072e6ad2</td>\n      <td>https://www.technospain.es/fundas-smartphones-...</td>\n      <td>None</td>\n      <td>_:nodef4bf4b94afaabab1bbb342d3ccc284af</td>\n      <td>\"2\"@es-es</td>\n      <td>\"5\"@es-es</td>\n      <td>None</td>\n    </tr>\n    <tr>\n      <th>4</th>\n      <td>_:nodef4bf4b94afaabab1bbb342d3ccc284af</td>\n      <td>https://www.technospain.es/fundas-smartphones-...</td>\n      <td>None</td>\n      <td>None</td>\n      <td>\"2\"@es-es</td>\n      <td>\"5\"@es-es</td>\n      <td>None</td>\n    </tr>\n  </tbody>\n</table>\n</div>"
     },
     "execution_count": 3,
     "metadata": {},
     "output_type": "execute_result"
    }
   ],
   "source": [
    "df.head()"
   ],
   "metadata": {
    "collapsed": false,
    "pycharm": {
     "name": "#%%\n"
    }
   }
  },
  {
   "cell_type": "code",
   "execution_count": 4,
   "outputs": [
    {
     "data": {
      "text/plain": "                                         NODE  \\\ncount                                  809937   \nunique                                 809853   \ntop     _:node4b128649782cdf26f9296236cf3dddf   \nfreq                                        2   \n\n                                          URL           REVIEWBODY     RATING  \\\ncount                                  809937               316424     375232   \nunique                                  88282                73748     368907   \ntop     https://my-phone-finder.com/find-imei  \"Cancel this order\"  \\n\\n5 / 5   \nfreq                                     3590                31383       2898   \n\n       REVIEWRATING BESTRATING WORSTRATING  \ncount        735137     283704      190129  \nunique         2086        210         158  \ntop             \"5\"        \"5\"         \"0\"  \nfreq         387649      66637       53927  ",
      "text/html": "<div>\n<style scoped>\n    .dataframe tbody tr th:only-of-type {\n        vertical-align: middle;\n    }\n\n    .dataframe tbody tr th {\n        vertical-align: top;\n    }\n\n    .dataframe thead th {\n        text-align: right;\n    }\n</style>\n<table border=\"1\" class=\"dataframe\">\n  <thead>\n    <tr style=\"text-align: right;\">\n      <th></th>\n      <th>NODE</th>\n      <th>URL</th>\n      <th>REVIEWBODY</th>\n      <th>RATING</th>\n      <th>REVIEWRATING</th>\n      <th>BESTRATING</th>\n      <th>WORSTRATING</th>\n    </tr>\n  </thead>\n  <tbody>\n    <tr>\n      <th>count</th>\n      <td>809937</td>\n      <td>809937</td>\n      <td>316424</td>\n      <td>375232</td>\n      <td>735137</td>\n      <td>283704</td>\n      <td>190129</td>\n    </tr>\n    <tr>\n      <th>unique</th>\n      <td>809853</td>\n      <td>88282</td>\n      <td>73748</td>\n      <td>368907</td>\n      <td>2086</td>\n      <td>210</td>\n      <td>158</td>\n    </tr>\n    <tr>\n      <th>top</th>\n      <td>_:node4b128649782cdf26f9296236cf3dddf</td>\n      <td>https://my-phone-finder.com/find-imei</td>\n      <td>\"Cancel this order\"</td>\n      <td>\\n\\n5 / 5</td>\n      <td>\"5\"</td>\n      <td>\"5\"</td>\n      <td>\"0\"</td>\n    </tr>\n    <tr>\n      <th>freq</th>\n      <td>2</td>\n      <td>3590</td>\n      <td>31383</td>\n      <td>2898</td>\n      <td>387649</td>\n      <td>66637</td>\n      <td>53927</td>\n    </tr>\n  </tbody>\n</table>\n</div>"
     },
     "execution_count": 4,
     "metadata": {},
     "output_type": "execute_result"
    }
   ],
   "source": [
    "total = len(df)\n",
    "df.describe()"
   ],
   "metadata": {
    "collapsed": false,
    "pycharm": {
     "name": "#%%\n"
    }
   }
  },
  {
   "cell_type": "code",
   "execution_count": 5,
   "outputs": [
    {
     "name": "stdout",
     "output_type": "stream",
     "text": [
      "Missing review data as percentage: 60.93% \n",
      "Missing rating information as percentage: 3.10%\n",
      "After removing missing text and ratings:  45696\n"
     ]
    }
   ],
   "source": [
    "# DATA COMPLETENESS\n",
    "# Del incomplete entries based on missing values\n",
    "print('Missing review data as percentage: {:.2%} '.format(len(df[df.REVIEWBODY.isnull()])/len(df)))\n",
    "print('Missing rating information as percentage: {:.2%}'.format(len(df[df.REVIEWBODY.isnull()&df.RATING.isnull()&df.REVIEWRATING.isnull()&df.BESTRATING.isnull()&df.WORSTRATING.isnull()])/total))\n",
    "df = df[df.REVIEWBODY.notnull()&df.RATING.notnull()&df.REVIEWRATING.notnull()&df.BESTRATING.notnull()&df.WORSTRATING.notnull()]\n",
    "print(\"After removing missing text and ratings: \", len(df))"
   ],
   "metadata": {
    "collapsed": false,
    "pycharm": {
     "name": "#%%\n"
    }
   }
  },
  {
   "cell_type": "code",
   "execution_count": 6,
   "outputs": [
    {
     "name": "stdout",
     "output_type": "stream",
     "text": [
      "Implicitly missing rating data as percentage: 0.19% \n",
      "After removing implictly missing rating information:  44124\n"
     ]
    }
   ],
   "source": [
    "# Del incomplete entries based on implictly missing values\n",
    "def hasNumbers(inputString):\n",
    "    return any(char.isdigit() for char in inputString)\n",
    "def checkmisrat(row):\n",
    "    result = hasNumbers(row['REVIEWRATING']) and hasNumbers(row['BESTRATING']) and hasNumbers(row['WORSTRATING'])\n",
    "    return result\n",
    "df['mis_rat'] = df.apply(checkmisrat, axis=1)\n",
    "print('Implicitly missing rating data as percentage: {:.2%} '.format((len(df[df['mis_rat']==False]))/total))\n",
    "df = df[df['mis_rat']==True]\n",
    "print(\"After removing implictly missing rating information: \", len(df))"
   ],
   "metadata": {
    "collapsed": false,
    "pycharm": {
     "name": "#%%\n"
    }
   }
  },
  {
   "cell_type": "code",
   "execution_count": 7,
   "outputs": [
    {
     "data": {
      "text/plain": "44124"
     },
     "execution_count": 7,
     "metadata": {},
     "output_type": "execute_result"
    }
   ],
   "source": [
    "# Generally del missing values (should not change much by now)\n",
    "df.dropna()\n",
    "len(df)"
   ],
   "metadata": {
    "collapsed": false,
    "pycharm": {
     "name": "#%%\n"
    }
   }
  },
  {
   "cell_type": "code",
   "execution_count": 8,
   "outputs": [
    {
     "name": "stdout",
     "output_type": "stream",
     "text": [
      "Duplicate text and label from reviews without missing information: 43.57%\n",
      "Duplicate text: 43.68%\n",
      "After removing duplicate entries and texts:  24850\n"
     ]
    }
   ],
   "source": [
    "# DUPLICATION DELETION\n",
    "\n",
    "df_dup = df[df.duplicated(subset=['REVIEWBODY','REVIEWRATING'], keep='last')]\n",
    "df_dup2 = df[df.duplicated(subset=['REVIEWBODY'], keep='last')]\n",
    "print(\"Duplicate text and label from reviews without missing information: {:.2%}\".format(len(df_dup)/ len(df)))\n",
    "print(\"Duplicate text: {:.2%}\".format(len(df_dup2)/ len(df)))\n",
    "\n",
    "df= df.drop_duplicates(subset=['REVIEWBODY','REVIEWRATING'], keep='last')\n",
    "df = df.drop_duplicates(subset=['REVIEWBODY'], keep='last')\n",
    "print(\"After removing duplicate entries and texts: \", len(df))"
   ],
   "metadata": {
    "collapsed": false,
    "pycharm": {
     "name": "#%%\n"
    }
   }
  },
  {
   "cell_type": "code",
   "execution_count": 9,
   "outputs": [
    {
     "name": "stdout",
     "output_type": "stream",
     "text": [
      "After removing other related mistakes:  23113\n"
     ]
    }
   ],
   "source": [
    "# DOMAIN OR OTHER HEURISTICS - only applied to schema - cellphones and accessories\n",
    "# johnpacker - musical instrument shop\n",
    "df = df[~df['URL'].str.contains(\"johnpacker\")]\n",
    "df = df[~df['REVIEWBODY'].str.contains(\"saxophone\")] #14 entries\n",
    "# Remove entries from unwanted domains connected to phone\n",
    "df = df[~(df['URL'].str.contains('repair'))]   #1641\n",
    "df = df[~(df['URL'].str.contains('travel'))]   #31\n",
    "df = df[~(df['URL'].str.contains('clinic'))]   #2\n",
    "df = df[~(df['URL'].str.contains('service'))]  #20\n",
    "print(\"After removing other related mistakes: \", len(df))\n",
    "\n"
   ],
   "metadata": {
    "collapsed": false,
    "pycharm": {
     "name": "#%%\n"
    }
   }
  },
  {
   "cell_type": "code",
   "execution_count": 10,
   "outputs": [
    {
     "name": "stdout",
     "output_type": "stream",
     "text": [
      "exception: *****                 \n",
      "exception: ***                 \n"
     ]
    },
    {
     "data": {
      "text/plain": "en    22566\naf       98\nnl       61\nfr       53\nsq       45\nro       34\nso       33\nca       25\nit       19\nde       19\ntl       18\ncy       17\npt       14\nid       14\nda       12\nno       12\net       12\nsv       12\nhr        9\nsk        6\nfi        6\nes        6\npl        5\ncs        4\nsl        4\nsw        4\nvi        1\ntr        1\nhu        1\nName: LANGUAGE, dtype: int64"
     },
     "execution_count": 10,
     "metadata": {},
     "output_type": "execute_result"
    }
   ],
   "source": [
    "# NON-ENGLISH TEXT DELETION\n",
    "def detectLang(row):\n",
    "    try:\n",
    "        return detect(row['REVIEWBODY'])\n",
    "    except:\n",
    "        print(\"exception:\", row['REVIEWBODY'])\n",
    "    else:\n",
    "        print(\"sad:\", row['REVIEWBODY'])\n",
    "df['LANGUAGE'] = df.apply(detectLang, axis=1)\n",
    "df['LANGUAGE'].value_counts()"
   ],
   "metadata": {
    "collapsed": false,
    "pycharm": {
     "name": "#%%\n"
    }
   }
  },
  {
   "cell_type": "code",
   "execution_count": 12,
   "outputs": [
    {
     "data": {
      "text/plain": "<Figure size 432x288 with 1 Axes>",
      "image/png": "[encoded data removed]"
     },
     "metadata": {},
     "output_type": "display_data"
    }
   ],
   "source": [
    "fig = plt.figure()\n",
    "ax = fig.add_axes([0,0,1,1])\n",
    "x = df['LANGUAGE'].value_counts().index\n",
    "y = df['LANGUAGE'].value_counts()\n",
    "ax.bar(x,y)\n",
    "plt.xlabel('Language')\n",
    "plt.ylabel('Number of reviews')\n",
    "plt.title(f'Language distribution')\n",
    "plt.rcParams['figure.facecolor'] = 'white'\n",
    "plt.show()\n",
    "fig.savefig(\"../Figures/schema_phone_lang_dist.png\")"
   ],
   "metadata": {
    "collapsed": false,
    "pycharm": {
     "name": "#%%\n"
    }
   }
  },
  {
   "cell_type": "code",
   "execution_count": 13,
   "outputs": [
    {
     "name": "stdout",
     "output_type": "stream",
     "text": [
      "After removing non-english text: 22566\n"
     ]
    }
   ],
   "source": [
    "df = df[df['LANGUAGE'] == \"en\"]\n",
    "print(\"After removing non-english text:\", len(df))"
   ],
   "metadata": {
    "collapsed": false,
    "pycharm": {
     "name": "#%%\n"
    }
   }
  },
  {
   "cell_type": "code",
   "execution_count": 14,
   "outputs": [],
   "source": [
    "# ADJUSTING THE RATING VALUES\n",
    "df['REVIEWRATING'].value_counts().index.tolist()\n",
    "# df['BESTRATING'].value_counts().index.tolist()\n",
    "# df['WORSTRATING'].value_counts().index.tolist()\n",
    "\n",
    "def chForm(value):\n",
    "    value = re.sub(r'[a-zA-Z]|@|%| |\"|-|\\\\', '', value)\n",
    "    # return value\n",
    "    if value != \"\":\n",
    "        value = float(value)\n",
    "    else:\n",
    "        value = float(0)\n",
    "    return round(value)\n",
    "df['REVIEWRATING_new'] = df.apply(lambda row: chForm(row['REVIEWRATING']), axis=1)\n",
    "df['BESTRATING_new']= df.apply(lambda row: chForm(row['BESTRATING']), axis=1)\n",
    "df['WORSTRATING_new']= df.apply(lambda row: chForm(row['WORSTRATING']), axis=1)"
   ],
   "metadata": {
    "collapsed": false,
    "pycharm": {
     "name": "#%%\n"
    }
   }
  },
  {
   "cell_type": "code",
   "execution_count": 15,
   "outputs": [
    {
     "data": {
      "text/plain": "[5,\n 4,\n 3,\n 8,\n 1,\n 2,\n 7,\n 9,\n 6,\n 10,\n 0,\n 100,\n 80,\n 95,\n 90,\n 94,\n 89,\n 82,\n 92,\n 87,\n 88,\n 86,\n 85,\n 91,\n 93,\n 84,\n 83,\n 78,\n 75,\n 96,\n 79,\n 81,\n 60,\n 68,\n 77,\n 73,\n 70,\n 72,\n 76,\n 97,\n 74,\n 98,\n 65,\n 67,\n 71,\n 63,\n 18,\n 64,\n 55,\n 58,\n 45,\n 69,\n 99,\n 57,\n 59,\n 56,\n 50,\n 44,\n 16,\n 61,\n 66,\n 19,\n 51,\n 52,\n 14,\n 38,\n 54,\n 40,\n 62]"
     },
     "execution_count": 15,
     "metadata": {},
     "output_type": "execute_result"
    }
   ],
   "source": [
    "df['REVIEWRATING_new'].value_counts().index.tolist()\n",
    "# df['BESTRATING_new'].value_counts().index.tolist()\n",
    "# df['WORSTRATING_new'].value_counts().index.tolist()"
   ],
   "metadata": {
    "collapsed": false,
    "pycharm": {
     "name": "#%%\n"
    }
   }
  },
  {
   "cell_type": "code",
   "execution_count": 16,
   "outputs": [
    {
     "data": {
      "text/plain": "5     16291\n4      3124\n3       601\n8       367\n1       270\n      ...  \n14        1\n38        1\n54        1\n40        1\n62        1\nName: REVIEWRATING_new, Length: 69, dtype: int64"
     },
     "execution_count": 16,
     "metadata": {},
     "output_type": "execute_result"
    }
   ],
   "source": [
    "df['REVIEWRATING_new'].value_counts()\n"
   ],
   "metadata": {
    "collapsed": false,
    "pycharm": {
     "name": "#%%\n"
    }
   }
  },
  {
   "cell_type": "code",
   "execution_count": 17,
   "outputs": [],
   "source": [
    "def adjust_rating(n, range1, range2):\n",
    "    try:\n",
    "        if n > range1[1]:\n",
    "            return range2[1]\n",
    "        delta1 = range1[1] - range1[0]\n",
    "        delta2 = range2[1] - range2[0]\n",
    "        result =  (round(delta2 * (n - range1[0]) / delta1) + range2[0])\n",
    "        if result == 0:\n",
    "            result = 1\n",
    "        return result\n",
    "    except ZeroDivisionError:\n",
    "        if range1 == [5,5]:\n",
    "            return  5\n",
    "\n",
    "df['REVIEWRATING_adj'] = df.apply(lambda row: adjust_rating(row['REVIEWRATING_new'], [row['WORSTRATING_new'],row['BESTRATING_new']], [1.0,5.0]), axis=1)"
   ],
   "metadata": {
    "collapsed": false,
    "pycharm": {
     "name": "#%%\n"
    }
   }
  },
  {
   "cell_type": "code",
   "execution_count": 18,
   "outputs": [
    {
     "name": "stdout",
     "output_type": "stream",
     "text": [
      "5.0    0.753656\n",
      "4.0    0.183240\n",
      "3.0    0.042143\n",
      "2.0    0.010547\n",
      "1.0    0.010414\n",
      "Name: REVIEWRATING_adj, dtype: float64\n",
      "5.0    17007\n",
      "4.0     4135\n",
      "3.0      951\n",
      "2.0      238\n",
      "1.0      235\n",
      "Name: REVIEWRATING_adj, dtype: int64\n"
     ]
    }
   ],
   "source": [
    "print(df['REVIEWRATING_adj'].value_counts(normalize=True))\n",
    "print(df['REVIEWRATING_adj'].value_counts())"
   ],
   "metadata": {
    "collapsed": false,
    "pycharm": {
     "name": "#%%\n"
    }
   }
  },
  {
   "cell_type": "code",
   "execution_count": 19,
   "outputs": [
    {
     "data": {
      "text/plain": "                                       NODE  \\\n56    _:node67cd24b82f6aac54159a4a3da5cbc61   \n184     _:node126aab50111c8baa2a9b428b9bd38   \n468   _:node9a9f5786e19fc599e1f1e2f772a1479   \n509   _:node9f62bb7b6b6e5e87f57becd1fec4158   \n588  _:node37789de78cfaa6db6aa5c8991579e443   \n\n                                                   URL  \\\n56   https://www.proporta.com/gripstick-dashboard-m...   \n184  https://www.criticreviewer.com/product-detail/...   \n468  https://www.techadvisor.co.uk/review/mid-range...   \n509  https://www.techadvisor.co.uk/review/high-end-...   \n588  https://www.techadvisor.co.uk/review/android-s...   \n\n                                            REVIEWBODY  \\\n56   \"Got this for my girl friend as she always use...   \n184  \"Huawei Nova 3i in the price range comes with ...   \n468  \"A larger version of the company's flagship Mi...   \n509  \"As expected, HTC is back with some new smartp...   \n588  \"Samsung has updated it\\u2019s A series phones...   \n\n                                     RATING REVIEWRATING BESTRATING  \\\n56   _:node7d38cd7abc6750c81e2c72e826158f91       \"5\"@en     \"5\"@en   \n184  _:node741942594d369a5cd03afb4015afdec4  \"4.5\"@en-US  \"5\"@en-US   \n468  _:node5cee9fd6acf86f20d1ac778fdbbc3fe3          \"9\"       \"10\"   \n509  _:nodef3a2f340f990be60e236bed2a1d74a70          \"8\"       \"10\"   \n588  _:nodee28bf0f0baa525ab1a86ddb7205e4fe5          \"7\"       \"10\"   \n\n    WORSTRATING  mis_rat LANGUAGE  REVIEWRATING_new  BESTRATING_new  \\\n56       \"1\"@en     True       en                 5               5   \n184   \"0\"@en-US     True       en                 4               5   \n468         \"1\"     True       en                 9              10   \n509         \"1\"     True       en                 8              10   \n588         \"1\"     True       en                 7              10   \n\n     WORSTRATING_new  REVIEWRATING_adj  \n56                 1               5.0  \n184                0               4.0  \n468                1               5.0  \n509                1               4.0  \n588                1               4.0  ",
      "text/html": "<div>\n<style scoped>\n    .dataframe tbody tr th:only-of-type {\n        vertical-align: middle;\n    }\n\n    .dataframe tbody tr th {\n        vertical-align: top;\n    }\n\n    .dataframe thead th {\n        text-align: right;\n    }\n</style>\n<table border=\"1\" class=\"dataframe\">\n  <thead>\n    <tr style=\"text-align: right;\">\n      <th></th>\n      <th>NODE</th>\n      <th>URL</th>\n      <th>REVIEWBODY</th>\n      <th>RATING</th>\n      <th>REVIEWRATING</th>\n      <th>BESTRATING</th>\n      <th>WORSTRATING</th>\n      <th>mis_rat</th>\n      <th>LANGUAGE</th>\n      <th>REVIEWRATING_new</th>\n      <th>BESTRATING_new</th>\n      <th>WORSTRATING_new</th>\n      <th>REVIEWRATING_adj</th>\n    </tr>\n  </thead>\n  <tbody>\n    <tr>\n      <th>56</th>\n      <td>_:node67cd24b82f6aac54159a4a3da5cbc61</td>\n      <td>https://www.proporta.com/gripstick-dashboard-m...</td>\n      <td>\"Got this for my girl friend as she always use...</td>\n      <td>_:node7d38cd7abc6750c81e2c72e826158f91</td>\n      <td>\"5\"@en</td>\n      <td>\"5\"@en</td>\n      <td>\"1\"@en</td>\n      <td>True</td>\n      <td>en</td>\n      <td>5</td>\n      <td>5</td>\n      <td>1</td>\n      <td>5.0</td>\n    </tr>\n    <tr>\n      <th>184</th>\n      <td>_:node126aab50111c8baa2a9b428b9bd38</td>\n      <td>https://www.criticreviewer.com/product-detail/...</td>\n      <td>\"Huawei Nova 3i in the price range comes with ...</td>\n      <td>_:node741942594d369a5cd03afb4015afdec4</td>\n      <td>\"4.5\"@en-US</td>\n      <td>\"5\"@en-US</td>\n      <td>\"0\"@en-US</td>\n      <td>True</td>\n      <td>en</td>\n      <td>4</td>\n      <td>5</td>\n      <td>0</td>\n      <td>4.0</td>\n    </tr>\n    <tr>\n      <th>468</th>\n      <td>_:node9a9f5786e19fc599e1f1e2f772a1479</td>\n      <td>https://www.techadvisor.co.uk/review/mid-range...</td>\n      <td>\"A larger version of the company's flagship Mi...</td>\n      <td>_:node5cee9fd6acf86f20d1ac778fdbbc3fe3</td>\n      <td>\"9\"</td>\n      <td>\"10\"</td>\n      <td>\"1\"</td>\n      <td>True</td>\n      <td>en</td>\n      <td>9</td>\n      <td>10</td>\n      <td>1</td>\n      <td>5.0</td>\n    </tr>\n    <tr>\n      <th>509</th>\n      <td>_:node9f62bb7b6b6e5e87f57becd1fec4158</td>\n      <td>https://www.techadvisor.co.uk/review/high-end-...</td>\n      <td>\"As expected, HTC is back with some new smartp...</td>\n      <td>_:nodef3a2f340f990be60e236bed2a1d74a70</td>\n      <td>\"8\"</td>\n      <td>\"10\"</td>\n      <td>\"1\"</td>\n      <td>True</td>\n      <td>en</td>\n      <td>8</td>\n      <td>10</td>\n      <td>1</td>\n      <td>4.0</td>\n    </tr>\n    <tr>\n      <th>588</th>\n      <td>_:node37789de78cfaa6db6aa5c8991579e443</td>\n      <td>https://www.techadvisor.co.uk/review/android-s...</td>\n      <td>\"Samsung has updated it\\u2019s A series phones...</td>\n      <td>_:nodee28bf0f0baa525ab1a86ddb7205e4fe5</td>\n      <td>\"7\"</td>\n      <td>\"10\"</td>\n      <td>\"1\"</td>\n      <td>True</td>\n      <td>en</td>\n      <td>7</td>\n      <td>10</td>\n      <td>1</td>\n      <td>4.0</td>\n    </tr>\n  </tbody>\n</table>\n</div>"
     },
     "execution_count": 19,
     "metadata": {},
     "output_type": "execute_result"
    }
   ],
   "source": [
    "df.head()"
   ],
   "metadata": {
    "collapsed": false,
    "pycharm": {
     "name": "#%%\n"
    }
   }
  },
  {
   "cell_type": "code",
   "execution_count": 20,
   "outputs": [
    {
     "data": {
      "text/plain": "       REVIEWRATING_new  BESTRATING_new  WORSTRATING_new  REVIEWRATING_adj\ncount      22566.000000    22566.000000     22566.000000      22566.000000\nmean           8.036294        9.186032         0.765709          4.659178\nstd           15.877932       18.953862         0.427210          0.705137\nmin            0.000000        1.000000         0.000000          1.000000\n25%            5.000000        5.000000         1.000000          5.000000\n50%            5.000000        5.000000         1.000000          5.000000\n75%            5.000000        5.000000         1.000000          5.000000\nmax          100.000000      100.000000         6.000000          5.000000",
      "text/html": "<div>\n<style scoped>\n    .dataframe tbody tr th:only-of-type {\n        vertical-align: middle;\n    }\n\n    .dataframe tbody tr th {\n        vertical-align: top;\n    }\n\n    .dataframe thead th {\n        text-align: right;\n    }\n</style>\n<table border=\"1\" class=\"dataframe\">\n  <thead>\n    <tr style=\"text-align: right;\">\n      <th></th>\n      <th>REVIEWRATING_new</th>\n      <th>BESTRATING_new</th>\n      <th>WORSTRATING_new</th>\n      <th>REVIEWRATING_adj</th>\n    </tr>\n  </thead>\n  <tbody>\n    <tr>\n      <th>count</th>\n      <td>22566.000000</td>\n      <td>22566.000000</td>\n      <td>22566.000000</td>\n      <td>22566.000000</td>\n    </tr>\n    <tr>\n      <th>mean</th>\n      <td>8.036294</td>\n      <td>9.186032</td>\n      <td>0.765709</td>\n      <td>4.659178</td>\n    </tr>\n    <tr>\n      <th>std</th>\n      <td>15.877932</td>\n      <td>18.953862</td>\n      <td>0.427210</td>\n      <td>0.705137</td>\n    </tr>\n    <tr>\n      <th>min</th>\n      <td>0.000000</td>\n      <td>1.000000</td>\n      <td>0.000000</td>\n      <td>1.000000</td>\n    </tr>\n    <tr>\n      <th>25%</th>\n      <td>5.000000</td>\n      <td>5.000000</td>\n      <td>1.000000</td>\n      <td>5.000000</td>\n    </tr>\n    <tr>\n      <th>50%</th>\n      <td>5.000000</td>\n      <td>5.000000</td>\n      <td>1.000000</td>\n      <td>5.000000</td>\n    </tr>\n    <tr>\n      <th>75%</th>\n      <td>5.000000</td>\n      <td>5.000000</td>\n      <td>1.000000</td>\n      <td>5.000000</td>\n    </tr>\n    <tr>\n      <th>max</th>\n      <td>100.000000</td>\n      <td>100.000000</td>\n      <td>6.000000</td>\n      <td>5.000000</td>\n    </tr>\n  </tbody>\n</table>\n</div>"
     },
     "execution_count": 20,
     "metadata": {},
     "output_type": "execute_result"
    }
   ],
   "source": [
    "df.describe()"
   ],
   "metadata": {
    "collapsed": false,
    "pycharm": {
     "name": "#%%\n"
    }
   }
  },
  {
   "cell_type": "code",
   "execution_count": 21,
   "outputs": [],
   "source": [
    "df.to_csv('../Data/phone_reviews.csv')"
   ],
   "metadata": {
    "collapsed": false,
    "pycharm": {
     "name": "#%%\n"
    }
   }
  },
  {
   "cell_type": "code",
   "execution_count": null,
   "outputs": [],
   "source": [
    "# finding out where the reviews come from (domain specific)\n",
    "# def getNetloc(row):\n",
    "#     try:\n",
    "#         return urlparse(row['URL']).netloc\n",
    "#     except:\n",
    "#         print(\"expection: \", row['URL'])\n",
    "#     else:\n",
    "#         print(\"sad\", row['URL'])\n",
    "#\n",
    "# df['netloc'] = df.apply(getNetloc, axis = 1)\n",
    "# df.head()\n",
    "# df['netloc'].value_counts().index.to_list()\n",
    "# phone_lst = ['smartphone', 'phone',\n",
    "#              'phone case', 'phone cable', 'phone charger', 'phone mount',\n",
    "#              'cell phone', 'mobile phone']\n",
    "#\n",
    "#\n",
    "# # df_phone = df_en[df_en['REVIEWBODY'].isin(phone_lst)]\n",
    "# # print(df_phone.head())\n",
    "# # LANGUAGE'] == \"en\"]\n",
    "# df_en.head()"
   ],
   "metadata": {
    "collapsed": false,
    "pycharm": {
     "name": "#%%\n"
    }
   }
  }
 ],
 "metadata": {
  "kernelspec": {
   "display_name": "Python 3",
   "language": "python",
   "name": "python3"
  },
  "language_info": {
   "codemirror_mode": {
    "name": "ipython",
    "version": 3
   },
   "file_extension": ".py",
   "mimetype": "text/x-python",
   "name": "python",
   "nbconvert_exporter": "python",
   "pygments_lexer": "ipython3",
   "version": "3.6.9"
  },
  "toc": {
   "base_numbering": 1,
   "nav_menu": {},
   "number_sections": true,
   "sideBar": true,
   "skip_h1_title": false,
   "title_cell": "Table of Contents",
   "title_sidebar": "Contents",
   "toc_cell": false,
   "toc_position": {},
   "toc_section_display": true,
   "toc_window_display": false
  },
  "varInspector": {
   "cols": {
    "lenName": 16,
    "lenType": 16,
    "lenVar": 40
   },
   "kernels_config": {
    "python": {
     "delete_cmd_postfix": "",
     "delete_cmd_prefix": "del ",
     "library": "var_list.py",
     "varRefreshCmd": "print(var_dic_list())"
    },
    "r": {
     "delete_cmd_postfix": ") ",
     "delete_cmd_prefix": "rm(",
     "library": "var_list.r",
     "varRefreshCmd": "cat(var_dic_list()) "
    }
   },
   "types_to_exclude": [
    "module",
    "function",
    "builtin_function_or_method",
    "instance",
    "_Feature"
   ],
   "window_display": false
  }
 },
 "nbformat": 4,
 "nbformat_minor": 1
}