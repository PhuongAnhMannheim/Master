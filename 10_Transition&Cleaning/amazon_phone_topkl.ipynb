{
 "cells": [
  {
   "cell_type": "code",
   "execution_count": 1,
   "metadata": {
    "collapsed": true
   },
   "outputs": [],
   "source": [
    "from Scripts import loading as dl, cleaning as cl, profiling as pf\n",
    "from langdetect import detect"
   ]
  },
  {
   "cell_type": "code",
   "execution_count": 2,
   "outputs": [],
   "source": [
    "input_link = '../Data/reviews_Cell_Phones_and_Accessories_5.json.gz'\n",
    "df = dl.load_amazon_full(input_link)"
   ],
   "metadata": {
    "collapsed": false,
    "pycharm": {
     "name": "#%%\n"
    }
   }
  },
  {
   "cell_type": "code",
   "execution_count": 3,
   "outputs": [
    {
     "data": {
      "text/plain": "                                                text  label\n0  They look good and stick good! I just don't li...    4.0\n1  These stickers work like the review says they ...    5.0\n2  These are awesome and make my phone look so st...    5.0\n3  Item arrived in great time and was in perfect ...    4.0\n4  awesome! stays on, and looks great. can be use...    5.0",
      "text/html": "<div>\n<style scoped>\n    .dataframe tbody tr th:only-of-type {\n        vertical-align: middle;\n    }\n\n    .dataframe tbody tr th {\n        vertical-align: top;\n    }\n\n    .dataframe thead th {\n        text-align: right;\n    }\n</style>\n<table border=\"1\" class=\"dataframe\">\n  <thead>\n    <tr style=\"text-align: right;\">\n      <th></th>\n      <th>text</th>\n      <th>label</th>\n    </tr>\n  </thead>\n  <tbody>\n    <tr>\n      <th>0</th>\n      <td>They look good and stick good! I just don't li...</td>\n      <td>4.0</td>\n    </tr>\n    <tr>\n      <th>1</th>\n      <td>These stickers work like the review says they ...</td>\n      <td>5.0</td>\n    </tr>\n    <tr>\n      <th>2</th>\n      <td>These are awesome and make my phone look so st...</td>\n      <td>5.0</td>\n    </tr>\n    <tr>\n      <th>3</th>\n      <td>Item arrived in great time and was in perfect ...</td>\n      <td>4.0</td>\n    </tr>\n    <tr>\n      <th>4</th>\n      <td>awesome! stays on, and looks great. can be use...</td>\n      <td>5.0</td>\n    </tr>\n  </tbody>\n</table>\n</div>"
     },
     "execution_count": 3,
     "metadata": {},
     "output_type": "execute_result"
    }
   ],
   "source": [
    "df.head()"
   ],
   "metadata": {
    "collapsed": false,
    "pycharm": {
     "name": "#%%\n"
    }
   }
  },
  {
   "cell_type": "code",
   "execution_count": 4,
   "outputs": [
    {
     "name": "stdout",
     "output_type": "stream",
     "text": [
      "Amount of reviews:  194439\n"
     ]
    },
    {
     "data": {
      "text/plain": "          text          label\ncount   194439  194439.000000\nunique  194186            NaN\ntop                       NaN\nfreq        99            NaN\nmean       NaN       4.129912\nstd        NaN       1.222499\nmin        NaN       1.000000\n25%        NaN       4.000000\n50%        NaN       5.000000\n75%        NaN       5.000000\nmax        NaN       5.000000",
      "text/html": "<div>\n<style scoped>\n    .dataframe tbody tr th:only-of-type {\n        vertical-align: middle;\n    }\n\n    .dataframe tbody tr th {\n        vertical-align: top;\n    }\n\n    .dataframe thead th {\n        text-align: right;\n    }\n</style>\n<table border=\"1\" class=\"dataframe\">\n  <thead>\n    <tr style=\"text-align: right;\">\n      <th></th>\n      <th>text</th>\n      <th>label</th>\n    </tr>\n  </thead>\n  <tbody>\n    <tr>\n      <th>count</th>\n      <td>194439</td>\n      <td>194439.000000</td>\n    </tr>\n    <tr>\n      <th>unique</th>\n      <td>194186</td>\n      <td>NaN</td>\n    </tr>\n    <tr>\n      <th>top</th>\n      <td></td>\n      <td>NaN</td>\n    </tr>\n    <tr>\n      <th>freq</th>\n      <td>99</td>\n      <td>NaN</td>\n    </tr>\n    <tr>\n      <th>mean</th>\n      <td>NaN</td>\n      <td>4.129912</td>\n    </tr>\n    <tr>\n      <th>std</th>\n      <td>NaN</td>\n      <td>1.222499</td>\n    </tr>\n    <tr>\n      <th>min</th>\n      <td>NaN</td>\n      <td>1.000000</td>\n    </tr>\n    <tr>\n      <th>25%</th>\n      <td>NaN</td>\n      <td>4.000000</td>\n    </tr>\n    <tr>\n      <th>50%</th>\n      <td>NaN</td>\n      <td>5.000000</td>\n    </tr>\n    <tr>\n      <th>75%</th>\n      <td>NaN</td>\n      <td>5.000000</td>\n    </tr>\n    <tr>\n      <th>max</th>\n      <td>NaN</td>\n      <td>5.000000</td>\n    </tr>\n  </tbody>\n</table>\n</div>"
     },
     "execution_count": 4,
     "metadata": {},
     "output_type": "execute_result"
    }
   ],
   "source": [
    "pf.get_review_count(df)\n",
    "total = len(df)\n",
    "df.describe(include='all')"
   ],
   "metadata": {
    "collapsed": false,
    "pycharm": {
     "name": "#%%\n"
    }
   }
  },
  {
   "cell_type": "code",
   "execution_count": 5,
   "outputs": [
    {
     "name": "stdout",
     "output_type": "stream",
     "text": [
      "0\n"
     ]
    }
   ],
   "source": [
    "df_no_text = df[df.label.isnull()]\n",
    "print(len(df_no_text))"
   ],
   "metadata": {
    "collapsed": false,
    "pycharm": {
     "name": "#%%\n"
    }
   }
  },
  {
   "cell_type": "code",
   "execution_count": 6,
   "outputs": [
    {
     "name": "stdout",
     "output_type": "stream",
     "text": [
      "Missing review data as percentage: 0.00% \n",
      "Missing rating information as percentage: 0.00%\n",
      "After removing missing text and ratings:  194439\n"
     ]
    }
   ],
   "source": [
    "# DATA COMPLETENESS\n",
    "# Del incomplete entries based on missing values\n",
    "print('Missing review data as percentage: {:.2%} '.format(len(df[df.text.isnull()])/total))\n",
    "print('Missing rating information as percentage: {:.2%}'.format(len(df[df.text.isnull()&df.label.isnull()])/total))\n",
    "df = df[df.text.notnull()&df.label.notnull()]\n",
    "print(\"After removing missing text and ratings: \", len(df))"
   ],
   "metadata": {
    "collapsed": false,
    "pycharm": {
     "name": "#%%\n"
    }
   }
  },
  {
   "cell_type": "code",
   "execution_count": 7,
   "outputs": [
    {
     "name": "stdout",
     "output_type": "stream",
     "text": [
      "After removing empty text:  194340\n"
     ]
    }
   ],
   "source": [
    "# Del incomplete entries based on implictly missing values\n",
    "df = df[df.text!='']\n",
    "print(\"After removing empty text: \", len(df))"
   ],
   "metadata": {
    "collapsed": false,
    "pycharm": {
     "name": "#%%\n"
    }
   }
  },
  {
   "cell_type": "code",
   "execution_count": 8,
   "outputs": [
    {
     "name": "stdout",
     "output_type": "stream",
     "text": [
      "exception: &#1576;&#1589;&#1585;&#1575;&#1581;&#1607; &#1575;&#1606;&#1575; &#1605;&#1606; &#1610;&#1608;&#1605; &#1605;&#1575; &#1588;&#1585;&#1610;&#1578; &#1607;&#1584;&#1575; &#1575;&#1604;&#1605;&#1606;&#1578;&#1580; &#1608;&#1575;&#1606;&#1575; &#1587;&#1593;&#1610;&#1583; ... &#1608;&#1605;&#1585;&#1578;&#1575;&#1581; &#1604;&#1575;&#1606; &#1575;&#1604;&#1576;&#1591;&#1575;&#1585;&#1610;&#1607; &#1588;&#1594;&#1575;&#1604;&#1607; &#1593;&#1604;&#1609; &#1575;&#1603;&#1605;&#1604; &#1608;&#1580;&#1607; &#1608;&#1601;&#1593;&#1604;&#1609; &#1578;&#1587;&#1578;&#1575;&#1607;&#1604; &#1602;&#1610;&#1605;&#1578;&#1607;&#1575; &#1608;&#1575;&#1575;&#1610;&#1583; &#1607;&#1584;&#1610; &#1575;&#1604;&#1605;&#1575;&#1585;&#1603;&#1607; &#1604;&#1575;&#1606;&#1610; &#1580;&#1585;&#1576;&#1578; &#1593;&#1583;&#1577; &#1576;&#1591;&#1575;&#1585;&#1610;&#1575;&#1578; &#1579;&#1575;&#1606;&#1608;&#1610;&#1607; &#1608;&#1575;&#1601;&#1590;&#1604; &#1607;&#1584;&#1610; &#1575;&#1604;&#1605;&#1575;&#1585;&#1603;&#1607; &#1593;&#1606; &#1594;&#1610;&#1585;&#1607;&#1575; &#1605;&#1606; &#1608;&#1575;&#1602;&#1593; &#1578;&#1580;&#1585;&#1576;&#1607;\n",
      "exception: &#1575;&#1604;&#1580;&#1607;&#1575;&#1586; &#1605;&#1605;&#1578;&#1575;&#1586; &#1588;&#1581;&#1606; &#1605;&#1605;&#1578;&#1575;&#1586; &#1589;&#1608;&#1578; &#1580;&#1610;&#1583; &#1580;&#1583;&#1575; &#1608;&#1602;&#1583; &#1610;&#1603;&#1608;&#1606; &#1605;&#1605;&#1578;&#1575;&#1586; &#1608;&#1575;&#1604;&#1587;&#1593;&#1585; &#1605;&#1605;&#1578;&#1575;&#1586; &#1575;&#1604;&#1580;&#1607;&#1575;&#1586; &#1610;&#1587;&#1578;&#1581;&#1602; &#1575;&#1604;&#1578;&#1580;&#1585;&#1576;&#1607; &#1608;&#1587;&#1593;&#1585;&#1607; &#1581;&#1604;&#1608;&#1575;&#1604;&#1610; &#1604;&#1575;&#1581;&#1592;&#1578;&#1607; &#1601;&#1602;&#1591; &#1575;&#1606;&#1603; &#1603;&#1575;&#1606;&#1603; &#1578;&#1603;&#1604;&#1605; &#1593;&#1606; &#1605;&#1610;&#1603;&#1585;&#1601;&#1608;&#1606; &#1575;&#1604;&#1578;&#1604;&#1601;&#1608;&#1606; &#1606;&#1601;&#1587;&#1607; &#1576;&#1587; &#1575;&#1606;&#1575; &#1575;&#1587;&#1605;&#1593; &#1589;&#1608;&#1578; &#1575;&#1604;&#1605;&#1578;&#1589;&#1604; &#1576;&#1588;&#1603;&#1604; &#1605;&#1605;&#1578;&#1575;&#1586; &#1608;&#1575;&#1604;&#1610; &#1575;&#1603;&#1604;&#1605;&#1607; &#1610;&#1602;&#1608;&#1604; &#1589;&#1608;&#1578;&#1603; &#1580;&#1610;&#1583; &#1580;&#1583;&#1575; &#1580;&#1583;&#1575; &#1580;&#1583;&#1575; &#1576;&#1587; &#1603;&#1575;&#1606;&#1603; &#1578;&#1603;&#1604;&#1605; &#1593;&#1606; &#1591;&#1585;&#1610;&#1602; &#1575;&#1604;&#1605;&#1603;&#1585;&#1601;&#1608;&#1606; &#1576;&#1587; &#1589;&#1608;&#1578;&#1603; &#1608;&#1575;&#1590;&#1581; &#1608;&#1575;&#1606;&#1575; &#1575;&#1606;&#1589;&#1581; &#1576;&#1575;&#1604;&#1580;&#1607;&#1575;&#1586;\n",
      "exception: #2\n",
      "exception: &#1588;&#1603;&#1604;&#1607;&#1575; &#1605;&#1606;&#1575;&#1587;&#1576; , &#1608;&#1607;&#1610; &#1605;&#1606;&#1575;&#1587;&#1576;&#1607; &#1604;&#1604;&#1575;&#1610;&#1601;&#1608;&#1606; , &#1608;&#1603;&#1575;&#1606; &#1575;&#1604;&#1587;&#1593;&#1585; &#1585;&#1575;&#1574;&#1593; &#1580;&#1583;&#1575; &#1588;&#1603;&#1585;&#1575; &#1580;&#1586;&#1610;&#1604;&#1575; , &#1608;&#1608;&#1589;&#1604;&#1578; &#1576;&#1581;&#1575;&#1604;&#1577; &#1605;&#1605;&#1578;&#1575;&#1586;&#1577; &#1580;&#1583;&#1575; , &#1587;&#1571;&#1593;&#1608;&#1583; &#1604;&#1604;&#1588;&#1585;&#1575;&#1569; &#1605;&#1585;&#1577; &#1571;&#1582;&#1585;&#1609; &#1605;&#1606; &#1607;&#1584;&#1575; &#1575;&#1604;&#1576;&#1575;&#1574;&#1593;\n",
      "exception: &#20294; &#26159; &#25105; &#21487; &#20197; &#29702; &#35299; &#20320; &#20204; &#22240; &#20026; &#26159; &#20174; &#20013; &#22269; &#23492; &#20986; &#26469; &#30340; &#25105;&#34920;&#31034;&#30693;&#36947;&#20013;&#22269;&#37038;&#25919;&#30340;&#36895;&#24230;\n",
      "exception: &#1588;&#1603;&#1585;&#1575; &#1580;&#1586;&#1610;&#1604;&#1575; , &#1608;&#1589;&#1604;&#1578; &#1575;&#1604;&#1587;&#1604;&#1593;&#1577; &#1587;&#1604;&#1610;&#1605;&#1577; &#1603;&#1605;&#1575; &#1607;&#1610; &#1601;&#1610; &#1575;&#1604;&#1589;&#1608;&#1585;&#1577; , &#1582;&#1601;&#1610;&#1601;&#1577; &#1608;&#1605;&#1606;&#1575;&#1587;&#1576;&#1577; &#1580;&#1583;&#1575; &#1604;&#1604;&#1575;&#1610;&#1601;&#1608;&#1606; , &#1603;&#1575;&#1606;&#1578; &#1607;&#1583;&#1610;&#1577; &#1585;&#1575;&#1574;&#1593;&#1577; &#1604;&#1571;&#1589;&#1581;&#1575;&#1576;&#1610; , &#1575;&#1604;&#1587;&#1593;&#1585; &#1603;&#1575;&#1606; &#1605;&#1606;&#1575;&#1587;&#1576; &#1580;&#1583;&#1575;\n",
      "exception: &#1575;&#1604;&#1576;&#1591;&#1575;&#1585;&#1610;&#1607; &#1605;&#1605;&#1578;&#1575;&#1586;&#1607; &#1608;&#1575;&#1604;&#1609; &#1582;&#1604;&#1575;&#1606;&#1610; &#1605;&#1575;&#1593;&#1591;&#1610;&#1607;&#1575; &#1582;&#1605;&#1587; &#1606;&#1580;&#1608;&#1605; &#1604;&#1575;&#1606; &#1575;&#1604;&#1580;&#1607;&#1575;&#1586; &#1575;&#1587;&#1578;&#1582;&#1583;&#1605;&#1607; &#1605;&#1593; &#1582;&#1591; &#1575;&#1604;&#1579;&#1575;&#1606;&#1610; &#1608;&#1605;&#1575;&#1580;&#1585;&#1576;&#1578;&#1607; &#1603;&#1579;&#1610;&#1585; &#1604;&#1603;&#1606; &#1605;&#1605;&#1578;&#1575;&#1586;&#1607; &#1578;&#1591;&#1608;&#1604; &#1608;&#1578;&#1585;&#1610;&#1581;&#1603; &#1605;&#1606; &#1575;&#1604;&#1588;&#1581;&#1606; &#1582;&#1575;&#1589;&#1577; &#1601;&#1610; &#1575;&#1604;&#1587;&#1601;&#1585; &#1575;&#1604;&#1576;&#1591;&#1575;&#1585;&#1610;&#1607; &#1610;&#1580;&#1610; &#1605;&#1593;&#1607;&#1575; &#1603;&#1601;&#1585;&#1610;&#1606; &#1607;&#1604;&#1601;&#1610;&#1607; &#1608;&#1575;&#1581;&#1583; &#1575;&#1576;&#1610;&#1590; &#1608;&#1608;&#1575;&#1581;&#1583; &#1575;&#1586;&#1585;&#1602;.\n",
      "exception: &#1575;&#1606;&#1575; &#1575;&#1588;&#1608;&#1601; &#1575;&#1606;&#1607;&#1575; &#1586;&#1608;&#1610;&#1606;&#1607; &#1604;&#1575;&#1606;&#1607; &#1605;&#1593; &#1575;&#1604;&#1608;&#1602;&#1578; &#1578;&#1581;&#1585;&#1603; &#1608;&#1610;&#1580;&#1610; &#1601;&#1610;&#1607;&#1575; &#1608;&#1589;&#1582; &#1608;&#1578;&#1581;&#1578;&#1575;&#1580; &#1604;&#1575;&#1606;&#1578;&#1576;&#1575;&#1607; &#1575;&#1579;&#1606;&#1575;&#1569; &#1578;&#1585;&#1603;&#1610;&#1576;&#1607;&#1575; &#1575;&#1604;&#1581;&#1604;&#1608; &#1601;&#1610;&#1607;&#1575; &#1575;&#1606;&#1607;&#1575; &#1578;&#1581;&#1605;&#1610; &#1575;&#1604;&#1580;&#1607;&#1575;&#1586; &#1603;&#1604;&#1607;&#1575; &#1605;&#1606; &#1593;&#1604;&#1609; &#1580;&#1606;&#1576; &#1608;&#1575;&#1604;&#1575;&#1591;&#1585;&#1575;&#1601; &#1608;&#1575;&#1605;&#1575;&#1605; &#1608;&#1582;&#1604;&#1601;\n",
      "exception: &#1575;&#1604;&#1603;&#1601;&#1585; &#1581;&#1604;&#1608; &#1608;&#1575;&#1604;&#1581;&#1604;&#1608; &#1601;&#1610;&#1607; &#1575;&#1606;&#1607; &#1590;&#1593;&#1610;&#1601; &#1580;&#1583;&#1575; &#1603;&#1575;&#1606;&#1603; &#1605;&#1608; &#1605;&#1585;&#1603;&#1576; &#1603;&#1601;&#1585; &#1575;&#1576;&#1583;&#1575; &#1604;&#1603;&#1606; &#1601;&#1610;&#1607; &#1605;&#1588;&#1603;&#1604;&#1607; &#1610;&#1578;&#1579;&#1585; &#1576;&#1575;&#1604;&#1576;&#1589;&#1605;&#1575;&#1578; &#1604;&#1603;&#1606; &#1605;&#1587;&#1581;&#1607; &#1582;&#1601;&#1610;&#1601;&#1607; &#1578;&#1606;&#1592;&#1601;&#1607; &#1575;&#1604;&#1581;&#1604;&#1608; &#1601;&#1610;&#1607; &#1606;&#1581;&#1601;&#1607;\n",
      "exception: &#1603;&#1601;&#1585; &#1581;&#1604;&#1608; &#1608;&#1585;&#1582;&#1610;&#1589; &#1608;&#1575;&#1593;&#1580;&#1576; &#1575;&#1607;&#1604;&#1610; &#1580;&#1583;&#1575; &#1580;&#1608;&#1583;&#1578;&#1607; &#1605;&#1578;&#1608;&#1587;&#1591;&#1577; &#1604;&#1575; &#1578;&#1578;&#1608;&#1602;&#1593; &#1588;&#1610; &#1582;&#1610;&#1575;&#1604;&#1610; &#1604;&#1603;&#1606; &#1581;&#1604;&#1608; &#1603;&#1601;&#1585; &#1588;&#1601;&#1575;&#1601; &#1608;&#1605;&#1581;&#1591;&#1608;&#1591; &#1593;&#1604;&#1610;&#1607; &#1575;&#1604;&#1589;&#1608;&#1585;&#1607; &#1575;&#1604;&#1610; &#1601;&#1608;&#1602;\n",
      "exception: &#1575;&#1588;&#1578;&#1585;&#1610;&#1578;&#1607;&#1575; &#1604; &#1586;&#1608;&#1580;&#1578;&#1610;&#1608;&#1575;&#1593;&#1580;&#1576;&#1578;&#1607;&#1575; &#1578;&#1602;&#1608;&#1604; &#1582;&#1575;&#1605;&#1578;&#1607;&#1575; &#1581;&#1604;&#1608;&#1607; &#1608;&#1593;&#1605;&#1604;&#1610;&#1607; &#1601;&#1610;&#1607;&#1575; &#1605;&#1579;&#1604; &#1575;&#1604;&#1580;&#1610;&#1576; &#1604;&#1604;&#1601;&#1604;&#1608;&#1587; &#1575;&#1608; &#1575;&#1604;&#1576;&#1591;&#1575;&#1602;&#1575;&#1578;&#1575;&#1604;&#1578;&#1608;&#1589;&#1610;&#1604; &#1603;&#1575;&#1606; &#1605;&#1605;&#1578;&#1575;&#1586; &#1581;&#1587;&#1576; &#1605;&#1575;&#1607;&#1608; &#1608;&#1575;&#1590;&#1581; &#1601;&#1610; &#1605;&#1593;&#1604;&#1608;&#1605;&#1575;&#1578; &#1575;&#1604;&#1588;&#1581;&#1606;\n"
     ]
    },
    {
     "data": {
      "text/plain": "en    193751\nes       120\naf        68\nso        61\nro        58\nde        38\nsl        34\nca        21\nfr        18\ncy        18\npl        16\ntl        14\nsq        13\nno        11\nnl        11\nit        11\net        10\nvi         8\ntr         7\nda         7\npt         7\nsk         6\nid         4\nhr         4\nsw         3\ncs         3\nsv         3\nfi         3\nhu         1\nName: LANGUAGE, dtype: int64"
     },
     "execution_count": 8,
     "metadata": {},
     "output_type": "execute_result"
    }
   ],
   "source": [
    "# Del incomplete entries based on implictly missing values\n",
    "# Using Language detection for detecting invalid texts\n",
    "def detectLang(row):\n",
    "    try:\n",
    "        return detect(row['text'])\n",
    "    except:\n",
    "        print(\"exception:\", row['text'])\n",
    "    else:\n",
    "        print(\"sad:\", row['text'])\n",
    "df['LANGUAGE'] = df.apply(detectLang, axis=1)\n",
    "df['LANGUAGE'].value_counts()"
   ],
   "metadata": {
    "collapsed": false,
    "pycharm": {
     "name": "#%%\n"
    }
   }
  },
  {
   "cell_type": "code",
   "execution_count": 19,
   "outputs": [
    {
     "name": "stdout",
     "output_type": "stream",
     "text": [
      "Duplicate text and label from reviews without missing information: 0.06%\n",
      "Duplicate text: 0.08%\n"
     ]
    }
   ],
   "source": [
    "df_dup = df[df.duplicated(subset=['text','label'], keep='last')]\n",
    "df_dup2 = df[df.duplicated(subset=['text'], keep='last')]\n",
    "pf.create_word_count(df_dup)\n",
    "df_dup['word_count'].describe()\n",
    "pf.create_word_count(df_dup2)\n",
    "df_dup2['word_count'].describe()\n",
    "print(\"Duplicate text and label from reviews without missing information: {:.2%}\".format(len(df_dup)/ len(df)))\n",
    "print(\"Duplicate text: {:.2%}\".format(len(df_dup2)/ len(df)))"
   ],
   "metadata": {
    "collapsed": false,
    "pycharm": {
     "name": "#%%\n"
    }
   }
  },
  {
   "cell_type": "code",
   "execution_count": 35,
   "outputs": [
    {
     "name": "stdout",
     "output_type": "stream",
     "text": [
      "After removing duplicate entries and texts:  194185\n"
     ]
    }
   ],
   "source": [
    "df= df.drop_duplicates(subset=['text','label'], keep='last')\n",
    "df = df.drop_duplicates(subset=['text'], keep='last')\n",
    "print(\"After removing duplicate entries and texts: \", len(df))"
   ],
   "metadata": {
    "collapsed": false,
    "pycharm": {
     "name": "#%%\n"
    }
   }
  },
  {
   "cell_type": "code",
   "execution_count": 23,
   "outputs": [
    {
     "name": "stdout",
     "output_type": "stream",
     "text": [
      "Empty DataFrame\n",
      "Columns: [text, label, LANGUAGE, word_count]\n",
      "Index: []\n"
     ]
    }
   ],
   "source": [
    "pf.create_word_count(df)"
   ],
   "metadata": {
    "collapsed": false,
    "pycharm": {
     "name": "#%%\n"
    }
   }
  },
  {
   "cell_type": "code",
   "execution_count": 45,
   "outputs": [
    {
     "name": "stdout",
     "output_type": "stream",
     "text": [
      "After removing non-english text: 193678\n"
     ]
    }
   ],
   "source": [
    "# Del what is not recognized as english\n",
    "df = df[df['LANGUAGE'] == \"en\"]\n",
    "print(\"After removing non-english text:\", len(df))"
   ],
   "metadata": {
    "collapsed": false,
    "pycharm": {
     "name": "#%%\n"
    }
   }
  },
  {
   "cell_type": "code",
   "execution_count": 59,
   "outputs": [
    {
     "data": {
      "text/plain": "193677"
     },
     "execution_count": 59,
     "metadata": {},
     "output_type": "execute_result"
    }
   ],
   "source": [
    "# Other heuristics: testing the exceptions from langdetect\n",
    "# Test on invalid\n",
    "# df[df.text.str.contains('&#1575;')]   # -> del 6536\n",
    "# df[df.text.str.contains('&#1576;')]   # 6536\n",
    "# df[df.text=='#2']\n",
    "# df[df.text.str.contains('&#1588')]    # 6536\n",
    "# df[df.text.str.contains('&#20294;')]\n",
    "# df[df.text.str.contains('&#1603;')]   # 6536\n",
    "df=df[~df.text.str.contains('&#1575;')]\n",
    "len(df)"
   ],
   "metadata": {
    "collapsed": false,
    "pycharm": {
     "name": "#%%\n"
    }
   }
  },
  {
   "cell_type": "code",
   "execution_count": 61,
   "outputs": [],
   "source": [
    "df.to_pickle('../Data/amazon_phone.pkl')\n",
    "\n"
   ],
   "metadata": {
    "collapsed": false,
    "pycharm": {
     "name": "#%%\n"
    }
   }
  }
 ],
 "metadata": {
  "kernelspec": {
   "display_name": "Python 3",
   "language": "python",
   "name": "python3"
  },
  "language_info": {
   "codemirror_mode": {
    "name": "ipython",
    "version": 2
   },
   "file_extension": ".py",
   "mimetype": "text/x-python",
   "name": "python",
   "nbconvert_exporter": "python",
   "pygments_lexer": "ipython2",
   "version": "2.7.6"
  }
 },
 "nbformat": 4,
 "nbformat_minor": 0
}