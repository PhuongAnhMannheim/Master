{
 "cells": [
  {
   "cell_type": "code",
   "execution_count": 29,
   "outputs": [],
   "source": [
    "# System libraries\n",
    "import logging, os, sys\n",
    "import gzip\n",
    "import re\n",
    "import sqlite3"
   ],
   "metadata": {
    "collapsed": false,
    "pycharm": {
     "name": "#%%\n"
    }
   }
  },
  {
   "cell_type": "code",
   "execution_count": 32,
   "outputs": [],
   "source": [
    "db_path = '../Data/input/schema_org_reviews.db'\n",
    "schema_path = '../Data/input/schema_Review.gz'\n",
    "bestworstratinglog_path='../Logs/bestWorstRating.log'\n",
    "\n",
    "# Enable logging\n",
    "logger = logging.getLogger()\n",
    "fhandler = logging.FileHandler(filename=bestworstratinglog_path, mode='a')\n",
    "formatter = logging.Formatter('%(asctime)s - %(name)s - %(levelname)s - %(message)s')\n",
    "fhandler.setFormatter(formatter)\n",
    "logger.addHandler(fhandler)\n",
    "logger.setLevel(logging.DEBUG)"
   ],
   "metadata": {
    "collapsed": false,
    "pycharm": {
     "name": "#%%\n"
    }
   }
  },
  {
   "cell_type": "code",
   "execution_count": 33,
   "outputs": [
    {
     "name": "stdout",
     "output_type": "stream",
     "text": [
      "../Data/input/schema_org_reviews.db\n"
     ]
    }
   ],
   "source": [
    "i               = 0\n",
    "skipped_lines   = 0\n",
    "inserted        = 0\n",
    "not_taxo        = 0\n",
    "failed_updates  = 0\n",
    "\n",
    "print(db_path)\n",
    "conn = sqlite3.connect(db_path)\n",
    "cursor = conn.cursor()"
   ],
   "metadata": {
    "collapsed": false,
    "pycharm": {
     "name": "#%%\n"
    }
   }
  },
  {
   "cell_type": "code",
   "execution_count": 36,
   "outputs": [],
   "source": [
    "taxo_pattern = re.compile(\"<http://schema.org/aggregaterating/bestRating>|<http://schema.org/aggregaterating/worstRating>\", re.IGNORECASE)\n",
    "split_pattern = re.compile(\"^(_:.*)\\s(<http:\\/\\/schema.org\\/aggregaterating\\/bestRating>|<http:\\/\\/schema.org\\/aggregaterating\\/worstRating>)\\s(.*)\\s<(.*)>\\s\\.$\", re.IGNORECASE)\n",
    "\n",
    "\n",
    "with gzip.open(schema_path,\"rt\") as f:\n",
    "    # head = [next(f) for x in range(500)]\n",
    "    for line in iter(f.readline,\"\"):\n",
    "        i += 1\n",
    "        if not taxo_pattern.search(line):\n",
    "            not_taxo += 1\n",
    "            continue\n",
    "        match = split_pattern.match(line)\n",
    "        if match is None:\n",
    "            skipped_lines += 1\n",
    "            continue\n",
    "        props = match.groups()\n",
    "        with conn:\n",
    "            subj = props[0]\n",
    "            pred = props[1]\n",
    "            obj = props[2]\n",
    "            source = props[3]\n",
    "            conn.execute(\"INSERT OR IGNORE INTO REVIEWS (NODE,URL) VALUES (?,?)\",(subj,obj))\n",
    "            update_query = \"UPDATE REVIEWS SET \"\n",
    "            params = [obj, subj, source]\n",
    "            if pred.lower() == \"<http://schema.org/aggregaterating/bestRating>\".lower():\n",
    "                update_query += \"BESTRATING = ?\"\n",
    "            if pred.lower() == \"<http://schema.org/aggregaterating/worstRating>\".lower():\n",
    "                update_query += \"WORSTRATING = ?\"\n",
    "            update_query += \" WHERE NODE = ? AND URL = ?;\"\n",
    "            try:\n",
    "                conn.execute(update_query, params)\n",
    "                inserted += 1\n",
    "            except:\n",
    "                print(\"failed to execute for params \" + str(props))\n",
    "                failed_updates += 1\n",
    "\n",
    "out1 = (\"inserted \" + str(inserted) + \" lines and skipped \" + str(skipped_lines) + \" lines and not in chosen taxonomy \" + str(not_taxo))\n",
    "out2 = (\"Done processing the review file\")\n",
    "logging.debug(out1)\n",
    "logging.debug(out2)\n",
    "\n"
   ],
   "metadata": {
    "collapsed": false,
    "pycharm": {
     "name": "#%%\n"
    }
   }
  }
 ],
 "metadata": {
  "kernelspec": {
   "display_name": "Python 3",
   "language": "python",
   "name": "python3"
  },
  "language_info": {
   "codemirror_mode": {
    "name": "ipython",
    "version": 2
   },
   "file_extension": ".py",
   "mimetype": "text/x-python",
   "name": "python",
   "nbconvert_exporter": "python",
   "pygments_lexer": "ipython2",
   "version": "2.7.6"
  }
 },
 "nbformat": 4,
 "nbformat_minor": 0
}