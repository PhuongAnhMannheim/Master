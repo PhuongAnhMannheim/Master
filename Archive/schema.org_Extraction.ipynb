{
 "cells": [
  {
   "cell_type": "markdown",
   "metadata": {},
   "source": [
    "# Setting up the Environment\n"
   ]
  },
  {
   "cell_type": "code",
   "execution_count": 1,
   "metadata": {
    "ExecuteTime": {
     "end_time": "2020-03-06T16:01:14.801864Z",
     "start_time": "2020-03-06T16:01:12.238051Z"
    }
   },
   "outputs": [
    {
     "name": "stdout",
     "output_type": "stream",
     "text": [
      "dependencies loaded\n"
     ]
    }
   ],
   "source": [
    "# System libraries\n",
    "import logging, os, sys\n",
    "\n",
    "# Enable logging\n",
    "logging.basicConfig(format='[%(levelname)s] %(message)s', level=logging.INFO, stream=sys.stdout)\n",
    "\n",
    "# Intialize tqdm to always use the notebook progress bar\n",
    "import tqdm\n",
    "tqdm.tqdm = tqdm.tqdm_notebook\n",
    "\n",
    "# Third-party libraries\n",
    "import numpy as np\n",
    "import pandas as pd\n",
    "\n",
    "# Studio libraries\n",
    "from studio_client import Environment\n",
    "\n",
    "import os\n",
    "import re\n",
    "import json\n",
    "import gzip\n",
    "import tensorflow as tf\n",
    "import sqlite3\n",
    "from datetime import datetime as dt\n",
    "print(\"dependencies loaded\")"
   ]
  },
  {
   "cell_type": "code",
   "execution_count": 2,
   "metadata": {
    "ExecuteTime": {
     "end_time": "2020-03-06T16:01:14.986133Z",
     "start_time": "2020-03-06T16:01:14.804442Z"
    }
   },
   "outputs": [
    {
     "name": "stdout",
     "output_type": "stream",
     "text": [
      "[INFO] Initializing environment with Studio API: https://studio-backend:8091\n"
     ]
    }
   ],
   "source": [
    "# Initialize environment\n",
    "env = Environment(project=\"Semantic Analysis\"  # Studio project you want to work on\n",
    "                  # Only required in stand-alone workspace deployments\n",
    "                  # studio_endpoint=\"STUDIO_ENDPOINT\", # Studio endpoint url: e.g. http://10.2.3.45:8091\n",
    "                  # studio_api_token=\"STUDIO_API_TOKEN\"\n",
    "                 ) \n",
    "\n",
    "# Initialize experiment"
   ]
  },
  {
   "cell_type": "code",
   "execution_count": 3,
   "metadata": {
    "ExecuteTime": {
     "end_time": "2020-03-06T16:01:14.992875Z",
     "start_time": "2020-03-06T16:01:14.989221Z"
    },
    "scrolled": true
   },
   "outputs": [
    {
     "name": "stdout",
     "output_type": "stream",
     "text": [
      "schema_Review.gz\n"
     ]
    }
   ],
   "source": [
    "# !wget http://data.dws.informatik.uni-mannheim.de/structureddata/2018-12/quads/classspecific/md/schema_Review.gz\n",
    "print(\"schema_Review.gz\")"
   ]
  },
  {
   "cell_type": "code",
   "execution_count": 4,
   "metadata": {
    "ExecuteTime": {
     "end_time": "2020-03-06T16:01:15.011648Z",
     "start_time": "2020-03-06T16:01:14.995113Z"
    }
   },
   "outputs": [
    {
     "name": "stdout",
     "output_type": "stream",
     "text": [
      "create reviews.db successful\n"
     ]
    }
   ],
   "source": [
    "conn = sqlite3.connect(\"reviews.db\")\n",
    "with conn: \n",
    "    conn.execute(\"\"\"\n",
    "        CREATE TABLE IF NOT EXISTS\n",
    "            REVIEWS(\n",
    "                NODE TEXT,\n",
    "                URL TEXT,bTEXT,\n",
    "                REVIEWBODY TEXT,\n",
    "                REVIEWRATING TEXT,\n",
    "                ITEMREVIEWED TEXT,\n",
    "                REVIEWASPECT TEXT,\n",
    "                REVIEWAUTHOR TEXT, \n",
    "                REVIEWDESCR TEXT, \n",
    "                PRIMARY KEY (NODE, URL))\n",
    "    \"\"\")\n",
    "cursor = conn.cursor()\n",
    "print(\"create reviews.db successful\")"
   ]
  },
  {
   "cell_type": "code",
   "execution_count": 5,
   "metadata": {
    "ExecuteTime": {
     "end_time": "2020-03-06T16:31:45.684558Z",
     "start_time": "2020-03-06T16:01:15.013705Z"
    }
   },
   "outputs": [
    {
     "name": "stdout",
     "output_type": "stream",
     "text": [
      "File schema_Review.gz contain 657840853 lines\n"
     ]
    }
   ],
   "source": [
    "myfile = \"schema_Review.gz\"\n",
    "with gzip.open(myfile, 'rb') as f:\n",
    "    for i, l in enumerate(f):\n",
    "        pass\n",
    "print(\"File {1} contain {0} lines\".format(i, myfile))"
   ]
  },
  {
   "cell_type": "code",
   "execution_count": null,
   "metadata": {
    "ExecuteTime": {
     "start_time": "2020-03-06T16:01:12.081Z"
    },
    "code_folding": [],
    "scrolled": false
   },
   "outputs": [
    {
     "name": "stdout",
     "output_type": "stream",
     "text": [
      "2020-03-06 16:31:45.716317: processed 0.0/657 million lines so far\n",
      "2020-03-06 16:38:05.044284: processed 5.0/657 million lines so far\n",
      "2020-03-06 16:44:24.383610: processed 10.0/657 million lines so far\n",
      "2020-03-06 16:50:51.265392: processed 15.0/657 million lines so far\n",
      "2020-03-06 17:01:21.402302: processed 25.0/657 million lines so far\n",
      "2020-03-06 17:07:43.988346: processed 30.0/657 million lines so far\n",
      "2020-03-06 17:24:04.051016: processed 35.0/657 million lines so far\n",
      "2020-03-06 17:37:39.787448: processed 40.0/657 million lines so far\n",
      "2020-03-06 18:23:17.647692: processed 45.0/657 million lines so far\n",
      "2020-03-06 19:29:00.173959: processed 50.0/657 million lines so far\n",
      "2020-03-06 19:38:11.282643: processed 55.0/657 million lines so far\n",
      "2020-03-06 20:06:29.895486: processed 60.0/657 million lines so far\n",
      "2020-03-06 20:17:02.987620: processed 65.0/657 million lines so far\n",
      "2020-03-06 20:23:18.336814: processed 70.0/657 million lines so far\n",
      "2020-03-06 20:28:50.271393: processed 75.0/657 million lines so far\n",
      "2020-03-06 20:37:24.184925: processed 80.0/657 million lines so far\n",
      "2020-03-06 20:44:02.578530: processed 85.0/657 million lines so far\n",
      "2020-03-06 20:51:18.501507: processed 90.0/657 million lines so far\n",
      "2020-03-06 20:56:57.834772: processed 95.0/657 million lines so far\n",
      "2020-03-06 21:02:57.576144: processed 100.0/657 million lines so far\n",
      "2020-03-06 21:20:21.624071: processed 105.0/657 million lines so far\n",
      "2020-03-06 21:57:24.605970: processed 110.0/657 million lines so far\n",
      "2020-03-06 22:37:03.813465: processed 115.0/657 million lines so far\n",
      "2020-03-06 22:41:29.207100: processed 120.0/657 million lines so far\n",
      "2020-03-06 22:51:52.788121: processed 125.0/657 million lines so far\n",
      "2020-03-06 22:58:45.637422: processed 130.0/657 million lines so far\n",
      "2020-03-06 23:41:10.588285: processed 135.0/657 million lines so far\n",
      "2020-03-07 00:01:52.318086: processed 140.0/657 million lines so far\n",
      "2020-03-07 00:06:17.506848: processed 145.0/657 million lines so far\n",
      "2020-03-07 00:51:49.275899: processed 150.0/657 million lines so far\n",
      "2020-03-07 01:29:11.369724: processed 155.0/657 million lines so far\n",
      "2020-03-07 01:34:29.033515: processed 160.0/657 million lines so far\n",
      "2020-03-07 01:41:05.670647: processed 165.0/657 million lines so far\n",
      "2020-03-07 01:49:09.006238: processed 170.0/657 million lines so far\n",
      "2020-03-07 03:59:29.667283: processed 175.0/657 million lines so far\n",
      "2020-03-07 06:33:11.092431: processed 180.0/657 million lines so far\n",
      "2020-03-07 09:11:19.608856: processed 185.0/657 million lines so far\n",
      "2020-03-07 12:01:40.389010: processed 190.0/657 million lines so far\n",
      "2020-03-07 14:42:25.969215: processed 195.0/657 million lines so far\n",
      "2020-03-07 17:22:30.080967: processed 200.0/657 million lines so far\n",
      "2020-03-07 19:55:16.121575: processed 205.0/657 million lines so far\n",
      "2020-03-07 22:28:51.837411: processed 210.0/657 million lines so far\n",
      "2020-03-08 01:04:01.632515: processed 215.0/657 million lines so far\n",
      "2020-03-08 03:37:19.959532: processed 220.0/657 million lines so far\n",
      "2020-03-08 06:13:45.173590: processed 225.0/657 million lines so far\n",
      "2020-03-08 09:01:47.897682: processed 230.0/657 million lines so far\n",
      "2020-03-08 11:52:35.303336: processed 235.0/657 million lines so far\n",
      "2020-03-08 14:41:46.220366: processed 240.0/657 million lines so far\n",
      "2020-03-08 17:20:05.531781: processed 245.0/657 million lines so far\n",
      "2020-03-08 20:08:11.208522: processed 250.0/657 million lines so far\n",
      "2020-03-08 22:48:53.223806: processed 255.0/657 million lines so far\n",
      "2020-03-09 01:18:33.327373: processed 260.0/657 million lines so far\n",
      "2020-03-09 04:01:06.147517: processed 265.0/657 million lines so far\n",
      "2020-03-09 06:50:03.518815: processed 270.0/657 million lines so far\n"
     ]
    }
   ],
   "source": [
    "# -> reviews.db -> converted to reviews_all.db\n",
    "conn = sqlite3.connect(\"reviews.db\")\n",
    "cursor = conn.cursor()\n",
    "\n",
    "taxo_pattern = re.compile(\"<http://schema.org/Review/reviewBody>|<http://schema.org/Review/ratingValue>|<http://schema.org/Review/itemReviewed>|<http://schema.org/Review/reviewAspect>|<http://schema.org/Review/author>|<http://schema.org/Review/description>\", re.IGNORECASE)\n",
    "split_pattern = re.compile(\"^(_:.*)\\s(<http:\\/\\/schema\\.org\\/Review\\/reviewBody>|<http:\\/\\/schema\\.org\\/Review\\/ratingValue>|<http:\\/\\/schema\\.org\\/Review\\/itemReviewed>|<http:\\/\\/schema\\.org\\/Review\\/reviewAspect>|<http:\\/\\/schema\\.org\\/Review\\/author>|<http:\\/\\/schema\\.org\\/Review\\/description>)\\s(.*)\\s<(.*)>\\s\\.$\", re.IGNORECASE)\n",
    "\n",
    "with gzip.open(\"schema_Review.gz\", \"rt\") as f:\n",
    "    i = 0\n",
    "    skipped_lines = 0\n",
    "    inserted = 0\n",
    "    not_taxo = 0\n",
    "    failes_updates = 0\n",
    "    # head = [next(f) for x in range(50)]\n",
    "    # print(head)\n",
    "    #for line in head: \n",
    "      # print(line)\n",
    "    for line in iter(f.readline, \"\"):\n",
    "      if i % 5000000 == 0:\n",
    "        print(str(dt.now()) + \": processed \" + str(i / 1000000) + \"/657 million lines so far\")\n",
    "      i += 1\n",
    "      if not taxo_pattern.search(line):\n",
    "        # print(\"not taxo\")\n",
    "        not_taxo += 1\n",
    "        continue\n",
    "      match = split_pattern.match(line)\n",
    "      if match is None:\n",
    "        skipped_lines += 1\n",
    "        # print(\"not match\" + str(line))  \n",
    "        continue\n",
    "      props = match.groups()\n",
    "      with conn: \n",
    "        if len(props) != 4:\n",
    "          print(\"properties with weird length: \" + str(props))\n",
    "          continue\n",
    "        subject = props[0]\n",
    "        predicate = props[1]\n",
    "        obj = props[2]\n",
    "        source = props[3]\n",
    "        conn.execute(\"INSERT OR IGNORE INTO REVIEWS (NODE, URL) VALUES (?,?)\",(subject, source))\n",
    "        update_query = \"UPDATE REVIEWS SET \"\n",
    "        params = [obj, subject, source]\n",
    "        # print(params)\n",
    "        if predicate.lower() == \"<http://schema.org/Review/reviewBody>\".lower():\n",
    "          update_query += \"REVIEWBODY = ?\"\n",
    "        if predicate.lower() == \"<http://schema.org/Review/ratingValue>\".lower():\n",
    "          update_query += \"REVIEWRATING = ?\"\n",
    "        if predicate.lower() == \"<http://schema.org/Review/itemReviewed>\".lower():\n",
    "          update_query += \"ITEMREVIEWED = ?\"\n",
    "        if predicate.lower() == \"<http://schema.org/Review/reviewAspect>\".lower():\n",
    "          update_query += \"REVIEWASPECT = ?\"\n",
    "        if predicate.lower() == \"<http://schema.org/Review/author>\".lower():\n",
    "          update_query += \"REVIEWAUTHOR = ?\"\n",
    "        if predicate.lower() == \"<http://schema.org/Review/description>\".lower():\n",
    "          update_query += \"REVIEWDESCR = ?\"\n",
    "        if predicate.lower() == \"<http://schema.org/Review/datePublished\".lower():\n",
    "          update_query += \"REVIEWDATE = ?\"\n",
    "        if predicate.lower() == \"<http://schema.org/Review/reviewRating\".lower():\n",
    "          update_query += \"REVIEWRATING = ?\"  \n",
    "        update_query += \" WHERE NODE = ? AND URL = ?;\"\n",
    "        try:\n",
    "          # print(update_query, params)\n",
    "          conn.execute(update_query, params)\n",
    "          # print(props)\n",
    "          inserted += 1\n",
    "        except:\n",
    "          print(\"failed to execute for params \" + str(props))\n",
    "          failes_updates += 1\n",
    "\n",
    "print(\"inserted \" + str(inserted) + \" lines and skipped \" + str(skipped_lines) + \" lines and not in chosen taxonomy \" + str(not_taxo))\n",
    "print(\"Done processing the review file\")"
   ]
  }
 ],
 "metadata": {
  "kernelspec": {
   "display_name": "Python 3",
   "language": "python",
   "name": "python3"
  },
  "language_info": {
   "codemirror_mode": {
    "name": "ipython",
    "version": 3
   },
   "file_extension": ".py",
   "mimetype": "text/x-python",
   "name": "python",
   "nbconvert_exporter": "python",
   "pygments_lexer": "ipython3",
   "version": "3.6.9"
  },
  "toc": {
   "base_numbering": 1,
   "nav_menu": {},
   "number_sections": true,
   "sideBar": true,
   "skip_h1_title": false,
   "title_cell": "Table of Contents",
   "title_sidebar": "Contents",
   "toc_cell": false,
   "toc_position": {},
   "toc_section_display": true,
   "toc_window_display": false
  },
  "varInspector": {
   "cols": {
    "lenName": 16,
    "lenType": 16,
    "lenVar": 40
   },
   "kernels_config": {
    "python": {
     "delete_cmd_postfix": "",
     "delete_cmd_prefix": "del ",
     "library": "var_list.py",
     "varRefreshCmd": "print(var_dic_list())"
    },
    "r": {
     "delete_cmd_postfix": ") ",
     "delete_cmd_prefix": "rm(",
     "library": "var_list.r",
     "varRefreshCmd": "cat(var_dic_list()) "
    }
   },
   "oldHeight": 122.66666599999999,
   "position": {
    "height": "508.99px",
    "left": "1034.31px",
    "right": "20px",
    "top": "109px",
    "width": "614.99px"
   },
   "types_to_exclude": [
    "module",
    "function",
    "builtin_function_or_method",
    "instance",
    "_Feature"
   ],
   "varInspector_section_display": "block",
   "window_display": false
  },
  "widgets": {
   "application/vnd.jupyter.widget-state+json": {
    "state": {},
    "version_major": 2,
    "version_minor": 0
   }
  }
 },
 "nbformat": 4,
 "nbformat_minor": 2
}
