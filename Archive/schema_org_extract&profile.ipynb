{
  "nbformat": 4,
  "nbformat_minor": 0,
  "metadata": {
    "colab": {
      "name": "schema.org-extract&profile.ipynb",
      "provenance": [],
      "toc_visible": true,
      "authorship_tag": "ABX9TyNe9ByJc9bpMj8wCFnqPjoa",
      "include_colab_link": true
    },
    "kernelspec": {
      "name": "python3",
      "display_name": "Python 3"
    },
    "accelerator": "GPU"
  },
  "cells": [
    {
      "cell_type": "markdown",
      "metadata": {
        "id": "view-in-github",
        "colab_type": "text"
      },
      "source": [
        "<a href=\"https://colab.research.google.com/github/PhuongAnhMannheim/Master/blob/master/schema_org_extract%26profile.ipynb\" target=\"_parent\"><img src=\"https://colab.research.google.com/assets/colab-badge.svg\" alt=\"Open In Colab\"/></a>"
      ]
    },
    {
      "cell_type": "code",
      "metadata": {
        "id": "ISGS49ikdNNa",
        "colab_type": "code",
        "outputId": "f0f44dd7-3f18-4fc7-ed07-2c9078f351b1",
        "colab": {
          "base_uri": "https://localhost:8080/",
          "height": 64
        }
      },
      "source": [
        "import os\n",
        "import re\n",
        "import json\n",
        "import gzip\n",
        "import pandas as pd\n",
        "import tensorflow as tf\n",
        "import sqlite3\n",
        "from datetime import datetime as dt"
      ],
      "execution_count": 1,
      "outputs": [
        {
          "output_type": "display_data",
          "data": {
            "text/html": [
              "<p style=\"color: red;\">\n",
              "The default version of TensorFlow in Colab will soon switch to TensorFlow 2.x.<br>\n",
              "We recommend you <a href=\"https://www.tensorflow.org/guide/migrate\" target=\"_blank\">upgrade</a> now \n",
              "or ensure your notebook will continue to use TensorFlow 1.x via the <code>%tensorflow_version 1.x</code> magic:\n",
              "<a href=\"https://colab.research.google.com/notebooks/tensorflow_version.ipynb\" target=\"_blank\">more info</a>.</p>\n"
            ],
            "text/plain": [
              "<IPython.core.display.HTML object>"
            ]
          },
          "metadata": {
            "tags": []
          }
        }
      ]
    },
    {
      "cell_type": "code",
      "metadata": {
        "id": "Sslui-5gdaNP",
        "colab_type": "code",
        "outputId": "9c6135b0-7e21-4197-f1e4-7e7f43368bd0",
        "colab": {
          "base_uri": "https://localhost:8080/",
          "height": 168
        }
      },
      "source": [
        "!wget http://data.dws.informatik.uni-mannheim.de/structureddata/2018-12/quads/classspecific/md/schema_Review.gz"
      ],
      "execution_count": 0,
      "outputs": [
        {
          "output_type": "stream",
          "text": [
            "--2020-03-01 17:13:58--  http://data.dws.informatik.uni-mannheim.de/structureddata/2018-12/quads/classspecific/md/schema_Review.gz\n",
            "Resolving data.dws.informatik.uni-mannheim.de (data.dws.informatik.uni-mannheim.de)... 134.155.95.56\n",
            "Connecting to data.dws.informatik.uni-mannheim.de (data.dws.informatik.uni-mannheim.de)|134.155.95.56|:80... connected.\n",
            "HTTP request sent, awaiting response... 200 OK\n",
            "Length: 17837867803 (17G) [application/octet-stream]\n",
            "Saving to: ‘schema_Review.gz.1’\n",
            "\n",
            "schema_Review.gz.1   43%[=======>            ]   7.21G  47.6MB/s    eta 3m 33s "
          ],
          "name": "stdout"
        }
      ]
    },
    {
      "cell_type": "code",
      "metadata": {
        "id": "hfUNPUulABsD",
        "colab_type": "code",
        "outputId": "25e27b1f-2351-41a0-fa9d-8022e8f03b64",
        "colab": {
          "base_uri": "https://localhost:8080/",
          "height": 35
        }
      },
      "source": [
        "conn = sqlite3.connect(\"reviews.db\")\n",
        "with conn: \n",
        "    conn.execute(\"\"\"\n",
        "        CREATE TABLE IF NOT EXISTS\n",
        "            reviews(\n",
        "                NODE TEXT,\n",
        "                URL TEXT,bTEXT,\n",
        "                REVIEWBODY TEXT,\n",
        "                REVIEWRATING TEXT,\n",
        "                ITEMREVIEWED TEXT,\n",
        "                REVIEWASPECT TEXT,\n",
        "                REVIEWAUTHOR TEXT, \n",
        "                REVIEWDESCR TEXT, \n",
        "                PRIMARY KEY (NODE, URL))\n",
        "    \"\"\")\n",
        "print(\"create reviews.db successful\")"
      ],
      "execution_count": 36,
      "outputs": [
        {
          "output_type": "stream",
          "text": [
            "create reviews.db successful\n"
          ],
          "name": "stdout"
        }
      ]
    },
    {
      "cell_type": "code",
      "metadata": {
        "id": "OS8dNoyrgJl7",
        "colab_type": "code",
        "outputId": "85cb8437-851a-4b74-86ac-1a472a64eb42",
        "colab": {
          "base_uri": "https://localhost:8080/",
          "height": 176
        }
      },
      "source": [
        "# -> reviews.db -> converted to reviews_all.db\n",
        "conn = sqlite3.connect(\"reviews.db\")\n",
        "cursor = conn.cursor()\n",
        "\n",
        "taxo_pattern = re.compile(\"<http://schema.org/Review/reviewBody>|<http://schema.org/Review/ratingValue>|<http://schema.org/Review/itemReviewed>|<http://schema.org/Review/reviewAspect>|<http://schema.org/Review/author>|<http://schema.org/Review/description>|<http://schema.org/Review/datePublished>|<http://schema.org/Review/reviewRating>\", re.IGNORECASE)\n",
        "split_pattern = re.compile(\"^(_:.*)\\s(<http:\\/\\/schema\\.org\\/Review\\/reviewBody>|<http:\\/\\/schema\\.org\\/Review\\/ratingValue>|<http:\\/\\/schema\\.org\\/Review\\/itemReviewed>|<http:\\/\\/schema\\.org\\/Review\\/reviewAspect>|<http:\\/\\/schema\\.org\\/Review\\/author>|<http:\\/\\/schema\\.org\\/Review\\/description>|<http:\\/\\/schema\\.org\\/Review\\/datePublished>)\\s(.*)\\s<(.*)>\\s\\.$\", re.IGNORECASE)\n",
        "\n",
        "with gzip.open(\"schema_Review.gz\", \"rt\") as f:\n",
        "    i = 0\n",
        "    skipped_lines = 0\n",
        "    inserted = 0\n",
        "    head = [next(f) for x in range(50)]\n",
        "    # print(head)\n",
        "    for line in head: \n",
        "      # print(line)\n",
        "      if not taxo_pattern.search(line):\n",
        "        # print(\"no taxo\")\n",
        "        continue\n",
        "      match = split_pattern.match(line)\n",
        "      if match is None:\n",
        "        skipped_lines += 1\n",
        "        print(\"no match\" + str(line))  \n",
        "        continue\n",
        "      props = match.groups()\n",
        "      with conn: \n",
        "        if len(props) != 4:\n",
        "          print(\"properties with weird length: \" + str(props))\n",
        "          continue\n",
        "        subject = props[0]\n",
        "        predicate = props[1]\n",
        "        obj = props[2]\n",
        "        source = props[3]\n",
        "        conn.execute(\"INSERT OR IGNORE INTO REVIEWS (NODE, URL) VALUES (?,?)\",(subject, source))\n",
        "        update_query = \"UPDATE REVIEWS SET \"\n",
        "        params = [obj, subject, source]\n",
        "        print(params)\n",
        "        if predicate.lower() == \"<http://schema.org/Review/reviewBody>\".lower():\n",
        "          update_query += \"REVIEWBODY = ?\"\n",
        "        if predicate.lower() == \"<http://schema.org/Review/ratingValue>\".lower():\n",
        "          update_query += \"REVIEWRATING = ?\"\n",
        "        if predicate.lower() == \"<http://schema.org/Review/itemReviewed>\".lower():\n",
        "          update_query += \"ITEMREVIEWED = ?\"\n",
        "        if predicate.lower() == \"<http://schema.org/Review/reviewAspect>\".lower():\n",
        "          update_query += \"REVIEWASPECT = ?\"\n",
        "        if predicate.lower() == \"<http://schema.org/Review/author>\".lower():\n",
        "          update_query += \"REVIEWAUTHOR = ?\"\n",
        "        if predicate.lower() == \"<http://schema.org/Review/description>\".lower():\n",
        "          update_query += \"REVIEWDESCR = ?\"\n",
        "        if predicate.lower() == \"<http://schema.org/Review/datePublished\".lower():\n",
        "          update_query += \"REVIEWDATE = ?\"\n",
        "        if predicate.lower() == \"<http://schema.org/Review/reviewRating\".lower():\n",
        "          update_query += \"REVIEWRATING = ?\"  \n",
        "        update_query += \" WHERE NODE = ? AND URL = ?;\"\n",
        "        try:\n",
        "          print(update_query, params)\n",
        "          conn.execute(update_query, params)\n",
        "          print(props)\n",
        "          inserted += 1\n",
        "        except:\n",
        "          print(\"failed to execute for params \" + str(props))\n",
        "\n",
        "print(\"inserted \" + str(inserted) + \" lines and skipped \" + str(skipped_lines) + \" lines\")\n",
        "print(\"Done processing the review file\")\n",
        "\n",
        "\n"
      ],
      "execution_count": 30,
      "outputs": [
        {
          "output_type": "stream",
          "text": [
            "['<http://20te20.ir/527007-%D8%AA%D9%86%D9%88%D8%B1-%DA%AF%D8%A7%D8%B2%DB%8C-%D8%AE%D8%A7%D9%86%DA%AF%DB%8C-%D8%B3%D8%B1%D8%A7%D8%B4%D9%BE%D8%B2/bz=1//ThemesStore/opencart/image/stars-0.png>', '_:node2c2e3ffd705962c891db9ab89a44cacc', 'http://20te20.ir/527007-%D8%AA%D9%86%D9%88%D8%B1-%DA%AF%D8%A7%D8%B2%DB%8C-%D8%AE%D8%A7%D9%86%DA%AF%DB%8C-%D8%B3%D8%B1%D8%A7%D8%B4%D9%BE%D8%B2/bz=1']\n",
            "UPDATE REVIEWS SET REVIEWRATING = ? WHERE NODE = ? AND URL = ?; ['<http://20te20.ir/527007-%D8%AA%D9%86%D9%88%D8%B1-%DA%AF%D8%A7%D8%B2%DB%8C-%D8%AE%D8%A7%D9%86%DA%AF%DB%8C-%D8%B3%D8%B1%D8%A7%D8%B4%D9%BE%D8%B2/bz=1//ThemesStore/opencart/image/stars-0.png>', '_:node2c2e3ffd705962c891db9ab89a44cacc', 'http://20te20.ir/527007-%D8%AA%D9%86%D9%88%D8%B1-%DA%AF%D8%A7%D8%B2%DB%8C-%D8%AE%D8%A7%D9%86%DA%AF%DB%8C-%D8%B3%D8%B1%D8%A7%D8%B4%D9%BE%D8%B2/bz=1']\n",
            "('_:node2c2e3ffd705962c891db9ab89a44cacc', '<http://schema.org/Review/ratingValue>', '<http://20te20.ir/527007-%D8%AA%D9%86%D9%88%D8%B1-%DA%AF%D8%A7%D8%B2%DB%8C-%D8%AE%D8%A7%D9%86%DA%AF%DB%8C-%D8%B3%D8%B1%D8%A7%D8%B4%D9%BE%D8%B2/bz=1//ThemesStore/opencart/image/stars-0.png>', 'http://20te20.ir/527007-%D8%AA%D9%86%D9%88%D8%B1-%DA%AF%D8%A7%D8%B2%DB%8C-%D8%AE%D8%A7%D9%86%DA%AF%DB%8C-%D8%B3%D8%B1%D8%A7%D8%B4%D9%BE%D8%B2/bz=1')\n",
            "['\"Hello Neighbor est un jeu d\\'horreur \\\\u00C3\\\\u00A0 installer sur votre mobile ou sur votre tablette tactile. Dans ce jeu, vous devez p\\\\u00C3\\\\u00A9n\\\\u00C3\\\\u00A9trer par effraction chez votre voisin et d\\\\u00C3\\\\u00A9couvrir les secrets qu\\'il cache. Pour cela, vous devrez \\\\u00C3\\\\u00A9viter de nombreux pi\\\\u00C3\\\\u00A8ges.Un jeu \\\\u00C3\\\\u00A9volutifHello Neighbor est un jeu \\\\u00C3\\\\u00A9volutif dans le sens o\\\\u00C3\\\\u00B9 le logiciel va apprendre de vos mouvements : en somme, il s\\'adapte \\\\u00C3\\\\u00A0 votre fa\\\\u00C3\\\\u00A7on de vous d\\\\u00C3\\\\u00A9placer pour vous compliquer la t\\\\u00C3\\\\u00A2che. Une fois dans le sous-sol de votre voisin, vous devrez fouiller tout ce qui se pr\\\\u00C3\\\\u00A9sente \\\\u00C3\\\\u00A0 vous et vous faufiler l\\\\u00C3\\\\u00A0 o\\\\u00C3\\\\u00B9 vous le pouvez. La maniabilit\\\\u00C3\\\\u00A9 du jeu est bonne et les niveaux sont assez prenants. En revanche, on d\\\\u00C3\\\\u00A9plore la qualit\\\\u00C3\\\\u00A9 du jeu : il est beaucoup trop pix\\\\u00C3\\\\u00A9lis\\\\u00C3\\\\u00A9. C\\'est un jeu qui s\\'adresse plut\\\\u00C3\\\\u00B4t \\\\u00C3\\\\u00A0 un jeune public : \\\\u00C3\\\\u00A0 partir de 12 ans environ. Ne vous attendez pas \\\\u00C3\\\\u00A0 sursauter : ce jeu ne fait pas tr\\\\u00C3\\\\u00A8s peur.Un jeu en demi-teinteSi la maniabilit\\\\u00C3\\\\u00A9 du jeu Hello Neighbor est bien au rendez-vous, la qualit\\\\u00C3\\\\u00A9 de l\\'image est d\\\\u00C3\\\\u00A9finitivement absente. Par ailleurs, Hello Neighbor ne fait pas tr\\\\u00C3\\\\u00A8s peur et il ne faut pas vous attendre \\\\u00C3\\\\u00A0 des jumps scare.Publicit\\\\u00C3\\\\u00A9sam.cmd.push(function() { sam.display(\\'review-app-page-desktop\\'); });\"', '_:node1f865f4bfa138ac184ddbbd383299621', 'http://67kmm.com/~hello-neighbor/android']\n",
            "UPDATE REVIEWS SET REVIEWBODY = ? WHERE NODE = ? AND URL = ?; ['\"Hello Neighbor est un jeu d\\'horreur \\\\u00C3\\\\u00A0 installer sur votre mobile ou sur votre tablette tactile. Dans ce jeu, vous devez p\\\\u00C3\\\\u00A9n\\\\u00C3\\\\u00A9trer par effraction chez votre voisin et d\\\\u00C3\\\\u00A9couvrir les secrets qu\\'il cache. Pour cela, vous devrez \\\\u00C3\\\\u00A9viter de nombreux pi\\\\u00C3\\\\u00A8ges.Un jeu \\\\u00C3\\\\u00A9volutifHello Neighbor est un jeu \\\\u00C3\\\\u00A9volutif dans le sens o\\\\u00C3\\\\u00B9 le logiciel va apprendre de vos mouvements : en somme, il s\\'adapte \\\\u00C3\\\\u00A0 votre fa\\\\u00C3\\\\u00A7on de vous d\\\\u00C3\\\\u00A9placer pour vous compliquer la t\\\\u00C3\\\\u00A2che. Une fois dans le sous-sol de votre voisin, vous devrez fouiller tout ce qui se pr\\\\u00C3\\\\u00A9sente \\\\u00C3\\\\u00A0 vous et vous faufiler l\\\\u00C3\\\\u00A0 o\\\\u00C3\\\\u00B9 vous le pouvez. La maniabilit\\\\u00C3\\\\u00A9 du jeu est bonne et les niveaux sont assez prenants. En revanche, on d\\\\u00C3\\\\u00A9plore la qualit\\\\u00C3\\\\u00A9 du jeu : il est beaucoup trop pix\\\\u00C3\\\\u00A9lis\\\\u00C3\\\\u00A9. C\\'est un jeu qui s\\'adresse plut\\\\u00C3\\\\u00B4t \\\\u00C3\\\\u00A0 un jeune public : \\\\u00C3\\\\u00A0 partir de 12 ans environ. Ne vous attendez pas \\\\u00C3\\\\u00A0 sursauter : ce jeu ne fait pas tr\\\\u00C3\\\\u00A8s peur.Un jeu en demi-teinteSi la maniabilit\\\\u00C3\\\\u00A9 du jeu Hello Neighbor est bien au rendez-vous, la qualit\\\\u00C3\\\\u00A9 de l\\'image est d\\\\u00C3\\\\u00A9finitivement absente. Par ailleurs, Hello Neighbor ne fait pas tr\\\\u00C3\\\\u00A8s peur et il ne faut pas vous attendre \\\\u00C3\\\\u00A0 des jumps scare.Publicit\\\\u00C3\\\\u00A9sam.cmd.push(function() { sam.display(\\'review-app-page-desktop\\'); });\"', '_:node1f865f4bfa138ac184ddbbd383299621', 'http://67kmm.com/~hello-neighbor/android']\n",
            "failed to execute for params ('_:node1f865f4bfa138ac184ddbbd383299621', '<http://schema.org/Review/reviewBody>', '\"Hello Neighbor est un jeu d\\'horreur \\\\u00C3\\\\u00A0 installer sur votre mobile ou sur votre tablette tactile. Dans ce jeu, vous devez p\\\\u00C3\\\\u00A9n\\\\u00C3\\\\u00A9trer par effraction chez votre voisin et d\\\\u00C3\\\\u00A9couvrir les secrets qu\\'il cache. Pour cela, vous devrez \\\\u00C3\\\\u00A9viter de nombreux pi\\\\u00C3\\\\u00A8ges.Un jeu \\\\u00C3\\\\u00A9volutifHello Neighbor est un jeu \\\\u00C3\\\\u00A9volutif dans le sens o\\\\u00C3\\\\u00B9 le logiciel va apprendre de vos mouvements : en somme, il s\\'adapte \\\\u00C3\\\\u00A0 votre fa\\\\u00C3\\\\u00A7on de vous d\\\\u00C3\\\\u00A9placer pour vous compliquer la t\\\\u00C3\\\\u00A2che. Une fois dans le sous-sol de votre voisin, vous devrez fouiller tout ce qui se pr\\\\u00C3\\\\u00A9sente \\\\u00C3\\\\u00A0 vous et vous faufiler l\\\\u00C3\\\\u00A0 o\\\\u00C3\\\\u00B9 vous le pouvez. La maniabilit\\\\u00C3\\\\u00A9 du jeu est bonne et les niveaux sont assez prenants. En revanche, on d\\\\u00C3\\\\u00A9plore la qualit\\\\u00C3\\\\u00A9 du jeu : il est beaucoup trop pix\\\\u00C3\\\\u00A9lis\\\\u00C3\\\\u00A9. C\\'est un jeu qui s\\'adresse plut\\\\u00C3\\\\u00B4t \\\\u00C3\\\\u00A0 un jeune public : \\\\u00C3\\\\u00A0 partir de 12 ans environ. Ne vous attendez pas \\\\u00C3\\\\u00A0 sursauter : ce jeu ne fait pas tr\\\\u00C3\\\\u00A8s peur.Un jeu en demi-teinteSi la maniabilit\\\\u00C3\\\\u00A9 du jeu Hello Neighbor est bien au rendez-vous, la qualit\\\\u00C3\\\\u00A9 de l\\'image est d\\\\u00C3\\\\u00A9finitivement absente. Par ailleurs, Hello Neighbor ne fait pas tr\\\\u00C3\\\\u00A8s peur et il ne faut pas vous attendre \\\\u00C3\\\\u00A0 des jumps scare.Publicit\\\\u00C3\\\\u00A9sam.cmd.push(function() { sam.display(\\'review-app-page-desktop\\'); });\"', 'http://67kmm.com/~hello-neighbor/android')\n",
            "inserted 1 lines and skipped 0 lines\n",
            "Done processing the review file\n"
          ],
          "name": "stdout"
        }
      ]
    },
    {
      "cell_type": "code",
      "metadata": {
        "id": "hKdhh0BR9Ur5",
        "colab_type": "code",
        "colab": {
          "base_uri": "https://localhost:8080/",
          "height": 35
        },
        "outputId": "5149abe5-9221-4f1a-b168-6b607a96f938"
      },
      "source": [
        "def total_rows(cursor, table_name, print_out=False):\n",
        "    \"\"\" Returns the total number of rows in the database \"\"\"\n",
        "    cursor.execute('SELECT COUNT(*) FROM {}'.format(table_name))\n",
        "    count = cursor.fetchall()\n",
        "    if print_out:\n",
        "        print('\\nTotal rows: {}'.format(count[0][0]))\n",
        "    return count[0][0]\n",
        "\n",
        "total_rows(cursor, \"REVIEWS\")"
      ],
      "execution_count": 37,
      "outputs": [
        {
          "output_type": "execute_result",
          "data": {
            "text/plain": [
              "2"
            ]
          },
          "metadata": {
            "tags": []
          },
          "execution_count": 37
        }
      ]
    },
    {
      "cell_type": "code",
      "metadata": {
        "id": "gZKkQdEn7NjP",
        "colab_type": "code",
        "outputId": "600a4a85-c863-42f3-ab1b-dc08002f0c7f",
        "colab": {
          "base_uri": "https://localhost:8080/",
          "height": 235
        }
      },
      "source": [
        "# conn = sqlite3.connect(\"reviews.db\")\n",
        "# cursor = conn.cursor()\n",
        "for row in cursor.execute(\"SELECT NODE, URL, REVIEWBODY, REVIEWRATING, ITEMREVIEWED, REVIEWASPECT, REVIEWAUTHOR, REVIEWDESCR from REVIEWS\"):\n",
        "  print(\"NODE = \", row[0])\n",
        "  print(\"URL = \", row[1])\n",
        "  print(\"REVIEWBODY = \", row[2])\n",
        "  print(\"REVIEWRATING = \", row[3])\n",
        "  print(\"ITEMREVIEWED = \", row[4])\n",
        "  print(\"REVIEWASPECT = \", row[5])\n",
        "  print(\"REVIEWAUTHOR = \", row[6])\n",
        "  print(\"REVIEWDESCR = \", row[7], \"\\n\")\n",
        "\n",
        "print(\"done\")"
      ],
      "execution_count": 38,
      "outputs": [
        {
          "output_type": "error",
          "ename": "OperationalError",
          "evalue": "ignored",
          "traceback": [
            "\u001b[0;31m---------------------------------------------------------------------------\u001b[0m",
            "\u001b[0;31mOperationalError\u001b[0m                          Traceback (most recent call last)",
            "\u001b[0;32m<ipython-input-38-d69b7a37f86b>\u001b[0m in \u001b[0;36m<module>\u001b[0;34m()\u001b[0m\n\u001b[0;32m----> 1\u001b[0;31m \u001b[0;32mfor\u001b[0m \u001b[0mrow\u001b[0m \u001b[0;32min\u001b[0m \u001b[0mcursor\u001b[0m\u001b[0;34m.\u001b[0m\u001b[0mexecute\u001b[0m\u001b[0;34m(\u001b[0m\u001b[0;34m\"SELECT NODE, URL, REVIEWBODY, REVIEWRATING, ITEMREVIEWED, REVIEWASPECT, REVIEWAUTHOR, REVIEWDESCR from REVIEWS\"\u001b[0m\u001b[0;34m)\u001b[0m\u001b[0;34m:\u001b[0m\u001b[0;34m\u001b[0m\u001b[0;34m\u001b[0m\u001b[0m\n\u001b[0m\u001b[1;32m      2\u001b[0m   \u001b[0mprint\u001b[0m\u001b[0;34m(\u001b[0m\u001b[0;34m\"NODE = \"\u001b[0m\u001b[0;34m,\u001b[0m \u001b[0mrow\u001b[0m\u001b[0;34m[\u001b[0m\u001b[0;36m0\u001b[0m\u001b[0;34m]\u001b[0m\u001b[0;34m)\u001b[0m\u001b[0;34m\u001b[0m\u001b[0;34m\u001b[0m\u001b[0m\n\u001b[1;32m      3\u001b[0m   \u001b[0mprint\u001b[0m\u001b[0;34m(\u001b[0m\u001b[0;34m\"URL = \"\u001b[0m\u001b[0;34m,\u001b[0m \u001b[0mrow\u001b[0m\u001b[0;34m[\u001b[0m\u001b[0;36m1\u001b[0m\u001b[0;34m]\u001b[0m\u001b[0;34m)\u001b[0m\u001b[0;34m\u001b[0m\u001b[0;34m\u001b[0m\u001b[0m\n\u001b[1;32m      4\u001b[0m   \u001b[0mprint\u001b[0m\u001b[0;34m(\u001b[0m\u001b[0;34m\"REVIEWBODY = \"\u001b[0m\u001b[0;34m,\u001b[0m \u001b[0mrow\u001b[0m\u001b[0;34m[\u001b[0m\u001b[0;36m2\u001b[0m\u001b[0;34m]\u001b[0m\u001b[0;34m)\u001b[0m\u001b[0;34m\u001b[0m\u001b[0;34m\u001b[0m\u001b[0m\n\u001b[1;32m      5\u001b[0m   \u001b[0mprint\u001b[0m\u001b[0;34m(\u001b[0m\u001b[0;34m\"REVIEWRATING = \"\u001b[0m\u001b[0;34m,\u001b[0m \u001b[0mrow\u001b[0m\u001b[0;34m[\u001b[0m\u001b[0;36m3\u001b[0m\u001b[0;34m]\u001b[0m\u001b[0;34m)\u001b[0m\u001b[0;34m\u001b[0m\u001b[0;34m\u001b[0m\u001b[0m\n",
            "\u001b[0;31mOperationalError\u001b[0m: no such column: REVIEWBODY"
          ]
        }
      ]
    },
    {
      "cell_type": "code",
      "metadata": {
        "id": "6Pf2E9BUtLyD",
        "colab_type": "code",
        "colab": {}
      },
      "source": [
        "import findspark\n",
        "findspark.init(\"C:\\\\Users\\\\D064966\\\\Downloads\\\\spark-3.0.0-preview-bin-hadoop2.7\")\n",
        "\n",
        "from pyspark.sql import SparkSession\n",
        "from pyspark.sql.functions import lit, col, udf\n",
        "from pyspark.sql.types import StringType\n",
        "from langdetect import detect\n",
        "\n",
        "spark = SparkSession \\\n",
        "    .builder \\\n",
        "    .appName(\"thesis\") \\\n",
        "    .master(\"local[2]\") \\\n",
        "    .config(\"spark.executor.memory\", \"4G\") \\\n",
        "    .config(\"spark.driver.memory\", \"4G\") \\\n",
        "    .config(\"spark.driver.maxResultSize\", \"4G\") \\\n",
        "    .getOrCreate()\n",
        "\n",
        "# filter out all reviews which do not have a review body and review rating\n",
        "# total: 17,486,857\n",
        "# without text: 17,211,204\n",
        "# + without rating: 318,849\n",
        "\n",
        "reviewsDF = spark.read.csv('../Data/reviews_all.csv', header=True, sep=\"\\t\")\n",
        "print(\"total:\" + str(reviewsDF.count()))\n",
        "reviewsDF = reviewsDF.filter(reviewsDF.REVIEWBODY.isNotNull())\n",
        "print(\"without text:\" + str(reviewsDF.count()))\n",
        "reviewsDF = reviewsDF.filter(reviewsDF.REVIEWRATING.isNotNull())\n",
        "print(\"without rating:\" + str(reviewsDF.count()))\n",
        "reviewsDF.head(5)\n",
        "\n",
        "# determine language of review body to distinct between english and non-english reviews\n",
        "# with eng: 205,029\n",
        "\n",
        "from langdetect import DetectorFactory\n",
        "DetectorFactory.seed = 0\n",
        "\n",
        "def detectLang(x):\n",
        "    try:\n",
        "        return detect(x)\n",
        "    except:\n",
        "        print(\"exception:\", x)\n",
        "    else: \n",
        "        print(\"sad:\", x)\n",
        "detect_lang = udf(detectLang, StringType())\n",
        "df = reviewsDF.withColumn(\"LANG\", lit(detect_lang(reviewsDF.REVIEWBODY)))\n",
        "\n",
        "# amount of df = 318849\n",
        "# df.head(5)\n",
        "# df.count()\n",
        "\n",
        "reviews_engDF = df.filter(df.LANG == \"en\")\n",
        "print(\"with eng:\" + str(reviews_engDF.count()))\n",
        "\n",
        "# -> collection of csv in a new folder \n",
        "FilePath = \"../Data/reviews_eng.csv\"\n",
        "# review_engDF.write.option(\"delimiter\", \"\\t\").format(\"com.databricks.spark.csv\").save(\"../Data/reviews_eng.csv\")\n",
        "df.write\\\n",
        "    .mode(\"overwrite\")\\\n",
        "    .format(\"com.databricks.spark.csv\")\\\n",
        "    .option(\"header\", \"true\")\\\n",
        "    .save(FilePath)\n"
      ],
      "execution_count": 0,
      "outputs": []
    },
    {
      "cell_type": "code",
      "metadata": {
        "id": "IxrQEywncfNT",
        "colab_type": "code",
        "outputId": "2ca83ec1-22ca-4b5c-e9c9-c1d4cfc4be0e",
        "colab": {
          "resources": {
            "http://localhost:8080/nbextensions/google.colab/files.js": {
              "data": "Ly8gQ29weXJpZ2h0IDIwMTcgR29vZ2xlIExMQwovLwovLyBMaWNlbnNlZCB1bmRlciB0aGUgQXBhY2hlIExpY2Vuc2UsIFZlcnNpb24gMi4wICh0aGUgIkxpY2Vuc2UiKTsKLy8geW91IG1heSBub3QgdXNlIHRoaXMgZmlsZSBleGNlcHQgaW4gY29tcGxpYW5jZSB3aXRoIHRoZSBMaWNlbnNlLgovLyBZb3UgbWF5IG9idGFpbiBhIGNvcHkgb2YgdGhlIExpY2Vuc2UgYXQKLy8KLy8gICAgICBodHRwOi8vd3d3LmFwYWNoZS5vcmcvbGljZW5zZXMvTElDRU5TRS0yLjAKLy8KLy8gVW5sZXNzIHJlcXVpcmVkIGJ5IGFwcGxpY2FibGUgbGF3IG9yIGFncmVlZCB0byBpbiB3cml0aW5nLCBzb2Z0d2FyZQovLyBkaXN0cmlidXRlZCB1bmRlciB0aGUgTGljZW5zZSBpcyBkaXN0cmlidXRlZCBvbiBhbiAiQVMgSVMiIEJBU0lTLAovLyBXSVRIT1VUIFdBUlJBTlRJRVMgT1IgQ09ORElUSU9OUyBPRiBBTlkgS0lORCwgZWl0aGVyIGV4cHJlc3Mgb3IgaW1wbGllZC4KLy8gU2VlIHRoZSBMaWNlbnNlIGZvciB0aGUgc3BlY2lmaWMgbGFuZ3VhZ2UgZ292ZXJuaW5nIHBlcm1pc3Npb25zIGFuZAovLyBsaW1pdGF0aW9ucyB1bmRlciB0aGUgTGljZW5zZS4KCi8qKgogKiBAZmlsZW92ZXJ2aWV3IEhlbHBlcnMgZm9yIGdvb2dsZS5jb2xhYiBQeXRob24gbW9kdWxlLgogKi8KKGZ1bmN0aW9uKHNjb3BlKSB7CmZ1bmN0aW9uIHNwYW4odGV4dCwgc3R5bGVBdHRyaWJ1dGVzID0ge30pIHsKICBjb25zdCBlbGVtZW50ID0gZG9jdW1lbnQuY3JlYXRlRWxlbWVudCgnc3BhbicpOwogIGVsZW1lbnQudGV4dENvbnRlbnQgPSB0ZXh0OwogIGZvciAoY29uc3Qga2V5IG9mIE9iamVjdC5rZXlzKHN0eWxlQXR0cmlidXRlcykpIHsKICAgIGVsZW1lbnQuc3R5bGVba2V5XSA9IHN0eWxlQXR0cmlidXRlc1trZXldOwogIH0KICByZXR1cm4gZWxlbWVudDsKfQoKLy8gTWF4IG51bWJlciBvZiBieXRlcyB3aGljaCB3aWxsIGJlIHVwbG9hZGVkIGF0IGEgdGltZS4KY29uc3QgTUFYX1BBWUxPQURfU0laRSA9IDEwMCAqIDEwMjQ7Ci8vIE1heCBhbW91bnQgb2YgdGltZSB0byBibG9jayB3YWl0aW5nIGZvciB0aGUgdXNlci4KY29uc3QgRklMRV9DSEFOR0VfVElNRU9VVF9NUyA9IDMwICogMTAwMDsKCmZ1bmN0aW9uIF91cGxvYWRGaWxlcyhpbnB1dElkLCBvdXRwdXRJZCkgewogIGNvbnN0IHN0ZXBzID0gdXBsb2FkRmlsZXNTdGVwKGlucHV0SWQsIG91dHB1dElkKTsKICBjb25zdCBvdXRwdXRFbGVtZW50ID0gZG9jdW1lbnQuZ2V0RWxlbWVudEJ5SWQob3V0cHV0SWQpOwogIC8vIENhY2hlIHN0ZXBzIG9uIHRoZSBvdXRwdXRFbGVtZW50IHRvIG1ha2UgaXQgYXZhaWxhYmxlIGZvciB0aGUgbmV4dCBjYWxsCiAgLy8gdG8gdXBsb2FkRmlsZXNDb250aW51ZSBmcm9tIFB5dGhvbi4KICBvdXRwdXRFbGVtZW50LnN0ZXBzID0gc3RlcHM7CgogIHJldHVybiBfdXBsb2FkRmlsZXNDb250aW51ZShvdXRwdXRJZCk7Cn0KCi8vIFRoaXMgaXMgcm91Z2hseSBhbiBhc3luYyBnZW5lcmF0b3IgKG5vdCBzdXBwb3J0ZWQgaW4gdGhlIGJyb3dzZXIgeWV0KSwKLy8gd2hlcmUgdGhlcmUgYXJlIG11bHRpcGxlIGFzeW5jaHJvbm91cyBzdGVwcyBhbmQgdGhlIFB5dGhvbiBzaWRlIGlzIGdvaW5nCi8vIHRvIHBvbGwgZm9yIGNvbXBsZXRpb24gb2YgZWFjaCBzdGVwLgovLyBUaGlzIHVzZXMgYSBQcm9taXNlIHRvIGJsb2NrIHRoZSBweXRob24gc2lkZSBvbiBjb21wbGV0aW9uIG9mIGVhY2ggc3RlcCwKLy8gdGhlbiBwYXNzZXMgdGhlIHJlc3VsdCBvZiB0aGUgcHJldmlvdXMgc3RlcCBhcyB0aGUgaW5wdXQgdG8gdGhlIG5leHQgc3RlcC4KZnVuY3Rpb24gX3VwbG9hZEZpbGVzQ29udGludWUob3V0cHV0SWQpIHsKICBjb25zdCBvdXRwdXRFbGVtZW50ID0gZG9jdW1lbnQuZ2V0RWxlbWVudEJ5SWQob3V0cHV0SWQpOwogIGNvbnN0IHN0ZXBzID0gb3V0cHV0RWxlbWVudC5zdGVwczsKCiAgY29uc3QgbmV4dCA9IHN0ZXBzLm5leHQob3V0cHV0RWxlbWVudC5sYXN0UHJvbWlzZVZhbHVlKTsKICByZXR1cm4gUHJvbWlzZS5yZXNvbHZlKG5leHQudmFsdWUucHJvbWlzZSkudGhlbigodmFsdWUpID0+IHsKICAgIC8vIENhY2hlIHRoZSBsYXN0IHByb21pc2UgdmFsdWUgdG8gbWFrZSBpdCBhdmFpbGFibGUgdG8gdGhlIG5leHQKICAgIC8vIHN0ZXAgb2YgdGhlIGdlbmVyYXRvci4KICAgIG91dHB1dEVsZW1lbnQubGFzdFByb21pc2VWYWx1ZSA9IHZhbHVlOwogICAgcmV0dXJuIG5leHQudmFsdWUucmVzcG9uc2U7CiAgfSk7Cn0KCi8qKgogKiBHZW5lcmF0b3IgZnVuY3Rpb24gd2hpY2ggaXMgY2FsbGVkIGJldHdlZW4gZWFjaCBhc3luYyBzdGVwIG9mIHRoZSB1cGxvYWQKICogcHJvY2Vzcy4KICogQHBhcmFtIHtzdHJpbmd9IGlucHV0SWQgRWxlbWVudCBJRCBvZiB0aGUgaW5wdXQgZmlsZSBwaWNrZXIgZWxlbWVudC4KICogQHBhcmFtIHtzdHJpbmd9IG91dHB1dElkIEVsZW1lbnQgSUQgb2YgdGhlIG91dHB1dCBkaXNwbGF5LgogKiBAcmV0dXJuIHshSXRlcmFibGU8IU9iamVjdD59IEl0ZXJhYmxlIG9mIG5leHQgc3RlcHMuCiAqLwpmdW5jdGlvbiogdXBsb2FkRmlsZXNTdGVwKGlucHV0SWQsIG91dHB1dElkKSB7CiAgY29uc3QgaW5wdXRFbGVtZW50ID0gZG9jdW1lbnQuZ2V0RWxlbWVudEJ5SWQoaW5wdXRJZCk7CiAgaW5wdXRFbGVtZW50LmRpc2FibGVkID0gZmFsc2U7CgogIGNvbnN0IG91dHB1dEVsZW1lbnQgPSBkb2N1bWVudC5nZXRFbGVtZW50QnlJZChvdXRwdXRJZCk7CiAgb3V0cHV0RWxlbWVudC5pbm5lckhUTUwgPSAnJzsKCiAgY29uc3QgcGlja2VkUHJvbWlzZSA9IG5ldyBQcm9taXNlKChyZXNvbHZlKSA9PiB7CiAgICBpbnB1dEVsZW1lbnQuYWRkRXZlbnRMaXN0ZW5lcignY2hhbmdlJywgKGUpID0+IHsKICAgICAgcmVzb2x2ZShlLnRhcmdldC5maWxlcyk7CiAgICB9KTsKICB9KTsKCiAgY29uc3QgY2FuY2VsID0gZG9jdW1lbnQuY3JlYXRlRWxlbWVudCgnYnV0dG9uJyk7CiAgaW5wdXRFbGVtZW50LnBhcmVudEVsZW1lbnQuYXBwZW5kQ2hpbGQoY2FuY2VsKTsKICBjYW5jZWwudGV4dENvbnRlbnQgPSAnQ2FuY2VsIHVwbG9hZCc7CiAgY29uc3QgY2FuY2VsUHJvbWlzZSA9IG5ldyBQcm9taXNlKChyZXNvbHZlKSA9PiB7CiAgICBjYW5jZWwub25jbGljayA9ICgpID0+IHsKICAgICAgcmVzb2x2ZShudWxsKTsKICAgIH07CiAgfSk7CgogIC8vIENhbmNlbCB1cGxvYWQgaWYgdXNlciBoYXNuJ3QgcGlja2VkIGFueXRoaW5nIGluIHRpbWVvdXQuCiAgY29uc3QgdGltZW91dFByb21pc2UgPSBuZXcgUHJvbWlzZSgocmVzb2x2ZSkgPT4gewogICAgc2V0VGltZW91dCgoKSA9PiB7CiAgICAgIHJlc29sdmUobnVsbCk7CiAgICB9LCBGSUxFX0NIQU5HRV9USU1FT1VUX01TKTsKICB9KTsKCiAgLy8gV2FpdCBmb3IgdGhlIHVzZXIgdG8gcGljayB0aGUgZmlsZXMuCiAgY29uc3QgZmlsZXMgPSB5aWVsZCB7CiAgICBwcm9taXNlOiBQcm9taXNlLnJhY2UoW3BpY2tlZFByb21pc2UsIHRpbWVvdXRQcm9taXNlLCBjYW5jZWxQcm9taXNlXSksCiAgICByZXNwb25zZTogewogICAgICBhY3Rpb246ICdzdGFydGluZycsCiAgICB9CiAgfTsKCiAgaWYgKCFmaWxlcykgewogICAgcmV0dXJuIHsKICAgICAgcmVzcG9uc2U6IHsKICAgICAgICBhY3Rpb246ICdjb21wbGV0ZScsCiAgICAgIH0KICAgIH07CiAgfQoKICBjYW5jZWwucmVtb3ZlKCk7CgogIC8vIERpc2FibGUgdGhlIGlucHV0IGVsZW1lbnQgc2luY2UgZnVydGhlciBwaWNrcyBhcmUgbm90IGFsbG93ZWQuCiAgaW5wdXRFbGVtZW50LmRpc2FibGVkID0gdHJ1ZTsKCiAgZm9yIChjb25zdCBmaWxlIG9mIGZpbGVzKSB7CiAgICBjb25zdCBsaSA9IGRvY3VtZW50LmNyZWF0ZUVsZW1lbnQoJ2xpJyk7CiAgICBsaS5hcHBlbmQoc3BhbihmaWxlLm5hbWUsIHtmb250V2VpZ2h0OiAnYm9sZCd9KSk7CiAgICBsaS5hcHBlbmQoc3BhbigKICAgICAgICBgKCR7ZmlsZS50eXBlIHx8ICduL2EnfSkgLSAke2ZpbGUuc2l6ZX0gYnl0ZXMsIGAgKwogICAgICAgIGBsYXN0IG1vZGlmaWVkOiAkewogICAgICAgICAgICBmaWxlLmxhc3RNb2RpZmllZERhdGUgPyBmaWxlLmxhc3RNb2RpZmllZERhdGUudG9Mb2NhbGVEYXRlU3RyaW5nKCkgOgogICAgICAgICAgICAgICAgICAgICAgICAgICAgICAgICAgICAnbi9hJ30gLSBgKSk7CiAgICBjb25zdCBwZXJjZW50ID0gc3BhbignMCUgZG9uZScpOwogICAgbGkuYXBwZW5kQ2hpbGQocGVyY2VudCk7CgogICAgb3V0cHV0RWxlbWVudC5hcHBlbmRDaGlsZChsaSk7CgogICAgY29uc3QgZmlsZURhdGFQcm9taXNlID0gbmV3IFByb21pc2UoKHJlc29sdmUpID0+IHsKICAgICAgY29uc3QgcmVhZGVyID0gbmV3IEZpbGVSZWFkZXIoKTsKICAgICAgcmVhZGVyLm9ubG9hZCA9IChlKSA9PiB7CiAgICAgICAgcmVzb2x2ZShlLnRhcmdldC5yZXN1bHQpOwogICAgICB9OwogICAgICByZWFkZXIucmVhZEFzQXJyYXlCdWZmZXIoZmlsZSk7CiAgICB9KTsKICAgIC8vIFdhaXQgZm9yIHRoZSBkYXRhIHRvIGJlIHJlYWR5LgogICAgbGV0IGZpbGVEYXRhID0geWllbGQgewogICAgICBwcm9taXNlOiBmaWxlRGF0YVByb21pc2UsCiAgICAgIHJlc3BvbnNlOiB7CiAgICAgICAgYWN0aW9uOiAnY29udGludWUnLAogICAgICB9CiAgICB9OwoKICAgIC8vIFVzZSBhIGNodW5rZWQgc2VuZGluZyB0byBhdm9pZCBtZXNzYWdlIHNpemUgbGltaXRzLiBTZWUgYi82MjExNTY2MC4KICAgIGxldCBwb3NpdGlvbiA9IDA7CiAgICB3aGlsZSAocG9zaXRpb24gPCBmaWxlRGF0YS5ieXRlTGVuZ3RoKSB7CiAgICAgIGNvbnN0IGxlbmd0aCA9IE1hdGgubWluKGZpbGVEYXRhLmJ5dGVMZW5ndGggLSBwb3NpdGlvbiwgTUFYX1BBWUxPQURfU0laRSk7CiAgICAgIGNvbnN0IGNodW5rID0gbmV3IFVpbnQ4QXJyYXkoZmlsZURhdGEsIHBvc2l0aW9uLCBsZW5ndGgpOwogICAgICBwb3NpdGlvbiArPSBsZW5ndGg7CgogICAgICBjb25zdCBiYXNlNjQgPSBidG9hKFN0cmluZy5mcm9tQ2hhckNvZGUuYXBwbHkobnVsbCwgY2h1bmspKTsKICAgICAgeWllbGQgewogICAgICAgIHJlc3BvbnNlOiB7CiAgICAgICAgICBhY3Rpb246ICdhcHBlbmQnLAogICAgICAgICAgZmlsZTogZmlsZS5uYW1lLAogICAgICAgICAgZGF0YTogYmFzZTY0LAogICAgICAgIH0sCiAgICAgIH07CiAgICAgIHBlcmNlbnQudGV4dENvbnRlbnQgPQogICAgICAgICAgYCR7TWF0aC5yb3VuZCgocG9zaXRpb24gLyBmaWxlRGF0YS5ieXRlTGVuZ3RoKSAqIDEwMCl9JSBkb25lYDsKICAgIH0KICB9CgogIC8vIEFsbCBkb25lLgogIHlpZWxkIHsKICAgIHJlc3BvbnNlOiB7CiAgICAgIGFjdGlvbjogJ2NvbXBsZXRlJywKICAgIH0KICB9Owp9CgpzY29wZS5nb29nbGUgPSBzY29wZS5nb29nbGUgfHwge307CnNjb3BlLmdvb2dsZS5jb2xhYiA9IHNjb3BlLmdvb2dsZS5jb2xhYiB8fCB7fTsKc2NvcGUuZ29vZ2xlLmNvbGFiLl9maWxlcyA9IHsKICBfdXBsb2FkRmlsZXMsCiAgX3VwbG9hZEZpbGVzQ29udGludWUsCn07Cn0pKHNlbGYpOwo=",
              "ok": true,
              "headers": [
                [
                  "content-type",
                  "application/javascript"
                ]
              ],
              "status": 200,
              "status_text": ""
            }
          },
          "base_uri": "https://localhost:8080/",
          "height": 93
        }
      },
      "source": [
        "from google.colab import files\n",
        "\n",
        "uploaded = files.upload()\n",
        "\n",
        "for fn in uploaded.keys():\n",
        "  print('User uploaded file \"{name}\" with length {length} bytes'.format(\n",
        "      name=fn, length=len(uploaded[fn])))"
      ],
      "execution_count": 0,
      "outputs": [
        {
          "output_type": "display_data",
          "data": {
            "text/html": [
              "\n",
              "     <input type=\"file\" id=\"files-a6565949-79af-46a7-ad9e-9e1adadaaa11\" name=\"files[]\" multiple disabled />\n",
              "     <output id=\"result-a6565949-79af-46a7-ad9e-9e1adadaaa11\">\n",
              "      Upload widget is only available when the cell has been executed in the\n",
              "      current browser session. Please rerun this cell to enable.\n",
              "      </output>\n",
              "      <script src=\"/nbextensions/google.colab/files.js\"></script> "
            ],
            "text/plain": [
              "<IPython.core.display.HTML object>"
            ]
          },
          "metadata": {
            "tags": []
          }
        },
        {
          "output_type": "stream",
          "text": [
            "Saving all.txt to all.txt\n",
            "User uploaded file \"all.txt\" with length 200004262 bytes\n"
          ],
          "name": "stdout"
        }
      ]
    },
    {
      "cell_type": "code",
      "metadata": {
        "id": "PeCVLCx93BXj",
        "colab_type": "code",
        "outputId": "c7d89af5-148b-4170-8bbd-cf696f0494f7",
        "colab": {
          "base_uri": "https://localhost:8080/",
          "height": 202
        }
      },
      "source": [
        "colnames = ['NODE','URL','REVIEWBODY','REVIEWRATING','ITEMREVIEWED','REVIEWASPECT','REVIEWAUTHOR','REVIEWDESCR','LANG']\n",
        "df_reviews_all = pd.read_csv('all.txt', names=colnames, sep=\"\\n\", engine=\"python\")\n",
        "df_reviews_all.head()"
      ],
      "execution_count": 0,
      "outputs": [
        {
          "output_type": "execute_result",
          "data": {
            "text/html": [
              "<div>\n",
              "<style scoped>\n",
              "    .dataframe tbody tr th:only-of-type {\n",
              "        vertical-align: middle;\n",
              "    }\n",
              "\n",
              "    .dataframe tbody tr th {\n",
              "        vertical-align: top;\n",
              "    }\n",
              "\n",
              "    .dataframe thead th {\n",
              "        text-align: right;\n",
              "    }\n",
              "</style>\n",
              "<table border=\"1\" class=\"dataframe\">\n",
              "  <thead>\n",
              "    <tr style=\"text-align: right;\">\n",
              "      <th></th>\n",
              "      <th>NODE</th>\n",
              "      <th>URL</th>\n",
              "      <th>REVIEWBODY</th>\n",
              "      <th>REVIEWRATING</th>\n",
              "      <th>ITEMREVIEWED</th>\n",
              "      <th>REVIEWASPECT</th>\n",
              "      <th>REVIEWAUTHOR</th>\n",
              "      <th>REVIEWDESCR</th>\n",
              "      <th>LANG</th>\n",
              "    </tr>\n",
              "  </thead>\n",
              "  <tbody>\n",
              "    <tr>\n",
              "      <th>0</th>\n",
              "      <td>NODE,URL,REVIEWBODY,REVIEWRATING,ITEMREVIEWED,...</td>\n",
              "      <td>NaN</td>\n",
              "      <td>NaN</td>\n",
              "      <td>NaN</td>\n",
              "      <td>NaN</td>\n",
              "      <td>NaN</td>\n",
              "      <td>NaN</td>\n",
              "      <td>NaN</td>\n",
              "      <td>NaN</td>\n",
              "    </tr>\n",
              "    <tr>\n",
              "      <th>1</th>\n",
              "      <td>_:nodedb437f217f765d411af36362222b56c,http://w...</td>\n",
              "      <td>NaN</td>\n",
              "      <td>NaN</td>\n",
              "      <td>NaN</td>\n",
              "      <td>NaN</td>\n",
              "      <td>NaN</td>\n",
              "      <td>NaN</td>\n",
              "      <td>NaN</td>\n",
              "      <td>NaN</td>\n",
              "    </tr>\n",
              "    <tr>\n",
              "      <th>2</th>\n",
              "      <td>_:node1d8e8861dc9a25ed296bd922fd213dc,http://w...</td>\n",
              "      <td>NaN</td>\n",
              "      <td>NaN</td>\n",
              "      <td>NaN</td>\n",
              "      <td>NaN</td>\n",
              "      <td>NaN</td>\n",
              "      <td>NaN</td>\n",
              "      <td>NaN</td>\n",
              "      <td>NaN</td>\n",
              "    </tr>\n",
              "    <tr>\n",
              "      <th>3</th>\n",
              "      <td>_:node878dbbd41ab91c36d1c6a1fee5701a8d,https:/...</td>\n",
              "      <td>NaN</td>\n",
              "      <td>NaN</td>\n",
              "      <td>NaN</td>\n",
              "      <td>NaN</td>\n",
              "      <td>NaN</td>\n",
              "      <td>NaN</td>\n",
              "      <td>NaN</td>\n",
              "      <td>NaN</td>\n",
              "    </tr>\n",
              "    <tr>\n",
              "      <th>4</th>\n",
              "      <td>_:node39e331755debb4c7295d6cff74fbf559,https:/...</td>\n",
              "      <td>NaN</td>\n",
              "      <td>NaN</td>\n",
              "      <td>NaN</td>\n",
              "      <td>NaN</td>\n",
              "      <td>NaN</td>\n",
              "      <td>NaN</td>\n",
              "      <td>NaN</td>\n",
              "      <td>NaN</td>\n",
              "    </tr>\n",
              "  </tbody>\n",
              "</table>\n",
              "</div>"
            ],
            "text/plain": [
              "                                                NODE  URL  ...  REVIEWDESCR  LANG\n",
              "0  NODE,URL,REVIEWBODY,REVIEWRATING,ITEMREVIEWED,...  NaN  ...          NaN   NaN\n",
              "1  _:nodedb437f217f765d411af36362222b56c,http://w...  NaN  ...          NaN   NaN\n",
              "2  _:node1d8e8861dc9a25ed296bd922fd213dc,http://w...  NaN  ...          NaN   NaN\n",
              "3  _:node878dbbd41ab91c36d1c6a1fee5701a8d,https:/...  NaN  ...          NaN   NaN\n",
              "4  _:node39e331755debb4c7295d6cff74fbf559,https:/...  NaN  ...          NaN   NaN\n",
              "\n",
              "[5 rows x 9 columns]"
            ]
          },
          "metadata": {
            "tags": []
          },
          "execution_count": 11
        }
      ]
    },
    {
      "cell_type": "code",
      "metadata": {
        "id": "HUEf7xvPfprI",
        "colab_type": "code",
        "outputId": "14adfeb3-b2f8-4cf3-90aa-a2922b7d58ca",
        "colab": {
          "base_uri": "https://localhost:8080/",
          "height": 381
        }
      },
      "source": [
        "df3 = df_reviews_all.NODE.str.split(\",\", n=1, expand=True)\n",
        "df3.columns = ['NODE', 'URL']\n",
        "df3.head()"
      ],
      "execution_count": 0,
      "outputs": [
        {
          "output_type": "error",
          "ename": "ValueError",
          "evalue": "ignored",
          "traceback": [
            "\u001b[0;31m---------------------------------------------------------------------------\u001b[0m",
            "\u001b[0;31mValueError\u001b[0m                                Traceback (most recent call last)",
            "\u001b[0;32m<ipython-input-21-00138bbf9a07>\u001b[0m in \u001b[0;36m<module>\u001b[0;34m()\u001b[0m\n\u001b[1;32m      1\u001b[0m \u001b[0mdf3\u001b[0m \u001b[0;34m=\u001b[0m \u001b[0mdf_reviews_all\u001b[0m\u001b[0;34m.\u001b[0m\u001b[0mNODE\u001b[0m\u001b[0;34m.\u001b[0m\u001b[0mstr\u001b[0m\u001b[0;34m.\u001b[0m\u001b[0msplit\u001b[0m\u001b[0;34m(\u001b[0m\u001b[0;34m\",\"\u001b[0m\u001b[0;34m,\u001b[0m \u001b[0mn\u001b[0m\u001b[0;34m=\u001b[0m\u001b[0;36m1\u001b[0m\u001b[0;34m,\u001b[0m \u001b[0mexpand\u001b[0m\u001b[0;34m=\u001b[0m\u001b[0;32mTrue\u001b[0m\u001b[0;34m)\u001b[0m\u001b[0;34m\u001b[0m\u001b[0;34m\u001b[0m\u001b[0m\n\u001b[0;32m----> 2\u001b[0;31m \u001b[0mdf3\u001b[0m\u001b[0;34m.\u001b[0m\u001b[0mcolumns\u001b[0m \u001b[0;34m=\u001b[0m \u001b[0;34m[\u001b[0m\u001b[0;34m'NODE'\u001b[0m\u001b[0;34m,\u001b[0m \u001b[0;34m'URL'\u001b[0m\u001b[0;34m]\u001b[0m\u001b[0;34m\u001b[0m\u001b[0;34m\u001b[0m\u001b[0m\n\u001b[0m\u001b[1;32m      3\u001b[0m \u001b[0mdf3\u001b[0m\u001b[0;34m.\u001b[0m\u001b[0mhead\u001b[0m\u001b[0;34m(\u001b[0m\u001b[0;34m)\u001b[0m\u001b[0;34m\u001b[0m\u001b[0;34m\u001b[0m\u001b[0m\n",
            "\u001b[0;32m/usr/local/lib/python3.6/dist-packages/pandas/core/generic.py\u001b[0m in \u001b[0;36m__setattr__\u001b[0;34m(self, name, value)\u001b[0m\n\u001b[1;32m   5190\u001b[0m         \u001b[0;32mtry\u001b[0m\u001b[0;34m:\u001b[0m\u001b[0;34m\u001b[0m\u001b[0;34m\u001b[0m\u001b[0m\n\u001b[1;32m   5191\u001b[0m             \u001b[0mobject\u001b[0m\u001b[0;34m.\u001b[0m\u001b[0m__getattribute__\u001b[0m\u001b[0;34m(\u001b[0m\u001b[0mself\u001b[0m\u001b[0;34m,\u001b[0m \u001b[0mname\u001b[0m\u001b[0;34m)\u001b[0m\u001b[0;34m\u001b[0m\u001b[0;34m\u001b[0m\u001b[0m\n\u001b[0;32m-> 5192\u001b[0;31m             \u001b[0;32mreturn\u001b[0m \u001b[0mobject\u001b[0m\u001b[0;34m.\u001b[0m\u001b[0m__setattr__\u001b[0m\u001b[0;34m(\u001b[0m\u001b[0mself\u001b[0m\u001b[0;34m,\u001b[0m \u001b[0mname\u001b[0m\u001b[0;34m,\u001b[0m \u001b[0mvalue\u001b[0m\u001b[0;34m)\u001b[0m\u001b[0;34m\u001b[0m\u001b[0;34m\u001b[0m\u001b[0m\n\u001b[0m\u001b[1;32m   5193\u001b[0m         \u001b[0;32mexcept\u001b[0m \u001b[0mAttributeError\u001b[0m\u001b[0;34m:\u001b[0m\u001b[0;34m\u001b[0m\u001b[0;34m\u001b[0m\u001b[0m\n\u001b[1;32m   5194\u001b[0m             \u001b[0;32mpass\u001b[0m\u001b[0;34m\u001b[0m\u001b[0;34m\u001b[0m\u001b[0m\n",
            "\u001b[0;32mpandas/_libs/properties.pyx\u001b[0m in \u001b[0;36mpandas._libs.properties.AxisProperty.__set__\u001b[0;34m()\u001b[0m\n",
            "\u001b[0;32m/usr/local/lib/python3.6/dist-packages/pandas/core/generic.py\u001b[0m in \u001b[0;36m_set_axis\u001b[0;34m(self, axis, labels)\u001b[0m\n\u001b[1;32m    688\u001b[0m \u001b[0;34m\u001b[0m\u001b[0m\n\u001b[1;32m    689\u001b[0m     \u001b[0;32mdef\u001b[0m \u001b[0m_set_axis\u001b[0m\u001b[0;34m(\u001b[0m\u001b[0mself\u001b[0m\u001b[0;34m,\u001b[0m \u001b[0maxis\u001b[0m\u001b[0;34m,\u001b[0m \u001b[0mlabels\u001b[0m\u001b[0;34m)\u001b[0m\u001b[0;34m:\u001b[0m\u001b[0;34m\u001b[0m\u001b[0;34m\u001b[0m\u001b[0m\n\u001b[0;32m--> 690\u001b[0;31m         \u001b[0mself\u001b[0m\u001b[0;34m.\u001b[0m\u001b[0m_data\u001b[0m\u001b[0;34m.\u001b[0m\u001b[0mset_axis\u001b[0m\u001b[0;34m(\u001b[0m\u001b[0maxis\u001b[0m\u001b[0;34m,\u001b[0m \u001b[0mlabels\u001b[0m\u001b[0;34m)\u001b[0m\u001b[0;34m\u001b[0m\u001b[0;34m\u001b[0m\u001b[0m\n\u001b[0m\u001b[1;32m    691\u001b[0m         \u001b[0mself\u001b[0m\u001b[0;34m.\u001b[0m\u001b[0m_clear_item_cache\u001b[0m\u001b[0;34m(\u001b[0m\u001b[0;34m)\u001b[0m\u001b[0;34m\u001b[0m\u001b[0;34m\u001b[0m\u001b[0m\n\u001b[1;32m    692\u001b[0m \u001b[0;34m\u001b[0m\u001b[0m\n",
            "\u001b[0;32m/usr/local/lib/python3.6/dist-packages/pandas/core/internals/managers.py\u001b[0m in \u001b[0;36mset_axis\u001b[0;34m(self, axis, new_labels)\u001b[0m\n\u001b[1;32m    181\u001b[0m             raise ValueError(\n\u001b[1;32m    182\u001b[0m                 \u001b[0;34m\"Length mismatch: Expected axis has {old} elements, new \"\u001b[0m\u001b[0;34m\u001b[0m\u001b[0;34m\u001b[0m\u001b[0m\n\u001b[0;32m--> 183\u001b[0;31m                 \u001b[0;34m\"values have {new} elements\"\u001b[0m\u001b[0;34m.\u001b[0m\u001b[0mformat\u001b[0m\u001b[0;34m(\u001b[0m\u001b[0mold\u001b[0m\u001b[0;34m=\u001b[0m\u001b[0mold_len\u001b[0m\u001b[0;34m,\u001b[0m \u001b[0mnew\u001b[0m\u001b[0;34m=\u001b[0m\u001b[0mnew_len\u001b[0m\u001b[0;34m)\u001b[0m\u001b[0;34m\u001b[0m\u001b[0;34m\u001b[0m\u001b[0m\n\u001b[0m\u001b[1;32m    184\u001b[0m             )\n\u001b[1;32m    185\u001b[0m \u001b[0;34m\u001b[0m\u001b[0m\n",
            "\u001b[0;31mValueError\u001b[0m: Length mismatch: Expected axis has 1 elements, new values have 2 elements"
          ]
        }
      ]
    },
    {
      "cell_type": "code",
      "metadata": {
        "id": "y2bpBjH9gr08",
        "colab_type": "code",
        "colab": {}
      },
      "source": [
        "df_reviews_all[['URL', 'REVIEWBODY']] = df.URL.str.split(\",\", n=1, expand=True)\n",
        "print(head)"
      ],
      "execution_count": 0,
      "outputs": []
    },
    {
      "cell_type": "code",
      "metadata": {
        "id": "QtgQyah3gybs",
        "colab_type": "code",
        "colab": {}
      },
      "source": [
        "df_reviews_all[['REVIEWBODY', 'LANG']] = df.REVIEWBODY.str.rsplit(\",\", 1)\n",
        "print(head)"
      ],
      "execution_count": 0,
      "outputs": []
    },
    {
      "cell_type": "code",
      "metadata": {
        "id": "knOoUhfbjA1u",
        "colab_type": "code",
        "colab": {}
      },
      "source": [
        "df_reviews_all[['REVIEWBODY', 'REVIEWDESCR']] = df.REVIEWBODY.str.rsplit(\",\", 1)"
      ],
      "execution_count": 0,
      "outputs": []
    }
  ]
}