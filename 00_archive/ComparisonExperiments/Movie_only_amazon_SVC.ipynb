{
 "cells": [
  {
   "cell_type": "code",
   "execution_count": 3,
   "outputs": [],
   "source": [
    "from Scripts import loading as dl, profiling as pf, preprocessing as prep\n",
    "import pandas as pd\n",
    "from sklearn.model_selection import train_test_split\n",
    "from collections import Counter\n",
    "from sklearn.feature_extraction.text import CountVectorizer, TfidfVectorizer\n",
    "from sklearn.feature_selection import SelectKBest, f_regression, mutual_info_regression, mutual_info_classif, f_classif\n",
    "from sklearn.linear_model import LogisticRegression\n",
    "\n",
    "from sklearn.svm import LinearSVC\n",
    "from sklearn import metrics\n",
    "import matplotlib.pyplot as plt\n",
    "from sklearn.metrics import plot_confusion_matrix"
   ],
   "metadata": {
    "collapsed": false,
    "pycharm": {
     "name": "#%%\n"
    }
   }
  },
  {
   "cell_type": "code",
   "execution_count": 2,
   "outputs": [],
   "source": [
    "amazon_link = '../Data/amazon_movie.pkl'\n",
    "df = dl.load_sampled(amazon_link, 10000)"
   ],
   "metadata": {
    "collapsed": false,
    "pycharm": {
     "name": "#%%\n"
    }
   }
  },
  {
   "cell_type": "code",
   "execution_count": 4,
   "outputs": [
    {
     "data": {
      "text/plain": "Empty DataFrame\nColumns: [text, label]\nIndex: []",
      "text/html": "<div>\n<style scoped>\n    .dataframe tbody tr th:only-of-type {\n        vertical-align: middle;\n    }\n\n    .dataframe tbody tr th {\n        vertical-align: top;\n    }\n\n    .dataframe thead th {\n        text-align: right;\n    }\n</style>\n<table border=\"1\" class=\"dataframe\">\n  <thead>\n    <tr style=\"text-align: right;\">\n      <th></th>\n      <th>text</th>\n      <th>label</th>\n    </tr>\n  </thead>\n  <tbody>\n  </tbody>\n</table>\n</div>"
     },
     "execution_count": 4,
     "metadata": {},
     "output_type": "execute_result"
    }
   ],
   "source": [
    "df[df['text'] == '']"
   ],
   "metadata": {
    "collapsed": false,
    "pycharm": {
     "name": "#%%\n"
    }
   }
  },
  {
   "cell_type": "code",
   "execution_count": 5,
   "outputs": [
    {
     "data": {
      "text/plain": "Empty DataFrame\nColumns: [text, label]\nIndex: []",
      "text/html": "<div>\n<style scoped>\n    .dataframe tbody tr th:only-of-type {\n        vertical-align: middle;\n    }\n\n    .dataframe tbody tr th {\n        vertical-align: top;\n    }\n\n    .dataframe thead th {\n        text-align: right;\n    }\n</style>\n<table border=\"1\" class=\"dataframe\">\n  <thead>\n    <tr style=\"text-align: right;\">\n      <th></th>\n      <th>text</th>\n      <th>label</th>\n    </tr>\n  </thead>\n  <tbody>\n  </tbody>\n</table>\n</div>"
     },
     "execution_count": 5,
     "metadata": {},
     "output_type": "execute_result"
    }
   ],
   "source": [
    "df[df.label.isnull()]"
   ],
   "metadata": {
    "collapsed": false,
    "pycharm": {
     "name": "#%%\n"
    }
   }
  },
  {
   "cell_type": "code",
   "execution_count": 6,
   "outputs": [
    {
     "data": {
      "text/plain": "                                                    text  label  word_count\n0      I did not learn after the first movie.  I boug...    1.0         102\n1      I won't review the movie because this has alre...    1.0         308\n2      never explained anything and the ending was th...    1.0          30\n3      pathetic acting and unrealistic jujitsu fight ...    1.0          28\n4      Incredible (as in unbelievable) that three suc...    1.0          83\n...                                                  ...    ...         ...\n49995  After Jaws and Close Encounters of the Third K...    5.0         315\n49996  Although this movie didn't hit top charts, if ...    5.0          64\n49997  Every once in a while a movie comes along that...    5.0         194\n49998  A superb film in the \"mayhem in the backwoods\"...    5.0          56\n49999  The picture was true to the book and enjoyable...    5.0          43\n\n[50000 rows x 3 columns]",
      "text/html": "<div>\n<style scoped>\n    .dataframe tbody tr th:only-of-type {\n        vertical-align: middle;\n    }\n\n    .dataframe tbody tr th {\n        vertical-align: top;\n    }\n\n    .dataframe thead th {\n        text-align: right;\n    }\n</style>\n<table border=\"1\" class=\"dataframe\">\n  <thead>\n    <tr style=\"text-align: right;\">\n      <th></th>\n      <th>text</th>\n      <th>label</th>\n      <th>word_count</th>\n    </tr>\n  </thead>\n  <tbody>\n    <tr>\n      <th>0</th>\n      <td>I did not learn after the first movie.  I boug...</td>\n      <td>1.0</td>\n      <td>102</td>\n    </tr>\n    <tr>\n      <th>1</th>\n      <td>I won't review the movie because this has alre...</td>\n      <td>1.0</td>\n      <td>308</td>\n    </tr>\n    <tr>\n      <th>2</th>\n      <td>never explained anything and the ending was th...</td>\n      <td>1.0</td>\n      <td>30</td>\n    </tr>\n    <tr>\n      <th>3</th>\n      <td>pathetic acting and unrealistic jujitsu fight ...</td>\n      <td>1.0</td>\n      <td>28</td>\n    </tr>\n    <tr>\n      <th>4</th>\n      <td>Incredible (as in unbelievable) that three suc...</td>\n      <td>1.0</td>\n      <td>83</td>\n    </tr>\n    <tr>\n      <th>...</th>\n      <td>...</td>\n      <td>...</td>\n      <td>...</td>\n    </tr>\n    <tr>\n      <th>49995</th>\n      <td>After Jaws and Close Encounters of the Third K...</td>\n      <td>5.0</td>\n      <td>315</td>\n    </tr>\n    <tr>\n      <th>49996</th>\n      <td>Although this movie didn't hit top charts, if ...</td>\n      <td>5.0</td>\n      <td>64</td>\n    </tr>\n    <tr>\n      <th>49997</th>\n      <td>Every once in a while a movie comes along that...</td>\n      <td>5.0</td>\n      <td>194</td>\n    </tr>\n    <tr>\n      <th>49998</th>\n      <td>A superb film in the \"mayhem in the backwoods\"...</td>\n      <td>5.0</td>\n      <td>56</td>\n    </tr>\n    <tr>\n      <th>49999</th>\n      <td>The picture was true to the book and enjoyable...</td>\n      <td>5.0</td>\n      <td>43</td>\n    </tr>\n  </tbody>\n</table>\n<p>50000 rows × 3 columns</p>\n</div>"
     },
     "execution_count": 6,
     "metadata": {},
     "output_type": "execute_result"
    }
   ],
   "source": [
    "pf.create_word_count(df)"
   ],
   "metadata": {
    "collapsed": false,
    "pycharm": {
     "name": "#%%\n"
    }
   }
  },
  {
   "cell_type": "code",
   "execution_count": 7,
   "outputs": [
    {
     "name": "stdout",
     "output_type": "stream",
     "text": [
      "The longest review text in our sample has 4306 words.\n",
      "Longest review text:\n",
      "\n",
      "49190    With the high sales of the first volume, WWE q...\n",
      "Name: text, dtype: object 49190    5.0\n",
      "Name: label, dtype: float64\n"
     ]
    }
   ],
   "source": [
    "pf.get_longest_review(df)"
   ],
   "metadata": {
    "collapsed": false,
    "pycharm": {
     "name": "#%%\n"
    }
   }
  },
  {
   "cell_type": "code",
   "execution_count": 8,
   "outputs": [
    {
     "name": "stdout",
     "output_type": "stream",
     "text": [
      "The shortest review text in our sample has 1 words.\n",
      "Review text with the shortest length of 1 word appearing 2 times.\n",
      "10330    Silly.\n",
      "44175    Great!\n",
      "Name: text, dtype: object 10330    2.0\n",
      "44175    5.0\n",
      "Name: label, dtype: float64\n"
     ]
    }
   ],
   "source": [
    "pf.get_shortest_review(df)"
   ],
   "metadata": {
    "collapsed": false,
    "pycharm": {
     "name": "#%%\n"
    }
   }
  },
  {
   "cell_type": "code",
   "execution_count": 9,
   "outputs": [
    {
     "data": {
      "text/plain": "<Figure size 432x288 with 1 Axes>",
      "image/png": "[encoded data removed]"
     },
     "metadata": {},
     "output_type": "display_data"
    }
   ],
   "source": [
    "pf.get_word_length_dist(df, 'Moview & TV', True)"
   ],
   "metadata": {
    "collapsed": false,
    "pycharm": {
     "name": "#%%\n"
    }
   }
  },
  {
   "cell_type": "code",
   "execution_count": 10,
   "outputs": [],
   "source": [
    "# PREPROCESSING\n",
    "df.text = prep.preprocess_reviews(df.text)"
   ],
   "metadata": {
    "collapsed": false,
    "pycharm": {
     "name": "#%%\n"
    }
   }
  },
  {
   "cell_type": "code",
   "execution_count": 11,
   "outputs": [
    {
     "data": {
      "text/plain": "'must say love beatl help hard day night got movi librari today terribl no plot music alright seem like everi movi made ringo seem center attent noth wrong georg coupl line movi say word weird slightli funni scene movi like john littl kid bu man sing stage stripper spaghetti scene nasti would not want buy movi cheap come beatl collect anyon realli want see moiv would get librari first stick hard day night help'"
     },
     "execution_count": 11,
     "metadata": {},
     "output_type": "execute_result"
    }
   ],
   "source": [
    "df.iloc[100].text"
   ],
   "metadata": {
    "collapsed": false,
    "pycharm": {
     "name": "#%%\n"
    }
   }
  },
  {
   "cell_type": "code",
   "execution_count": null,
   "outputs": [],
   "source": [
    "# classifier = LogReg, LinearSVC,\n",
    "# Feature selection: selectkbest (f_regression, mutual_info_regression, f_classif,"
   ],
   "metadata": {
    "collapsed": false,
    "pycharm": {
     "name": "#%%\n"
    }
   }
  },
  {
   "cell_type": "code",
   "execution_count": 12,
   "outputs": [
    {
     "name": "stdout",
     "output_type": "stream",
     "text": [
      "Feature size of TF-IDF:  524924\n"
     ]
    }
   ],
   "source": [
    "X_train, X_test, y_train, y_test = train_test_split(df.text, df.label, test_size=0.25,random_state=7, stratify=df.label)\n",
    "\n",
    "# vectorizer = TfidfVectorizer(min_df=2 ,max_df=0.8, use_idf=True,sublinear_tf=True, ngram_range=(1,3))\n",
    "vectorizer = CountVectorizer(min_df=2 ,max_df=0.8, ngram_range=(1,3))\n",
    "\n",
    "train_vectorized = vectorizer.fit_transform(X_train)\n",
    "vocab = vectorizer.get_feature_names()\n",
    "\n",
    "print (\"Feature size of TF-IDF: \", len(vocab))\n",
    "test_vectorized = vectorizer.transform(X_test)"
   ],
   "metadata": {
    "collapsed": false,
    "pycharm": {
     "name": "#%%\n"
    }
   }
  },
  {
   "cell_type": "code",
   "execution_count": null,
   "outputs": [
    {
     "name": "stdout",
     "output_type": "stream",
     "text": [
      "500\n"
     ]
    }
   ],
   "source": [
    "# vectorizer_chi2 = SelectKBest(chi2,k=3000)\n",
    "lst = [500, 1000, 1500, 2000, 2500, 3000, 3500, 4000, 4500, 5000, 5500, 6000, 6500, 7000, 7500, 8000]\n",
    "for i in lst:\n",
    "    vectorizer_fs = SelectKBest(score_func=f_classif(), k=i)\n",
    "\n",
    "    print(i)\n",
    "\n",
    "    fs_train_vectorized = vectorizer_fs.fit_transform(train_vectorized,y_train)\n",
    "    fs_test_vectorized = vectorizer_fs.transform(test_vectorized)\n",
    "\n",
    "    # Train the model using the training sets\n",
    "    # clf = LogisticRegression(C=1.0, dual=False, fit_intercept=True, random_state=0, solver='lbfgs', intercept_scaling=1, max_iter=100, multi_class='multinomial')\n",
    "    clf = LinearSVC(penalty='l2', loss='squared_hinge', dual=False, tol=0.0001, multi_class='ovr', fit_intercept=True, intercept_scaling=1, class_weight='balanced', verbose=0, random_state=123, max_iter=1000)\n",
    "    clf.fit(fs_train_vectorized, y_train)\n",
    "    #Predict the response for test dataset\n",
    "    y_pred = clf.predict(fs_test_vectorized)\n",
    "    print(\"Training and prediction done\")\n",
    "    print('Training target statistics: {}'.format(Counter(y_train), sorted(y_train)))\n",
    "    print('Testing target statistics: {}'.format(Counter(y_test), sorted(y_test)))\n",
    "\n",
    "    # Model Accuracy, how often is the classifier correct?\n",
    "    print(\"train: 75, text: 25\")\n",
    "    accuracy = str(metrics.accuracy_score(y_test, y_pred))\n",
    "    precision = str(metrics.precision_score(y_test, y_pred, average=\"macro\"))\n",
    "    f1 = str(metrics.f1_score(y_test, y_pred, average=\"macro\"))\n",
    "    print(\"Accuracy:\" + accuracy)\n",
    "    print(\"Precision:\" + precision)\n",
    "    print(\"F1:\" + f1)\n",
    "    print(pd.crosstab(y_test, y_pred))\n",
    "\n",
    "    # Visualization of Confusion Matrix and saving\n",
    "    plt.rcParams['figure.facecolor'] = 'white'\n",
    "    title = f\"Confusion matrix 75_25)\"\n",
    "    disp = plot_confusion_matrix(clf, fs_test_vectorized, y_test,\n",
    "                                 display_labels=[1.0, 2.0, 3.0, 4.0, 5.0],\n",
    "                                 cmap=plt.cm.Blues)\n",
    "    disp.ax_.set_title(title)\n",
    "    plt.show()\n",
    "\n",
    "    title_norm = title + \"_normalize\"\n",
    "    disp_norm = plot_confusion_matrix(clf, fs_test_vectorized, y_test,\n",
    "                                 display_labels=[1.0, 2.0, 3.0, 4.0, 5.0],\n",
    "                                 cmap=plt.cm.Blues,\n",
    "                                 normalize='true')\n",
    "    disp_norm.ax_.set_title(title_norm)\n",
    "    plt.show()\n"
   ],
   "metadata": {
    "collapsed": false,
    "pycharm": {
     "name": "#%%\n",
     "is_executing": true
    }
   }
  }
 ],
 "metadata": {
  "kernelspec": {
   "display_name": "Python 3",
   "language": "python",
   "name": "python3"
  },
  "language_info": {
   "codemirror_mode": {
    "name": "ipython",
    "version": 2
   },
   "file_extension": ".py",
   "mimetype": "text/x-python",
   "name": "python",
   "nbconvert_exporter": "python",
   "pygments_lexer": "ipython2",
   "version": "2.7.6"
  }
 },
 "nbformat": 4,
 "nbformat_minor": 0
}